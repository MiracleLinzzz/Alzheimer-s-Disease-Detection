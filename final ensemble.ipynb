{
 "cells": [
  {
   "cell_type": "code",
   "execution_count": 1,
   "id": "e20dc513-b2ea-45fc-8e02-68e41f5e97fc",
   "metadata": {},
   "outputs": [
    {
     "name": "stdout",
     "output_type": "stream",
     "text": [
      "\u001b[31mERROR: Invalid requirement: '!pip'\u001b[0m\u001b[31m\n",
      "\u001b[0mCollecting keras-tuner\n",
      "  Downloading keras_tuner-1.1.3-py3-none-any.whl (135 kB)\n",
      "\u001b[2K     \u001b[90m━━━━━━━━━━━━━━━━━━━━━━━━━━━━━━━━━━━━━━━\u001b[0m \u001b[32m135.7/135.7 kB\u001b[0m \u001b[31m4.8 MB/s\u001b[0m eta \u001b[36m0:00:00\u001b[0m\n",
      "\u001b[?25hRequirement already satisfied: packaging in /opt/conda/lib/python3.7/site-packages (from keras-tuner) (21.3)\n",
      "Collecting kt-legacy\n",
      "  Downloading kt_legacy-1.0.4-py3-none-any.whl (9.6 kB)\n",
      "Requirement already satisfied: numpy in /opt/conda/lib/python3.7/site-packages (from keras-tuner) (1.19.5)\n",
      "Collecting tensorboard\n",
      "  Downloading tensorboard-2.10.0-py3-none-any.whl (5.9 MB)\n",
      "\u001b[2K     \u001b[90m━━━━━━━━━━━━━━━━━━━━━━━━━━━━━━━━━━━━━━━━\u001b[0m \u001b[32m5.9/5.9 MB\u001b[0m \u001b[31m59.2 MB/s\u001b[0m eta \u001b[36m0:00:00\u001b[0m00:01\u001b[0m00:01\u001b[0m\n",
      "\u001b[?25hRequirement already satisfied: ipython in /opt/conda/lib/python3.7/site-packages (from keras-tuner) (7.33.0)\n",
      "Requirement already satisfied: requests in /opt/conda/lib/python3.7/site-packages (from keras-tuner) (2.28.1)\n",
      "Requirement already satisfied: setuptools>=18.5 in /opt/conda/lib/python3.7/site-packages (from ipython->keras-tuner) (59.8.0)\n",
      "Requirement already satisfied: pygments in /opt/conda/lib/python3.7/site-packages (from ipython->keras-tuner) (2.12.0)\n",
      "Requirement already satisfied: jedi>=0.16 in /opt/conda/lib/python3.7/site-packages (from ipython->keras-tuner) (0.18.1)\n",
      "Requirement already satisfied: prompt-toolkit!=3.0.0,!=3.0.1,<3.1.0,>=2.0.0 in /opt/conda/lib/python3.7/site-packages (from ipython->keras-tuner) (3.0.30)\n",
      "Requirement already satisfied: pickleshare in /opt/conda/lib/python3.7/site-packages (from ipython->keras-tuner) (0.7.5)\n",
      "Requirement already satisfied: matplotlib-inline in /opt/conda/lib/python3.7/site-packages (from ipython->keras-tuner) (0.1.3)\n",
      "Requirement already satisfied: traitlets>=4.2 in /opt/conda/lib/python3.7/site-packages (from ipython->keras-tuner) (5.3.0)\n",
      "Requirement already satisfied: pexpect>4.3 in /opt/conda/lib/python3.7/site-packages (from ipython->keras-tuner) (4.8.0)\n",
      "Requirement already satisfied: backcall in /opt/conda/lib/python3.7/site-packages (from ipython->keras-tuner) (0.2.0)\n",
      "Requirement already satisfied: decorator in /opt/conda/lib/python3.7/site-packages (from ipython->keras-tuner) (5.1.1)\n",
      "Requirement already satisfied: pyparsing!=3.0.5,>=2.0.2 in /opt/conda/lib/python3.7/site-packages (from packaging->keras-tuner) (3.0.9)\n",
      "Requirement already satisfied: idna<4,>=2.5 in /opt/conda/lib/python3.7/site-packages (from requests->keras-tuner) (3.3)\n",
      "Requirement already satisfied: charset-normalizer<3,>=2 in /opt/conda/lib/python3.7/site-packages (from requests->keras-tuner) (2.1.0)\n",
      "Requirement already satisfied: urllib3<1.27,>=1.21.1 in /opt/conda/lib/python3.7/site-packages (from requests->keras-tuner) (1.26.11)\n",
      "Requirement already satisfied: certifi>=2017.4.17 in /opt/conda/lib/python3.7/site-packages (from requests->keras-tuner) (2022.6.15)\n",
      "Collecting google-auth-oauthlib<0.5,>=0.4.1\n",
      "  Downloading google_auth_oauthlib-0.4.6-py2.py3-none-any.whl (18 kB)\n",
      "Requirement already satisfied: grpcio>=1.24.3 in /opt/conda/lib/python3.7/site-packages (from tensorboard->keras-tuner) (1.48.0)\n",
      "Collecting tensorboard-plugin-wit>=1.6.0\n",
      "  Downloading tensorboard_plugin_wit-1.8.1-py3-none-any.whl (781 kB)\n",
      "\u001b[2K     \u001b[90m━━━━━━━━━━━━━━━━━━━━━━━━━━━━━━━━━━━━━━\u001b[0m \u001b[32m781.3/781.3 kB\u001b[0m \u001b[31m49.9 MB/s\u001b[0m eta \u001b[36m0:00:00\u001b[0m\n",
      "\u001b[?25hCollecting tensorboard-data-server<0.7.0,>=0.6.0\n",
      "  Downloading tensorboard_data_server-0.6.1-py3-none-manylinux2010_x86_64.whl (4.9 MB)\n",
      "\u001b[2K     \u001b[90m━━━━━━━━━━━━━━━━━━━━━━━━━━━━━━━━━━━━━━━━\u001b[0m \u001b[32m4.9/4.9 MB\u001b[0m \u001b[31m87.5 MB/s\u001b[0m eta \u001b[36m0:00:00\u001b[0m:00:01\u001b[0m\n",
      "\u001b[?25hRequirement already satisfied: google-auth<3,>=1.6.3 in /opt/conda/lib/python3.7/site-packages (from tensorboard->keras-tuner) (2.10.0)\n",
      "Requirement already satisfied: markdown>=2.6.8 in /opt/conda/lib/python3.7/site-packages (from tensorboard->keras-tuner) (3.4.1)\n",
      "Collecting absl-py>=0.4\n",
      "  Downloading absl_py-1.2.0-py3-none-any.whl (123 kB)\n",
      "\u001b[2K     \u001b[90m━━━━━━━━━━━━━━━━━━━━━━━━━━━━━━━━━━━━━━\u001b[0m \u001b[32m123.4/123.4 kB\u001b[0m \u001b[31m17.4 MB/s\u001b[0m eta \u001b[36m0:00:00\u001b[0m\n",
      "\u001b[?25hRequirement already satisfied: wheel>=0.26 in /opt/conda/lib/python3.7/site-packages (from tensorboard->keras-tuner) (0.37.1)\n",
      "Collecting protobuf<3.20,>=3.9.2\n",
      "  Downloading protobuf-3.19.4-cp37-cp37m-manylinux_2_17_x86_64.manylinux2014_x86_64.whl (1.1 MB)\n",
      "\u001b[2K     \u001b[90m━━━━━━━━━━━━━━━━━━━━━━━━━━━━━━━━━━━━━━━━\u001b[0m \u001b[32m1.1/1.1 MB\u001b[0m \u001b[31m73.8 MB/s\u001b[0m eta \u001b[36m0:00:00\u001b[0m\n",
      "\u001b[?25hCollecting werkzeug>=1.0.1\n",
      "  Downloading Werkzeug-2.2.2-py3-none-any.whl (232 kB)\n",
      "\u001b[2K     \u001b[90m━━━━━━━━━━━━━━━━━━━━━━━━━━━━━━━━━━━━━━\u001b[0m \u001b[32m232.7/232.7 kB\u001b[0m \u001b[31m32.7 MB/s\u001b[0m eta \u001b[36m0:00:00\u001b[0m\n",
      "\u001b[?25hRequirement already satisfied: six>=1.9.0 in /opt/conda/lib/python3.7/site-packages (from google-auth<3,>=1.6.3->tensorboard->keras-tuner) (1.16.0)\n",
      "Requirement already satisfied: cachetools<6.0,>=2.0.0 in /opt/conda/lib/python3.7/site-packages (from google-auth<3,>=1.6.3->tensorboard->keras-tuner) (5.0.0)\n",
      "Requirement already satisfied: pyasn1-modules>=0.2.1 in /opt/conda/lib/python3.7/site-packages (from google-auth<3,>=1.6.3->tensorboard->keras-tuner) (0.2.7)\n",
      "Requirement already satisfied: rsa<5,>=3.1.4 in /opt/conda/lib/python3.7/site-packages (from google-auth<3,>=1.6.3->tensorboard->keras-tuner) (4.9)\n",
      "Requirement already satisfied: requests-oauthlib>=0.7.0 in /opt/conda/lib/python3.7/site-packages (from google-auth-oauthlib<0.5,>=0.4.1->tensorboard->keras-tuner) (1.3.1)\n",
      "Requirement already satisfied: parso<0.9.0,>=0.8.0 in /opt/conda/lib/python3.7/site-packages (from jedi>=0.16->ipython->keras-tuner) (0.8.3)\n",
      "Requirement already satisfied: importlib-metadata>=4.4 in /opt/conda/lib/python3.7/site-packages (from markdown>=2.6.8->tensorboard->keras-tuner) (4.11.4)\n",
      "Requirement already satisfied: ptyprocess>=0.5 in /opt/conda/lib/python3.7/site-packages (from pexpect>4.3->ipython->keras-tuner) (0.7.0)\n",
      "Requirement already satisfied: wcwidth in /opt/conda/lib/python3.7/site-packages (from prompt-toolkit!=3.0.0,!=3.0.1,<3.1.0,>=2.0.0->ipython->keras-tuner) (0.2.5)\n",
      "Requirement already satisfied: MarkupSafe>=2.1.1 in /opt/conda/lib/python3.7/site-packages (from werkzeug>=1.0.1->tensorboard->keras-tuner) (2.1.1)\n",
      "Requirement already satisfied: zipp>=0.5 in /opt/conda/lib/python3.7/site-packages (from importlib-metadata>=4.4->markdown>=2.6.8->tensorboard->keras-tuner) (3.8.1)\n",
      "Requirement already satisfied: typing-extensions>=3.6.4 in /opt/conda/lib/python3.7/site-packages (from importlib-metadata>=4.4->markdown>=2.6.8->tensorboard->keras-tuner) (4.3.0)\n",
      "Requirement already satisfied: pyasn1<0.5.0,>=0.4.6 in /opt/conda/lib/python3.7/site-packages (from pyasn1-modules>=0.2.1->google-auth<3,>=1.6.3->tensorboard->keras-tuner) (0.4.8)\n",
      "Requirement already satisfied: oauthlib>=3.0.0 in /opt/conda/lib/python3.7/site-packages (from requests-oauthlib>=0.7.0->google-auth-oauthlib<0.5,>=0.4.1->tensorboard->keras-tuner) (3.2.0)\n",
      "Installing collected packages: tensorboard-plugin-wit, kt-legacy, werkzeug, tensorboard-data-server, protobuf, absl-py, google-auth-oauthlib, tensorboard, keras-tuner\n",
      "  Attempting uninstall: protobuf\n",
      "    Found existing installation: protobuf 3.20.1\n",
      "    Uninstalling protobuf-3.20.1:\n",
      "\u001b[31mERROR: Could not install packages due to an OSError: [Errno 13] Permission denied: 'message_factory.py'\n",
      "Consider using the `--user` option or check the permissions.\n",
      "\u001b[0m\u001b[31m\n",
      "\u001b[0mCollecting print_schema\n",
      "  Downloading print_schema-1.1.1-py3-none-any.whl (6.2 kB)\n",
      "Requirement already satisfied: requests in /opt/conda/lib/python3.7/site-packages (from print_schema) (2.28.1)\n",
      "Requirement already satisfied: certifi>=2017.4.17 in /opt/conda/lib/python3.7/site-packages (from requests->print_schema) (2022.6.15)\n",
      "Requirement already satisfied: idna<4,>=2.5 in /opt/conda/lib/python3.7/site-packages (from requests->print_schema) (3.3)\n",
      "Requirement already satisfied: urllib3<1.27,>=1.21.1 in /opt/conda/lib/python3.7/site-packages (from requests->print_schema) (1.26.11)\n",
      "Requirement already satisfied: charset-normalizer<3,>=2 in /opt/conda/lib/python3.7/site-packages (from requests->print_schema) (2.1.0)\n",
      "Installing collected packages: print_schema\n",
      "Successfully installed print_schema-1.1.1\n",
      "Collecting pydub\n",
      "  Downloading pydub-0.25.1-py2.py3-none-any.whl (32 kB)\n",
      "Installing collected packages: pydub\n",
      "Successfully installed pydub-0.25.1\n",
      "Collecting opensmile\n",
      "  Downloading opensmile-2.4.1-py3-none-any.whl (4.5 MB)\n",
      "\u001b[2K     \u001b[90m━━━━━━━━━━━━━━━━━━━━━━━━━━━━━━━━━━━━━━━━\u001b[0m \u001b[32m4.5/4.5 MB\u001b[0m \u001b[31m36.9 MB/s\u001b[0m eta \u001b[36m0:00:00\u001b[0m00:01\u001b[0m00:01\u001b[0m\n",
      "\u001b[?25hCollecting audinterface>=0.7.0\n",
      "  Downloading audinterface-0.9.1-py3-none-any.whl (30 kB)\n",
      "Collecting audobject>=0.6.1\n",
      "  Downloading audobject-0.7.5-py3-none-any.whl (24 kB)\n",
      "Collecting audresample<2.0.0,>=1.1.0\n",
      "  Downloading audresample-1.1.0-py3-none-any.whl (635 kB)\n",
      "\u001b[2K     \u001b[90m━━━━━━━━━━━━━━━━━━━━━━━━━━━━━━━━━━━━━━\u001b[0m \u001b[32m635.9/635.9 kB\u001b[0m \u001b[31m50.6 MB/s\u001b[0m eta \u001b[36m0:00:00\u001b[0m\n",
      "\u001b[?25hCollecting audformat<2.0.0,>=0.12.1\n",
      "  Downloading audformat-0.14.3-py3-none-any.whl (48 kB)\n",
      "\u001b[2K     \u001b[90m━━━━━━━━━━━━━━━━━━━━━━━━━━━━━━━━━━━━━━━━\u001b[0m \u001b[32m48.9/48.9 kB\u001b[0m \u001b[31m9.0 MB/s\u001b[0m eta \u001b[36m0:00:00\u001b[0m\n",
      "\u001b[?25hRequirement already satisfied: importlib-metadata>=4.8.0 in /opt/conda/lib/python3.7/site-packages (from audobject>=0.6.1->opensmile) (4.11.4)\n",
      "Collecting audeer>=1.18.0\n",
      "  Downloading audeer-1.18.0-py3-none-any.whl (20 kB)\n",
      "Collecting oyaml\n",
      "  Downloading oyaml-1.0-py2.py3-none-any.whl (3.0 kB)\n",
      "Requirement already satisfied: tqdm in /opt/conda/lib/python3.7/site-packages (from audeer>=1.18.0->audobject>=0.6.1->opensmile) (4.64.0)\n",
      "Collecting audiofile>=0.4.0\n",
      "  Downloading audiofile-1.1.0-py3-none-any.whl (11 kB)\n",
      "Collecting iso-639\n",
      "  Downloading iso-639-0.4.5.tar.gz (167 kB)\n",
      "\u001b[2K     \u001b[90m━━━━━━━━━━━━━━━━━━━━━━━━━━━━━━━━━━━━━━\u001b[0m \u001b[32m167.4/167.4 kB\u001b[0m \u001b[31m27.4 MB/s\u001b[0m eta \u001b[36m0:00:00\u001b[0m\n",
      "\u001b[?25h  Preparing metadata (setup.py) ... \u001b[?25ldone\n",
      "\u001b[?25hRequirement already satisfied: pandas!=1.3.0,!=1.3.1,!=1.3.2,!=1.3.3,!=1.4.0,>=1.1.5 in /opt/conda/lib/python3.7/site-packages (from audformat<2.0.0,>=0.12.1->audinterface>=0.7.0->opensmile) (1.3.5)\n",
      "Requirement already satisfied: pyyaml>=5.4.1 in /opt/conda/lib/python3.7/site-packages (from audformat<2.0.0,>=0.12.1->audinterface>=0.7.0->opensmile) (6.0)\n",
      "Collecting iso3166\n",
      "  Downloading iso3166-2.1.1-py3-none-any.whl (9.8 kB)\n",
      "Requirement already satisfied: numpy in /opt/conda/lib/python3.7/site-packages (from audresample<2.0.0,>=1.1.0->audinterface>=0.7.0->opensmile) (1.19.5)\n",
      "Requirement already satisfied: typing-extensions>=3.6.4 in /opt/conda/lib/python3.7/site-packages (from importlib-metadata>=4.8.0->audobject>=0.6.1->opensmile) (4.3.0)\n",
      "Requirement already satisfied: zipp>=0.5 in /opt/conda/lib/python3.7/site-packages (from importlib-metadata>=4.8.0->audobject>=0.6.1->opensmile) (3.8.1)\n",
      "Collecting sox\n",
      "  Downloading sox-1.4.1-py2.py3-none-any.whl (39 kB)\n",
      "Collecting soundfile\n",
      "  Downloading SoundFile-0.10.3.post1-py2.py3-none-any.whl (21 kB)\n",
      "Requirement already satisfied: python-dateutil>=2.7.3 in /opt/conda/lib/python3.7/site-packages (from pandas!=1.3.0,!=1.3.1,!=1.3.2,!=1.3.3,!=1.4.0,>=1.1.5->audformat<2.0.0,>=0.12.1->audinterface>=0.7.0->opensmile) (2.8.2)\n",
      "Requirement already satisfied: pytz>=2017.3 in /opt/conda/lib/python3.7/site-packages (from pandas!=1.3.0,!=1.3.1,!=1.3.2,!=1.3.3,!=1.4.0,>=1.1.5->audformat<2.0.0,>=0.12.1->audinterface>=0.7.0->opensmile) (2022.1)\n",
      "Requirement already satisfied: six>=1.5 in /opt/conda/lib/python3.7/site-packages (from python-dateutil>=2.7.3->pandas!=1.3.0,!=1.3.1,!=1.3.2,!=1.3.3,!=1.4.0,>=1.1.5->audformat<2.0.0,>=0.12.1->audinterface>=0.7.0->opensmile) (1.16.0)\n",
      "Requirement already satisfied: cffi>=1.0 in /opt/conda/lib/python3.7/site-packages (from soundfile->audiofile>=0.4.0->audformat<2.0.0,>=0.12.1->audinterface>=0.7.0->opensmile) (1.15.1)\n",
      "Requirement already satisfied: pycparser in /opt/conda/lib/python3.7/site-packages (from cffi>=1.0->soundfile->audiofile>=0.4.0->audformat<2.0.0,>=0.12.1->audinterface>=0.7.0->opensmile) (2.21)\n",
      "Building wheels for collected packages: iso-639\n",
      "  Building wheel for iso-639 (setup.py) ... \u001b[?25ldone\n",
      "\u001b[?25h  Created wheel for iso-639: filename=iso_639-0.4.5-py3-none-any.whl size=169061 sha256=d61eca3129ff19b135c6c1daf486b15ab56d3ccba0dddefc800f2b084548b8a0\n",
      "  Stored in directory: /home/jupyter/.cache/pip/wheels/47/60/19/6d020fc92138ed1b113a18271e83ea4b5525fe770cb45b9a2e\n",
      "Successfully built iso-639\n",
      "Installing collected packages: iso-639, sox, oyaml, iso3166, audresample, audeer, soundfile, audobject, audiofile, audformat, audinterface, opensmile\n",
      "Successfully installed audeer-1.18.0 audformat-0.14.3 audinterface-0.9.1 audiofile-1.1.0 audobject-0.7.5 audresample-1.1.0 iso-639-0.4.5 iso3166-2.1.1 opensmile-2.4.1 oyaml-1.0 soundfile-0.10.3.post1 sox-1.4.1\n",
      "Requirement already satisfied: tqdm in /opt/conda/lib/python3.7/site-packages (4.64.0)\n",
      "Collecting boto3\n",
      "  Downloading boto3-1.24.54-py3-none-any.whl (132 kB)\n",
      "\u001b[2K     \u001b[90m━━━━━━━━━━━━━━━━━━━━━━━━━━━━━━━━━━━━━━━\u001b[0m \u001b[32m132.5/132.5 kB\u001b[0m \u001b[31m5.1 MB/s\u001b[0m eta \u001b[36m0:00:00\u001b[0m\n",
      "\u001b[?25hRequirement already satisfied: requests in /opt/conda/lib/python3.7/site-packages (2.28.1)\n",
      "Collecting regex\n",
      "  Downloading regex-2022.8.17-cp37-cp37m-manylinux_2_17_x86_64.manylinux2014_x86_64.whl (752 kB)\n",
      "\u001b[2K     \u001b[90m━━━━━━━━━━━━━━━━━━━━━━━━━━━━━━━━━━━━━━\u001b[0m \u001b[32m752.6/752.6 kB\u001b[0m \u001b[31m23.1 MB/s\u001b[0m eta \u001b[36m0:00:00\u001b[0m\n",
      "\u001b[?25hCollecting sentencepiece\n",
      "  Downloading sentencepiece-0.1.97-cp37-cp37m-manylinux_2_17_x86_64.manylinux2014_x86_64.whl (1.3 MB)\n",
      "\u001b[2K     \u001b[90m━━━━━━━━━━━━━━━━━━━━━━━━━━━━━━━━━━━━━━━━\u001b[0m \u001b[32m1.3/1.3 MB\u001b[0m \u001b[31m57.3 MB/s\u001b[0m eta \u001b[36m0:00:00\u001b[0m\n",
      "\u001b[?25hCollecting sacremoses\n",
      "  Downloading sacremoses-0.0.53.tar.gz (880 kB)\n",
      "\u001b[2K     \u001b[90m━━━━━━━━━━━━━━━━━━━━━━━━━━━━━━━━━━━━━━\u001b[0m \u001b[32m880.6/880.6 kB\u001b[0m \u001b[31m66.5 MB/s\u001b[0m eta \u001b[36m0:00:00\u001b[0m\n",
      "\u001b[?25h  Preparing metadata (setup.py) ... \u001b[?25ldone\n",
      "\u001b[?25hCollecting s3transfer<0.7.0,>=0.6.0\n",
      "  Downloading s3transfer-0.6.0-py3-none-any.whl (79 kB)\n",
      "\u001b[2K     \u001b[90m━━━━━━━━━━━━━━━━━━━━━━━━━━━━━━━━━━━━━━━━\u001b[0m \u001b[32m79.6/79.6 kB\u001b[0m \u001b[31m12.1 MB/s\u001b[0m eta \u001b[36m0:00:00\u001b[0m\n",
      "\u001b[?25hCollecting jmespath<2.0.0,>=0.7.1\n",
      "  Downloading jmespath-1.0.1-py3-none-any.whl (20 kB)\n",
      "Collecting botocore<1.28.0,>=1.27.54\n",
      "  Downloading botocore-1.27.54-py3-none-any.whl (9.1 MB)\n",
      "\u001b[2K     \u001b[90m━━━━━━━━━━━━━━━━━━━━━━━━━━━━━━━━━━━━━━━━\u001b[0m \u001b[32m9.1/9.1 MB\u001b[0m \u001b[31m82.4 MB/s\u001b[0m eta \u001b[36m0:00:00\u001b[0m:00:01\u001b[0m00:01\u001b[0m\n",
      "\u001b[?25hRequirement already satisfied: idna<4,>=2.5 in /opt/conda/lib/python3.7/site-packages (from requests) (3.3)\n",
      "Requirement already satisfied: charset-normalizer<3,>=2 in /opt/conda/lib/python3.7/site-packages (from requests) (2.1.0)\n",
      "Requirement already satisfied: certifi>=2017.4.17 in /opt/conda/lib/python3.7/site-packages (from requests) (2022.6.15)\n",
      "Requirement already satisfied: urllib3<1.27,>=1.21.1 in /opt/conda/lib/python3.7/site-packages (from requests) (1.26.11)\n",
      "Requirement already satisfied: six in /opt/conda/lib/python3.7/site-packages (from sacremoses) (1.16.0)\n",
      "Requirement already satisfied: click in /opt/conda/lib/python3.7/site-packages (from sacremoses) (8.1.3)\n",
      "Requirement already satisfied: joblib in /opt/conda/lib/python3.7/site-packages (from sacremoses) (1.1.0)\n",
      "Requirement already satisfied: python-dateutil<3.0.0,>=2.1 in /opt/conda/lib/python3.7/site-packages (from botocore<1.28.0,>=1.27.54->boto3) (2.8.2)\n",
      "Requirement already satisfied: importlib-metadata in /opt/conda/lib/python3.7/site-packages (from click->sacremoses) (4.11.4)\n",
      "Requirement already satisfied: zipp>=0.5 in /opt/conda/lib/python3.7/site-packages (from importlib-metadata->click->sacremoses) (3.8.1)\n",
      "Requirement already satisfied: typing-extensions>=3.6.4 in /opt/conda/lib/python3.7/site-packages (from importlib-metadata->click->sacremoses) (4.3.0)\n",
      "Building wheels for collected packages: sacremoses\n",
      "  Building wheel for sacremoses (setup.py) ... \u001b[?25ldone\n",
      "\u001b[?25h  Created wheel for sacremoses: filename=sacremoses-0.0.53-py3-none-any.whl size=895260 sha256=2319c6a4e5e9cde6db68cb14111b4bad5aaefc42cb08545bc3a1164d872e9be1\n",
      "  Stored in directory: /home/jupyter/.cache/pip/wheels/87/39/dd/a83eeef36d0bf98e7a4d1933a4ad2d660295a40613079bafc9\n",
      "Successfully built sacremoses\n",
      "Installing collected packages: sentencepiece, regex, jmespath, botocore, sacremoses, s3transfer, boto3\n",
      "Successfully installed boto3-1.24.54 botocore-1.27.54 jmespath-1.0.1 regex-2022.8.17 s3transfer-0.6.0 sacremoses-0.0.53 sentencepiece-0.1.97\n",
      "Collecting transformers\n",
      "  Downloading transformers-4.21.1-py3-none-any.whl (4.7 MB)\n",
      "\u001b[2K     \u001b[90m━━━━━━━━━━━━━━━━━━━━━━━━━━━━━━━━━━━━━━━━\u001b[0m \u001b[32m4.7/4.7 MB\u001b[0m \u001b[31m46.7 MB/s\u001b[0m eta \u001b[36m0:00:00\u001b[0ma \u001b[36m0:00:01\u001b[0m\n",
      "\u001b[?25hRequirement already satisfied: regex!=2019.12.17 in /opt/conda/lib/python3.7/site-packages (from transformers) (2022.8.17)\n",
      "Requirement already satisfied: importlib-metadata in /opt/conda/lib/python3.7/site-packages (from transformers) (4.11.4)\n",
      "Collecting filelock\n",
      "  Downloading filelock-3.8.0-py3-none-any.whl (10 kB)\n",
      "Requirement already satisfied: tqdm>=4.27 in /opt/conda/lib/python3.7/site-packages (from transformers) (4.64.0)\n",
      "Requirement already satisfied: numpy>=1.17 in /opt/conda/lib/python3.7/site-packages (from transformers) (1.19.5)\n",
      "Requirement already satisfied: pyyaml>=5.1 in /opt/conda/lib/python3.7/site-packages (from transformers) (6.0)\n",
      "Collecting tokenizers!=0.11.3,<0.13,>=0.11.1\n",
      "  Downloading tokenizers-0.12.1-cp37-cp37m-manylinux_2_12_x86_64.manylinux2010_x86_64.whl (6.6 MB)\n",
      "\u001b[2K     \u001b[90m━━━━━━━━━━━━━━━━━━━━━━━━━━━━━━━━━━━━━━━━\u001b[0m \u001b[32m6.6/6.6 MB\u001b[0m \u001b[31m91.7 MB/s\u001b[0m eta \u001b[36m0:00:00\u001b[0m:00:01\u001b[0m00:01\u001b[0m\n",
      "\u001b[?25hCollecting huggingface-hub<1.0,>=0.1.0\n",
      "  Downloading huggingface_hub-0.8.1-py3-none-any.whl (101 kB)\n",
      "\u001b[2K     \u001b[90m━━━━━━━━━━━━━━━━━━━━━━━━━━━━━━━━━━━━━━\u001b[0m \u001b[32m101.5/101.5 kB\u001b[0m \u001b[31m15.0 MB/s\u001b[0m eta \u001b[36m0:00:00\u001b[0m\n",
      "\u001b[?25hRequirement already satisfied: requests in /opt/conda/lib/python3.7/site-packages (from transformers) (2.28.1)\n",
      "Requirement already satisfied: packaging>=20.0 in /opt/conda/lib/python3.7/site-packages (from transformers) (21.3)\n",
      "Requirement already satisfied: typing-extensions>=3.7.4.3 in /opt/conda/lib/python3.7/site-packages (from huggingface-hub<1.0,>=0.1.0->transformers) (4.3.0)\n",
      "Requirement already satisfied: pyparsing!=3.0.5,>=2.0.2 in /opt/conda/lib/python3.7/site-packages (from packaging>=20.0->transformers) (3.0.9)\n",
      "Requirement already satisfied: zipp>=0.5 in /opt/conda/lib/python3.7/site-packages (from importlib-metadata->transformers) (3.8.1)\n",
      "Requirement already satisfied: certifi>=2017.4.17 in /opt/conda/lib/python3.7/site-packages (from requests->transformers) (2022.6.15)\n",
      "Requirement already satisfied: idna<4,>=2.5 in /opt/conda/lib/python3.7/site-packages (from requests->transformers) (3.3)\n",
      "Requirement already satisfied: charset-normalizer<3,>=2 in /opt/conda/lib/python3.7/site-packages (from requests->transformers) (2.1.0)\n",
      "Requirement already satisfied: urllib3<1.27,>=1.21.1 in /opt/conda/lib/python3.7/site-packages (from requests->transformers) (1.26.11)\n",
      "Installing collected packages: tokenizers, filelock, huggingface-hub, transformers\n",
      "Successfully installed filelock-3.8.0 huggingface-hub-0.8.1 tokenizers-0.12.1 transformers-4.21.1\n",
      "Collecting wandb\n",
      "  Downloading wandb-0.13.1-py2.py3-none-any.whl (1.8 MB)\n",
      "\u001b[2K     \u001b[90m━━━━━━━━━━━━━━━━━━━━━━━━━━━━━━━━━━━━━━━━\u001b[0m \u001b[32m1.8/1.8 MB\u001b[0m \u001b[31m25.2 MB/s\u001b[0m eta \u001b[36m0:00:00\u001b[0m00:01\u001b[0m00:01\u001b[0m\n",
      "\u001b[?25hRequirement already satisfied: setuptools in /opt/conda/lib/python3.7/site-packages (from wandb) (59.8.0)\n",
      "Collecting sentry-sdk>=1.0.0\n",
      "  Downloading sentry_sdk-1.9.5-py2.py3-none-any.whl (157 kB)\n",
      "\u001b[2K     \u001b[90m━━━━━━━━━━━━━━━━━━━━━━━━━━━━━━━━━━━━━━\u001b[0m \u001b[32m157.6/157.6 kB\u001b[0m \u001b[31m19.4 MB/s\u001b[0m eta \u001b[36m0:00:00\u001b[0m\n",
      "\u001b[?25hCollecting shortuuid>=0.5.0\n",
      "  Downloading shortuuid-1.0.9-py3-none-any.whl (9.4 kB)\n",
      "Requirement already satisfied: six>=1.13.0 in /opt/conda/lib/python3.7/site-packages (from wandb) (1.16.0)\n",
      "Requirement already satisfied: protobuf<4.0dev,>=3.12.0 in /opt/conda/lib/python3.7/site-packages (from wandb) (3.20.1)\n",
      "Requirement already satisfied: PyYAML in /opt/conda/lib/python3.7/site-packages (from wandb) (6.0)\n",
      "Requirement already satisfied: docker-pycreds>=0.4.0 in /opt/conda/lib/python3.7/site-packages (from wandb) (0.4.0)\n",
      "Requirement already satisfied: GitPython>=1.0.0 in /opt/conda/lib/python3.7/site-packages (from wandb) (3.1.27)\n",
      "Collecting setproctitle\n",
      "  Downloading setproctitle-1.3.2-cp37-cp37m-manylinux_2_5_x86_64.manylinux1_x86_64.manylinux_2_17_x86_64.manylinux2014_x86_64.whl (30 kB)\n",
      "Collecting promise<3,>=2.0\n",
      "  Downloading promise-2.3.tar.gz (19 kB)\n",
      "  Preparing metadata (setup.py) ... \u001b[?25ldone\n",
      "\u001b[?25hRequirement already satisfied: psutil>=5.0.0 in /opt/conda/lib/python3.7/site-packages (from wandb) (5.9.1)\n",
      "Collecting pathtools\n",
      "  Downloading pathtools-0.1.2.tar.gz (11 kB)\n",
      "  Preparing metadata (setup.py) ... \u001b[?25ldone\n",
      "\u001b[?25hRequirement already satisfied: Click!=8.0.0,>=7.0 in /opt/conda/lib/python3.7/site-packages (from wandb) (8.1.3)\n",
      "Requirement already satisfied: requests<3,>=2.0.0 in /opt/conda/lib/python3.7/site-packages (from wandb) (2.28.1)\n",
      "Requirement already satisfied: importlib-metadata in /opt/conda/lib/python3.7/site-packages (from Click!=8.0.0,>=7.0->wandb) (4.11.4)\n",
      "Requirement already satisfied: typing-extensions>=3.7.4.3 in /opt/conda/lib/python3.7/site-packages (from GitPython>=1.0.0->wandb) (4.3.0)\n",
      "Requirement already satisfied: gitdb<5,>=4.0.1 in /opt/conda/lib/python3.7/site-packages (from GitPython>=1.0.0->wandb) (4.0.9)\n",
      "Requirement already satisfied: charset-normalizer<3,>=2 in /opt/conda/lib/python3.7/site-packages (from requests<3,>=2.0.0->wandb) (2.1.0)\n",
      "Requirement already satisfied: urllib3<1.27,>=1.21.1 in /opt/conda/lib/python3.7/site-packages (from requests<3,>=2.0.0->wandb) (1.26.11)\n",
      "Requirement already satisfied: idna<4,>=2.5 in /opt/conda/lib/python3.7/site-packages (from requests<3,>=2.0.0->wandb) (3.3)\n",
      "Requirement already satisfied: certifi>=2017.4.17 in /opt/conda/lib/python3.7/site-packages (from requests<3,>=2.0.0->wandb) (2022.6.15)\n",
      "Requirement already satisfied: smmap<6,>=3.0.1 in /opt/conda/lib/python3.7/site-packages (from gitdb<5,>=4.0.1->GitPython>=1.0.0->wandb) (3.0.5)\n",
      "Requirement already satisfied: zipp>=0.5 in /opt/conda/lib/python3.7/site-packages (from importlib-metadata->Click!=8.0.0,>=7.0->wandb) (3.8.1)\n",
      "Building wheels for collected packages: promise, pathtools\n",
      "  Building wheel for promise (setup.py) ... \u001b[?25ldone\n",
      "\u001b[?25h  Created wheel for promise: filename=promise-2.3-py3-none-any.whl size=21503 sha256=7b78be19637b2e3d8b4977d601df21c53f54ae4c730f24bcfb6146cdb5dd6c5d\n",
      "  Stored in directory: /home/jupyter/.cache/pip/wheels/29/93/c6/762e359f8cb6a5b69c72235d798804cae523bbe41c2aa8333d\n",
      "  Building wheel for pathtools (setup.py) ... \u001b[?25ldone\n",
      "\u001b[?25h  Created wheel for pathtools: filename=pathtools-0.1.2-py3-none-any.whl size=8806 sha256=adc137248e5a8eec2ec025a59b647942ce51a11b671b8bdcaf8f1f2cd6439ccc\n",
      "  Stored in directory: /home/jupyter/.cache/pip/wheels/3e/31/09/fa59cef12cdcfecc627b3d24273699f390e71828921b2cbba2\n",
      "Successfully built promise pathtools\n",
      "Installing collected packages: pathtools, shortuuid, setproctitle, sentry-sdk, promise, wandb\n",
      "Successfully installed pathtools-0.1.2 promise-2.3 sentry-sdk-1.9.5 setproctitle-1.3.2 shortuuid-1.0.9 wandb-0.13.1\n"
     ]
    }
   ],
   "source": [
    "!pip install tensorflow_io\n",
    "!pip install keras-tuner\n",
    "!pip install print_schema\n",
    "!pip install pydub\n",
    "!pip install opensmile\n",
    "!pip install tqdm boto3 requests regex sentencepiece sacremoses\n",
    "!pip install transformers\n",
    "!pip install wandb"
   ]
  },
  {
   "cell_type": "code",
   "execution_count": 2,
   "id": "0e6c0079-14cb-4581-a919-47ad9ac8daf4",
   "metadata": {},
   "outputs": [
    {
     "name": "stderr",
     "output_type": "stream",
     "text": [
      "Failed to detect the name of this notebook, you can set it manually with the WANDB_NOTEBOOK_NAME environment variable to enable code saving.\n",
      "\u001b[34m\u001b[1mwandb\u001b[0m: Logging into wandb.ai. (Learn how to deploy a W&B server locally: https://wandb.me/wandb-server)\n",
      "\u001b[34m\u001b[1mwandb\u001b[0m: You can find your API key in your browser here: https://wandb.ai/authorize\n",
      "\u001b[34m\u001b[1mwandb\u001b[0m: Paste an API key from your profile and hit enter, or press ctrl+c to quit:"
     ]
    },
    {
     "name": "stdin",
     "output_type": "stream",
     "text": [
      "  ········································\n"
     ]
    },
    {
     "name": "stderr",
     "output_type": "stream",
     "text": [
      "\u001b[34m\u001b[1mwandb\u001b[0m: Appending key for api.wandb.ai to your netrc file: /home/jupyter/.netrc\n"
     ]
    },
    {
     "data": {
      "text/plain": [
       "True"
      ]
     },
     "execution_count": 2,
     "metadata": {},
     "output_type": "execute_result"
    }
   ],
   "source": [
    "import wandb\n",
    "wandb.login()"
   ]
  },
  {
   "cell_type": "code",
   "execution_count": 4,
   "id": "47644627-7b9c-48c2-b316-dc3dd21fb890",
   "metadata": {},
   "outputs": [],
   "source": [
    "import numpy as np\n",
    "import pandas as pd\n",
    "import gc"
   ]
  },
  {
   "cell_type": "code",
   "execution_count": 6,
   "id": "13077110-1017-462a-ac99-a516ad9664cf",
   "metadata": {},
   "outputs": [],
   "source": [
    "data = pd.read_csv(\"data/train.csv\")\n",
    "id = data.iloc[:,0].values\n",
    "train_labels = data.iloc[:,1].values\n",
    "train_texts = data.iloc[:,2].values"
   ]
  },
  {
   "cell_type": "code",
   "execution_count": 7,
   "id": "31df1cb1-cabe-4bfd-b637-cea9c29c8e74",
   "metadata": {},
   "outputs": [],
   "source": [
    "df = pd.read_csv(\"data/test.csv\")\n",
    "df[\"Content\"].fillna(\"\",inplace=True)\n",
    "test_texts = list(df.loc[:,\"Content\"])\n",
    "test_labels = list(df.loc[:,\"Label\"])"
   ]
  },
  {
   "cell_type": "code",
   "execution_count": 8,
   "id": "fc010f9d-6fe9-45d9-85ea-48cb3ecb982e",
   "metadata": {},
   "outputs": [],
   "source": [
    "from sklearn.model_selection import StratifiedShuffleSplit\n",
    "def get_several_validation_set(content, label, val_fraction=0.2, total_splits=5, seed=0):\n",
    "  sss = StratifiedShuffleSplit(n_splits=total_splits, test_size=val_fraction, random_state=seed)\n",
    "  return sss.split(content, label)"
   ]
  },
  {
   "cell_type": "code",
   "execution_count": 26,
   "id": "393bb6e0-65b4-4de1-a8e1-53ccf04a836c",
   "metadata": {},
   "outputs": [],
   "source": [
    "import torch\n",
    "import torchvision\n",
    "import torch.nn as nn\n",
    "from transformers import BertModel\n",
    "from transformers import AdamW, get_linear_schedule_with_warmup\n",
    "from torch.utils.data import DataLoader\n",
    "import random\n",
    "import time\n",
    "import wandb\n",
    "\n",
    "class ADdataset(torch.utils.data.Dataset):\n",
    "    def __init__(self, encodings, labels):\n",
    "        self.encodings = encodings\n",
    "        self.labels = labels\n",
    "    def __getitem__(self, idx):\n",
    "        item = {key: torch.tensor(val[idx]) for key, val in self.encodings.items()}\n",
    "        item['labels'] = torch.tensor(self.labels[idx])\n",
    "        return item\n",
    "    def __len__(self):\n",
    "        return len(self.labels)\n",
    "    \n",
    "# Create the BertClassfier class\n",
    "class BertClassifier(nn.Module):\n",
    "    \"\"\"Bert Model for Classification Tasks.\n",
    "    \"\"\"\n",
    "    def __init__(self, archs,dropout,freeze_bert=False):\n",
    "        \"\"\"\n",
    "        @param    bert: a BertModel object\n",
    "        @param    classifier: a torch.nn.Module classifier\n",
    "        @param    freeze_bert (bool): Set `False` to fine-tune the BERT model\n",
    "        \"\"\"\n",
    "        super(BertClassifier, self).__init__()\n",
    "        # Specify hidden size of BERT, hidden size of our classifier, and number of labels\n",
    "        D_in, H, D_out = 768, 256, 2\n",
    "\n",
    "        # Instantiate BERT model\n",
    "        self.bert = BertModel.from_pretrained('bert-base-uncased')\n",
    "\n",
    "        # Instantiate an one-layer feed-forward classifier\n",
    "        \n",
    "        layers = []          \n",
    "        layers.append(nn.Linear(D_in, archs[0]))\n",
    "        layers.append(nn.BatchNorm1d(num_features=archs[0]))\n",
    "        layers.append(nn.ReLU())\n",
    "        layers.append(nn.Dropout(dropout))\n",
    "          \n",
    "        for i in range(1,len(archs)):\n",
    "          layers.append(nn.Linear(archs[i-1], archs[i]))\n",
    "          layers.append(nn.BatchNorm1d(num_features=archs[i]))\n",
    "          layers.append(nn.ReLU())\n",
    "          layers.append(nn.Dropout(dropout))\n",
    "\n",
    "        layers.append(nn.Linear(archs[-1], 1))\n",
    "        self.classifier  = nn.Sequential(*layers)\n",
    "\n",
    "        \"\"\"\n",
    "        for i in range(number_of_layers-1):\n",
    "          layers.append(nn.Linear(fc_layer_size, fc_layer_size))\n",
    "          layers.append(nn.BatchNorm1d(num_features=fc_layer_size))\n",
    "          layers.append(nn.ReLU())\n",
    "          layers.append(nn.Dropout(dropout))\n",
    "\n",
    "        layers.append(nn.Linear(fc_layer_size, 1))\n",
    "        self.classifier  = nn.Sequential(*layers)\n",
    "        \"\"\"\n",
    "\n",
    "        \"\"\"\n",
    "        self.classifier = nn.Sequential(\n",
    "            \n",
    "\n",
    "            nn.Linear(D_in, fc_layer_size),\n",
    "            nn.BatchNorm1d(num_features=fc_layer_size), ## kk\n",
    "            nn.ReLU(),\n",
    "            nn.Dropout(dropout),\n",
    "            nn.Linear(fc_layer_size, 1),\n",
    "            #nn.BatchNorm1d(num_features=128),\n",
    "            #nn.ReLU(),\n",
    "            #nn.Linear(128, 1)\n",
    "            \n",
    "            #nn.BatchNorm1d(num_features=128), ###\n",
    "            #nn.ReLU(),\n",
    "            \n",
    "            #nn.Dropout(0.5),\n",
    "\n",
    "            #nn.Linear(H, D_out)\n",
    "            #nn.Linear(128, 2)\n",
    "            #nn.Linear(128, 1)\n",
    "        )\n",
    "        \"\"\"\n",
    "        # Freeze the BERT model\n",
    "        if freeze_bert:\n",
    "            for param in self.bert.parameters():\n",
    "                param.requires_grad = False\n",
    "        \n",
    "    def forward(self, input_ids, attention_mask):\n",
    "        \"\"\"\n",
    "        Feed input to BERT and the classifier to compute logits.\n",
    "        @param    input_ids (torch.Tensor): an input tensor with shape (batch_size,\n",
    "                      max_length)\n",
    "        @param    attention_mask (torch.Tensor): a tensor that hold attention mask\n",
    "                      information with shape (batch_size, max_length)\n",
    "        @return   logits (torch.Tensor): an output tensor with shape (batch_size,\n",
    "                      num_labels)\n",
    "        \"\"\"\n",
    "        # Feed input to BERT\n",
    "        outputs = self.bert(input_ids=input_ids,\n",
    "                            attention_mask=attention_mask)\n",
    "        \n",
    "        # Extract the last hidden state of the token `[CLS]` for classification task\n",
    "        last_hidden_state_cls = outputs[0][:, 0, :]\n",
    "\n",
    "        # Feed input to classifier to compute logits\n",
    "        logits = self.classifier(last_hidden_state_cls)\n",
    "\n",
    "        return logits\n",
    "    \n",
    "def initialize_model(archs,dropout,train_loader,epochs):\n",
    "    \"\"\"Initialize the Bert Classifier, the optimizer and the learning rate scheduler.\n",
    "    \"\"\"\n",
    "    # Instantiate Bert Classifier\n",
    "    bert_classifier = BertClassifier(archs,dropout,freeze_bert=False)\n",
    "\n",
    "    # Tell PyTorch to run the model on GPU\n",
    "    bert_classifier.to(device)\n",
    "\n",
    "    # Create the optimizer\n",
    "    optimizer = torch.optim.Adam(bert_classifier.parameters(),\n",
    "                      lr=5e-5,    # Default learning rate\n",
    "                      eps=1e-8    # Default epsilon value\n",
    "                      )\n",
    "\n",
    "    # Total number of training steps\n",
    "    total_steps = len(train_loader) * epochs\n",
    "\n",
    "    # Set up the learning rate scheduler\n",
    "    scheduler = get_linear_schedule_with_warmup(optimizer,\n",
    "                                                num_warmup_steps=0, # Default value\n",
    "                                                num_training_steps=total_steps)\n",
    "    return bert_classifier, optimizer, scheduler\n",
    "\n",
    "\n",
    "import random\n",
    "import time\n",
    "\n",
    "# Specify loss function\n",
    "#loss_fn = nn.CrossEntropyLoss()\n",
    "#loss_fn = nn.BCELoss()\n",
    "loss_fn =  torch.nn.BCEWithLogitsLoss()\n",
    "def set_seed(seed_value=42):\n",
    "    \"\"\"Set seed for reproducibility.\n",
    "    \"\"\"\n",
    "    random.seed(seed_value)\n",
    "    np.random.seed(seed_value)\n",
    "    torch.manual_seed(seed_value)\n",
    "    torch.cuda.manual_seed_all(seed_value)\n",
    "\n",
    "def train_epoch(model, train_loader,val_loader, optim,scheduler):\n",
    "      model.train()\n",
    "      # For each batch of training data...\n",
    "      train_loss_sum = 0\n",
    "      train_accuracy_epoch = 0\n",
    "      for batch in (train_loader):\n",
    "          optim.zero_grad()\n",
    "          input_ids = batch['input_ids'].to(device)\n",
    "          attention_mask = batch['attention_mask'].to(device)\n",
    "          labels = batch['labels'].to(device)\n",
    "\n",
    "          # Perform a forward pass. This will return logits.\n",
    "          logits = model(input_ids, attention_mask)\n",
    "\n",
    "          # Compute loss and accumulate the loss values\n",
    "          logits = logits.reshape(-1) #silebilirsin\n",
    "          \n",
    "          loss = loss_fn(logits, labels.float())\n",
    "          train_loss_sum += loss.item()\n",
    "\n",
    "          logits_class = logits > 0.5\n",
    "\n",
    "          train_acc = (labels == logits_class).sum().item() / labels.size(0)\n",
    "          train_accuracy_epoch += train_acc\n",
    "\n",
    "          # Perform a backward pass to calculate gradients\n",
    "          loss.backward()\n",
    "          # Clip the norm of the gradients to 1.0 to prevent \"exploding gradients\"\n",
    "          torch.nn.utils.clip_grad_norm_(model.parameters(), 1.0)\n",
    "          # Update parameters and the learning rate\n",
    "          optim.step()\n",
    "          scheduler.step()\n",
    "          #wandb.log({\"batch loss\": loss.item()})\n",
    "\n",
    "      model.eval()\n",
    "      # Tracking variables\n",
    "      val_loss_sum = 0\n",
    "      val_accuracy_epoch = 0\n",
    "      # For each batch in our validation set...\n",
    "      for batch in val_loader:\n",
    "        input_ids = batch['input_ids'].to(device)\n",
    "        attention_mask = batch['attention_mask'].to(device)\n",
    "        labels = batch['labels'].to(device)\n",
    "        \n",
    "        # Compute logits\n",
    "        with torch.no_grad():\n",
    "          logits = model(input_ids, attention_mask)\n",
    "\n",
    "          # Compute loss\n",
    "          logits = logits.reshape(-1)\n",
    "          loss = loss_fn(logits, labels.float())\n",
    "          val_loss_sum +=loss.item()\n",
    "\n",
    "          logits_class = logits > 0.5\n",
    "          val_acc = (labels == logits_class).sum().item() / labels.size(0)\n",
    "          val_accuracy_epoch += val_acc\n",
    "\n",
    "\n",
    "      return model,(train_loss_sum / len(train_loader)),(train_accuracy_epoch/len(train_loader)),(val_loss_sum / len(val_loader)),(val_accuracy_epoch/len(val_loader))\n",
    "\n",
    "\n",
    "\n",
    "def train(model, train_loader, optim, val_loader=None, epochs=50, evaluation=False):\n",
    "    \"\"\"Train the BertClassifier model.\n",
    "    \"\"\"\n",
    "    # Start training loop\n",
    "    print(\"Start training...\\n\")\n",
    "    train_loss_list = []\n",
    "    val_loss_list = []\n",
    "    train_acc_list = []\n",
    "    val_acc_list = [] \n",
    "    for epoch_i in range(epochs):\n",
    "        train_loss_sum = 0\n",
    "        train_accuracy_epoch = 0\n",
    "        # Put the model into the training mode\n",
    "        model.train()\n",
    "\n",
    "        # For each batch of training data...\n",
    "        for batch in (train_loader):\n",
    "            optim.zero_grad()\n",
    "            input_ids = batch['input_ids'].to(device)\n",
    "            attention_mask = batch['attention_mask'].to(device)\n",
    "            labels = batch['labels'].to(device)\n",
    "\n",
    "            # Perform a forward pass. This will return logits.\n",
    "            logits = model(input_ids, attention_mask)\n",
    "\n",
    "            # Compute loss and accumulate the loss values\n",
    "            logits = logits.reshape(-1) #silebilirsin\n",
    "            \n",
    "            loss = loss_fn(logits, labels.float())\n",
    "            train_loss_sum += loss.item()\n",
    "\n",
    "            logits_class = logits > 0.5\n",
    "            train_acc = (labels == logits_class).sum().item() / labels.size(0)\n",
    "            train_accuracy_epoch += train_acc\n",
    "\n",
    "            # Perform a backward pass to calculate gradients\n",
    "            loss.backward()\n",
    "\n",
    "\n",
    "            # Clip the norm of the gradients to 1.0 to prevent \"exploding gradients\"\n",
    "            torch.nn.utils.clip_grad_norm_(model.parameters(), 1.0)\n",
    "\n",
    "\n",
    "            # Update parameters and the learning rate\n",
    "            optimizer.step()\n",
    "            scheduler.step()\n",
    "\n",
    "        avg_train_loss = np.round(train_loss_sum/len(train_loader),2)\n",
    "        avg_train_acc = np.round(train_accuracy_epoch/len(train_loader),2)\n",
    "\n",
    "        if evaluation == True:\n",
    "            avg_val_loss, avg_val_acc = evaluate(model, val_loader)\n",
    "        print('Epoch {}, train loss {} , val loss is {}, train acc is {}, val acc is {} '.format(epoch_i,avg_train_loss,avg_val_loss,avg_train_acc,avg_val_acc))\n",
    "        train_loss_list.append(avg_train_loss)\n",
    "        val_loss_list.append(avg_val_loss)\n",
    "        val_acc_list.append(avg_val_acc)\n",
    "        train_acc_list.append(avg_train_acc)\n",
    "\n",
    "    print(\"Training complete!\")\n",
    "    return model,train_loss_list,val_loss_list,train_acc_list,val_acc_list\n",
    "\n",
    "\n",
    "def evaluate(model, val_dataloader):\n",
    "    \"\"\"After the completion of each training epoch, measure the model's performance\n",
    "    on our validation set.\n",
    "    \"\"\"\n",
    "    # Put the model into the evaluation mode. The dropout layers are disabled during\n",
    "    # the test time.\n",
    "    model.eval()\n",
    "\n",
    "    # Tracking variables\n",
    "    val_loss_sum = 0\n",
    "    val_accuracy_epoch = 0\n",
    "    # For each batch in our validation set...\n",
    "    for batch in val_dataloader:\n",
    "      input_ids = batch['input_ids'].to(device)\n",
    "      attention_mask = batch['attention_mask'].to(device)\n",
    "      labels = batch['labels'].to(device)\n",
    "      \n",
    "      # Compute logits\n",
    "      with torch.no_grad():\n",
    "        logits = model(input_ids, attention_mask)\n",
    "\n",
    "        # Compute loss\n",
    "        logits = logits.reshape(-1)\n",
    "        loss = loss_fn(logits, labels.float())\n",
    "        val_loss_sum +=loss.item()\n",
    "        avg_val_loss = np.round(val_loss_sum/len(val_dataloader),2)\n",
    "\n",
    "        logits_class = logits > 0.5\n",
    "        val_acc = (labels == logits_class).sum().item() / labels.size(0)\n",
    "        val_accuracy_epoch += val_acc\n",
    "        avg_val_acc = np.round(val_accuracy_epoch/len(val_dataloader),2)\n",
    "\n",
    "    return avg_val_loss, avg_val_acc\n",
    "\n",
    "\n",
    "def evaluate_test(model, test_dataloader):\n",
    "    # Put the model into the evaluation mode. The dropout layers are disabled during\n",
    "    # the test time.\n",
    "    model.eval()\n",
    "\n",
    "    # Tracking variables\n",
    "    test_loss_sum = 0\n",
    "    test_accuracy_epoch = 0\n",
    "    predictions = []\n",
    "    labels_list = []\n",
    "    for batch in test_dataloader:\n",
    "      input_ids = batch['input_ids'].to(device)\n",
    "      attention_mask = batch['attention_mask'].to(device)\n",
    "      labels = batch['labels'].to(device)\n",
    "      \n",
    "      # Compute logits\n",
    "      with torch.no_grad():\n",
    "        logits = model(input_ids, attention_mask)\n",
    "        labels_list.append(labels.cpu())\n",
    "\n",
    "        # Compute loss\n",
    "        logits = logits.reshape(-1)\n",
    "        loss = loss_fn(logits, labels.float())\n",
    "        test_loss_sum +=loss.item()\n",
    "        avg_test_loss = np.round(test_loss_sum/len(test_dataloader),5)\n",
    "\n",
    "        logits_class = logits > 0.5\n",
    "        predictions.append(logits.cpu())\n",
    "        test_acc = (labels == logits_class).sum().item() / labels.size(0)\n",
    "        test_accuracy_epoch += test_acc\n",
    "        avg_test_acc = np.round(test_accuracy_epoch/len(test_dataloader),5)\n",
    "\n",
    "    return avg_test_loss, avg_test_acc, predictions, labels_list\n",
    "\n",
    "\n",
    "def evaluate_ensemble(models, test_dataloader):\n",
    "    test_loss_sum = 0\n",
    "    test_accuracy_epoch = 0\n",
    "    predictions = []\n",
    "    labels_list = []\n",
    "    for batch in test_dataloader:\n",
    "      input_ids = batch['input_ids'].to(device)\n",
    "      attention_mask = batch['attention_mask'].to(device)\n",
    "      labels = batch['labels'].to(device)\n",
    "\n",
    "      prediction = []\n",
    "      for model in models:\n",
    "        model.eval()\n",
    "        # Compute logits\n",
    "        with torch.no_grad():\n",
    "          logits = model(input_ids, attention_mask)\n",
    "          labels_list.append(labels.cpu())\n",
    "\n",
    "          logits = logits.reshape(-1)\n",
    "          logits_class = logits > 0.5\n",
    "          prediction.append(logits_class)\n",
    "\n",
    "      prediction_ensemble = sum(prediction) > 0.5*len(prediction)\n",
    "      predictions.append(prediction_ensemble.cpu())\n",
    "\n",
    "      test_acc = (labels == prediction_ensemble).sum().item() / labels.size(0)\n",
    "      test_accuracy_epoch += test_acc\n",
    "      avg_test_acc = np.round(test_accuracy_epoch/len(test_dataloader),5)\n",
    "\n",
    "    return avg_test_acc, predictions, labels_list"
   ]
  },
  {
   "cell_type": "code",
   "execution_count": 11,
   "id": "516827a3-7d62-410a-863e-1cac09362d94",
   "metadata": {},
   "outputs": [
    {
     "name": "stderr",
     "output_type": "stream",
     "text": [
      "Using cache found in /home/jupyter/.cache/torch/hub/huggingface_pytorch-transformers_main\n"
     ]
    }
   ],
   "source": [
    "tokenizer = torch.hub.load('huggingface/pytorch-transformers', 'tokenizer', 'bert-base-uncased')"
   ]
  },
  {
   "cell_type": "code",
   "execution_count": 19,
   "id": "8e89ec5f-9d8e-411b-a82a-a7ad446492cb",
   "metadata": {},
   "outputs": [],
   "source": [
    "archs = [[512,64],[64,512],[256,512,64],[128],[128,512,256],[256,64],[256,128],[512,256],[256,64,128],[512,256,64],[128],[64,512],[256,512,128]]\n",
    "batch_size = [16,16,8,8,16,16,16,16,16,16,16,16,16]\n",
    "dropout = [0.4,0.5,0.3,0.3,0.4,0.3,0.4,0.5,0.3,0.4,0.5,0.3,0.3]\n",
    "epochs = 15"
   ]
  },
  {
   "cell_type": "code",
   "execution_count": 16,
   "id": "7f9860c6-3162-41c2-9a76-ddb9ee086014",
   "metadata": {},
   "outputs": [],
   "source": [
    "device = torch.device('cuda') if torch.cuda.is_available() else torch.device('cpu')"
   ]
  },
  {
   "cell_type": "code",
   "execution_count": 28,
   "id": "308c934d-e850-44ed-9cb0-41a9965d227e",
   "metadata": {},
   "outputs": [],
   "source": [
    "from transformers import logging\n",
    "logging.set_verbosity_error()"
   ]
  },
  {
   "cell_type": "code",
   "execution_count": null,
   "id": "020a278b-0c82-40fa-a3c7-31383117eab1",
   "metadata": {},
   "outputs": [
    {
     "name": "stdout",
     "output_type": "stream",
     "text": [
      "dr-0.4,arch-[512, 64],bs-16,seed-0,index-1,epoch-15\n"
     ]
    },
    {
     "data": {
      "text/html": [
       "Finishing last run (ID:4idl5xlq) before initializing another..."
      ],
      "text/plain": [
       "<IPython.core.display.HTML object>"
      ]
     },
     "metadata": {},
     "output_type": "display_data"
    },
    {
     "data": {
      "text/html": [
       "Waiting for W&B process to finish... <strong style=\"color:green\">(success).</strong>"
      ],
      "text/plain": [
       "<IPython.core.display.HTML object>"
      ]
     },
     "metadata": {},
     "output_type": "display_data"
    },
    {
     "data": {
      "text/html": [
       "<style>\n",
       "    table.wandb td:nth-child(1) { padding: 0 10px; text-align: left ; width: auto;} td:nth-child(2) {text-align: left ; width: 100%}\n",
       "    .wandb-row { display: flex; flex-direction: row; flex-wrap: wrap; justify-content: flex-start; width: 100% }\n",
       "    .wandb-col { display: flex; flex-direction: column; flex-basis: 100%; flex: 1; padding: 10px; }\n",
       "    </style>\n",
       "<div class=\"wandb-row\"><div class=\"wandb-col\"><h3>Run history:</h3><br/><table class=\"wandb\"><tr><td>Training Acc</td><td>▁▂▃▅▅▆▇███████</td></tr><tr><td>Training Loss</td><td>█▇▆▅▅▃▃▂▂▁▁▁▁▁</td></tr><tr><td>Validation Acc</td><td>▁▁▃▇▇▃▄█▅█▇▇██</td></tr><tr><td>Validation Loss</td><td>█▇▅▄▂▅▅▄▆▁▁▂▁▁</td></tr></table><br/></div><div class=\"wandb-col\"><h3>Run summary:</h3><br/><table class=\"wandb\"><tr><td>Training Acc</td><td>1.0</td></tr><tr><td>Training Loss</td><td>0.15476</td></tr><tr><td>Validation Acc</td><td>0.91667</td></tr><tr><td>Validation Loss</td><td>0.30857</td></tr></table><br/></div></div>"
      ],
      "text/plain": [
       "<IPython.core.display.HTML object>"
      ]
     },
     "metadata": {},
     "output_type": "display_data"
    },
    {
     "data": {
      "text/html": [
       "Synced <strong style=\"color:#cdcd00\">colorful-violet-8</strong>: <a href=\"https://wandb.ai/miraclelinzzz/Final-ensemble/runs/4idl5xlq\" target=\"_blank\">https://wandb.ai/miraclelinzzz/Final-ensemble/runs/4idl5xlq</a><br/>Synced 6 W&B file(s), 0 media file(s), 0 artifact file(s) and 0 other file(s)"
      ],
      "text/plain": [
       "<IPython.core.display.HTML object>"
      ]
     },
     "metadata": {},
     "output_type": "display_data"
    },
    {
     "data": {
      "text/html": [
       "Find logs at: <code>./wandb/run-20220817_222109-4idl5xlq/logs</code>"
      ],
      "text/plain": [
       "<IPython.core.display.HTML object>"
      ]
     },
     "metadata": {},
     "output_type": "display_data"
    },
    {
     "data": {
      "text/html": [
       "Successfully finished last run (ID:4idl5xlq). Initializing new run:<br/>"
      ],
      "text/plain": [
       "<IPython.core.display.HTML object>"
      ]
     },
     "metadata": {},
     "output_type": "display_data"
    },
    {
     "data": {
      "text/html": [
       "Tracking run with wandb version 0.13.1"
      ],
      "text/plain": [
       "<IPython.core.display.HTML object>"
      ]
     },
     "metadata": {},
     "output_type": "display_data"
    },
    {
     "data": {
      "text/html": [
       "Run data is saved locally in <code>/home/jupyter/wandb/run-20220817_222253-3aj8iu2n</code>"
      ],
      "text/plain": [
       "<IPython.core.display.HTML object>"
      ]
     },
     "metadata": {},
     "output_type": "display_data"
    },
    {
     "data": {
      "text/html": [
       "Syncing run <strong><a href=\"https://wandb.ai/miraclelinzzz/Final-ensemble/runs/3aj8iu2n\" target=\"_blank\">daily-spaceship-9</a></strong> to <a href=\"https://wandb.ai/miraclelinzzz/Final-ensemble\" target=\"_blank\">Weights & Biases</a> (<a href=\"https://wandb.me/run\" target=\"_blank\">docs</a>)<br/>"
      ],
      "text/plain": [
       "<IPython.core.display.HTML object>"
      ]
     },
     "metadata": {},
     "output_type": "display_data"
    },
    {
     "data": {
      "text/html": [
       "Waiting for W&B process to finish... <strong style=\"color:green\">(success).</strong>"
      ],
      "text/plain": [
       "<IPython.core.display.HTML object>"
      ]
     },
     "metadata": {},
     "output_type": "display_data"
    },
    {
     "data": {
      "text/html": [
       "<style>\n",
       "    table.wandb td:nth-child(1) { padding: 0 10px; text-align: left ; width: auto;} td:nth-child(2) {text-align: left ; width: 100%}\n",
       "    .wandb-row { display: flex; flex-direction: row; flex-wrap: wrap; justify-content: flex-start; width: 100% }\n",
       "    .wandb-col { display: flex; flex-direction: column; flex-basis: 100%; flex: 1; padding: 10px; }\n",
       "    </style>\n",
       "<div class=\"wandb-row\"><div class=\"wandb-col\"><h3>Run history:</h3><br/><table class=\"wandb\"><tr><td>Training Acc</td><td>▁▂▄▄▆▇▇████████</td></tr><tr><td>Training Loss</td><td>█▇▆▆▄▃▂▂▁▁▁▁▁▁▁</td></tr><tr><td>Validation Acc</td><td>▁▁▃▇▅▇▅████▆▄▆█</td></tr><tr><td>Validation Loss</td><td>▅▅▅▃▅▃▃▁▁▁▁▄█▄▁</td></tr></table><br/></div><div class=\"wandb-col\"><h3>Run summary:</h3><br/><table class=\"wandb\"><tr><td>Training Acc</td><td>1.0</td></tr><tr><td>Training Loss</td><td>0.17262</td></tr><tr><td>Validation Acc</td><td>0.85417</td></tr><tr><td>Validation Loss</td><td>0.41119</td></tr><tr><td>test_accuracy</td><td>0.81786</td></tr><tr><td>test_losss</td><td>0.45001</td></tr></table><br/></div></div>"
      ],
      "text/plain": [
       "<IPython.core.display.HTML object>"
      ]
     },
     "metadata": {},
     "output_type": "display_data"
    },
    {
     "data": {
      "text/html": [
       "Synced <strong style=\"color:#cdcd00\">daily-spaceship-9</strong>: <a href=\"https://wandb.ai/miraclelinzzz/Final-ensemble/runs/3aj8iu2n\" target=\"_blank\">https://wandb.ai/miraclelinzzz/Final-ensemble/runs/3aj8iu2n</a><br/>Synced 5 W&B file(s), 0 media file(s), 0 artifact file(s) and 0 other file(s)"
      ],
      "text/plain": [
       "<IPython.core.display.HTML object>"
      ]
     },
     "metadata": {},
     "output_type": "display_data"
    },
    {
     "data": {
      "text/html": [
       "Find logs at: <code>./wandb/run-20220817_222253-3aj8iu2n/logs</code>"
      ],
      "text/plain": [
       "<IPython.core.display.HTML object>"
      ]
     },
     "metadata": {},
     "output_type": "display_data"
    },
    {
     "name": "stdout",
     "output_type": "stream",
     "text": [
      "dr-0.4,arch-[512, 64],bs-16,seed-0,index-2,epoch-15\n"
     ]
    },
    {
     "data": {
      "text/html": [
       "Tracking run with wandb version 0.13.1"
      ],
      "text/plain": [
       "<IPython.core.display.HTML object>"
      ]
     },
     "metadata": {},
     "output_type": "display_data"
    },
    {
     "data": {
      "text/html": [
       "Run data is saved locally in <code>/home/jupyter/wandb/run-20220817_222410-2hl8ly53</code>"
      ],
      "text/plain": [
       "<IPython.core.display.HTML object>"
      ]
     },
     "metadata": {},
     "output_type": "display_data"
    },
    {
     "data": {
      "text/html": [
       "Syncing run <strong><a href=\"https://wandb.ai/miraclelinzzz/Final-ensemble/runs/2hl8ly53\" target=\"_blank\">tough-sky-10</a></strong> to <a href=\"https://wandb.ai/miraclelinzzz/Final-ensemble\" target=\"_blank\">Weights & Biases</a> (<a href=\"https://wandb.me/run\" target=\"_blank\">docs</a>)<br/>"
      ],
      "text/plain": [
       "<IPython.core.display.HTML object>"
      ]
     },
     "metadata": {},
     "output_type": "display_data"
    },
    {
     "data": {
      "text/html": [
       "Waiting for W&B process to finish... <strong style=\"color:green\">(success).</strong>"
      ],
      "text/plain": [
       "<IPython.core.display.HTML object>"
      ]
     },
     "metadata": {},
     "output_type": "display_data"
    },
    {
     "data": {
      "text/html": [
       "<style>\n",
       "    table.wandb td:nth-child(1) { padding: 0 10px; text-align: left ; width: auto;} td:nth-child(2) {text-align: left ; width: 100%}\n",
       "    .wandb-row { display: flex; flex-direction: row; flex-wrap: wrap; justify-content: flex-start; width: 100% }\n",
       "    .wandb-col { display: flex; flex-direction: column; flex-basis: 100%; flex: 1; padding: 10px; }\n",
       "    </style>\n",
       "<div class=\"wandb-row\"><div class=\"wandb-col\"><h3>Run history:</h3><br/><table class=\"wandb\"><tr><td>Training Acc</td><td>▁▂▃▅▅▆▇████████</td></tr><tr><td>Training Loss</td><td>█▇▆▅▅▃▃▂▂▁▁▁▁▁▁</td></tr><tr><td>Validation Acc</td><td>▁▁▃▇▇▃▄█▅█▇▇███</td></tr><tr><td>Validation Loss</td><td>█▇▅▄▂▅▅▄▆▁▁▂▁▁▁</td></tr></table><br/></div><div class=\"wandb-col\"><h3>Run summary:</h3><br/><table class=\"wandb\"><tr><td>Training Acc</td><td>1.0</td></tr><tr><td>Training Loss</td><td>0.15878</td></tr><tr><td>Validation Acc</td><td>0.91667</td></tr><tr><td>Validation Loss</td><td>0.31455</td></tr><tr><td>test_accuracy</td><td>0.87143</td></tr><tr><td>test_losss</td><td>0.40477</td></tr></table><br/></div></div>"
      ],
      "text/plain": [
       "<IPython.core.display.HTML object>"
      ]
     },
     "metadata": {},
     "output_type": "display_data"
    },
    {
     "data": {
      "text/html": [
       "Synced <strong style=\"color:#cdcd00\">tough-sky-10</strong>: <a href=\"https://wandb.ai/miraclelinzzz/Final-ensemble/runs/2hl8ly53\" target=\"_blank\">https://wandb.ai/miraclelinzzz/Final-ensemble/runs/2hl8ly53</a><br/>Synced 5 W&B file(s), 0 media file(s), 0 artifact file(s) and 0 other file(s)"
      ],
      "text/plain": [
       "<IPython.core.display.HTML object>"
      ]
     },
     "metadata": {},
     "output_type": "display_data"
    },
    {
     "data": {
      "text/html": [
       "Find logs at: <code>./wandb/run-20220817_222410-2hl8ly53/logs</code>"
      ],
      "text/plain": [
       "<IPython.core.display.HTML object>"
      ]
     },
     "metadata": {},
     "output_type": "display_data"
    },
    {
     "name": "stdout",
     "output_type": "stream",
     "text": [
      "dr-0.4,arch-[512, 64],bs-16,seed-0,index-3,epoch-15\n"
     ]
    },
    {
     "data": {
      "text/html": [
       "Tracking run with wandb version 0.13.1"
      ],
      "text/plain": [
       "<IPython.core.display.HTML object>"
      ]
     },
     "metadata": {},
     "output_type": "display_data"
    },
    {
     "data": {
      "text/html": [
       "Run data is saved locally in <code>/home/jupyter/wandb/run-20220817_222525-2maoe58p</code>"
      ],
      "text/plain": [
       "<IPython.core.display.HTML object>"
      ]
     },
     "metadata": {},
     "output_type": "display_data"
    },
    {
     "data": {
      "text/html": [
       "Syncing run <strong><a href=\"https://wandb.ai/miraclelinzzz/Final-ensemble/runs/2maoe58p\" target=\"_blank\">drawn-meadow-11</a></strong> to <a href=\"https://wandb.ai/miraclelinzzz/Final-ensemble\" target=\"_blank\">Weights & Biases</a> (<a href=\"https://wandb.me/run\" target=\"_blank\">docs</a>)<br/>"
      ],
      "text/plain": [
       "<IPython.core.display.HTML object>"
      ]
     },
     "metadata": {},
     "output_type": "display_data"
    },
    {
     "data": {
      "text/html": [
       "Waiting for W&B process to finish... <strong style=\"color:green\">(success).</strong>"
      ],
      "text/plain": [
       "<IPython.core.display.HTML object>"
      ]
     },
     "metadata": {},
     "output_type": "display_data"
    },
    {
     "data": {
      "text/html": [
       "<style>\n",
       "    table.wandb td:nth-child(1) { padding: 0 10px; text-align: left ; width: auto;} td:nth-child(2) {text-align: left ; width: 100%}\n",
       "    .wandb-row { display: flex; flex-direction: row; flex-wrap: wrap; justify-content: flex-start; width: 100% }\n",
       "    .wandb-col { display: flex; flex-direction: column; flex-basis: 100%; flex: 1; padding: 10px; }\n",
       "    </style>\n",
       "<div class=\"wandb-row\"><div class=\"wandb-col\"><h3>Run history:</h3><br/><table class=\"wandb\"><tr><td>Training Acc</td><td>▁▄▄▆▆▆█████████</td></tr><tr><td>Training Loss</td><td>█▇▆▄▄▃▂▂▁▁▁▁▂▁▁</td></tr><tr><td>Validation Acc</td><td>▃▁▁▅█▆▇▅▇▄▅▅▇▇▅</td></tr><tr><td>Validation Loss</td><td>▅▄▅▄▁▅▄█▁▆▆▃▂▂▅</td></tr></table><br/></div><div class=\"wandb-col\"><h3>Run summary:</h3><br/><table class=\"wandb\"><tr><td>Training Acc</td><td>0.95833</td></tr><tr><td>Training Loss</td><td>0.19784</td></tr><tr><td>Validation Acc</td><td>0.60417</td></tr><tr><td>Validation Loss</td><td>0.6547</td></tr><tr><td>test_accuracy</td><td>0.87143</td></tr><tr><td>test_losss</td><td>0.37385</td></tr></table><br/></div></div>"
      ],
      "text/plain": [
       "<IPython.core.display.HTML object>"
      ]
     },
     "metadata": {},
     "output_type": "display_data"
    },
    {
     "data": {
      "text/html": [
       "Synced <strong style=\"color:#cdcd00\">drawn-meadow-11</strong>: <a href=\"https://wandb.ai/miraclelinzzz/Final-ensemble/runs/2maoe58p\" target=\"_blank\">https://wandb.ai/miraclelinzzz/Final-ensemble/runs/2maoe58p</a><br/>Synced 5 W&B file(s), 0 media file(s), 0 artifact file(s) and 0 other file(s)"
      ],
      "text/plain": [
       "<IPython.core.display.HTML object>"
      ]
     },
     "metadata": {},
     "output_type": "display_data"
    },
    {
     "data": {
      "text/html": [
       "Find logs at: <code>./wandb/run-20220817_222525-2maoe58p/logs</code>"
      ],
      "text/plain": [
       "<IPython.core.display.HTML object>"
      ]
     },
     "metadata": {},
     "output_type": "display_data"
    },
    {
     "name": "stdout",
     "output_type": "stream",
     "text": [
      "dr-0.5,arch-[64, 512],bs-16,seed-0,index-1,epoch-15\n"
     ]
    },
    {
     "data": {
      "text/html": [
       "Tracking run with wandb version 0.13.1"
      ],
      "text/plain": [
       "<IPython.core.display.HTML object>"
      ]
     },
     "metadata": {},
     "output_type": "display_data"
    },
    {
     "data": {
      "text/html": [
       "Run data is saved locally in <code>/home/jupyter/wandb/run-20220817_222639-c4zla4ks</code>"
      ],
      "text/plain": [
       "<IPython.core.display.HTML object>"
      ]
     },
     "metadata": {},
     "output_type": "display_data"
    },
    {
     "data": {
      "text/html": [
       "Syncing run <strong><a href=\"https://wandb.ai/miraclelinzzz/Final-ensemble/runs/c4zla4ks\" target=\"_blank\">eternal-thunder-12</a></strong> to <a href=\"https://wandb.ai/miraclelinzzz/Final-ensemble\" target=\"_blank\">Weights & Biases</a> (<a href=\"https://wandb.me/run\" target=\"_blank\">docs</a>)<br/>"
      ],
      "text/plain": [
       "<IPython.core.display.HTML object>"
      ]
     },
     "metadata": {},
     "output_type": "display_data"
    },
    {
     "data": {
      "text/html": [
       "Waiting for W&B process to finish... <strong style=\"color:green\">(success).</strong>"
      ],
      "text/plain": [
       "<IPython.core.display.HTML object>"
      ]
     },
     "metadata": {},
     "output_type": "display_data"
    },
    {
     "data": {
      "text/html": [
       "<style>\n",
       "    table.wandb td:nth-child(1) { padding: 0 10px; text-align: left ; width: auto;} td:nth-child(2) {text-align: left ; width: 100%}\n",
       "    .wandb-row { display: flex; flex-direction: row; flex-wrap: wrap; justify-content: flex-start; width: 100% }\n",
       "    .wandb-col { display: flex; flex-direction: column; flex-basis: 100%; flex: 1; padding: 10px; }\n",
       "    </style>\n",
       "<div class=\"wandb-row\"><div class=\"wandb-col\"><h3>Run history:</h3><br/><table class=\"wandb\"><tr><td>Training Acc</td><td>▁▁▂▂▄▄▅▅▅▆▇▇██▇</td></tr><tr><td>Training Loss</td><td>█▇▇▆▅▅▄▃▃▃▂▂▂▂▁</td></tr><tr><td>Validation Acc</td><td>▃▁▃▁▇▅▇▇▇▃▇▄▆█▅</td></tr><tr><td>Validation Loss</td><td>▇▇▆▇▆▄▃▄▂█▄█▂▁▅</td></tr></table><br/></div><div class=\"wandb-col\"><h3>Run summary:</h3><br/><table class=\"wandb\"><tr><td>Training Acc</td><td>0.85417</td></tr><tr><td>Training Loss</td><td>0.35452</td></tr><tr><td>Validation Acc</td><td>0.64583</td></tr><tr><td>Validation Loss</td><td>0.5992</td></tr><tr><td>test_accuracy</td><td>0.79643</td></tr><tr><td>test_losss</td><td>0.49094</td></tr></table><br/></div></div>"
      ],
      "text/plain": [
       "<IPython.core.display.HTML object>"
      ]
     },
     "metadata": {},
     "output_type": "display_data"
    },
    {
     "data": {
      "text/html": [
       "Synced <strong style=\"color:#cdcd00\">eternal-thunder-12</strong>: <a href=\"https://wandb.ai/miraclelinzzz/Final-ensemble/runs/c4zla4ks\" target=\"_blank\">https://wandb.ai/miraclelinzzz/Final-ensemble/runs/c4zla4ks</a><br/>Synced 5 W&B file(s), 0 media file(s), 0 artifact file(s) and 0 other file(s)"
      ],
      "text/plain": [
       "<IPython.core.display.HTML object>"
      ]
     },
     "metadata": {},
     "output_type": "display_data"
    },
    {
     "data": {
      "text/html": [
       "Find logs at: <code>./wandb/run-20220817_222639-c4zla4ks/logs</code>"
      ],
      "text/plain": [
       "<IPython.core.display.HTML object>"
      ]
     },
     "metadata": {},
     "output_type": "display_data"
    },
    {
     "name": "stdout",
     "output_type": "stream",
     "text": [
      "dr-0.5,arch-[64, 512],bs-16,seed-0,index-2,epoch-15\n"
     ]
    },
    {
     "data": {
      "text/html": [
       "Tracking run with wandb version 0.13.1"
      ],
      "text/plain": [
       "<IPython.core.display.HTML object>"
      ]
     },
     "metadata": {},
     "output_type": "display_data"
    },
    {
     "data": {
      "text/html": [
       "Run data is saved locally in <code>/home/jupyter/wandb/run-20220817_222752-2sezgomf</code>"
      ],
      "text/plain": [
       "<IPython.core.display.HTML object>"
      ]
     },
     "metadata": {},
     "output_type": "display_data"
    },
    {
     "data": {
      "text/html": [
       "Syncing run <strong><a href=\"https://wandb.ai/miraclelinzzz/Final-ensemble/runs/2sezgomf\" target=\"_blank\">dulcet-deluge-13</a></strong> to <a href=\"https://wandb.ai/miraclelinzzz/Final-ensemble\" target=\"_blank\">Weights & Biases</a> (<a href=\"https://wandb.me/run\" target=\"_blank\">docs</a>)<br/>"
      ],
      "text/plain": [
       "<IPython.core.display.HTML object>"
      ]
     },
     "metadata": {},
     "output_type": "display_data"
    },
    {
     "data": {
      "text/html": [
       "Waiting for W&B process to finish... <strong style=\"color:green\">(success).</strong>"
      ],
      "text/plain": [
       "<IPython.core.display.HTML object>"
      ]
     },
     "metadata": {},
     "output_type": "display_data"
    },
    {
     "data": {
      "text/html": [
       "<style>\n",
       "    table.wandb td:nth-child(1) { padding: 0 10px; text-align: left ; width: auto;} td:nth-child(2) {text-align: left ; width: 100%}\n",
       "    .wandb-row { display: flex; flex-direction: row; flex-wrap: wrap; justify-content: flex-start; width: 100% }\n",
       "    .wandb-col { display: flex; flex-direction: column; flex-basis: 100%; flex: 1; padding: 10px; }\n",
       "    </style>\n",
       "<div class=\"wandb-row\"><div class=\"wandb-col\"><h3>Run history:</h3><br/><table class=\"wandb\"><tr><td>Training Acc</td><td>▁▂▁▃▄▅▅▅▆▆▇▇▇█▇</td></tr><tr><td>Training Loss</td><td>█▇▇▆▅▄▄▄▂▂▁▁▁▁▁</td></tr><tr><td>Validation Acc</td><td>▃▆▆▄▁▇▆▇▆█▅███▆</td></tr><tr><td>Validation Loss</td><td>██▅▅▆▂▂▂▂▁▄▁▁▂▅</td></tr></table><br/></div><div class=\"wandb-col\"><h3>Run summary:</h3><br/><table class=\"wandb\"><tr><td>Training Acc</td><td>0.88889</td></tr><tr><td>Training Loss</td><td>0.34733</td></tr><tr><td>Validation Acc</td><td>0.77083</td></tr><tr><td>Validation Loss</td><td>0.52912</td></tr><tr><td>test_accuracy</td><td>0.76786</td></tr><tr><td>test_losss</td><td>0.49276</td></tr></table><br/></div></div>"
      ],
      "text/plain": [
       "<IPython.core.display.HTML object>"
      ]
     },
     "metadata": {},
     "output_type": "display_data"
    },
    {
     "data": {
      "text/html": [
       "Synced <strong style=\"color:#cdcd00\">dulcet-deluge-13</strong>: <a href=\"https://wandb.ai/miraclelinzzz/Final-ensemble/runs/2sezgomf\" target=\"_blank\">https://wandb.ai/miraclelinzzz/Final-ensemble/runs/2sezgomf</a><br/>Synced 5 W&B file(s), 0 media file(s), 0 artifact file(s) and 0 other file(s)"
      ],
      "text/plain": [
       "<IPython.core.display.HTML object>"
      ]
     },
     "metadata": {},
     "output_type": "display_data"
    },
    {
     "data": {
      "text/html": [
       "Find logs at: <code>./wandb/run-20220817_222752-2sezgomf/logs</code>"
      ],
      "text/plain": [
       "<IPython.core.display.HTML object>"
      ]
     },
     "metadata": {},
     "output_type": "display_data"
    },
    {
     "name": "stdout",
     "output_type": "stream",
     "text": [
      "dr-0.5,arch-[64, 512],bs-16,seed-0,index-3,epoch-15\n"
     ]
    },
    {
     "data": {
      "text/html": [
       "Tracking run with wandb version 0.13.1"
      ],
      "text/plain": [
       "<IPython.core.display.HTML object>"
      ]
     },
     "metadata": {},
     "output_type": "display_data"
    },
    {
     "data": {
      "text/html": [
       "Run data is saved locally in <code>/home/jupyter/wandb/run-20220817_222906-2oi91tj3</code>"
      ],
      "text/plain": [
       "<IPython.core.display.HTML object>"
      ]
     },
     "metadata": {},
     "output_type": "display_data"
    },
    {
     "data": {
      "text/html": [
       "Syncing run <strong><a href=\"https://wandb.ai/miraclelinzzz/Final-ensemble/runs/2oi91tj3\" target=\"_blank\">robust-wave-14</a></strong> to <a href=\"https://wandb.ai/miraclelinzzz/Final-ensemble\" target=\"_blank\">Weights & Biases</a> (<a href=\"https://wandb.me/run\" target=\"_blank\">docs</a>)<br/>"
      ],
      "text/plain": [
       "<IPython.core.display.HTML object>"
      ]
     },
     "metadata": {},
     "output_type": "display_data"
    },
    {
     "data": {
      "text/html": [
       "Waiting for W&B process to finish... <strong style=\"color:green\">(success).</strong>"
      ],
      "text/plain": [
       "<IPython.core.display.HTML object>"
      ]
     },
     "metadata": {},
     "output_type": "display_data"
    },
    {
     "data": {
      "text/html": [
       "<style>\n",
       "    table.wandb td:nth-child(1) { padding: 0 10px; text-align: left ; width: auto;} td:nth-child(2) {text-align: left ; width: 100%}\n",
       "    .wandb-row { display: flex; flex-direction: row; flex-wrap: wrap; justify-content: flex-start; width: 100% }\n",
       "    .wandb-col { display: flex; flex-direction: column; flex-basis: 100%; flex: 1; padding: 10px; }\n",
       "    </style>\n",
       "<div class=\"wandb-row\"><div class=\"wandb-col\"><h3>Run history:</h3><br/><table class=\"wandb\"><tr><td>Training Acc</td><td>▁▂▂▃▄▅▅▆▆▅▆▆▇█▇</td></tr><tr><td>Training Loss</td><td>█▇▆▆▅▄▄▃▃▄▂▂▂▁▂</td></tr><tr><td>Validation Acc</td><td>▁▄▁▁▁▄▁██▃▅▆█▄▅</td></tr><tr><td>Validation Loss</td><td>▆▅▅▅▇▄█▂▁▇▃▄▁▆▅</td></tr></table><br/></div><div class=\"wandb-col\"><h3>Run summary:</h3><br/><table class=\"wandb\"><tr><td>Training Acc</td><td>0.875</td></tr><tr><td>Training Loss</td><td>0.34221</td></tr><tr><td>Validation Acc</td><td>0.64583</td></tr><tr><td>Validation Loss</td><td>0.64915</td></tr><tr><td>test_accuracy</td><td>0.88393</td></tr><tr><td>test_losss</td><td>0.41205</td></tr></table><br/></div></div>"
      ],
      "text/plain": [
       "<IPython.core.display.HTML object>"
      ]
     },
     "metadata": {},
     "output_type": "display_data"
    },
    {
     "data": {
      "text/html": [
       "Synced <strong style=\"color:#cdcd00\">robust-wave-14</strong>: <a href=\"https://wandb.ai/miraclelinzzz/Final-ensemble/runs/2oi91tj3\" target=\"_blank\">https://wandb.ai/miraclelinzzz/Final-ensemble/runs/2oi91tj3</a><br/>Synced 5 W&B file(s), 0 media file(s), 0 artifact file(s) and 0 other file(s)"
      ],
      "text/plain": [
       "<IPython.core.display.HTML object>"
      ]
     },
     "metadata": {},
     "output_type": "display_data"
    },
    {
     "data": {
      "text/html": [
       "Find logs at: <code>./wandb/run-20220817_222906-2oi91tj3/logs</code>"
      ],
      "text/plain": [
       "<IPython.core.display.HTML object>"
      ]
     },
     "metadata": {},
     "output_type": "display_data"
    },
    {
     "name": "stdout",
     "output_type": "stream",
     "text": [
      "dr-0.3,arch-[256, 512, 64],bs-8,seed-0,index-1,epoch-15\n"
     ]
    },
    {
     "data": {
      "text/html": [
       "Tracking run with wandb version 0.13.1"
      ],
      "text/plain": [
       "<IPython.core.display.HTML object>"
      ]
     },
     "metadata": {},
     "output_type": "display_data"
    },
    {
     "data": {
      "text/html": [
       "Run data is saved locally in <code>/home/jupyter/wandb/run-20220817_223019-3ruqhmrf</code>"
      ],
      "text/plain": [
       "<IPython.core.display.HTML object>"
      ]
     },
     "metadata": {},
     "output_type": "display_data"
    },
    {
     "data": {
      "text/html": [
       "Syncing run <strong><a href=\"https://wandb.ai/miraclelinzzz/Final-ensemble/runs/3ruqhmrf\" target=\"_blank\">curious-water-15</a></strong> to <a href=\"https://wandb.ai/miraclelinzzz/Final-ensemble\" target=\"_blank\">Weights & Biases</a> (<a href=\"https://wandb.me/run\" target=\"_blank\">docs</a>)<br/>"
      ],
      "text/plain": [
       "<IPython.core.display.HTML object>"
      ]
     },
     "metadata": {},
     "output_type": "display_data"
    },
    {
     "data": {
      "text/html": [
       "Waiting for W&B process to finish... <strong style=\"color:green\">(success).</strong>"
      ],
      "text/plain": [
       "<IPython.core.display.HTML object>"
      ]
     },
     "metadata": {},
     "output_type": "display_data"
    },
    {
     "data": {
      "text/html": [
       "<style>\n",
       "    table.wandb td:nth-child(1) { padding: 0 10px; text-align: left ; width: auto;} td:nth-child(2) {text-align: left ; width: 100%}\n",
       "    .wandb-row { display: flex; flex-direction: row; flex-wrap: wrap; justify-content: flex-start; width: 100% }\n",
       "    .wandb-col { display: flex; flex-direction: column; flex-basis: 100%; flex: 1; padding: 10px; }\n",
       "    </style>\n",
       "<div class=\"wandb-row\"><div class=\"wandb-col\"><h3>Run history:</h3><br/><table class=\"wandb\"><tr><td>Training Acc</td><td>▁▂▂▃▃▃▄▅▆▅▇█▆▇█</td></tr><tr><td>Training Loss</td><td>█▇▇▆▆▆▄▄▃▄▂▂▂▁▁</td></tr><tr><td>Validation Acc</td><td>▁▂▂▃▃▄▃▄▆▆▇▆▆█▇</td></tr><tr><td>Validation Loss</td><td>█▆▅▄▃▄▄▅▆▃▁▅▁▁▃</td></tr></table><br/></div><div class=\"wandb-col\"><h3>Run summary:</h3><br/><table class=\"wandb\"><tr><td>Training Acc</td><td>0.92647</td></tr><tr><td>Training Loss</td><td>0.27439</td></tr><tr><td>Validation Acc</td><td>0.8</td></tr><tr><td>Validation Loss</td><td>0.58478</td></tr><tr><td>test_accuracy</td><td>0.7619</td></tr><tr><td>test_losss</td><td>0.45272</td></tr></table><br/></div></div>"
      ],
      "text/plain": [
       "<IPython.core.display.HTML object>"
      ]
     },
     "metadata": {},
     "output_type": "display_data"
    },
    {
     "data": {
      "text/html": [
       "Synced <strong style=\"color:#cdcd00\">curious-water-15</strong>: <a href=\"https://wandb.ai/miraclelinzzz/Final-ensemble/runs/3ruqhmrf\" target=\"_blank\">https://wandb.ai/miraclelinzzz/Final-ensemble/runs/3ruqhmrf</a><br/>Synced 5 W&B file(s), 0 media file(s), 0 artifact file(s) and 0 other file(s)"
      ],
      "text/plain": [
       "<IPython.core.display.HTML object>"
      ]
     },
     "metadata": {},
     "output_type": "display_data"
    },
    {
     "data": {
      "text/html": [
       "Find logs at: <code>./wandb/run-20220817_223019-3ruqhmrf/logs</code>"
      ],
      "text/plain": [
       "<IPython.core.display.HTML object>"
      ]
     },
     "metadata": {},
     "output_type": "display_data"
    },
    {
     "name": "stdout",
     "output_type": "stream",
     "text": [
      "dr-0.3,arch-[256, 512, 64],bs-8,seed-0,index-2,epoch-15\n"
     ]
    },
    {
     "data": {
      "text/html": [
       "Tracking run with wandb version 0.13.1"
      ],
      "text/plain": [
       "<IPython.core.display.HTML object>"
      ]
     },
     "metadata": {},
     "output_type": "display_data"
    },
    {
     "data": {
      "text/html": [
       "Run data is saved locally in <code>/home/jupyter/wandb/run-20220817_223137-15ycwty8</code>"
      ],
      "text/plain": [
       "<IPython.core.display.HTML object>"
      ]
     },
     "metadata": {},
     "output_type": "display_data"
    },
    {
     "data": {
      "text/html": [
       "Syncing run <strong><a href=\"https://wandb.ai/miraclelinzzz/Final-ensemble/runs/15ycwty8\" target=\"_blank\">dazzling-butterfly-16</a></strong> to <a href=\"https://wandb.ai/miraclelinzzz/Final-ensemble\" target=\"_blank\">Weights & Biases</a> (<a href=\"https://wandb.me/run\" target=\"_blank\">docs</a>)<br/>"
      ],
      "text/plain": [
       "<IPython.core.display.HTML object>"
      ]
     },
     "metadata": {},
     "output_type": "display_data"
    },
    {
     "data": {
      "text/html": [
       "Waiting for W&B process to finish... <strong style=\"color:green\">(success).</strong>"
      ],
      "text/plain": [
       "<IPython.core.display.HTML object>"
      ]
     },
     "metadata": {},
     "output_type": "display_data"
    },
    {
     "data": {
      "text/html": [
       "<style>\n",
       "    table.wandb td:nth-child(1) { padding: 0 10px; text-align: left ; width: auto;} td:nth-child(2) {text-align: left ; width: 100%}\n",
       "    .wandb-row { display: flex; flex-direction: row; flex-wrap: wrap; justify-content: flex-start; width: 100% }\n",
       "    .wandb-col { display: flex; flex-direction: column; flex-basis: 100%; flex: 1; padding: 10px; }\n",
       "    </style>\n",
       "<div class=\"wandb-row\"><div class=\"wandb-col\"><h3>Run history:</h3><br/><table class=\"wandb\"><tr><td>Training Acc</td><td>▁▂▃▃▄▅▅▇▆▇▆██▇█</td></tr><tr><td>Training Loss</td><td>█▇▆▆▆▄▄▃▃▂▂▁▁▁▁</td></tr><tr><td>Validation Acc</td><td>▂▁▇▄▆▆▆▆▅▆▇▆█▇▆</td></tr><tr><td>Validation Loss</td><td>▇█▄▄▂▂▂▂▄▃▂▂▂▁▃</td></tr></table><br/></div><div class=\"wandb-col\"><h3>Run summary:</h3><br/><table class=\"wandb\"><tr><td>Training Acc</td><td>0.94118</td></tr><tr><td>Training Loss</td><td>0.25646</td></tr><tr><td>Validation Acc</td><td>0.725</td></tr><tr><td>Validation Loss</td><td>0.51159</td></tr><tr><td>test_accuracy</td><td>0.82937</td></tr><tr><td>test_losss</td><td>0.42198</td></tr></table><br/></div></div>"
      ],
      "text/plain": [
       "<IPython.core.display.HTML object>"
      ]
     },
     "metadata": {},
     "output_type": "display_data"
    },
    {
     "data": {
      "text/html": [
       "Synced <strong style=\"color:#cdcd00\">dazzling-butterfly-16</strong>: <a href=\"https://wandb.ai/miraclelinzzz/Final-ensemble/runs/15ycwty8\" target=\"_blank\">https://wandb.ai/miraclelinzzz/Final-ensemble/runs/15ycwty8</a><br/>Synced 5 W&B file(s), 0 media file(s), 0 artifact file(s) and 0 other file(s)"
      ],
      "text/plain": [
       "<IPython.core.display.HTML object>"
      ]
     },
     "metadata": {},
     "output_type": "display_data"
    },
    {
     "data": {
      "text/html": [
       "Find logs at: <code>./wandb/run-20220817_223137-15ycwty8/logs</code>"
      ],
      "text/plain": [
       "<IPython.core.display.HTML object>"
      ]
     },
     "metadata": {},
     "output_type": "display_data"
    },
    {
     "name": "stdout",
     "output_type": "stream",
     "text": [
      "dr-0.3,arch-[256, 512, 64],bs-8,seed-0,index-3,epoch-15\n"
     ]
    },
    {
     "data": {
      "text/html": [
       "Tracking run with wandb version 0.13.1"
      ],
      "text/plain": [
       "<IPython.core.display.HTML object>"
      ]
     },
     "metadata": {},
     "output_type": "display_data"
    },
    {
     "data": {
      "text/html": [
       "Run data is saved locally in <code>/home/jupyter/wandb/run-20220817_223256-vhcrzs8q</code>"
      ],
      "text/plain": [
       "<IPython.core.display.HTML object>"
      ]
     },
     "metadata": {},
     "output_type": "display_data"
    },
    {
     "data": {
      "text/html": [
       "Syncing run <strong><a href=\"https://wandb.ai/miraclelinzzz/Final-ensemble/runs/vhcrzs8q\" target=\"_blank\">leafy-paper-17</a></strong> to <a href=\"https://wandb.ai/miraclelinzzz/Final-ensemble\" target=\"_blank\">Weights & Biases</a> (<a href=\"https://wandb.me/run\" target=\"_blank\">docs</a>)<br/>"
      ],
      "text/plain": [
       "<IPython.core.display.HTML object>"
      ]
     },
     "metadata": {},
     "output_type": "display_data"
    },
    {
     "data": {
      "text/html": [
       "Waiting for W&B process to finish... <strong style=\"color:green\">(success).</strong>"
      ],
      "text/plain": [
       "<IPython.core.display.HTML object>"
      ]
     },
     "metadata": {},
     "output_type": "display_data"
    },
    {
     "data": {
      "text/html": [
       "<style>\n",
       "    table.wandb td:nth-child(1) { padding: 0 10px; text-align: left ; width: auto;} td:nth-child(2) {text-align: left ; width: 100%}\n",
       "    .wandb-row { display: flex; flex-direction: row; flex-wrap: wrap; justify-content: flex-start; width: 100% }\n",
       "    .wandb-col { display: flex; flex-direction: column; flex-basis: 100%; flex: 1; padding: 10px; }\n",
       "    </style>\n",
       "<div class=\"wandb-row\"><div class=\"wandb-col\"><h3>Run history:</h3><br/><table class=\"wandb\"><tr><td>Training Acc</td><td>▁▂▂▄▄▅▅▆▇▇▇████</td></tr><tr><td>Training Loss</td><td>█▇▇▆▆▅▄▄▃▂▂▁▁▁▁</td></tr><tr><td>Validation Acc</td><td>▁▃▅▂▃▃▆▆▅▆█▇▃▇▃</td></tr><tr><td>Validation Loss</td><td>▃▃▂▅▂▄▁▃▂▂▁▂█▂▅</td></tr></table><br/></div><div class=\"wandb-col\"><h3>Run summary:</h3><br/><table class=\"wandb\"><tr><td>Training Acc</td><td>0.97794</td></tr><tr><td>Training Loss</td><td>0.22458</td></tr><tr><td>Validation Acc</td><td>0.475</td></tr><tr><td>Validation Loss</td><td>0.76821</td></tr><tr><td>test_accuracy</td><td>0.78968</td></tr><tr><td>test_losss</td><td>0.421</td></tr></table><br/></div></div>"
      ],
      "text/plain": [
       "<IPython.core.display.HTML object>"
      ]
     },
     "metadata": {},
     "output_type": "display_data"
    },
    {
     "data": {
      "text/html": [
       "Synced <strong style=\"color:#cdcd00\">leafy-paper-17</strong>: <a href=\"https://wandb.ai/miraclelinzzz/Final-ensemble/runs/vhcrzs8q\" target=\"_blank\">https://wandb.ai/miraclelinzzz/Final-ensemble/runs/vhcrzs8q</a><br/>Synced 5 W&B file(s), 0 media file(s), 0 artifact file(s) and 0 other file(s)"
      ],
      "text/plain": [
       "<IPython.core.display.HTML object>"
      ]
     },
     "metadata": {},
     "output_type": "display_data"
    },
    {
     "data": {
      "text/html": [
       "Find logs at: <code>./wandb/run-20220817_223256-vhcrzs8q/logs</code>"
      ],
      "text/plain": [
       "<IPython.core.display.HTML object>"
      ]
     },
     "metadata": {},
     "output_type": "display_data"
    },
    {
     "name": "stdout",
     "output_type": "stream",
     "text": [
      "dr-0.3,arch-[128],bs-8,seed-0,index-1,epoch-15\n"
     ]
    },
    {
     "data": {
      "text/html": [
       "Tracking run with wandb version 0.13.1"
      ],
      "text/plain": [
       "<IPython.core.display.HTML object>"
      ]
     },
     "metadata": {},
     "output_type": "display_data"
    },
    {
     "data": {
      "text/html": [
       "Run data is saved locally in <code>/home/jupyter/wandb/run-20220817_223414-2vrqlpw6</code>"
      ],
      "text/plain": [
       "<IPython.core.display.HTML object>"
      ]
     },
     "metadata": {},
     "output_type": "display_data"
    },
    {
     "data": {
      "text/html": [
       "Syncing run <strong><a href=\"https://wandb.ai/miraclelinzzz/Final-ensemble/runs/2vrqlpw6\" target=\"_blank\">absurd-elevator-18</a></strong> to <a href=\"https://wandb.ai/miraclelinzzz/Final-ensemble\" target=\"_blank\">Weights & Biases</a> (<a href=\"https://wandb.me/run\" target=\"_blank\">docs</a>)<br/>"
      ],
      "text/plain": [
       "<IPython.core.display.HTML object>"
      ]
     },
     "metadata": {},
     "output_type": "display_data"
    },
    {
     "data": {
      "text/html": [
       "Waiting for W&B process to finish... <strong style=\"color:green\">(success).</strong>"
      ],
      "text/plain": [
       "<IPython.core.display.HTML object>"
      ]
     },
     "metadata": {},
     "output_type": "display_data"
    },
    {
     "data": {
      "text/html": [
       "<style>\n",
       "    table.wandb td:nth-child(1) { padding: 0 10px; text-align: left ; width: auto;} td:nth-child(2) {text-align: left ; width: 100%}\n",
       "    .wandb-row { display: flex; flex-direction: row; flex-wrap: wrap; justify-content: flex-start; width: 100% }\n",
       "    .wandb-col { display: flex; flex-direction: column; flex-basis: 100%; flex: 1; padding: 10px; }\n",
       "    </style>\n",
       "<div class=\"wandb-row\"><div class=\"wandb-col\"><h3>Run history:</h3><br/><table class=\"wandb\"><tr><td>Training Acc</td><td>▁▃▅▇▇█████▇████</td></tr><tr><td>Training Loss</td><td>█▆▅▂▂▁▂▁▁▂▂▁▁▁▁</td></tr><tr><td>Validation Acc</td><td>▃▁▇▅▆█▇▇▆▄▆▆▇▇▆</td></tr><tr><td>Validation Loss</td><td>▃▄▁▇▅▂▄▂▃█▃▅▃▃▅</td></tr></table><br/></div><div class=\"wandb-col\"><h3>Run summary:</h3><br/><table class=\"wandb\"><tr><td>Training Acc</td><td>1.0</td></tr><tr><td>Training Loss</td><td>0.08553</td></tr><tr><td>Validation Acc</td><td>0.725</td></tr><tr><td>Validation Loss</td><td>0.75253</td></tr><tr><td>test_accuracy</td><td>0.78968</td></tr><tr><td>test_losss</td><td>0.58212</td></tr></table><br/></div></div>"
      ],
      "text/plain": [
       "<IPython.core.display.HTML object>"
      ]
     },
     "metadata": {},
     "output_type": "display_data"
    },
    {
     "data": {
      "text/html": [
       "Synced <strong style=\"color:#cdcd00\">absurd-elevator-18</strong>: <a href=\"https://wandb.ai/miraclelinzzz/Final-ensemble/runs/2vrqlpw6\" target=\"_blank\">https://wandb.ai/miraclelinzzz/Final-ensemble/runs/2vrqlpw6</a><br/>Synced 5 W&B file(s), 0 media file(s), 0 artifact file(s) and 0 other file(s)"
      ],
      "text/plain": [
       "<IPython.core.display.HTML object>"
      ]
     },
     "metadata": {},
     "output_type": "display_data"
    },
    {
     "data": {
      "text/html": [
       "Find logs at: <code>./wandb/run-20220817_223414-2vrqlpw6/logs</code>"
      ],
      "text/plain": [
       "<IPython.core.display.HTML object>"
      ]
     },
     "metadata": {},
     "output_type": "display_data"
    },
    {
     "name": "stdout",
     "output_type": "stream",
     "text": [
      "dr-0.3,arch-[128],bs-8,seed-0,index-2,epoch-15\n"
     ]
    },
    {
     "data": {
      "text/html": [
       "Tracking run with wandb version 0.13.1"
      ],
      "text/plain": [
       "<IPython.core.display.HTML object>"
      ]
     },
     "metadata": {},
     "output_type": "display_data"
    },
    {
     "data": {
      "text/html": [
       "Run data is saved locally in <code>/home/jupyter/wandb/run-20220817_223532-14961hxn</code>"
      ],
      "text/plain": [
       "<IPython.core.display.HTML object>"
      ]
     },
     "metadata": {},
     "output_type": "display_data"
    },
    {
     "data": {
      "text/html": [
       "Syncing run <strong><a href=\"https://wandb.ai/miraclelinzzz/Final-ensemble/runs/14961hxn\" target=\"_blank\">glad-grass-19</a></strong> to <a href=\"https://wandb.ai/miraclelinzzz/Final-ensemble\" target=\"_blank\">Weights & Biases</a> (<a href=\"https://wandb.me/run\" target=\"_blank\">docs</a>)<br/>"
      ],
      "text/plain": [
       "<IPython.core.display.HTML object>"
      ]
     },
     "metadata": {},
     "output_type": "display_data"
    },
    {
     "data": {
      "text/html": [
       "Waiting for W&B process to finish... <strong style=\"color:green\">(success).</strong>"
      ],
      "text/plain": [
       "<IPython.core.display.HTML object>"
      ]
     },
     "metadata": {},
     "output_type": "display_data"
    },
    {
     "data": {
      "text/html": [
       "<style>\n",
       "    table.wandb td:nth-child(1) { padding: 0 10px; text-align: left ; width: auto;} td:nth-child(2) {text-align: left ; width: 100%}\n",
       "    .wandb-row { display: flex; flex-direction: row; flex-wrap: wrap; justify-content: flex-start; width: 100% }\n",
       "    .wandb-col { display: flex; flex-direction: column; flex-basis: 100%; flex: 1; padding: 10px; }\n",
       "    </style>\n",
       "<div class=\"wandb-row\"><div class=\"wandb-col\"><h3>Run history:</h3><br/><table class=\"wandb\"><tr><td>Training Acc</td><td>▁▅▆▇██▇████████</td></tr><tr><td>Training Loss</td><td>█▆▃▂▂▁▂▁▁▁▁▁▁▂▁</td></tr><tr><td>Validation Acc</td><td>▁▅▆▂▃▆▆█▆▇▇▆▆▇▅</td></tr><tr><td>Validation Loss</td><td>▄▃▂█▇▄▃▁▄▁▁▃▅▂▄</td></tr></table><br/></div><div class=\"wandb-col\"><h3>Run summary:</h3><br/><table class=\"wandb\"><tr><td>Training Acc</td><td>1.0</td></tr><tr><td>Training Loss</td><td>0.07562</td></tr><tr><td>Validation Acc</td><td>0.8</td></tr><tr><td>Validation Loss</td><td>0.54563</td></tr><tr><td>test_accuracy</td><td>0.82937</td></tr><tr><td>test_losss</td><td>0.47394</td></tr></table><br/></div></div>"
      ],
      "text/plain": [
       "<IPython.core.display.HTML object>"
      ]
     },
     "metadata": {},
     "output_type": "display_data"
    },
    {
     "data": {
      "text/html": [
       "Synced <strong style=\"color:#cdcd00\">glad-grass-19</strong>: <a href=\"https://wandb.ai/miraclelinzzz/Final-ensemble/runs/14961hxn\" target=\"_blank\">https://wandb.ai/miraclelinzzz/Final-ensemble/runs/14961hxn</a><br/>Synced 5 W&B file(s), 0 media file(s), 0 artifact file(s) and 0 other file(s)"
      ],
      "text/plain": [
       "<IPython.core.display.HTML object>"
      ]
     },
     "metadata": {},
     "output_type": "display_data"
    },
    {
     "data": {
      "text/html": [
       "Find logs at: <code>./wandb/run-20220817_223532-14961hxn/logs</code>"
      ],
      "text/plain": [
       "<IPython.core.display.HTML object>"
      ]
     },
     "metadata": {},
     "output_type": "display_data"
    },
    {
     "name": "stdout",
     "output_type": "stream",
     "text": [
      "dr-0.3,arch-[128],bs-8,seed-0,index-3,epoch-15\n"
     ]
    },
    {
     "data": {
      "text/html": [
       "Tracking run with wandb version 0.13.1"
      ],
      "text/plain": [
       "<IPython.core.display.HTML object>"
      ]
     },
     "metadata": {},
     "output_type": "display_data"
    },
    {
     "data": {
      "text/html": [
       "Run data is saved locally in <code>/home/jupyter/wandb/run-20220817_223650-3j85osja</code>"
      ],
      "text/plain": [
       "<IPython.core.display.HTML object>"
      ]
     },
     "metadata": {},
     "output_type": "display_data"
    },
    {
     "data": {
      "text/html": [
       "Syncing run <strong><a href=\"https://wandb.ai/miraclelinzzz/Final-ensemble/runs/3j85osja\" target=\"_blank\">distinctive-microwave-20</a></strong> to <a href=\"https://wandb.ai/miraclelinzzz/Final-ensemble\" target=\"_blank\">Weights & Biases</a> (<a href=\"https://wandb.me/run\" target=\"_blank\">docs</a>)<br/>"
      ],
      "text/plain": [
       "<IPython.core.display.HTML object>"
      ]
     },
     "metadata": {},
     "output_type": "display_data"
    },
    {
     "data": {
      "text/html": [
       "Waiting for W&B process to finish... <strong style=\"color:green\">(success).</strong>"
      ],
      "text/plain": [
       "<IPython.core.display.HTML object>"
      ]
     },
     "metadata": {},
     "output_type": "display_data"
    },
    {
     "data": {
      "text/html": [
       "<style>\n",
       "    table.wandb td:nth-child(1) { padding: 0 10px; text-align: left ; width: auto;} td:nth-child(2) {text-align: left ; width: 100%}\n",
       "    .wandb-row { display: flex; flex-direction: row; flex-wrap: wrap; justify-content: flex-start; width: 100% }\n",
       "    .wandb-col { display: flex; flex-direction: column; flex-basis: 100%; flex: 1; padding: 10px; }\n",
       "    </style>\n",
       "<div class=\"wandb-row\"><div class=\"wandb-col\"><h3>Run history:</h3><br/><table class=\"wandb\"><tr><td>Training Acc</td><td>▁▄▅▇▇██████████</td></tr><tr><td>Training Loss</td><td>█▆▅▄▂▂▁▁▁▁▁▁▁▁▁</td></tr><tr><td>Validation Acc</td><td>▂▂▁█▄▆▃▅▅▃▅▄▄▄▃</td></tr><tr><td>Validation Loss</td><td>▁██▂▇▅▇▅▅▆▅▆▅▆█</td></tr></table><br/></div><div class=\"wandb-col\"><h3>Run summary:</h3><br/><table class=\"wandb\"><tr><td>Training Acc</td><td>1.0</td></tr><tr><td>Training Loss</td><td>0.06875</td></tr><tr><td>Validation Acc</td><td>0.5</td></tr><tr><td>Validation Loss</td><td>1.82198</td></tr><tr><td>test_accuracy</td><td>0.84524</td></tr><tr><td>test_losss</td><td>0.54094</td></tr></table><br/></div></div>"
      ],
      "text/plain": [
       "<IPython.core.display.HTML object>"
      ]
     },
     "metadata": {},
     "output_type": "display_data"
    },
    {
     "data": {
      "text/html": [
       "Synced <strong style=\"color:#cdcd00\">distinctive-microwave-20</strong>: <a href=\"https://wandb.ai/miraclelinzzz/Final-ensemble/runs/3j85osja\" target=\"_blank\">https://wandb.ai/miraclelinzzz/Final-ensemble/runs/3j85osja</a><br/>Synced 5 W&B file(s), 0 media file(s), 0 artifact file(s) and 0 other file(s)"
      ],
      "text/plain": [
       "<IPython.core.display.HTML object>"
      ]
     },
     "metadata": {},
     "output_type": "display_data"
    },
    {
     "data": {
      "text/html": [
       "Find logs at: <code>./wandb/run-20220817_223650-3j85osja/logs</code>"
      ],
      "text/plain": [
       "<IPython.core.display.HTML object>"
      ]
     },
     "metadata": {},
     "output_type": "display_data"
    },
    {
     "name": "stdout",
     "output_type": "stream",
     "text": [
      "dr-0.4,arch-[128, 512, 256],bs-16,seed-0,index-1,epoch-15\n"
     ]
    },
    {
     "data": {
      "text/html": [
       "Tracking run with wandb version 0.13.1"
      ],
      "text/plain": [
       "<IPython.core.display.HTML object>"
      ]
     },
     "metadata": {},
     "output_type": "display_data"
    },
    {
     "data": {
      "text/html": [
       "Run data is saved locally in <code>/home/jupyter/wandb/run-20220817_223808-184lvboi</code>"
      ],
      "text/plain": [
       "<IPython.core.display.HTML object>"
      ]
     },
     "metadata": {},
     "output_type": "display_data"
    },
    {
     "data": {
      "text/html": [
       "Syncing run <strong><a href=\"https://wandb.ai/miraclelinzzz/Final-ensemble/runs/184lvboi\" target=\"_blank\">light-durian-21</a></strong> to <a href=\"https://wandb.ai/miraclelinzzz/Final-ensemble\" target=\"_blank\">Weights & Biases</a> (<a href=\"https://wandb.me/run\" target=\"_blank\">docs</a>)<br/>"
      ],
      "text/plain": [
       "<IPython.core.display.HTML object>"
      ]
     },
     "metadata": {},
     "output_type": "display_data"
    },
    {
     "data": {
      "text/html": [
       "Waiting for W&B process to finish... <strong style=\"color:green\">(success).</strong>"
      ],
      "text/plain": [
       "<IPython.core.display.HTML object>"
      ]
     },
     "metadata": {},
     "output_type": "display_data"
    },
    {
     "data": {
      "text/html": [
       "<style>\n",
       "    table.wandb td:nth-child(1) { padding: 0 10px; text-align: left ; width: auto;} td:nth-child(2) {text-align: left ; width: 100%}\n",
       "    .wandb-row { display: flex; flex-direction: row; flex-wrap: wrap; justify-content: flex-start; width: 100% }\n",
       "    .wandb-col { display: flex; flex-direction: column; flex-basis: 100%; flex: 1; padding: 10px; }\n",
       "    </style>\n",
       "<div class=\"wandb-row\"><div class=\"wandb-col\"><h3>Run history:</h3><br/><table class=\"wandb\"><tr><td>Training Acc</td><td>▁▁▂▃▃▃▄▅▆▅▇▆▆█▇</td></tr><tr><td>Training Loss</td><td>█▇▇▅▅▅▅▄▃▃▂▂▃▁▁</td></tr><tr><td>Validation Acc</td><td>▃▁▅▁▁▃▆▅▅▇▃█▆██</td></tr><tr><td>Validation Loss</td><td>▇▇▅▇▅▄▅▆▇▃█▄▇▃▁</td></tr></table><br/></div><div class=\"wandb-col\"><h3>Run summary:</h3><br/><table class=\"wandb\"><tr><td>Training Acc</td><td>0.86111</td></tr><tr><td>Training Loss</td><td>0.28885</td></tr><tr><td>Validation Acc</td><td>0.83333</td></tr><tr><td>Validation Loss</td><td>0.42155</td></tr><tr><td>test_accuracy</td><td>0.78036</td></tr><tr><td>test_losss</td><td>0.45565</td></tr></table><br/></div></div>"
      ],
      "text/plain": [
       "<IPython.core.display.HTML object>"
      ]
     },
     "metadata": {},
     "output_type": "display_data"
    },
    {
     "data": {
      "text/html": [
       "Synced <strong style=\"color:#cdcd00\">light-durian-21</strong>: <a href=\"https://wandb.ai/miraclelinzzz/Final-ensemble/runs/184lvboi\" target=\"_blank\">https://wandb.ai/miraclelinzzz/Final-ensemble/runs/184lvboi</a><br/>Synced 5 W&B file(s), 0 media file(s), 0 artifact file(s) and 0 other file(s)"
      ],
      "text/plain": [
       "<IPython.core.display.HTML object>"
      ]
     },
     "metadata": {},
     "output_type": "display_data"
    },
    {
     "data": {
      "text/html": [
       "Find logs at: <code>./wandb/run-20220817_223808-184lvboi/logs</code>"
      ],
      "text/plain": [
       "<IPython.core.display.HTML object>"
      ]
     },
     "metadata": {},
     "output_type": "display_data"
    },
    {
     "name": "stdout",
     "output_type": "stream",
     "text": [
      "dr-0.4,arch-[128, 512, 256],bs-16,seed-0,index-2,epoch-15\n"
     ]
    },
    {
     "data": {
      "text/html": [
       "Tracking run with wandb version 0.13.1"
      ],
      "text/plain": [
       "<IPython.core.display.HTML object>"
      ]
     },
     "metadata": {},
     "output_type": "display_data"
    },
    {
     "data": {
      "text/html": [
       "Run data is saved locally in <code>/home/jupyter/wandb/run-20220817_223922-2s4rqsua</code>"
      ],
      "text/plain": [
       "<IPython.core.display.HTML object>"
      ]
     },
     "metadata": {},
     "output_type": "display_data"
    },
    {
     "data": {
      "text/html": [
       "Syncing run <strong><a href=\"https://wandb.ai/miraclelinzzz/Final-ensemble/runs/2s4rqsua\" target=\"_blank\">fearless-thunder-22</a></strong> to <a href=\"https://wandb.ai/miraclelinzzz/Final-ensemble\" target=\"_blank\">Weights & Biases</a> (<a href=\"https://wandb.me/run\" target=\"_blank\">docs</a>)<br/>"
      ],
      "text/plain": [
       "<IPython.core.display.HTML object>"
      ]
     },
     "metadata": {},
     "output_type": "display_data"
    },
    {
     "data": {
      "text/html": [
       "Waiting for W&B process to finish... <strong style=\"color:green\">(success).</strong>"
      ],
      "text/plain": [
       "<IPython.core.display.HTML object>"
      ]
     },
     "metadata": {},
     "output_type": "display_data"
    },
    {
     "data": {
      "text/html": [
       "<style>\n",
       "    table.wandb td:nth-child(1) { padding: 0 10px; text-align: left ; width: auto;} td:nth-child(2) {text-align: left ; width: 100%}\n",
       "    .wandb-row { display: flex; flex-direction: row; flex-wrap: wrap; justify-content: flex-start; width: 100% }\n",
       "    .wandb-col { display: flex; flex-direction: column; flex-basis: 100%; flex: 1; padding: 10px; }\n",
       "    </style>\n",
       "<div class=\"wandb-row\"><div class=\"wandb-col\"><h3>Run history:</h3><br/><table class=\"wandb\"><tr><td>Training Acc</td><td>▁▁▂▃▂▄▄▄▅▆▇▇██▇</td></tr><tr><td>Training Loss</td><td>██▇▆▆▅▆▄▅▃▂▂▂▁▃</td></tr><tr><td>Validation Acc</td><td>▅▁▁▅▅▅▇█▄█▇▆██▆</td></tr><tr><td>Validation Loss</td><td>▇▇█▅▄▃▂▃█▁▁▃▁▁▁</td></tr></table><br/></div><div class=\"wandb-col\"><h3>Run summary:</h3><br/><table class=\"wandb\"><tr><td>Training Acc</td><td>0.84722</td></tr><tr><td>Training Loss</td><td>0.41422</td></tr><tr><td>Validation Acc</td><td>0.6875</td></tr><tr><td>Validation Loss</td><td>0.45373</td></tr><tr><td>test_accuracy</td><td>0.80536</td></tr><tr><td>test_losss</td><td>0.45077</td></tr></table><br/></div></div>"
      ],
      "text/plain": [
       "<IPython.core.display.HTML object>"
      ]
     },
     "metadata": {},
     "output_type": "display_data"
    },
    {
     "data": {
      "text/html": [
       "Synced <strong style=\"color:#cdcd00\">fearless-thunder-22</strong>: <a href=\"https://wandb.ai/miraclelinzzz/Final-ensemble/runs/2s4rqsua\" target=\"_blank\">https://wandb.ai/miraclelinzzz/Final-ensemble/runs/2s4rqsua</a><br/>Synced 5 W&B file(s), 0 media file(s), 0 artifact file(s) and 0 other file(s)"
      ],
      "text/plain": [
       "<IPython.core.display.HTML object>"
      ]
     },
     "metadata": {},
     "output_type": "display_data"
    },
    {
     "data": {
      "text/html": [
       "Find logs at: <code>./wandb/run-20220817_223922-2s4rqsua/logs</code>"
      ],
      "text/plain": [
       "<IPython.core.display.HTML object>"
      ]
     },
     "metadata": {},
     "output_type": "display_data"
    },
    {
     "name": "stdout",
     "output_type": "stream",
     "text": [
      "dr-0.4,arch-[128, 512, 256],bs-16,seed-0,index-3,epoch-15\n"
     ]
    },
    {
     "data": {
      "text/html": [
       "Tracking run with wandb version 0.13.1"
      ],
      "text/plain": [
       "<IPython.core.display.HTML object>"
      ]
     },
     "metadata": {},
     "output_type": "display_data"
    },
    {
     "data": {
      "text/html": [
       "Run data is saved locally in <code>/home/jupyter/wandb/run-20220817_224036-2vhefrjm</code>"
      ],
      "text/plain": [
       "<IPython.core.display.HTML object>"
      ]
     },
     "metadata": {},
     "output_type": "display_data"
    },
    {
     "data": {
      "text/html": [
       "Syncing run <strong><a href=\"https://wandb.ai/miraclelinzzz/Final-ensemble/runs/2vhefrjm\" target=\"_blank\">celestial-dew-23</a></strong> to <a href=\"https://wandb.ai/miraclelinzzz/Final-ensemble\" target=\"_blank\">Weights & Biases</a> (<a href=\"https://wandb.me/run\" target=\"_blank\">docs</a>)<br/>"
      ],
      "text/plain": [
       "<IPython.core.display.HTML object>"
      ]
     },
     "metadata": {},
     "output_type": "display_data"
    },
    {
     "data": {
      "text/html": [
       "Waiting for W&B process to finish... <strong style=\"color:green\">(success).</strong>"
      ],
      "text/plain": [
       "<IPython.core.display.HTML object>"
      ]
     },
     "metadata": {},
     "output_type": "display_data"
    },
    {
     "data": {
      "text/html": [
       "<style>\n",
       "    table.wandb td:nth-child(1) { padding: 0 10px; text-align: left ; width: auto;} td:nth-child(2) {text-align: left ; width: 100%}\n",
       "    .wandb-row { display: flex; flex-direction: row; flex-wrap: wrap; justify-content: flex-start; width: 100% }\n",
       "    .wandb-col { display: flex; flex-direction: column; flex-basis: 100%; flex: 1; padding: 10px; }\n",
       "    </style>\n",
       "<div class=\"wandb-row\"><div class=\"wandb-col\"><h3>Run history:</h3><br/><table class=\"wandb\"><tr><td>Training Acc</td><td>▁▄▄▃▅▅▅▅▅▆▆▇▇██</td></tr><tr><td>Training Loss</td><td>█▇▇▆▅▅▆▅▄▄▃▃▂▂▁</td></tr><tr><td>Validation Acc</td><td>▁▆▁▆▃▄▁▆▄▂▁▅█▇▄</td></tr><tr><td>Validation Loss</td><td>▄▄▃▂▄▂▅▃▅▄█▁▁▁▂</td></tr></table><br/></div><div class=\"wandb-col\"><h3>Run summary:</h3><br/><table class=\"wandb\"><tr><td>Training Acc</td><td>0.94444</td></tr><tr><td>Training Loss</td><td>0.30747</td></tr><tr><td>Validation Acc</td><td>0.52083</td></tr><tr><td>Validation Loss</td><td>0.61391</td></tr><tr><td>test_accuracy</td><td>0.76786</td></tr><tr><td>test_losss</td><td>0.46667</td></tr></table><br/></div></div>"
      ],
      "text/plain": [
       "<IPython.core.display.HTML object>"
      ]
     },
     "metadata": {},
     "output_type": "display_data"
    },
    {
     "data": {
      "text/html": [
       "Synced <strong style=\"color:#cdcd00\">celestial-dew-23</strong>: <a href=\"https://wandb.ai/miraclelinzzz/Final-ensemble/runs/2vhefrjm\" target=\"_blank\">https://wandb.ai/miraclelinzzz/Final-ensemble/runs/2vhefrjm</a><br/>Synced 5 W&B file(s), 0 media file(s), 0 artifact file(s) and 0 other file(s)"
      ],
      "text/plain": [
       "<IPython.core.display.HTML object>"
      ]
     },
     "metadata": {},
     "output_type": "display_data"
    },
    {
     "data": {
      "text/html": [
       "Find logs at: <code>./wandb/run-20220817_224036-2vhefrjm/logs</code>"
      ],
      "text/plain": [
       "<IPython.core.display.HTML object>"
      ]
     },
     "metadata": {},
     "output_type": "display_data"
    },
    {
     "name": "stdout",
     "output_type": "stream",
     "text": [
      "dr-0.3,arch-[256, 64],bs-16,seed-0,index-1,epoch-15\n"
     ]
    },
    {
     "data": {
      "text/html": [
       "Tracking run with wandb version 0.13.1"
      ],
      "text/plain": [
       "<IPython.core.display.HTML object>"
      ]
     },
     "metadata": {},
     "output_type": "display_data"
    },
    {
     "data": {
      "text/html": [
       "Run data is saved locally in <code>/home/jupyter/wandb/run-20220817_224150-meq95a7n</code>"
      ],
      "text/plain": [
       "<IPython.core.display.HTML object>"
      ]
     },
     "metadata": {},
     "output_type": "display_data"
    },
    {
     "data": {
      "text/html": [
       "Syncing run <strong><a href=\"https://wandb.ai/miraclelinzzz/Final-ensemble/runs/meq95a7n\" target=\"_blank\">proud-wildflower-24</a></strong> to <a href=\"https://wandb.ai/miraclelinzzz/Final-ensemble\" target=\"_blank\">Weights & Biases</a> (<a href=\"https://wandb.me/run\" target=\"_blank\">docs</a>)<br/>"
      ],
      "text/plain": [
       "<IPython.core.display.HTML object>"
      ]
     },
     "metadata": {},
     "output_type": "display_data"
    },
    {
     "data": {
      "text/html": [
       "Waiting for W&B process to finish... <strong style=\"color:green\">(success).</strong>"
      ],
      "text/plain": [
       "<IPython.core.display.HTML object>"
      ]
     },
     "metadata": {},
     "output_type": "display_data"
    },
    {
     "data": {
      "text/html": [
       "<style>\n",
       "    table.wandb td:nth-child(1) { padding: 0 10px; text-align: left ; width: auto;} td:nth-child(2) {text-align: left ; width: 100%}\n",
       "    .wandb-row { display: flex; flex-direction: row; flex-wrap: wrap; justify-content: flex-start; width: 100% }\n",
       "    .wandb-col { display: flex; flex-direction: column; flex-basis: 100%; flex: 1; padding: 10px; }\n",
       "    </style>\n",
       "<div class=\"wandb-row\"><div class=\"wandb-col\"><h3>Run history:</h3><br/><table class=\"wandb\"><tr><td>Training Acc</td><td>▁▃▄▅▆▇▇████████</td></tr><tr><td>Training Loss</td><td>█▇▅▆▃▃▂▂▁▁▂▂▁▁▁</td></tr><tr><td>Validation Acc</td><td>▁▄▂▆▅▃█▄▆▄██▅█▅</td></tr><tr><td>Validation Loss</td><td>▇▆▄▂▃▃▁▅█▇▁▁▃▁▆</td></tr></table><br/></div><div class=\"wandb-col\"><h3>Run summary:</h3><br/><table class=\"wandb\"><tr><td>Training Acc</td><td>1.0</td></tr><tr><td>Training Loss</td><td>0.18896</td></tr><tr><td>Validation Acc</td><td>0.66667</td></tr><tr><td>Validation Loss</td><td>0.64493</td></tr><tr><td>test_accuracy</td><td>0.78929</td></tr><tr><td>test_losss</td><td>0.45842</td></tr></table><br/></div></div>"
      ],
      "text/plain": [
       "<IPython.core.display.HTML object>"
      ]
     },
     "metadata": {},
     "output_type": "display_data"
    },
    {
     "data": {
      "text/html": [
       "Synced <strong style=\"color:#cdcd00\">proud-wildflower-24</strong>: <a href=\"https://wandb.ai/miraclelinzzz/Final-ensemble/runs/meq95a7n\" target=\"_blank\">https://wandb.ai/miraclelinzzz/Final-ensemble/runs/meq95a7n</a><br/>Synced 5 W&B file(s), 0 media file(s), 0 artifact file(s) and 0 other file(s)"
      ],
      "text/plain": [
       "<IPython.core.display.HTML object>"
      ]
     },
     "metadata": {},
     "output_type": "display_data"
    },
    {
     "data": {
      "text/html": [
       "Find logs at: <code>./wandb/run-20220817_224150-meq95a7n/logs</code>"
      ],
      "text/plain": [
       "<IPython.core.display.HTML object>"
      ]
     },
     "metadata": {},
     "output_type": "display_data"
    },
    {
     "name": "stdout",
     "output_type": "stream",
     "text": [
      "dr-0.3,arch-[256, 64],bs-16,seed-0,index-2,epoch-15\n"
     ]
    },
    {
     "data": {
      "text/html": [
       "Tracking run with wandb version 0.13.1"
      ],
      "text/plain": [
       "<IPython.core.display.HTML object>"
      ]
     },
     "metadata": {},
     "output_type": "display_data"
    },
    {
     "data": {
      "text/html": [
       "Run data is saved locally in <code>/home/jupyter/wandb/run-20220817_224303-2n5tq9c6</code>"
      ],
      "text/plain": [
       "<IPython.core.display.HTML object>"
      ]
     },
     "metadata": {},
     "output_type": "display_data"
    },
    {
     "data": {
      "text/html": [
       "Syncing run <strong><a href=\"https://wandb.ai/miraclelinzzz/Final-ensemble/runs/2n5tq9c6\" target=\"_blank\">giddy-dawn-25</a></strong> to <a href=\"https://wandb.ai/miraclelinzzz/Final-ensemble\" target=\"_blank\">Weights & Biases</a> (<a href=\"https://wandb.me/run\" target=\"_blank\">docs</a>)<br/>"
      ],
      "text/plain": [
       "<IPython.core.display.HTML object>"
      ]
     },
     "metadata": {},
     "output_type": "display_data"
    },
    {
     "data": {
      "text/html": [
       "Waiting for W&B process to finish... <strong style=\"color:green\">(success).</strong>"
      ],
      "text/plain": [
       "<IPython.core.display.HTML object>"
      ]
     },
     "metadata": {},
     "output_type": "display_data"
    },
    {
     "data": {
      "text/html": [
       "<style>\n",
       "    table.wandb td:nth-child(1) { padding: 0 10px; text-align: left ; width: auto;} td:nth-child(2) {text-align: left ; width: 100%}\n",
       "    .wandb-row { display: flex; flex-direction: row; flex-wrap: wrap; justify-content: flex-start; width: 100% }\n",
       "    .wandb-col { display: flex; flex-direction: column; flex-basis: 100%; flex: 1; padding: 10px; }\n",
       "    </style>\n",
       "<div class=\"wandb-row\"><div class=\"wandb-col\"><h3>Run history:</h3><br/><table class=\"wandb\"><tr><td>Training Acc</td><td>▁▃▅▆▆▇█████████</td></tr><tr><td>Training Loss</td><td>█▇▅▄▃▃▂▂▁▁▁▁▁▁▁</td></tr><tr><td>Validation Acc</td><td>▃▁▄▅▅▅▇▆▇▇█▇▆▆█</td></tr><tr><td>Validation Loss</td><td>█▇▇▅▆▆▂▄▂▁▁▂▆▇▂</td></tr></table><br/></div><div class=\"wandb-col\"><h3>Run summary:</h3><br/><table class=\"wandb\"><tr><td>Training Acc</td><td>1.0</td></tr><tr><td>Training Loss</td><td>0.17442</td></tr><tr><td>Validation Acc</td><td>0.91667</td></tr><tr><td>Validation Loss</td><td>0.36953</td></tr><tr><td>test_accuracy</td><td>0.84643</td></tr><tr><td>test_losss</td><td>0.43477</td></tr></table><br/></div></div>"
      ],
      "text/plain": [
       "<IPython.core.display.HTML object>"
      ]
     },
     "metadata": {},
     "output_type": "display_data"
    },
    {
     "data": {
      "text/html": [
       "Synced <strong style=\"color:#cdcd00\">giddy-dawn-25</strong>: <a href=\"https://wandb.ai/miraclelinzzz/Final-ensemble/runs/2n5tq9c6\" target=\"_blank\">https://wandb.ai/miraclelinzzz/Final-ensemble/runs/2n5tq9c6</a><br/>Synced 5 W&B file(s), 0 media file(s), 0 artifact file(s) and 0 other file(s)"
      ],
      "text/plain": [
       "<IPython.core.display.HTML object>"
      ]
     },
     "metadata": {},
     "output_type": "display_data"
    },
    {
     "data": {
      "text/html": [
       "Find logs at: <code>./wandb/run-20220817_224303-2n5tq9c6/logs</code>"
      ],
      "text/plain": [
       "<IPython.core.display.HTML object>"
      ]
     },
     "metadata": {},
     "output_type": "display_data"
    },
    {
     "name": "stdout",
     "output_type": "stream",
     "text": [
      "dr-0.3,arch-[256, 64],bs-16,seed-0,index-3,epoch-15\n"
     ]
    },
    {
     "data": {
      "text/html": [
       "Tracking run with wandb version 0.13.1"
      ],
      "text/plain": [
       "<IPython.core.display.HTML object>"
      ]
     },
     "metadata": {},
     "output_type": "display_data"
    },
    {
     "data": {
      "text/html": [
       "Run data is saved locally in <code>/home/jupyter/wandb/run-20220817_224417-1aj5pbh3</code>"
      ],
      "text/plain": [
       "<IPython.core.display.HTML object>"
      ]
     },
     "metadata": {},
     "output_type": "display_data"
    },
    {
     "data": {
      "text/html": [
       "Syncing run <strong><a href=\"https://wandb.ai/miraclelinzzz/Final-ensemble/runs/1aj5pbh3\" target=\"_blank\">vocal-meadow-26</a></strong> to <a href=\"https://wandb.ai/miraclelinzzz/Final-ensemble\" target=\"_blank\">Weights & Biases</a> (<a href=\"https://wandb.me/run\" target=\"_blank\">docs</a>)<br/>"
      ],
      "text/plain": [
       "<IPython.core.display.HTML object>"
      ]
     },
     "metadata": {},
     "output_type": "display_data"
    },
    {
     "data": {
      "text/html": [
       "Waiting for W&B process to finish... <strong style=\"color:green\">(success).</strong>"
      ],
      "text/plain": [
       "<IPython.core.display.HTML object>"
      ]
     },
     "metadata": {},
     "output_type": "display_data"
    },
    {
     "data": {
      "text/html": [
       "<style>\n",
       "    table.wandb td:nth-child(1) { padding: 0 10px; text-align: left ; width: auto;} td:nth-child(2) {text-align: left ; width: 100%}\n",
       "    .wandb-row { display: flex; flex-direction: row; flex-wrap: wrap; justify-content: flex-start; width: 100% }\n",
       "    .wandb-col { display: flex; flex-direction: column; flex-basis: 100%; flex: 1; padding: 10px; }\n",
       "    </style>\n",
       "<div class=\"wandb-row\"><div class=\"wandb-col\"><h3>Run history:</h3><br/><table class=\"wandb\"><tr><td>Training Acc</td><td>▁▄▄▆▆█▇███▇████</td></tr><tr><td>Training Loss</td><td>█▆▆▄▃▂▂▂▂▂▃▁▁▁▁</td></tr><tr><td>Validation Acc</td><td>▁▁▃▄▇█▇▆▃▄▆▅▄▆▆</td></tr><tr><td>Validation Loss</td><td>▅▅▄▅▁▁▂▄██▄▇█▄▄</td></tr></table><br/></div><div class=\"wandb-col\"><h3>Run summary:</h3><br/><table class=\"wandb\"><tr><td>Training Acc</td><td>1.0</td></tr><tr><td>Training Loss</td><td>0.19894</td></tr><tr><td>Validation Acc</td><td>0.70833</td></tr><tr><td>Validation Loss</td><td>0.62353</td></tr><tr><td>test_accuracy</td><td>0.84643</td></tr><tr><td>test_losss</td><td>0.3975</td></tr></table><br/></div></div>"
      ],
      "text/plain": [
       "<IPython.core.display.HTML object>"
      ]
     },
     "metadata": {},
     "output_type": "display_data"
    },
    {
     "data": {
      "text/html": [
       "Synced <strong style=\"color:#cdcd00\">vocal-meadow-26</strong>: <a href=\"https://wandb.ai/miraclelinzzz/Final-ensemble/runs/1aj5pbh3\" target=\"_blank\">https://wandb.ai/miraclelinzzz/Final-ensemble/runs/1aj5pbh3</a><br/>Synced 5 W&B file(s), 0 media file(s), 0 artifact file(s) and 0 other file(s)"
      ],
      "text/plain": [
       "<IPython.core.display.HTML object>"
      ]
     },
     "metadata": {},
     "output_type": "display_data"
    },
    {
     "data": {
      "text/html": [
       "Find logs at: <code>./wandb/run-20220817_224417-1aj5pbh3/logs</code>"
      ],
      "text/plain": [
       "<IPython.core.display.HTML object>"
      ]
     },
     "metadata": {},
     "output_type": "display_data"
    },
    {
     "name": "stdout",
     "output_type": "stream",
     "text": [
      "dr-0.4,arch-[256, 128],bs-16,seed-0,index-1,epoch-15\n"
     ]
    },
    {
     "data": {
      "text/html": [
       "Tracking run with wandb version 0.13.1"
      ],
      "text/plain": [
       "<IPython.core.display.HTML object>"
      ]
     },
     "metadata": {},
     "output_type": "display_data"
    },
    {
     "data": {
      "text/html": [
       "Run data is saved locally in <code>/home/jupyter/wandb/run-20220817_224530-2vr2ex8p</code>"
      ],
      "text/plain": [
       "<IPython.core.display.HTML object>"
      ]
     },
     "metadata": {},
     "output_type": "display_data"
    },
    {
     "data": {
      "text/html": [
       "Syncing run <strong><a href=\"https://wandb.ai/miraclelinzzz/Final-ensemble/runs/2vr2ex8p\" target=\"_blank\">trim-armadillo-27</a></strong> to <a href=\"https://wandb.ai/miraclelinzzz/Final-ensemble\" target=\"_blank\">Weights & Biases</a> (<a href=\"https://wandb.me/run\" target=\"_blank\">docs</a>)<br/>"
      ],
      "text/plain": [
       "<IPython.core.display.HTML object>"
      ]
     },
     "metadata": {},
     "output_type": "display_data"
    },
    {
     "data": {
      "text/html": [
       "Waiting for W&B process to finish... <strong style=\"color:green\">(success).</strong>"
      ],
      "text/plain": [
       "<IPython.core.display.HTML object>"
      ]
     },
     "metadata": {},
     "output_type": "display_data"
    },
    {
     "data": {
      "text/html": [
       "<style>\n",
       "    table.wandb td:nth-child(1) { padding: 0 10px; text-align: left ; width: auto;} td:nth-child(2) {text-align: left ; width: 100%}\n",
       "    .wandb-row { display: flex; flex-direction: row; flex-wrap: wrap; justify-content: flex-start; width: 100% }\n",
       "    .wandb-col { display: flex; flex-direction: column; flex-basis: 100%; flex: 1; padding: 10px; }\n",
       "    </style>\n",
       "<div class=\"wandb-row\"><div class=\"wandb-col\"><h3>Run history:</h3><br/><table class=\"wandb\"><tr><td>Training Acc</td><td>▁▂▃▄▆▆▇████████</td></tr><tr><td>Training Loss</td><td>█▇▇▆▄▄▃▂▂▂▁▁▁▁▁</td></tr><tr><td>Validation Acc</td><td>▃▁▄▇▅▅▅▅█▆▆█▆█▅</td></tr><tr><td>Validation Loss</td><td>▅▄▄▃▅▃█▅▁▆▄▁▂▁▅</td></tr></table><br/></div><div class=\"wandb-col\"><h3>Run summary:</h3><br/><table class=\"wandb\"><tr><td>Training Acc</td><td>1.0</td></tr><tr><td>Training Loss</td><td>0.16698</td></tr><tr><td>Validation Acc</td><td>0.66667</td></tr><tr><td>Validation Loss</td><td>0.66569</td></tr><tr><td>test_accuracy</td><td>0.77679</td></tr><tr><td>test_losss</td><td>0.50816</td></tr></table><br/></div></div>"
      ],
      "text/plain": [
       "<IPython.core.display.HTML object>"
      ]
     },
     "metadata": {},
     "output_type": "display_data"
    },
    {
     "data": {
      "text/html": [
       "Synced <strong style=\"color:#cdcd00\">trim-armadillo-27</strong>: <a href=\"https://wandb.ai/miraclelinzzz/Final-ensemble/runs/2vr2ex8p\" target=\"_blank\">https://wandb.ai/miraclelinzzz/Final-ensemble/runs/2vr2ex8p</a><br/>Synced 5 W&B file(s), 0 media file(s), 0 artifact file(s) and 0 other file(s)"
      ],
      "text/plain": [
       "<IPython.core.display.HTML object>"
      ]
     },
     "metadata": {},
     "output_type": "display_data"
    },
    {
     "data": {
      "text/html": [
       "Find logs at: <code>./wandb/run-20220817_224530-2vr2ex8p/logs</code>"
      ],
      "text/plain": [
       "<IPython.core.display.HTML object>"
      ]
     },
     "metadata": {},
     "output_type": "display_data"
    },
    {
     "name": "stdout",
     "output_type": "stream",
     "text": [
      "dr-0.4,arch-[256, 128],bs-16,seed-0,index-2,epoch-15\n"
     ]
    },
    {
     "data": {
      "text/html": [
       "Tracking run with wandb version 0.13.1"
      ],
      "text/plain": [
       "<IPython.core.display.HTML object>"
      ]
     },
     "metadata": {},
     "output_type": "display_data"
    },
    {
     "data": {
      "text/html": [
       "Run data is saved locally in <code>/home/jupyter/wandb/run-20220817_224643-2exxj1pb</code>"
      ],
      "text/plain": [
       "<IPython.core.display.HTML object>"
      ]
     },
     "metadata": {},
     "output_type": "display_data"
    },
    {
     "data": {
      "text/html": [
       "Syncing run <strong><a href=\"https://wandb.ai/miraclelinzzz/Final-ensemble/runs/2exxj1pb\" target=\"_blank\">visionary-voice-28</a></strong> to <a href=\"https://wandb.ai/miraclelinzzz/Final-ensemble\" target=\"_blank\">Weights & Biases</a> (<a href=\"https://wandb.me/run\" target=\"_blank\">docs</a>)<br/>"
      ],
      "text/plain": [
       "<IPython.core.display.HTML object>"
      ]
     },
     "metadata": {},
     "output_type": "display_data"
    },
    {
     "data": {
      "text/html": [
       "Waiting for W&B process to finish... <strong style=\"color:green\">(success).</strong>"
      ],
      "text/plain": [
       "<IPython.core.display.HTML object>"
      ]
     },
     "metadata": {},
     "output_type": "display_data"
    },
    {
     "data": {
      "text/html": [
       "<style>\n",
       "    table.wandb td:nth-child(1) { padding: 0 10px; text-align: left ; width: auto;} td:nth-child(2) {text-align: left ; width: 100%}\n",
       "    .wandb-row { display: flex; flex-direction: row; flex-wrap: wrap; justify-content: flex-start; width: 100% }\n",
       "    .wandb-col { display: flex; flex-direction: column; flex-basis: 100%; flex: 1; padding: 10px; }\n",
       "    </style>\n",
       "<div class=\"wandb-row\"><div class=\"wandb-col\"><h3>Run history:</h3><br/><table class=\"wandb\"><tr><td>Training Acc</td><td>▁▃▃▄▆▇█████▆███</td></tr><tr><td>Training Loss</td><td>█▇▆▅▄▃▂▂▂▂▁▂▂▁▁</td></tr><tr><td>Validation Acc</td><td>▁▆▄█▇▅████▆████</td></tr><tr><td>Validation Loss</td><td>█▇▆▅▃▇▂▁▁▁▇▁▁▁▁</td></tr></table><br/></div><div class=\"wandb-col\"><h3>Run summary:</h3><br/><table class=\"wandb\"><tr><td>Training Acc</td><td>1.0</td></tr><tr><td>Training Loss</td><td>0.14646</td></tr><tr><td>Validation Acc</td><td>0.91667</td></tr><tr><td>Validation Loss</td><td>0.28164</td></tr><tr><td>test_accuracy</td><td>0.85536</td></tr><tr><td>test_losss</td><td>0.40083</td></tr></table><br/></div></div>"
      ],
      "text/plain": [
       "<IPython.core.display.HTML object>"
      ]
     },
     "metadata": {},
     "output_type": "display_data"
    },
    {
     "data": {
      "text/html": [
       "Synced <strong style=\"color:#cdcd00\">visionary-voice-28</strong>: <a href=\"https://wandb.ai/miraclelinzzz/Final-ensemble/runs/2exxj1pb\" target=\"_blank\">https://wandb.ai/miraclelinzzz/Final-ensemble/runs/2exxj1pb</a><br/>Synced 5 W&B file(s), 0 media file(s), 0 artifact file(s) and 0 other file(s)"
      ],
      "text/plain": [
       "<IPython.core.display.HTML object>"
      ]
     },
     "metadata": {},
     "output_type": "display_data"
    },
    {
     "data": {
      "text/html": [
       "Find logs at: <code>./wandb/run-20220817_224643-2exxj1pb/logs</code>"
      ],
      "text/plain": [
       "<IPython.core.display.HTML object>"
      ]
     },
     "metadata": {},
     "output_type": "display_data"
    },
    {
     "name": "stdout",
     "output_type": "stream",
     "text": [
      "dr-0.4,arch-[256, 128],bs-16,seed-0,index-3,epoch-15\n"
     ]
    },
    {
     "data": {
      "text/html": [
       "Tracking run with wandb version 0.13.1"
      ],
      "text/plain": [
       "<IPython.core.display.HTML object>"
      ]
     },
     "metadata": {},
     "output_type": "display_data"
    },
    {
     "data": {
      "text/html": [
       "Run data is saved locally in <code>/home/jupyter/wandb/run-20220817_224757-ggq7dt1m</code>"
      ],
      "text/plain": [
       "<IPython.core.display.HTML object>"
      ]
     },
     "metadata": {},
     "output_type": "display_data"
    },
    {
     "data": {
      "text/html": [
       "Syncing run <strong><a href=\"https://wandb.ai/miraclelinzzz/Final-ensemble/runs/ggq7dt1m\" target=\"_blank\">tough-capybara-29</a></strong> to <a href=\"https://wandb.ai/miraclelinzzz/Final-ensemble\" target=\"_blank\">Weights & Biases</a> (<a href=\"https://wandb.me/run\" target=\"_blank\">docs</a>)<br/>"
      ],
      "text/plain": [
       "<IPython.core.display.HTML object>"
      ]
     },
     "metadata": {},
     "output_type": "display_data"
    },
    {
     "data": {
      "text/html": [
       "Waiting for W&B process to finish... <strong style=\"color:green\">(success).</strong>"
      ],
      "text/plain": [
       "<IPython.core.display.HTML object>"
      ]
     },
     "metadata": {},
     "output_type": "display_data"
    },
    {
     "data": {
      "text/html": [
       "<style>\n",
       "    table.wandb td:nth-child(1) { padding: 0 10px; text-align: left ; width: auto;} td:nth-child(2) {text-align: left ; width: 100%}\n",
       "    .wandb-row { display: flex; flex-direction: row; flex-wrap: wrap; justify-content: flex-start; width: 100% }\n",
       "    .wandb-col { display: flex; flex-direction: column; flex-basis: 100%; flex: 1; padding: 10px; }\n",
       "    </style>\n",
       "<div class=\"wandb-row\"><div class=\"wandb-col\"><h3>Run history:</h3><br/><table class=\"wandb\"><tr><td>Training Acc</td><td>▁▁▂▃▄▄▆▆▆▇██▇█▇</td></tr><tr><td>Training Loss</td><td>██▇▆▅▅▄▃▂▂▁▁▂▁▁</td></tr><tr><td>Validation Acc</td><td>▄▁▄▁▄▇▇▄▇▇▂▅▅▂█</td></tr><tr><td>Validation Loss</td><td>▃▃▂▃▄▂▃▆▃▂█▃▄▅▁</td></tr></table><br/></div><div class=\"wandb-col\"><h3>Run summary:</h3><br/><table class=\"wandb\"><tr><td>Training Acc</td><td>0.92361</td></tr><tr><td>Training Loss</td><td>0.23925</td></tr><tr><td>Validation Acc</td><td>0.72917</td></tr><tr><td>Validation Loss</td><td>0.53094</td></tr><tr><td>test_accuracy</td><td>0.84643</td></tr><tr><td>test_losss</td><td>0.4176</td></tr></table><br/></div></div>"
      ],
      "text/plain": [
       "<IPython.core.display.HTML object>"
      ]
     },
     "metadata": {},
     "output_type": "display_data"
    },
    {
     "data": {
      "text/html": [
       "Synced <strong style=\"color:#cdcd00\">tough-capybara-29</strong>: <a href=\"https://wandb.ai/miraclelinzzz/Final-ensemble/runs/ggq7dt1m\" target=\"_blank\">https://wandb.ai/miraclelinzzz/Final-ensemble/runs/ggq7dt1m</a><br/>Synced 5 W&B file(s), 0 media file(s), 0 artifact file(s) and 0 other file(s)"
      ],
      "text/plain": [
       "<IPython.core.display.HTML object>"
      ]
     },
     "metadata": {},
     "output_type": "display_data"
    },
    {
     "data": {
      "text/html": [
       "Find logs at: <code>./wandb/run-20220817_224757-ggq7dt1m/logs</code>"
      ],
      "text/plain": [
       "<IPython.core.display.HTML object>"
      ]
     },
     "metadata": {},
     "output_type": "display_data"
    },
    {
     "name": "stdout",
     "output_type": "stream",
     "text": [
      "dr-0.5,arch-[512, 256],bs-16,seed-0,index-1,epoch-15\n"
     ]
    },
    {
     "data": {
      "text/html": [
       "Tracking run with wandb version 0.13.1"
      ],
      "text/plain": [
       "<IPython.core.display.HTML object>"
      ]
     },
     "metadata": {},
     "output_type": "display_data"
    },
    {
     "data": {
      "text/html": [
       "Run data is saved locally in <code>/home/jupyter/wandb/run-20220817_224910-1a46580s</code>"
      ],
      "text/plain": [
       "<IPython.core.display.HTML object>"
      ]
     },
     "metadata": {},
     "output_type": "display_data"
    },
    {
     "data": {
      "text/html": [
       "Syncing run <strong><a href=\"https://wandb.ai/miraclelinzzz/Final-ensemble/runs/1a46580s\" target=\"_blank\">crimson-smoke-30</a></strong> to <a href=\"https://wandb.ai/miraclelinzzz/Final-ensemble\" target=\"_blank\">Weights & Biases</a> (<a href=\"https://wandb.me/run\" target=\"_blank\">docs</a>)<br/>"
      ],
      "text/plain": [
       "<IPython.core.display.HTML object>"
      ]
     },
     "metadata": {},
     "output_type": "display_data"
    },
    {
     "data": {
      "text/html": [
       "Waiting for W&B process to finish... <strong style=\"color:green\">(success).</strong>"
      ],
      "text/plain": [
       "<IPython.core.display.HTML object>"
      ]
     },
     "metadata": {},
     "output_type": "display_data"
    },
    {
     "data": {
      "text/html": [
       "<style>\n",
       "    table.wandb td:nth-child(1) { padding: 0 10px; text-align: left ; width: auto;} td:nth-child(2) {text-align: left ; width: 100%}\n",
       "    .wandb-row { display: flex; flex-direction: row; flex-wrap: wrap; justify-content: flex-start; width: 100% }\n",
       "    .wandb-col { display: flex; flex-direction: column; flex-basis: 100%; flex: 1; padding: 10px; }\n",
       "    </style>\n",
       "<div class=\"wandb-row\"><div class=\"wandb-col\"><h3>Run history:</h3><br/><table class=\"wandb\"><tr><td>Training Acc</td><td>▁▂▅▆▆▇█████████</td></tr><tr><td>Training Loss</td><td>█▇▅▄▃▄▂▂▂▁▁▁▁▁▁</td></tr><tr><td>Validation Acc</td><td>▄▄▄▇█▁▆▇▅██▅▆██</td></tr><tr><td>Validation Loss</td><td>▄▃▄▂▂█▃▂▃▁▁▄▂▁▁</td></tr></table><br/></div><div class=\"wandb-col\"><h3>Run summary:</h3><br/><table class=\"wandb\"><tr><td>Training Acc</td><td>1.0</td></tr><tr><td>Training Loss</td><td>0.09226</td></tr><tr><td>Validation Acc</td><td>0.89583</td></tr><tr><td>Validation Loss</td><td>0.34808</td></tr><tr><td>test_accuracy</td><td>0.87143</td></tr><tr><td>test_losss</td><td>0.42847</td></tr></table><br/></div></div>"
      ],
      "text/plain": [
       "<IPython.core.display.HTML object>"
      ]
     },
     "metadata": {},
     "output_type": "display_data"
    },
    {
     "data": {
      "text/html": [
       "Synced <strong style=\"color:#cdcd00\">crimson-smoke-30</strong>: <a href=\"https://wandb.ai/miraclelinzzz/Final-ensemble/runs/1a46580s\" target=\"_blank\">https://wandb.ai/miraclelinzzz/Final-ensemble/runs/1a46580s</a><br/>Synced 5 W&B file(s), 0 media file(s), 0 artifact file(s) and 0 other file(s)"
      ],
      "text/plain": [
       "<IPython.core.display.HTML object>"
      ]
     },
     "metadata": {},
     "output_type": "display_data"
    },
    {
     "data": {
      "text/html": [
       "Find logs at: <code>./wandb/run-20220817_224910-1a46580s/logs</code>"
      ],
      "text/plain": [
       "<IPython.core.display.HTML object>"
      ]
     },
     "metadata": {},
     "output_type": "display_data"
    },
    {
     "name": "stdout",
     "output_type": "stream",
     "text": [
      "dr-0.5,arch-[512, 256],bs-16,seed-0,index-2,epoch-15\n"
     ]
    },
    {
     "data": {
      "text/html": [
       "Tracking run with wandb version 0.13.1"
      ],
      "text/plain": [
       "<IPython.core.display.HTML object>"
      ]
     },
     "metadata": {},
     "output_type": "display_data"
    },
    {
     "data": {
      "text/html": [
       "Run data is saved locally in <code>/home/jupyter/wandb/run-20220817_225023-1meqnjin</code>"
      ],
      "text/plain": [
       "<IPython.core.display.HTML object>"
      ]
     },
     "metadata": {},
     "output_type": "display_data"
    },
    {
     "data": {
      "text/html": [
       "Syncing run <strong><a href=\"https://wandb.ai/miraclelinzzz/Final-ensemble/runs/1meqnjin\" target=\"_blank\">treasured-river-31</a></strong> to <a href=\"https://wandb.ai/miraclelinzzz/Final-ensemble\" target=\"_blank\">Weights & Biases</a> (<a href=\"https://wandb.me/run\" target=\"_blank\">docs</a>)<br/>"
      ],
      "text/plain": [
       "<IPython.core.display.HTML object>"
      ]
     },
     "metadata": {},
     "output_type": "display_data"
    },
    {
     "data": {
      "text/html": [
       "Waiting for W&B process to finish... <strong style=\"color:green\">(success).</strong>"
      ],
      "text/plain": [
       "<IPython.core.display.HTML object>"
      ]
     },
     "metadata": {},
     "output_type": "display_data"
    },
    {
     "data": {
      "text/html": [
       "<style>\n",
       "    table.wandb td:nth-child(1) { padding: 0 10px; text-align: left ; width: auto;} td:nth-child(2) {text-align: left ; width: 100%}\n",
       "    .wandb-row { display: flex; flex-direction: row; flex-wrap: wrap; justify-content: flex-start; width: 100% }\n",
       "    .wandb-col { display: flex; flex-direction: column; flex-basis: 100%; flex: 1; padding: 10px; }\n",
       "    </style>\n",
       "<div class=\"wandb-row\"><div class=\"wandb-col\"><h3>Run history:</h3><br/><table class=\"wandb\"><tr><td>Training Acc</td><td>▁▂▄▅▅▆▇▇███████</td></tr><tr><td>Training Loss</td><td>█▇▆▅▄▃▃▂▂▂▁▁▁▁▁</td></tr><tr><td>Validation Acc</td><td>▁▅▂▅▅▇██▆▅█▇███</td></tr><tr><td>Validation Loss</td><td>▆▆▆▅▄▂▁▁▂█▁▂▂▁▁</td></tr></table><br/></div><div class=\"wandb-col\"><h3>Run summary:</h3><br/><table class=\"wandb\"><tr><td>Training Acc</td><td>1.0</td></tr><tr><td>Training Loss</td><td>0.09643</td></tr><tr><td>Validation Acc</td><td>0.89583</td></tr><tr><td>Validation Loss</td><td>0.33754</td></tr><tr><td>test_accuracy</td><td>0.83036</td></tr><tr><td>test_losss</td><td>0.49484</td></tr></table><br/></div></div>"
      ],
      "text/plain": [
       "<IPython.core.display.HTML object>"
      ]
     },
     "metadata": {},
     "output_type": "display_data"
    },
    {
     "data": {
      "text/html": [
       "Synced <strong style=\"color:#cdcd00\">treasured-river-31</strong>: <a href=\"https://wandb.ai/miraclelinzzz/Final-ensemble/runs/1meqnjin\" target=\"_blank\">https://wandb.ai/miraclelinzzz/Final-ensemble/runs/1meqnjin</a><br/>Synced 5 W&B file(s), 0 media file(s), 0 artifact file(s) and 0 other file(s)"
      ],
      "text/plain": [
       "<IPython.core.display.HTML object>"
      ]
     },
     "metadata": {},
     "output_type": "display_data"
    },
    {
     "data": {
      "text/html": [
       "Find logs at: <code>./wandb/run-20220817_225023-1meqnjin/logs</code>"
      ],
      "text/plain": [
       "<IPython.core.display.HTML object>"
      ]
     },
     "metadata": {},
     "output_type": "display_data"
    },
    {
     "name": "stdout",
     "output_type": "stream",
     "text": [
      "dr-0.5,arch-[512, 256],bs-16,seed-0,index-3,epoch-15\n"
     ]
    },
    {
     "data": {
      "text/html": [
       "Tracking run with wandb version 0.13.1"
      ],
      "text/plain": [
       "<IPython.core.display.HTML object>"
      ]
     },
     "metadata": {},
     "output_type": "display_data"
    },
    {
     "data": {
      "text/html": [
       "Run data is saved locally in <code>/home/jupyter/wandb/run-20220817_225137-4qd4zhbo</code>"
      ],
      "text/plain": [
       "<IPython.core.display.HTML object>"
      ]
     },
     "metadata": {},
     "output_type": "display_data"
    },
    {
     "data": {
      "text/html": [
       "Syncing run <strong><a href=\"https://wandb.ai/miraclelinzzz/Final-ensemble/runs/4qd4zhbo\" target=\"_blank\">treasured-silence-32</a></strong> to <a href=\"https://wandb.ai/miraclelinzzz/Final-ensemble\" target=\"_blank\">Weights & Biases</a> (<a href=\"https://wandb.me/run\" target=\"_blank\">docs</a>)<br/>"
      ],
      "text/plain": [
       "<IPython.core.display.HTML object>"
      ]
     },
     "metadata": {},
     "output_type": "display_data"
    },
    {
     "data": {
      "text/html": [
       "Waiting for W&B process to finish... <strong style=\"color:green\">(success).</strong>"
      ],
      "text/plain": [
       "<IPython.core.display.HTML object>"
      ]
     },
     "metadata": {},
     "output_type": "display_data"
    },
    {
     "data": {
      "text/html": [
       "<style>\n",
       "    table.wandb td:nth-child(1) { padding: 0 10px; text-align: left ; width: auto;} td:nth-child(2) {text-align: left ; width: 100%}\n",
       "    .wandb-row { display: flex; flex-direction: row; flex-wrap: wrap; justify-content: flex-start; width: 100% }\n",
       "    .wandb-col { display: flex; flex-direction: column; flex-basis: 100%; flex: 1; padding: 10px; }\n",
       "    </style>\n",
       "<div class=\"wandb-row\"><div class=\"wandb-col\"><h3>Run history:</h3><br/><table class=\"wandb\"><tr><td>Training Acc</td><td>▁▂▂▃▄▅▆▅▇▇██▇██</td></tr><tr><td>Training Loss</td><td>█▇▇▆▅▅▄▄▂▂▂▁▁▁▁</td></tr><tr><td>Validation Acc</td><td>▁▁▁▃▇▃▅▇▄█▆▆▆█▆</td></tr><tr><td>Validation Loss</td><td>▅▅▄▃▁▄▂▂█▁▂▃▇▁▇</td></tr></table><br/></div><div class=\"wandb-col\"><h3>Run summary:</h3><br/><table class=\"wandb\"><tr><td>Training Acc</td><td>1.0</td></tr><tr><td>Training Loss</td><td>0.11636</td></tr><tr><td>Validation Acc</td><td>0.66667</td></tr><tr><td>Validation Loss</td><td>0.83643</td></tr><tr><td>test_accuracy</td><td>0.84643</td></tr><tr><td>test_losss</td><td>0.39646</td></tr></table><br/></div></div>"
      ],
      "text/plain": [
       "<IPython.core.display.HTML object>"
      ]
     },
     "metadata": {},
     "output_type": "display_data"
    },
    {
     "data": {
      "text/html": [
       "Synced <strong style=\"color:#cdcd00\">treasured-silence-32</strong>: <a href=\"https://wandb.ai/miraclelinzzz/Final-ensemble/runs/4qd4zhbo\" target=\"_blank\">https://wandb.ai/miraclelinzzz/Final-ensemble/runs/4qd4zhbo</a><br/>Synced 5 W&B file(s), 0 media file(s), 0 artifact file(s) and 0 other file(s)"
      ],
      "text/plain": [
       "<IPython.core.display.HTML object>"
      ]
     },
     "metadata": {},
     "output_type": "display_data"
    },
    {
     "data": {
      "text/html": [
       "Find logs at: <code>./wandb/run-20220817_225137-4qd4zhbo/logs</code>"
      ],
      "text/plain": [
       "<IPython.core.display.HTML object>"
      ]
     },
     "metadata": {},
     "output_type": "display_data"
    },
    {
     "name": "stdout",
     "output_type": "stream",
     "text": [
      "dr-0.3,arch-[256, 64, 128],bs-16,seed-0,index-1,epoch-15\n"
     ]
    },
    {
     "data": {
      "text/html": [
       "Tracking run with wandb version 0.13.1"
      ],
      "text/plain": [
       "<IPython.core.display.HTML object>"
      ]
     },
     "metadata": {},
     "output_type": "display_data"
    },
    {
     "data": {
      "text/html": [
       "Run data is saved locally in <code>/home/jupyter/wandb/run-20220817_225250-bg0oeis2</code>"
      ],
      "text/plain": [
       "<IPython.core.display.HTML object>"
      ]
     },
     "metadata": {},
     "output_type": "display_data"
    },
    {
     "data": {
      "text/html": [
       "Syncing run <strong><a href=\"https://wandb.ai/miraclelinzzz/Final-ensemble/runs/bg0oeis2\" target=\"_blank\">upbeat-dragon-33</a></strong> to <a href=\"https://wandb.ai/miraclelinzzz/Final-ensemble\" target=\"_blank\">Weights & Biases</a> (<a href=\"https://wandb.me/run\" target=\"_blank\">docs</a>)<br/>"
      ],
      "text/plain": [
       "<IPython.core.display.HTML object>"
      ]
     },
     "metadata": {},
     "output_type": "display_data"
    },
    {
     "data": {
      "text/html": [
       "Waiting for W&B process to finish... <strong style=\"color:green\">(success).</strong>"
      ],
      "text/plain": [
       "<IPython.core.display.HTML object>"
      ]
     },
     "metadata": {},
     "output_type": "display_data"
    },
    {
     "data": {
      "text/html": [
       "<style>\n",
       "    table.wandb td:nth-child(1) { padding: 0 10px; text-align: left ; width: auto;} td:nth-child(2) {text-align: left ; width: 100%}\n",
       "    .wandb-row { display: flex; flex-direction: row; flex-wrap: wrap; justify-content: flex-start; width: 100% }\n",
       "    .wandb-col { display: flex; flex-direction: column; flex-basis: 100%; flex: 1; padding: 10px; }\n",
       "    </style>\n",
       "<div class=\"wandb-row\"><div class=\"wandb-col\"><h3>Run history:</h3><br/><table class=\"wandb\"><tr><td>Training Acc</td><td>▁▁▁▃▄▃▄▅▅▅▆█▇▇▇</td></tr><tr><td>Training Loss</td><td>█▇▆▅▄▅▄▃▃▂▃▁▁▁▁</td></tr><tr><td>Validation Acc</td><td>▃▃▃▁▅▅▇▆▆▆███▇█</td></tr><tr><td>Validation Loss</td><td>██▇▆▃▇▃▃▇▃▂▇▁▁▃</td></tr></table><br/></div><div class=\"wandb-col\"><h3>Run summary:</h3><br/><table class=\"wandb\"><tr><td>Training Acc</td><td>0.81944</td></tr><tr><td>Training Loss</td><td>0.3961</td></tr><tr><td>Validation Acc</td><td>0.85417</td></tr><tr><td>Validation Loss</td><td>0.53843</td></tr><tr><td>test_accuracy</td><td>0.74286</td></tr><tr><td>test_losss</td><td>0.49529</td></tr></table><br/></div></div>"
      ],
      "text/plain": [
       "<IPython.core.display.HTML object>"
      ]
     },
     "metadata": {},
     "output_type": "display_data"
    },
    {
     "data": {
      "text/html": [
       "Synced <strong style=\"color:#cdcd00\">upbeat-dragon-33</strong>: <a href=\"https://wandb.ai/miraclelinzzz/Final-ensemble/runs/bg0oeis2\" target=\"_blank\">https://wandb.ai/miraclelinzzz/Final-ensemble/runs/bg0oeis2</a><br/>Synced 5 W&B file(s), 0 media file(s), 0 artifact file(s) and 0 other file(s)"
      ],
      "text/plain": [
       "<IPython.core.display.HTML object>"
      ]
     },
     "metadata": {},
     "output_type": "display_data"
    },
    {
     "data": {
      "text/html": [
       "Find logs at: <code>./wandb/run-20220817_225250-bg0oeis2/logs</code>"
      ],
      "text/plain": [
       "<IPython.core.display.HTML object>"
      ]
     },
     "metadata": {},
     "output_type": "display_data"
    },
    {
     "name": "stdout",
     "output_type": "stream",
     "text": [
      "dr-0.3,arch-[256, 64, 128],bs-16,seed-0,index-2,epoch-15\n"
     ]
    },
    {
     "data": {
      "text/html": [
       "Tracking run with wandb version 0.13.1"
      ],
      "text/plain": [
       "<IPython.core.display.HTML object>"
      ]
     },
     "metadata": {},
     "output_type": "display_data"
    },
    {
     "data": {
      "text/html": [
       "Run data is saved locally in <code>/home/jupyter/wandb/run-20220817_225405-1sx8j13i</code>"
      ],
      "text/plain": [
       "<IPython.core.display.HTML object>"
      ]
     },
     "metadata": {},
     "output_type": "display_data"
    },
    {
     "data": {
      "text/html": [
       "Syncing run <strong><a href=\"https://wandb.ai/miraclelinzzz/Final-ensemble/runs/1sx8j13i\" target=\"_blank\">solar-lion-34</a></strong> to <a href=\"https://wandb.ai/miraclelinzzz/Final-ensemble\" target=\"_blank\">Weights & Biases</a> (<a href=\"https://wandb.me/run\" target=\"_blank\">docs</a>)<br/>"
      ],
      "text/plain": [
       "<IPython.core.display.HTML object>"
      ]
     },
     "metadata": {},
     "output_type": "display_data"
    },
    {
     "data": {
      "text/html": [
       "Waiting for W&B process to finish... <strong style=\"color:green\">(success).</strong>"
      ],
      "text/plain": [
       "<IPython.core.display.HTML object>"
      ]
     },
     "metadata": {},
     "output_type": "display_data"
    },
    {
     "data": {
      "text/html": [
       "<style>\n",
       "    table.wandb td:nth-child(1) { padding: 0 10px; text-align: left ; width: auto;} td:nth-child(2) {text-align: left ; width: 100%}\n",
       "    .wandb-row { display: flex; flex-direction: row; flex-wrap: wrap; justify-content: flex-start; width: 100% }\n",
       "    .wandb-col { display: flex; flex-direction: column; flex-basis: 100%; flex: 1; padding: 10px; }\n",
       "    </style>\n",
       "<div class=\"wandb-row\"><div class=\"wandb-col\"><h3>Run history:</h3><br/><table class=\"wandb\"><tr><td>Training Acc</td><td>▁▃▃▃▄▄▅▄▅▇▇▇▇█▇</td></tr><tr><td>Training Loss</td><td>█▇▇▇▆▅▅▄▅▃▃▂▂▁▂</td></tr><tr><td>Validation Acc</td><td>▃▁▃▄█▆▅▇▆▅█▇▅▇▆</td></tr><tr><td>Validation Loss</td><td>█▇▇▆▄▆▅▁▂▃▁▅▃▂▃</td></tr></table><br/></div><div class=\"wandb-col\"><h3>Run summary:</h3><br/><table class=\"wandb\"><tr><td>Training Acc</td><td>0.83333</td></tr><tr><td>Training Loss</td><td>0.47583</td></tr><tr><td>Validation Acc</td><td>0.64583</td></tr><tr><td>Validation Loss</td><td>0.49829</td></tr><tr><td>test_accuracy</td><td>0.78036</td></tr><tr><td>test_losss</td><td>0.47567</td></tr></table><br/></div></div>"
      ],
      "text/plain": [
       "<IPython.core.display.HTML object>"
      ]
     },
     "metadata": {},
     "output_type": "display_data"
    },
    {
     "data": {
      "text/html": [
       "Synced <strong style=\"color:#cdcd00\">solar-lion-34</strong>: <a href=\"https://wandb.ai/miraclelinzzz/Final-ensemble/runs/1sx8j13i\" target=\"_blank\">https://wandb.ai/miraclelinzzz/Final-ensemble/runs/1sx8j13i</a><br/>Synced 5 W&B file(s), 0 media file(s), 0 artifact file(s) and 0 other file(s)"
      ],
      "text/plain": [
       "<IPython.core.display.HTML object>"
      ]
     },
     "metadata": {},
     "output_type": "display_data"
    },
    {
     "data": {
      "text/html": [
       "Find logs at: <code>./wandb/run-20220817_225405-1sx8j13i/logs</code>"
      ],
      "text/plain": [
       "<IPython.core.display.HTML object>"
      ]
     },
     "metadata": {},
     "output_type": "display_data"
    },
    {
     "name": "stdout",
     "output_type": "stream",
     "text": [
      "dr-0.3,arch-[256, 64, 128],bs-16,seed-0,index-3,epoch-15\n"
     ]
    },
    {
     "data": {
      "text/html": [
       "Tracking run with wandb version 0.13.1"
      ],
      "text/plain": [
       "<IPython.core.display.HTML object>"
      ]
     },
     "metadata": {},
     "output_type": "display_data"
    },
    {
     "data": {
      "text/html": [
       "Run data is saved locally in <code>/home/jupyter/wandb/run-20220817_225519-20avbyb0</code>"
      ],
      "text/plain": [
       "<IPython.core.display.HTML object>"
      ]
     },
     "metadata": {},
     "output_type": "display_data"
    },
    {
     "data": {
      "text/html": [
       "Syncing run <strong><a href=\"https://wandb.ai/miraclelinzzz/Final-ensemble/runs/20avbyb0\" target=\"_blank\">earthy-forest-35</a></strong> to <a href=\"https://wandb.ai/miraclelinzzz/Final-ensemble\" target=\"_blank\">Weights & Biases</a> (<a href=\"https://wandb.me/run\" target=\"_blank\">docs</a>)<br/>"
      ],
      "text/plain": [
       "<IPython.core.display.HTML object>"
      ]
     },
     "metadata": {},
     "output_type": "display_data"
    },
    {
     "data": {
      "text/html": [
       "Waiting for W&B process to finish... <strong style=\"color:green\">(success).</strong>"
      ],
      "text/plain": [
       "<IPython.core.display.HTML object>"
      ]
     },
     "metadata": {},
     "output_type": "display_data"
    },
    {
     "data": {
      "text/html": [
       "<style>\n",
       "    table.wandb td:nth-child(1) { padding: 0 10px; text-align: left ; width: auto;} td:nth-child(2) {text-align: left ; width: 100%}\n",
       "    .wandb-row { display: flex; flex-direction: row; flex-wrap: wrap; justify-content: flex-start; width: 100% }\n",
       "    .wandb-col { display: flex; flex-direction: column; flex-basis: 100%; flex: 1; padding: 10px; }\n",
       "    </style>\n",
       "<div class=\"wandb-row\"><div class=\"wandb-col\"><h3>Run history:</h3><br/><table class=\"wandb\"><tr><td>Training Acc</td><td>▁▁▃▄▅▄▅▆▆▇▇████</td></tr><tr><td>Training Loss</td><td>██▆▅▅▅▄▃▃▂▃▂▁▁▁</td></tr><tr><td>Validation Acc</td><td>▁▃▅▄▃▂▇█▄▇▃▇▅▇▅</td></tr><tr><td>Validation Loss</td><td>▆▆▅▅█▇▃▁▅▁█▄▄▁▅</td></tr></table><br/></div><div class=\"wandb-col\"><h3>Run summary:</h3><br/><table class=\"wandb\"><tr><td>Training Acc</td><td>0.9375</td></tr><tr><td>Training Loss</td><td>0.37631</td></tr><tr><td>Validation Acc</td><td>0.60417</td></tr><tr><td>Validation Loss</td><td>0.64562</td></tr><tr><td>test_accuracy</td><td>0.85893</td></tr><tr><td>test_losss</td><td>0.47314</td></tr></table><br/></div></div>"
      ],
      "text/plain": [
       "<IPython.core.display.HTML object>"
      ]
     },
     "metadata": {},
     "output_type": "display_data"
    },
    {
     "data": {
      "text/html": [
       "Synced <strong style=\"color:#cdcd00\">earthy-forest-35</strong>: <a href=\"https://wandb.ai/miraclelinzzz/Final-ensemble/runs/20avbyb0\" target=\"_blank\">https://wandb.ai/miraclelinzzz/Final-ensemble/runs/20avbyb0</a><br/>Synced 5 W&B file(s), 0 media file(s), 0 artifact file(s) and 0 other file(s)"
      ],
      "text/plain": [
       "<IPython.core.display.HTML object>"
      ]
     },
     "metadata": {},
     "output_type": "display_data"
    },
    {
     "data": {
      "text/html": [
       "Find logs at: <code>./wandb/run-20220817_225519-20avbyb0/logs</code>"
      ],
      "text/plain": [
       "<IPython.core.display.HTML object>"
      ]
     },
     "metadata": {},
     "output_type": "display_data"
    },
    {
     "name": "stdout",
     "output_type": "stream",
     "text": [
      "dr-0.4,arch-[512, 256, 64],bs-16,seed-0,index-1,epoch-15\n"
     ]
    },
    {
     "data": {
      "text/html": [
       "Tracking run with wandb version 0.13.1"
      ],
      "text/plain": [
       "<IPython.core.display.HTML object>"
      ]
     },
     "metadata": {},
     "output_type": "display_data"
    },
    {
     "data": {
      "text/html": [
       "Run data is saved locally in <code>/home/jupyter/wandb/run-20220817_225632-c0wruedb</code>"
      ],
      "text/plain": [
       "<IPython.core.display.HTML object>"
      ]
     },
     "metadata": {},
     "output_type": "display_data"
    },
    {
     "data": {
      "text/html": [
       "Syncing run <strong><a href=\"https://wandb.ai/miraclelinzzz/Final-ensemble/runs/c0wruedb\" target=\"_blank\">distinctive-armadillo-36</a></strong> to <a href=\"https://wandb.ai/miraclelinzzz/Final-ensemble\" target=\"_blank\">Weights & Biases</a> (<a href=\"https://wandb.me/run\" target=\"_blank\">docs</a>)<br/>"
      ],
      "text/plain": [
       "<IPython.core.display.HTML object>"
      ]
     },
     "metadata": {},
     "output_type": "display_data"
    },
    {
     "data": {
      "text/html": [
       "Waiting for W&B process to finish... <strong style=\"color:green\">(success).</strong>"
      ],
      "text/plain": [
       "<IPython.core.display.HTML object>"
      ]
     },
     "metadata": {},
     "output_type": "display_data"
    },
    {
     "data": {
      "text/html": [
       "<style>\n",
       "    table.wandb td:nth-child(1) { padding: 0 10px; text-align: left ; width: auto;} td:nth-child(2) {text-align: left ; width: 100%}\n",
       "    .wandb-row { display: flex; flex-direction: row; flex-wrap: wrap; justify-content: flex-start; width: 100% }\n",
       "    .wandb-col { display: flex; flex-direction: column; flex-basis: 100%; flex: 1; padding: 10px; }\n",
       "    </style>\n",
       "<div class=\"wandb-row\"><div class=\"wandb-col\"><h3>Run history:</h3><br/><table class=\"wandb\"><tr><td>Training Acc</td><td>▁▂▄▄▅▆▆▆▇▇▇▇███</td></tr><tr><td>Training Loss</td><td>█▇▆▆▅▄▄▄▃▂▂▂▁▁▁</td></tr><tr><td>Validation Acc</td><td>▁▁▁▅▅▇▂▄█▅▅█▆▅█</td></tr><tr><td>Validation Loss</td><td>███▇▇▅▄▄▃▆▇▁▅▃▃</td></tr></table><br/></div><div class=\"wandb-col\"><h3>Run summary:</h3><br/><table class=\"wandb\"><tr><td>Training Acc</td><td>0.9375</td></tr><tr><td>Training Loss</td><td>0.306</td></tr><tr><td>Validation Acc</td><td>0.875</td></tr><tr><td>Validation Loss</td><td>0.47918</td></tr><tr><td>test_accuracy</td><td>0.76786</td></tr><tr><td>test_losss</td><td>0.44596</td></tr></table><br/></div></div>"
      ],
      "text/plain": [
       "<IPython.core.display.HTML object>"
      ]
     },
     "metadata": {},
     "output_type": "display_data"
    },
    {
     "data": {
      "text/html": [
       "Synced <strong style=\"color:#cdcd00\">distinctive-armadillo-36</strong>: <a href=\"https://wandb.ai/miraclelinzzz/Final-ensemble/runs/c0wruedb\" target=\"_blank\">https://wandb.ai/miraclelinzzz/Final-ensemble/runs/c0wruedb</a><br/>Synced 5 W&B file(s), 0 media file(s), 0 artifact file(s) and 0 other file(s)"
      ],
      "text/plain": [
       "<IPython.core.display.HTML object>"
      ]
     },
     "metadata": {},
     "output_type": "display_data"
    },
    {
     "data": {
      "text/html": [
       "Find logs at: <code>./wandb/run-20220817_225632-c0wruedb/logs</code>"
      ],
      "text/plain": [
       "<IPython.core.display.HTML object>"
      ]
     },
     "metadata": {},
     "output_type": "display_data"
    },
    {
     "name": "stdout",
     "output_type": "stream",
     "text": [
      "dr-0.4,arch-[512, 256, 64],bs-16,seed-0,index-2,epoch-15\n"
     ]
    },
    {
     "data": {
      "text/html": [
       "Tracking run with wandb version 0.13.1"
      ],
      "text/plain": [
       "<IPython.core.display.HTML object>"
      ]
     },
     "metadata": {},
     "output_type": "display_data"
    },
    {
     "data": {
      "text/html": [
       "Run data is saved locally in <code>/home/jupyter/wandb/run-20220817_225745-xov23x1i</code>"
      ],
      "text/plain": [
       "<IPython.core.display.HTML object>"
      ]
     },
     "metadata": {},
     "output_type": "display_data"
    },
    {
     "data": {
      "text/html": [
       "Syncing run <strong><a href=\"https://wandb.ai/miraclelinzzz/Final-ensemble/runs/xov23x1i\" target=\"_blank\">restful-water-37</a></strong> to <a href=\"https://wandb.ai/miraclelinzzz/Final-ensemble\" target=\"_blank\">Weights & Biases</a> (<a href=\"https://wandb.me/run\" target=\"_blank\">docs</a>)<br/>"
      ],
      "text/plain": [
       "<IPython.core.display.HTML object>"
      ]
     },
     "metadata": {},
     "output_type": "display_data"
    },
    {
     "data": {
      "text/html": [
       "Waiting for W&B process to finish... <strong style=\"color:green\">(success).</strong>"
      ],
      "text/plain": [
       "<IPython.core.display.HTML object>"
      ]
     },
     "metadata": {},
     "output_type": "display_data"
    },
    {
     "data": {
      "text/html": [
       "<style>\n",
       "    table.wandb td:nth-child(1) { padding: 0 10px; text-align: left ; width: auto;} td:nth-child(2) {text-align: left ; width: 100%}\n",
       "    .wandb-row { display: flex; flex-direction: row; flex-wrap: wrap; justify-content: flex-start; width: 100% }\n",
       "    .wandb-col { display: flex; flex-direction: column; flex-basis: 100%; flex: 1; padding: 10px; }\n",
       "    </style>\n",
       "<div class=\"wandb-row\"><div class=\"wandb-col\"><h3>Run history:</h3><br/><table class=\"wandb\"><tr><td>Training Acc</td><td>▁▁▁▁▂▃▃▃▄▄▅▇█▇▇</td></tr><tr><td>Training Loss</td><td>██▇▇▆▅▅▅▃▃▃▂▁▁▁</td></tr><tr><td>Validation Acc</td><td>▃▁▃▃▃▃▅▂▆▃█▅▇▇▅</td></tr><tr><td>Validation Loss</td><td>▇▇▆▆▃▅▅█▂▃▁▂▁▁▂</td></tr></table><br/></div><div class=\"wandb-col\"><h3>Run summary:</h3><br/><table class=\"wandb\"><tr><td>Training Acc</td><td>0.78472</td></tr><tr><td>Training Loss</td><td>0.32524</td></tr><tr><td>Validation Acc</td><td>0.64583</td></tr><tr><td>Validation Loss</td><td>0.44999</td></tr><tr><td>test_accuracy</td><td>0.73929</td></tr><tr><td>test_losss</td><td>0.49743</td></tr></table><br/></div></div>"
      ],
      "text/plain": [
       "<IPython.core.display.HTML object>"
      ]
     },
     "metadata": {},
     "output_type": "display_data"
    },
    {
     "data": {
      "text/html": [
       "Synced <strong style=\"color:#cdcd00\">restful-water-37</strong>: <a href=\"https://wandb.ai/miraclelinzzz/Final-ensemble/runs/xov23x1i\" target=\"_blank\">https://wandb.ai/miraclelinzzz/Final-ensemble/runs/xov23x1i</a><br/>Synced 5 W&B file(s), 0 media file(s), 0 artifact file(s) and 0 other file(s)"
      ],
      "text/plain": [
       "<IPython.core.display.HTML object>"
      ]
     },
     "metadata": {},
     "output_type": "display_data"
    },
    {
     "data": {
      "text/html": [
       "Find logs at: <code>./wandb/run-20220817_225745-xov23x1i/logs</code>"
      ],
      "text/plain": [
       "<IPython.core.display.HTML object>"
      ]
     },
     "metadata": {},
     "output_type": "display_data"
    },
    {
     "name": "stdout",
     "output_type": "stream",
     "text": [
      "dr-0.4,arch-[512, 256, 64],bs-16,seed-0,index-3,epoch-15\n"
     ]
    },
    {
     "data": {
      "text/html": [
       "Tracking run with wandb version 0.13.1"
      ],
      "text/plain": [
       "<IPython.core.display.HTML object>"
      ]
     },
     "metadata": {},
     "output_type": "display_data"
    },
    {
     "data": {
      "text/html": [
       "Run data is saved locally in <code>/home/jupyter/wandb/run-20220817_225859-22o1qvxq</code>"
      ],
      "text/plain": [
       "<IPython.core.display.HTML object>"
      ]
     },
     "metadata": {},
     "output_type": "display_data"
    },
    {
     "data": {
      "text/html": [
       "Syncing run <strong><a href=\"https://wandb.ai/miraclelinzzz/Final-ensemble/runs/22o1qvxq\" target=\"_blank\">pious-aardvark-38</a></strong> to <a href=\"https://wandb.ai/miraclelinzzz/Final-ensemble\" target=\"_blank\">Weights & Biases</a> (<a href=\"https://wandb.me/run\" target=\"_blank\">docs</a>)<br/>"
      ],
      "text/plain": [
       "<IPython.core.display.HTML object>"
      ]
     },
     "metadata": {},
     "output_type": "display_data"
    },
    {
     "data": {
      "text/html": [
       "Waiting for W&B process to finish... <strong style=\"color:green\">(success).</strong>"
      ],
      "text/plain": [
       "<IPython.core.display.HTML object>"
      ]
     },
     "metadata": {},
     "output_type": "display_data"
    },
    {
     "data": {
      "text/html": [
       "<style>\n",
       "    table.wandb td:nth-child(1) { padding: 0 10px; text-align: left ; width: auto;} td:nth-child(2) {text-align: left ; width: 100%}\n",
       "    .wandb-row { display: flex; flex-direction: row; flex-wrap: wrap; justify-content: flex-start; width: 100% }\n",
       "    .wandb-col { display: flex; flex-direction: column; flex-basis: 100%; flex: 1; padding: 10px; }\n",
       "    </style>\n",
       "<div class=\"wandb-row\"><div class=\"wandb-col\"><h3>Run history:</h3><br/><table class=\"wandb\"><tr><td>Training Acc</td><td>▁▃▂▄▄▅▅▆▇▇▇████</td></tr><tr><td>Training Loss</td><td>█▇▇▆▅▄▅▃▃▃▂▂▁▁▁</td></tr><tr><td>Validation Acc</td><td>▅▅▄▁▄▄▃▆▁▇▇▄███</td></tr><tr><td>Validation Loss</td><td>▄▅▃▄▃▄▇▄█▁▂▂▁▁▁</td></tr></table><br/></div><div class=\"wandb-col\"><h3>Run summary:</h3><br/><table class=\"wandb\"><tr><td>Training Acc</td><td>0.97222</td></tr><tr><td>Training Loss</td><td>0.28453</td></tr><tr><td>Validation Acc</td><td>0.79167</td></tr><tr><td>Validation Loss</td><td>0.51207</td></tr><tr><td>test_accuracy</td><td>0.87143</td></tr><tr><td>test_losss</td><td>0.42092</td></tr></table><br/></div></div>"
      ],
      "text/plain": [
       "<IPython.core.display.HTML object>"
      ]
     },
     "metadata": {},
     "output_type": "display_data"
    },
    {
     "data": {
      "text/html": [
       "Synced <strong style=\"color:#cdcd00\">pious-aardvark-38</strong>: <a href=\"https://wandb.ai/miraclelinzzz/Final-ensemble/runs/22o1qvxq\" target=\"_blank\">https://wandb.ai/miraclelinzzz/Final-ensemble/runs/22o1qvxq</a><br/>Synced 5 W&B file(s), 0 media file(s), 0 artifact file(s) and 0 other file(s)"
      ],
      "text/plain": [
       "<IPython.core.display.HTML object>"
      ]
     },
     "metadata": {},
     "output_type": "display_data"
    },
    {
     "data": {
      "text/html": [
       "Find logs at: <code>./wandb/run-20220817_225859-22o1qvxq/logs</code>"
      ],
      "text/plain": [
       "<IPython.core.display.HTML object>"
      ]
     },
     "metadata": {},
     "output_type": "display_data"
    },
    {
     "name": "stdout",
     "output_type": "stream",
     "text": [
      "dr-0.5,arch-[128],bs-16,seed-0,index-1,epoch-15\n"
     ]
    },
    {
     "data": {
      "text/html": [
       "Tracking run with wandb version 0.13.1"
      ],
      "text/plain": [
       "<IPython.core.display.HTML object>"
      ]
     },
     "metadata": {},
     "output_type": "display_data"
    },
    {
     "data": {
      "text/html": [
       "Run data is saved locally in <code>/home/jupyter/wandb/run-20220817_230013-64i4gaw6</code>"
      ],
      "text/plain": [
       "<IPython.core.display.HTML object>"
      ]
     },
     "metadata": {},
     "output_type": "display_data"
    },
    {
     "data": {
      "text/html": [
       "Syncing run <strong><a href=\"https://wandb.ai/miraclelinzzz/Final-ensemble/runs/64i4gaw6\" target=\"_blank\">wobbly-hill-39</a></strong> to <a href=\"https://wandb.ai/miraclelinzzz/Final-ensemble\" target=\"_blank\">Weights & Biases</a> (<a href=\"https://wandb.me/run\" target=\"_blank\">docs</a>)<br/>"
      ],
      "text/plain": [
       "<IPython.core.display.HTML object>"
      ]
     },
     "metadata": {},
     "output_type": "display_data"
    },
    {
     "data": {
      "text/html": [
       "Waiting for W&B process to finish... <strong style=\"color:green\">(success).</strong>"
      ],
      "text/plain": [
       "<IPython.core.display.HTML object>"
      ]
     },
     "metadata": {},
     "output_type": "display_data"
    },
    {
     "data": {
      "text/html": [
       "<style>\n",
       "    table.wandb td:nth-child(1) { padding: 0 10px; text-align: left ; width: auto;} td:nth-child(2) {text-align: left ; width: 100%}\n",
       "    .wandb-row { display: flex; flex-direction: row; flex-wrap: wrap; justify-content: flex-start; width: 100% }\n",
       "    .wandb-col { display: flex; flex-direction: column; flex-basis: 100%; flex: 1; padding: 10px; }\n",
       "    </style>\n",
       "<div class=\"wandb-row\"><div class=\"wandb-col\"><h3>Run history:</h3><br/><table class=\"wandb\"><tr><td>Training Acc</td><td>▁▃▅▆█▆██▆██████</td></tr><tr><td>Training Loss</td><td>█▆▅▃▂▃▂▁▂▁▁▁▂▁▁</td></tr><tr><td>Validation Acc</td><td>▁▅▅█▅▄▅█▇█▃▇▅█▆</td></tr><tr><td>Validation Loss</td><td>▅▃▅▁██▄▁▂▁█▃█▂▆</td></tr></table><br/></div><div class=\"wandb-col\"><h3>Run summary:</h3><br/><table class=\"wandb\"><tr><td>Training Acc</td><td>1.0</td></tr><tr><td>Training Loss</td><td>0.10386</td></tr><tr><td>Validation Acc</td><td>0.70833</td></tr><tr><td>Validation Loss</td><td>0.78276</td></tr><tr><td>test_accuracy</td><td>0.80536</td></tr><tr><td>test_losss</td><td>0.53114</td></tr></table><br/></div></div>"
      ],
      "text/plain": [
       "<IPython.core.display.HTML object>"
      ]
     },
     "metadata": {},
     "output_type": "display_data"
    },
    {
     "data": {
      "text/html": [
       "Synced <strong style=\"color:#cdcd00\">wobbly-hill-39</strong>: <a href=\"https://wandb.ai/miraclelinzzz/Final-ensemble/runs/64i4gaw6\" target=\"_blank\">https://wandb.ai/miraclelinzzz/Final-ensemble/runs/64i4gaw6</a><br/>Synced 5 W&B file(s), 0 media file(s), 0 artifact file(s) and 0 other file(s)"
      ],
      "text/plain": [
       "<IPython.core.display.HTML object>"
      ]
     },
     "metadata": {},
     "output_type": "display_data"
    },
    {
     "data": {
      "text/html": [
       "Find logs at: <code>./wandb/run-20220817_230013-64i4gaw6/logs</code>"
      ],
      "text/plain": [
       "<IPython.core.display.HTML object>"
      ]
     },
     "metadata": {},
     "output_type": "display_data"
    },
    {
     "name": "stdout",
     "output_type": "stream",
     "text": [
      "dr-0.5,arch-[128],bs-16,seed-0,index-2,epoch-15\n"
     ]
    },
    {
     "data": {
      "text/html": [
       "Tracking run with wandb version 0.13.1"
      ],
      "text/plain": [
       "<IPython.core.display.HTML object>"
      ]
     },
     "metadata": {},
     "output_type": "display_data"
    },
    {
     "data": {
      "text/html": [
       "Run data is saved locally in <code>/home/jupyter/wandb/run-20220817_230126-2h294v1k</code>"
      ],
      "text/plain": [
       "<IPython.core.display.HTML object>"
      ]
     },
     "metadata": {},
     "output_type": "display_data"
    },
    {
     "data": {
      "text/html": [
       "Syncing run <strong><a href=\"https://wandb.ai/miraclelinzzz/Final-ensemble/runs/2h294v1k\" target=\"_blank\">vague-brook-40</a></strong> to <a href=\"https://wandb.ai/miraclelinzzz/Final-ensemble\" target=\"_blank\">Weights & Biases</a> (<a href=\"https://wandb.me/run\" target=\"_blank\">docs</a>)<br/>"
      ],
      "text/plain": [
       "<IPython.core.display.HTML object>"
      ]
     },
     "metadata": {},
     "output_type": "display_data"
    },
    {
     "data": {
      "text/html": [
       "Waiting for W&B process to finish... <strong style=\"color:green\">(success).</strong>"
      ],
      "text/plain": [
       "<IPython.core.display.HTML object>"
      ]
     },
     "metadata": {},
     "output_type": "display_data"
    },
    {
     "data": {
      "text/html": [
       "<style>\n",
       "    table.wandb td:nth-child(1) { padding: 0 10px; text-align: left ; width: auto;} td:nth-child(2) {text-align: left ; width: 100%}\n",
       "    .wandb-row { display: flex; flex-direction: row; flex-wrap: wrap; justify-content: flex-start; width: 100% }\n",
       "    .wandb-col { display: flex; flex-direction: column; flex-basis: 100%; flex: 1; padding: 10px; }\n",
       "    </style>\n",
       "<div class=\"wandb-row\"><div class=\"wandb-col\"><h3>Run history:</h3><br/><table class=\"wandb\"><tr><td>Training Acc</td><td>▁▂▄▆▇██████████</td></tr><tr><td>Training Loss</td><td>█▇▅▃▂▂▁▁▁▁▁▁▁▁▁</td></tr><tr><td>Validation Acc</td><td>▁▁▇▅▅▃█▆█▇█████</td></tr><tr><td>Validation Loss</td><td>▅▅▁▄▄█▁▄▂▂▂▂▂▂▁</td></tr></table><br/></div><div class=\"wandb-col\"><h3>Run summary:</h3><br/><table class=\"wandb\"><tr><td>Training Acc</td><td>1.0</td></tr><tr><td>Training Loss</td><td>0.10728</td></tr><tr><td>Validation Acc</td><td>0.89583</td></tr><tr><td>Validation Loss</td><td>0.33147</td></tr><tr><td>test_accuracy</td><td>0.84286</td></tr><tr><td>test_losss</td><td>0.50933</td></tr></table><br/></div></div>"
      ],
      "text/plain": [
       "<IPython.core.display.HTML object>"
      ]
     },
     "metadata": {},
     "output_type": "display_data"
    },
    {
     "data": {
      "text/html": [
       "Synced <strong style=\"color:#cdcd00\">vague-brook-40</strong>: <a href=\"https://wandb.ai/miraclelinzzz/Final-ensemble/runs/2h294v1k\" target=\"_blank\">https://wandb.ai/miraclelinzzz/Final-ensemble/runs/2h294v1k</a><br/>Synced 5 W&B file(s), 0 media file(s), 0 artifact file(s) and 0 other file(s)"
      ],
      "text/plain": [
       "<IPython.core.display.HTML object>"
      ]
     },
     "metadata": {},
     "output_type": "display_data"
    },
    {
     "data": {
      "text/html": [
       "Find logs at: <code>./wandb/run-20220817_230126-2h294v1k/logs</code>"
      ],
      "text/plain": [
       "<IPython.core.display.HTML object>"
      ]
     },
     "metadata": {},
     "output_type": "display_data"
    },
    {
     "name": "stdout",
     "output_type": "stream",
     "text": [
      "dr-0.5,arch-[128],bs-16,seed-0,index-3,epoch-15\n"
     ]
    },
    {
     "data": {
      "text/html": [
       "Tracking run with wandb version 0.13.1"
      ],
      "text/plain": [
       "<IPython.core.display.HTML object>"
      ]
     },
     "metadata": {},
     "output_type": "display_data"
    },
    {
     "data": {
      "text/html": [
       "Run data is saved locally in <code>/home/jupyter/wandb/run-20220817_230240-33yk4784</code>"
      ],
      "text/plain": [
       "<IPython.core.display.HTML object>"
      ]
     },
     "metadata": {},
     "output_type": "display_data"
    },
    {
     "data": {
      "text/html": [
       "Syncing run <strong><a href=\"https://wandb.ai/miraclelinzzz/Final-ensemble/runs/33yk4784\" target=\"_blank\">cool-glitter-41</a></strong> to <a href=\"https://wandb.ai/miraclelinzzz/Final-ensemble\" target=\"_blank\">Weights & Biases</a> (<a href=\"https://wandb.me/run\" target=\"_blank\">docs</a>)<br/>"
      ],
      "text/plain": [
       "<IPython.core.display.HTML object>"
      ]
     },
     "metadata": {},
     "output_type": "display_data"
    },
    {
     "data": {
      "text/html": [
       "Waiting for W&B process to finish... <strong style=\"color:green\">(success).</strong>"
      ],
      "text/plain": [
       "<IPython.core.display.HTML object>"
      ]
     },
     "metadata": {},
     "output_type": "display_data"
    },
    {
     "data": {
      "text/html": [
       "<style>\n",
       "    table.wandb td:nth-child(1) { padding: 0 10px; text-align: left ; width: auto;} td:nth-child(2) {text-align: left ; width: 100%}\n",
       "    .wandb-row { display: flex; flex-direction: row; flex-wrap: wrap; justify-content: flex-start; width: 100% }\n",
       "    .wandb-col { display: flex; flex-direction: column; flex-basis: 100%; flex: 1; padding: 10px; }\n",
       "    </style>\n",
       "<div class=\"wandb-row\"><div class=\"wandb-col\"><h3>Run history:</h3><br/><table class=\"wandb\"><tr><td>Training Acc</td><td>▁▄▇████▆█▆█████</td></tr><tr><td>Training Loss</td><td>█▅▃▂▁▁▁▂▁▂▁▁▁▁▁</td></tr><tr><td>Validation Acc</td><td>▅▃▁▁▅▂▇█▅▅▄▄▇▄▇</td></tr><tr><td>Validation Loss</td><td>▁▂▅█▄▃▁▂▄▃▄▄▂▄▂</td></tr></table><br/></div><div class=\"wandb-col\"><h3>Run summary:</h3><br/><table class=\"wandb\"><tr><td>Training Acc</td><td>1.0</td></tr><tr><td>Training Loss</td><td>0.09662</td></tr><tr><td>Validation Acc</td><td>0.72917</td></tr><tr><td>Validation Loss</td><td>0.77669</td></tr><tr><td>test_accuracy</td><td>0.84643</td></tr><tr><td>test_losss</td><td>0.43602</td></tr></table><br/></div></div>"
      ],
      "text/plain": [
       "<IPython.core.display.HTML object>"
      ]
     },
     "metadata": {},
     "output_type": "display_data"
    },
    {
     "data": {
      "text/html": [
       "Synced <strong style=\"color:#cdcd00\">cool-glitter-41</strong>: <a href=\"https://wandb.ai/miraclelinzzz/Final-ensemble/runs/33yk4784\" target=\"_blank\">https://wandb.ai/miraclelinzzz/Final-ensemble/runs/33yk4784</a><br/>Synced 5 W&B file(s), 0 media file(s), 0 artifact file(s) and 0 other file(s)"
      ],
      "text/plain": [
       "<IPython.core.display.HTML object>"
      ]
     },
     "metadata": {},
     "output_type": "display_data"
    },
    {
     "data": {
      "text/html": [
       "Find logs at: <code>./wandb/run-20220817_230240-33yk4784/logs</code>"
      ],
      "text/plain": [
       "<IPython.core.display.HTML object>"
      ]
     },
     "metadata": {},
     "output_type": "display_data"
    },
    {
     "name": "stdout",
     "output_type": "stream",
     "text": [
      "dr-0.3,arch-[64, 512],bs-16,seed-0,index-1,epoch-15\n"
     ]
    },
    {
     "data": {
      "text/html": [
       "Tracking run with wandb version 0.13.1"
      ],
      "text/plain": [
       "<IPython.core.display.HTML object>"
      ]
     },
     "metadata": {},
     "output_type": "display_data"
    },
    {
     "data": {
      "text/html": [
       "Run data is saved locally in <code>/home/jupyter/wandb/run-20220817_230353-2uuuy4ba</code>"
      ],
      "text/plain": [
       "<IPython.core.display.HTML object>"
      ]
     },
     "metadata": {},
     "output_type": "display_data"
    },
    {
     "data": {
      "text/html": [
       "Syncing run <strong><a href=\"https://wandb.ai/miraclelinzzz/Final-ensemble/runs/2uuuy4ba\" target=\"_blank\">comic-waterfall-42</a></strong> to <a href=\"https://wandb.ai/miraclelinzzz/Final-ensemble\" target=\"_blank\">Weights & Biases</a> (<a href=\"https://wandb.me/run\" target=\"_blank\">docs</a>)<br/>"
      ],
      "text/plain": [
       "<IPython.core.display.HTML object>"
      ]
     },
     "metadata": {},
     "output_type": "display_data"
    },
    {
     "data": {
      "text/html": [
       "Waiting for W&B process to finish... <strong style=\"color:green\">(success).</strong>"
      ],
      "text/plain": [
       "<IPython.core.display.HTML object>"
      ]
     },
     "metadata": {},
     "output_type": "display_data"
    },
    {
     "data": {
      "text/html": [
       "<style>\n",
       "    table.wandb td:nth-child(1) { padding: 0 10px; text-align: left ; width: auto;} td:nth-child(2) {text-align: left ; width: 100%}\n",
       "    .wandb-row { display: flex; flex-direction: row; flex-wrap: wrap; justify-content: flex-start; width: 100% }\n",
       "    .wandb-col { display: flex; flex-direction: column; flex-basis: 100%; flex: 1; padding: 10px; }\n",
       "    </style>\n",
       "<div class=\"wandb-row\"><div class=\"wandb-col\"><h3>Run history:</h3><br/><table class=\"wandb\"><tr><td>Training Acc</td><td>▂▁▂▄▅▅▇▇███████</td></tr><tr><td>Training Loss</td><td>██▇▅▅▅▄▂▂▂▁▁▁▁▁</td></tr><tr><td>Validation Acc</td><td>▁▅▆▇▄█▇▇▇▅▆▇▆▆█</td></tr><tr><td>Validation Loss</td><td>▇▆▅▅▆▃▃▂▁█▅▃▄▅▁</td></tr></table><br/></div><div class=\"wandb-col\"><h3>Run summary:</h3><br/><table class=\"wandb\"><tr><td>Training Acc</td><td>1.0</td></tr><tr><td>Training Loss</td><td>0.21174</td></tr><tr><td>Validation Acc</td><td>0.85417</td></tr><tr><td>Validation Loss</td><td>0.38517</td></tr><tr><td>test_accuracy</td><td>0.80536</td></tr><tr><td>test_losss</td><td>0.44985</td></tr></table><br/></div></div>"
      ],
      "text/plain": [
       "<IPython.core.display.HTML object>"
      ]
     },
     "metadata": {},
     "output_type": "display_data"
    },
    {
     "data": {
      "text/html": [
       "Synced <strong style=\"color:#cdcd00\">comic-waterfall-42</strong>: <a href=\"https://wandb.ai/miraclelinzzz/Final-ensemble/runs/2uuuy4ba\" target=\"_blank\">https://wandb.ai/miraclelinzzz/Final-ensemble/runs/2uuuy4ba</a><br/>Synced 5 W&B file(s), 0 media file(s), 0 artifact file(s) and 0 other file(s)"
      ],
      "text/plain": [
       "<IPython.core.display.HTML object>"
      ]
     },
     "metadata": {},
     "output_type": "display_data"
    },
    {
     "data": {
      "text/html": [
       "Find logs at: <code>./wandb/run-20220817_230353-2uuuy4ba/logs</code>"
      ],
      "text/plain": [
       "<IPython.core.display.HTML object>"
      ]
     },
     "metadata": {},
     "output_type": "display_data"
    },
    {
     "name": "stdout",
     "output_type": "stream",
     "text": [
      "dr-0.3,arch-[64, 512],bs-16,seed-0,index-2,epoch-15\n"
     ]
    },
    {
     "data": {
      "text/html": [
       "Tracking run with wandb version 0.13.1"
      ],
      "text/plain": [
       "<IPython.core.display.HTML object>"
      ]
     },
     "metadata": {},
     "output_type": "display_data"
    },
    {
     "data": {
      "text/html": [
       "Run data is saved locally in <code>/home/jupyter/wandb/run-20220817_230506-cc9914k1</code>"
      ],
      "text/plain": [
       "<IPython.core.display.HTML object>"
      ]
     },
     "metadata": {},
     "output_type": "display_data"
    },
    {
     "data": {
      "text/html": [
       "Syncing run <strong><a href=\"https://wandb.ai/miraclelinzzz/Final-ensemble/runs/cc9914k1\" target=\"_blank\">golden-haze-43</a></strong> to <a href=\"https://wandb.ai/miraclelinzzz/Final-ensemble\" target=\"_blank\">Weights & Biases</a> (<a href=\"https://wandb.me/run\" target=\"_blank\">docs</a>)<br/>"
      ],
      "text/plain": [
       "<IPython.core.display.HTML object>"
      ]
     },
     "metadata": {},
     "output_type": "display_data"
    },
    {
     "data": {
      "text/html": [
       "Waiting for W&B process to finish... <strong style=\"color:green\">(success).</strong>"
      ],
      "text/plain": [
       "<IPython.core.display.HTML object>"
      ]
     },
     "metadata": {},
     "output_type": "display_data"
    },
    {
     "data": {
      "text/html": [
       "<style>\n",
       "    table.wandb td:nth-child(1) { padding: 0 10px; text-align: left ; width: auto;} td:nth-child(2) {text-align: left ; width: 100%}\n",
       "    .wandb-row { display: flex; flex-direction: row; flex-wrap: wrap; justify-content: flex-start; width: 100% }\n",
       "    .wandb-col { display: flex; flex-direction: column; flex-basis: 100%; flex: 1; padding: 10px; }\n",
       "    </style>\n",
       "<div class=\"wandb-row\"><div class=\"wandb-col\"><h3>Run history:</h3><br/><table class=\"wandb\"><tr><td>Training Acc</td><td>▁▁▃▃▅▅▇▇█▇███▇█</td></tr><tr><td>Training Loss</td><td>█▇▆▅▄▄▃▃▁▁▁▁▁▂▂</td></tr><tr><td>Validation Acc</td><td>▄▂▃▁▂▇▄█▇▇▅▅█▅▇</td></tr><tr><td>Validation Loss</td><td>▇▇▅▆▇▂▇▃▂▁▆█▁▄▁</td></tr></table><br/></div><div class=\"wandb-col\"><h3>Run summary:</h3><br/><table class=\"wandb\"><tr><td>Training Acc</td><td>1.0</td></tr><tr><td>Training Loss</td><td>0.23568</td></tr><tr><td>Validation Acc</td><td>0.8125</td></tr><tr><td>Validation Loss</td><td>0.41093</td></tr><tr><td>test_accuracy</td><td>0.78393</td></tr><tr><td>test_losss</td><td>0.47406</td></tr></table><br/></div></div>"
      ],
      "text/plain": [
       "<IPython.core.display.HTML object>"
      ]
     },
     "metadata": {},
     "output_type": "display_data"
    },
    {
     "data": {
      "text/html": [
       "Synced <strong style=\"color:#cdcd00\">golden-haze-43</strong>: <a href=\"https://wandb.ai/miraclelinzzz/Final-ensemble/runs/cc9914k1\" target=\"_blank\">https://wandb.ai/miraclelinzzz/Final-ensemble/runs/cc9914k1</a><br/>Synced 5 W&B file(s), 0 media file(s), 0 artifact file(s) and 0 other file(s)"
      ],
      "text/plain": [
       "<IPython.core.display.HTML object>"
      ]
     },
     "metadata": {},
     "output_type": "display_data"
    },
    {
     "data": {
      "text/html": [
       "Find logs at: <code>./wandb/run-20220817_230506-cc9914k1/logs</code>"
      ],
      "text/plain": [
       "<IPython.core.display.HTML object>"
      ]
     },
     "metadata": {},
     "output_type": "display_data"
    },
    {
     "name": "stdout",
     "output_type": "stream",
     "text": [
      "dr-0.3,arch-[64, 512],bs-16,seed-0,index-3,epoch-15\n"
     ]
    },
    {
     "data": {
      "text/html": [
       "Tracking run with wandb version 0.13.1"
      ],
      "text/plain": [
       "<IPython.core.display.HTML object>"
      ]
     },
     "metadata": {},
     "output_type": "display_data"
    },
    {
     "data": {
      "text/html": [
       "Run data is saved locally in <code>/home/jupyter/wandb/run-20220817_230620-1zekzw97</code>"
      ],
      "text/plain": [
       "<IPython.core.display.HTML object>"
      ]
     },
     "metadata": {},
     "output_type": "display_data"
    },
    {
     "data": {
      "text/html": [
       "Syncing run <strong><a href=\"https://wandb.ai/miraclelinzzz/Final-ensemble/runs/1zekzw97\" target=\"_blank\">celestial-valley-44</a></strong> to <a href=\"https://wandb.ai/miraclelinzzz/Final-ensemble\" target=\"_blank\">Weights & Biases</a> (<a href=\"https://wandb.me/run\" target=\"_blank\">docs</a>)<br/>"
      ],
      "text/plain": [
       "<IPython.core.display.HTML object>"
      ]
     },
     "metadata": {},
     "output_type": "display_data"
    },
    {
     "data": {
      "text/html": [
       "Waiting for W&B process to finish... <strong style=\"color:green\">(success).</strong>"
      ],
      "text/plain": [
       "<IPython.core.display.HTML object>"
      ]
     },
     "metadata": {},
     "output_type": "display_data"
    },
    {
     "data": {
      "text/html": [
       "<style>\n",
       "    table.wandb td:nth-child(1) { padding: 0 10px; text-align: left ; width: auto;} td:nth-child(2) {text-align: left ; width: 100%}\n",
       "    .wandb-row { display: flex; flex-direction: row; flex-wrap: wrap; justify-content: flex-start; width: 100% }\n",
       "    .wandb-col { display: flex; flex-direction: column; flex-basis: 100%; flex: 1; padding: 10px; }\n",
       "    </style>\n",
       "<div class=\"wandb-row\"><div class=\"wandb-col\"><h3>Run history:</h3><br/><table class=\"wandb\"><tr><td>Training Acc</td><td>▁▂▂▄▃▆▆▇█▆▇█▇██</td></tr><tr><td>Training Loss</td><td>█▇▇▅▅▄▃▂▂▃▁▁▂▂▁</td></tr><tr><td>Validation Acc</td><td>▁▁▁▂▁▆▃▃█▅▅█▆▆▃</td></tr><tr><td>Validation Loss</td><td>▅▅▇▃█▂▅█▁▆█▁▃▃▇</td></tr></table><br/></div><div class=\"wandb-col\"><h3>Run summary:</h3><br/><table class=\"wandb\"><tr><td>Training Acc</td><td>0.98611</td></tr><tr><td>Training Loss</td><td>0.18639</td></tr><tr><td>Validation Acc</td><td>0.58333</td></tr><tr><td>Validation Loss</td><td>0.76459</td></tr><tr><td>test_accuracy</td><td>0.78393</td></tr><tr><td>test_losss</td><td>0.44356</td></tr></table><br/></div></div>"
      ],
      "text/plain": [
       "<IPython.core.display.HTML object>"
      ]
     },
     "metadata": {},
     "output_type": "display_data"
    },
    {
     "data": {
      "text/html": [
       "Synced <strong style=\"color:#cdcd00\">celestial-valley-44</strong>: <a href=\"https://wandb.ai/miraclelinzzz/Final-ensemble/runs/1zekzw97\" target=\"_blank\">https://wandb.ai/miraclelinzzz/Final-ensemble/runs/1zekzw97</a><br/>Synced 5 W&B file(s), 0 media file(s), 0 artifact file(s) and 0 other file(s)"
      ],
      "text/plain": [
       "<IPython.core.display.HTML object>"
      ]
     },
     "metadata": {},
     "output_type": "display_data"
    },
    {
     "data": {
      "text/html": [
       "Find logs at: <code>./wandb/run-20220817_230620-1zekzw97/logs</code>"
      ],
      "text/plain": [
       "<IPython.core.display.HTML object>"
      ]
     },
     "metadata": {},
     "output_type": "display_data"
    },
    {
     "name": "stdout",
     "output_type": "stream",
     "text": [
      "dr-0.3,arch-[256, 512, 128],bs-16,seed-0,index-1,epoch-15\n"
     ]
    },
    {
     "data": {
      "text/html": [
       "Tracking run with wandb version 0.13.1"
      ],
      "text/plain": [
       "<IPython.core.display.HTML object>"
      ]
     },
     "metadata": {},
     "output_type": "display_data"
    },
    {
     "data": {
      "text/html": [
       "Run data is saved locally in <code>/home/jupyter/wandb/run-20220817_230734-2mwzmys9</code>"
      ],
      "text/plain": [
       "<IPython.core.display.HTML object>"
      ]
     },
     "metadata": {},
     "output_type": "display_data"
    },
    {
     "data": {
      "text/html": [
       "Syncing run <strong><a href=\"https://wandb.ai/miraclelinzzz/Final-ensemble/runs/2mwzmys9\" target=\"_blank\">clear-snowflake-45</a></strong> to <a href=\"https://wandb.ai/miraclelinzzz/Final-ensemble\" target=\"_blank\">Weights & Biases</a> (<a href=\"https://wandb.me/run\" target=\"_blank\">docs</a>)<br/>"
      ],
      "text/plain": [
       "<IPython.core.display.HTML object>"
      ]
     },
     "metadata": {},
     "output_type": "display_data"
    },
    {
     "data": {
      "text/html": [
       "Waiting for W&B process to finish... <strong style=\"color:green\">(success).</strong>"
      ],
      "text/plain": [
       "<IPython.core.display.HTML object>"
      ]
     },
     "metadata": {},
     "output_type": "display_data"
    },
    {
     "data": {
      "text/html": [
       "<style>\n",
       "    table.wandb td:nth-child(1) { padding: 0 10px; text-align: left ; width: auto;} td:nth-child(2) {text-align: left ; width: 100%}\n",
       "    .wandb-row { display: flex; flex-direction: row; flex-wrap: wrap; justify-content: flex-start; width: 100% }\n",
       "    .wandb-col { display: flex; flex-direction: column; flex-basis: 100%; flex: 1; padding: 10px; }\n",
       "    </style>\n",
       "<div class=\"wandb-row\"><div class=\"wandb-col\"><h3>Run history:</h3><br/><table class=\"wandb\"><tr><td>Training Acc</td><td>▁▃▂▂▄▅▅▆▇▇▇█▇██</td></tr><tr><td>Training Loss</td><td>█▇▇▆▆▅▄▄▃▂▂▂▂▁▁</td></tr><tr><td>Validation Acc</td><td>▁▃▃▇▃▇▅▆▅▄▇▇▆█▆</td></tr><tr><td>Validation Loss</td><td>▆▅▄▄█▄▄▄▅▃▃▃▆▁▃</td></tr></table><br/></div><div class=\"wandb-col\"><h3>Run summary:</h3><br/><table class=\"wandb\"><tr><td>Training Acc</td><td>0.95833</td></tr><tr><td>Training Loss</td><td>0.20998</td></tr><tr><td>Validation Acc</td><td>0.72917</td></tr><tr><td>Validation Loss</td><td>0.52418</td></tr><tr><td>test_accuracy</td><td>0.78036</td></tr><tr><td>test_losss</td><td>0.43758</td></tr></table><br/></div></div>"
      ],
      "text/plain": [
       "<IPython.core.display.HTML object>"
      ]
     },
     "metadata": {},
     "output_type": "display_data"
    },
    {
     "data": {
      "text/html": [
       "Synced <strong style=\"color:#cdcd00\">clear-snowflake-45</strong>: <a href=\"https://wandb.ai/miraclelinzzz/Final-ensemble/runs/2mwzmys9\" target=\"_blank\">https://wandb.ai/miraclelinzzz/Final-ensemble/runs/2mwzmys9</a><br/>Synced 5 W&B file(s), 0 media file(s), 0 artifact file(s) and 0 other file(s)"
      ],
      "text/plain": [
       "<IPython.core.display.HTML object>"
      ]
     },
     "metadata": {},
     "output_type": "display_data"
    },
    {
     "data": {
      "text/html": [
       "Find logs at: <code>./wandb/run-20220817_230734-2mwzmys9/logs</code>"
      ],
      "text/plain": [
       "<IPython.core.display.HTML object>"
      ]
     },
     "metadata": {},
     "output_type": "display_data"
    },
    {
     "name": "stdout",
     "output_type": "stream",
     "text": [
      "dr-0.3,arch-[256, 512, 128],bs-16,seed-0,index-2,epoch-15\n"
     ]
    },
    {
     "data": {
      "text/html": [
       "Tracking run with wandb version 0.13.1"
      ],
      "text/plain": [
       "<IPython.core.display.HTML object>"
      ]
     },
     "metadata": {},
     "output_type": "display_data"
    },
    {
     "data": {
      "text/html": [
       "Run data is saved locally in <code>/home/jupyter/wandb/run-20220817_230847-iyb5a739</code>"
      ],
      "text/plain": [
       "<IPython.core.display.HTML object>"
      ]
     },
     "metadata": {},
     "output_type": "display_data"
    },
    {
     "data": {
      "text/html": [
       "Syncing run <strong><a href=\"https://wandb.ai/miraclelinzzz/Final-ensemble/runs/iyb5a739\" target=\"_blank\">smooth-wave-46</a></strong> to <a href=\"https://wandb.ai/miraclelinzzz/Final-ensemble\" target=\"_blank\">Weights & Biases</a> (<a href=\"https://wandb.me/run\" target=\"_blank\">docs</a>)<br/>"
      ],
      "text/plain": [
       "<IPython.core.display.HTML object>"
      ]
     },
     "metadata": {},
     "output_type": "display_data"
    },
    {
     "data": {
      "text/html": [
       "Waiting for W&B process to finish... <strong style=\"color:green\">(success).</strong>"
      ],
      "text/plain": [
       "<IPython.core.display.HTML object>"
      ]
     },
     "metadata": {},
     "output_type": "display_data"
    },
    {
     "data": {
      "text/html": [
       "<style>\n",
       "    table.wandb td:nth-child(1) { padding: 0 10px; text-align: left ; width: auto;} td:nth-child(2) {text-align: left ; width: 100%}\n",
       "    .wandb-row { display: flex; flex-direction: row; flex-wrap: wrap; justify-content: flex-start; width: 100% }\n",
       "    .wandb-col { display: flex; flex-direction: column; flex-basis: 100%; flex: 1; padding: 10px; }\n",
       "    </style>\n",
       "<div class=\"wandb-row\"><div class=\"wandb-col\"><h3>Run history:</h3><br/><table class=\"wandb\"><tr><td>Training Acc</td><td>▁▁▁▁▂▂▄▅▆▆▇█▆██</td></tr><tr><td>Training Loss</td><td>██▇▇▆▆▄▄▃▃▂▁▂▁▁</td></tr><tr><td>Validation Acc</td><td>▃▃▁▅▂▆▄█▄▄▄▄██▆</td></tr><tr><td>Validation Loss</td><td>███▅█▄▄▁▆▄▄▆▃▂▃</td></tr></table><br/></div><div class=\"wandb-col\"><h3>Run summary:</h3><br/><table class=\"wandb\"><tr><td>Training Acc</td><td>0.89583</td></tr><tr><td>Training Loss</td><td>0.25402</td></tr><tr><td>Validation Acc</td><td>0.70833</td></tr><tr><td>Validation Loss</td><td>0.4528</td></tr><tr><td>test_accuracy</td><td>0.84286</td></tr><tr><td>test_losss</td><td>0.44657</td></tr></table><br/></div></div>"
      ],
      "text/plain": [
       "<IPython.core.display.HTML object>"
      ]
     },
     "metadata": {},
     "output_type": "display_data"
    },
    {
     "data": {
      "text/html": [
       "Synced <strong style=\"color:#cdcd00\">smooth-wave-46</strong>: <a href=\"https://wandb.ai/miraclelinzzz/Final-ensemble/runs/iyb5a739\" target=\"_blank\">https://wandb.ai/miraclelinzzz/Final-ensemble/runs/iyb5a739</a><br/>Synced 5 W&B file(s), 0 media file(s), 0 artifact file(s) and 0 other file(s)"
      ],
      "text/plain": [
       "<IPython.core.display.HTML object>"
      ]
     },
     "metadata": {},
     "output_type": "display_data"
    },
    {
     "data": {
      "text/html": [
       "Find logs at: <code>./wandb/run-20220817_230847-iyb5a739/logs</code>"
      ],
      "text/plain": [
       "<IPython.core.display.HTML object>"
      ]
     },
     "metadata": {},
     "output_type": "display_data"
    },
    {
     "name": "stdout",
     "output_type": "stream",
     "text": [
      "dr-0.3,arch-[256, 512, 128],bs-16,seed-0,index-3,epoch-15\n"
     ]
    },
    {
     "data": {
      "text/html": [
       "Tracking run with wandb version 0.13.1"
      ],
      "text/plain": [
       "<IPython.core.display.HTML object>"
      ]
     },
     "metadata": {},
     "output_type": "display_data"
    },
    {
     "data": {
      "text/html": [
       "Run data is saved locally in <code>/home/jupyter/wandb/run-20220817_231001-28cdyb94</code>"
      ],
      "text/plain": [
       "<IPython.core.display.HTML object>"
      ]
     },
     "metadata": {},
     "output_type": "display_data"
    },
    {
     "data": {
      "text/html": [
       "Syncing run <strong><a href=\"https://wandb.ai/miraclelinzzz/Final-ensemble/runs/28cdyb94\" target=\"_blank\">likely-sun-47</a></strong> to <a href=\"https://wandb.ai/miraclelinzzz/Final-ensemble\" target=\"_blank\">Weights & Biases</a> (<a href=\"https://wandb.me/run\" target=\"_blank\">docs</a>)<br/>"
      ],
      "text/plain": [
       "<IPython.core.display.HTML object>"
      ]
     },
     "metadata": {},
     "output_type": "display_data"
    },
    {
     "data": {
      "text/html": [
       "Waiting for W&B process to finish... <strong style=\"color:green\">(success).</strong>"
      ],
      "text/plain": [
       "<IPython.core.display.HTML object>"
      ]
     },
     "metadata": {},
     "output_type": "display_data"
    },
    {
     "data": {
      "text/html": [
       "<style>\n",
       "    table.wandb td:nth-child(1) { padding: 0 10px; text-align: left ; width: auto;} td:nth-child(2) {text-align: left ; width: 100%}\n",
       "    .wandb-row { display: flex; flex-direction: row; flex-wrap: wrap; justify-content: flex-start; width: 100% }\n",
       "    .wandb-col { display: flex; flex-direction: column; flex-basis: 100%; flex: 1; padding: 10px; }\n",
       "    </style>\n",
       "<div class=\"wandb-row\"><div class=\"wandb-col\"><h3>Run history:</h3><br/><table class=\"wandb\"><tr><td>Training Acc</td><td>▁▂▃▃▃▃▄▅▅▇▇▇▇█▆</td></tr><tr><td>Training Loss</td><td>█▇▇▇▆▆▆▄▄▃▂▂▂▁▂</td></tr><tr><td>Validation Acc</td><td>▃▁▁▆▁▄▅▄█▄▅▄▆▇▅</td></tr><tr><td>Validation Loss</td><td>▅▆▆▄█▄▄▇▂█▅█▃▁▃</td></tr></table><br/></div><div class=\"wandb-col\"><h3>Run summary:</h3><br/><table class=\"wandb\"><tr><td>Training Acc</td><td>0.83333</td></tr><tr><td>Training Loss</td><td>0.36271</td></tr><tr><td>Validation Acc</td><td>0.625</td></tr><tr><td>Validation Loss</td><td>0.60898</td></tr><tr><td>test_accuracy</td><td>0.80536</td></tr><tr><td>test_losss</td><td>0.44449</td></tr></table><br/></div></div>"
      ],
      "text/plain": [
       "<IPython.core.display.HTML object>"
      ]
     },
     "metadata": {},
     "output_type": "display_data"
    },
    {
     "data": {
      "text/html": [
       "Synced <strong style=\"color:#cdcd00\">likely-sun-47</strong>: <a href=\"https://wandb.ai/miraclelinzzz/Final-ensemble/runs/28cdyb94\" target=\"_blank\">https://wandb.ai/miraclelinzzz/Final-ensemble/runs/28cdyb94</a><br/>Synced 5 W&B file(s), 0 media file(s), 0 artifact file(s) and 0 other file(s)"
      ],
      "text/plain": [
       "<IPython.core.display.HTML object>"
      ]
     },
     "metadata": {},
     "output_type": "display_data"
    },
    {
     "data": {
      "text/html": [
       "Find logs at: <code>./wandb/run-20220817_231001-28cdyb94/logs</code>"
      ],
      "text/plain": [
       "<IPython.core.display.HTML object>"
      ]
     },
     "metadata": {},
     "output_type": "display_data"
    },
    {
     "name": "stdout",
     "output_type": "stream",
     "text": [
      "dr-0.4,arch-[512, 64],bs-16,seed-10,index-1,epoch-15\n"
     ]
    },
    {
     "data": {
      "text/html": [
       "Tracking run with wandb version 0.13.1"
      ],
      "text/plain": [
       "<IPython.core.display.HTML object>"
      ]
     },
     "metadata": {},
     "output_type": "display_data"
    },
    {
     "data": {
      "text/html": [
       "Run data is saved locally in <code>/home/jupyter/wandb/run-20220817_231114-3bxzkz4m</code>"
      ],
      "text/plain": [
       "<IPython.core.display.HTML object>"
      ]
     },
     "metadata": {},
     "output_type": "display_data"
    },
    {
     "data": {
      "text/html": [
       "Syncing run <strong><a href=\"https://wandb.ai/miraclelinzzz/Final-ensemble/runs/3bxzkz4m\" target=\"_blank\">ruby-glitter-48</a></strong> to <a href=\"https://wandb.ai/miraclelinzzz/Final-ensemble\" target=\"_blank\">Weights & Biases</a> (<a href=\"https://wandb.me/run\" target=\"_blank\">docs</a>)<br/>"
      ],
      "text/plain": [
       "<IPython.core.display.HTML object>"
      ]
     },
     "metadata": {},
     "output_type": "display_data"
    },
    {
     "data": {
      "text/html": [
       "Waiting for W&B process to finish... <strong style=\"color:green\">(success).</strong>"
      ],
      "text/plain": [
       "<IPython.core.display.HTML object>"
      ]
     },
     "metadata": {},
     "output_type": "display_data"
    },
    {
     "data": {
      "text/html": [
       "<style>\n",
       "    table.wandb td:nth-child(1) { padding: 0 10px; text-align: left ; width: auto;} td:nth-child(2) {text-align: left ; width: 100%}\n",
       "    .wandb-row { display: flex; flex-direction: row; flex-wrap: wrap; justify-content: flex-start; width: 100% }\n",
       "    .wandb-col { display: flex; flex-direction: column; flex-basis: 100%; flex: 1; padding: 10px; }\n",
       "    </style>\n",
       "<div class=\"wandb-row\"><div class=\"wandb-col\"><h3>Run history:</h3><br/><table class=\"wandb\"><tr><td>Training Acc</td><td>▁▂▄▅▆▆▇▇▇██████</td></tr><tr><td>Training Loss</td><td>█▆▆▄▃▃▂▂▂▁▁▁▁▁▁</td></tr><tr><td>Validation Acc</td><td>▁▄▁▅▇██▅█▆███▅█</td></tr><tr><td>Validation Loss</td><td>▇▆█▇▂▂▂▃▁▄▁▃▁▃▁</td></tr></table><br/></div><div class=\"wandb-col\"><h3>Run summary:</h3><br/><table class=\"wandb\"><tr><td>Training Acc</td><td>0.98611</td></tr><tr><td>Training Loss</td><td>0.1974</td></tr><tr><td>Validation Acc</td><td>0.85417</td></tr><tr><td>Validation Loss</td><td>0.40679</td></tr><tr><td>test_accuracy</td><td>0.84286</td></tr><tr><td>test_losss</td><td>0.42745</td></tr></table><br/></div></div>"
      ],
      "text/plain": [
       "<IPython.core.display.HTML object>"
      ]
     },
     "metadata": {},
     "output_type": "display_data"
    },
    {
     "data": {
      "text/html": [
       "Synced <strong style=\"color:#cdcd00\">ruby-glitter-48</strong>: <a href=\"https://wandb.ai/miraclelinzzz/Final-ensemble/runs/3bxzkz4m\" target=\"_blank\">https://wandb.ai/miraclelinzzz/Final-ensemble/runs/3bxzkz4m</a><br/>Synced 5 W&B file(s), 0 media file(s), 0 artifact file(s) and 0 other file(s)"
      ],
      "text/plain": [
       "<IPython.core.display.HTML object>"
      ]
     },
     "metadata": {},
     "output_type": "display_data"
    },
    {
     "data": {
      "text/html": [
       "Find logs at: <code>./wandb/run-20220817_231114-3bxzkz4m/logs</code>"
      ],
      "text/plain": [
       "<IPython.core.display.HTML object>"
      ]
     },
     "metadata": {},
     "output_type": "display_data"
    },
    {
     "name": "stdout",
     "output_type": "stream",
     "text": [
      "dr-0.4,arch-[512, 64],bs-16,seed-10,index-2,epoch-15\n"
     ]
    },
    {
     "data": {
      "text/html": [
       "Tracking run with wandb version 0.13.1"
      ],
      "text/plain": [
       "<IPython.core.display.HTML object>"
      ]
     },
     "metadata": {},
     "output_type": "display_data"
    },
    {
     "data": {
      "text/html": [
       "Run data is saved locally in <code>/home/jupyter/wandb/run-20220817_231228-1ulckhiw</code>"
      ],
      "text/plain": [
       "<IPython.core.display.HTML object>"
      ]
     },
     "metadata": {},
     "output_type": "display_data"
    },
    {
     "data": {
      "text/html": [
       "Syncing run <strong><a href=\"https://wandb.ai/miraclelinzzz/Final-ensemble/runs/1ulckhiw\" target=\"_blank\">glad-totem-49</a></strong> to <a href=\"https://wandb.ai/miraclelinzzz/Final-ensemble\" target=\"_blank\">Weights & Biases</a> (<a href=\"https://wandb.me/run\" target=\"_blank\">docs</a>)<br/>"
      ],
      "text/plain": [
       "<IPython.core.display.HTML object>"
      ]
     },
     "metadata": {},
     "output_type": "display_data"
    },
    {
     "data": {
      "text/html": [
       "Waiting for W&B process to finish... <strong style=\"color:green\">(success).</strong>"
      ],
      "text/plain": [
       "<IPython.core.display.HTML object>"
      ]
     },
     "metadata": {},
     "output_type": "display_data"
    },
    {
     "data": {
      "text/html": [
       "<style>\n",
       "    table.wandb td:nth-child(1) { padding: 0 10px; text-align: left ; width: auto;} td:nth-child(2) {text-align: left ; width: 100%}\n",
       "    .wandb-row { display: flex; flex-direction: row; flex-wrap: wrap; justify-content: flex-start; width: 100% }\n",
       "    .wandb-col { display: flex; flex-direction: column; flex-basis: 100%; flex: 1; padding: 10px; }\n",
       "    </style>\n",
       "<div class=\"wandb-row\"><div class=\"wandb-col\"><h3>Run history:</h3><br/><table class=\"wandb\"><tr><td>Training Acc</td><td>▁▂▃▃▅▇▇▇██▆████</td></tr><tr><td>Training Loss</td><td>█▇▆▅▄▃▂▂▁▁▂▁▂▂▁</td></tr><tr><td>Validation Acc</td><td>▁▁▅▅▅▇█▆▄▆▄██▆▆</td></tr><tr><td>Validation Loss</td><td>▄▃▃▄▃▁▁▆▆▅█▁▁▄▄</td></tr></table><br/></div><div class=\"wandb-col\"><h3>Run summary:</h3><br/><table class=\"wandb\"><tr><td>Training Acc</td><td>1.0</td></tr><tr><td>Training Loss</td><td>0.15789</td></tr><tr><td>Validation Acc</td><td>0.70833</td></tr><tr><td>Validation Loss</td><td>0.70731</td></tr><tr><td>test_accuracy</td><td>0.84286</td></tr><tr><td>test_losss</td><td>0.40713</td></tr></table><br/></div></div>"
      ],
      "text/plain": [
       "<IPython.core.display.HTML object>"
      ]
     },
     "metadata": {},
     "output_type": "display_data"
    },
    {
     "data": {
      "text/html": [
       "Synced <strong style=\"color:#cdcd00\">glad-totem-49</strong>: <a href=\"https://wandb.ai/miraclelinzzz/Final-ensemble/runs/1ulckhiw\" target=\"_blank\">https://wandb.ai/miraclelinzzz/Final-ensemble/runs/1ulckhiw</a><br/>Synced 5 W&B file(s), 0 media file(s), 0 artifact file(s) and 0 other file(s)"
      ],
      "text/plain": [
       "<IPython.core.display.HTML object>"
      ]
     },
     "metadata": {},
     "output_type": "display_data"
    },
    {
     "data": {
      "text/html": [
       "Find logs at: <code>./wandb/run-20220817_231228-1ulckhiw/logs</code>"
      ],
      "text/plain": [
       "<IPython.core.display.HTML object>"
      ]
     },
     "metadata": {},
     "output_type": "display_data"
    },
    {
     "name": "stdout",
     "output_type": "stream",
     "text": [
      "dr-0.4,arch-[512, 64],bs-16,seed-10,index-3,epoch-15\n"
     ]
    },
    {
     "data": {
      "text/html": [
       "Tracking run with wandb version 0.13.1"
      ],
      "text/plain": [
       "<IPython.core.display.HTML object>"
      ]
     },
     "metadata": {},
     "output_type": "display_data"
    },
    {
     "data": {
      "text/html": [
       "Run data is saved locally in <code>/home/jupyter/wandb/run-20220817_231342-97hnu66u</code>"
      ],
      "text/plain": [
       "<IPython.core.display.HTML object>"
      ]
     },
     "metadata": {},
     "output_type": "display_data"
    },
    {
     "data": {
      "text/html": [
       "Syncing run <strong><a href=\"https://wandb.ai/miraclelinzzz/Final-ensemble/runs/97hnu66u\" target=\"_blank\">vivid-sea-50</a></strong> to <a href=\"https://wandb.ai/miraclelinzzz/Final-ensemble\" target=\"_blank\">Weights & Biases</a> (<a href=\"https://wandb.me/run\" target=\"_blank\">docs</a>)<br/>"
      ],
      "text/plain": [
       "<IPython.core.display.HTML object>"
      ]
     },
     "metadata": {},
     "output_type": "display_data"
    },
    {
     "data": {
      "text/html": [
       "Waiting for W&B process to finish... <strong style=\"color:green\">(success).</strong>"
      ],
      "text/plain": [
       "<IPython.core.display.HTML object>"
      ]
     },
     "metadata": {},
     "output_type": "display_data"
    },
    {
     "data": {
      "text/html": [
       "<style>\n",
       "    table.wandb td:nth-child(1) { padding: 0 10px; text-align: left ; width: auto;} td:nth-child(2) {text-align: left ; width: 100%}\n",
       "    .wandb-row { display: flex; flex-direction: row; flex-wrap: wrap; justify-content: flex-start; width: 100% }\n",
       "    .wandb-col { display: flex; flex-direction: column; flex-basis: 100%; flex: 1; padding: 10px; }\n",
       "    </style>\n",
       "<div class=\"wandb-row\"><div class=\"wandb-col\"><h3>Run history:</h3><br/><table class=\"wandb\"><tr><td>Training Acc</td><td>▁▃▃▄▅▆▇████████</td></tr><tr><td>Training Loss</td><td>█▇▆▅▄▃▂▂▁▁▁▁▁▁▁</td></tr><tr><td>Validation Acc</td><td>▄▁▇▂▅▇█▇▇▆█▆▆▆█</td></tr><tr><td>Validation Loss</td><td>▇█▄▆█▃▃▂▁▇▁▂▃▅▁</td></tr></table><br/></div><div class=\"wandb-col\"><h3>Run summary:</h3><br/><table class=\"wandb\"><tr><td>Training Acc</td><td>1.0</td></tr><tr><td>Training Loss</td><td>0.16604</td></tr><tr><td>Validation Acc</td><td>0.89583</td></tr><tr><td>Validation Loss</td><td>0.32477</td></tr><tr><td>test_accuracy</td><td>0.76429</td></tr><tr><td>test_losss</td><td>0.4682</td></tr></table><br/></div></div>"
      ],
      "text/plain": [
       "<IPython.core.display.HTML object>"
      ]
     },
     "metadata": {},
     "output_type": "display_data"
    },
    {
     "data": {
      "text/html": [
       "Synced <strong style=\"color:#cdcd00\">vivid-sea-50</strong>: <a href=\"https://wandb.ai/miraclelinzzz/Final-ensemble/runs/97hnu66u\" target=\"_blank\">https://wandb.ai/miraclelinzzz/Final-ensemble/runs/97hnu66u</a><br/>Synced 5 W&B file(s), 0 media file(s), 0 artifact file(s) and 0 other file(s)"
      ],
      "text/plain": [
       "<IPython.core.display.HTML object>"
      ]
     },
     "metadata": {},
     "output_type": "display_data"
    },
    {
     "data": {
      "text/html": [
       "Find logs at: <code>./wandb/run-20220817_231342-97hnu66u/logs</code>"
      ],
      "text/plain": [
       "<IPython.core.display.HTML object>"
      ]
     },
     "metadata": {},
     "output_type": "display_data"
    },
    {
     "name": "stdout",
     "output_type": "stream",
     "text": [
      "dr-0.5,arch-[64, 512],bs-16,seed-10,index-1,epoch-15\n"
     ]
    },
    {
     "data": {
      "text/html": [
       "Tracking run with wandb version 0.13.1"
      ],
      "text/plain": [
       "<IPython.core.display.HTML object>"
      ]
     },
     "metadata": {},
     "output_type": "display_data"
    },
    {
     "data": {
      "text/html": [
       "Run data is saved locally in <code>/home/jupyter/wandb/run-20220817_231458-1fwgkrmg</code>"
      ],
      "text/plain": [
       "<IPython.core.display.HTML object>"
      ]
     },
     "metadata": {},
     "output_type": "display_data"
    },
    {
     "data": {
      "text/html": [
       "Syncing run <strong><a href=\"https://wandb.ai/miraclelinzzz/Final-ensemble/runs/1fwgkrmg\" target=\"_blank\">treasured-brook-51</a></strong> to <a href=\"https://wandb.ai/miraclelinzzz/Final-ensemble\" target=\"_blank\">Weights & Biases</a> (<a href=\"https://wandb.me/run\" target=\"_blank\">docs</a>)<br/>"
      ],
      "text/plain": [
       "<IPython.core.display.HTML object>"
      ]
     },
     "metadata": {},
     "output_type": "display_data"
    },
    {
     "data": {
      "text/html": [
       "Waiting for W&B process to finish... <strong style=\"color:green\">(success).</strong>"
      ],
      "text/plain": [
       "<IPython.core.display.HTML object>"
      ]
     },
     "metadata": {},
     "output_type": "display_data"
    },
    {
     "data": {
      "text/html": [
       "<style>\n",
       "    table.wandb td:nth-child(1) { padding: 0 10px; text-align: left ; width: auto;} td:nth-child(2) {text-align: left ; width: 100%}\n",
       "    .wandb-row { display: flex; flex-direction: row; flex-wrap: wrap; justify-content: flex-start; width: 100% }\n",
       "    .wandb-col { display: flex; flex-direction: column; flex-basis: 100%; flex: 1; padding: 10px; }\n",
       "    </style>\n",
       "<div class=\"wandb-row\"><div class=\"wandb-col\"><h3>Run history:</h3><br/><table class=\"wandb\"><tr><td>Training Acc</td><td>▁▂▃▃▅▄▅▅▆▇▇█▇▆█</td></tr><tr><td>Training Loss</td><td>█▇▆▆▅▅▄▄▃▂▂▂▂▂▁</td></tr><tr><td>Validation Acc</td><td>▁▃▅▇▅█▆▇█▄▅▇▆█▆</td></tr><tr><td>Validation Loss</td><td>▇▆▆▅▅▄▄▅▂█▇▃▂▁▆</td></tr></table><br/></div><div class=\"wandb-col\"><h3>Run summary:</h3><br/><table class=\"wandb\"><tr><td>Training Acc</td><td>0.95833</td></tr><tr><td>Training Loss</td><td>0.29135</td></tr><tr><td>Validation Acc</td><td>0.70833</td></tr><tr><td>Validation Loss</td><td>0.63768</td></tr><tr><td>test_accuracy</td><td>0.84286</td></tr><tr><td>test_losss</td><td>0.44801</td></tr></table><br/></div></div>"
      ],
      "text/plain": [
       "<IPython.core.display.HTML object>"
      ]
     },
     "metadata": {},
     "output_type": "display_data"
    },
    {
     "data": {
      "text/html": [
       "Synced <strong style=\"color:#cdcd00\">treasured-brook-51</strong>: <a href=\"https://wandb.ai/miraclelinzzz/Final-ensemble/runs/1fwgkrmg\" target=\"_blank\">https://wandb.ai/miraclelinzzz/Final-ensemble/runs/1fwgkrmg</a><br/>Synced 5 W&B file(s), 0 media file(s), 0 artifact file(s) and 0 other file(s)"
      ],
      "text/plain": [
       "<IPython.core.display.HTML object>"
      ]
     },
     "metadata": {},
     "output_type": "display_data"
    },
    {
     "data": {
      "text/html": [
       "Find logs at: <code>./wandb/run-20220817_231458-1fwgkrmg/logs</code>"
      ],
      "text/plain": [
       "<IPython.core.display.HTML object>"
      ]
     },
     "metadata": {},
     "output_type": "display_data"
    },
    {
     "name": "stdout",
     "output_type": "stream",
     "text": [
      "dr-0.5,arch-[64, 512],bs-16,seed-10,index-2,epoch-15\n"
     ]
    },
    {
     "data": {
      "text/html": [
       "Tracking run with wandb version 0.13.1"
      ],
      "text/plain": [
       "<IPython.core.display.HTML object>"
      ]
     },
     "metadata": {},
     "output_type": "display_data"
    },
    {
     "data": {
      "text/html": [
       "Run data is saved locally in <code>/home/jupyter/wandb/run-20220817_231612-p7ruxu3e</code>"
      ],
      "text/plain": [
       "<IPython.core.display.HTML object>"
      ]
     },
     "metadata": {},
     "output_type": "display_data"
    },
    {
     "data": {
      "text/html": [
       "Syncing run <strong><a href=\"https://wandb.ai/miraclelinzzz/Final-ensemble/runs/p7ruxu3e\" target=\"_blank\">laced-bush-52</a></strong> to <a href=\"https://wandb.ai/miraclelinzzz/Final-ensemble\" target=\"_blank\">Weights & Biases</a> (<a href=\"https://wandb.me/run\" target=\"_blank\">docs</a>)<br/>"
      ],
      "text/plain": [
       "<IPython.core.display.HTML object>"
      ]
     },
     "metadata": {},
     "output_type": "display_data"
    },
    {
     "data": {
      "text/html": [
       "Waiting for W&B process to finish... <strong style=\"color:green\">(success).</strong>"
      ],
      "text/plain": [
       "<IPython.core.display.HTML object>"
      ]
     },
     "metadata": {},
     "output_type": "display_data"
    },
    {
     "data": {
      "text/html": [
       "<style>\n",
       "    table.wandb td:nth-child(1) { padding: 0 10px; text-align: left ; width: auto;} td:nth-child(2) {text-align: left ; width: 100%}\n",
       "    .wandb-row { display: flex; flex-direction: row; flex-wrap: wrap; justify-content: flex-start; width: 100% }\n",
       "    .wandb-col { display: flex; flex-direction: column; flex-basis: 100%; flex: 1; padding: 10px; }\n",
       "    </style>\n",
       "<div class=\"wandb-row\"><div class=\"wandb-col\"><h3>Run history:</h3><br/><table class=\"wandb\"><tr><td>Training Acc</td><td>▁▁▃▄▅▄▅▆▆▇▇██▇▇</td></tr><tr><td>Training Loss</td><td>█▇▆▆▅▅▄▃▃▂▂▂▁▁▂</td></tr><tr><td>Validation Acc</td><td>▃▁▅▇▃▄█▄▆▆█▆█▅▄</td></tr><tr><td>Validation Loss</td><td>▆▅▄▃▇▅▄▃▆▁▁▃▁▅█</td></tr></table><br/></div><div class=\"wandb-col\"><h3>Run summary:</h3><br/><table class=\"wandb\"><tr><td>Training Acc</td><td>0.875</td></tr><tr><td>Training Loss</td><td>0.36957</td></tr><tr><td>Validation Acc</td><td>0.54167</td></tr><tr><td>Validation Loss</td><td>0.77245</td></tr><tr><td>test_accuracy</td><td>0.84643</td></tr><tr><td>test_losss</td><td>0.45268</td></tr></table><br/></div></div>"
      ],
      "text/plain": [
       "<IPython.core.display.HTML object>"
      ]
     },
     "metadata": {},
     "output_type": "display_data"
    },
    {
     "data": {
      "text/html": [
       "Synced <strong style=\"color:#cdcd00\">laced-bush-52</strong>: <a href=\"https://wandb.ai/miraclelinzzz/Final-ensemble/runs/p7ruxu3e\" target=\"_blank\">https://wandb.ai/miraclelinzzz/Final-ensemble/runs/p7ruxu3e</a><br/>Synced 5 W&B file(s), 0 media file(s), 0 artifact file(s) and 0 other file(s)"
      ],
      "text/plain": [
       "<IPython.core.display.HTML object>"
      ]
     },
     "metadata": {},
     "output_type": "display_data"
    },
    {
     "data": {
      "text/html": [
       "Find logs at: <code>./wandb/run-20220817_231612-p7ruxu3e/logs</code>"
      ],
      "text/plain": [
       "<IPython.core.display.HTML object>"
      ]
     },
     "metadata": {},
     "output_type": "display_data"
    },
    {
     "name": "stdout",
     "output_type": "stream",
     "text": [
      "dr-0.5,arch-[64, 512],bs-16,seed-10,index-3,epoch-15\n"
     ]
    },
    {
     "data": {
      "text/html": [
       "Tracking run with wandb version 0.13.1"
      ],
      "text/plain": [
       "<IPython.core.display.HTML object>"
      ]
     },
     "metadata": {},
     "output_type": "display_data"
    },
    {
     "data": {
      "text/html": [
       "Run data is saved locally in <code>/home/jupyter/wandb/run-20220817_231727-5pnie3nw</code>"
      ],
      "text/plain": [
       "<IPython.core.display.HTML object>"
      ]
     },
     "metadata": {},
     "output_type": "display_data"
    },
    {
     "data": {
      "text/html": [
       "Syncing run <strong><a href=\"https://wandb.ai/miraclelinzzz/Final-ensemble/runs/5pnie3nw\" target=\"_blank\">classic-yogurt-53</a></strong> to <a href=\"https://wandb.ai/miraclelinzzz/Final-ensemble\" target=\"_blank\">Weights & Biases</a> (<a href=\"https://wandb.me/run\" target=\"_blank\">docs</a>)<br/>"
      ],
      "text/plain": [
       "<IPython.core.display.HTML object>"
      ]
     },
     "metadata": {},
     "output_type": "display_data"
    },
    {
     "data": {
      "text/html": [
       "Waiting for W&B process to finish... <strong style=\"color:green\">(success).</strong>"
      ],
      "text/plain": [
       "<IPython.core.display.HTML object>"
      ]
     },
     "metadata": {},
     "output_type": "display_data"
    },
    {
     "data": {
      "text/html": [
       "<style>\n",
       "    table.wandb td:nth-child(1) { padding: 0 10px; text-align: left ; width: auto;} td:nth-child(2) {text-align: left ; width: 100%}\n",
       "    .wandb-row { display: flex; flex-direction: row; flex-wrap: wrap; justify-content: flex-start; width: 100% }\n",
       "    .wandb-col { display: flex; flex-direction: column; flex-basis: 100%; flex: 1; padding: 10px; }\n",
       "    </style>\n",
       "<div class=\"wandb-row\"><div class=\"wandb-col\"><h3>Run history:</h3><br/><table class=\"wandb\"><tr><td>Training Acc</td><td>▁▂▂▄▄▆▅▇▇▇▇▇██▆</td></tr><tr><td>Training Loss</td><td>█▇▇▆▅▄▃▃▃▃▂▂▁▁▃</td></tr><tr><td>Validation Acc</td><td>▁▅▄██▇▇▇▇▇▇▅▇▇▅</td></tr><tr><td>Validation Loss</td><td>█▆▆▃▃▄▃▁▄▁▁▅▁▁▃</td></tr></table><br/></div><div class=\"wandb-col\"><h3>Run summary:</h3><br/><table class=\"wandb\"><tr><td>Training Acc</td><td>0.91667</td></tr><tr><td>Training Loss</td><td>0.34961</td></tr><tr><td>Validation Acc</td><td>0.72917</td></tr><tr><td>Validation Loss</td><td>0.45164</td></tr><tr><td>test_accuracy</td><td>0.79286</td></tr><tr><td>test_losss</td><td>0.43664</td></tr></table><br/></div></div>"
      ],
      "text/plain": [
       "<IPython.core.display.HTML object>"
      ]
     },
     "metadata": {},
     "output_type": "display_data"
    },
    {
     "data": {
      "text/html": [
       "Synced <strong style=\"color:#cdcd00\">classic-yogurt-53</strong>: <a href=\"https://wandb.ai/miraclelinzzz/Final-ensemble/runs/5pnie3nw\" target=\"_blank\">https://wandb.ai/miraclelinzzz/Final-ensemble/runs/5pnie3nw</a><br/>Synced 5 W&B file(s), 0 media file(s), 0 artifact file(s) and 0 other file(s)"
      ],
      "text/plain": [
       "<IPython.core.display.HTML object>"
      ]
     },
     "metadata": {},
     "output_type": "display_data"
    },
    {
     "data": {
      "text/html": [
       "Find logs at: <code>./wandb/run-20220817_231727-5pnie3nw/logs</code>"
      ],
      "text/plain": [
       "<IPython.core.display.HTML object>"
      ]
     },
     "metadata": {},
     "output_type": "display_data"
    },
    {
     "name": "stdout",
     "output_type": "stream",
     "text": [
      "dr-0.3,arch-[256, 512, 64],bs-8,seed-10,index-1,epoch-15\n"
     ]
    },
    {
     "data": {
      "text/html": [
       "Tracking run with wandb version 0.13.1"
      ],
      "text/plain": [
       "<IPython.core.display.HTML object>"
      ]
     },
     "metadata": {},
     "output_type": "display_data"
    },
    {
     "data": {
      "text/html": [
       "Run data is saved locally in <code>/home/jupyter/wandb/run-20220817_231842-25so89lr</code>"
      ],
      "text/plain": [
       "<IPython.core.display.HTML object>"
      ]
     },
     "metadata": {},
     "output_type": "display_data"
    },
    {
     "data": {
      "text/html": [
       "Syncing run <strong><a href=\"https://wandb.ai/miraclelinzzz/Final-ensemble/runs/25so89lr\" target=\"_blank\">genial-gorge-54</a></strong> to <a href=\"https://wandb.ai/miraclelinzzz/Final-ensemble\" target=\"_blank\">Weights & Biases</a> (<a href=\"https://wandb.me/run\" target=\"_blank\">docs</a>)<br/>"
      ],
      "text/plain": [
       "<IPython.core.display.HTML object>"
      ]
     },
     "metadata": {},
     "output_type": "display_data"
    },
    {
     "data": {
      "text/html": [
       "Waiting for W&B process to finish... <strong style=\"color:green\">(success).</strong>"
      ],
      "text/plain": [
       "<IPython.core.display.HTML object>"
      ]
     },
     "metadata": {},
     "output_type": "display_data"
    },
    {
     "data": {
      "text/html": [
       "<style>\n",
       "    table.wandb td:nth-child(1) { padding: 0 10px; text-align: left ; width: auto;} td:nth-child(2) {text-align: left ; width: 100%}\n",
       "    .wandb-row { display: flex; flex-direction: row; flex-wrap: wrap; justify-content: flex-start; width: 100% }\n",
       "    .wandb-col { display: flex; flex-direction: column; flex-basis: 100%; flex: 1; padding: 10px; }\n",
       "    </style>\n",
       "<div class=\"wandb-row\"><div class=\"wandb-col\"><h3>Run history:</h3><br/><table class=\"wandb\"><tr><td>Training Acc</td><td>▁▄▄▄▅▅▆▆██▇████</td></tr><tr><td>Training Loss</td><td>█▇▇▆▅▅▄▃▂▂▂▂▁▁▁</td></tr><tr><td>Validation Acc</td><td>▁▃▃▆▅▆▇▇▆▇▇▆██▇</td></tr><tr><td>Validation Loss</td><td>█▆▅▅▅▄▂▃▃▁▁▂▁▁▁</td></tr></table><br/></div><div class=\"wandb-col\"><h3>Run summary:</h3><br/><table class=\"wandb\"><tr><td>Training Acc</td><td>0.98529</td></tr><tr><td>Training Loss</td><td>0.25395</td></tr><tr><td>Validation Acc</td><td>0.8</td></tr><tr><td>Validation Loss</td><td>0.43912</td></tr><tr><td>test_accuracy</td><td>0.81746</td></tr><tr><td>test_losss</td><td>0.46017</td></tr></table><br/></div></div>"
      ],
      "text/plain": [
       "<IPython.core.display.HTML object>"
      ]
     },
     "metadata": {},
     "output_type": "display_data"
    },
    {
     "data": {
      "text/html": [
       "Synced <strong style=\"color:#cdcd00\">genial-gorge-54</strong>: <a href=\"https://wandb.ai/miraclelinzzz/Final-ensemble/runs/25so89lr\" target=\"_blank\">https://wandb.ai/miraclelinzzz/Final-ensemble/runs/25so89lr</a><br/>Synced 5 W&B file(s), 0 media file(s), 0 artifact file(s) and 0 other file(s)"
      ],
      "text/plain": [
       "<IPython.core.display.HTML object>"
      ]
     },
     "metadata": {},
     "output_type": "display_data"
    },
    {
     "data": {
      "text/html": [
       "Find logs at: <code>./wandb/run-20220817_231842-25so89lr/logs</code>"
      ],
      "text/plain": [
       "<IPython.core.display.HTML object>"
      ]
     },
     "metadata": {},
     "output_type": "display_data"
    },
    {
     "name": "stdout",
     "output_type": "stream",
     "text": [
      "dr-0.3,arch-[256, 512, 64],bs-8,seed-10,index-2,epoch-15\n"
     ]
    },
    {
     "data": {
      "text/html": [
       "Tracking run with wandb version 0.13.1"
      ],
      "text/plain": [
       "<IPython.core.display.HTML object>"
      ]
     },
     "metadata": {},
     "output_type": "display_data"
    },
    {
     "data": {
      "text/html": [
       "Run data is saved locally in <code>/home/jupyter/wandb/run-20220817_232001-ls2gjxup</code>"
      ],
      "text/plain": [
       "<IPython.core.display.HTML object>"
      ]
     },
     "metadata": {},
     "output_type": "display_data"
    },
    {
     "data": {
      "text/html": [
       "Syncing run <strong><a href=\"https://wandb.ai/miraclelinzzz/Final-ensemble/runs/ls2gjxup\" target=\"_blank\">major-glitter-55</a></strong> to <a href=\"https://wandb.ai/miraclelinzzz/Final-ensemble\" target=\"_blank\">Weights & Biases</a> (<a href=\"https://wandb.me/run\" target=\"_blank\">docs</a>)<br/>"
      ],
      "text/plain": [
       "<IPython.core.display.HTML object>"
      ]
     },
     "metadata": {},
     "output_type": "display_data"
    },
    {
     "data": {
      "text/html": [
       "Waiting for W&B process to finish... <strong style=\"color:green\">(success).</strong>"
      ],
      "text/plain": [
       "<IPython.core.display.HTML object>"
      ]
     },
     "metadata": {},
     "output_type": "display_data"
    },
    {
     "data": {
      "text/html": [
       "<style>\n",
       "    table.wandb td:nth-child(1) { padding: 0 10px; text-align: left ; width: auto;} td:nth-child(2) {text-align: left ; width: 100%}\n",
       "    .wandb-row { display: flex; flex-direction: row; flex-wrap: wrap; justify-content: flex-start; width: 100% }\n",
       "    .wandb-col { display: flex; flex-direction: column; flex-basis: 100%; flex: 1; padding: 10px; }\n",
       "    </style>\n",
       "<div class=\"wandb-row\"><div class=\"wandb-col\"><h3>Run history:</h3><br/><table class=\"wandb\"><tr><td>Training Acc</td><td>▁▁▁▂▂▃▄▅▄▅▅▆▇█▇</td></tr><tr><td>Training Loss</td><td>██▇▇▇▇▆▅▅▄▄▃▂▁▂</td></tr><tr><td>Validation Acc</td><td>▁▂▄▃▁▅▆▄▆▇▅▆███</td></tr><tr><td>Validation Loss</td><td>██▇▅▆▅▅▆▄▂▄▅▁▂▂</td></tr></table><br/></div><div class=\"wandb-col\"><h3>Run summary:</h3><br/><table class=\"wandb\"><tr><td>Training Acc</td><td>0.86029</td></tr><tr><td>Training Loss</td><td>0.40358</td></tr><tr><td>Validation Acc</td><td>0.85</td></tr><tr><td>Validation Loss</td><td>0.52626</td></tr><tr><td>test_accuracy</td><td>0.84325</td></tr><tr><td>test_losss</td><td>0.46091</td></tr></table><br/></div></div>"
      ],
      "text/plain": [
       "<IPython.core.display.HTML object>"
      ]
     },
     "metadata": {},
     "output_type": "display_data"
    },
    {
     "data": {
      "text/html": [
       "Synced <strong style=\"color:#cdcd00\">major-glitter-55</strong>: <a href=\"https://wandb.ai/miraclelinzzz/Final-ensemble/runs/ls2gjxup\" target=\"_blank\">https://wandb.ai/miraclelinzzz/Final-ensemble/runs/ls2gjxup</a><br/>Synced 5 W&B file(s), 0 media file(s), 0 artifact file(s) and 0 other file(s)"
      ],
      "text/plain": [
       "<IPython.core.display.HTML object>"
      ]
     },
     "metadata": {},
     "output_type": "display_data"
    },
    {
     "data": {
      "text/html": [
       "Find logs at: <code>./wandb/run-20220817_232001-ls2gjxup/logs</code>"
      ],
      "text/plain": [
       "<IPython.core.display.HTML object>"
      ]
     },
     "metadata": {},
     "output_type": "display_data"
    },
    {
     "name": "stdout",
     "output_type": "stream",
     "text": [
      "dr-0.3,arch-[256, 512, 64],bs-8,seed-10,index-3,epoch-15\n"
     ]
    },
    {
     "data": {
      "text/html": [
       "Tracking run with wandb version 0.13.1"
      ],
      "text/plain": [
       "<IPython.core.display.HTML object>"
      ]
     },
     "metadata": {},
     "output_type": "display_data"
    },
    {
     "data": {
      "text/html": [
       "Run data is saved locally in <code>/home/jupyter/wandb/run-20220817_232120-137pxd54</code>"
      ],
      "text/plain": [
       "<IPython.core.display.HTML object>"
      ]
     },
     "metadata": {},
     "output_type": "display_data"
    },
    {
     "data": {
      "text/html": [
       "Syncing run <strong><a href=\"https://wandb.ai/miraclelinzzz/Final-ensemble/runs/137pxd54\" target=\"_blank\">clear-violet-56</a></strong> to <a href=\"https://wandb.ai/miraclelinzzz/Final-ensemble\" target=\"_blank\">Weights & Biases</a> (<a href=\"https://wandb.me/run\" target=\"_blank\">docs</a>)<br/>"
      ],
      "text/plain": [
       "<IPython.core.display.HTML object>"
      ]
     },
     "metadata": {},
     "output_type": "display_data"
    },
    {
     "data": {
      "text/html": [
       "Waiting for W&B process to finish... <strong style=\"color:green\">(success).</strong>"
      ],
      "text/plain": [
       "<IPython.core.display.HTML object>"
      ]
     },
     "metadata": {},
     "output_type": "display_data"
    },
    {
     "data": {
      "text/html": [
       "<style>\n",
       "    table.wandb td:nth-child(1) { padding: 0 10px; text-align: left ; width: auto;} td:nth-child(2) {text-align: left ; width: 100%}\n",
       "    .wandb-row { display: flex; flex-direction: row; flex-wrap: wrap; justify-content: flex-start; width: 100% }\n",
       "    .wandb-col { display: flex; flex-direction: column; flex-basis: 100%; flex: 1; padding: 10px; }\n",
       "    </style>\n",
       "<div class=\"wandb-row\"><div class=\"wandb-col\"><h3>Run history:</h3><br/><table class=\"wandb\"><tr><td>Training Acc</td><td>▁▂▂▄▃▄▅▆▆▇▇▇▇██</td></tr><tr><td>Training Loss</td><td>██▇▆▆▅▄▃▃▂▂▂▁▁▁</td></tr><tr><td>Validation Acc</td><td>▂▁▃▃▃▃▇▆▃▆▇▇▆▇█</td></tr><tr><td>Validation Loss</td><td>██▅▅▆▅▂▃▅▃▂▁▂▁▁</td></tr></table><br/></div><div class=\"wandb-col\"><h3>Run summary:</h3><br/><table class=\"wandb\"><tr><td>Training Acc</td><td>0.94853</td></tr><tr><td>Training Loss</td><td>0.22793</td></tr><tr><td>Validation Acc</td><td>0.9</td></tr><tr><td>Validation Loss</td><td>0.3853</td></tr><tr><td>test_accuracy</td><td>0.81548</td></tr><tr><td>test_losss</td><td>0.45464</td></tr></table><br/></div></div>"
      ],
      "text/plain": [
       "<IPython.core.display.HTML object>"
      ]
     },
     "metadata": {},
     "output_type": "display_data"
    },
    {
     "data": {
      "text/html": [
       "Synced <strong style=\"color:#cdcd00\">clear-violet-56</strong>: <a href=\"https://wandb.ai/miraclelinzzz/Final-ensemble/runs/137pxd54\" target=\"_blank\">https://wandb.ai/miraclelinzzz/Final-ensemble/runs/137pxd54</a><br/>Synced 5 W&B file(s), 0 media file(s), 0 artifact file(s) and 0 other file(s)"
      ],
      "text/plain": [
       "<IPython.core.display.HTML object>"
      ]
     },
     "metadata": {},
     "output_type": "display_data"
    },
    {
     "data": {
      "text/html": [
       "Find logs at: <code>./wandb/run-20220817_232120-137pxd54/logs</code>"
      ],
      "text/plain": [
       "<IPython.core.display.HTML object>"
      ]
     },
     "metadata": {},
     "output_type": "display_data"
    },
    {
     "name": "stdout",
     "output_type": "stream",
     "text": [
      "dr-0.3,arch-[128],bs-8,seed-10,index-1,epoch-15\n"
     ]
    },
    {
     "data": {
      "text/html": [
       "Tracking run with wandb version 0.13.1"
      ],
      "text/plain": [
       "<IPython.core.display.HTML object>"
      ]
     },
     "metadata": {},
     "output_type": "display_data"
    },
    {
     "data": {
      "text/html": [
       "Run data is saved locally in <code>/home/jupyter/wandb/run-20220817_232241-kf339cdx</code>"
      ],
      "text/plain": [
       "<IPython.core.display.HTML object>"
      ]
     },
     "metadata": {},
     "output_type": "display_data"
    },
    {
     "data": {
      "text/html": [
       "Syncing run <strong><a href=\"https://wandb.ai/miraclelinzzz/Final-ensemble/runs/kf339cdx\" target=\"_blank\">lunar-music-57</a></strong> to <a href=\"https://wandb.ai/miraclelinzzz/Final-ensemble\" target=\"_blank\">Weights & Biases</a> (<a href=\"https://wandb.me/run\" target=\"_blank\">docs</a>)<br/>"
      ],
      "text/plain": [
       "<IPython.core.display.HTML object>"
      ]
     },
     "metadata": {},
     "output_type": "display_data"
    },
    {
     "data": {
      "text/html": [
       "Waiting for W&B process to finish... <strong style=\"color:green\">(success).</strong>"
      ],
      "text/plain": [
       "<IPython.core.display.HTML object>"
      ]
     },
     "metadata": {},
     "output_type": "display_data"
    },
    {
     "data": {
      "text/html": [
       "<style>\n",
       "    table.wandb td:nth-child(1) { padding: 0 10px; text-align: left ; width: auto;} td:nth-child(2) {text-align: left ; width: 100%}\n",
       "    .wandb-row { display: flex; flex-direction: row; flex-wrap: wrap; justify-content: flex-start; width: 100% }\n",
       "    .wandb-col { display: flex; flex-direction: column; flex-basis: 100%; flex: 1; padding: 10px; }\n",
       "    </style>\n",
       "<div class=\"wandb-row\"><div class=\"wandb-col\"><h3>Run history:</h3><br/><table class=\"wandb\"><tr><td>Training Acc</td><td>▁▂▆▇█▇████▇▇███</td></tr><tr><td>Training Loss</td><td>█▆▄▂▂▂▁▂▂▁▂▂▂▂▁</td></tr><tr><td>Validation Acc</td><td>▁▆▆▆▅▇▇▆███████</td></tr><tr><td>Validation Loss</td><td>▂▂▆▇█▂▄▅▂▁▂▁▁▁▂</td></tr></table><br/></div><div class=\"wandb-col\"><h3>Run summary:</h3><br/><table class=\"wandb\"><tr><td>Training Acc</td><td>1.0</td></tr><tr><td>Training Loss</td><td>0.11332</td></tr><tr><td>Validation Acc</td><td>0.875</td></tr><tr><td>Validation Loss</td><td>0.55147</td></tr><tr><td>test_accuracy</td><td>0.84325</td></tr><tr><td>test_losss</td><td>0.54092</td></tr></table><br/></div></div>"
      ],
      "text/plain": [
       "<IPython.core.display.HTML object>"
      ]
     },
     "metadata": {},
     "output_type": "display_data"
    },
    {
     "data": {
      "text/html": [
       "Synced <strong style=\"color:#cdcd00\">lunar-music-57</strong>: <a href=\"https://wandb.ai/miraclelinzzz/Final-ensemble/runs/kf339cdx\" target=\"_blank\">https://wandb.ai/miraclelinzzz/Final-ensemble/runs/kf339cdx</a><br/>Synced 5 W&B file(s), 0 media file(s), 0 artifact file(s) and 0 other file(s)"
      ],
      "text/plain": [
       "<IPython.core.display.HTML object>"
      ]
     },
     "metadata": {},
     "output_type": "display_data"
    },
    {
     "data": {
      "text/html": [
       "Find logs at: <code>./wandb/run-20220817_232241-kf339cdx/logs</code>"
      ],
      "text/plain": [
       "<IPython.core.display.HTML object>"
      ]
     },
     "metadata": {},
     "output_type": "display_data"
    },
    {
     "name": "stdout",
     "output_type": "stream",
     "text": [
      "dr-0.3,arch-[128],bs-8,seed-10,index-2,epoch-15\n"
     ]
    },
    {
     "data": {
      "text/html": [
       "Tracking run with wandb version 0.13.1"
      ],
      "text/plain": [
       "<IPython.core.display.HTML object>"
      ]
     },
     "metadata": {},
     "output_type": "display_data"
    },
    {
     "data": {
      "text/html": [
       "Run data is saved locally in <code>/home/jupyter/wandb/run-20220817_232400-znkpdfs6</code>"
      ],
      "text/plain": [
       "<IPython.core.display.HTML object>"
      ]
     },
     "metadata": {},
     "output_type": "display_data"
    },
    {
     "data": {
      "text/html": [
       "Syncing run <strong><a href=\"https://wandb.ai/miraclelinzzz/Final-ensemble/runs/znkpdfs6\" target=\"_blank\">dazzling-morning-58</a></strong> to <a href=\"https://wandb.ai/miraclelinzzz/Final-ensemble\" target=\"_blank\">Weights & Biases</a> (<a href=\"https://wandb.me/run\" target=\"_blank\">docs</a>)<br/>"
      ],
      "text/plain": [
       "<IPython.core.display.HTML object>"
      ]
     },
     "metadata": {},
     "output_type": "display_data"
    },
    {
     "data": {
      "text/html": [
       "Waiting for W&B process to finish... <strong style=\"color:green\">(success).</strong>"
      ],
      "text/plain": [
       "<IPython.core.display.HTML object>"
      ]
     },
     "metadata": {},
     "output_type": "display_data"
    },
    {
     "data": {
      "text/html": [
       "<style>\n",
       "    table.wandb td:nth-child(1) { padding: 0 10px; text-align: left ; width: auto;} td:nth-child(2) {text-align: left ; width: 100%}\n",
       "    .wandb-row { display: flex; flex-direction: row; flex-wrap: wrap; justify-content: flex-start; width: 100% }\n",
       "    .wandb-col { display: flex; flex-direction: column; flex-basis: 100%; flex: 1; padding: 10px; }\n",
       "    </style>\n",
       "<div class=\"wandb-row\"><div class=\"wandb-col\"><h3>Run history:</h3><br/><table class=\"wandb\"><tr><td>Training Acc</td><td>▁▃▆▇▇██████▇███</td></tr><tr><td>Training Loss</td><td>█▆▄▂▂▁▁▁▁▁▁▂▁▁▁</td></tr><tr><td>Validation Acc</td><td>▁▇▇▅▇▇█▇▇▇█▇▇██</td></tr><tr><td>Validation Loss</td><td>▅▁▁▅▄█▂█▆▇▄█▇▃▄</td></tr></table><br/></div><div class=\"wandb-col\"><h3>Run summary:</h3><br/><table class=\"wandb\"><tr><td>Training Acc</td><td>1.0</td></tr><tr><td>Training Loss</td><td>0.08687</td></tr><tr><td>Validation Acc</td><td>0.8</td></tr><tr><td>Validation Loss</td><td>0.70083</td></tr><tr><td>test_accuracy</td><td>0.78968</td></tr><tr><td>test_losss</td><td>0.6024</td></tr></table><br/></div></div>"
      ],
      "text/plain": [
       "<IPython.core.display.HTML object>"
      ]
     },
     "metadata": {},
     "output_type": "display_data"
    },
    {
     "data": {
      "text/html": [
       "Synced <strong style=\"color:#cdcd00\">dazzling-morning-58</strong>: <a href=\"https://wandb.ai/miraclelinzzz/Final-ensemble/runs/znkpdfs6\" target=\"_blank\">https://wandb.ai/miraclelinzzz/Final-ensemble/runs/znkpdfs6</a><br/>Synced 5 W&B file(s), 0 media file(s), 0 artifact file(s) and 0 other file(s)"
      ],
      "text/plain": [
       "<IPython.core.display.HTML object>"
      ]
     },
     "metadata": {},
     "output_type": "display_data"
    },
    {
     "data": {
      "text/html": [
       "Find logs at: <code>./wandb/run-20220817_232400-znkpdfs6/logs</code>"
      ],
      "text/plain": [
       "<IPython.core.display.HTML object>"
      ]
     },
     "metadata": {},
     "output_type": "display_data"
    },
    {
     "name": "stdout",
     "output_type": "stream",
     "text": [
      "dr-0.3,arch-[128],bs-8,seed-10,index-3,epoch-15\n"
     ]
    },
    {
     "data": {
      "text/html": [
       "Tracking run with wandb version 0.13.1"
      ],
      "text/plain": [
       "<IPython.core.display.HTML object>"
      ]
     },
     "metadata": {},
     "output_type": "display_data"
    },
    {
     "data": {
      "text/html": [
       "Run data is saved locally in <code>/home/jupyter/wandb/run-20220817_232519-1p4njk0i</code>"
      ],
      "text/plain": [
       "<IPython.core.display.HTML object>"
      ]
     },
     "metadata": {},
     "output_type": "display_data"
    },
    {
     "data": {
      "text/html": [
       "Syncing run <strong><a href=\"https://wandb.ai/miraclelinzzz/Final-ensemble/runs/1p4njk0i\" target=\"_blank\">morning-smoke-59</a></strong> to <a href=\"https://wandb.ai/miraclelinzzz/Final-ensemble\" target=\"_blank\">Weights & Biases</a> (<a href=\"https://wandb.me/run\" target=\"_blank\">docs</a>)<br/>"
      ],
      "text/plain": [
       "<IPython.core.display.HTML object>"
      ]
     },
     "metadata": {},
     "output_type": "display_data"
    },
    {
     "data": {
      "text/html": [
       "Waiting for W&B process to finish... <strong style=\"color:green\">(success).</strong>"
      ],
      "text/plain": [
       "<IPython.core.display.HTML object>"
      ]
     },
     "metadata": {},
     "output_type": "display_data"
    },
    {
     "data": {
      "text/html": [
       "<style>\n",
       "    table.wandb td:nth-child(1) { padding: 0 10px; text-align: left ; width: auto;} td:nth-child(2) {text-align: left ; width: 100%}\n",
       "    .wandb-row { display: flex; flex-direction: row; flex-wrap: wrap; justify-content: flex-start; width: 100% }\n",
       "    .wandb-col { display: flex; flex-direction: column; flex-basis: 100%; flex: 1; padding: 10px; }\n",
       "    </style>\n",
       "<div class=\"wandb-row\"><div class=\"wandb-col\"><h3>Run history:</h3><br/><table class=\"wandb\"><tr><td>Training Acc</td><td>▁▅▇█████▇████▇█</td></tr><tr><td>Training Loss</td><td>█▅▃▂▂▂▁▁▂▁▁▁▁▂▁</td></tr><tr><td>Validation Acc</td><td>▁▇█▇█▇▇██▆█████</td></tr><tr><td>Validation Loss</td><td>█▃▁▇▃▄▃▄▂▄▃▃▃▃▃</td></tr></table><br/></div><div class=\"wandb-col\"><h3>Run summary:</h3><br/><table class=\"wandb\"><tr><td>Training Acc</td><td>1.0</td></tr><tr><td>Training Loss</td><td>0.08432</td></tr><tr><td>Validation Acc</td><td>0.875</td></tr><tr><td>Validation Loss</td><td>0.41409</td></tr><tr><td>test_accuracy</td><td>0.81548</td></tr><tr><td>test_losss</td><td>0.60858</td></tr></table><br/></div></div>"
      ],
      "text/plain": [
       "<IPython.core.display.HTML object>"
      ]
     },
     "metadata": {},
     "output_type": "display_data"
    },
    {
     "data": {
      "text/html": [
       "Synced <strong style=\"color:#cdcd00\">morning-smoke-59</strong>: <a href=\"https://wandb.ai/miraclelinzzz/Final-ensemble/runs/1p4njk0i\" target=\"_blank\">https://wandb.ai/miraclelinzzz/Final-ensemble/runs/1p4njk0i</a><br/>Synced 5 W&B file(s), 0 media file(s), 0 artifact file(s) and 0 other file(s)"
      ],
      "text/plain": [
       "<IPython.core.display.HTML object>"
      ]
     },
     "metadata": {},
     "output_type": "display_data"
    },
    {
     "data": {
      "text/html": [
       "Find logs at: <code>./wandb/run-20220817_232519-1p4njk0i/logs</code>"
      ],
      "text/plain": [
       "<IPython.core.display.HTML object>"
      ]
     },
     "metadata": {},
     "output_type": "display_data"
    },
    {
     "name": "stdout",
     "output_type": "stream",
     "text": [
      "dr-0.4,arch-[128, 512, 256],bs-16,seed-10,index-1,epoch-15\n"
     ]
    },
    {
     "data": {
      "text/html": [
       "Tracking run with wandb version 0.13.1"
      ],
      "text/plain": [
       "<IPython.core.display.HTML object>"
      ]
     },
     "metadata": {},
     "output_type": "display_data"
    },
    {
     "data": {
      "text/html": [
       "Run data is saved locally in <code>/home/jupyter/wandb/run-20220817_232638-gz3jc50c</code>"
      ],
      "text/plain": [
       "<IPython.core.display.HTML object>"
      ]
     },
     "metadata": {},
     "output_type": "display_data"
    },
    {
     "data": {
      "text/html": [
       "Syncing run <strong><a href=\"https://wandb.ai/miraclelinzzz/Final-ensemble/runs/gz3jc50c\" target=\"_blank\">magic-meadow-60</a></strong> to <a href=\"https://wandb.ai/miraclelinzzz/Final-ensemble\" target=\"_blank\">Weights & Biases</a> (<a href=\"https://wandb.me/run\" target=\"_blank\">docs</a>)<br/>"
      ],
      "text/plain": [
       "<IPython.core.display.HTML object>"
      ]
     },
     "metadata": {},
     "output_type": "display_data"
    },
    {
     "data": {
      "text/html": [
       "Waiting for W&B process to finish... <strong style=\"color:green\">(success).</strong>"
      ],
      "text/plain": [
       "<IPython.core.display.HTML object>"
      ]
     },
     "metadata": {},
     "output_type": "display_data"
    },
    {
     "data": {
      "text/html": [
       "<style>\n",
       "    table.wandb td:nth-child(1) { padding: 0 10px; text-align: left ; width: auto;} td:nth-child(2) {text-align: left ; width: 100%}\n",
       "    .wandb-row { display: flex; flex-direction: row; flex-wrap: wrap; justify-content: flex-start; width: 100% }\n",
       "    .wandb-col { display: flex; flex-direction: column; flex-basis: 100%; flex: 1; padding: 10px; }\n",
       "    </style>\n",
       "<div class=\"wandb-row\"><div class=\"wandb-col\"><h3>Run history:</h3><br/><table class=\"wandb\"><tr><td>Training Acc</td><td>▂▂▂▁▄▂▄▄▅▅▇▆█▇▇</td></tr><tr><td>Training Loss</td><td>█▇▇█▆▇▆▆▄▃▃▂▁▃▁</td></tr><tr><td>Validation Acc</td><td>▄▁▄▄▁▂▇▇▇▇▇█▇██</td></tr><tr><td>Validation Loss</td><td>███▇▆▅▆▅▃▃▃▂▃▁▂</td></tr></table><br/></div><div class=\"wandb-col\"><h3>Run summary:</h3><br/><table class=\"wandb\"><tr><td>Training Acc</td><td>0.85417</td></tr><tr><td>Training Loss</td><td>0.38981</td></tr><tr><td>Validation Acc</td><td>0.875</td></tr><tr><td>Validation Loss</td><td>0.47932</td></tr><tr><td>test_accuracy</td><td>0.79286</td></tr><tr><td>test_losss</td><td>0.48046</td></tr></table><br/></div></div>"
      ],
      "text/plain": [
       "<IPython.core.display.HTML object>"
      ]
     },
     "metadata": {},
     "output_type": "display_data"
    },
    {
     "data": {
      "text/html": [
       "Synced <strong style=\"color:#cdcd00\">magic-meadow-60</strong>: <a href=\"https://wandb.ai/miraclelinzzz/Final-ensemble/runs/gz3jc50c\" target=\"_blank\">https://wandb.ai/miraclelinzzz/Final-ensemble/runs/gz3jc50c</a><br/>Synced 5 W&B file(s), 0 media file(s), 0 artifact file(s) and 0 other file(s)"
      ],
      "text/plain": [
       "<IPython.core.display.HTML object>"
      ]
     },
     "metadata": {},
     "output_type": "display_data"
    },
    {
     "data": {
      "text/html": [
       "Find logs at: <code>./wandb/run-20220817_232638-gz3jc50c/logs</code>"
      ],
      "text/plain": [
       "<IPython.core.display.HTML object>"
      ]
     },
     "metadata": {},
     "output_type": "display_data"
    },
    {
     "name": "stdout",
     "output_type": "stream",
     "text": [
      "dr-0.4,arch-[128, 512, 256],bs-16,seed-10,index-2,epoch-15\n"
     ]
    },
    {
     "data": {
      "text/html": [
       "Tracking run with wandb version 0.13.1"
      ],
      "text/plain": [
       "<IPython.core.display.HTML object>"
      ]
     },
     "metadata": {},
     "output_type": "display_data"
    },
    {
     "data": {
      "text/html": [
       "Run data is saved locally in <code>/home/jupyter/wandb/run-20220817_232752-3p7z0b9m</code>"
      ],
      "text/plain": [
       "<IPython.core.display.HTML object>"
      ]
     },
     "metadata": {},
     "output_type": "display_data"
    },
    {
     "data": {
      "text/html": [
       "Syncing run <strong><a href=\"https://wandb.ai/miraclelinzzz/Final-ensemble/runs/3p7z0b9m\" target=\"_blank\">vibrant-violet-61</a></strong> to <a href=\"https://wandb.ai/miraclelinzzz/Final-ensemble\" target=\"_blank\">Weights & Biases</a> (<a href=\"https://wandb.me/run\" target=\"_blank\">docs</a>)<br/>"
      ],
      "text/plain": [
       "<IPython.core.display.HTML object>"
      ]
     },
     "metadata": {},
     "output_type": "display_data"
    },
    {
     "data": {
      "text/html": [
       "Waiting for W&B process to finish... <strong style=\"color:green\">(success).</strong>"
      ],
      "text/plain": [
       "<IPython.core.display.HTML object>"
      ]
     },
     "metadata": {},
     "output_type": "display_data"
    },
    {
     "data": {
      "text/html": [
       "<style>\n",
       "    table.wandb td:nth-child(1) { padding: 0 10px; text-align: left ; width: auto;} td:nth-child(2) {text-align: left ; width: 100%}\n",
       "    .wandb-row { display: flex; flex-direction: row; flex-wrap: wrap; justify-content: flex-start; width: 100% }\n",
       "    .wandb-col { display: flex; flex-direction: column; flex-basis: 100%; flex: 1; padding: 10px; }\n",
       "    </style>\n",
       "<div class=\"wandb-row\"><div class=\"wandb-col\"><h3>Run history:</h3><br/><table class=\"wandb\"><tr><td>Training Acc</td><td>▂▁▂▁▃▄▃▄▄▆▅▇▇█▇</td></tr><tr><td>Training Loss</td><td>█▇█▇▆▅▅▅▄▃▃▂▂▁▁</td></tr><tr><td>Validation Acc</td><td>▁▁▁▄▇▅▇▅▃▆▆█▆█▆</td></tr><tr><td>Validation Loss</td><td>██▇█▄▄▆▅▅▄▃▂▄▁▅</td></tr></table><br/></div><div class=\"wandb-col\"><h3>Run summary:</h3><br/><table class=\"wandb\"><tr><td>Training Acc</td><td>0.84722</td></tr><tr><td>Training Loss</td><td>0.40203</td></tr><tr><td>Validation Acc</td><td>0.66667</td></tr><tr><td>Validation Loss</td><td>0.60813</td></tr><tr><td>test_accuracy</td><td>0.77143</td></tr><tr><td>test_losss</td><td>0.48658</td></tr></table><br/></div></div>"
      ],
      "text/plain": [
       "<IPython.core.display.HTML object>"
      ]
     },
     "metadata": {},
     "output_type": "display_data"
    },
    {
     "data": {
      "text/html": [
       "Synced <strong style=\"color:#cdcd00\">vibrant-violet-61</strong>: <a href=\"https://wandb.ai/miraclelinzzz/Final-ensemble/runs/3p7z0b9m\" target=\"_blank\">https://wandb.ai/miraclelinzzz/Final-ensemble/runs/3p7z0b9m</a><br/>Synced 5 W&B file(s), 0 media file(s), 0 artifact file(s) and 0 other file(s)"
      ],
      "text/plain": [
       "<IPython.core.display.HTML object>"
      ]
     },
     "metadata": {},
     "output_type": "display_data"
    },
    {
     "data": {
      "text/html": [
       "Find logs at: <code>./wandb/run-20220817_232752-3p7z0b9m/logs</code>"
      ],
      "text/plain": [
       "<IPython.core.display.HTML object>"
      ]
     },
     "metadata": {},
     "output_type": "display_data"
    },
    {
     "name": "stdout",
     "output_type": "stream",
     "text": [
      "dr-0.4,arch-[128, 512, 256],bs-16,seed-10,index-3,epoch-15\n"
     ]
    },
    {
     "data": {
      "text/html": [
       "Tracking run with wandb version 0.13.1"
      ],
      "text/plain": [
       "<IPython.core.display.HTML object>"
      ]
     },
     "metadata": {},
     "output_type": "display_data"
    },
    {
     "data": {
      "text/html": [
       "Run data is saved locally in <code>/home/jupyter/wandb/run-20220817_232906-sz72p5eu</code>"
      ],
      "text/plain": [
       "<IPython.core.display.HTML object>"
      ]
     },
     "metadata": {},
     "output_type": "display_data"
    },
    {
     "data": {
      "text/html": [
       "Syncing run <strong><a href=\"https://wandb.ai/miraclelinzzz/Final-ensemble/runs/sz72p5eu\" target=\"_blank\">kind-spaceship-62</a></strong> to <a href=\"https://wandb.ai/miraclelinzzz/Final-ensemble\" target=\"_blank\">Weights & Biases</a> (<a href=\"https://wandb.me/run\" target=\"_blank\">docs</a>)<br/>"
      ],
      "text/plain": [
       "<IPython.core.display.HTML object>"
      ]
     },
     "metadata": {},
     "output_type": "display_data"
    },
    {
     "data": {
      "text/html": [
       "Waiting for W&B process to finish... <strong style=\"color:green\">(success).</strong>"
      ],
      "text/plain": [
       "<IPython.core.display.HTML object>"
      ]
     },
     "metadata": {},
     "output_type": "display_data"
    },
    {
     "data": {
      "text/html": [
       "<style>\n",
       "    table.wandb td:nth-child(1) { padding: 0 10px; text-align: left ; width: auto;} td:nth-child(2) {text-align: left ; width: 100%}\n",
       "    .wandb-row { display: flex; flex-direction: row; flex-wrap: wrap; justify-content: flex-start; width: 100% }\n",
       "    .wandb-col { display: flex; flex-direction: column; flex-basis: 100%; flex: 1; padding: 10px; }\n",
       "    </style>\n",
       "<div class=\"wandb-row\"><div class=\"wandb-col\"><h3>Run history:</h3><br/><table class=\"wandb\"><tr><td>Training Acc</td><td>▁▃▁▁▂▄▄▅▆▆▆█▇▇█</td></tr><tr><td>Training Loss</td><td>█▇█▇▆▆▅▅▃▄▃▃▂▂▁</td></tr><tr><td>Validation Acc</td><td>▁▃▁▄▆▅▂▄▄▇▇▅█▆█</td></tr><tr><td>Validation Loss</td><td>███▆▆▅▅▆▄▄▃▁▂▁▁</td></tr></table><br/></div><div class=\"wandb-col\"><h3>Run summary:</h3><br/><table class=\"wandb\"><tr><td>Training Acc</td><td>0.76389</td></tr><tr><td>Training Loss</td><td>0.44755</td></tr><tr><td>Validation Acc</td><td>0.77083</td></tr><tr><td>Validation Loss</td><td>0.47141</td></tr><tr><td>test_accuracy</td><td>0.71786</td></tr><tr><td>test_losss</td><td>0.50678</td></tr></table><br/></div></div>"
      ],
      "text/plain": [
       "<IPython.core.display.HTML object>"
      ]
     },
     "metadata": {},
     "output_type": "display_data"
    },
    {
     "data": {
      "text/html": [
       "Synced <strong style=\"color:#cdcd00\">kind-spaceship-62</strong>: <a href=\"https://wandb.ai/miraclelinzzz/Final-ensemble/runs/sz72p5eu\" target=\"_blank\">https://wandb.ai/miraclelinzzz/Final-ensemble/runs/sz72p5eu</a><br/>Synced 5 W&B file(s), 0 media file(s), 0 artifact file(s) and 0 other file(s)"
      ],
      "text/plain": [
       "<IPython.core.display.HTML object>"
      ]
     },
     "metadata": {},
     "output_type": "display_data"
    },
    {
     "data": {
      "text/html": [
       "Find logs at: <code>./wandb/run-20220817_232906-sz72p5eu/logs</code>"
      ],
      "text/plain": [
       "<IPython.core.display.HTML object>"
      ]
     },
     "metadata": {},
     "output_type": "display_data"
    },
    {
     "name": "stdout",
     "output_type": "stream",
     "text": [
      "dr-0.3,arch-[256, 64],bs-16,seed-10,index-1,epoch-15\n"
     ]
    },
    {
     "data": {
      "text/html": [
       "Tracking run with wandb version 0.13.1"
      ],
      "text/plain": [
       "<IPython.core.display.HTML object>"
      ]
     },
     "metadata": {},
     "output_type": "display_data"
    },
    {
     "data": {
      "text/html": [
       "Run data is saved locally in <code>/home/jupyter/wandb/run-20220817_233021-2j51kjwh</code>"
      ],
      "text/plain": [
       "<IPython.core.display.HTML object>"
      ]
     },
     "metadata": {},
     "output_type": "display_data"
    },
    {
     "data": {
      "text/html": [
       "Syncing run <strong><a href=\"https://wandb.ai/miraclelinzzz/Final-ensemble/runs/2j51kjwh\" target=\"_blank\">deft-gorge-63</a></strong> to <a href=\"https://wandb.ai/miraclelinzzz/Final-ensemble\" target=\"_blank\">Weights & Biases</a> (<a href=\"https://wandb.me/run\" target=\"_blank\">docs</a>)<br/>"
      ],
      "text/plain": [
       "<IPython.core.display.HTML object>"
      ]
     },
     "metadata": {},
     "output_type": "display_data"
    },
    {
     "data": {
      "text/html": [
       "Waiting for W&B process to finish... <strong style=\"color:green\">(success).</strong>"
      ],
      "text/plain": [
       "<IPython.core.display.HTML object>"
      ]
     },
     "metadata": {},
     "output_type": "display_data"
    },
    {
     "data": {
      "text/html": [
       "<style>\n",
       "    table.wandb td:nth-child(1) { padding: 0 10px; text-align: left ; width: auto;} td:nth-child(2) {text-align: left ; width: 100%}\n",
       "    .wandb-row { display: flex; flex-direction: row; flex-wrap: wrap; justify-content: flex-start; width: 100% }\n",
       "    .wandb-col { display: flex; flex-direction: column; flex-basis: 100%; flex: 1; padding: 10px; }\n",
       "    </style>\n",
       "<div class=\"wandb-row\"><div class=\"wandb-col\"><h3>Run history:</h3><br/><table class=\"wandb\"><tr><td>Training Acc</td><td>▁▃▅▆▇▇█████▇█▇█</td></tr><tr><td>Training Loss</td><td>█▆▅▄▃▂▂▂▂▁▁▂▁▂▂</td></tr><tr><td>Validation Acc</td><td>▃▅▄▇▇▄▁██▇▄▇███</td></tr><tr><td>Validation Loss</td><td>▆▅▆▄▃▅█▁▁▂▅▂▁▃▁</td></tr></table><br/></div><div class=\"wandb-col\"><h3>Run summary:</h3><br/><table class=\"wandb\"><tr><td>Training Acc</td><td>0.97222</td></tr><tr><td>Training Loss</td><td>0.26949</td></tr><tr><td>Validation Acc</td><td>0.89583</td></tr><tr><td>Validation Loss</td><td>0.35497</td></tr><tr><td>test_accuracy</td><td>0.79286</td></tr><tr><td>test_losss</td><td>0.4753</td></tr></table><br/></div></div>"
      ],
      "text/plain": [
       "<IPython.core.display.HTML object>"
      ]
     },
     "metadata": {},
     "output_type": "display_data"
    },
    {
     "data": {
      "text/html": [
       "Synced <strong style=\"color:#cdcd00\">deft-gorge-63</strong>: <a href=\"https://wandb.ai/miraclelinzzz/Final-ensemble/runs/2j51kjwh\" target=\"_blank\">https://wandb.ai/miraclelinzzz/Final-ensemble/runs/2j51kjwh</a><br/>Synced 5 W&B file(s), 0 media file(s), 0 artifact file(s) and 0 other file(s)"
      ],
      "text/plain": [
       "<IPython.core.display.HTML object>"
      ]
     },
     "metadata": {},
     "output_type": "display_data"
    },
    {
     "data": {
      "text/html": [
       "Find logs at: <code>./wandb/run-20220817_233021-2j51kjwh/logs</code>"
      ],
      "text/plain": [
       "<IPython.core.display.HTML object>"
      ]
     },
     "metadata": {},
     "output_type": "display_data"
    },
    {
     "name": "stdout",
     "output_type": "stream",
     "text": [
      "dr-0.3,arch-[256, 64],bs-16,seed-10,index-2,epoch-15\n"
     ]
    },
    {
     "data": {
      "text/html": [
       "Tracking run with wandb version 0.13.1"
      ],
      "text/plain": [
       "<IPython.core.display.HTML object>"
      ]
     },
     "metadata": {},
     "output_type": "display_data"
    },
    {
     "data": {
      "text/html": [
       "Run data is saved locally in <code>/home/jupyter/wandb/run-20220817_233135-7o0aqbgx</code>"
      ],
      "text/plain": [
       "<IPython.core.display.HTML object>"
      ]
     },
     "metadata": {},
     "output_type": "display_data"
    },
    {
     "data": {
      "text/html": [
       "Syncing run <strong><a href=\"https://wandb.ai/miraclelinzzz/Final-ensemble/runs/7o0aqbgx\" target=\"_blank\">drawn-plant-64</a></strong> to <a href=\"https://wandb.ai/miraclelinzzz/Final-ensemble\" target=\"_blank\">Weights & Biases</a> (<a href=\"https://wandb.me/run\" target=\"_blank\">docs</a>)<br/>"
      ],
      "text/plain": [
       "<IPython.core.display.HTML object>"
      ]
     },
     "metadata": {},
     "output_type": "display_data"
    },
    {
     "data": {
      "text/html": [
       "Waiting for W&B process to finish... <strong style=\"color:green\">(success).</strong>"
      ],
      "text/plain": [
       "<IPython.core.display.HTML object>"
      ]
     },
     "metadata": {},
     "output_type": "display_data"
    },
    {
     "data": {
      "text/html": [
       "<style>\n",
       "    table.wandb td:nth-child(1) { padding: 0 10px; text-align: left ; width: auto;} td:nth-child(2) {text-align: left ; width: 100%}\n",
       "    .wandb-row { display: flex; flex-direction: row; flex-wrap: wrap; justify-content: flex-start; width: 100% }\n",
       "    .wandb-col { display: flex; flex-direction: column; flex-basis: 100%; flex: 1; padding: 10px; }\n",
       "    </style>\n",
       "<div class=\"wandb-row\"><div class=\"wandb-col\"><h3>Run history:</h3><br/><table class=\"wandb\"><tr><td>Training Acc</td><td>▁▃▄▅▇▇████▇████</td></tr><tr><td>Training Loss</td><td>█▆▅▅▃▃▂▂▂▁▂▁▁▁▁</td></tr><tr><td>Validation Acc</td><td>▃▁▄█▄▅▇████▇▇██</td></tr><tr><td>Validation Loss</td><td>█▇▇▃▄▄▂▂▂▂▁▃▃▂▂</td></tr></table><br/></div><div class=\"wandb-col\"><h3>Run summary:</h3><br/><table class=\"wandb\"><tr><td>Training Acc</td><td>1.0</td></tr><tr><td>Training Loss</td><td>0.18781</td></tr><tr><td>Validation Acc</td><td>0.875</td></tr><tr><td>Validation Loss</td><td>0.41266</td></tr><tr><td>test_accuracy</td><td>0.82143</td></tr><tr><td>test_losss</td><td>0.42641</td></tr></table><br/></div></div>"
      ],
      "text/plain": [
       "<IPython.core.display.HTML object>"
      ]
     },
     "metadata": {},
     "output_type": "display_data"
    },
    {
     "data": {
      "text/html": [
       "Synced <strong style=\"color:#cdcd00\">drawn-plant-64</strong>: <a href=\"https://wandb.ai/miraclelinzzz/Final-ensemble/runs/7o0aqbgx\" target=\"_blank\">https://wandb.ai/miraclelinzzz/Final-ensemble/runs/7o0aqbgx</a><br/>Synced 5 W&B file(s), 0 media file(s), 0 artifact file(s) and 0 other file(s)"
      ],
      "text/plain": [
       "<IPython.core.display.HTML object>"
      ]
     },
     "metadata": {},
     "output_type": "display_data"
    },
    {
     "data": {
      "text/html": [
       "Find logs at: <code>./wandb/run-20220817_233135-7o0aqbgx/logs</code>"
      ],
      "text/plain": [
       "<IPython.core.display.HTML object>"
      ]
     },
     "metadata": {},
     "output_type": "display_data"
    },
    {
     "name": "stdout",
     "output_type": "stream",
     "text": [
      "dr-0.3,arch-[256, 64],bs-16,seed-10,index-3,epoch-15\n"
     ]
    },
    {
     "data": {
      "text/html": [
       "Tracking run with wandb version 0.13.1"
      ],
      "text/plain": [
       "<IPython.core.display.HTML object>"
      ]
     },
     "metadata": {},
     "output_type": "display_data"
    },
    {
     "data": {
      "text/html": [
       "Run data is saved locally in <code>/home/jupyter/wandb/run-20220817_233250-1fpvw6fw</code>"
      ],
      "text/plain": [
       "<IPython.core.display.HTML object>"
      ]
     },
     "metadata": {},
     "output_type": "display_data"
    },
    {
     "data": {
      "text/html": [
       "Syncing run <strong><a href=\"https://wandb.ai/miraclelinzzz/Final-ensemble/runs/1fpvw6fw\" target=\"_blank\">helpful-spaceship-65</a></strong> to <a href=\"https://wandb.ai/miraclelinzzz/Final-ensemble\" target=\"_blank\">Weights & Biases</a> (<a href=\"https://wandb.me/run\" target=\"_blank\">docs</a>)<br/>"
      ],
      "text/plain": [
       "<IPython.core.display.HTML object>"
      ]
     },
     "metadata": {},
     "output_type": "display_data"
    },
    {
     "data": {
      "text/html": [
       "Waiting for W&B process to finish... <strong style=\"color:green\">(success).</strong>"
      ],
      "text/plain": [
       "<IPython.core.display.HTML object>"
      ]
     },
     "metadata": {},
     "output_type": "display_data"
    },
    {
     "data": {
      "text/html": [
       "<style>\n",
       "    table.wandb td:nth-child(1) { padding: 0 10px; text-align: left ; width: auto;} td:nth-child(2) {text-align: left ; width: 100%}\n",
       "    .wandb-row { display: flex; flex-direction: row; flex-wrap: wrap; justify-content: flex-start; width: 100% }\n",
       "    .wandb-col { display: flex; flex-direction: column; flex-basis: 100%; flex: 1; padding: 10px; }\n",
       "    </style>\n",
       "<div class=\"wandb-row\"><div class=\"wandb-col\"><h3>Run history:</h3><br/><table class=\"wandb\"><tr><td>Training Acc</td><td>▁▃▄▅▆▇█████████</td></tr><tr><td>Training Loss</td><td>█▇▅▄▃▂▂▂▂▂▁▁▁▁▁</td></tr><tr><td>Validation Acc</td><td>▁▄▄▅▇▇█▇▇██████</td></tr><tr><td>Validation Loss</td><td>█▇▆█▂▃▂▂▂▁▁▂▁▁▁</td></tr></table><br/></div><div class=\"wandb-col\"><h3>Run summary:</h3><br/><table class=\"wandb\"><tr><td>Training Acc</td><td>0.96528</td></tr><tr><td>Training Loss</td><td>0.2135</td></tr><tr><td>Validation Acc</td><td>0.91667</td></tr><tr><td>Validation Loss</td><td>0.29479</td></tr><tr><td>test_accuracy</td><td>0.85893</td></tr><tr><td>test_losss</td><td>0.40908</td></tr></table><br/></div></div>"
      ],
      "text/plain": [
       "<IPython.core.display.HTML object>"
      ]
     },
     "metadata": {},
     "output_type": "display_data"
    },
    {
     "data": {
      "text/html": [
       "Synced <strong style=\"color:#cdcd00\">helpful-spaceship-65</strong>: <a href=\"https://wandb.ai/miraclelinzzz/Final-ensemble/runs/1fpvw6fw\" target=\"_blank\">https://wandb.ai/miraclelinzzz/Final-ensemble/runs/1fpvw6fw</a><br/>Synced 5 W&B file(s), 0 media file(s), 0 artifact file(s) and 0 other file(s)"
      ],
      "text/plain": [
       "<IPython.core.display.HTML object>"
      ]
     },
     "metadata": {},
     "output_type": "display_data"
    },
    {
     "data": {
      "text/html": [
       "Find logs at: <code>./wandb/run-20220817_233250-1fpvw6fw/logs</code>"
      ],
      "text/plain": [
       "<IPython.core.display.HTML object>"
      ]
     },
     "metadata": {},
     "output_type": "display_data"
    },
    {
     "name": "stdout",
     "output_type": "stream",
     "text": [
      "dr-0.4,arch-[256, 128],bs-16,seed-10,index-1,epoch-15\n"
     ]
    },
    {
     "data": {
      "text/html": [
       "Tracking run with wandb version 0.13.1"
      ],
      "text/plain": [
       "<IPython.core.display.HTML object>"
      ]
     },
     "metadata": {},
     "output_type": "display_data"
    },
    {
     "data": {
      "text/html": [
       "Run data is saved locally in <code>/home/jupyter/wandb/run-20220817_233405-1u8i2db4</code>"
      ],
      "text/plain": [
       "<IPython.core.display.HTML object>"
      ]
     },
     "metadata": {},
     "output_type": "display_data"
    },
    {
     "data": {
      "text/html": [
       "Syncing run <strong><a href=\"https://wandb.ai/miraclelinzzz/Final-ensemble/runs/1u8i2db4\" target=\"_blank\">bright-mountain-66</a></strong> to <a href=\"https://wandb.ai/miraclelinzzz/Final-ensemble\" target=\"_blank\">Weights & Biases</a> (<a href=\"https://wandb.me/run\" target=\"_blank\">docs</a>)<br/>"
      ],
      "text/plain": [
       "<IPython.core.display.HTML object>"
      ]
     },
     "metadata": {},
     "output_type": "display_data"
    },
    {
     "data": {
      "text/html": [
       "Waiting for W&B process to finish... <strong style=\"color:green\">(success).</strong>"
      ],
      "text/plain": [
       "<IPython.core.display.HTML object>"
      ]
     },
     "metadata": {},
     "output_type": "display_data"
    },
    {
     "data": {
      "text/html": [
       "<style>\n",
       "    table.wandb td:nth-child(1) { padding: 0 10px; text-align: left ; width: auto;} td:nth-child(2) {text-align: left ; width: 100%}\n",
       "    .wandb-row { display: flex; flex-direction: row; flex-wrap: wrap; justify-content: flex-start; width: 100% }\n",
       "    .wandb-col { display: flex; flex-direction: column; flex-basis: 100%; flex: 1; padding: 10px; }\n",
       "    </style>\n",
       "<div class=\"wandb-row\"><div class=\"wandb-col\"><h3>Run history:</h3><br/><table class=\"wandb\"><tr><td>Training Acc</td><td>▁▂▃▄▄▆▆▇█▆█████</td></tr><tr><td>Training Loss</td><td>█▇▇▆▅▄▃▃▂▂▂▁▁▁▁</td></tr><tr><td>Validation Acc</td><td>▃▁▁▃█▅▆█▄▆██▆▆▆</td></tr><tr><td>Validation Loss</td><td>▆▅▆▅▁▂▆▂█▆▁▁▆▆▆</td></tr></table><br/></div><div class=\"wandb-col\"><h3>Run summary:</h3><br/><table class=\"wandb\"><tr><td>Training Acc</td><td>1.0</td></tr><tr><td>Training Loss</td><td>0.13112</td></tr><tr><td>Validation Acc</td><td>0.70833</td></tr><tr><td>Validation Loss</td><td>0.68399</td></tr><tr><td>test_accuracy</td><td>0.84286</td></tr><tr><td>test_losss</td><td>0.40183</td></tr></table><br/></div></div>"
      ],
      "text/plain": [
       "<IPython.core.display.HTML object>"
      ]
     },
     "metadata": {},
     "output_type": "display_data"
    },
    {
     "data": {
      "text/html": [
       "Synced <strong style=\"color:#cdcd00\">bright-mountain-66</strong>: <a href=\"https://wandb.ai/miraclelinzzz/Final-ensemble/runs/1u8i2db4\" target=\"_blank\">https://wandb.ai/miraclelinzzz/Final-ensemble/runs/1u8i2db4</a><br/>Synced 5 W&B file(s), 0 media file(s), 0 artifact file(s) and 0 other file(s)"
      ],
      "text/plain": [
       "<IPython.core.display.HTML object>"
      ]
     },
     "metadata": {},
     "output_type": "display_data"
    },
    {
     "data": {
      "text/html": [
       "Find logs at: <code>./wandb/run-20220817_233405-1u8i2db4/logs</code>"
      ],
      "text/plain": [
       "<IPython.core.display.HTML object>"
      ]
     },
     "metadata": {},
     "output_type": "display_data"
    },
    {
     "name": "stdout",
     "output_type": "stream",
     "text": [
      "dr-0.4,arch-[256, 128],bs-16,seed-10,index-2,epoch-15\n"
     ]
    },
    {
     "data": {
      "text/html": [
       "Tracking run with wandb version 0.13.1"
      ],
      "text/plain": [
       "<IPython.core.display.HTML object>"
      ]
     },
     "metadata": {},
     "output_type": "display_data"
    },
    {
     "data": {
      "text/html": [
       "Run data is saved locally in <code>/home/jupyter/wandb/run-20220817_233519-34i9buyw</code>"
      ],
      "text/plain": [
       "<IPython.core.display.HTML object>"
      ]
     },
     "metadata": {},
     "output_type": "display_data"
    },
    {
     "data": {
      "text/html": [
       "Syncing run <strong><a href=\"https://wandb.ai/miraclelinzzz/Final-ensemble/runs/34i9buyw\" target=\"_blank\">faithful-lion-67</a></strong> to <a href=\"https://wandb.ai/miraclelinzzz/Final-ensemble\" target=\"_blank\">Weights & Biases</a> (<a href=\"https://wandb.me/run\" target=\"_blank\">docs</a>)<br/>"
      ],
      "text/plain": [
       "<IPython.core.display.HTML object>"
      ]
     },
     "metadata": {},
     "output_type": "display_data"
    },
    {
     "data": {
      "text/html": [
       "Waiting for W&B process to finish... <strong style=\"color:green\">(success).</strong>"
      ],
      "text/plain": [
       "<IPython.core.display.HTML object>"
      ]
     },
     "metadata": {},
     "output_type": "display_data"
    },
    {
     "data": {
      "text/html": [
       "<style>\n",
       "    table.wandb td:nth-child(1) { padding: 0 10px; text-align: left ; width: auto;} td:nth-child(2) {text-align: left ; width: 100%}\n",
       "    .wandb-row { display: flex; flex-direction: row; flex-wrap: wrap; justify-content: flex-start; width: 100% }\n",
       "    .wandb-col { display: flex; flex-direction: column; flex-basis: 100%; flex: 1; padding: 10px; }\n",
       "    </style>\n",
       "<div class=\"wandb-row\"><div class=\"wandb-col\"><h3>Run history:</h3><br/><table class=\"wandb\"><tr><td>Training Acc</td><td>▁▃▄▅▆▇▇██▇█████</td></tr><tr><td>Training Loss</td><td>█▇▆▅▅▄▃▂▂▂▁▁▁▁▁</td></tr><tr><td>Validation Acc</td><td>▁▃▇▅▆▆▆▅▇▇▇▂▃█▄</td></tr><tr><td>Validation Loss</td><td>▃▃▃▂▁▄▃▄▂▃▃█▇▁▄</td></tr></table><br/></div><div class=\"wandb-col\"><h3>Run summary:</h3><br/><table class=\"wandb\"><tr><td>Training Acc</td><td>1.0</td></tr><tr><td>Training Loss</td><td>0.15986</td></tr><tr><td>Validation Acc</td><td>0.5</td></tr><tr><td>Validation Loss</td><td>0.78979</td></tr><tr><td>test_accuracy</td><td>0.85893</td></tr><tr><td>test_losss</td><td>0.37996</td></tr></table><br/></div></div>"
      ],
      "text/plain": [
       "<IPython.core.display.HTML object>"
      ]
     },
     "metadata": {},
     "output_type": "display_data"
    },
    {
     "data": {
      "text/html": [
       "Synced <strong style=\"color:#cdcd00\">faithful-lion-67</strong>: <a href=\"https://wandb.ai/miraclelinzzz/Final-ensemble/runs/34i9buyw\" target=\"_blank\">https://wandb.ai/miraclelinzzz/Final-ensemble/runs/34i9buyw</a><br/>Synced 5 W&B file(s), 0 media file(s), 0 artifact file(s) and 0 other file(s)"
      ],
      "text/plain": [
       "<IPython.core.display.HTML object>"
      ]
     },
     "metadata": {},
     "output_type": "display_data"
    },
    {
     "data": {
      "text/html": [
       "Find logs at: <code>./wandb/run-20220817_233519-34i9buyw/logs</code>"
      ],
      "text/plain": [
       "<IPython.core.display.HTML object>"
      ]
     },
     "metadata": {},
     "output_type": "display_data"
    },
    {
     "name": "stdout",
     "output_type": "stream",
     "text": [
      "dr-0.4,arch-[256, 128],bs-16,seed-10,index-3,epoch-15\n"
     ]
    },
    {
     "data": {
      "text/html": [
       "Tracking run with wandb version 0.13.1"
      ],
      "text/plain": [
       "<IPython.core.display.HTML object>"
      ]
     },
     "metadata": {},
     "output_type": "display_data"
    },
    {
     "data": {
      "text/html": [
       "Run data is saved locally in <code>/home/jupyter/wandb/run-20220817_233633-2nmhvp9t</code>"
      ],
      "text/plain": [
       "<IPython.core.display.HTML object>"
      ]
     },
     "metadata": {},
     "output_type": "display_data"
    },
    {
     "data": {
      "text/html": [
       "Syncing run <strong><a href=\"https://wandb.ai/miraclelinzzz/Final-ensemble/runs/2nmhvp9t\" target=\"_blank\">absurd-sun-68</a></strong> to <a href=\"https://wandb.ai/miraclelinzzz/Final-ensemble\" target=\"_blank\">Weights & Biases</a> (<a href=\"https://wandb.me/run\" target=\"_blank\">docs</a>)<br/>"
      ],
      "text/plain": [
       "<IPython.core.display.HTML object>"
      ]
     },
     "metadata": {},
     "output_type": "display_data"
    },
    {
     "data": {
      "text/html": [
       "Waiting for W&B process to finish... <strong style=\"color:green\">(success).</strong>"
      ],
      "text/plain": [
       "<IPython.core.display.HTML object>"
      ]
     },
     "metadata": {},
     "output_type": "display_data"
    },
    {
     "data": {
      "text/html": [
       "<style>\n",
       "    table.wandb td:nth-child(1) { padding: 0 10px; text-align: left ; width: auto;} td:nth-child(2) {text-align: left ; width: 100%}\n",
       "    .wandb-row { display: flex; flex-direction: row; flex-wrap: wrap; justify-content: flex-start; width: 100% }\n",
       "    .wandb-col { display: flex; flex-direction: column; flex-basis: 100%; flex: 1; padding: 10px; }\n",
       "    </style>\n",
       "<div class=\"wandb-row\"><div class=\"wandb-col\"><h3>Run history:</h3><br/><table class=\"wandb\"><tr><td>Training Acc</td><td>▁▂▃▅▇▆▇████████</td></tr><tr><td>Training Loss</td><td>█▇▆▄▃▃▂▂▁▁▁▁▁▁▂</td></tr><tr><td>Validation Acc</td><td>▁▁▆▅▇▇▇▅▅█▆███▄</td></tr><tr><td>Validation Loss</td><td>▅▄▃▃▃▂▂▄▃▁▃▁▁▁█</td></tr></table><br/></div><div class=\"wandb-col\"><h3>Run summary:</h3><br/><table class=\"wandb\"><tr><td>Training Acc</td><td>0.97222</td></tr><tr><td>Training Loss</td><td>0.19308</td></tr><tr><td>Validation Acc</td><td>0.60417</td></tr><tr><td>Validation Loss</td><td>1.04635</td></tr><tr><td>test_accuracy</td><td>0.81786</td></tr><tr><td>test_losss</td><td>0.47606</td></tr></table><br/></div></div>"
      ],
      "text/plain": [
       "<IPython.core.display.HTML object>"
      ]
     },
     "metadata": {},
     "output_type": "display_data"
    },
    {
     "data": {
      "text/html": [
       "Synced <strong style=\"color:#cdcd00\">absurd-sun-68</strong>: <a href=\"https://wandb.ai/miraclelinzzz/Final-ensemble/runs/2nmhvp9t\" target=\"_blank\">https://wandb.ai/miraclelinzzz/Final-ensemble/runs/2nmhvp9t</a><br/>Synced 5 W&B file(s), 0 media file(s), 0 artifact file(s) and 0 other file(s)"
      ],
      "text/plain": [
       "<IPython.core.display.HTML object>"
      ]
     },
     "metadata": {},
     "output_type": "display_data"
    },
    {
     "data": {
      "text/html": [
       "Find logs at: <code>./wandb/run-20220817_233633-2nmhvp9t/logs</code>"
      ],
      "text/plain": [
       "<IPython.core.display.HTML object>"
      ]
     },
     "metadata": {},
     "output_type": "display_data"
    },
    {
     "name": "stdout",
     "output_type": "stream",
     "text": [
      "dr-0.5,arch-[512, 256],bs-16,seed-10,index-1,epoch-15\n"
     ]
    },
    {
     "data": {
      "text/html": [
       "Tracking run with wandb version 0.13.1"
      ],
      "text/plain": [
       "<IPython.core.display.HTML object>"
      ]
     },
     "metadata": {},
     "output_type": "display_data"
    },
    {
     "data": {
      "text/html": [
       "Run data is saved locally in <code>/home/jupyter/wandb/run-20220817_233748-eavgdcgd</code>"
      ],
      "text/plain": [
       "<IPython.core.display.HTML object>"
      ]
     },
     "metadata": {},
     "output_type": "display_data"
    },
    {
     "data": {
      "text/html": [
       "Syncing run <strong><a href=\"https://wandb.ai/miraclelinzzz/Final-ensemble/runs/eavgdcgd\" target=\"_blank\">misunderstood-dew-69</a></strong> to <a href=\"https://wandb.ai/miraclelinzzz/Final-ensemble\" target=\"_blank\">Weights & Biases</a> (<a href=\"https://wandb.me/run\" target=\"_blank\">docs</a>)<br/>"
      ],
      "text/plain": [
       "<IPython.core.display.HTML object>"
      ]
     },
     "metadata": {},
     "output_type": "display_data"
    },
    {
     "data": {
      "text/html": [
       "Waiting for W&B process to finish... <strong style=\"color:green\">(success).</strong>"
      ],
      "text/plain": [
       "<IPython.core.display.HTML object>"
      ]
     },
     "metadata": {},
     "output_type": "display_data"
    },
    {
     "data": {
      "text/html": [
       "<style>\n",
       "    table.wandb td:nth-child(1) { padding: 0 10px; text-align: left ; width: auto;} td:nth-child(2) {text-align: left ; width: 100%}\n",
       "    .wandb-row { display: flex; flex-direction: row; flex-wrap: wrap; justify-content: flex-start; width: 100% }\n",
       "    .wandb-col { display: flex; flex-direction: column; flex-basis: 100%; flex: 1; padding: 10px; }\n",
       "    </style>\n",
       "<div class=\"wandb-row\"><div class=\"wandb-col\"><h3>Run history:</h3><br/><table class=\"wandb\"><tr><td>Training Acc</td><td>▁▂▃▃▅▆▇▇███████</td></tr><tr><td>Training Loss</td><td>█▇▆▆▅▄▃▂▂▁▁▁▁▁▁</td></tr><tr><td>Validation Acc</td><td>▁▄▃▁▅▄▇▅█▅▇▇███</td></tr><tr><td>Validation Loss</td><td>▆▅▄▄▄▇▁▇▁█▄▁▂▂▁</td></tr></table><br/></div><div class=\"wandb-col\"><h3>Run summary:</h3><br/><table class=\"wandb\"><tr><td>Training Acc</td><td>0.98611</td></tr><tr><td>Training Loss</td><td>0.11183</td></tr><tr><td>Validation Acc</td><td>0.85417</td></tr><tr><td>Validation Loss</td><td>0.45844</td></tr><tr><td>test_accuracy</td><td>0.83036</td></tr><tr><td>test_losss</td><td>0.48284</td></tr></table><br/></div></div>"
      ],
      "text/plain": [
       "<IPython.core.display.HTML object>"
      ]
     },
     "metadata": {},
     "output_type": "display_data"
    },
    {
     "data": {
      "text/html": [
       "Synced <strong style=\"color:#cdcd00\">misunderstood-dew-69</strong>: <a href=\"https://wandb.ai/miraclelinzzz/Final-ensemble/runs/eavgdcgd\" target=\"_blank\">https://wandb.ai/miraclelinzzz/Final-ensemble/runs/eavgdcgd</a><br/>Synced 5 W&B file(s), 0 media file(s), 0 artifact file(s) and 0 other file(s)"
      ],
      "text/plain": [
       "<IPython.core.display.HTML object>"
      ]
     },
     "metadata": {},
     "output_type": "display_data"
    },
    {
     "data": {
      "text/html": [
       "Find logs at: <code>./wandb/run-20220817_233748-eavgdcgd/logs</code>"
      ],
      "text/plain": [
       "<IPython.core.display.HTML object>"
      ]
     },
     "metadata": {},
     "output_type": "display_data"
    },
    {
     "name": "stdout",
     "output_type": "stream",
     "text": [
      "dr-0.5,arch-[512, 256],bs-16,seed-10,index-2,epoch-15\n"
     ]
    },
    {
     "data": {
      "text/html": [
       "Tracking run with wandb version 0.13.1"
      ],
      "text/plain": [
       "<IPython.core.display.HTML object>"
      ]
     },
     "metadata": {},
     "output_type": "display_data"
    },
    {
     "data": {
      "text/html": [
       "Run data is saved locally in <code>/home/jupyter/wandb/run-20220817_233903-1n7c8zdk</code>"
      ],
      "text/plain": [
       "<IPython.core.display.HTML object>"
      ]
     },
     "metadata": {},
     "output_type": "display_data"
    },
    {
     "data": {
      "text/html": [
       "Syncing run <strong><a href=\"https://wandb.ai/miraclelinzzz/Final-ensemble/runs/1n7c8zdk\" target=\"_blank\">frosty-darkness-70</a></strong> to <a href=\"https://wandb.ai/miraclelinzzz/Final-ensemble\" target=\"_blank\">Weights & Biases</a> (<a href=\"https://wandb.me/run\" target=\"_blank\">docs</a>)<br/>"
      ],
      "text/plain": [
       "<IPython.core.display.HTML object>"
      ]
     },
     "metadata": {},
     "output_type": "display_data"
    },
    {
     "data": {
      "text/html": [
       "Waiting for W&B process to finish... <strong style=\"color:green\">(success).</strong>"
      ],
      "text/plain": [
       "<IPython.core.display.HTML object>"
      ]
     },
     "metadata": {},
     "output_type": "display_data"
    },
    {
     "data": {
      "text/html": [
       "<style>\n",
       "    table.wandb td:nth-child(1) { padding: 0 10px; text-align: left ; width: auto;} td:nth-child(2) {text-align: left ; width: 100%}\n",
       "    .wandb-row { display: flex; flex-direction: row; flex-wrap: wrap; justify-content: flex-start; width: 100% }\n",
       "    .wandb-col { display: flex; flex-direction: column; flex-basis: 100%; flex: 1; padding: 10px; }\n",
       "    </style>\n",
       "<div class=\"wandb-row\"><div class=\"wandb-col\"><h3>Run history:</h3><br/><table class=\"wandb\"><tr><td>Training Acc</td><td>▁▁▃▅▄▆▇██▇█▇███</td></tr><tr><td>Training Loss</td><td>█▇▇▅▅▃▃▂▂▂▁▂▁▁▁</td></tr><tr><td>Validation Acc</td><td>▁▅▄▄█▆▆▇▆▆██▆▆█</td></tr><tr><td>Validation Loss</td><td>▃▃▃▃▂▃▆▁▅█▂▁▆▇▁</td></tr></table><br/></div><div class=\"wandb-col\"><h3>Run summary:</h3><br/><table class=\"wandb\"><tr><td>Training Acc</td><td>1.0</td></tr><tr><td>Training Loss</td><td>0.08319</td></tr><tr><td>Validation Acc</td><td>0.83333</td></tr><tr><td>Validation Loss</td><td>0.45949</td></tr><tr><td>test_accuracy</td><td>0.88393</td></tr><tr><td>test_losss</td><td>0.38104</td></tr></table><br/></div></div>"
      ],
      "text/plain": [
       "<IPython.core.display.HTML object>"
      ]
     },
     "metadata": {},
     "output_type": "display_data"
    },
    {
     "data": {
      "text/html": [
       "Synced <strong style=\"color:#cdcd00\">frosty-darkness-70</strong>: <a href=\"https://wandb.ai/miraclelinzzz/Final-ensemble/runs/1n7c8zdk\" target=\"_blank\">https://wandb.ai/miraclelinzzz/Final-ensemble/runs/1n7c8zdk</a><br/>Synced 5 W&B file(s), 0 media file(s), 0 artifact file(s) and 0 other file(s)"
      ],
      "text/plain": [
       "<IPython.core.display.HTML object>"
      ]
     },
     "metadata": {},
     "output_type": "display_data"
    },
    {
     "data": {
      "text/html": [
       "Find logs at: <code>./wandb/run-20220817_233903-1n7c8zdk/logs</code>"
      ],
      "text/plain": [
       "<IPython.core.display.HTML object>"
      ]
     },
     "metadata": {},
     "output_type": "display_data"
    },
    {
     "name": "stdout",
     "output_type": "stream",
     "text": [
      "dr-0.5,arch-[512, 256],bs-16,seed-10,index-3,epoch-15\n"
     ]
    },
    {
     "data": {
      "text/html": [
       "Tracking run with wandb version 0.13.1"
      ],
      "text/plain": [
       "<IPython.core.display.HTML object>"
      ]
     },
     "metadata": {},
     "output_type": "display_data"
    },
    {
     "data": {
      "text/html": [
       "Run data is saved locally in <code>/home/jupyter/wandb/run-20220817_234017-3u5yntkg</code>"
      ],
      "text/plain": [
       "<IPython.core.display.HTML object>"
      ]
     },
     "metadata": {},
     "output_type": "display_data"
    },
    {
     "data": {
      "text/html": [
       "Syncing run <strong><a href=\"https://wandb.ai/miraclelinzzz/Final-ensemble/runs/3u5yntkg\" target=\"_blank\">desert-snowball-71</a></strong> to <a href=\"https://wandb.ai/miraclelinzzz/Final-ensemble\" target=\"_blank\">Weights & Biases</a> (<a href=\"https://wandb.me/run\" target=\"_blank\">docs</a>)<br/>"
      ],
      "text/plain": [
       "<IPython.core.display.HTML object>"
      ]
     },
     "metadata": {},
     "output_type": "display_data"
    },
    {
     "data": {
      "text/html": [
       "Waiting for W&B process to finish... <strong style=\"color:green\">(success).</strong>"
      ],
      "text/plain": [
       "<IPython.core.display.HTML object>"
      ]
     },
     "metadata": {},
     "output_type": "display_data"
    },
    {
     "data": {
      "text/html": [
       "<style>\n",
       "    table.wandb td:nth-child(1) { padding: 0 10px; text-align: left ; width: auto;} td:nth-child(2) {text-align: left ; width: 100%}\n",
       "    .wandb-row { display: flex; flex-direction: row; flex-wrap: wrap; justify-content: flex-start; width: 100% }\n",
       "    .wandb-col { display: flex; flex-direction: column; flex-basis: 100%; flex: 1; padding: 10px; }\n",
       "    </style>\n",
       "<div class=\"wandb-row\"><div class=\"wandb-col\"><h3>Run history:</h3><br/><table class=\"wandb\"><tr><td>Training Acc</td><td>▁▂▂▅▄▅▆▇▇▇███▇█</td></tr><tr><td>Training Loss</td><td>█▇▇▆▅▅▃▃▂▂▁▁▁▂▁</td></tr><tr><td>Validation Acc</td><td>▁▃▃▄▄▃▆▆▇▆▅▆▃██</td></tr><tr><td>Validation Loss</td><td>▆▆▅▅▄▄▂▂▂▄▆▆█▁▁</td></tr></table><br/></div><div class=\"wandb-col\"><h3>Run summary:</h3><br/><table class=\"wandb\"><tr><td>Training Acc</td><td>0.99306</td></tr><tr><td>Training Loss</td><td>0.12635</td></tr><tr><td>Validation Acc</td><td>0.89583</td></tr><tr><td>Validation Loss</td><td>0.34145</td></tr><tr><td>test_accuracy</td><td>0.80179</td></tr><tr><td>test_losss</td><td>0.44699</td></tr></table><br/></div></div>"
      ],
      "text/plain": [
       "<IPython.core.display.HTML object>"
      ]
     },
     "metadata": {},
     "output_type": "display_data"
    },
    {
     "data": {
      "text/html": [
       "Synced <strong style=\"color:#cdcd00\">desert-snowball-71</strong>: <a href=\"https://wandb.ai/miraclelinzzz/Final-ensemble/runs/3u5yntkg\" target=\"_blank\">https://wandb.ai/miraclelinzzz/Final-ensemble/runs/3u5yntkg</a><br/>Synced 5 W&B file(s), 0 media file(s), 0 artifact file(s) and 0 other file(s)"
      ],
      "text/plain": [
       "<IPython.core.display.HTML object>"
      ]
     },
     "metadata": {},
     "output_type": "display_data"
    },
    {
     "data": {
      "text/html": [
       "Find logs at: <code>./wandb/run-20220817_234017-3u5yntkg/logs</code>"
      ],
      "text/plain": [
       "<IPython.core.display.HTML object>"
      ]
     },
     "metadata": {},
     "output_type": "display_data"
    },
    {
     "name": "stdout",
     "output_type": "stream",
     "text": [
      "dr-0.3,arch-[256, 64, 128],bs-16,seed-10,index-1,epoch-15\n"
     ]
    },
    {
     "data": {
      "text/html": [
       "Tracking run with wandb version 0.13.1"
      ],
      "text/plain": [
       "<IPython.core.display.HTML object>"
      ]
     },
     "metadata": {},
     "output_type": "display_data"
    },
    {
     "data": {
      "text/html": [
       "Run data is saved locally in <code>/home/jupyter/wandb/run-20220817_234132-pe0sxtn8</code>"
      ],
      "text/plain": [
       "<IPython.core.display.HTML object>"
      ]
     },
     "metadata": {},
     "output_type": "display_data"
    },
    {
     "data": {
      "text/html": [
       "Syncing run <strong><a href=\"https://wandb.ai/miraclelinzzz/Final-ensemble/runs/pe0sxtn8\" target=\"_blank\">rosy-bee-72</a></strong> to <a href=\"https://wandb.ai/miraclelinzzz/Final-ensemble\" target=\"_blank\">Weights & Biases</a> (<a href=\"https://wandb.me/run\" target=\"_blank\">docs</a>)<br/>"
      ],
      "text/plain": [
       "<IPython.core.display.HTML object>"
      ]
     },
     "metadata": {},
     "output_type": "display_data"
    },
    {
     "data": {
      "text/html": [
       "Waiting for W&B process to finish... <strong style=\"color:green\">(success).</strong>"
      ],
      "text/plain": [
       "<IPython.core.display.HTML object>"
      ]
     },
     "metadata": {},
     "output_type": "display_data"
    },
    {
     "data": {
      "text/html": [
       "<style>\n",
       "    table.wandb td:nth-child(1) { padding: 0 10px; text-align: left ; width: auto;} td:nth-child(2) {text-align: left ; width: 100%}\n",
       "    .wandb-row { display: flex; flex-direction: row; flex-wrap: wrap; justify-content: flex-start; width: 100% }\n",
       "    .wandb-col { display: flex; flex-direction: column; flex-basis: 100%; flex: 1; padding: 10px; }\n",
       "    </style>\n",
       "<div class=\"wandb-row\"><div class=\"wandb-col\"><h3>Run history:</h3><br/><table class=\"wandb\"><tr><td>Training Acc</td><td>▁▂▁▃▃▄▅▆▆▇▇▆███</td></tr><tr><td>Training Loss</td><td>█▇▇▆▅▅▄▄▃▂▂▃▁▁▂</td></tr><tr><td>Validation Acc</td><td>▅▁▆▅▆▇█▆▇██▇▇██</td></tr><tr><td>Validation Loss</td><td>█▇▅▆█▃▃▄▃▅▃▂▁▁▁</td></tr></table><br/></div><div class=\"wandb-col\"><h3>Run summary:</h3><br/><table class=\"wandb\"><tr><td>Training Acc</td><td>0.90972</td></tr><tr><td>Training Loss</td><td>0.37028</td></tr><tr><td>Validation Acc</td><td>0.85417</td></tr><tr><td>Validation Loss</td><td>0.40813</td></tr><tr><td>test_accuracy</td><td>0.81786</td></tr><tr><td>test_losss</td><td>0.45647</td></tr></table><br/></div></div>"
      ],
      "text/plain": [
       "<IPython.core.display.HTML object>"
      ]
     },
     "metadata": {},
     "output_type": "display_data"
    },
    {
     "data": {
      "text/html": [
       "Synced <strong style=\"color:#cdcd00\">rosy-bee-72</strong>: <a href=\"https://wandb.ai/miraclelinzzz/Final-ensemble/runs/pe0sxtn8\" target=\"_blank\">https://wandb.ai/miraclelinzzz/Final-ensemble/runs/pe0sxtn8</a><br/>Synced 5 W&B file(s), 0 media file(s), 0 artifact file(s) and 0 other file(s)"
      ],
      "text/plain": [
       "<IPython.core.display.HTML object>"
      ]
     },
     "metadata": {},
     "output_type": "display_data"
    },
    {
     "data": {
      "text/html": [
       "Find logs at: <code>./wandb/run-20220817_234132-pe0sxtn8/logs</code>"
      ],
      "text/plain": [
       "<IPython.core.display.HTML object>"
      ]
     },
     "metadata": {},
     "output_type": "display_data"
    },
    {
     "name": "stdout",
     "output_type": "stream",
     "text": [
      "dr-0.3,arch-[256, 64, 128],bs-16,seed-10,index-2,epoch-15\n"
     ]
    },
    {
     "data": {
      "text/html": [
       "Tracking run with wandb version 0.13.1"
      ],
      "text/plain": [
       "<IPython.core.display.HTML object>"
      ]
     },
     "metadata": {},
     "output_type": "display_data"
    },
    {
     "data": {
      "text/html": [
       "Run data is saved locally in <code>/home/jupyter/wandb/run-20220817_234246-apmxrbca</code>"
      ],
      "text/plain": [
       "<IPython.core.display.HTML object>"
      ]
     },
     "metadata": {},
     "output_type": "display_data"
    },
    {
     "data": {
      "text/html": [
       "Syncing run <strong><a href=\"https://wandb.ai/miraclelinzzz/Final-ensemble/runs/apmxrbca\" target=\"_blank\">iconic-butterfly-73</a></strong> to <a href=\"https://wandb.ai/miraclelinzzz/Final-ensemble\" target=\"_blank\">Weights & Biases</a> (<a href=\"https://wandb.me/run\" target=\"_blank\">docs</a>)<br/>"
      ],
      "text/plain": [
       "<IPython.core.display.HTML object>"
      ]
     },
     "metadata": {},
     "output_type": "display_data"
    },
    {
     "data": {
      "text/html": [
       "Waiting for W&B process to finish... <strong style=\"color:green\">(success).</strong>"
      ],
      "text/plain": [
       "<IPython.core.display.HTML object>"
      ]
     },
     "metadata": {},
     "output_type": "display_data"
    },
    {
     "data": {
      "text/html": [
       "<style>\n",
       "    table.wandb td:nth-child(1) { padding: 0 10px; text-align: left ; width: auto;} td:nth-child(2) {text-align: left ; width: 100%}\n",
       "    .wandb-row { display: flex; flex-direction: row; flex-wrap: wrap; justify-content: flex-start; width: 100% }\n",
       "    .wandb-col { display: flex; flex-direction: column; flex-basis: 100%; flex: 1; padding: 10px; }\n",
       "    </style>\n",
       "<div class=\"wandb-row\"><div class=\"wandb-col\"><h3>Run history:</h3><br/><table class=\"wandb\"><tr><td>Training Acc</td><td>▃▁▃▃▄▃▅▆▇▆▆▆▇▇█</td></tr><tr><td>Training Loss</td><td>█▇▆▇▆▅▄▃▂▂▂▂▂▁▁</td></tr><tr><td>Validation Acc</td><td>▃▅▄▁▅▆▇▆▇▇▇████</td></tr><tr><td>Validation Loss</td><td>█▇▇▇▅▄▂▅▂▇▂▃▂▁▁</td></tr></table><br/></div><div class=\"wandb-col\"><h3>Run summary:</h3><br/><table class=\"wandb\"><tr><td>Training Acc</td><td>0.89583</td></tr><tr><td>Training Loss</td><td>0.38867</td></tr><tr><td>Validation Acc</td><td>0.85417</td></tr><tr><td>Validation Loss</td><td>0.4727</td></tr><tr><td>test_accuracy</td><td>0.78036</td></tr><tr><td>test_losss</td><td>0.48673</td></tr></table><br/></div></div>"
      ],
      "text/plain": [
       "<IPython.core.display.HTML object>"
      ]
     },
     "metadata": {},
     "output_type": "display_data"
    },
    {
     "data": {
      "text/html": [
       "Synced <strong style=\"color:#cdcd00\">iconic-butterfly-73</strong>: <a href=\"https://wandb.ai/miraclelinzzz/Final-ensemble/runs/apmxrbca\" target=\"_blank\">https://wandb.ai/miraclelinzzz/Final-ensemble/runs/apmxrbca</a><br/>Synced 5 W&B file(s), 0 media file(s), 0 artifact file(s) and 0 other file(s)"
      ],
      "text/plain": [
       "<IPython.core.display.HTML object>"
      ]
     },
     "metadata": {},
     "output_type": "display_data"
    },
    {
     "data": {
      "text/html": [
       "Find logs at: <code>./wandb/run-20220817_234246-apmxrbca/logs</code>"
      ],
      "text/plain": [
       "<IPython.core.display.HTML object>"
      ]
     },
     "metadata": {},
     "output_type": "display_data"
    },
    {
     "name": "stdout",
     "output_type": "stream",
     "text": [
      "dr-0.3,arch-[256, 64, 128],bs-16,seed-10,index-3,epoch-15\n"
     ]
    },
    {
     "data": {
      "text/html": [
       "Tracking run with wandb version 0.13.1"
      ],
      "text/plain": [
       "<IPython.core.display.HTML object>"
      ]
     },
     "metadata": {},
     "output_type": "display_data"
    },
    {
     "data": {
      "text/html": [
       "Run data is saved locally in <code>/home/jupyter/wandb/run-20220817_234400-24ycoj8e</code>"
      ],
      "text/plain": [
       "<IPython.core.display.HTML object>"
      ]
     },
     "metadata": {},
     "output_type": "display_data"
    },
    {
     "data": {
      "text/html": [
       "Syncing run <strong><a href=\"https://wandb.ai/miraclelinzzz/Final-ensemble/runs/24ycoj8e\" target=\"_blank\">restful-snowflake-74</a></strong> to <a href=\"https://wandb.ai/miraclelinzzz/Final-ensemble\" target=\"_blank\">Weights & Biases</a> (<a href=\"https://wandb.me/run\" target=\"_blank\">docs</a>)<br/>"
      ],
      "text/plain": [
       "<IPython.core.display.HTML object>"
      ]
     },
     "metadata": {},
     "output_type": "display_data"
    },
    {
     "data": {
      "text/html": [
       "Waiting for W&B process to finish... <strong style=\"color:green\">(success).</strong>"
      ],
      "text/plain": [
       "<IPython.core.display.HTML object>"
      ]
     },
     "metadata": {},
     "output_type": "display_data"
    },
    {
     "data": {
      "text/html": [
       "<style>\n",
       "    table.wandb td:nth-child(1) { padding: 0 10px; text-align: left ; width: auto;} td:nth-child(2) {text-align: left ; width: 100%}\n",
       "    .wandb-row { display: flex; flex-direction: row; flex-wrap: wrap; justify-content: flex-start; width: 100% }\n",
       "    .wandb-col { display: flex; flex-direction: column; flex-basis: 100%; flex: 1; padding: 10px; }\n",
       "    </style>\n",
       "<div class=\"wandb-row\"><div class=\"wandb-col\"><h3>Run history:</h3><br/><table class=\"wandb\"><tr><td>Training Acc</td><td>▁▂▁▂▂▄▄▄▃▆▇█▇▇▇</td></tr><tr><td>Training Loss</td><td>█▇▇▆▅▅▄▄▄▂▂▁▂▁▂</td></tr><tr><td>Validation Acc</td><td>▅▁▃▁▄▆▄▂▂█▅█▅█▄</td></tr><tr><td>Validation Loss</td><td>██▆▇▅▃▃▄▃▂▃▂▂▁▄</td></tr></table><br/></div><div class=\"wandb-col\"><h3>Run summary:</h3><br/><table class=\"wandb\"><tr><td>Training Acc</td><td>0.68056</td></tr><tr><td>Training Loss</td><td>0.48225</td></tr><tr><td>Validation Acc</td><td>0.52083</td></tr><tr><td>Validation Loss</td><td>0.53865</td></tr><tr><td>test_accuracy</td><td>0.64286</td></tr><tr><td>test_losss</td><td>0.51999</td></tr></table><br/></div></div>"
      ],
      "text/plain": [
       "<IPython.core.display.HTML object>"
      ]
     },
     "metadata": {},
     "output_type": "display_data"
    },
    {
     "data": {
      "text/html": [
       "Synced <strong style=\"color:#cdcd00\">restful-snowflake-74</strong>: <a href=\"https://wandb.ai/miraclelinzzz/Final-ensemble/runs/24ycoj8e\" target=\"_blank\">https://wandb.ai/miraclelinzzz/Final-ensemble/runs/24ycoj8e</a><br/>Synced 5 W&B file(s), 0 media file(s), 0 artifact file(s) and 0 other file(s)"
      ],
      "text/plain": [
       "<IPython.core.display.HTML object>"
      ]
     },
     "metadata": {},
     "output_type": "display_data"
    },
    {
     "data": {
      "text/html": [
       "Find logs at: <code>./wandb/run-20220817_234400-24ycoj8e/logs</code>"
      ],
      "text/plain": [
       "<IPython.core.display.HTML object>"
      ]
     },
     "metadata": {},
     "output_type": "display_data"
    },
    {
     "name": "stdout",
     "output_type": "stream",
     "text": [
      "dr-0.4,arch-[512, 256, 64],bs-16,seed-10,index-1,epoch-15\n"
     ]
    },
    {
     "data": {
      "text/html": [
       "Tracking run with wandb version 0.13.1"
      ],
      "text/plain": [
       "<IPython.core.display.HTML object>"
      ]
     },
     "metadata": {},
     "output_type": "display_data"
    },
    {
     "data": {
      "text/html": [
       "Run data is saved locally in <code>/home/jupyter/wandb/run-20220817_234516-jt69tneb</code>"
      ],
      "text/plain": [
       "<IPython.core.display.HTML object>"
      ]
     },
     "metadata": {},
     "output_type": "display_data"
    },
    {
     "data": {
      "text/html": [
       "Syncing run <strong><a href=\"https://wandb.ai/miraclelinzzz/Final-ensemble/runs/jt69tneb\" target=\"_blank\">copper-gorge-75</a></strong> to <a href=\"https://wandb.ai/miraclelinzzz/Final-ensemble\" target=\"_blank\">Weights & Biases</a> (<a href=\"https://wandb.me/run\" target=\"_blank\">docs</a>)<br/>"
      ],
      "text/plain": [
       "<IPython.core.display.HTML object>"
      ]
     },
     "metadata": {},
     "output_type": "display_data"
    },
    {
     "data": {
      "text/html": [
       "Waiting for W&B process to finish... <strong style=\"color:green\">(success).</strong>"
      ],
      "text/plain": [
       "<IPython.core.display.HTML object>"
      ]
     },
     "metadata": {},
     "output_type": "display_data"
    },
    {
     "data": {
      "text/html": [
       "<style>\n",
       "    table.wandb td:nth-child(1) { padding: 0 10px; text-align: left ; width: auto;} td:nth-child(2) {text-align: left ; width: 100%}\n",
       "    .wandb-row { display: flex; flex-direction: row; flex-wrap: wrap; justify-content: flex-start; width: 100% }\n",
       "    .wandb-col { display: flex; flex-direction: column; flex-basis: 100%; flex: 1; padding: 10px; }\n",
       "    </style>\n",
       "<div class=\"wandb-row\"><div class=\"wandb-col\"><h3>Run history:</h3><br/><table class=\"wandb\"><tr><td>Training Acc</td><td>▁▂▃▃▃▄▃▅▄▆▆▆▆██</td></tr><tr><td>Training Loss</td><td>█▆▆▆▆▄▄▄▃▂▂▂▁▁▁</td></tr><tr><td>Validation Acc</td><td>▁▁▃▁▆▄▃▄▆█▅▆███</td></tr><tr><td>Validation Loss</td><td>▇▇▆▅▅▅█▆▄▂▄█▂▁▁</td></tr></table><br/></div><div class=\"wandb-col\"><h3>Run summary:</h3><br/><table class=\"wandb\"><tr><td>Training Acc</td><td>0.91667</td></tr><tr><td>Training Loss</td><td>0.30067</td></tr><tr><td>Validation Acc</td><td>0.8125</td></tr><tr><td>Validation Loss</td><td>0.44422</td></tr><tr><td>test_accuracy</td><td>0.70536</td></tr><tr><td>test_losss</td><td>0.47189</td></tr></table><br/></div></div>"
      ],
      "text/plain": [
       "<IPython.core.display.HTML object>"
      ]
     },
     "metadata": {},
     "output_type": "display_data"
    },
    {
     "data": {
      "text/html": [
       "Synced <strong style=\"color:#cdcd00\">copper-gorge-75</strong>: <a href=\"https://wandb.ai/miraclelinzzz/Final-ensemble/runs/jt69tneb\" target=\"_blank\">https://wandb.ai/miraclelinzzz/Final-ensemble/runs/jt69tneb</a><br/>Synced 5 W&B file(s), 0 media file(s), 0 artifact file(s) and 0 other file(s)"
      ],
      "text/plain": [
       "<IPython.core.display.HTML object>"
      ]
     },
     "metadata": {},
     "output_type": "display_data"
    },
    {
     "data": {
      "text/html": [
       "Find logs at: <code>./wandb/run-20220817_234516-jt69tneb/logs</code>"
      ],
      "text/plain": [
       "<IPython.core.display.HTML object>"
      ]
     },
     "metadata": {},
     "output_type": "display_data"
    },
    {
     "name": "stdout",
     "output_type": "stream",
     "text": [
      "dr-0.4,arch-[512, 256, 64],bs-16,seed-10,index-2,epoch-15\n"
     ]
    },
    {
     "data": {
      "text/html": [
       "Tracking run with wandb version 0.13.1"
      ],
      "text/plain": [
       "<IPython.core.display.HTML object>"
      ]
     },
     "metadata": {},
     "output_type": "display_data"
    },
    {
     "data": {
      "text/html": [
       "Run data is saved locally in <code>/home/jupyter/wandb/run-20220817_234630-13eh17gd</code>"
      ],
      "text/plain": [
       "<IPython.core.display.HTML object>"
      ]
     },
     "metadata": {},
     "output_type": "display_data"
    },
    {
     "data": {
      "text/html": [
       "Syncing run <strong><a href=\"https://wandb.ai/miraclelinzzz/Final-ensemble/runs/13eh17gd\" target=\"_blank\">generous-meadow-76</a></strong> to <a href=\"https://wandb.ai/miraclelinzzz/Final-ensemble\" target=\"_blank\">Weights & Biases</a> (<a href=\"https://wandb.me/run\" target=\"_blank\">docs</a>)<br/>"
      ],
      "text/plain": [
       "<IPython.core.display.HTML object>"
      ]
     },
     "metadata": {},
     "output_type": "display_data"
    },
    {
     "data": {
      "text/html": [
       "Waiting for W&B process to finish... <strong style=\"color:green\">(success).</strong>"
      ],
      "text/plain": [
       "<IPython.core.display.HTML object>"
      ]
     },
     "metadata": {},
     "output_type": "display_data"
    },
    {
     "data": {
      "text/html": [
       "<style>\n",
       "    table.wandb td:nth-child(1) { padding: 0 10px; text-align: left ; width: auto;} td:nth-child(2) {text-align: left ; width: 100%}\n",
       "    .wandb-row { display: flex; flex-direction: row; flex-wrap: wrap; justify-content: flex-start; width: 100% }\n",
       "    .wandb-col { display: flex; flex-direction: column; flex-basis: 100%; flex: 1; padding: 10px; }\n",
       "    </style>\n",
       "<div class=\"wandb-row\"><div class=\"wandb-col\"><h3>Run history:</h3><br/><table class=\"wandb\"><tr><td>Training Acc</td><td>▁▁▃▂▄▂▄▃▂▅▆█▅██</td></tr><tr><td>Training Loss</td><td>██▆▆▅▅▄▄▄▃▂▁▃▁▁</td></tr><tr><td>Validation Acc</td><td>▃▃▁▃▄▁▅▆▄▄██▆█▆</td></tr><tr><td>Validation Loss</td><td>▇▇▇▆▅█▂▁▇▃▄▁█▁█</td></tr></table><br/></div><div class=\"wandb-col\"><h3>Run summary:</h3><br/><table class=\"wandb\"><tr><td>Training Acc</td><td>0.70833</td></tr><tr><td>Training Loss</td><td>0.39494</td></tr><tr><td>Validation Acc</td><td>0.70833</td></tr><tr><td>Validation Loss</td><td>0.72601</td></tr><tr><td>test_accuracy</td><td>0.74643</td></tr><tr><td>test_losss</td><td>0.47281</td></tr></table><br/></div></div>"
      ],
      "text/plain": [
       "<IPython.core.display.HTML object>"
      ]
     },
     "metadata": {},
     "output_type": "display_data"
    },
    {
     "data": {
      "text/html": [
       "Synced <strong style=\"color:#cdcd00\">generous-meadow-76</strong>: <a href=\"https://wandb.ai/miraclelinzzz/Final-ensemble/runs/13eh17gd\" target=\"_blank\">https://wandb.ai/miraclelinzzz/Final-ensemble/runs/13eh17gd</a><br/>Synced 5 W&B file(s), 0 media file(s), 0 artifact file(s) and 0 other file(s)"
      ],
      "text/plain": [
       "<IPython.core.display.HTML object>"
      ]
     },
     "metadata": {},
     "output_type": "display_data"
    },
    {
     "data": {
      "text/html": [
       "Find logs at: <code>./wandb/run-20220817_234630-13eh17gd/logs</code>"
      ],
      "text/plain": [
       "<IPython.core.display.HTML object>"
      ]
     },
     "metadata": {},
     "output_type": "display_data"
    },
    {
     "name": "stdout",
     "output_type": "stream",
     "text": [
      "dr-0.4,arch-[512, 256, 64],bs-16,seed-10,index-3,epoch-15\n"
     ]
    },
    {
     "data": {
      "text/html": [
       "Tracking run with wandb version 0.13.1"
      ],
      "text/plain": [
       "<IPython.core.display.HTML object>"
      ]
     },
     "metadata": {},
     "output_type": "display_data"
    },
    {
     "data": {
      "text/html": [
       "Run data is saved locally in <code>/home/jupyter/wandb/run-20220817_234744-2sspa5hh</code>"
      ],
      "text/plain": [
       "<IPython.core.display.HTML object>"
      ]
     },
     "metadata": {},
     "output_type": "display_data"
    },
    {
     "data": {
      "text/html": [
       "Syncing run <strong><a href=\"https://wandb.ai/miraclelinzzz/Final-ensemble/runs/2sspa5hh\" target=\"_blank\">noble-pine-77</a></strong> to <a href=\"https://wandb.ai/miraclelinzzz/Final-ensemble\" target=\"_blank\">Weights & Biases</a> (<a href=\"https://wandb.me/run\" target=\"_blank\">docs</a>)<br/>"
      ],
      "text/plain": [
       "<IPython.core.display.HTML object>"
      ]
     },
     "metadata": {},
     "output_type": "display_data"
    },
    {
     "data": {
      "text/html": [
       "Waiting for W&B process to finish... <strong style=\"color:green\">(success).</strong>"
      ],
      "text/plain": [
       "<IPython.core.display.HTML object>"
      ]
     },
     "metadata": {},
     "output_type": "display_data"
    },
    {
     "data": {
      "text/html": [
       "<style>\n",
       "    table.wandb td:nth-child(1) { padding: 0 10px; text-align: left ; width: auto;} td:nth-child(2) {text-align: left ; width: 100%}\n",
       "    .wandb-row { display: flex; flex-direction: row; flex-wrap: wrap; justify-content: flex-start; width: 100% }\n",
       "    .wandb-col { display: flex; flex-direction: column; flex-basis: 100%; flex: 1; padding: 10px; }\n",
       "    </style>\n",
       "<div class=\"wandb-row\"><div class=\"wandb-col\"><h3>Run history:</h3><br/><table class=\"wandb\"><tr><td>Training Acc</td><td>▁▂▂▂▄▃▄▆▇▆▇▇▇█▇</td></tr><tr><td>Training Loss</td><td>██▇▆▅▅▄▃▂▃▂▂▁▁▁</td></tr><tr><td>Validation Acc</td><td>▂▂▂▅▃▁▅█▅▄▆▄███</td></tr><tr><td>Validation Loss</td><td>██▇▇▅▆▅▃▆▃▇▂▂▂▁</td></tr></table><br/></div><div class=\"wandb-col\"><h3>Run summary:</h3><br/><table class=\"wandb\"><tr><td>Training Acc</td><td>0.88889</td></tr><tr><td>Training Loss</td><td>0.31191</td></tr><tr><td>Validation Acc</td><td>0.875</td></tr><tr><td>Validation Loss</td><td>0.39206</td></tr><tr><td>test_accuracy</td><td>0.78036</td></tr><tr><td>test_losss</td><td>0.44905</td></tr></table><br/></div></div>"
      ],
      "text/plain": [
       "<IPython.core.display.HTML object>"
      ]
     },
     "metadata": {},
     "output_type": "display_data"
    },
    {
     "data": {
      "text/html": [
       "Synced <strong style=\"color:#cdcd00\">noble-pine-77</strong>: <a href=\"https://wandb.ai/miraclelinzzz/Final-ensemble/runs/2sspa5hh\" target=\"_blank\">https://wandb.ai/miraclelinzzz/Final-ensemble/runs/2sspa5hh</a><br/>Synced 5 W&B file(s), 0 media file(s), 0 artifact file(s) and 0 other file(s)"
      ],
      "text/plain": [
       "<IPython.core.display.HTML object>"
      ]
     },
     "metadata": {},
     "output_type": "display_data"
    },
    {
     "data": {
      "text/html": [
       "Find logs at: <code>./wandb/run-20220817_234744-2sspa5hh/logs</code>"
      ],
      "text/plain": [
       "<IPython.core.display.HTML object>"
      ]
     },
     "metadata": {},
     "output_type": "display_data"
    },
    {
     "name": "stdout",
     "output_type": "stream",
     "text": [
      "dr-0.5,arch-[128],bs-16,seed-10,index-1,epoch-15\n"
     ]
    },
    {
     "data": {
      "text/html": [
       "Tracking run with wandb version 0.13.1"
      ],
      "text/plain": [
       "<IPython.core.display.HTML object>"
      ]
     },
     "metadata": {},
     "output_type": "display_data"
    },
    {
     "data": {
      "text/html": [
       "Run data is saved locally in <code>/home/jupyter/wandb/run-20220817_234859-1zj4pg8m</code>"
      ],
      "text/plain": [
       "<IPython.core.display.HTML object>"
      ]
     },
     "metadata": {},
     "output_type": "display_data"
    },
    {
     "data": {
      "text/html": [
       "Syncing run <strong><a href=\"https://wandb.ai/miraclelinzzz/Final-ensemble/runs/1zj4pg8m\" target=\"_blank\">clean-thunder-78</a></strong> to <a href=\"https://wandb.ai/miraclelinzzz/Final-ensemble\" target=\"_blank\">Weights & Biases</a> (<a href=\"https://wandb.me/run\" target=\"_blank\">docs</a>)<br/>"
      ],
      "text/plain": [
       "<IPython.core.display.HTML object>"
      ]
     },
     "metadata": {},
     "output_type": "display_data"
    },
    {
     "data": {
      "text/html": [
       "Waiting for W&B process to finish... <strong style=\"color:green\">(success).</strong>"
      ],
      "text/plain": [
       "<IPython.core.display.HTML object>"
      ]
     },
     "metadata": {},
     "output_type": "display_data"
    },
    {
     "data": {
      "text/html": [
       "<style>\n",
       "    table.wandb td:nth-child(1) { padding: 0 10px; text-align: left ; width: auto;} td:nth-child(2) {text-align: left ; width: 100%}\n",
       "    .wandb-row { display: flex; flex-direction: row; flex-wrap: wrap; justify-content: flex-start; width: 100% }\n",
       "    .wandb-col { display: flex; flex-direction: column; flex-basis: 100%; flex: 1; padding: 10px; }\n",
       "    </style>\n",
       "<div class=\"wandb-row\"><div class=\"wandb-col\"><h3>Run history:</h3><br/><table class=\"wandb\"><tr><td>Training Acc</td><td>▁▅▆▇████████▇██</td></tr><tr><td>Training Loss</td><td>█▆▄▃▂▂▁▁▁▁▁▁▂▂▁</td></tr><tr><td>Validation Acc</td><td>▆▅▇▆▁▆██▆▃▅▆█▃▆</td></tr><tr><td>Validation Loss</td><td>▃▃▂▂▆▃▁▁▄█▃▂▁▅▄</td></tr></table><br/></div><div class=\"wandb-col\"><h3>Run summary:</h3><br/><table class=\"wandb\"><tr><td>Training Acc</td><td>1.0</td></tr><tr><td>Training Loss</td><td>0.09897</td></tr><tr><td>Validation Acc</td><td>0.72917</td></tr><tr><td>Validation Loss</td><td>0.78606</td></tr><tr><td>test_accuracy</td><td>0.84643</td></tr><tr><td>test_losss</td><td>0.4197</td></tr></table><br/></div></div>"
      ],
      "text/plain": [
       "<IPython.core.display.HTML object>"
      ]
     },
     "metadata": {},
     "output_type": "display_data"
    },
    {
     "data": {
      "text/html": [
       "Synced <strong style=\"color:#cdcd00\">clean-thunder-78</strong>: <a href=\"https://wandb.ai/miraclelinzzz/Final-ensemble/runs/1zj4pg8m\" target=\"_blank\">https://wandb.ai/miraclelinzzz/Final-ensemble/runs/1zj4pg8m</a><br/>Synced 5 W&B file(s), 0 media file(s), 0 artifact file(s) and 0 other file(s)"
      ],
      "text/plain": [
       "<IPython.core.display.HTML object>"
      ]
     },
     "metadata": {},
     "output_type": "display_data"
    },
    {
     "data": {
      "text/html": [
       "Find logs at: <code>./wandb/run-20220817_234859-1zj4pg8m/logs</code>"
      ],
      "text/plain": [
       "<IPython.core.display.HTML object>"
      ]
     },
     "metadata": {},
     "output_type": "display_data"
    },
    {
     "name": "stdout",
     "output_type": "stream",
     "text": [
      "dr-0.5,arch-[128],bs-16,seed-10,index-2,epoch-15\n"
     ]
    },
    {
     "data": {
      "text/html": [
       "Tracking run with wandb version 0.13.1"
      ],
      "text/plain": [
       "<IPython.core.display.HTML object>"
      ]
     },
     "metadata": {},
     "output_type": "display_data"
    },
    {
     "data": {
      "text/html": [
       "Run data is saved locally in <code>/home/jupyter/wandb/run-20220817_235013-jctcnzct</code>"
      ],
      "text/plain": [
       "<IPython.core.display.HTML object>"
      ]
     },
     "metadata": {},
     "output_type": "display_data"
    },
    {
     "data": {
      "text/html": [
       "Syncing run <strong><a href=\"https://wandb.ai/miraclelinzzz/Final-ensemble/runs/jctcnzct\" target=\"_blank\">electric-sun-79</a></strong> to <a href=\"https://wandb.ai/miraclelinzzz/Final-ensemble\" target=\"_blank\">Weights & Biases</a> (<a href=\"https://wandb.me/run\" target=\"_blank\">docs</a>)<br/>"
      ],
      "text/plain": [
       "<IPython.core.display.HTML object>"
      ]
     },
     "metadata": {},
     "output_type": "display_data"
    },
    {
     "data": {
      "text/html": [
       "Waiting for W&B process to finish... <strong style=\"color:green\">(success).</strong>"
      ],
      "text/plain": [
       "<IPython.core.display.HTML object>"
      ]
     },
     "metadata": {},
     "output_type": "display_data"
    },
    {
     "data": {
      "text/html": [
       "<style>\n",
       "    table.wandb td:nth-child(1) { padding: 0 10px; text-align: left ; width: auto;} td:nth-child(2) {text-align: left ; width: 100%}\n",
       "    .wandb-row { display: flex; flex-direction: row; flex-wrap: wrap; justify-content: flex-start; width: 100% }\n",
       "    .wandb-col { display: flex; flex-direction: column; flex-basis: 100%; flex: 1; padding: 10px; }\n",
       "    </style>\n",
       "<div class=\"wandb-row\"><div class=\"wandb-col\"><h3>Run history:</h3><br/><table class=\"wandb\"><tr><td>Training Acc</td><td>▁▃▆▇▇██▇███████</td></tr><tr><td>Training Loss</td><td>█▆▄▃▃▂▁▂▂▁▁▂▁▁▁</td></tr><tr><td>Validation Acc</td><td>▁▁▁▄▅▅▇▇▇▅██▅██</td></tr><tr><td>Validation Loss</td><td>▄▃▆▅▇█▂▂▄▆▁▁▆▁▂</td></tr></table><br/></div><div class=\"wandb-col\"><h3>Run summary:</h3><br/><table class=\"wandb\"><tr><td>Training Acc</td><td>1.0</td></tr><tr><td>Training Loss</td><td>0.08706</td></tr><tr><td>Validation Acc</td><td>0.875</td></tr><tr><td>Validation Loss</td><td>0.43496</td></tr><tr><td>test_accuracy</td><td>0.83393</td></tr><tr><td>test_losss</td><td>0.45446</td></tr></table><br/></div></div>"
      ],
      "text/plain": [
       "<IPython.core.display.HTML object>"
      ]
     },
     "metadata": {},
     "output_type": "display_data"
    },
    {
     "data": {
      "text/html": [
       "Synced <strong style=\"color:#cdcd00\">electric-sun-79</strong>: <a href=\"https://wandb.ai/miraclelinzzz/Final-ensemble/runs/jctcnzct\" target=\"_blank\">https://wandb.ai/miraclelinzzz/Final-ensemble/runs/jctcnzct</a><br/>Synced 5 W&B file(s), 0 media file(s), 0 artifact file(s) and 0 other file(s)"
      ],
      "text/plain": [
       "<IPython.core.display.HTML object>"
      ]
     },
     "metadata": {},
     "output_type": "display_data"
    },
    {
     "data": {
      "text/html": [
       "Find logs at: <code>./wandb/run-20220817_235013-jctcnzct/logs</code>"
      ],
      "text/plain": [
       "<IPython.core.display.HTML object>"
      ]
     },
     "metadata": {},
     "output_type": "display_data"
    },
    {
     "name": "stdout",
     "output_type": "stream",
     "text": [
      "dr-0.5,arch-[128],bs-16,seed-10,index-3,epoch-15\n"
     ]
    },
    {
     "data": {
      "text/html": [
       "Tracking run with wandb version 0.13.1"
      ],
      "text/plain": [
       "<IPython.core.display.HTML object>"
      ]
     },
     "metadata": {},
     "output_type": "display_data"
    },
    {
     "data": {
      "text/html": [
       "Run data is saved locally in <code>/home/jupyter/wandb/run-20220817_235128-28mempnm</code>"
      ],
      "text/plain": [
       "<IPython.core.display.HTML object>"
      ]
     },
     "metadata": {},
     "output_type": "display_data"
    },
    {
     "data": {
      "text/html": [
       "Syncing run <strong><a href=\"https://wandb.ai/miraclelinzzz/Final-ensemble/runs/28mempnm\" target=\"_blank\">pleasant-puddle-80</a></strong> to <a href=\"https://wandb.ai/miraclelinzzz/Final-ensemble\" target=\"_blank\">Weights & Biases</a> (<a href=\"https://wandb.me/run\" target=\"_blank\">docs</a>)<br/>"
      ],
      "text/plain": [
       "<IPython.core.display.HTML object>"
      ]
     },
     "metadata": {},
     "output_type": "display_data"
    },
    {
     "data": {
      "text/html": [
       "Waiting for W&B process to finish... <strong style=\"color:green\">(success).</strong>"
      ],
      "text/plain": [
       "<IPython.core.display.HTML object>"
      ]
     },
     "metadata": {},
     "output_type": "display_data"
    },
    {
     "data": {
      "text/html": [
       "<style>\n",
       "    table.wandb td:nth-child(1) { padding: 0 10px; text-align: left ; width: auto;} td:nth-child(2) {text-align: left ; width: 100%}\n",
       "    .wandb-row { display: flex; flex-direction: row; flex-wrap: wrap; justify-content: flex-start; width: 100% }\n",
       "    .wandb-col { display: flex; flex-direction: column; flex-basis: 100%; flex: 1; padding: 10px; }\n",
       "    </style>\n",
       "<div class=\"wandb-row\"><div class=\"wandb-col\"><h3>Run history:</h3><br/><table class=\"wandb\"><tr><td>Training Acc</td><td>▁▅▅▆███████████</td></tr><tr><td>Training Loss</td><td>█▅▄▄▂▁▂▁▁▁▁▁▁▁▁</td></tr><tr><td>Validation Acc</td><td>▁▃▇█▆█▄█▃██▄█▄█</td></tr><tr><td>Validation Loss</td><td>▅▄▄▁▃▁▇▁▄▁▁█▁▃▁</td></tr></table><br/></div><div class=\"wandb-col\"><h3>Run summary:</h3><br/><table class=\"wandb\"><tr><td>Training Acc</td><td>1.0</td></tr><tr><td>Training Loss</td><td>0.06421</td></tr><tr><td>Validation Acc</td><td>0.89583</td></tr><tr><td>Validation Loss</td><td>0.30915</td></tr><tr><td>test_accuracy</td><td>0.83036</td></tr><tr><td>test_losss</td><td>0.49981</td></tr></table><br/></div></div>"
      ],
      "text/plain": [
       "<IPython.core.display.HTML object>"
      ]
     },
     "metadata": {},
     "output_type": "display_data"
    },
    {
     "data": {
      "text/html": [
       "Synced <strong style=\"color:#cdcd00\">pleasant-puddle-80</strong>: <a href=\"https://wandb.ai/miraclelinzzz/Final-ensemble/runs/28mempnm\" target=\"_blank\">https://wandb.ai/miraclelinzzz/Final-ensemble/runs/28mempnm</a><br/>Synced 5 W&B file(s), 0 media file(s), 0 artifact file(s) and 0 other file(s)"
      ],
      "text/plain": [
       "<IPython.core.display.HTML object>"
      ]
     },
     "metadata": {},
     "output_type": "display_data"
    },
    {
     "data": {
      "text/html": [
       "Find logs at: <code>./wandb/run-20220817_235128-28mempnm/logs</code>"
      ],
      "text/plain": [
       "<IPython.core.display.HTML object>"
      ]
     },
     "metadata": {},
     "output_type": "display_data"
    },
    {
     "name": "stdout",
     "output_type": "stream",
     "text": [
      "dr-0.3,arch-[64, 512],bs-16,seed-10,index-1,epoch-15\n"
     ]
    },
    {
     "data": {
      "text/html": [
       "Tracking run with wandb version 0.13.1"
      ],
      "text/plain": [
       "<IPython.core.display.HTML object>"
      ]
     },
     "metadata": {},
     "output_type": "display_data"
    },
    {
     "data": {
      "text/html": [
       "Run data is saved locally in <code>/home/jupyter/wandb/run-20220817_235243-1jxhn71v</code>"
      ],
      "text/plain": [
       "<IPython.core.display.HTML object>"
      ]
     },
     "metadata": {},
     "output_type": "display_data"
    },
    {
     "data": {
      "text/html": [
       "Syncing run <strong><a href=\"https://wandb.ai/miraclelinzzz/Final-ensemble/runs/1jxhn71v\" target=\"_blank\">charmed-universe-81</a></strong> to <a href=\"https://wandb.ai/miraclelinzzz/Final-ensemble\" target=\"_blank\">Weights & Biases</a> (<a href=\"https://wandb.me/run\" target=\"_blank\">docs</a>)<br/>"
      ],
      "text/plain": [
       "<IPython.core.display.HTML object>"
      ]
     },
     "metadata": {},
     "output_type": "display_data"
    },
    {
     "data": {
      "text/html": [
       "Waiting for W&B process to finish... <strong style=\"color:green\">(success).</strong>"
      ],
      "text/plain": [
       "<IPython.core.display.HTML object>"
      ]
     },
     "metadata": {},
     "output_type": "display_data"
    },
    {
     "data": {
      "text/html": [
       "<style>\n",
       "    table.wandb td:nth-child(1) { padding: 0 10px; text-align: left ; width: auto;} td:nth-child(2) {text-align: left ; width: 100%}\n",
       "    .wandb-row { display: flex; flex-direction: row; flex-wrap: wrap; justify-content: flex-start; width: 100% }\n",
       "    .wandb-col { display: flex; flex-direction: column; flex-basis: 100%; flex: 1; padding: 10px; }\n",
       "    </style>\n",
       "<div class=\"wandb-row\"><div class=\"wandb-col\"><h3>Run history:</h3><br/><table class=\"wandb\"><tr><td>Training Acc</td><td>▁▄▄▅▇▆██▆██████</td></tr><tr><td>Training Loss</td><td>█▆▇▅▄▄▂▃▃▁▁▁▁▁▁</td></tr><tr><td>Validation Acc</td><td>▁▅▇▄▁▃█▆██▃▅███</td></tr><tr><td>Validation Loss</td><td>▇▅▄▇█▅▁▄▁▂█▅▂▁▁</td></tr></table><br/></div><div class=\"wandb-col\"><h3>Run summary:</h3><br/><table class=\"wandb\"><tr><td>Training Acc</td><td>1.0</td></tr><tr><td>Training Loss</td><td>0.18073</td></tr><tr><td>Validation Acc</td><td>0.85417</td></tr><tr><td>Validation Loss</td><td>0.35755</td></tr><tr><td>test_accuracy</td><td>0.85893</td></tr><tr><td>test_losss</td><td>0.38959</td></tr></table><br/></div></div>"
      ],
      "text/plain": [
       "<IPython.core.display.HTML object>"
      ]
     },
     "metadata": {},
     "output_type": "display_data"
    },
    {
     "data": {
      "text/html": [
       "Synced <strong style=\"color:#cdcd00\">charmed-universe-81</strong>: <a href=\"https://wandb.ai/miraclelinzzz/Final-ensemble/runs/1jxhn71v\" target=\"_blank\">https://wandb.ai/miraclelinzzz/Final-ensemble/runs/1jxhn71v</a><br/>Synced 5 W&B file(s), 0 media file(s), 0 artifact file(s) and 0 other file(s)"
      ],
      "text/plain": [
       "<IPython.core.display.HTML object>"
      ]
     },
     "metadata": {},
     "output_type": "display_data"
    },
    {
     "data": {
      "text/html": [
       "Find logs at: <code>./wandb/run-20220817_235243-1jxhn71v/logs</code>"
      ],
      "text/plain": [
       "<IPython.core.display.HTML object>"
      ]
     },
     "metadata": {},
     "output_type": "display_data"
    },
    {
     "name": "stdout",
     "output_type": "stream",
     "text": [
      "dr-0.3,arch-[64, 512],bs-16,seed-10,index-2,epoch-15\n"
     ]
    },
    {
     "data": {
      "text/html": [
       "Tracking run with wandb version 0.13.1"
      ],
      "text/plain": [
       "<IPython.core.display.HTML object>"
      ]
     },
     "metadata": {},
     "output_type": "display_data"
    },
    {
     "data": {
      "text/html": [
       "Run data is saved locally in <code>/home/jupyter/wandb/run-20220817_235357-2ah3zbyo</code>"
      ],
      "text/plain": [
       "<IPython.core.display.HTML object>"
      ]
     },
     "metadata": {},
     "output_type": "display_data"
    },
    {
     "data": {
      "text/html": [
       "Syncing run <strong><a href=\"https://wandb.ai/miraclelinzzz/Final-ensemble/runs/2ah3zbyo\" target=\"_blank\">youthful-planet-82</a></strong> to <a href=\"https://wandb.ai/miraclelinzzz/Final-ensemble\" target=\"_blank\">Weights & Biases</a> (<a href=\"https://wandb.me/run\" target=\"_blank\">docs</a>)<br/>"
      ],
      "text/plain": [
       "<IPython.core.display.HTML object>"
      ]
     },
     "metadata": {},
     "output_type": "display_data"
    },
    {
     "data": {
      "text/html": [
       "Waiting for W&B process to finish... <strong style=\"color:green\">(success).</strong>"
      ],
      "text/plain": [
       "<IPython.core.display.HTML object>"
      ]
     },
     "metadata": {},
     "output_type": "display_data"
    },
    {
     "data": {
      "text/html": [
       "<style>\n",
       "    table.wandb td:nth-child(1) { padding: 0 10px; text-align: left ; width: auto;} td:nth-child(2) {text-align: left ; width: 100%}\n",
       "    .wandb-row { display: flex; flex-direction: row; flex-wrap: wrap; justify-content: flex-start; width: 100% }\n",
       "    .wandb-col { display: flex; flex-direction: column; flex-basis: 100%; flex: 1; padding: 10px; }\n",
       "    </style>\n",
       "<div class=\"wandb-row\"><div class=\"wandb-col\"><h3>Run history:</h3><br/><table class=\"wandb\"><tr><td>Training Acc</td><td>▁▂▃▄▅▆▇▆▇██████</td></tr><tr><td>Training Loss</td><td>█▇▆▆▅▄▃▃▂▂▂▂▁▁▁</td></tr><tr><td>Validation Acc</td><td>▁▅█▅▅▅▅▅▅▆█▆█▆▆</td></tr><tr><td>Validation Loss</td><td>▆▆▄▅▃▄▅█▇▃▁▄▂▅▃</td></tr></table><br/></div><div class=\"wandb-col\"><h3>Run summary:</h3><br/><table class=\"wandb\"><tr><td>Training Acc</td><td>1.0</td></tr><tr><td>Training Loss</td><td>0.16382</td></tr><tr><td>Validation Acc</td><td>0.6875</td></tr><tr><td>Validation Loss</td><td>0.52321</td></tr><tr><td>test_accuracy</td><td>0.81786</td></tr><tr><td>test_losss</td><td>0.41981</td></tr></table><br/></div></div>"
      ],
      "text/plain": [
       "<IPython.core.display.HTML object>"
      ]
     },
     "metadata": {},
     "output_type": "display_data"
    },
    {
     "data": {
      "text/html": [
       "Synced <strong style=\"color:#cdcd00\">youthful-planet-82</strong>: <a href=\"https://wandb.ai/miraclelinzzz/Final-ensemble/runs/2ah3zbyo\" target=\"_blank\">https://wandb.ai/miraclelinzzz/Final-ensemble/runs/2ah3zbyo</a><br/>Synced 5 W&B file(s), 0 media file(s), 0 artifact file(s) and 0 other file(s)"
      ],
      "text/plain": [
       "<IPython.core.display.HTML object>"
      ]
     },
     "metadata": {},
     "output_type": "display_data"
    },
    {
     "data": {
      "text/html": [
       "Find logs at: <code>./wandb/run-20220817_235357-2ah3zbyo/logs</code>"
      ],
      "text/plain": [
       "<IPython.core.display.HTML object>"
      ]
     },
     "metadata": {},
     "output_type": "display_data"
    },
    {
     "name": "stdout",
     "output_type": "stream",
     "text": [
      "dr-0.3,arch-[64, 512],bs-16,seed-10,index-3,epoch-15\n"
     ]
    },
    {
     "data": {
      "text/html": [
       "Tracking run with wandb version 0.13.1"
      ],
      "text/plain": [
       "<IPython.core.display.HTML object>"
      ]
     },
     "metadata": {},
     "output_type": "display_data"
    },
    {
     "data": {
      "text/html": [
       "Run data is saved locally in <code>/home/jupyter/wandb/run-20220817_235511-3iu1nkla</code>"
      ],
      "text/plain": [
       "<IPython.core.display.HTML object>"
      ]
     },
     "metadata": {},
     "output_type": "display_data"
    },
    {
     "data": {
      "text/html": [
       "Syncing run <strong><a href=\"https://wandb.ai/miraclelinzzz/Final-ensemble/runs/3iu1nkla\" target=\"_blank\">amber-microwave-83</a></strong> to <a href=\"https://wandb.ai/miraclelinzzz/Final-ensemble\" target=\"_blank\">Weights & Biases</a> (<a href=\"https://wandb.me/run\" target=\"_blank\">docs</a>)<br/>"
      ],
      "text/plain": [
       "<IPython.core.display.HTML object>"
      ]
     },
     "metadata": {},
     "output_type": "display_data"
    },
    {
     "data": {
      "text/html": [
       "Waiting for W&B process to finish... <strong style=\"color:green\">(success).</strong>"
      ],
      "text/plain": [
       "<IPython.core.display.HTML object>"
      ]
     },
     "metadata": {},
     "output_type": "display_data"
    },
    {
     "data": {
      "text/html": [
       "<style>\n",
       "    table.wandb td:nth-child(1) { padding: 0 10px; text-align: left ; width: auto;} td:nth-child(2) {text-align: left ; width: 100%}\n",
       "    .wandb-row { display: flex; flex-direction: row; flex-wrap: wrap; justify-content: flex-start; width: 100% }\n",
       "    .wandb-col { display: flex; flex-direction: column; flex-basis: 100%; flex: 1; padding: 10px; }\n",
       "    </style>\n",
       "<div class=\"wandb-row\"><div class=\"wandb-col\"><h3>Run history:</h3><br/><table class=\"wandb\"><tr><td>Training Acc</td><td>▁▂▄▄▄▅▇▇███████</td></tr><tr><td>Training Loss</td><td>██▆▆▅▄▃▃▂▂▁▁▁▁▁</td></tr><tr><td>Validation Acc</td><td>▃▄▁▂█▅▇▇██▇████</td></tr><tr><td>Validation Loss</td><td>██▇▆▃▅▂▂▂▂▂▂▁▂▁</td></tr></table><br/></div><div class=\"wandb-col\"><h3>Run summary:</h3><br/><table class=\"wandb\"><tr><td>Training Acc</td><td>1.0</td></tr><tr><td>Training Loss</td><td>0.19057</td></tr><tr><td>Validation Acc</td><td>0.91667</td></tr><tr><td>Validation Loss</td><td>0.29449</td></tr><tr><td>test_accuracy</td><td>0.84643</td></tr><tr><td>test_losss</td><td>0.4439</td></tr></table><br/></div></div>"
      ],
      "text/plain": [
       "<IPython.core.display.HTML object>"
      ]
     },
     "metadata": {},
     "output_type": "display_data"
    },
    {
     "data": {
      "text/html": [
       "Synced <strong style=\"color:#cdcd00\">amber-microwave-83</strong>: <a href=\"https://wandb.ai/miraclelinzzz/Final-ensemble/runs/3iu1nkla\" target=\"_blank\">https://wandb.ai/miraclelinzzz/Final-ensemble/runs/3iu1nkla</a><br/>Synced 5 W&B file(s), 0 media file(s), 0 artifact file(s) and 0 other file(s)"
      ],
      "text/plain": [
       "<IPython.core.display.HTML object>"
      ]
     },
     "metadata": {},
     "output_type": "display_data"
    },
    {
     "data": {
      "text/html": [
       "Find logs at: <code>./wandb/run-20220817_235511-3iu1nkla/logs</code>"
      ],
      "text/plain": [
       "<IPython.core.display.HTML object>"
      ]
     },
     "metadata": {},
     "output_type": "display_data"
    },
    {
     "name": "stdout",
     "output_type": "stream",
     "text": [
      "dr-0.3,arch-[256, 512, 128],bs-16,seed-10,index-1,epoch-15\n"
     ]
    },
    {
     "data": {
      "text/html": [
       "Tracking run with wandb version 0.13.1"
      ],
      "text/plain": [
       "<IPython.core.display.HTML object>"
      ]
     },
     "metadata": {},
     "output_type": "display_data"
    },
    {
     "data": {
      "text/html": [
       "Run data is saved locally in <code>/home/jupyter/wandb/run-20220817_235626-reaap9if</code>"
      ],
      "text/plain": [
       "<IPython.core.display.HTML object>"
      ]
     },
     "metadata": {},
     "output_type": "display_data"
    },
    {
     "data": {
      "text/html": [
       "Syncing run <strong><a href=\"https://wandb.ai/miraclelinzzz/Final-ensemble/runs/reaap9if\" target=\"_blank\">bright-snowball-84</a></strong> to <a href=\"https://wandb.ai/miraclelinzzz/Final-ensemble\" target=\"_blank\">Weights & Biases</a> (<a href=\"https://wandb.me/run\" target=\"_blank\">docs</a>)<br/>"
      ],
      "text/plain": [
       "<IPython.core.display.HTML object>"
      ]
     },
     "metadata": {},
     "output_type": "display_data"
    },
    {
     "data": {
      "text/html": [
       "Waiting for W&B process to finish... <strong style=\"color:green\">(success).</strong>"
      ],
      "text/plain": [
       "<IPython.core.display.HTML object>"
      ]
     },
     "metadata": {},
     "output_type": "display_data"
    },
    {
     "data": {
      "text/html": [
       "<style>\n",
       "    table.wandb td:nth-child(1) { padding: 0 10px; text-align: left ; width: auto;} td:nth-child(2) {text-align: left ; width: 100%}\n",
       "    .wandb-row { display: flex; flex-direction: row; flex-wrap: wrap; justify-content: flex-start; width: 100% }\n",
       "    .wandb-col { display: flex; flex-direction: column; flex-basis: 100%; flex: 1; padding: 10px; }\n",
       "    </style>\n",
       "<div class=\"wandb-row\"><div class=\"wandb-col\"><h3>Run history:</h3><br/><table class=\"wandb\"><tr><td>Training Acc</td><td>▁▁▁▃▄▄▆▆▇██████</td></tr><tr><td>Training Loss</td><td>██▇▆▆▅▄▄▃▂▂▂▂▁▁</td></tr><tr><td>Validation Acc</td><td>▁▁▄█▅███▆██▇█▆▆</td></tr><tr><td>Validation Loss</td><td>██▆▄▅▂▂▃▇▂▁▂▁▆▆</td></tr></table><br/></div><div class=\"wandb-col\"><h3>Run summary:</h3><br/><table class=\"wandb\"><tr><td>Training Acc</td><td>0.99306</td></tr><tr><td>Training Loss</td><td>0.16167</td></tr><tr><td>Validation Acc</td><td>0.6875</td></tr><tr><td>Validation Loss</td><td>0.6119</td></tr><tr><td>test_accuracy</td><td>0.86786</td></tr><tr><td>test_losss</td><td>0.38286</td></tr></table><br/></div></div>"
      ],
      "text/plain": [
       "<IPython.core.display.HTML object>"
      ]
     },
     "metadata": {},
     "output_type": "display_data"
    },
    {
     "data": {
      "text/html": [
       "Synced <strong style=\"color:#cdcd00\">bright-snowball-84</strong>: <a href=\"https://wandb.ai/miraclelinzzz/Final-ensemble/runs/reaap9if\" target=\"_blank\">https://wandb.ai/miraclelinzzz/Final-ensemble/runs/reaap9if</a><br/>Synced 5 W&B file(s), 0 media file(s), 0 artifact file(s) and 0 other file(s)"
      ],
      "text/plain": [
       "<IPython.core.display.HTML object>"
      ]
     },
     "metadata": {},
     "output_type": "display_data"
    },
    {
     "data": {
      "text/html": [
       "Find logs at: <code>./wandb/run-20220817_235626-reaap9if/logs</code>"
      ],
      "text/plain": [
       "<IPython.core.display.HTML object>"
      ]
     },
     "metadata": {},
     "output_type": "display_data"
    },
    {
     "name": "stdout",
     "output_type": "stream",
     "text": [
      "dr-0.3,arch-[256, 512, 128],bs-16,seed-10,index-2,epoch-15\n"
     ]
    },
    {
     "data": {
      "text/html": [
       "Tracking run with wandb version 0.13.1"
      ],
      "text/plain": [
       "<IPython.core.display.HTML object>"
      ]
     },
     "metadata": {},
     "output_type": "display_data"
    },
    {
     "data": {
      "text/html": [
       "Run data is saved locally in <code>/home/jupyter/wandb/run-20220817_235740-1ehfmd10</code>"
      ],
      "text/plain": [
       "<IPython.core.display.HTML object>"
      ]
     },
     "metadata": {},
     "output_type": "display_data"
    },
    {
     "data": {
      "text/html": [
       "Syncing run <strong><a href=\"https://wandb.ai/miraclelinzzz/Final-ensemble/runs/1ehfmd10\" target=\"_blank\">distinctive-waterfall-85</a></strong> to <a href=\"https://wandb.ai/miraclelinzzz/Final-ensemble\" target=\"_blank\">Weights & Biases</a> (<a href=\"https://wandb.me/run\" target=\"_blank\">docs</a>)<br/>"
      ],
      "text/plain": [
       "<IPython.core.display.HTML object>"
      ]
     },
     "metadata": {},
     "output_type": "display_data"
    },
    {
     "data": {
      "text/html": [
       "Waiting for W&B process to finish... <strong style=\"color:green\">(success).</strong>"
      ],
      "text/plain": [
       "<IPython.core.display.HTML object>"
      ]
     },
     "metadata": {},
     "output_type": "display_data"
    },
    {
     "data": {
      "text/html": [
       "<style>\n",
       "    table.wandb td:nth-child(1) { padding: 0 10px; text-align: left ; width: auto;} td:nth-child(2) {text-align: left ; width: 100%}\n",
       "    .wandb-row { display: flex; flex-direction: row; flex-wrap: wrap; justify-content: flex-start; width: 100% }\n",
       "    .wandb-col { display: flex; flex-direction: column; flex-basis: 100%; flex: 1; padding: 10px; }\n",
       "    </style>\n",
       "<div class=\"wandb-row\"><div class=\"wandb-col\"><h3>Run history:</h3><br/><table class=\"wandb\"><tr><td>Training Acc</td><td>▁▂▁▂▃▅▅▆▇▇▇████</td></tr><tr><td>Training Loss</td><td>█▇▇▇▆▅▄▃▂▂▂▂▁▁▁</td></tr><tr><td>Validation Acc</td><td>▁▁▆▆▇▇███▆▆████</td></tr><tr><td>Validation Loss</td><td>█▇▆▆▅▃▁▂▂▇▇▁▂▁▁</td></tr></table><br/></div><div class=\"wandb-col\"><h3>Run summary:</h3><br/><table class=\"wandb\"><tr><td>Training Acc</td><td>0.97222</td></tr><tr><td>Training Loss</td><td>0.18947</td></tr><tr><td>Validation Acc</td><td>0.85417</td></tr><tr><td>Validation Loss</td><td>0.39143</td></tr><tr><td>test_accuracy</td><td>0.85893</td></tr><tr><td>test_losss</td><td>0.37932</td></tr></table><br/></div></div>"
      ],
      "text/plain": [
       "<IPython.core.display.HTML object>"
      ]
     },
     "metadata": {},
     "output_type": "display_data"
    },
    {
     "data": {
      "text/html": [
       "Synced <strong style=\"color:#cdcd00\">distinctive-waterfall-85</strong>: <a href=\"https://wandb.ai/miraclelinzzz/Final-ensemble/runs/1ehfmd10\" target=\"_blank\">https://wandb.ai/miraclelinzzz/Final-ensemble/runs/1ehfmd10</a><br/>Synced 5 W&B file(s), 0 media file(s), 0 artifact file(s) and 0 other file(s)"
      ],
      "text/plain": [
       "<IPython.core.display.HTML object>"
      ]
     },
     "metadata": {},
     "output_type": "display_data"
    },
    {
     "data": {
      "text/html": [
       "Find logs at: <code>./wandb/run-20220817_235740-1ehfmd10/logs</code>"
      ],
      "text/plain": [
       "<IPython.core.display.HTML object>"
      ]
     },
     "metadata": {},
     "output_type": "display_data"
    },
    {
     "name": "stdout",
     "output_type": "stream",
     "text": [
      "dr-0.3,arch-[256, 512, 128],bs-16,seed-10,index-3,epoch-15\n"
     ]
    },
    {
     "data": {
      "text/html": [
       "Tracking run with wandb version 0.13.1"
      ],
      "text/plain": [
       "<IPython.core.display.HTML object>"
      ]
     },
     "metadata": {},
     "output_type": "display_data"
    },
    {
     "data": {
      "text/html": [
       "Run data is saved locally in <code>/home/jupyter/wandb/run-20220817_235854-ys90nulm</code>"
      ],
      "text/plain": [
       "<IPython.core.display.HTML object>"
      ]
     },
     "metadata": {},
     "output_type": "display_data"
    },
    {
     "data": {
      "text/html": [
       "Syncing run <strong><a href=\"https://wandb.ai/miraclelinzzz/Final-ensemble/runs/ys90nulm\" target=\"_blank\">happy-field-86</a></strong> to <a href=\"https://wandb.ai/miraclelinzzz/Final-ensemble\" target=\"_blank\">Weights & Biases</a> (<a href=\"https://wandb.me/run\" target=\"_blank\">docs</a>)<br/>"
      ],
      "text/plain": [
       "<IPython.core.display.HTML object>"
      ]
     },
     "metadata": {},
     "output_type": "display_data"
    },
    {
     "data": {
      "text/html": [
       "Waiting for W&B process to finish... <strong style=\"color:green\">(success).</strong>"
      ],
      "text/plain": [
       "<IPython.core.display.HTML object>"
      ]
     },
     "metadata": {},
     "output_type": "display_data"
    },
    {
     "data": {
      "text/html": [
       "<style>\n",
       "    table.wandb td:nth-child(1) { padding: 0 10px; text-align: left ; width: auto;} td:nth-child(2) {text-align: left ; width: 100%}\n",
       "    .wandb-row { display: flex; flex-direction: row; flex-wrap: wrap; justify-content: flex-start; width: 100% }\n",
       "    .wandb-col { display: flex; flex-direction: column; flex-basis: 100%; flex: 1; padding: 10px; }\n",
       "    </style>\n",
       "<div class=\"wandb-row\"><div class=\"wandb-col\"><h3>Run history:</h3><br/><table class=\"wandb\"><tr><td>Training Acc</td><td>▁▂▃▅▅▆▇▇▆▇████▇</td></tr><tr><td>Training Loss</td><td>█▇▇▆▆▅▄▃▃▂▂▂▁▁▂</td></tr><tr><td>Validation Acc</td><td>▁▃▂▃▄█▆▅▆▅▇▇█▆█</td></tr><tr><td>Validation Loss</td><td>██▇▆▅▂▄▃▅▄▂▁▁▇▁</td></tr></table><br/></div><div class=\"wandb-col\"><h3>Run summary:</h3><br/><table class=\"wandb\"><tr><td>Training Acc</td><td>0.88194</td></tr><tr><td>Training Loss</td><td>0.28428</td></tr><tr><td>Validation Acc</td><td>0.89583</td></tr><tr><td>Validation Loss</td><td>0.35344</td></tr><tr><td>test_accuracy</td><td>0.83036</td></tr><tr><td>test_losss</td><td>0.42324</td></tr></table><br/></div></div>"
      ],
      "text/plain": [
       "<IPython.core.display.HTML object>"
      ]
     },
     "metadata": {},
     "output_type": "display_data"
    },
    {
     "data": {
      "text/html": [
       "Synced <strong style=\"color:#cdcd00\">happy-field-86</strong>: <a href=\"https://wandb.ai/miraclelinzzz/Final-ensemble/runs/ys90nulm\" target=\"_blank\">https://wandb.ai/miraclelinzzz/Final-ensemble/runs/ys90nulm</a><br/>Synced 5 W&B file(s), 0 media file(s), 0 artifact file(s) and 0 other file(s)"
      ],
      "text/plain": [
       "<IPython.core.display.HTML object>"
      ]
     },
     "metadata": {},
     "output_type": "display_data"
    },
    {
     "data": {
      "text/html": [
       "Find logs at: <code>./wandb/run-20220817_235854-ys90nulm/logs</code>"
      ],
      "text/plain": [
       "<IPython.core.display.HTML object>"
      ]
     },
     "metadata": {},
     "output_type": "display_data"
    },
    {
     "name": "stdout",
     "output_type": "stream",
     "text": [
      "dr-0.4,arch-[512, 64],bs-16,seed-20,index-1,epoch-15\n"
     ]
    },
    {
     "data": {
      "text/html": [
       "Tracking run with wandb version 0.13.1"
      ],
      "text/plain": [
       "<IPython.core.display.HTML object>"
      ]
     },
     "metadata": {},
     "output_type": "display_data"
    },
    {
     "data": {
      "text/html": [
       "Run data is saved locally in <code>/home/jupyter/wandb/run-20220818_000009-3rojxrb8</code>"
      ],
      "text/plain": [
       "<IPython.core.display.HTML object>"
      ]
     },
     "metadata": {},
     "output_type": "display_data"
    },
    {
     "data": {
      "text/html": [
       "Syncing run <strong><a href=\"https://wandb.ai/miraclelinzzz/Final-ensemble/runs/3rojxrb8\" target=\"_blank\">desert-feather-87</a></strong> to <a href=\"https://wandb.ai/miraclelinzzz/Final-ensemble\" target=\"_blank\">Weights & Biases</a> (<a href=\"https://wandb.me/run\" target=\"_blank\">docs</a>)<br/>"
      ],
      "text/plain": [
       "<IPython.core.display.HTML object>"
      ]
     },
     "metadata": {},
     "output_type": "display_data"
    },
    {
     "data": {
      "text/html": [
       "Waiting for W&B process to finish... <strong style=\"color:green\">(success).</strong>"
      ],
      "text/plain": [
       "<IPython.core.display.HTML object>"
      ]
     },
     "metadata": {},
     "output_type": "display_data"
    },
    {
     "data": {
      "text/html": [
       "<style>\n",
       "    table.wandb td:nth-child(1) { padding: 0 10px; text-align: left ; width: auto;} td:nth-child(2) {text-align: left ; width: 100%}\n",
       "    .wandb-row { display: flex; flex-direction: row; flex-wrap: wrap; justify-content: flex-start; width: 100% }\n",
       "    .wandb-col { display: flex; flex-direction: column; flex-basis: 100%; flex: 1; padding: 10px; }\n",
       "    </style>\n",
       "<div class=\"wandb-row\"><div class=\"wandb-col\"><h3>Run history:</h3><br/><table class=\"wandb\"><tr><td>Training Acc</td><td>▁▃▃▄▅▅▆▇▇▇▇▇███</td></tr><tr><td>Training Loss</td><td>█▇▇▆▅▄▃▂▂▂▂▂▁▁▁</td></tr><tr><td>Validation Acc</td><td>▁▃▆▃▃▅▇▇▆▅█▆█▇▇</td></tr><tr><td>Validation Loss</td><td>▇▇▅▄█▄▁▅▆▆▁▆▁▂▂</td></tr></table><br/></div><div class=\"wandb-col\"><h3>Run summary:</h3><br/><table class=\"wandb\"><tr><td>Training Acc</td><td>1.0</td></tr><tr><td>Training Loss</td><td>0.21334</td></tr><tr><td>Validation Acc</td><td>0.85417</td></tr><tr><td>Validation Loss</td><td>0.46273</td></tr><tr><td>test_accuracy</td><td>0.78929</td></tr><tr><td>test_losss</td><td>0.48084</td></tr></table><br/></div></div>"
      ],
      "text/plain": [
       "<IPython.core.display.HTML object>"
      ]
     },
     "metadata": {},
     "output_type": "display_data"
    },
    {
     "data": {
      "text/html": [
       "Synced <strong style=\"color:#cdcd00\">desert-feather-87</strong>: <a href=\"https://wandb.ai/miraclelinzzz/Final-ensemble/runs/3rojxrb8\" target=\"_blank\">https://wandb.ai/miraclelinzzz/Final-ensemble/runs/3rojxrb8</a><br/>Synced 5 W&B file(s), 0 media file(s), 0 artifact file(s) and 0 other file(s)"
      ],
      "text/plain": [
       "<IPython.core.display.HTML object>"
      ]
     },
     "metadata": {},
     "output_type": "display_data"
    },
    {
     "data": {
      "text/html": [
       "Find logs at: <code>./wandb/run-20220818_000009-3rojxrb8/logs</code>"
      ],
      "text/plain": [
       "<IPython.core.display.HTML object>"
      ]
     },
     "metadata": {},
     "output_type": "display_data"
    },
    {
     "name": "stdout",
     "output_type": "stream",
     "text": [
      "dr-0.4,arch-[512, 64],bs-16,seed-20,index-2,epoch-15\n"
     ]
    },
    {
     "data": {
      "text/html": [
       "Tracking run with wandb version 0.13.1"
      ],
      "text/plain": [
       "<IPython.core.display.HTML object>"
      ]
     },
     "metadata": {},
     "output_type": "display_data"
    },
    {
     "data": {
      "text/html": [
       "Run data is saved locally in <code>/home/jupyter/wandb/run-20220818_000123-y5boo4ql</code>"
      ],
      "text/plain": [
       "<IPython.core.display.HTML object>"
      ]
     },
     "metadata": {},
     "output_type": "display_data"
    },
    {
     "data": {
      "text/html": [
       "Syncing run <strong><a href=\"https://wandb.ai/miraclelinzzz/Final-ensemble/runs/y5boo4ql\" target=\"_blank\">stellar-elevator-88</a></strong> to <a href=\"https://wandb.ai/miraclelinzzz/Final-ensemble\" target=\"_blank\">Weights & Biases</a> (<a href=\"https://wandb.me/run\" target=\"_blank\">docs</a>)<br/>"
      ],
      "text/plain": [
       "<IPython.core.display.HTML object>"
      ]
     },
     "metadata": {},
     "output_type": "display_data"
    },
    {
     "data": {
      "text/html": [
       "Waiting for W&B process to finish... <strong style=\"color:green\">(success).</strong>"
      ],
      "text/plain": [
       "<IPython.core.display.HTML object>"
      ]
     },
     "metadata": {},
     "output_type": "display_data"
    },
    {
     "data": {
      "text/html": [
       "<style>\n",
       "    table.wandb td:nth-child(1) { padding: 0 10px; text-align: left ; width: auto;} td:nth-child(2) {text-align: left ; width: 100%}\n",
       "    .wandb-row { display: flex; flex-direction: row; flex-wrap: wrap; justify-content: flex-start; width: 100% }\n",
       "    .wandb-col { display: flex; flex-direction: column; flex-basis: 100%; flex: 1; padding: 10px; }\n",
       "    </style>\n",
       "<div class=\"wandb-row\"><div class=\"wandb-col\"><h3>Run history:</h3><br/><table class=\"wandb\"><tr><td>Training Acc</td><td>▁▃▃▄▅▇█▇██▇███▆</td></tr><tr><td>Training Loss</td><td>█▇▆▅▄▃▂▂▁▂▁▁▁▁▂</td></tr><tr><td>Validation Acc</td><td>▃▃▃▅▁▇▅▅▅▇▇▆██▆</td></tr><tr><td>Validation Loss</td><td>█▇▆▄█▂▃▂▂▂▂▆▁▁▃</td></tr></table><br/></div><div class=\"wandb-col\"><h3>Run summary:</h3><br/><table class=\"wandb\"><tr><td>Training Acc</td><td>0.88889</td></tr><tr><td>Training Loss</td><td>0.24903</td></tr><tr><td>Validation Acc</td><td>0.75</td></tr><tr><td>Validation Loss</td><td>0.41872</td></tr><tr><td>test_accuracy</td><td>0.79643</td></tr><tr><td>test_losss</td><td>0.46411</td></tr></table><br/></div></div>"
      ],
      "text/plain": [
       "<IPython.core.display.HTML object>"
      ]
     },
     "metadata": {},
     "output_type": "display_data"
    },
    {
     "data": {
      "text/html": [
       "Synced <strong style=\"color:#cdcd00\">stellar-elevator-88</strong>: <a href=\"https://wandb.ai/miraclelinzzz/Final-ensemble/runs/y5boo4ql\" target=\"_blank\">https://wandb.ai/miraclelinzzz/Final-ensemble/runs/y5boo4ql</a><br/>Synced 5 W&B file(s), 0 media file(s), 0 artifact file(s) and 0 other file(s)"
      ],
      "text/plain": [
       "<IPython.core.display.HTML object>"
      ]
     },
     "metadata": {},
     "output_type": "display_data"
    },
    {
     "data": {
      "text/html": [
       "Find logs at: <code>./wandb/run-20220818_000123-y5boo4ql/logs</code>"
      ],
      "text/plain": [
       "<IPython.core.display.HTML object>"
      ]
     },
     "metadata": {},
     "output_type": "display_data"
    },
    {
     "name": "stdout",
     "output_type": "stream",
     "text": [
      "dr-0.4,arch-[512, 64],bs-16,seed-20,index-3,epoch-15\n"
     ]
    },
    {
     "data": {
      "text/html": [
       "Tracking run with wandb version 0.13.1"
      ],
      "text/plain": [
       "<IPython.core.display.HTML object>"
      ]
     },
     "metadata": {},
     "output_type": "display_data"
    },
    {
     "data": {
      "text/html": [
       "Run data is saved locally in <code>/home/jupyter/wandb/run-20220818_000237-362layz0</code>"
      ],
      "text/plain": [
       "<IPython.core.display.HTML object>"
      ]
     },
     "metadata": {},
     "output_type": "display_data"
    },
    {
     "data": {
      "text/html": [
       "Syncing run <strong><a href=\"https://wandb.ai/miraclelinzzz/Final-ensemble/runs/362layz0\" target=\"_blank\">effortless-durian-89</a></strong> to <a href=\"https://wandb.ai/miraclelinzzz/Final-ensemble\" target=\"_blank\">Weights & Biases</a> (<a href=\"https://wandb.me/run\" target=\"_blank\">docs</a>)<br/>"
      ],
      "text/plain": [
       "<IPython.core.display.HTML object>"
      ]
     },
     "metadata": {},
     "output_type": "display_data"
    },
    {
     "data": {
      "text/html": [
       "Waiting for W&B process to finish... <strong style=\"color:green\">(success).</strong>"
      ],
      "text/plain": [
       "<IPython.core.display.HTML object>"
      ]
     },
     "metadata": {},
     "output_type": "display_data"
    },
    {
     "data": {
      "text/html": [
       "<style>\n",
       "    table.wandb td:nth-child(1) { padding: 0 10px; text-align: left ; width: auto;} td:nth-child(2) {text-align: left ; width: 100%}\n",
       "    .wandb-row { display: flex; flex-direction: row; flex-wrap: wrap; justify-content: flex-start; width: 100% }\n",
       "    .wandb-col { display: flex; flex-direction: column; flex-basis: 100%; flex: 1; padding: 10px; }\n",
       "    </style>\n",
       "<div class=\"wandb-row\"><div class=\"wandb-col\"><h3>Run history:</h3><br/><table class=\"wandb\"><tr><td>Training Acc</td><td>▁▂▄▅▅▆▇▇███████</td></tr><tr><td>Training Loss</td><td>█▇▆▅▅▄▃▃▂▁▁▁▁▁▁</td></tr><tr><td>Validation Acc</td><td>▁▂▂▄▇▇▇▇█▇█████</td></tr><tr><td>Validation Loss</td><td>██▇█▆▃▇▂▂▁▁▁▁▂▁</td></tr></table><br/></div><div class=\"wandb-col\"><h3>Run summary:</h3><br/><table class=\"wandb\"><tr><td>Training Acc</td><td>0.97917</td></tr><tr><td>Training Loss</td><td>0.22046</td></tr><tr><td>Validation Acc</td><td>0.875</td></tr><tr><td>Validation Loss</td><td>0.332</td></tr><tr><td>test_accuracy</td><td>0.83036</td></tr><tr><td>test_losss</td><td>0.41051</td></tr></table><br/></div></div>"
      ],
      "text/plain": [
       "<IPython.core.display.HTML object>"
      ]
     },
     "metadata": {},
     "output_type": "display_data"
    },
    {
     "data": {
      "text/html": [
       "Synced <strong style=\"color:#cdcd00\">effortless-durian-89</strong>: <a href=\"https://wandb.ai/miraclelinzzz/Final-ensemble/runs/362layz0\" target=\"_blank\">https://wandb.ai/miraclelinzzz/Final-ensemble/runs/362layz0</a><br/>Synced 5 W&B file(s), 0 media file(s), 0 artifact file(s) and 0 other file(s)"
      ],
      "text/plain": [
       "<IPython.core.display.HTML object>"
      ]
     },
     "metadata": {},
     "output_type": "display_data"
    },
    {
     "data": {
      "text/html": [
       "Find logs at: <code>./wandb/run-20220818_000237-362layz0/logs</code>"
      ],
      "text/plain": [
       "<IPython.core.display.HTML object>"
      ]
     },
     "metadata": {},
     "output_type": "display_data"
    },
    {
     "name": "stdout",
     "output_type": "stream",
     "text": [
      "dr-0.5,arch-[64, 512],bs-16,seed-20,index-1,epoch-15\n"
     ]
    },
    {
     "data": {
      "text/html": [
       "Tracking run with wandb version 0.13.1"
      ],
      "text/plain": [
       "<IPython.core.display.HTML object>"
      ]
     },
     "metadata": {},
     "output_type": "display_data"
    },
    {
     "data": {
      "text/html": [
       "Run data is saved locally in <code>/home/jupyter/wandb/run-20220818_000351-1e4t1k10</code>"
      ],
      "text/plain": [
       "<IPython.core.display.HTML object>"
      ]
     },
     "metadata": {},
     "output_type": "display_data"
    },
    {
     "data": {
      "text/html": [
       "Syncing run <strong><a href=\"https://wandb.ai/miraclelinzzz/Final-ensemble/runs/1e4t1k10\" target=\"_blank\">warm-haze-90</a></strong> to <a href=\"https://wandb.ai/miraclelinzzz/Final-ensemble\" target=\"_blank\">Weights & Biases</a> (<a href=\"https://wandb.me/run\" target=\"_blank\">docs</a>)<br/>"
      ],
      "text/plain": [
       "<IPython.core.display.HTML object>"
      ]
     },
     "metadata": {},
     "output_type": "display_data"
    },
    {
     "data": {
      "text/html": [
       "Waiting for W&B process to finish... <strong style=\"color:green\">(success).</strong>"
      ],
      "text/plain": [
       "<IPython.core.display.HTML object>"
      ]
     },
     "metadata": {},
     "output_type": "display_data"
    },
    {
     "data": {
      "text/html": [
       "<style>\n",
       "    table.wandb td:nth-child(1) { padding: 0 10px; text-align: left ; width: auto;} td:nth-child(2) {text-align: left ; width: 100%}\n",
       "    .wandb-row { display: flex; flex-direction: row; flex-wrap: wrap; justify-content: flex-start; width: 100% }\n",
       "    .wandb-col { display: flex; flex-direction: column; flex-basis: 100%; flex: 1; padding: 10px; }\n",
       "    </style>\n",
       "<div class=\"wandb-row\"><div class=\"wandb-col\"><h3>Run history:</h3><br/><table class=\"wandb\"><tr><td>Training Acc</td><td>▁▁▂▂▃▃▃▄▅▆▆▆▆█▇</td></tr><tr><td>Training Loss</td><td>█▇▇▆▆▅▅▄▃▃▂▁▂▁▂</td></tr><tr><td>Validation Acc</td><td>▁▃▅▁▄▅▅▆█▆▃▆███</td></tr><tr><td>Validation Loss</td><td>█▇▇▆▆▃▃▂▃▄▄▂▁▂▁</td></tr></table><br/></div><div class=\"wandb-col\"><h3>Run summary:</h3><br/><table class=\"wandb\"><tr><td>Training Acc</td><td>0.8125</td></tr><tr><td>Training Loss</td><td>0.3708</td></tr><tr><td>Validation Acc</td><td>0.8125</td></tr><tr><td>Validation Loss</td><td>0.47203</td></tr><tr><td>test_accuracy</td><td>0.82143</td></tr><tr><td>test_losss</td><td>0.47198</td></tr></table><br/></div></div>"
      ],
      "text/plain": [
       "<IPython.core.display.HTML object>"
      ]
     },
     "metadata": {},
     "output_type": "display_data"
    },
    {
     "data": {
      "text/html": [
       "Synced <strong style=\"color:#cdcd00\">warm-haze-90</strong>: <a href=\"https://wandb.ai/miraclelinzzz/Final-ensemble/runs/1e4t1k10\" target=\"_blank\">https://wandb.ai/miraclelinzzz/Final-ensemble/runs/1e4t1k10</a><br/>Synced 5 W&B file(s), 0 media file(s), 0 artifact file(s) and 0 other file(s)"
      ],
      "text/plain": [
       "<IPython.core.display.HTML object>"
      ]
     },
     "metadata": {},
     "output_type": "display_data"
    },
    {
     "data": {
      "text/html": [
       "Find logs at: <code>./wandb/run-20220818_000351-1e4t1k10/logs</code>"
      ],
      "text/plain": [
       "<IPython.core.display.HTML object>"
      ]
     },
     "metadata": {},
     "output_type": "display_data"
    },
    {
     "name": "stdout",
     "output_type": "stream",
     "text": [
      "dr-0.5,arch-[64, 512],bs-16,seed-20,index-2,epoch-15\n"
     ]
    },
    {
     "data": {
      "text/html": [
       "Tracking run with wandb version 0.13.1"
      ],
      "text/plain": [
       "<IPython.core.display.HTML object>"
      ]
     },
     "metadata": {},
     "output_type": "display_data"
    },
    {
     "data": {
      "text/html": [
       "Run data is saved locally in <code>/home/jupyter/wandb/run-20220818_000505-21rhvc47</code>"
      ],
      "text/plain": [
       "<IPython.core.display.HTML object>"
      ]
     },
     "metadata": {},
     "output_type": "display_data"
    },
    {
     "data": {
      "text/html": [
       "Syncing run <strong><a href=\"https://wandb.ai/miraclelinzzz/Final-ensemble/runs/21rhvc47\" target=\"_blank\">tough-monkey-91</a></strong> to <a href=\"https://wandb.ai/miraclelinzzz/Final-ensemble\" target=\"_blank\">Weights & Biases</a> (<a href=\"https://wandb.me/run\" target=\"_blank\">docs</a>)<br/>"
      ],
      "text/plain": [
       "<IPython.core.display.HTML object>"
      ]
     },
     "metadata": {},
     "output_type": "display_data"
    },
    {
     "data": {
      "text/html": [
       "Waiting for W&B process to finish... <strong style=\"color:green\">(success).</strong>"
      ],
      "text/plain": [
       "<IPython.core.display.HTML object>"
      ]
     },
     "metadata": {},
     "output_type": "display_data"
    },
    {
     "data": {
      "text/html": [
       "<style>\n",
       "    table.wandb td:nth-child(1) { padding: 0 10px; text-align: left ; width: auto;} td:nth-child(2) {text-align: left ; width: 100%}\n",
       "    .wandb-row { display: flex; flex-direction: row; flex-wrap: wrap; justify-content: flex-start; width: 100% }\n",
       "    .wandb-col { display: flex; flex-direction: column; flex-basis: 100%; flex: 1; padding: 10px; }\n",
       "    </style>\n",
       "<div class=\"wandb-row\"><div class=\"wandb-col\"><h3>Run history:</h3><br/><table class=\"wandb\"><tr><td>Training Acc</td><td>▁▅▄▅▅▅▆▅▇█▆████</td></tr><tr><td>Training Loss</td><td>█▅▅▄▄▄▄▄▂▂▃▁▁▁▁</td></tr><tr><td>Validation Acc</td><td>▁▁▂▅▇▆▃█▆▅██▃█▇</td></tr><tr><td>Validation Loss</td><td>▆▆▄▄▂▃█▁▂▄▁▁▃▃▂</td></tr></table><br/></div><div class=\"wandb-col\"><h3>Run summary:</h3><br/><table class=\"wandb\"><tr><td>Training Acc</td><td>0.93056</td></tr><tr><td>Training Loss</td><td>0.32613</td></tr><tr><td>Validation Acc</td><td>0.77083</td></tr><tr><td>Validation Loss</td><td>0.47121</td></tr><tr><td>test_accuracy</td><td>0.80536</td></tr><tr><td>test_losss</td><td>0.47997</td></tr></table><br/></div></div>"
      ],
      "text/plain": [
       "<IPython.core.display.HTML object>"
      ]
     },
     "metadata": {},
     "output_type": "display_data"
    },
    {
     "data": {
      "text/html": [
       "Synced <strong style=\"color:#cdcd00\">tough-monkey-91</strong>: <a href=\"https://wandb.ai/miraclelinzzz/Final-ensemble/runs/21rhvc47\" target=\"_blank\">https://wandb.ai/miraclelinzzz/Final-ensemble/runs/21rhvc47</a><br/>Synced 5 W&B file(s), 0 media file(s), 0 artifact file(s) and 0 other file(s)"
      ],
      "text/plain": [
       "<IPython.core.display.HTML object>"
      ]
     },
     "metadata": {},
     "output_type": "display_data"
    },
    {
     "data": {
      "text/html": [
       "Find logs at: <code>./wandb/run-20220818_000505-21rhvc47/logs</code>"
      ],
      "text/plain": [
       "<IPython.core.display.HTML object>"
      ]
     },
     "metadata": {},
     "output_type": "display_data"
    },
    {
     "name": "stdout",
     "output_type": "stream",
     "text": [
      "dr-0.5,arch-[64, 512],bs-16,seed-20,index-3,epoch-15\n"
     ]
    },
    {
     "data": {
      "text/html": [
       "Tracking run with wandb version 0.13.1"
      ],
      "text/plain": [
       "<IPython.core.display.HTML object>"
      ]
     },
     "metadata": {},
     "output_type": "display_data"
    },
    {
     "data": {
      "text/html": [
       "Run data is saved locally in <code>/home/jupyter/wandb/run-20220818_000619-ndfyru3e</code>"
      ],
      "text/plain": [
       "<IPython.core.display.HTML object>"
      ]
     },
     "metadata": {},
     "output_type": "display_data"
    },
    {
     "data": {
      "text/html": [
       "Syncing run <strong><a href=\"https://wandb.ai/miraclelinzzz/Final-ensemble/runs/ndfyru3e\" target=\"_blank\">quiet-cloud-92</a></strong> to <a href=\"https://wandb.ai/miraclelinzzz/Final-ensemble\" target=\"_blank\">Weights & Biases</a> (<a href=\"https://wandb.me/run\" target=\"_blank\">docs</a>)<br/>"
      ],
      "text/plain": [
       "<IPython.core.display.HTML object>"
      ]
     },
     "metadata": {},
     "output_type": "display_data"
    },
    {
     "data": {
      "text/html": [
       "Waiting for W&B process to finish... <strong style=\"color:green\">(success).</strong>"
      ],
      "text/plain": [
       "<IPython.core.display.HTML object>"
      ]
     },
     "metadata": {},
     "output_type": "display_data"
    },
    {
     "data": {
      "text/html": [
       "<style>\n",
       "    table.wandb td:nth-child(1) { padding: 0 10px; text-align: left ; width: auto;} td:nth-child(2) {text-align: left ; width: 100%}\n",
       "    .wandb-row { display: flex; flex-direction: row; flex-wrap: wrap; justify-content: flex-start; width: 100% }\n",
       "    .wandb-col { display: flex; flex-direction: column; flex-basis: 100%; flex: 1; padding: 10px; }\n",
       "    </style>\n",
       "<div class=\"wandb-row\"><div class=\"wandb-col\"><h3>Run history:</h3><br/><table class=\"wandb\"><tr><td>Training Acc</td><td>▁▃▃▄▃▄▄▄▆▇▇████</td></tr><tr><td>Training Loss</td><td>█▆▆▆▅▅▅▄▄▂▂▁▁▂▁</td></tr><tr><td>Validation Acc</td><td>▃▁▃▅▆▆▄▇▄▄██▆█▆</td></tr><tr><td>Validation Loss</td><td>█▇▇▆▄▆█▃▄▅▃▂▂▁▇</td></tr></table><br/></div><div class=\"wandb-col\"><h3>Run summary:</h3><br/><table class=\"wandb\"><tr><td>Training Acc</td><td>0.875</td></tr><tr><td>Training Loss</td><td>0.34392</td></tr><tr><td>Validation Acc</td><td>0.72917</td></tr><tr><td>Validation Loss</td><td>0.62782</td></tr><tr><td>test_accuracy</td><td>0.76786</td></tr><tr><td>test_losss</td><td>0.47464</td></tr></table><br/></div></div>"
      ],
      "text/plain": [
       "<IPython.core.display.HTML object>"
      ]
     },
     "metadata": {},
     "output_type": "display_data"
    },
    {
     "data": {
      "text/html": [
       "Synced <strong style=\"color:#cdcd00\">quiet-cloud-92</strong>: <a href=\"https://wandb.ai/miraclelinzzz/Final-ensemble/runs/ndfyru3e\" target=\"_blank\">https://wandb.ai/miraclelinzzz/Final-ensemble/runs/ndfyru3e</a><br/>Synced 5 W&B file(s), 0 media file(s), 0 artifact file(s) and 0 other file(s)"
      ],
      "text/plain": [
       "<IPython.core.display.HTML object>"
      ]
     },
     "metadata": {},
     "output_type": "display_data"
    },
    {
     "data": {
      "text/html": [
       "Find logs at: <code>./wandb/run-20220818_000619-ndfyru3e/logs</code>"
      ],
      "text/plain": [
       "<IPython.core.display.HTML object>"
      ]
     },
     "metadata": {},
     "output_type": "display_data"
    },
    {
     "name": "stdout",
     "output_type": "stream",
     "text": [
      "dr-0.3,arch-[256, 512, 64],bs-8,seed-20,index-1,epoch-15\n"
     ]
    },
    {
     "data": {
      "text/html": [
       "Tracking run with wandb version 0.13.1"
      ],
      "text/plain": [
       "<IPython.core.display.HTML object>"
      ]
     },
     "metadata": {},
     "output_type": "display_data"
    },
    {
     "data": {
      "text/html": [
       "Run data is saved locally in <code>/home/jupyter/wandb/run-20220818_000735-3p8pujf2</code>"
      ],
      "text/plain": [
       "<IPython.core.display.HTML object>"
      ]
     },
     "metadata": {},
     "output_type": "display_data"
    },
    {
     "data": {
      "text/html": [
       "Syncing run <strong><a href=\"https://wandb.ai/miraclelinzzz/Final-ensemble/runs/3p8pujf2\" target=\"_blank\">deft-microwave-93</a></strong> to <a href=\"https://wandb.ai/miraclelinzzz/Final-ensemble\" target=\"_blank\">Weights & Biases</a> (<a href=\"https://wandb.me/run\" target=\"_blank\">docs</a>)<br/>"
      ],
      "text/plain": [
       "<IPython.core.display.HTML object>"
      ]
     },
     "metadata": {},
     "output_type": "display_data"
    },
    {
     "data": {
      "text/html": [
       "Waiting for W&B process to finish... <strong style=\"color:green\">(success).</strong>"
      ],
      "text/plain": [
       "<IPython.core.display.HTML object>"
      ]
     },
     "metadata": {},
     "output_type": "display_data"
    },
    {
     "data": {
      "text/html": [
       "<style>\n",
       "    table.wandb td:nth-child(1) { padding: 0 10px; text-align: left ; width: auto;} td:nth-child(2) {text-align: left ; width: 100%}\n",
       "    .wandb-row { display: flex; flex-direction: row; flex-wrap: wrap; justify-content: flex-start; width: 100% }\n",
       "    .wandb-col { display: flex; flex-direction: column; flex-basis: 100%; flex: 1; padding: 10px; }\n",
       "    </style>\n",
       "<div class=\"wandb-row\"><div class=\"wandb-col\"><h3>Run history:</h3><br/><table class=\"wandb\"><tr><td>Training Acc</td><td>▁▁▂▂▃▅▆▆██▇███▇</td></tr><tr><td>Training Loss</td><td>█▇▆▆▆▄▃▂▂▁▁▁▁▁▂</td></tr><tr><td>Validation Acc</td><td>▂▁▄▁▇▆██▇▇▇▇▇██</td></tr><tr><td>Validation Loss</td><td>██▇▆▃▃▁▂▁▅▆▅▄▁▂</td></tr></table><br/></div><div class=\"wandb-col\"><h3>Run summary:</h3><br/><table class=\"wandb\"><tr><td>Training Acc</td><td>0.92647</td></tr><tr><td>Training Loss</td><td>0.27198</td></tr><tr><td>Validation Acc</td><td>0.875</td></tr><tr><td>Validation Loss</td><td>0.44312</td></tr><tr><td>test_accuracy</td><td>0.84524</td></tr><tr><td>test_losss</td><td>0.40442</td></tr></table><br/></div></div>"
      ],
      "text/plain": [
       "<IPython.core.display.HTML object>"
      ]
     },
     "metadata": {},
     "output_type": "display_data"
    },
    {
     "data": {
      "text/html": [
       "Synced <strong style=\"color:#cdcd00\">deft-microwave-93</strong>: <a href=\"https://wandb.ai/miraclelinzzz/Final-ensemble/runs/3p8pujf2\" target=\"_blank\">https://wandb.ai/miraclelinzzz/Final-ensemble/runs/3p8pujf2</a><br/>Synced 5 W&B file(s), 0 media file(s), 0 artifact file(s) and 0 other file(s)"
      ],
      "text/plain": [
       "<IPython.core.display.HTML object>"
      ]
     },
     "metadata": {},
     "output_type": "display_data"
    },
    {
     "data": {
      "text/html": [
       "Find logs at: <code>./wandb/run-20220818_000735-3p8pujf2/logs</code>"
      ],
      "text/plain": [
       "<IPython.core.display.HTML object>"
      ]
     },
     "metadata": {},
     "output_type": "display_data"
    },
    {
     "name": "stdout",
     "output_type": "stream",
     "text": [
      "dr-0.3,arch-[256, 512, 64],bs-8,seed-20,index-2,epoch-15\n"
     ]
    },
    {
     "data": {
      "text/html": [
       "Tracking run with wandb version 0.13.1"
      ],
      "text/plain": [
       "<IPython.core.display.HTML object>"
      ]
     },
     "metadata": {},
     "output_type": "display_data"
    },
    {
     "data": {
      "text/html": [
       "Run data is saved locally in <code>/home/jupyter/wandb/run-20220818_000854-3semo2md</code>"
      ],
      "text/plain": [
       "<IPython.core.display.HTML object>"
      ]
     },
     "metadata": {},
     "output_type": "display_data"
    },
    {
     "data": {
      "text/html": [
       "Syncing run <strong><a href=\"https://wandb.ai/miraclelinzzz/Final-ensemble/runs/3semo2md\" target=\"_blank\">silvery-cosmos-94</a></strong> to <a href=\"https://wandb.ai/miraclelinzzz/Final-ensemble\" target=\"_blank\">Weights & Biases</a> (<a href=\"https://wandb.me/run\" target=\"_blank\">docs</a>)<br/>"
      ],
      "text/plain": [
       "<IPython.core.display.HTML object>"
      ]
     },
     "metadata": {},
     "output_type": "display_data"
    },
    {
     "data": {
      "text/html": [
       "Waiting for W&B process to finish... <strong style=\"color:green\">(success).</strong>"
      ],
      "text/plain": [
       "<IPython.core.display.HTML object>"
      ]
     },
     "metadata": {},
     "output_type": "display_data"
    },
    {
     "data": {
      "text/html": [
       "<style>\n",
       "    table.wandb td:nth-child(1) { padding: 0 10px; text-align: left ; width: auto;} td:nth-child(2) {text-align: left ; width: 100%}\n",
       "    .wandb-row { display: flex; flex-direction: row; flex-wrap: wrap; justify-content: flex-start; width: 100% }\n",
       "    .wandb-col { display: flex; flex-direction: column; flex-basis: 100%; flex: 1; padding: 10px; }\n",
       "    </style>\n",
       "<div class=\"wandb-row\"><div class=\"wandb-col\"><h3>Run history:</h3><br/><table class=\"wandb\"><tr><td>Training Acc</td><td>▁▁▂▃▄▄▆▇▇▆██▇██</td></tr><tr><td>Training Loss</td><td>██▇▇▅▅▄▃▂▂▁▁▂▁▁</td></tr><tr><td>Validation Acc</td><td>▁▂▃▇▆▇▅██▆█▆█▆█</td></tr><tr><td>Validation Loss</td><td>█▇▆▅▅▂▆▃▁▆▁▄▂▆▁</td></tr></table><br/></div><div class=\"wandb-col\"><h3>Run summary:</h3><br/><table class=\"wandb\"><tr><td>Training Acc</td><td>0.97059</td></tr><tr><td>Training Loss</td><td>0.23916</td></tr><tr><td>Validation Acc</td><td>0.775</td></tr><tr><td>Validation Loss</td><td>0.47719</td></tr><tr><td>test_accuracy</td><td>0.78968</td></tr><tr><td>test_losss</td><td>0.48976</td></tr></table><br/></div></div>"
      ],
      "text/plain": [
       "<IPython.core.display.HTML object>"
      ]
     },
     "metadata": {},
     "output_type": "display_data"
    },
    {
     "data": {
      "text/html": [
       "Synced <strong style=\"color:#cdcd00\">silvery-cosmos-94</strong>: <a href=\"https://wandb.ai/miraclelinzzz/Final-ensemble/runs/3semo2md\" target=\"_blank\">https://wandb.ai/miraclelinzzz/Final-ensemble/runs/3semo2md</a><br/>Synced 5 W&B file(s), 0 media file(s), 0 artifact file(s) and 0 other file(s)"
      ],
      "text/plain": [
       "<IPython.core.display.HTML object>"
      ]
     },
     "metadata": {},
     "output_type": "display_data"
    },
    {
     "data": {
      "text/html": [
       "Find logs at: <code>./wandb/run-20220818_000854-3semo2md/logs</code>"
      ],
      "text/plain": [
       "<IPython.core.display.HTML object>"
      ]
     },
     "metadata": {},
     "output_type": "display_data"
    },
    {
     "name": "stdout",
     "output_type": "stream",
     "text": [
      "dr-0.3,arch-[256, 512, 64],bs-8,seed-20,index-3,epoch-15\n"
     ]
    },
    {
     "data": {
      "text/html": [
       "Tracking run with wandb version 0.13.1"
      ],
      "text/plain": [
       "<IPython.core.display.HTML object>"
      ]
     },
     "metadata": {},
     "output_type": "display_data"
    },
    {
     "data": {
      "text/html": [
       "Run data is saved locally in <code>/home/jupyter/wandb/run-20220818_001012-1fnovvgs</code>"
      ],
      "text/plain": [
       "<IPython.core.display.HTML object>"
      ]
     },
     "metadata": {},
     "output_type": "display_data"
    },
    {
     "data": {
      "text/html": [
       "Syncing run <strong><a href=\"https://wandb.ai/miraclelinzzz/Final-ensemble/runs/1fnovvgs\" target=\"_blank\">fresh-disco-95</a></strong> to <a href=\"https://wandb.ai/miraclelinzzz/Final-ensemble\" target=\"_blank\">Weights & Biases</a> (<a href=\"https://wandb.me/run\" target=\"_blank\">docs</a>)<br/>"
      ],
      "text/plain": [
       "<IPython.core.display.HTML object>"
      ]
     },
     "metadata": {},
     "output_type": "display_data"
    },
    {
     "data": {
      "text/html": [
       "Waiting for W&B process to finish... <strong style=\"color:green\">(success).</strong>"
      ],
      "text/plain": [
       "<IPython.core.display.HTML object>"
      ]
     },
     "metadata": {},
     "output_type": "display_data"
    },
    {
     "data": {
      "text/html": [
       "<style>\n",
       "    table.wandb td:nth-child(1) { padding: 0 10px; text-align: left ; width: auto;} td:nth-child(2) {text-align: left ; width: 100%}\n",
       "    .wandb-row { display: flex; flex-direction: row; flex-wrap: wrap; justify-content: flex-start; width: 100% }\n",
       "    .wandb-col { display: flex; flex-direction: column; flex-basis: 100%; flex: 1; padding: 10px; }\n",
       "    </style>\n",
       "<div class=\"wandb-row\"><div class=\"wandb-col\"><h3>Run history:</h3><br/><table class=\"wandb\"><tr><td>Training Acc</td><td>▁▂▁▁▂▃▄▄▆▆▆▆▇▇█</td></tr><tr><td>Training Loss</td><td>█▇█▇▆▆▅▅▄▃▃▃▂▁▁</td></tr><tr><td>Validation Acc</td><td>▃▁▃▂▄▃▄▃▅▅█▇▆▆█</td></tr><tr><td>Validation Loss</td><td>█▇███▆▆▅▅▃▂▁▅▃▂</td></tr></table><br/></div><div class=\"wandb-col\"><h3>Run summary:</h3><br/><table class=\"wandb\"><tr><td>Training Acc</td><td>0.92647</td></tr><tr><td>Training Loss</td><td>0.29715</td></tr><tr><td>Validation Acc</td><td>0.8</td></tr><tr><td>Validation Loss</td><td>0.47926</td></tr><tr><td>test_accuracy</td><td>0.74603</td></tr><tr><td>test_losss</td><td>0.51747</td></tr></table><br/></div></div>"
      ],
      "text/plain": [
       "<IPython.core.display.HTML object>"
      ]
     },
     "metadata": {},
     "output_type": "display_data"
    },
    {
     "data": {
      "text/html": [
       "Synced <strong style=\"color:#cdcd00\">fresh-disco-95</strong>: <a href=\"https://wandb.ai/miraclelinzzz/Final-ensemble/runs/1fnovvgs\" target=\"_blank\">https://wandb.ai/miraclelinzzz/Final-ensemble/runs/1fnovvgs</a><br/>Synced 5 W&B file(s), 0 media file(s), 0 artifact file(s) and 0 other file(s)"
      ],
      "text/plain": [
       "<IPython.core.display.HTML object>"
      ]
     },
     "metadata": {},
     "output_type": "display_data"
    },
    {
     "data": {
      "text/html": [
       "Find logs at: <code>./wandb/run-20220818_001012-1fnovvgs/logs</code>"
      ],
      "text/plain": [
       "<IPython.core.display.HTML object>"
      ]
     },
     "metadata": {},
     "output_type": "display_data"
    },
    {
     "name": "stdout",
     "output_type": "stream",
     "text": [
      "dr-0.3,arch-[128],bs-8,seed-20,index-1,epoch-15\n"
     ]
    },
    {
     "data": {
      "text/html": [
       "Tracking run with wandb version 0.13.1"
      ],
      "text/plain": [
       "<IPython.core.display.HTML object>"
      ]
     },
     "metadata": {},
     "output_type": "display_data"
    },
    {
     "data": {
      "text/html": [
       "Run data is saved locally in <code>/home/jupyter/wandb/run-20220818_001131-1qpfofu8</code>"
      ],
      "text/plain": [
       "<IPython.core.display.HTML object>"
      ]
     },
     "metadata": {},
     "output_type": "display_data"
    },
    {
     "data": {
      "text/html": [
       "Syncing run <strong><a href=\"https://wandb.ai/miraclelinzzz/Final-ensemble/runs/1qpfofu8\" target=\"_blank\">effortless-energy-96</a></strong> to <a href=\"https://wandb.ai/miraclelinzzz/Final-ensemble\" target=\"_blank\">Weights & Biases</a> (<a href=\"https://wandb.me/run\" target=\"_blank\">docs</a>)<br/>"
      ],
      "text/plain": [
       "<IPython.core.display.HTML object>"
      ]
     },
     "metadata": {},
     "output_type": "display_data"
    },
    {
     "data": {
      "text/html": [
       "Waiting for W&B process to finish... <strong style=\"color:green\">(success).</strong>"
      ],
      "text/plain": [
       "<IPython.core.display.HTML object>"
      ]
     },
     "metadata": {},
     "output_type": "display_data"
    },
    {
     "data": {
      "text/html": [
       "<style>\n",
       "    table.wandb td:nth-child(1) { padding: 0 10px; text-align: left ; width: auto;} td:nth-child(2) {text-align: left ; width: 100%}\n",
       "    .wandb-row { display: flex; flex-direction: row; flex-wrap: wrap; justify-content: flex-start; width: 100% }\n",
       "    .wandb-col { display: flex; flex-direction: column; flex-basis: 100%; flex: 1; padding: 10px; }\n",
       "    </style>\n",
       "<div class=\"wandb-row\"><div class=\"wandb-col\"><h3>Run history:</h3><br/><table class=\"wandb\"><tr><td>Training Acc</td><td>▁▄▄▄▇████████▇█</td></tr><tr><td>Training Loss</td><td>█▆▅▅▃▂▁▁▂▁▁▁▁▁▁</td></tr><tr><td>Validation Acc</td><td>▁▅▁█▅▆▇█▅█▆▆██▆</td></tr><tr><td>Validation Loss</td><td>▄▃█▁▅▃▂▁▆▂▄▄▂▂▄</td></tr></table><br/></div><div class=\"wandb-col\"><h3>Run summary:</h3><br/><table class=\"wandb\"><tr><td>Training Acc</td><td>1.0</td></tr><tr><td>Training Loss</td><td>0.10598</td></tr><tr><td>Validation Acc</td><td>0.775</td></tr><tr><td>Validation Loss</td><td>0.62979</td></tr><tr><td>test_accuracy</td><td>0.83135</td></tr><tr><td>test_losss</td><td>0.53541</td></tr></table><br/></div></div>"
      ],
      "text/plain": [
       "<IPython.core.display.HTML object>"
      ]
     },
     "metadata": {},
     "output_type": "display_data"
    },
    {
     "data": {
      "text/html": [
       "Synced <strong style=\"color:#cdcd00\">effortless-energy-96</strong>: <a href=\"https://wandb.ai/miraclelinzzz/Final-ensemble/runs/1qpfofu8\" target=\"_blank\">https://wandb.ai/miraclelinzzz/Final-ensemble/runs/1qpfofu8</a><br/>Synced 5 W&B file(s), 0 media file(s), 0 artifact file(s) and 0 other file(s)"
      ],
      "text/plain": [
       "<IPython.core.display.HTML object>"
      ]
     },
     "metadata": {},
     "output_type": "display_data"
    },
    {
     "data": {
      "text/html": [
       "Find logs at: <code>./wandb/run-20220818_001131-1qpfofu8/logs</code>"
      ],
      "text/plain": [
       "<IPython.core.display.HTML object>"
      ]
     },
     "metadata": {},
     "output_type": "display_data"
    },
    {
     "name": "stdout",
     "output_type": "stream",
     "text": [
      "dr-0.3,arch-[128],bs-8,seed-20,index-2,epoch-15\n"
     ]
    },
    {
     "data": {
      "text/html": [
       "Tracking run with wandb version 0.13.1"
      ],
      "text/plain": [
       "<IPython.core.display.HTML object>"
      ]
     },
     "metadata": {},
     "output_type": "display_data"
    },
    {
     "data": {
      "text/html": [
       "Run data is saved locally in <code>/home/jupyter/wandb/run-20220818_001250-3kftxsrj</code>"
      ],
      "text/plain": [
       "<IPython.core.display.HTML object>"
      ]
     },
     "metadata": {},
     "output_type": "display_data"
    },
    {
     "data": {
      "text/html": [
       "Syncing run <strong><a href=\"https://wandb.ai/miraclelinzzz/Final-ensemble/runs/3kftxsrj\" target=\"_blank\">generous-fire-97</a></strong> to <a href=\"https://wandb.ai/miraclelinzzz/Final-ensemble\" target=\"_blank\">Weights & Biases</a> (<a href=\"https://wandb.me/run\" target=\"_blank\">docs</a>)<br/>"
      ],
      "text/plain": [
       "<IPython.core.display.HTML object>"
      ]
     },
     "metadata": {},
     "output_type": "display_data"
    },
    {
     "data": {
      "text/html": [
       "Waiting for W&B process to finish... <strong style=\"color:green\">(success).</strong>"
      ],
      "text/plain": [
       "<IPython.core.display.HTML object>"
      ]
     },
     "metadata": {},
     "output_type": "display_data"
    },
    {
     "data": {
      "text/html": [
       "<style>\n",
       "    table.wandb td:nth-child(1) { padding: 0 10px; text-align: left ; width: auto;} td:nth-child(2) {text-align: left ; width: 100%}\n",
       "    .wandb-row { display: flex; flex-direction: row; flex-wrap: wrap; justify-content: flex-start; width: 100% }\n",
       "    .wandb-col { display: flex; flex-direction: column; flex-basis: 100%; flex: 1; padding: 10px; }\n",
       "    </style>\n",
       "<div class=\"wandb-row\"><div class=\"wandb-col\"><h3>Run history:</h3><br/><table class=\"wandb\"><tr><td>Training Acc</td><td>▁▄▅▇▇█▇█▇██████</td></tr><tr><td>Training Loss</td><td>█▅▄▃▂▂▂▁▂▁▁▁▁▁▁</td></tr><tr><td>Validation Acc</td><td>▃█▁▆▆▄▆▆▅▇▇▇▇▇▇</td></tr><tr><td>Validation Loss</td><td>▂▁█▁▂▄▂▂▄▂▂▁▁▁▁</td></tr></table><br/></div><div class=\"wandb-col\"><h3>Run summary:</h3><br/><table class=\"wandb\"><tr><td>Training Acc</td><td>1.0</td></tr><tr><td>Training Loss</td><td>0.0973</td></tr><tr><td>Validation Acc</td><td>0.85</td></tr><tr><td>Validation Loss</td><td>0.45763</td></tr><tr><td>test_accuracy</td><td>0.84325</td></tr><tr><td>test_losss</td><td>0.45398</td></tr></table><br/></div></div>"
      ],
      "text/plain": [
       "<IPython.core.display.HTML object>"
      ]
     },
     "metadata": {},
     "output_type": "display_data"
    },
    {
     "data": {
      "text/html": [
       "Synced <strong style=\"color:#cdcd00\">generous-fire-97</strong>: <a href=\"https://wandb.ai/miraclelinzzz/Final-ensemble/runs/3kftxsrj\" target=\"_blank\">https://wandb.ai/miraclelinzzz/Final-ensemble/runs/3kftxsrj</a><br/>Synced 5 W&B file(s), 0 media file(s), 0 artifact file(s) and 0 other file(s)"
      ],
      "text/plain": [
       "<IPython.core.display.HTML object>"
      ]
     },
     "metadata": {},
     "output_type": "display_data"
    },
    {
     "data": {
      "text/html": [
       "Find logs at: <code>./wandb/run-20220818_001250-3kftxsrj/logs</code>"
      ],
      "text/plain": [
       "<IPython.core.display.HTML object>"
      ]
     },
     "metadata": {},
     "output_type": "display_data"
    },
    {
     "name": "stdout",
     "output_type": "stream",
     "text": [
      "dr-0.3,arch-[128],bs-8,seed-20,index-3,epoch-15\n"
     ]
    },
    {
     "data": {
      "text/html": [
       "Tracking run with wandb version 0.13.1"
      ],
      "text/plain": [
       "<IPython.core.display.HTML object>"
      ]
     },
     "metadata": {},
     "output_type": "display_data"
    },
    {
     "data": {
      "text/html": [
       "Run data is saved locally in <code>/home/jupyter/wandb/run-20220818_001408-1hf7bw9q</code>"
      ],
      "text/plain": [
       "<IPython.core.display.HTML object>"
      ]
     },
     "metadata": {},
     "output_type": "display_data"
    },
    {
     "data": {
      "text/html": [
       "Syncing run <strong><a href=\"https://wandb.ai/miraclelinzzz/Final-ensemble/runs/1hf7bw9q\" target=\"_blank\">mild-sky-98</a></strong> to <a href=\"https://wandb.ai/miraclelinzzz/Final-ensemble\" target=\"_blank\">Weights & Biases</a> (<a href=\"https://wandb.me/run\" target=\"_blank\">docs</a>)<br/>"
      ],
      "text/plain": [
       "<IPython.core.display.HTML object>"
      ]
     },
     "metadata": {},
     "output_type": "display_data"
    },
    {
     "data": {
      "text/html": [
       "Waiting for W&B process to finish... <strong style=\"color:green\">(success).</strong>"
      ],
      "text/plain": [
       "<IPython.core.display.HTML object>"
      ]
     },
     "metadata": {},
     "output_type": "display_data"
    },
    {
     "data": {
      "text/html": [
       "<style>\n",
       "    table.wandb td:nth-child(1) { padding: 0 10px; text-align: left ; width: auto;} td:nth-child(2) {text-align: left ; width: 100%}\n",
       "    .wandb-row { display: flex; flex-direction: row; flex-wrap: wrap; justify-content: flex-start; width: 100% }\n",
       "    .wandb-col { display: flex; flex-direction: column; flex-basis: 100%; flex: 1; padding: 10px; }\n",
       "    </style>\n",
       "<div class=\"wandb-row\"><div class=\"wandb-col\"><h3>Run history:</h3><br/><table class=\"wandb\"><tr><td>Training Acc</td><td>▁▄▆████████████</td></tr><tr><td>Training Loss</td><td>█▆▄▂▁▁▁▁▁▁▁▁▁▁▁</td></tr><tr><td>Validation Acc</td><td>▂█▁▃█▅▆▅▅▅▇▇▅▇▅</td></tr><tr><td>Validation Loss</td><td>▃▁█▅▂▄▅▄▄▃▂▂▄▃▄</td></tr></table><br/></div><div class=\"wandb-col\"><h3>Run summary:</h3><br/><table class=\"wandb\"><tr><td>Training Acc</td><td>1.0</td></tr><tr><td>Training Loss</td><td>0.07601</td></tr><tr><td>Validation Acc</td><td>0.75</td></tr><tr><td>Validation Loss</td><td>0.64775</td></tr><tr><td>test_accuracy</td><td>0.87302</td></tr><tr><td>test_losss</td><td>0.43254</td></tr></table><br/></div></div>"
      ],
      "text/plain": [
       "<IPython.core.display.HTML object>"
      ]
     },
     "metadata": {},
     "output_type": "display_data"
    },
    {
     "data": {
      "text/html": [
       "Synced <strong style=\"color:#cdcd00\">mild-sky-98</strong>: <a href=\"https://wandb.ai/miraclelinzzz/Final-ensemble/runs/1hf7bw9q\" target=\"_blank\">https://wandb.ai/miraclelinzzz/Final-ensemble/runs/1hf7bw9q</a><br/>Synced 5 W&B file(s), 0 media file(s), 0 artifact file(s) and 0 other file(s)"
      ],
      "text/plain": [
       "<IPython.core.display.HTML object>"
      ]
     },
     "metadata": {},
     "output_type": "display_data"
    },
    {
     "data": {
      "text/html": [
       "Find logs at: <code>./wandb/run-20220818_001408-1hf7bw9q/logs</code>"
      ],
      "text/plain": [
       "<IPython.core.display.HTML object>"
      ]
     },
     "metadata": {},
     "output_type": "display_data"
    },
    {
     "name": "stdout",
     "output_type": "stream",
     "text": [
      "dr-0.4,arch-[128, 512, 256],bs-16,seed-20,index-1,epoch-15\n"
     ]
    },
    {
     "data": {
      "text/html": [
       "Tracking run with wandb version 0.13.1"
      ],
      "text/plain": [
       "<IPython.core.display.HTML object>"
      ]
     },
     "metadata": {},
     "output_type": "display_data"
    },
    {
     "data": {
      "text/html": [
       "Run data is saved locally in <code>/home/jupyter/wandb/run-20220818_001528-2wixzthj</code>"
      ],
      "text/plain": [
       "<IPython.core.display.HTML object>"
      ]
     },
     "metadata": {},
     "output_type": "display_data"
    },
    {
     "data": {
      "text/html": [
       "Syncing run <strong><a href=\"https://wandb.ai/miraclelinzzz/Final-ensemble/runs/2wixzthj\" target=\"_blank\">magic-eon-99</a></strong> to <a href=\"https://wandb.ai/miraclelinzzz/Final-ensemble\" target=\"_blank\">Weights & Biases</a> (<a href=\"https://wandb.me/run\" target=\"_blank\">docs</a>)<br/>"
      ],
      "text/plain": [
       "<IPython.core.display.HTML object>"
      ]
     },
     "metadata": {},
     "output_type": "display_data"
    },
    {
     "data": {
      "text/html": [
       "Waiting for W&B process to finish... <strong style=\"color:green\">(success).</strong>"
      ],
      "text/plain": [
       "<IPython.core.display.HTML object>"
      ]
     },
     "metadata": {},
     "output_type": "display_data"
    },
    {
     "data": {
      "text/html": [
       "<style>\n",
       "    table.wandb td:nth-child(1) { padding: 0 10px; text-align: left ; width: auto;} td:nth-child(2) {text-align: left ; width: 100%}\n",
       "    .wandb-row { display: flex; flex-direction: row; flex-wrap: wrap; justify-content: flex-start; width: 100% }\n",
       "    .wandb-col { display: flex; flex-direction: column; flex-basis: 100%; flex: 1; padding: 10px; }\n",
       "    </style>\n",
       "<div class=\"wandb-row\"><div class=\"wandb-col\"><h3>Run history:</h3><br/><table class=\"wandb\"><tr><td>Training Acc</td><td>▁▁▃▃▃▂▃▄▅▅▇▇▇▇█</td></tr><tr><td>Training Loss</td><td>██▇▇▇▆▅▄▃▄▂▂▂▁▁</td></tr><tr><td>Validation Acc</td><td>▃▅▃▁▄▃▆█████▄█▆</td></tr><tr><td>Validation Loss</td><td>▇▇▆▆▆▄▃▂▄▂▂▁█▁▄</td></tr></table><br/></div><div class=\"wandb-col\"><h3>Run summary:</h3><br/><table class=\"wandb\"><tr><td>Training Acc</td><td>0.90972</td></tr><tr><td>Training Loss</td><td>0.29721</td></tr><tr><td>Validation Acc</td><td>0.70833</td></tr><tr><td>Validation Loss</td><td>0.54853</td></tr><tr><td>test_accuracy</td><td>0.85893</td></tr><tr><td>test_losss</td><td>0.43381</td></tr></table><br/></div></div>"
      ],
      "text/plain": [
       "<IPython.core.display.HTML object>"
      ]
     },
     "metadata": {},
     "output_type": "display_data"
    },
    {
     "data": {
      "text/html": [
       "Synced <strong style=\"color:#cdcd00\">magic-eon-99</strong>: <a href=\"https://wandb.ai/miraclelinzzz/Final-ensemble/runs/2wixzthj\" target=\"_blank\">https://wandb.ai/miraclelinzzz/Final-ensemble/runs/2wixzthj</a><br/>Synced 5 W&B file(s), 0 media file(s), 0 artifact file(s) and 0 other file(s)"
      ],
      "text/plain": [
       "<IPython.core.display.HTML object>"
      ]
     },
     "metadata": {},
     "output_type": "display_data"
    },
    {
     "data": {
      "text/html": [
       "Find logs at: <code>./wandb/run-20220818_001528-2wixzthj/logs</code>"
      ],
      "text/plain": [
       "<IPython.core.display.HTML object>"
      ]
     },
     "metadata": {},
     "output_type": "display_data"
    },
    {
     "name": "stdout",
     "output_type": "stream",
     "text": [
      "dr-0.4,arch-[128, 512, 256],bs-16,seed-20,index-2,epoch-15\n"
     ]
    },
    {
     "data": {
      "text/html": [
       "Tracking run with wandb version 0.13.1"
      ],
      "text/plain": [
       "<IPython.core.display.HTML object>"
      ]
     },
     "metadata": {},
     "output_type": "display_data"
    },
    {
     "data": {
      "text/html": [
       "Run data is saved locally in <code>/home/jupyter/wandb/run-20220818_001642-hrbpceb8</code>"
      ],
      "text/plain": [
       "<IPython.core.display.HTML object>"
      ]
     },
     "metadata": {},
     "output_type": "display_data"
    },
    {
     "data": {
      "text/html": [
       "Syncing run <strong><a href=\"https://wandb.ai/miraclelinzzz/Final-ensemble/runs/hrbpceb8\" target=\"_blank\">zany-jazz-100</a></strong> to <a href=\"https://wandb.ai/miraclelinzzz/Final-ensemble\" target=\"_blank\">Weights & Biases</a> (<a href=\"https://wandb.me/run\" target=\"_blank\">docs</a>)<br/>"
      ],
      "text/plain": [
       "<IPython.core.display.HTML object>"
      ]
     },
     "metadata": {},
     "output_type": "display_data"
    },
    {
     "data": {
      "text/html": [
       "Waiting for W&B process to finish... <strong style=\"color:green\">(success).</strong>"
      ],
      "text/plain": [
       "<IPython.core.display.HTML object>"
      ]
     },
     "metadata": {},
     "output_type": "display_data"
    },
    {
     "data": {
      "text/html": [
       "<style>\n",
       "    table.wandb td:nth-child(1) { padding: 0 10px; text-align: left ; width: auto;} td:nth-child(2) {text-align: left ; width: 100%}\n",
       "    .wandb-row { display: flex; flex-direction: row; flex-wrap: wrap; justify-content: flex-start; width: 100% }\n",
       "    .wandb-col { display: flex; flex-direction: column; flex-basis: 100%; flex: 1; padding: 10px; }\n",
       "    </style>\n",
       "<div class=\"wandb-row\"><div class=\"wandb-col\"><h3>Run history:</h3><br/><table class=\"wandb\"><tr><td>Training Acc</td><td>▂▁▂▂▃▃▄▅▆▆▇█▇██</td></tr><tr><td>Training Loss</td><td>██▇▆▆▆▆▅▄▄▃▂▂▂▁</td></tr><tr><td>Validation Acc</td><td>▁▃▃▁▅▅▂▇▆▅█▇█▆▇</td></tr><tr><td>Validation Loss</td><td>██▇▇▅▆▆▃▄▃▂▁▁▄▂</td></tr></table><br/></div><div class=\"wandb-col\"><h3>Run summary:</h3><br/><table class=\"wandb\"><tr><td>Training Acc</td><td>0.86806</td></tr><tr><td>Training Loss</td><td>0.3175</td></tr><tr><td>Validation Acc</td><td>0.83333</td></tr><tr><td>Validation Loss</td><td>0.47066</td></tr><tr><td>test_accuracy</td><td>0.82143</td></tr><tr><td>test_losss</td><td>0.47458</td></tr></table><br/></div></div>"
      ],
      "text/plain": [
       "<IPython.core.display.HTML object>"
      ]
     },
     "metadata": {},
     "output_type": "display_data"
    },
    {
     "data": {
      "text/html": [
       "Synced <strong style=\"color:#cdcd00\">zany-jazz-100</strong>: <a href=\"https://wandb.ai/miraclelinzzz/Final-ensemble/runs/hrbpceb8\" target=\"_blank\">https://wandb.ai/miraclelinzzz/Final-ensemble/runs/hrbpceb8</a><br/>Synced 5 W&B file(s), 0 media file(s), 0 artifact file(s) and 0 other file(s)"
      ],
      "text/plain": [
       "<IPython.core.display.HTML object>"
      ]
     },
     "metadata": {},
     "output_type": "display_data"
    },
    {
     "data": {
      "text/html": [
       "Find logs at: <code>./wandb/run-20220818_001642-hrbpceb8/logs</code>"
      ],
      "text/plain": [
       "<IPython.core.display.HTML object>"
      ]
     },
     "metadata": {},
     "output_type": "display_data"
    },
    {
     "name": "stdout",
     "output_type": "stream",
     "text": [
      "dr-0.4,arch-[128, 512, 256],bs-16,seed-20,index-3,epoch-15\n"
     ]
    },
    {
     "data": {
      "text/html": [
       "Tracking run with wandb version 0.13.1"
      ],
      "text/plain": [
       "<IPython.core.display.HTML object>"
      ]
     },
     "metadata": {},
     "output_type": "display_data"
    },
    {
     "data": {
      "text/html": [
       "Run data is saved locally in <code>/home/jupyter/wandb/run-20220818_001755-10llk4y0</code>"
      ],
      "text/plain": [
       "<IPython.core.display.HTML object>"
      ]
     },
     "metadata": {},
     "output_type": "display_data"
    },
    {
     "data": {
      "text/html": [
       "Syncing run <strong><a href=\"https://wandb.ai/miraclelinzzz/Final-ensemble/runs/10llk4y0\" target=\"_blank\">glorious-violet-101</a></strong> to <a href=\"https://wandb.ai/miraclelinzzz/Final-ensemble\" target=\"_blank\">Weights & Biases</a> (<a href=\"https://wandb.me/run\" target=\"_blank\">docs</a>)<br/>"
      ],
      "text/plain": [
       "<IPython.core.display.HTML object>"
      ]
     },
     "metadata": {},
     "output_type": "display_data"
    },
    {
     "data": {
      "text/html": [
       "Waiting for W&B process to finish... <strong style=\"color:green\">(success).</strong>"
      ],
      "text/plain": [
       "<IPython.core.display.HTML object>"
      ]
     },
     "metadata": {},
     "output_type": "display_data"
    },
    {
     "data": {
      "text/html": [
       "<style>\n",
       "    table.wandb td:nth-child(1) { padding: 0 10px; text-align: left ; width: auto;} td:nth-child(2) {text-align: left ; width: 100%}\n",
       "    .wandb-row { display: flex; flex-direction: row; flex-wrap: wrap; justify-content: flex-start; width: 100% }\n",
       "    .wandb-col { display: flex; flex-direction: column; flex-basis: 100%; flex: 1; padding: 10px; }\n",
       "    </style>\n",
       "<div class=\"wandb-row\"><div class=\"wandb-col\"><h3>Run history:</h3><br/><table class=\"wandb\"><tr><td>Training Acc</td><td>▁▃▃▂▃▃▄▅▅▇▇▇███</td></tr><tr><td>Training Loss</td><td>█▇▇█▇▆▆▅▄▃▃▂▂▁▁</td></tr><tr><td>Validation Acc</td><td>▁▅▅▅▆▄▄▇▂▅█▇▆█▆</td></tr><tr><td>Validation Loss</td><td>██▇▇▃▄▅▄▆▃▃▁▄▁▂</td></tr></table><br/></div><div class=\"wandb-col\"><h3>Run summary:</h3><br/><table class=\"wandb\"><tr><td>Training Acc</td><td>0.88194</td></tr><tr><td>Training Loss</td><td>0.33989</td></tr><tr><td>Validation Acc</td><td>0.6875</td></tr><tr><td>Validation Loss</td><td>0.48257</td></tr><tr><td>test_accuracy</td><td>0.75536</td></tr><tr><td>test_losss</td><td>0.46592</td></tr></table><br/></div></div>"
      ],
      "text/plain": [
       "<IPython.core.display.HTML object>"
      ]
     },
     "metadata": {},
     "output_type": "display_data"
    },
    {
     "data": {
      "text/html": [
       "Synced <strong style=\"color:#cdcd00\">glorious-violet-101</strong>: <a href=\"https://wandb.ai/miraclelinzzz/Final-ensemble/runs/10llk4y0\" target=\"_blank\">https://wandb.ai/miraclelinzzz/Final-ensemble/runs/10llk4y0</a><br/>Synced 5 W&B file(s), 0 media file(s), 0 artifact file(s) and 0 other file(s)"
      ],
      "text/plain": [
       "<IPython.core.display.HTML object>"
      ]
     },
     "metadata": {},
     "output_type": "display_data"
    },
    {
     "data": {
      "text/html": [
       "Find logs at: <code>./wandb/run-20220818_001755-10llk4y0/logs</code>"
      ],
      "text/plain": [
       "<IPython.core.display.HTML object>"
      ]
     },
     "metadata": {},
     "output_type": "display_data"
    },
    {
     "name": "stdout",
     "output_type": "stream",
     "text": [
      "dr-0.3,arch-[256, 64],bs-16,seed-20,index-1,epoch-15\n"
     ]
    },
    {
     "data": {
      "text/html": [
       "Tracking run with wandb version 0.13.1"
      ],
      "text/plain": [
       "<IPython.core.display.HTML object>"
      ]
     },
     "metadata": {},
     "output_type": "display_data"
    },
    {
     "data": {
      "text/html": [
       "Run data is saved locally in <code>/home/jupyter/wandb/run-20220818_001911-2jaive1t</code>"
      ],
      "text/plain": [
       "<IPython.core.display.HTML object>"
      ]
     },
     "metadata": {},
     "output_type": "display_data"
    },
    {
     "data": {
      "text/html": [
       "Syncing run <strong><a href=\"https://wandb.ai/miraclelinzzz/Final-ensemble/runs/2jaive1t\" target=\"_blank\">olive-music-102</a></strong> to <a href=\"https://wandb.ai/miraclelinzzz/Final-ensemble\" target=\"_blank\">Weights & Biases</a> (<a href=\"https://wandb.me/run\" target=\"_blank\">docs</a>)<br/>"
      ],
      "text/plain": [
       "<IPython.core.display.HTML object>"
      ]
     },
     "metadata": {},
     "output_type": "display_data"
    },
    {
     "data": {
      "text/html": [
       "Waiting for W&B process to finish... <strong style=\"color:green\">(success).</strong>"
      ],
      "text/plain": [
       "<IPython.core.display.HTML object>"
      ]
     },
     "metadata": {},
     "output_type": "display_data"
    },
    {
     "data": {
      "text/html": [
       "<style>\n",
       "    table.wandb td:nth-child(1) { padding: 0 10px; text-align: left ; width: auto;} td:nth-child(2) {text-align: left ; width: 100%}\n",
       "    .wandb-row { display: flex; flex-direction: row; flex-wrap: wrap; justify-content: flex-start; width: 100% }\n",
       "    .wandb-col { display: flex; flex-direction: column; flex-basis: 100%; flex: 1; padding: 10px; }\n",
       "    </style>\n",
       "<div class=\"wandb-row\"><div class=\"wandb-col\"><h3>Run history:</h3><br/><table class=\"wandb\"><tr><td>Training Acc</td><td>▁▃▃▄▆▆▇▇███▇▆██</td></tr><tr><td>Training Loss</td><td>█▇▅▅▄▄▂▂▂▂▁▂▂▁▁</td></tr><tr><td>Validation Acc</td><td>▁▃▃▃▅▅▇▅▅▆▅▆███</td></tr><tr><td>Validation Loss</td><td>█▇▇▆▄▃▃▆▆▄▅▆▁▂▁</td></tr></table><br/></div><div class=\"wandb-col\"><h3>Run summary:</h3><br/><table class=\"wandb\"><tr><td>Training Acc</td><td>1.0</td></tr><tr><td>Training Loss</td><td>0.175</td></tr><tr><td>Validation Acc</td><td>0.875</td></tr><tr><td>Validation Loss</td><td>0.35014</td></tr><tr><td>test_accuracy</td><td>0.79643</td></tr><tr><td>test_losss</td><td>0.45473</td></tr></table><br/></div></div>"
      ],
      "text/plain": [
       "<IPython.core.display.HTML object>"
      ]
     },
     "metadata": {},
     "output_type": "display_data"
    },
    {
     "data": {
      "text/html": [
       "Synced <strong style=\"color:#cdcd00\">olive-music-102</strong>: <a href=\"https://wandb.ai/miraclelinzzz/Final-ensemble/runs/2jaive1t\" target=\"_blank\">https://wandb.ai/miraclelinzzz/Final-ensemble/runs/2jaive1t</a><br/>Synced 5 W&B file(s), 0 media file(s), 0 artifact file(s) and 0 other file(s)"
      ],
      "text/plain": [
       "<IPython.core.display.HTML object>"
      ]
     },
     "metadata": {},
     "output_type": "display_data"
    },
    {
     "data": {
      "text/html": [
       "Find logs at: <code>./wandb/run-20220818_001911-2jaive1t/logs</code>"
      ],
      "text/plain": [
       "<IPython.core.display.HTML object>"
      ]
     },
     "metadata": {},
     "output_type": "display_data"
    },
    {
     "name": "stdout",
     "output_type": "stream",
     "text": [
      "dr-0.3,arch-[256, 64],bs-16,seed-20,index-2,epoch-15\n"
     ]
    },
    {
     "data": {
      "text/html": [
       "Tracking run with wandb version 0.13.1"
      ],
      "text/plain": [
       "<IPython.core.display.HTML object>"
      ]
     },
     "metadata": {},
     "output_type": "display_data"
    },
    {
     "data": {
      "text/html": [
       "Run data is saved locally in <code>/home/jupyter/wandb/run-20220818_002025-1j581h30</code>"
      ],
      "text/plain": [
       "<IPython.core.display.HTML object>"
      ]
     },
     "metadata": {},
     "output_type": "display_data"
    },
    {
     "data": {
      "text/html": [
       "Syncing run <strong><a href=\"https://wandb.ai/miraclelinzzz/Final-ensemble/runs/1j581h30\" target=\"_blank\">misunderstood-glade-103</a></strong> to <a href=\"https://wandb.ai/miraclelinzzz/Final-ensemble\" target=\"_blank\">Weights & Biases</a> (<a href=\"https://wandb.me/run\" target=\"_blank\">docs</a>)<br/>"
      ],
      "text/plain": [
       "<IPython.core.display.HTML object>"
      ]
     },
     "metadata": {},
     "output_type": "display_data"
    },
    {
     "data": {
      "text/html": [
       "Waiting for W&B process to finish... <strong style=\"color:green\">(success).</strong>"
      ],
      "text/plain": [
       "<IPython.core.display.HTML object>"
      ]
     },
     "metadata": {},
     "output_type": "display_data"
    },
    {
     "data": {
      "text/html": [
       "<style>\n",
       "    table.wandb td:nth-child(1) { padding: 0 10px; text-align: left ; width: auto;} td:nth-child(2) {text-align: left ; width: 100%}\n",
       "    .wandb-row { display: flex; flex-direction: row; flex-wrap: wrap; justify-content: flex-start; width: 100% }\n",
       "    .wandb-col { display: flex; flex-direction: column; flex-basis: 100%; flex: 1; padding: 10px; }\n",
       "    </style>\n",
       "<div class=\"wandb-row\"><div class=\"wandb-col\"><h3>Run history:</h3><br/><table class=\"wandb\"><tr><td>Training Acc</td><td>▁▃▅▅▆█▇▇█▇█████</td></tr><tr><td>Training Loss</td><td>█▆▅▅▄▃▃▂▂▂▁▁▁▁▁</td></tr><tr><td>Validation Acc</td><td>▁▃▅▇██▅██▆████▆</td></tr><tr><td>Validation Loss</td><td>█▇▆▃▂▂▆▂▁▆▁▁▃▁▆</td></tr></table><br/></div><div class=\"wandb-col\"><h3>Run summary:</h3><br/><table class=\"wandb\"><tr><td>Training Acc</td><td>1.0</td></tr><tr><td>Training Loss</td><td>0.17606</td></tr><tr><td>Validation Acc</td><td>0.70833</td></tr><tr><td>Validation Loss</td><td>0.61706</td></tr><tr><td>test_accuracy</td><td>0.84643</td></tr><tr><td>test_losss</td><td>0.41589</td></tr></table><br/></div></div>"
      ],
      "text/plain": [
       "<IPython.core.display.HTML object>"
      ]
     },
     "metadata": {},
     "output_type": "display_data"
    },
    {
     "data": {
      "text/html": [
       "Synced <strong style=\"color:#cdcd00\">misunderstood-glade-103</strong>: <a href=\"https://wandb.ai/miraclelinzzz/Final-ensemble/runs/1j581h30\" target=\"_blank\">https://wandb.ai/miraclelinzzz/Final-ensemble/runs/1j581h30</a><br/>Synced 5 W&B file(s), 0 media file(s), 0 artifact file(s) and 0 other file(s)"
      ],
      "text/plain": [
       "<IPython.core.display.HTML object>"
      ]
     },
     "metadata": {},
     "output_type": "display_data"
    },
    {
     "data": {
      "text/html": [
       "Find logs at: <code>./wandb/run-20220818_002025-1j581h30/logs</code>"
      ],
      "text/plain": [
       "<IPython.core.display.HTML object>"
      ]
     },
     "metadata": {},
     "output_type": "display_data"
    },
    {
     "name": "stdout",
     "output_type": "stream",
     "text": [
      "dr-0.3,arch-[256, 64],bs-16,seed-20,index-3,epoch-15\n"
     ]
    },
    {
     "data": {
      "text/html": [
       "Tracking run with wandb version 0.13.1"
      ],
      "text/plain": [
       "<IPython.core.display.HTML object>"
      ]
     },
     "metadata": {},
     "output_type": "display_data"
    },
    {
     "data": {
      "text/html": [
       "Run data is saved locally in <code>/home/jupyter/wandb/run-20220818_002138-oq63cza1</code>"
      ],
      "text/plain": [
       "<IPython.core.display.HTML object>"
      ]
     },
     "metadata": {},
     "output_type": "display_data"
    },
    {
     "data": {
      "text/html": [
       "Syncing run <strong><a href=\"https://wandb.ai/miraclelinzzz/Final-ensemble/runs/oq63cza1\" target=\"_blank\">rural-paper-104</a></strong> to <a href=\"https://wandb.ai/miraclelinzzz/Final-ensemble\" target=\"_blank\">Weights & Biases</a> (<a href=\"https://wandb.me/run\" target=\"_blank\">docs</a>)<br/>"
      ],
      "text/plain": [
       "<IPython.core.display.HTML object>"
      ]
     },
     "metadata": {},
     "output_type": "display_data"
    },
    {
     "data": {
      "text/html": [
       "Waiting for W&B process to finish... <strong style=\"color:green\">(success).</strong>"
      ],
      "text/plain": [
       "<IPython.core.display.HTML object>"
      ]
     },
     "metadata": {},
     "output_type": "display_data"
    },
    {
     "data": {
      "text/html": [
       "<style>\n",
       "    table.wandb td:nth-child(1) { padding: 0 10px; text-align: left ; width: auto;} td:nth-child(2) {text-align: left ; width: 100%}\n",
       "    .wandb-row { display: flex; flex-direction: row; flex-wrap: wrap; justify-content: flex-start; width: 100% }\n",
       "    .wandb-col { display: flex; flex-direction: column; flex-basis: 100%; flex: 1; padding: 10px; }\n",
       "    </style>\n",
       "<div class=\"wandb-row\"><div class=\"wandb-col\"><h3>Run history:</h3><br/><table class=\"wandb\"><tr><td>Training Acc</td><td>▁▂▄▃▆▇▇▆▇██████</td></tr><tr><td>Training Loss</td><td>█▇▆▆▄▃▃▃▂▁▁▁▁▁▁</td></tr><tr><td>Validation Acc</td><td>▁▁▅▄▇▇▆▇▇▇▅▆▆██</td></tr><tr><td>Validation Loss</td><td>█▇▅▅▂▄▅▁▁▄▇▇▇▁▂</td></tr></table><br/></div><div class=\"wandb-col\"><h3>Run summary:</h3><br/><table class=\"wandb\"><tr><td>Training Acc</td><td>1.0</td></tr><tr><td>Training Loss</td><td>0.21477</td></tr><tr><td>Validation Acc</td><td>0.91667</td></tr><tr><td>Validation Loss</td><td>0.37589</td></tr><tr><td>test_accuracy</td><td>0.83393</td></tr><tr><td>test_losss</td><td>0.42358</td></tr></table><br/></div></div>"
      ],
      "text/plain": [
       "<IPython.core.display.HTML object>"
      ]
     },
     "metadata": {},
     "output_type": "display_data"
    },
    {
     "data": {
      "text/html": [
       "Synced <strong style=\"color:#cdcd00\">rural-paper-104</strong>: <a href=\"https://wandb.ai/miraclelinzzz/Final-ensemble/runs/oq63cza1\" target=\"_blank\">https://wandb.ai/miraclelinzzz/Final-ensemble/runs/oq63cza1</a><br/>Synced 5 W&B file(s), 0 media file(s), 0 artifact file(s) and 0 other file(s)"
      ],
      "text/plain": [
       "<IPython.core.display.HTML object>"
      ]
     },
     "metadata": {},
     "output_type": "display_data"
    },
    {
     "data": {
      "text/html": [
       "Find logs at: <code>./wandb/run-20220818_002138-oq63cza1/logs</code>"
      ],
      "text/plain": [
       "<IPython.core.display.HTML object>"
      ]
     },
     "metadata": {},
     "output_type": "display_data"
    },
    {
     "name": "stdout",
     "output_type": "stream",
     "text": [
      "dr-0.4,arch-[256, 128],bs-16,seed-20,index-1,epoch-15\n"
     ]
    },
    {
     "data": {
      "text/html": [
       "Tracking run with wandb version 0.13.1"
      ],
      "text/plain": [
       "<IPython.core.display.HTML object>"
      ]
     },
     "metadata": {},
     "output_type": "display_data"
    },
    {
     "data": {
      "text/html": [
       "Run data is saved locally in <code>/home/jupyter/wandb/run-20220818_002252-1mml6kjg</code>"
      ],
      "text/plain": [
       "<IPython.core.display.HTML object>"
      ]
     },
     "metadata": {},
     "output_type": "display_data"
    },
    {
     "data": {
      "text/html": [
       "Syncing run <strong><a href=\"https://wandb.ai/miraclelinzzz/Final-ensemble/runs/1mml6kjg\" target=\"_blank\">leafy-sound-105</a></strong> to <a href=\"https://wandb.ai/miraclelinzzz/Final-ensemble\" target=\"_blank\">Weights & Biases</a> (<a href=\"https://wandb.me/run\" target=\"_blank\">docs</a>)<br/>"
      ],
      "text/plain": [
       "<IPython.core.display.HTML object>"
      ]
     },
     "metadata": {},
     "output_type": "display_data"
    },
    {
     "data": {
      "text/html": [
       "Waiting for W&B process to finish... <strong style=\"color:green\">(success).</strong>"
      ],
      "text/plain": [
       "<IPython.core.display.HTML object>"
      ]
     },
     "metadata": {},
     "output_type": "display_data"
    },
    {
     "data": {
      "text/html": [
       "<style>\n",
       "    table.wandb td:nth-child(1) { padding: 0 10px; text-align: left ; width: auto;} td:nth-child(2) {text-align: left ; width: 100%}\n",
       "    .wandb-row { display: flex; flex-direction: row; flex-wrap: wrap; justify-content: flex-start; width: 100% }\n",
       "    .wandb-col { display: flex; flex-direction: column; flex-basis: 100%; flex: 1; padding: 10px; }\n",
       "    </style>\n",
       "<div class=\"wandb-row\"><div class=\"wandb-col\"><h3>Run history:</h3><br/><table class=\"wandb\"><tr><td>Training Acc</td><td>▁▃▄▆▆▇█▇███████</td></tr><tr><td>Training Loss</td><td>█▇▅▄▄▃▂▂▂▂▁▁▁▁▁</td></tr><tr><td>Validation Acc</td><td>▁▃▆███▇█▆▆▆█▇▇▇</td></tr><tr><td>Validation Loss</td><td>█▇▄▃▄▃▂▁█▆█▂▂▂▂</td></tr></table><br/></div><div class=\"wandb-col\"><h3>Run summary:</h3><br/><table class=\"wandb\"><tr><td>Training Acc</td><td>1.0</td></tr><tr><td>Training Loss</td><td>0.14702</td></tr><tr><td>Validation Acc</td><td>0.83333</td></tr><tr><td>Validation Loss</td><td>0.41452</td></tr><tr><td>test_accuracy</td><td>0.83036</td></tr><tr><td>test_losss</td><td>0.4428</td></tr></table><br/></div></div>"
      ],
      "text/plain": [
       "<IPython.core.display.HTML object>"
      ]
     },
     "metadata": {},
     "output_type": "display_data"
    },
    {
     "data": {
      "text/html": [
       "Synced <strong style=\"color:#cdcd00\">leafy-sound-105</strong>: <a href=\"https://wandb.ai/miraclelinzzz/Final-ensemble/runs/1mml6kjg\" target=\"_blank\">https://wandb.ai/miraclelinzzz/Final-ensemble/runs/1mml6kjg</a><br/>Synced 5 W&B file(s), 0 media file(s), 0 artifact file(s) and 0 other file(s)"
      ],
      "text/plain": [
       "<IPython.core.display.HTML object>"
      ]
     },
     "metadata": {},
     "output_type": "display_data"
    },
    {
     "data": {
      "text/html": [
       "Find logs at: <code>./wandb/run-20220818_002252-1mml6kjg/logs</code>"
      ],
      "text/plain": [
       "<IPython.core.display.HTML object>"
      ]
     },
     "metadata": {},
     "output_type": "display_data"
    },
    {
     "name": "stdout",
     "output_type": "stream",
     "text": [
      "dr-0.4,arch-[256, 128],bs-16,seed-20,index-2,epoch-15\n"
     ]
    },
    {
     "data": {
      "text/html": [
       "Tracking run with wandb version 0.13.1"
      ],
      "text/plain": [
       "<IPython.core.display.HTML object>"
      ]
     },
     "metadata": {},
     "output_type": "display_data"
    },
    {
     "data": {
      "text/html": [
       "Run data is saved locally in <code>/home/jupyter/wandb/run-20220818_002406-13fhzd1r</code>"
      ],
      "text/plain": [
       "<IPython.core.display.HTML object>"
      ]
     },
     "metadata": {},
     "output_type": "display_data"
    },
    {
     "data": {
      "text/html": [
       "Syncing run <strong><a href=\"https://wandb.ai/miraclelinzzz/Final-ensemble/runs/13fhzd1r\" target=\"_blank\">divine-aardvark-106</a></strong> to <a href=\"https://wandb.ai/miraclelinzzz/Final-ensemble\" target=\"_blank\">Weights & Biases</a> (<a href=\"https://wandb.me/run\" target=\"_blank\">docs</a>)<br/>"
      ],
      "text/plain": [
       "<IPython.core.display.HTML object>"
      ]
     },
     "metadata": {},
     "output_type": "display_data"
    },
    {
     "data": {
      "text/html": [
       "Waiting for W&B process to finish... <strong style=\"color:green\">(success).</strong>"
      ],
      "text/plain": [
       "<IPython.core.display.HTML object>"
      ]
     },
     "metadata": {},
     "output_type": "display_data"
    },
    {
     "data": {
      "text/html": [
       "<style>\n",
       "    table.wandb td:nth-child(1) { padding: 0 10px; text-align: left ; width: auto;} td:nth-child(2) {text-align: left ; width: 100%}\n",
       "    .wandb-row { display: flex; flex-direction: row; flex-wrap: wrap; justify-content: flex-start; width: 100% }\n",
       "    .wandb-col { display: flex; flex-direction: column; flex-basis: 100%; flex: 1; padding: 10px; }\n",
       "    </style>\n",
       "<div class=\"wandb-row\"><div class=\"wandb-col\"><h3>Run history:</h3><br/><table class=\"wandb\"><tr><td>Training Acc</td><td>▁▁▄▄▆▆▇████████</td></tr><tr><td>Training Loss</td><td>█▇▆▆▅▄▃▂▂▁▂▁▁▁▁</td></tr><tr><td>Validation Acc</td><td>▁▁▁▆▇▆█▄█▄█████</td></tr><tr><td>Validation Loss</td><td>█▆▆▅▂▁▂▆▁▄▁▁▁▁▁</td></tr></table><br/></div><div class=\"wandb-col\"><h3>Run summary:</h3><br/><table class=\"wandb\"><tr><td>Training Acc</td><td>0.99306</td></tr><tr><td>Training Loss</td><td>0.20376</td></tr><tr><td>Validation Acc</td><td>0.875</td></tr><tr><td>Validation Loss</td><td>0.34779</td></tr><tr><td>test_accuracy</td><td>0.79286</td></tr><tr><td>test_losss</td><td>0.50296</td></tr></table><br/></div></div>"
      ],
      "text/plain": [
       "<IPython.core.display.HTML object>"
      ]
     },
     "metadata": {},
     "output_type": "display_data"
    },
    {
     "data": {
      "text/html": [
       "Synced <strong style=\"color:#cdcd00\">divine-aardvark-106</strong>: <a href=\"https://wandb.ai/miraclelinzzz/Final-ensemble/runs/13fhzd1r\" target=\"_blank\">https://wandb.ai/miraclelinzzz/Final-ensemble/runs/13fhzd1r</a><br/>Synced 5 W&B file(s), 0 media file(s), 0 artifact file(s) and 0 other file(s)"
      ],
      "text/plain": [
       "<IPython.core.display.HTML object>"
      ]
     },
     "metadata": {},
     "output_type": "display_data"
    },
    {
     "data": {
      "text/html": [
       "Find logs at: <code>./wandb/run-20220818_002406-13fhzd1r/logs</code>"
      ],
      "text/plain": [
       "<IPython.core.display.HTML object>"
      ]
     },
     "metadata": {},
     "output_type": "display_data"
    },
    {
     "name": "stdout",
     "output_type": "stream",
     "text": [
      "dr-0.4,arch-[256, 128],bs-16,seed-20,index-3,epoch-15\n"
     ]
    },
    {
     "data": {
      "text/html": [
       "Tracking run with wandb version 0.13.1"
      ],
      "text/plain": [
       "<IPython.core.display.HTML object>"
      ]
     },
     "metadata": {},
     "output_type": "display_data"
    },
    {
     "data": {
      "text/html": [
       "Run data is saved locally in <code>/home/jupyter/wandb/run-20220818_002519-1cmwyjr7</code>"
      ],
      "text/plain": [
       "<IPython.core.display.HTML object>"
      ]
     },
     "metadata": {},
     "output_type": "display_data"
    },
    {
     "data": {
      "text/html": [
       "Syncing run <strong><a href=\"https://wandb.ai/miraclelinzzz/Final-ensemble/runs/1cmwyjr7\" target=\"_blank\">azure-disco-107</a></strong> to <a href=\"https://wandb.ai/miraclelinzzz/Final-ensemble\" target=\"_blank\">Weights & Biases</a> (<a href=\"https://wandb.me/run\" target=\"_blank\">docs</a>)<br/>"
      ],
      "text/plain": [
       "<IPython.core.display.HTML object>"
      ]
     },
     "metadata": {},
     "output_type": "display_data"
    },
    {
     "data": {
      "text/html": [
       "Waiting for W&B process to finish... <strong style=\"color:green\">(success).</strong>"
      ],
      "text/plain": [
       "<IPython.core.display.HTML object>"
      ]
     },
     "metadata": {},
     "output_type": "display_data"
    },
    {
     "data": {
      "text/html": [
       "<style>\n",
       "    table.wandb td:nth-child(1) { padding: 0 10px; text-align: left ; width: auto;} td:nth-child(2) {text-align: left ; width: 100%}\n",
       "    .wandb-row { display: flex; flex-direction: row; flex-wrap: wrap; justify-content: flex-start; width: 100% }\n",
       "    .wandb-col { display: flex; flex-direction: column; flex-basis: 100%; flex: 1; padding: 10px; }\n",
       "    </style>\n",
       "<div class=\"wandb-row\"><div class=\"wandb-col\"><h3>Run history:</h3><br/><table class=\"wandb\"><tr><td>Training Acc</td><td>▁▃▄▄▅▅▆█▇█▆████</td></tr><tr><td>Training Loss</td><td>█▇▆▆▅▄▃▂▃▂▃▁▂▁▁</td></tr><tr><td>Validation Acc</td><td>▄▁▄▄▆▆▇▄▇▅██▆██</td></tr><tr><td>Validation Loss</td><td>▆▅▆▄▃▆▃█▂▄▂▁▃▁▂</td></tr></table><br/></div><div class=\"wandb-col\"><h3>Run summary:</h3><br/><table class=\"wandb\"><tr><td>Training Acc</td><td>1.0</td></tr><tr><td>Training Loss</td><td>0.16901</td></tr><tr><td>Validation Acc</td><td>0.89583</td></tr><tr><td>Validation Loss</td><td>0.39635</td></tr><tr><td>test_accuracy</td><td>0.80536</td></tr><tr><td>test_losss</td><td>0.42909</td></tr></table><br/></div></div>"
      ],
      "text/plain": [
       "<IPython.core.display.HTML object>"
      ]
     },
     "metadata": {},
     "output_type": "display_data"
    },
    {
     "data": {
      "text/html": [
       "Synced <strong style=\"color:#cdcd00\">azure-disco-107</strong>: <a href=\"https://wandb.ai/miraclelinzzz/Final-ensemble/runs/1cmwyjr7\" target=\"_blank\">https://wandb.ai/miraclelinzzz/Final-ensemble/runs/1cmwyjr7</a><br/>Synced 5 W&B file(s), 0 media file(s), 0 artifact file(s) and 0 other file(s)"
      ],
      "text/plain": [
       "<IPython.core.display.HTML object>"
      ]
     },
     "metadata": {},
     "output_type": "display_data"
    },
    {
     "data": {
      "text/html": [
       "Find logs at: <code>./wandb/run-20220818_002519-1cmwyjr7/logs</code>"
      ],
      "text/plain": [
       "<IPython.core.display.HTML object>"
      ]
     },
     "metadata": {},
     "output_type": "display_data"
    },
    {
     "name": "stdout",
     "output_type": "stream",
     "text": [
      "dr-0.5,arch-[512, 256],bs-16,seed-20,index-1,epoch-15\n"
     ]
    },
    {
     "data": {
      "text/html": [
       "Tracking run with wandb version 0.13.1"
      ],
      "text/plain": [
       "<IPython.core.display.HTML object>"
      ]
     },
     "metadata": {},
     "output_type": "display_data"
    },
    {
     "data": {
      "text/html": [
       "Run data is saved locally in <code>/home/jupyter/wandb/run-20220818_002634-3nbbiis5</code>"
      ],
      "text/plain": [
       "<IPython.core.display.HTML object>"
      ]
     },
     "metadata": {},
     "output_type": "display_data"
    },
    {
     "data": {
      "text/html": [
       "Syncing run <strong><a href=\"https://wandb.ai/miraclelinzzz/Final-ensemble/runs/3nbbiis5\" target=\"_blank\">electric-fog-108</a></strong> to <a href=\"https://wandb.ai/miraclelinzzz/Final-ensemble\" target=\"_blank\">Weights & Biases</a> (<a href=\"https://wandb.me/run\" target=\"_blank\">docs</a>)<br/>"
      ],
      "text/plain": [
       "<IPython.core.display.HTML object>"
      ]
     },
     "metadata": {},
     "output_type": "display_data"
    },
    {
     "data": {
      "text/html": [
       "Waiting for W&B process to finish... <strong style=\"color:green\">(success).</strong>"
      ],
      "text/plain": [
       "<IPython.core.display.HTML object>"
      ]
     },
     "metadata": {},
     "output_type": "display_data"
    },
    {
     "data": {
      "text/html": [
       "<style>\n",
       "    table.wandb td:nth-child(1) { padding: 0 10px; text-align: left ; width: auto;} td:nth-child(2) {text-align: left ; width: 100%}\n",
       "    .wandb-row { display: flex; flex-direction: row; flex-wrap: wrap; justify-content: flex-start; width: 100% }\n",
       "    .wandb-col { display: flex; flex-direction: column; flex-basis: 100%; flex: 1; padding: 10px; }\n",
       "    </style>\n",
       "<div class=\"wandb-row\"><div class=\"wandb-col\"><h3>Run history:</h3><br/><table class=\"wandb\"><tr><td>Training Acc</td><td>▁▁▂▃▅▆▆▇▇██████</td></tr><tr><td>Training Loss</td><td>█▇▇▆▅▄▃▃▂▂▁▂▂▁▁</td></tr><tr><td>Validation Acc</td><td>▃▃▁▆▄▄▅▄▅▅▇████</td></tr><tr><td>Validation Loss</td><td>█▇▇▅▄▅▇▄▇█▃▂▁▁▃</td></tr></table><br/></div><div class=\"wandb-col\"><h3>Run summary:</h3><br/><table class=\"wandb\"><tr><td>Training Acc</td><td>1.0</td></tr><tr><td>Training Loss</td><td>0.07744</td></tr><tr><td>Validation Acc</td><td>0.89583</td></tr><tr><td>Validation Loss</td><td>0.42681</td></tr><tr><td>test_accuracy</td><td>0.83393</td></tr><tr><td>test_losss</td><td>0.41915</td></tr></table><br/></div></div>"
      ],
      "text/plain": [
       "<IPython.core.display.HTML object>"
      ]
     },
     "metadata": {},
     "output_type": "display_data"
    },
    {
     "data": {
      "text/html": [
       "Synced <strong style=\"color:#cdcd00\">electric-fog-108</strong>: <a href=\"https://wandb.ai/miraclelinzzz/Final-ensemble/runs/3nbbiis5\" target=\"_blank\">https://wandb.ai/miraclelinzzz/Final-ensemble/runs/3nbbiis5</a><br/>Synced 5 W&B file(s), 0 media file(s), 0 artifact file(s) and 0 other file(s)"
      ],
      "text/plain": [
       "<IPython.core.display.HTML object>"
      ]
     },
     "metadata": {},
     "output_type": "display_data"
    },
    {
     "data": {
      "text/html": [
       "Find logs at: <code>./wandb/run-20220818_002634-3nbbiis5/logs</code>"
      ],
      "text/plain": [
       "<IPython.core.display.HTML object>"
      ]
     },
     "metadata": {},
     "output_type": "display_data"
    },
    {
     "name": "stdout",
     "output_type": "stream",
     "text": [
      "dr-0.5,arch-[512, 256],bs-16,seed-20,index-2,epoch-15\n"
     ]
    },
    {
     "data": {
      "text/html": [
       "Tracking run with wandb version 0.13.1"
      ],
      "text/plain": [
       "<IPython.core.display.HTML object>"
      ]
     },
     "metadata": {},
     "output_type": "display_data"
    },
    {
     "data": {
      "text/html": [
       "Run data is saved locally in <code>/home/jupyter/wandb/run-20220818_002748-2964uokq</code>"
      ],
      "text/plain": [
       "<IPython.core.display.HTML object>"
      ]
     },
     "metadata": {},
     "output_type": "display_data"
    },
    {
     "data": {
      "text/html": [
       "Syncing run <strong><a href=\"https://wandb.ai/miraclelinzzz/Final-ensemble/runs/2964uokq\" target=\"_blank\">good-voice-109</a></strong> to <a href=\"https://wandb.ai/miraclelinzzz/Final-ensemble\" target=\"_blank\">Weights & Biases</a> (<a href=\"https://wandb.me/run\" target=\"_blank\">docs</a>)<br/>"
      ],
      "text/plain": [
       "<IPython.core.display.HTML object>"
      ]
     },
     "metadata": {},
     "output_type": "display_data"
    },
    {
     "data": {
      "text/html": [
       "Waiting for W&B process to finish... <strong style=\"color:green\">(success).</strong>"
      ],
      "text/plain": [
       "<IPython.core.display.HTML object>"
      ]
     },
     "metadata": {},
     "output_type": "display_data"
    },
    {
     "data": {
      "text/html": [
       "<style>\n",
       "    table.wandb td:nth-child(1) { padding: 0 10px; text-align: left ; width: auto;} td:nth-child(2) {text-align: left ; width: 100%}\n",
       "    .wandb-row { display: flex; flex-direction: row; flex-wrap: wrap; justify-content: flex-start; width: 100% }\n",
       "    .wandb-col { display: flex; flex-direction: column; flex-basis: 100%; flex: 1; padding: 10px; }\n",
       "    </style>\n",
       "<div class=\"wandb-row\"><div class=\"wandb-col\"><h3>Run history:</h3><br/><table class=\"wandb\"><tr><td>Training Acc</td><td>▁▁▃▃▅▆▇▇███▇███</td></tr><tr><td>Training Loss</td><td>██▇▆▆▄▃▃▂▂▁▂▁▁▁</td></tr><tr><td>Validation Acc</td><td>▁▁▆▇██▅▆▇▇▅▇▇▇▇</td></tr><tr><td>Validation Loss</td><td>▆▅▄▃▁▃█▆▂▄▆▂▂▂▂</td></tr></table><br/></div><div class=\"wandb-col\"><h3>Run summary:</h3><br/><table class=\"wandb\"><tr><td>Training Acc</td><td>1.0</td></tr><tr><td>Training Loss</td><td>0.08531</td></tr><tr><td>Validation Acc</td><td>0.85417</td></tr><tr><td>Validation Loss</td><td>0.405</td></tr><tr><td>test_accuracy</td><td>0.83393</td></tr><tr><td>test_losss</td><td>0.46033</td></tr></table><br/></div></div>"
      ],
      "text/plain": [
       "<IPython.core.display.HTML object>"
      ]
     },
     "metadata": {},
     "output_type": "display_data"
    },
    {
     "data": {
      "text/html": [
       "Synced <strong style=\"color:#cdcd00\">good-voice-109</strong>: <a href=\"https://wandb.ai/miraclelinzzz/Final-ensemble/runs/2964uokq\" target=\"_blank\">https://wandb.ai/miraclelinzzz/Final-ensemble/runs/2964uokq</a><br/>Synced 5 W&B file(s), 0 media file(s), 0 artifact file(s) and 0 other file(s)"
      ],
      "text/plain": [
       "<IPython.core.display.HTML object>"
      ]
     },
     "metadata": {},
     "output_type": "display_data"
    },
    {
     "data": {
      "text/html": [
       "Find logs at: <code>./wandb/run-20220818_002748-2964uokq/logs</code>"
      ],
      "text/plain": [
       "<IPython.core.display.HTML object>"
      ]
     },
     "metadata": {},
     "output_type": "display_data"
    },
    {
     "name": "stdout",
     "output_type": "stream",
     "text": [
      "dr-0.5,arch-[512, 256],bs-16,seed-20,index-3,epoch-15\n"
     ]
    },
    {
     "data": {
      "text/html": [
       "Tracking run with wandb version 0.13.1"
      ],
      "text/plain": [
       "<IPython.core.display.HTML object>"
      ]
     },
     "metadata": {},
     "output_type": "display_data"
    },
    {
     "data": {
      "text/html": [
       "Run data is saved locally in <code>/home/jupyter/wandb/run-20220818_002901-gfc7okb1</code>"
      ],
      "text/plain": [
       "<IPython.core.display.HTML object>"
      ]
     },
     "metadata": {},
     "output_type": "display_data"
    },
    {
     "data": {
      "text/html": [
       "Syncing run <strong><a href=\"https://wandb.ai/miraclelinzzz/Final-ensemble/runs/gfc7okb1\" target=\"_blank\">golden-frog-110</a></strong> to <a href=\"https://wandb.ai/miraclelinzzz/Final-ensemble\" target=\"_blank\">Weights & Biases</a> (<a href=\"https://wandb.me/run\" target=\"_blank\">docs</a>)<br/>"
      ],
      "text/plain": [
       "<IPython.core.display.HTML object>"
      ]
     },
     "metadata": {},
     "output_type": "display_data"
    },
    {
     "data": {
      "text/html": [
       "Waiting for W&B process to finish... <strong style=\"color:green\">(success).</strong>"
      ],
      "text/plain": [
       "<IPython.core.display.HTML object>"
      ]
     },
     "metadata": {},
     "output_type": "display_data"
    },
    {
     "data": {
      "text/html": [
       "<style>\n",
       "    table.wandb td:nth-child(1) { padding: 0 10px; text-align: left ; width: auto;} td:nth-child(2) {text-align: left ; width: 100%}\n",
       "    .wandb-row { display: flex; flex-direction: row; flex-wrap: wrap; justify-content: flex-start; width: 100% }\n",
       "    .wandb-col { display: flex; flex-direction: column; flex-basis: 100%; flex: 1; padding: 10px; }\n",
       "    </style>\n",
       "<div class=\"wandb-row\"><div class=\"wandb-col\"><h3>Run history:</h3><br/><table class=\"wandb\"><tr><td>Training Acc</td><td>▁▂▄▅▅▇▇▇███████</td></tr><tr><td>Training Loss</td><td>██▇▅▅▃▂▃▂▂▁▂▁▁▁</td></tr><tr><td>Validation Acc</td><td>▁▁▄▅▆▃▇▇▇▇██▆█▆</td></tr><tr><td>Validation Loss</td><td>▆▅▆▃▃█▂▁▅▂▁▁▆▁▅</td></tr></table><br/></div><div class=\"wandb-col\"><h3>Run summary:</h3><br/><table class=\"wandb\"><tr><td>Training Acc</td><td>1.0</td></tr><tr><td>Training Loss</td><td>0.09024</td></tr><tr><td>Validation Acc</td><td>0.75</td></tr><tr><td>Validation Loss</td><td>0.62724</td></tr><tr><td>test_accuracy</td><td>0.79286</td></tr><tr><td>test_losss</td><td>0.47702</td></tr></table><br/></div></div>"
      ],
      "text/plain": [
       "<IPython.core.display.HTML object>"
      ]
     },
     "metadata": {},
     "output_type": "display_data"
    },
    {
     "data": {
      "text/html": [
       "Synced <strong style=\"color:#cdcd00\">golden-frog-110</strong>: <a href=\"https://wandb.ai/miraclelinzzz/Final-ensemble/runs/gfc7okb1\" target=\"_blank\">https://wandb.ai/miraclelinzzz/Final-ensemble/runs/gfc7okb1</a><br/>Synced 5 W&B file(s), 0 media file(s), 0 artifact file(s) and 0 other file(s)"
      ],
      "text/plain": [
       "<IPython.core.display.HTML object>"
      ]
     },
     "metadata": {},
     "output_type": "display_data"
    },
    {
     "data": {
      "text/html": [
       "Find logs at: <code>./wandb/run-20220818_002901-gfc7okb1/logs</code>"
      ],
      "text/plain": [
       "<IPython.core.display.HTML object>"
      ]
     },
     "metadata": {},
     "output_type": "display_data"
    },
    {
     "name": "stdout",
     "output_type": "stream",
     "text": [
      "dr-0.3,arch-[256, 64, 128],bs-16,seed-20,index-1,epoch-15\n"
     ]
    },
    {
     "data": {
      "text/html": [
       "Tracking run with wandb version 0.13.1"
      ],
      "text/plain": [
       "<IPython.core.display.HTML object>"
      ]
     },
     "metadata": {},
     "output_type": "display_data"
    },
    {
     "data": {
      "text/html": [
       "Run data is saved locally in <code>/home/jupyter/wandb/run-20220818_003016-3lkxvp5i</code>"
      ],
      "text/plain": [
       "<IPython.core.display.HTML object>"
      ]
     },
     "metadata": {},
     "output_type": "display_data"
    },
    {
     "data": {
      "text/html": [
       "Syncing run <strong><a href=\"https://wandb.ai/miraclelinzzz/Final-ensemble/runs/3lkxvp5i\" target=\"_blank\">lemon-dawn-111</a></strong> to <a href=\"https://wandb.ai/miraclelinzzz/Final-ensemble\" target=\"_blank\">Weights & Biases</a> (<a href=\"https://wandb.me/run\" target=\"_blank\">docs</a>)<br/>"
      ],
      "text/plain": [
       "<IPython.core.display.HTML object>"
      ]
     },
     "metadata": {},
     "output_type": "display_data"
    },
    {
     "data": {
      "text/html": [
       "Waiting for W&B process to finish... <strong style=\"color:green\">(success).</strong>"
      ],
      "text/plain": [
       "<IPython.core.display.HTML object>"
      ]
     },
     "metadata": {},
     "output_type": "display_data"
    },
    {
     "data": {
      "text/html": [
       "<style>\n",
       "    table.wandb td:nth-child(1) { padding: 0 10px; text-align: left ; width: auto;} td:nth-child(2) {text-align: left ; width: 100%}\n",
       "    .wandb-row { display: flex; flex-direction: row; flex-wrap: wrap; justify-content: flex-start; width: 100% }\n",
       "    .wandb-col { display: flex; flex-direction: column; flex-basis: 100%; flex: 1; padding: 10px; }\n",
       "    </style>\n",
       "<div class=\"wandb-row\"><div class=\"wandb-col\"><h3>Run history:</h3><br/><table class=\"wandb\"><tr><td>Training Acc</td><td>▁▂▃▃▃▂▅▅▆▇▅▆▆▆█</td></tr><tr><td>Training Loss</td><td>██▇▆▆▆▅▄▄▂▄▂▂▃▁</td></tr><tr><td>Validation Acc</td><td>▁▃▂▂▇▅▅▆▄▅▆██▇▃</td></tr><tr><td>Validation Loss</td><td>▇▆▆▆▄▃▄▄▆█▄▂▂▁▇</td></tr></table><br/></div><div class=\"wandb-col\"><h3>Run summary:</h3><br/><table class=\"wandb\"><tr><td>Training Acc</td><td>0.80556</td></tr><tr><td>Training Loss</td><td>0.35032</td></tr><tr><td>Validation Acc</td><td>0.52083</td></tr><tr><td>Validation Loss</td><td>0.73934</td></tr><tr><td>test_accuracy</td><td>0.74643</td></tr><tr><td>test_losss</td><td>0.46693</td></tr></table><br/></div></div>"
      ],
      "text/plain": [
       "<IPython.core.display.HTML object>"
      ]
     },
     "metadata": {},
     "output_type": "display_data"
    },
    {
     "data": {
      "text/html": [
       "Synced <strong style=\"color:#cdcd00\">lemon-dawn-111</strong>: <a href=\"https://wandb.ai/miraclelinzzz/Final-ensemble/runs/3lkxvp5i\" target=\"_blank\">https://wandb.ai/miraclelinzzz/Final-ensemble/runs/3lkxvp5i</a><br/>Synced 5 W&B file(s), 0 media file(s), 0 artifact file(s) and 0 other file(s)"
      ],
      "text/plain": [
       "<IPython.core.display.HTML object>"
      ]
     },
     "metadata": {},
     "output_type": "display_data"
    },
    {
     "data": {
      "text/html": [
       "Find logs at: <code>./wandb/run-20220818_003016-3lkxvp5i/logs</code>"
      ],
      "text/plain": [
       "<IPython.core.display.HTML object>"
      ]
     },
     "metadata": {},
     "output_type": "display_data"
    },
    {
     "name": "stdout",
     "output_type": "stream",
     "text": [
      "dr-0.3,arch-[256, 64, 128],bs-16,seed-20,index-2,epoch-15\n"
     ]
    },
    {
     "data": {
      "text/html": [
       "Tracking run with wandb version 0.13.1"
      ],
      "text/plain": [
       "<IPython.core.display.HTML object>"
      ]
     },
     "metadata": {},
     "output_type": "display_data"
    },
    {
     "data": {
      "text/html": [
       "Run data is saved locally in <code>/home/jupyter/wandb/run-20220818_003131-216rz5r5</code>"
      ],
      "text/plain": [
       "<IPython.core.display.HTML object>"
      ]
     },
     "metadata": {},
     "output_type": "display_data"
    },
    {
     "data": {
      "text/html": [
       "Syncing run <strong><a href=\"https://wandb.ai/miraclelinzzz/Final-ensemble/runs/216rz5r5\" target=\"_blank\">charmed-energy-112</a></strong> to <a href=\"https://wandb.ai/miraclelinzzz/Final-ensemble\" target=\"_blank\">Weights & Biases</a> (<a href=\"https://wandb.me/run\" target=\"_blank\">docs</a>)<br/>"
      ],
      "text/plain": [
       "<IPython.core.display.HTML object>"
      ]
     },
     "metadata": {},
     "output_type": "display_data"
    },
    {
     "data": {
      "text/html": [
       "Waiting for W&B process to finish... <strong style=\"color:green\">(success).</strong>"
      ],
      "text/plain": [
       "<IPython.core.display.HTML object>"
      ]
     },
     "metadata": {},
     "output_type": "display_data"
    },
    {
     "data": {
      "text/html": [
       "<style>\n",
       "    table.wandb td:nth-child(1) { padding: 0 10px; text-align: left ; width: auto;} td:nth-child(2) {text-align: left ; width: 100%}\n",
       "    .wandb-row { display: flex; flex-direction: row; flex-wrap: wrap; justify-content: flex-start; width: 100% }\n",
       "    .wandb-col { display: flex; flex-direction: column; flex-basis: 100%; flex: 1; padding: 10px; }\n",
       "    </style>\n",
       "<div class=\"wandb-row\"><div class=\"wandb-col\"><h3>Run history:</h3><br/><table class=\"wandb\"><tr><td>Training Acc</td><td>▁▂▂▂▃▄▄▆▅▄▇▇▇█▇</td></tr><tr><td>Training Loss</td><td>█▆▆▅▄▃▃▂▂▃▂▁▁▁▁</td></tr><tr><td>Validation Acc</td><td>▃▁▃▅▃█▇▇▄▆██▄▅▆</td></tr><tr><td>Validation Loss</td><td>██▆▅▅▃▃▁▅▅▁▁▄▄▅</td></tr></table><br/></div><div class=\"wandb-col\"><h3>Run summary:</h3><br/><table class=\"wandb\"><tr><td>Training Acc</td><td>0.75</td></tr><tr><td>Training Loss</td><td>0.35951</td></tr><tr><td>Validation Acc</td><td>0.6875</td></tr><tr><td>Validation Loss</td><td>0.59346</td></tr><tr><td>test_accuracy</td><td>0.73036</td></tr><tr><td>test_losss</td><td>0.49595</td></tr></table><br/></div></div>"
      ],
      "text/plain": [
       "<IPython.core.display.HTML object>"
      ]
     },
     "metadata": {},
     "output_type": "display_data"
    },
    {
     "data": {
      "text/html": [
       "Synced <strong style=\"color:#cdcd00\">charmed-energy-112</strong>: <a href=\"https://wandb.ai/miraclelinzzz/Final-ensemble/runs/216rz5r5\" target=\"_blank\">https://wandb.ai/miraclelinzzz/Final-ensemble/runs/216rz5r5</a><br/>Synced 5 W&B file(s), 0 media file(s), 0 artifact file(s) and 0 other file(s)"
      ],
      "text/plain": [
       "<IPython.core.display.HTML object>"
      ]
     },
     "metadata": {},
     "output_type": "display_data"
    },
    {
     "data": {
      "text/html": [
       "Find logs at: <code>./wandb/run-20220818_003131-216rz5r5/logs</code>"
      ],
      "text/plain": [
       "<IPython.core.display.HTML object>"
      ]
     },
     "metadata": {},
     "output_type": "display_data"
    },
    {
     "name": "stdout",
     "output_type": "stream",
     "text": [
      "dr-0.3,arch-[256, 64, 128],bs-16,seed-20,index-3,epoch-15\n"
     ]
    },
    {
     "data": {
      "text/html": [
       "Tracking run with wandb version 0.13.1"
      ],
      "text/plain": [
       "<IPython.core.display.HTML object>"
      ]
     },
     "metadata": {},
     "output_type": "display_data"
    },
    {
     "data": {
      "text/html": [
       "Run data is saved locally in <code>/home/jupyter/wandb/run-20220818_003244-34t0p2y5</code>"
      ],
      "text/plain": [
       "<IPython.core.display.HTML object>"
      ]
     },
     "metadata": {},
     "output_type": "display_data"
    },
    {
     "data": {
      "text/html": [
       "Syncing run <strong><a href=\"https://wandb.ai/miraclelinzzz/Final-ensemble/runs/34t0p2y5\" target=\"_blank\">easy-firefly-113</a></strong> to <a href=\"https://wandb.ai/miraclelinzzz/Final-ensemble\" target=\"_blank\">Weights & Biases</a> (<a href=\"https://wandb.me/run\" target=\"_blank\">docs</a>)<br/>"
      ],
      "text/plain": [
       "<IPython.core.display.HTML object>"
      ]
     },
     "metadata": {},
     "output_type": "display_data"
    },
    {
     "data": {
      "text/html": [
       "Waiting for W&B process to finish... <strong style=\"color:green\">(success).</strong>"
      ],
      "text/plain": [
       "<IPython.core.display.HTML object>"
      ]
     },
     "metadata": {},
     "output_type": "display_data"
    },
    {
     "data": {
      "text/html": [
       "<style>\n",
       "    table.wandb td:nth-child(1) { padding: 0 10px; text-align: left ; width: auto;} td:nth-child(2) {text-align: left ; width: 100%}\n",
       "    .wandb-row { display: flex; flex-direction: row; flex-wrap: wrap; justify-content: flex-start; width: 100% }\n",
       "    .wandb-col { display: flex; flex-direction: column; flex-basis: 100%; flex: 1; padding: 10px; }\n",
       "    </style>\n",
       "<div class=\"wandb-row\"><div class=\"wandb-col\"><h3>Run history:</h3><br/><table class=\"wandb\"><tr><td>Training Acc</td><td>▁▁▃▃▃▄▃▄▅▅▇▇▇▆█</td></tr><tr><td>Training Loss</td><td>█▆▆▅▅▄▅▄▃▃▂▂▂▁▁</td></tr><tr><td>Validation Acc</td><td>▆▁▄▄▅█▂█▅▇▄▆▇▇▇</td></tr><tr><td>Validation Loss</td><td>██▅▆▅▂▄▁▇▅█▅▆▄▃</td></tr></table><br/></div><div class=\"wandb-col\"><h3>Run summary:</h3><br/><table class=\"wandb\"><tr><td>Training Acc</td><td>0.83333</td></tr><tr><td>Training Loss</td><td>0.39973</td></tr><tr><td>Validation Acc</td><td>0.64583</td></tr><tr><td>Validation Loss</td><td>0.56165</td></tr><tr><td>test_accuracy</td><td>0.64286</td></tr><tr><td>test_losss</td><td>0.55939</td></tr></table><br/></div></div>"
      ],
      "text/plain": [
       "<IPython.core.display.HTML object>"
      ]
     },
     "metadata": {},
     "output_type": "display_data"
    },
    {
     "data": {
      "text/html": [
       "Synced <strong style=\"color:#cdcd00\">easy-firefly-113</strong>: <a href=\"https://wandb.ai/miraclelinzzz/Final-ensemble/runs/34t0p2y5\" target=\"_blank\">https://wandb.ai/miraclelinzzz/Final-ensemble/runs/34t0p2y5</a><br/>Synced 5 W&B file(s), 0 media file(s), 0 artifact file(s) and 0 other file(s)"
      ],
      "text/plain": [
       "<IPython.core.display.HTML object>"
      ]
     },
     "metadata": {},
     "output_type": "display_data"
    },
    {
     "data": {
      "text/html": [
       "Find logs at: <code>./wandb/run-20220818_003244-34t0p2y5/logs</code>"
      ],
      "text/plain": [
       "<IPython.core.display.HTML object>"
      ]
     },
     "metadata": {},
     "output_type": "display_data"
    },
    {
     "name": "stdout",
     "output_type": "stream",
     "text": [
      "dr-0.4,arch-[512, 256, 64],bs-16,seed-20,index-1,epoch-15\n"
     ]
    },
    {
     "data": {
      "text/html": [
       "Tracking run with wandb version 0.13.1"
      ],
      "text/plain": [
       "<IPython.core.display.HTML object>"
      ]
     },
     "metadata": {},
     "output_type": "display_data"
    },
    {
     "data": {
      "text/html": [
       "Run data is saved locally in <code>/home/jupyter/wandb/run-20220818_003359-1rauntgp</code>"
      ],
      "text/plain": [
       "<IPython.core.display.HTML object>"
      ]
     },
     "metadata": {},
     "output_type": "display_data"
    },
    {
     "data": {
      "text/html": [
       "Syncing run <strong><a href=\"https://wandb.ai/miraclelinzzz/Final-ensemble/runs/1rauntgp\" target=\"_blank\">upbeat-lion-114</a></strong> to <a href=\"https://wandb.ai/miraclelinzzz/Final-ensemble\" target=\"_blank\">Weights & Biases</a> (<a href=\"https://wandb.me/run\" target=\"_blank\">docs</a>)<br/>"
      ],
      "text/plain": [
       "<IPython.core.display.HTML object>"
      ]
     },
     "metadata": {},
     "output_type": "display_data"
    },
    {
     "data": {
      "text/html": [
       "Waiting for W&B process to finish... <strong style=\"color:green\">(success).</strong>"
      ],
      "text/plain": [
       "<IPython.core.display.HTML object>"
      ]
     },
     "metadata": {},
     "output_type": "display_data"
    },
    {
     "data": {
      "text/html": [
       "<style>\n",
       "    table.wandb td:nth-child(1) { padding: 0 10px; text-align: left ; width: auto;} td:nth-child(2) {text-align: left ; width: 100%}\n",
       "    .wandb-row { display: flex; flex-direction: row; flex-wrap: wrap; justify-content: flex-start; width: 100% }\n",
       "    .wandb-col { display: flex; flex-direction: column; flex-basis: 100%; flex: 1; padding: 10px; }\n",
       "    </style>\n",
       "<div class=\"wandb-row\"><div class=\"wandb-col\"><h3>Run history:</h3><br/><table class=\"wandb\"><tr><td>Training Acc</td><td>▁▁▂▃▃▄▅▄▆█▆▇█▆▇</td></tr><tr><td>Training Loss</td><td>█▆▆▆▅▅▄▃▃▃▂▂▁▂▁</td></tr><tr><td>Validation Acc</td><td>▁▆▃▆▆▄▇▇▇▅█▅▅▅▅</td></tr><tr><td>Validation Loss</td><td>█▆▇▆▃▆▃▂▂▂▁▂▂▁▃</td></tr></table><br/></div><div class=\"wandb-col\"><h3>Run summary:</h3><br/><table class=\"wandb\"><tr><td>Training Acc</td><td>0.6875</td></tr><tr><td>Training Loss</td><td>0.4182</td></tr><tr><td>Validation Acc</td><td>0.60417</td></tr><tr><td>Validation Loss</td><td>0.55483</td></tr><tr><td>test_accuracy</td><td>0.66786</td></tr><tr><td>test_losss</td><td>0.51432</td></tr></table><br/></div></div>"
      ],
      "text/plain": [
       "<IPython.core.display.HTML object>"
      ]
     },
     "metadata": {},
     "output_type": "display_data"
    },
    {
     "data": {
      "text/html": [
       "Synced <strong style=\"color:#cdcd00\">upbeat-lion-114</strong>: <a href=\"https://wandb.ai/miraclelinzzz/Final-ensemble/runs/1rauntgp\" target=\"_blank\">https://wandb.ai/miraclelinzzz/Final-ensemble/runs/1rauntgp</a><br/>Synced 5 W&B file(s), 0 media file(s), 0 artifact file(s) and 0 other file(s)"
      ],
      "text/plain": [
       "<IPython.core.display.HTML object>"
      ]
     },
     "metadata": {},
     "output_type": "display_data"
    },
    {
     "data": {
      "text/html": [
       "Find logs at: <code>./wandb/run-20220818_003359-1rauntgp/logs</code>"
      ],
      "text/plain": [
       "<IPython.core.display.HTML object>"
      ]
     },
     "metadata": {},
     "output_type": "display_data"
    },
    {
     "name": "stdout",
     "output_type": "stream",
     "text": [
      "dr-0.4,arch-[512, 256, 64],bs-16,seed-20,index-2,epoch-15\n"
     ]
    },
    {
     "data": {
      "text/html": [
       "Tracking run with wandb version 0.13.1"
      ],
      "text/plain": [
       "<IPython.core.display.HTML object>"
      ]
     },
     "metadata": {},
     "output_type": "display_data"
    },
    {
     "data": {
      "text/html": [
       "Run data is saved locally in <code>/home/jupyter/wandb/run-20220818_003513-10rk6pkr</code>"
      ],
      "text/plain": [
       "<IPython.core.display.HTML object>"
      ]
     },
     "metadata": {},
     "output_type": "display_data"
    },
    {
     "data": {
      "text/html": [
       "Syncing run <strong><a href=\"https://wandb.ai/miraclelinzzz/Final-ensemble/runs/10rk6pkr\" target=\"_blank\">jumping-sun-115</a></strong> to <a href=\"https://wandb.ai/miraclelinzzz/Final-ensemble\" target=\"_blank\">Weights & Biases</a> (<a href=\"https://wandb.me/run\" target=\"_blank\">docs</a>)<br/>"
      ],
      "text/plain": [
       "<IPython.core.display.HTML object>"
      ]
     },
     "metadata": {},
     "output_type": "display_data"
    },
    {
     "data": {
      "text/html": [
       "Waiting for W&B process to finish... <strong style=\"color:green\">(success).</strong>"
      ],
      "text/plain": [
       "<IPython.core.display.HTML object>"
      ]
     },
     "metadata": {},
     "output_type": "display_data"
    },
    {
     "data": {
      "text/html": [
       "<style>\n",
       "    table.wandb td:nth-child(1) { padding: 0 10px; text-align: left ; width: auto;} td:nth-child(2) {text-align: left ; width: 100%}\n",
       "    .wandb-row { display: flex; flex-direction: row; flex-wrap: wrap; justify-content: flex-start; width: 100% }\n",
       "    .wandb-col { display: flex; flex-direction: column; flex-basis: 100%; flex: 1; padding: 10px; }\n",
       "    </style>\n",
       "<div class=\"wandb-row\"><div class=\"wandb-col\"><h3>Run history:</h3><br/><table class=\"wandb\"><tr><td>Training Acc</td><td>▁▂▂▃▄▄▄▅▆▆▇███▇</td></tr><tr><td>Training Loss</td><td>█▇▇▆▅▅▅▅▃▃▃▁▁▁▁</td></tr><tr><td>Validation Acc</td><td>▃▅▁▃▆▅▅▆█▂▆▆▇▇▅</td></tr><tr><td>Validation Loss</td><td>▇▆█▅▅▂▃▃▃▆▁▁▂▂▁</td></tr></table><br/></div><div class=\"wandb-col\"><h3>Run summary:</h3><br/><table class=\"wandb\"><tr><td>Training Acc</td><td>0.86806</td></tr><tr><td>Training Loss</td><td>0.34599</td></tr><tr><td>Validation Acc</td><td>0.60417</td></tr><tr><td>Validation Loss</td><td>0.51319</td></tr><tr><td>test_accuracy</td><td>0.73929</td></tr><tr><td>test_losss</td><td>0.49472</td></tr></table><br/></div></div>"
      ],
      "text/plain": [
       "<IPython.core.display.HTML object>"
      ]
     },
     "metadata": {},
     "output_type": "display_data"
    },
    {
     "data": {
      "text/html": [
       "Synced <strong style=\"color:#cdcd00\">jumping-sun-115</strong>: <a href=\"https://wandb.ai/miraclelinzzz/Final-ensemble/runs/10rk6pkr\" target=\"_blank\">https://wandb.ai/miraclelinzzz/Final-ensemble/runs/10rk6pkr</a><br/>Synced 5 W&B file(s), 0 media file(s), 0 artifact file(s) and 0 other file(s)"
      ],
      "text/plain": [
       "<IPython.core.display.HTML object>"
      ]
     },
     "metadata": {},
     "output_type": "display_data"
    },
    {
     "data": {
      "text/html": [
       "Find logs at: <code>./wandb/run-20220818_003513-10rk6pkr/logs</code>"
      ],
      "text/plain": [
       "<IPython.core.display.HTML object>"
      ]
     },
     "metadata": {},
     "output_type": "display_data"
    },
    {
     "name": "stdout",
     "output_type": "stream",
     "text": [
      "dr-0.4,arch-[512, 256, 64],bs-16,seed-20,index-3,epoch-15\n"
     ]
    },
    {
     "data": {
      "text/html": [
       "Tracking run with wandb version 0.13.1"
      ],
      "text/plain": [
       "<IPython.core.display.HTML object>"
      ]
     },
     "metadata": {},
     "output_type": "display_data"
    },
    {
     "data": {
      "text/html": [
       "Run data is saved locally in <code>/home/jupyter/wandb/run-20220818_003626-3b2ndho1</code>"
      ],
      "text/plain": [
       "<IPython.core.display.HTML object>"
      ]
     },
     "metadata": {},
     "output_type": "display_data"
    },
    {
     "data": {
      "text/html": [
       "Syncing run <strong><a href=\"https://wandb.ai/miraclelinzzz/Final-ensemble/runs/3b2ndho1\" target=\"_blank\">graceful-sun-116</a></strong> to <a href=\"https://wandb.ai/miraclelinzzz/Final-ensemble\" target=\"_blank\">Weights & Biases</a> (<a href=\"https://wandb.me/run\" target=\"_blank\">docs</a>)<br/>"
      ],
      "text/plain": [
       "<IPython.core.display.HTML object>"
      ]
     },
     "metadata": {},
     "output_type": "display_data"
    },
    {
     "data": {
      "text/html": [
       "Waiting for W&B process to finish... <strong style=\"color:green\">(success).</strong>"
      ],
      "text/plain": [
       "<IPython.core.display.HTML object>"
      ]
     },
     "metadata": {},
     "output_type": "display_data"
    },
    {
     "data": {
      "text/html": [
       "<style>\n",
       "    table.wandb td:nth-child(1) { padding: 0 10px; text-align: left ; width: auto;} td:nth-child(2) {text-align: left ; width: 100%}\n",
       "    .wandb-row { display: flex; flex-direction: row; flex-wrap: wrap; justify-content: flex-start; width: 100% }\n",
       "    .wandb-col { display: flex; flex-direction: column; flex-basis: 100%; flex: 1; padding: 10px; }\n",
       "    </style>\n",
       "<div class=\"wandb-row\"><div class=\"wandb-col\"><h3>Run history:</h3><br/><table class=\"wandb\"><tr><td>Training Acc</td><td>▁▂▂▁▂▃▂▄▅▅▅▇▇█▇</td></tr><tr><td>Training Loss</td><td>████▇▆▆▅▃▄▃▂▂▁▂</td></tr><tr><td>Validation Acc</td><td>▁▃▁▅▄▆▆▇▇▄▅▄▆██</td></tr><tr><td>Validation Loss</td><td>██▇▆▇▆▅▂▃▃▂█▂▃▁</td></tr></table><br/></div><div class=\"wandb-col\"><h3>Run summary:</h3><br/><table class=\"wandb\"><tr><td>Training Acc</td><td>0.75</td></tr><tr><td>Training Loss</td><td>0.43903</td></tr><tr><td>Validation Acc</td><td>0.79167</td></tr><tr><td>Validation Loss</td><td>0.46052</td></tr><tr><td>test_accuracy</td><td>0.70536</td></tr><tr><td>test_losss</td><td>0.49701</td></tr></table><br/></div></div>"
      ],
      "text/plain": [
       "<IPython.core.display.HTML object>"
      ]
     },
     "metadata": {},
     "output_type": "display_data"
    },
    {
     "data": {
      "text/html": [
       "Synced <strong style=\"color:#cdcd00\">graceful-sun-116</strong>: <a href=\"https://wandb.ai/miraclelinzzz/Final-ensemble/runs/3b2ndho1\" target=\"_blank\">https://wandb.ai/miraclelinzzz/Final-ensemble/runs/3b2ndho1</a><br/>Synced 5 W&B file(s), 0 media file(s), 0 artifact file(s) and 0 other file(s)"
      ],
      "text/plain": [
       "<IPython.core.display.HTML object>"
      ]
     },
     "metadata": {},
     "output_type": "display_data"
    },
    {
     "data": {
      "text/html": [
       "Find logs at: <code>./wandb/run-20220818_003626-3b2ndho1/logs</code>"
      ],
      "text/plain": [
       "<IPython.core.display.HTML object>"
      ]
     },
     "metadata": {},
     "output_type": "display_data"
    },
    {
     "name": "stdout",
     "output_type": "stream",
     "text": [
      "dr-0.5,arch-[128],bs-16,seed-20,index-1,epoch-15\n"
     ]
    },
    {
     "data": {
      "text/html": [
       "Tracking run with wandb version 0.13.1"
      ],
      "text/plain": [
       "<IPython.core.display.HTML object>"
      ]
     },
     "metadata": {},
     "output_type": "display_data"
    },
    {
     "data": {
      "text/html": [
       "Run data is saved locally in <code>/home/jupyter/wandb/run-20220818_003741-1pu4bwwx</code>"
      ],
      "text/plain": [
       "<IPython.core.display.HTML object>"
      ]
     },
     "metadata": {},
     "output_type": "display_data"
    },
    {
     "data": {
      "text/html": [
       "Syncing run <strong><a href=\"https://wandb.ai/miraclelinzzz/Final-ensemble/runs/1pu4bwwx\" target=\"_blank\">vivid-galaxy-117</a></strong> to <a href=\"https://wandb.ai/miraclelinzzz/Final-ensemble\" target=\"_blank\">Weights & Biases</a> (<a href=\"https://wandb.me/run\" target=\"_blank\">docs</a>)<br/>"
      ],
      "text/plain": [
       "<IPython.core.display.HTML object>"
      ]
     },
     "metadata": {},
     "output_type": "display_data"
    },
    {
     "data": {
      "text/html": [
       "Waiting for W&B process to finish... <strong style=\"color:green\">(success).</strong>"
      ],
      "text/plain": [
       "<IPython.core.display.HTML object>"
      ]
     },
     "metadata": {},
     "output_type": "display_data"
    },
    {
     "data": {
      "text/html": [
       "<style>\n",
       "    table.wandb td:nth-child(1) { padding: 0 10px; text-align: left ; width: auto;} td:nth-child(2) {text-align: left ; width: 100%}\n",
       "    .wandb-row { display: flex; flex-direction: row; flex-wrap: wrap; justify-content: flex-start; width: 100% }\n",
       "    .wandb-col { display: flex; flex-direction: column; flex-basis: 100%; flex: 1; padding: 10px; }\n",
       "    </style>\n",
       "<div class=\"wandb-row\"><div class=\"wandb-col\"><h3>Run history:</h3><br/><table class=\"wandb\"><tr><td>Training Acc</td><td>▁▄▆▆██▆█▇██████</td></tr><tr><td>Training Loss</td><td>█▅▄▄▂▁▂▁▂▁▁▁▁▁▁</td></tr><tr><td>Validation Acc</td><td>▄▁▂▆█▆▆█▇███▅▇▇</td></tr><tr><td>Validation Loss</td><td>▄▃▄▄▁▄█▁▂▁▁▁▅▂▂</td></tr></table><br/></div><div class=\"wandb-col\"><h3>Run summary:</h3><br/><table class=\"wandb\"><tr><td>Training Acc</td><td>1.0</td></tr><tr><td>Training Loss</td><td>0.0873</td></tr><tr><td>Validation Acc</td><td>0.85417</td></tr><tr><td>Validation Loss</td><td>0.47094</td></tr><tr><td>test_accuracy</td><td>0.80893</td></tr><tr><td>test_losss</td><td>0.52585</td></tr></table><br/></div></div>"
      ],
      "text/plain": [
       "<IPython.core.display.HTML object>"
      ]
     },
     "metadata": {},
     "output_type": "display_data"
    },
    {
     "data": {
      "text/html": [
       "Synced <strong style=\"color:#cdcd00\">vivid-galaxy-117</strong>: <a href=\"https://wandb.ai/miraclelinzzz/Final-ensemble/runs/1pu4bwwx\" target=\"_blank\">https://wandb.ai/miraclelinzzz/Final-ensemble/runs/1pu4bwwx</a><br/>Synced 5 W&B file(s), 0 media file(s), 0 artifact file(s) and 0 other file(s)"
      ],
      "text/plain": [
       "<IPython.core.display.HTML object>"
      ]
     },
     "metadata": {},
     "output_type": "display_data"
    },
    {
     "data": {
      "text/html": [
       "Find logs at: <code>./wandb/run-20220818_003741-1pu4bwwx/logs</code>"
      ],
      "text/plain": [
       "<IPython.core.display.HTML object>"
      ]
     },
     "metadata": {},
     "output_type": "display_data"
    },
    {
     "name": "stdout",
     "output_type": "stream",
     "text": [
      "dr-0.5,arch-[128],bs-16,seed-20,index-2,epoch-15\n"
     ]
    },
    {
     "data": {
      "text/html": [
       "Tracking run with wandb version 0.13.1"
      ],
      "text/plain": [
       "<IPython.core.display.HTML object>"
      ]
     },
     "metadata": {},
     "output_type": "display_data"
    },
    {
     "data": {
      "text/html": [
       "Run data is saved locally in <code>/home/jupyter/wandb/run-20220818_003856-3fqauw08</code>"
      ],
      "text/plain": [
       "<IPython.core.display.HTML object>"
      ]
     },
     "metadata": {},
     "output_type": "display_data"
    },
    {
     "data": {
      "text/html": [
       "Syncing run <strong><a href=\"https://wandb.ai/miraclelinzzz/Final-ensemble/runs/3fqauw08\" target=\"_blank\">vague-galaxy-118</a></strong> to <a href=\"https://wandb.ai/miraclelinzzz/Final-ensemble\" target=\"_blank\">Weights & Biases</a> (<a href=\"https://wandb.me/run\" target=\"_blank\">docs</a>)<br/>"
      ],
      "text/plain": [
       "<IPython.core.display.HTML object>"
      ]
     },
     "metadata": {},
     "output_type": "display_data"
    },
    {
     "data": {
      "text/html": [
       "Waiting for W&B process to finish... <strong style=\"color:green\">(success).</strong>"
      ],
      "text/plain": [
       "<IPython.core.display.HTML object>"
      ]
     },
     "metadata": {},
     "output_type": "display_data"
    },
    {
     "data": {
      "text/html": [
       "<style>\n",
       "    table.wandb td:nth-child(1) { padding: 0 10px; text-align: left ; width: auto;} td:nth-child(2) {text-align: left ; width: 100%}\n",
       "    .wandb-row { display: flex; flex-direction: row; flex-wrap: wrap; justify-content: flex-start; width: 100% }\n",
       "    .wandb-col { display: flex; flex-direction: column; flex-basis: 100%; flex: 1; padding: 10px; }\n",
       "    </style>\n",
       "<div class=\"wandb-row\"><div class=\"wandb-col\"><h3>Run history:</h3><br/><table class=\"wandb\"><tr><td>Training Acc</td><td>▁▃▅▆███████████</td></tr><tr><td>Training Loss</td><td>█▇▅▄▂▁▁▁▁▁▁▁▁▁▁</td></tr><tr><td>Validation Acc</td><td>▁▂▆▂▇▇▃▄▃▇▇█▄▄▃</td></tr><tr><td>Validation Loss</td><td>▄▃▂▅▁▃▇█▇▁▂▃▇█▆</td></tr></table><br/></div><div class=\"wandb-col\"><h3>Run summary:</h3><br/><table class=\"wandb\"><tr><td>Training Acc</td><td>1.0</td></tr><tr><td>Training Loss</td><td>0.07034</td></tr><tr><td>Validation Acc</td><td>0.70833</td></tr><tr><td>Validation Loss</td><td>0.80585</td></tr><tr><td>test_accuracy</td><td>0.80536</td></tr><tr><td>test_losss</td><td>0.52019</td></tr></table><br/></div></div>"
      ],
      "text/plain": [
       "<IPython.core.display.HTML object>"
      ]
     },
     "metadata": {},
     "output_type": "display_data"
    },
    {
     "data": {
      "text/html": [
       "Synced <strong style=\"color:#cdcd00\">vague-galaxy-118</strong>: <a href=\"https://wandb.ai/miraclelinzzz/Final-ensemble/runs/3fqauw08\" target=\"_blank\">https://wandb.ai/miraclelinzzz/Final-ensemble/runs/3fqauw08</a><br/>Synced 5 W&B file(s), 0 media file(s), 0 artifact file(s) and 0 other file(s)"
      ],
      "text/plain": [
       "<IPython.core.display.HTML object>"
      ]
     },
     "metadata": {},
     "output_type": "display_data"
    },
    {
     "data": {
      "text/html": [
       "Find logs at: <code>./wandb/run-20220818_003856-3fqauw08/logs</code>"
      ],
      "text/plain": [
       "<IPython.core.display.HTML object>"
      ]
     },
     "metadata": {},
     "output_type": "display_data"
    },
    {
     "name": "stdout",
     "output_type": "stream",
     "text": [
      "dr-0.5,arch-[128],bs-16,seed-20,index-3,epoch-15\n"
     ]
    },
    {
     "data": {
      "text/html": [
       "Tracking run with wandb version 0.13.1"
      ],
      "text/plain": [
       "<IPython.core.display.HTML object>"
      ]
     },
     "metadata": {},
     "output_type": "display_data"
    },
    {
     "data": {
      "text/html": [
       "Run data is saved locally in <code>/home/jupyter/wandb/run-20220818_004010-18zgfajt</code>"
      ],
      "text/plain": [
       "<IPython.core.display.HTML object>"
      ]
     },
     "metadata": {},
     "output_type": "display_data"
    },
    {
     "data": {
      "text/html": [
       "Syncing run <strong><a href=\"https://wandb.ai/miraclelinzzz/Final-ensemble/runs/18zgfajt\" target=\"_blank\">lemon-bird-119</a></strong> to <a href=\"https://wandb.ai/miraclelinzzz/Final-ensemble\" target=\"_blank\">Weights & Biases</a> (<a href=\"https://wandb.me/run\" target=\"_blank\">docs</a>)<br/>"
      ],
      "text/plain": [
       "<IPython.core.display.HTML object>"
      ]
     },
     "metadata": {},
     "output_type": "display_data"
    },
    {
     "data": {
      "text/html": [
       "Waiting for W&B process to finish... <strong style=\"color:green\">(success).</strong>"
      ],
      "text/plain": [
       "<IPython.core.display.HTML object>"
      ]
     },
     "metadata": {},
     "output_type": "display_data"
    },
    {
     "data": {
      "text/html": [
       "<style>\n",
       "    table.wandb td:nth-child(1) { padding: 0 10px; text-align: left ; width: auto;} td:nth-child(2) {text-align: left ; width: 100%}\n",
       "    .wandb-row { display: flex; flex-direction: row; flex-wrap: wrap; justify-content: flex-start; width: 100% }\n",
       "    .wandb-col { display: flex; flex-direction: column; flex-basis: 100%; flex: 1; padding: 10px; }\n",
       "    </style>\n",
       "<div class=\"wandb-row\"><div class=\"wandb-col\"><h3>Run history:</h3><br/><table class=\"wandb\"><tr><td>Training Acc</td><td>▁▃▄▇▇██████████</td></tr><tr><td>Training Loss</td><td>█▇▆▄▂▂▁▁▂▁▁▁▁▁▁</td></tr><tr><td>Validation Acc</td><td>▂▁▅▁▂▅▇▇█▆█▆█▆▆</td></tr><tr><td>Validation Loss</td><td>▄▄▃█▅▄▂▃▁▆▁▄▁▁▄</td></tr></table><br/></div><div class=\"wandb-col\"><h3>Run summary:</h3><br/><table class=\"wandb\"><tr><td>Training Acc</td><td>1.0</td></tr><tr><td>Training Loss</td><td>0.05813</td></tr><tr><td>Validation Acc</td><td>0.75</td></tr><tr><td>Validation Loss</td><td>0.74757</td></tr><tr><td>test_accuracy</td><td>0.78036</td></tr><tr><td>test_losss</td><td>0.55089</td></tr></table><br/></div></div>"
      ],
      "text/plain": [
       "<IPython.core.display.HTML object>"
      ]
     },
     "metadata": {},
     "output_type": "display_data"
    },
    {
     "data": {
      "text/html": [
       "Synced <strong style=\"color:#cdcd00\">lemon-bird-119</strong>: <a href=\"https://wandb.ai/miraclelinzzz/Final-ensemble/runs/18zgfajt\" target=\"_blank\">https://wandb.ai/miraclelinzzz/Final-ensemble/runs/18zgfajt</a><br/>Synced 5 W&B file(s), 0 media file(s), 0 artifact file(s) and 0 other file(s)"
      ],
      "text/plain": [
       "<IPython.core.display.HTML object>"
      ]
     },
     "metadata": {},
     "output_type": "display_data"
    },
    {
     "data": {
      "text/html": [
       "Find logs at: <code>./wandb/run-20220818_004010-18zgfajt/logs</code>"
      ],
      "text/plain": [
       "<IPython.core.display.HTML object>"
      ]
     },
     "metadata": {},
     "output_type": "display_data"
    },
    {
     "name": "stdout",
     "output_type": "stream",
     "text": [
      "dr-0.3,arch-[64, 512],bs-16,seed-20,index-1,epoch-15\n"
     ]
    },
    {
     "data": {
      "text/html": [
       "Tracking run with wandb version 0.13.1"
      ],
      "text/plain": [
       "<IPython.core.display.HTML object>"
      ]
     },
     "metadata": {},
     "output_type": "display_data"
    },
    {
     "data": {
      "text/html": [
       "Run data is saved locally in <code>/home/jupyter/wandb/run-20220818_004124-2okpn0fq</code>"
      ],
      "text/plain": [
       "<IPython.core.display.HTML object>"
      ]
     },
     "metadata": {},
     "output_type": "display_data"
    },
    {
     "data": {
      "text/html": [
       "Syncing run <strong><a href=\"https://wandb.ai/miraclelinzzz/Final-ensemble/runs/2okpn0fq\" target=\"_blank\">chocolate-sea-120</a></strong> to <a href=\"https://wandb.ai/miraclelinzzz/Final-ensemble\" target=\"_blank\">Weights & Biases</a> (<a href=\"https://wandb.me/run\" target=\"_blank\">docs</a>)<br/>"
      ],
      "text/plain": [
       "<IPython.core.display.HTML object>"
      ]
     },
     "metadata": {},
     "output_type": "display_data"
    },
    {
     "data": {
      "text/html": [
       "Waiting for W&B process to finish... <strong style=\"color:green\">(success).</strong>"
      ],
      "text/plain": [
       "<IPython.core.display.HTML object>"
      ]
     },
     "metadata": {},
     "output_type": "display_data"
    },
    {
     "data": {
      "text/html": [
       "<style>\n",
       "    table.wandb td:nth-child(1) { padding: 0 10px; text-align: left ; width: auto;} td:nth-child(2) {text-align: left ; width: 100%}\n",
       "    .wandb-row { display: flex; flex-direction: row; flex-wrap: wrap; justify-content: flex-start; width: 100% }\n",
       "    .wandb-col { display: flex; flex-direction: column; flex-basis: 100%; flex: 1; padding: 10px; }\n",
       "    </style>\n",
       "<div class=\"wandb-row\"><div class=\"wandb-col\"><h3>Run history:</h3><br/><table class=\"wandb\"><tr><td>Training Acc</td><td>▁▂▄▄▅▅▆▆▇███▇▇█</td></tr><tr><td>Training Loss</td><td>█▇▆▅▄▄▃▃▂▂▂▁▂▁▁</td></tr><tr><td>Validation Acc</td><td>▄▁▇▄██▅█▇█▇▂██▅</td></tr><tr><td>Validation Loss</td><td>██▆▄▄▃▄▂▂▂▁▇▁▁▆</td></tr></table><br/></div><div class=\"wandb-col\"><h3>Run summary:</h3><br/><table class=\"wandb\"><tr><td>Training Acc</td><td>0.99306</td></tr><tr><td>Training Loss</td><td>0.21687</td></tr><tr><td>Validation Acc</td><td>0.70833</td></tr><tr><td>Validation Loss</td><td>0.60621</td></tr><tr><td>test_accuracy</td><td>0.80536</td></tr><tr><td>test_losss</td><td>0.41848</td></tr></table><br/></div></div>"
      ],
      "text/plain": [
       "<IPython.core.display.HTML object>"
      ]
     },
     "metadata": {},
     "output_type": "display_data"
    },
    {
     "data": {
      "text/html": [
       "Synced <strong style=\"color:#cdcd00\">chocolate-sea-120</strong>: <a href=\"https://wandb.ai/miraclelinzzz/Final-ensemble/runs/2okpn0fq\" target=\"_blank\">https://wandb.ai/miraclelinzzz/Final-ensemble/runs/2okpn0fq</a><br/>Synced 5 W&B file(s), 0 media file(s), 0 artifact file(s) and 0 other file(s)"
      ],
      "text/plain": [
       "<IPython.core.display.HTML object>"
      ]
     },
     "metadata": {},
     "output_type": "display_data"
    },
    {
     "data": {
      "text/html": [
       "Find logs at: <code>./wandb/run-20220818_004124-2okpn0fq/logs</code>"
      ],
      "text/plain": [
       "<IPython.core.display.HTML object>"
      ]
     },
     "metadata": {},
     "output_type": "display_data"
    },
    {
     "name": "stdout",
     "output_type": "stream",
     "text": [
      "dr-0.3,arch-[64, 512],bs-16,seed-20,index-2,epoch-15\n"
     ]
    },
    {
     "data": {
      "text/html": [
       "Tracking run with wandb version 0.13.1"
      ],
      "text/plain": [
       "<IPython.core.display.HTML object>"
      ]
     },
     "metadata": {},
     "output_type": "display_data"
    },
    {
     "data": {
      "text/html": [
       "Run data is saved locally in <code>/home/jupyter/wandb/run-20220818_004238-1cl1i2x4</code>"
      ],
      "text/plain": [
       "<IPython.core.display.HTML object>"
      ]
     },
     "metadata": {},
     "output_type": "display_data"
    },
    {
     "data": {
      "text/html": [
       "Syncing run <strong><a href=\"https://wandb.ai/miraclelinzzz/Final-ensemble/runs/1cl1i2x4\" target=\"_blank\">silver-energy-121</a></strong> to <a href=\"https://wandb.ai/miraclelinzzz/Final-ensemble\" target=\"_blank\">Weights & Biases</a> (<a href=\"https://wandb.me/run\" target=\"_blank\">docs</a>)<br/>"
      ],
      "text/plain": [
       "<IPython.core.display.HTML object>"
      ]
     },
     "metadata": {},
     "output_type": "display_data"
    },
    {
     "data": {
      "text/html": [
       "Waiting for W&B process to finish... <strong style=\"color:green\">(success).</strong>"
      ],
      "text/plain": [
       "<IPython.core.display.HTML object>"
      ]
     },
     "metadata": {},
     "output_type": "display_data"
    },
    {
     "data": {
      "text/html": [
       "<style>\n",
       "    table.wandb td:nth-child(1) { padding: 0 10px; text-align: left ; width: auto;} td:nth-child(2) {text-align: left ; width: 100%}\n",
       "    .wandb-row { display: flex; flex-direction: row; flex-wrap: wrap; justify-content: flex-start; width: 100% }\n",
       "    .wandb-col { display: flex; flex-direction: column; flex-basis: 100%; flex: 1; padding: 10px; }\n",
       "    </style>\n",
       "<div class=\"wandb-row\"><div class=\"wandb-col\"><h3>Run history:</h3><br/><table class=\"wandb\"><tr><td>Training Acc</td><td>▁▁▄▄▅▆▇▇▇██████</td></tr><tr><td>Training Loss</td><td>█▇▆▆▅▄▃▂▂▂▂▂▁▁▁</td></tr><tr><td>Validation Acc</td><td>▁▁▂█▅▄▆█████▅██</td></tr><tr><td>Validation Loss</td><td>█▇▆▅▄▄▆▁▁▂▁▂▆▂▂</td></tr></table><br/></div><div class=\"wandb-col\"><h3>Run summary:</h3><br/><table class=\"wandb\"><tr><td>Training Acc</td><td>1.0</td></tr><tr><td>Training Loss</td><td>0.20511</td></tr><tr><td>Validation Acc</td><td>0.85417</td></tr><tr><td>Validation Loss</td><td>0.3783</td></tr><tr><td>test_accuracy</td><td>0.76786</td></tr><tr><td>test_losss</td><td>0.49606</td></tr></table><br/></div></div>"
      ],
      "text/plain": [
       "<IPython.core.display.HTML object>"
      ]
     },
     "metadata": {},
     "output_type": "display_data"
    },
    {
     "data": {
      "text/html": [
       "Synced <strong style=\"color:#cdcd00\">silver-energy-121</strong>: <a href=\"https://wandb.ai/miraclelinzzz/Final-ensemble/runs/1cl1i2x4\" target=\"_blank\">https://wandb.ai/miraclelinzzz/Final-ensemble/runs/1cl1i2x4</a><br/>Synced 5 W&B file(s), 0 media file(s), 0 artifact file(s) and 0 other file(s)"
      ],
      "text/plain": [
       "<IPython.core.display.HTML object>"
      ]
     },
     "metadata": {},
     "output_type": "display_data"
    },
    {
     "data": {
      "text/html": [
       "Find logs at: <code>./wandb/run-20220818_004238-1cl1i2x4/logs</code>"
      ],
      "text/plain": [
       "<IPython.core.display.HTML object>"
      ]
     },
     "metadata": {},
     "output_type": "display_data"
    },
    {
     "name": "stdout",
     "output_type": "stream",
     "text": [
      "dr-0.3,arch-[64, 512],bs-16,seed-20,index-3,epoch-15\n"
     ]
    },
    {
     "data": {
      "text/html": [
       "Tracking run with wandb version 0.13.1"
      ],
      "text/plain": [
       "<IPython.core.display.HTML object>"
      ]
     },
     "metadata": {},
     "output_type": "display_data"
    },
    {
     "data": {
      "text/html": [
       "Run data is saved locally in <code>/home/jupyter/wandb/run-20220818_004352-178gj8y3</code>"
      ],
      "text/plain": [
       "<IPython.core.display.HTML object>"
      ]
     },
     "metadata": {},
     "output_type": "display_data"
    },
    {
     "data": {
      "text/html": [
       "Syncing run <strong><a href=\"https://wandb.ai/miraclelinzzz/Final-ensemble/runs/178gj8y3\" target=\"_blank\">playful-thunder-122</a></strong> to <a href=\"https://wandb.ai/miraclelinzzz/Final-ensemble\" target=\"_blank\">Weights & Biases</a> (<a href=\"https://wandb.me/run\" target=\"_blank\">docs</a>)<br/>"
      ],
      "text/plain": [
       "<IPython.core.display.HTML object>"
      ]
     },
     "metadata": {},
     "output_type": "display_data"
    },
    {
     "data": {
      "text/html": [
       "Waiting for W&B process to finish... <strong style=\"color:green\">(success).</strong>"
      ],
      "text/plain": [
       "<IPython.core.display.HTML object>"
      ]
     },
     "metadata": {},
     "output_type": "display_data"
    },
    {
     "data": {
      "text/html": [
       "<style>\n",
       "    table.wandb td:nth-child(1) { padding: 0 10px; text-align: left ; width: auto;} td:nth-child(2) {text-align: left ; width: 100%}\n",
       "    .wandb-row { display: flex; flex-direction: row; flex-wrap: wrap; justify-content: flex-start; width: 100% }\n",
       "    .wandb-col { display: flex; flex-direction: column; flex-basis: 100%; flex: 1; padding: 10px; }\n",
       "    </style>\n",
       "<div class=\"wandb-row\"><div class=\"wandb-col\"><h3>Run history:</h3><br/><table class=\"wandb\"><tr><td>Training Acc</td><td>▁▂▃▅▅▅▆▇▇█▇▇██▇</td></tr><tr><td>Training Loss</td><td>█▇▆▅▅▄▃▂▂▁▂▂▁▁▁</td></tr><tr><td>Validation Acc</td><td>▁▁▄▆█▅▆▆▆█▆▆█▆▆</td></tr><tr><td>Validation Loss</td><td>█▇█▄▁▆▇▅▆▁▃▅▁▅▆</td></tr></table><br/></div><div class=\"wandb-col\"><h3>Run summary:</h3><br/><table class=\"wandb\"><tr><td>Training Acc</td><td>0.96528</td></tr><tr><td>Training Loss</td><td>0.18131</td></tr><tr><td>Validation Acc</td><td>0.72917</td></tr><tr><td>Validation Loss</td><td>0.58929</td></tr><tr><td>test_accuracy</td><td>0.81786</td></tr><tr><td>test_losss</td><td>0.44951</td></tr></table><br/></div></div>"
      ],
      "text/plain": [
       "<IPython.core.display.HTML object>"
      ]
     },
     "metadata": {},
     "output_type": "display_data"
    },
    {
     "data": {
      "text/html": [
       "Synced <strong style=\"color:#cdcd00\">playful-thunder-122</strong>: <a href=\"https://wandb.ai/miraclelinzzz/Final-ensemble/runs/178gj8y3\" target=\"_blank\">https://wandb.ai/miraclelinzzz/Final-ensemble/runs/178gj8y3</a><br/>Synced 5 W&B file(s), 0 media file(s), 0 artifact file(s) and 0 other file(s)"
      ],
      "text/plain": [
       "<IPython.core.display.HTML object>"
      ]
     },
     "metadata": {},
     "output_type": "display_data"
    },
    {
     "data": {
      "text/html": [
       "Find logs at: <code>./wandb/run-20220818_004352-178gj8y3/logs</code>"
      ],
      "text/plain": [
       "<IPython.core.display.HTML object>"
      ]
     },
     "metadata": {},
     "output_type": "display_data"
    },
    {
     "name": "stdout",
     "output_type": "stream",
     "text": [
      "dr-0.3,arch-[256, 512, 128],bs-16,seed-20,index-1,epoch-15\n"
     ]
    },
    {
     "data": {
      "text/html": [
       "Tracking run with wandb version 0.13.1"
      ],
      "text/plain": [
       "<IPython.core.display.HTML object>"
      ]
     },
     "metadata": {},
     "output_type": "display_data"
    },
    {
     "data": {
      "text/html": [
       "Run data is saved locally in <code>/home/jupyter/wandb/run-20220818_004506-3aeriyjp</code>"
      ],
      "text/plain": [
       "<IPython.core.display.HTML object>"
      ]
     },
     "metadata": {},
     "output_type": "display_data"
    },
    {
     "data": {
      "text/html": [
       "Syncing run <strong><a href=\"https://wandb.ai/miraclelinzzz/Final-ensemble/runs/3aeriyjp\" target=\"_blank\">astral-totem-123</a></strong> to <a href=\"https://wandb.ai/miraclelinzzz/Final-ensemble\" target=\"_blank\">Weights & Biases</a> (<a href=\"https://wandb.me/run\" target=\"_blank\">docs</a>)<br/>"
      ],
      "text/plain": [
       "<IPython.core.display.HTML object>"
      ]
     },
     "metadata": {},
     "output_type": "display_data"
    },
    {
     "data": {
      "text/html": [
       "Waiting for W&B process to finish... <strong style=\"color:green\">(success).</strong>"
      ],
      "text/plain": [
       "<IPython.core.display.HTML object>"
      ]
     },
     "metadata": {},
     "output_type": "display_data"
    },
    {
     "data": {
      "text/html": [
       "<style>\n",
       "    table.wandb td:nth-child(1) { padding: 0 10px; text-align: left ; width: auto;} td:nth-child(2) {text-align: left ; width: 100%}\n",
       "    .wandb-row { display: flex; flex-direction: row; flex-wrap: wrap; justify-content: flex-start; width: 100% }\n",
       "    .wandb-col { display: flex; flex-direction: column; flex-basis: 100%; flex: 1; padding: 10px; }\n",
       "    </style>\n",
       "<div class=\"wandb-row\"><div class=\"wandb-col\"><h3>Run history:</h3><br/><table class=\"wandb\"><tr><td>Training Acc</td><td>▁▁▂▁▃▃▄▅▅▆▇█▇██</td></tr><tr><td>Training Loss</td><td>██▇▇▆▆▅▅▃▃▂▂▁▁▁</td></tr><tr><td>Validation Acc</td><td>▁▃▃▅▆▅▇█▆▄███▆▆</td></tr><tr><td>Validation Loss</td><td>▇▇▆▅▃▆▂▂▅█▁▂▁▆▅</td></tr></table><br/></div><div class=\"wandb-col\"><h3>Run summary:</h3><br/><table class=\"wandb\"><tr><td>Training Acc</td><td>0.93056</td></tr><tr><td>Training Loss</td><td>0.28149</td></tr><tr><td>Validation Acc</td><td>0.70833</td></tr><tr><td>Validation Loss</td><td>0.60675</td></tr><tr><td>test_accuracy</td><td>0.84286</td></tr><tr><td>test_losss</td><td>0.45943</td></tr></table><br/></div></div>"
      ],
      "text/plain": [
       "<IPython.core.display.HTML object>"
      ]
     },
     "metadata": {},
     "output_type": "display_data"
    },
    {
     "data": {
      "text/html": [
       "Synced <strong style=\"color:#cdcd00\">astral-totem-123</strong>: <a href=\"https://wandb.ai/miraclelinzzz/Final-ensemble/runs/3aeriyjp\" target=\"_blank\">https://wandb.ai/miraclelinzzz/Final-ensemble/runs/3aeriyjp</a><br/>Synced 5 W&B file(s), 0 media file(s), 0 artifact file(s) and 0 other file(s)"
      ],
      "text/plain": [
       "<IPython.core.display.HTML object>"
      ]
     },
     "metadata": {},
     "output_type": "display_data"
    },
    {
     "data": {
      "text/html": [
       "Find logs at: <code>./wandb/run-20220818_004506-3aeriyjp/logs</code>"
      ],
      "text/plain": [
       "<IPython.core.display.HTML object>"
      ]
     },
     "metadata": {},
     "output_type": "display_data"
    },
    {
     "name": "stdout",
     "output_type": "stream",
     "text": [
      "dr-0.3,arch-[256, 512, 128],bs-16,seed-20,index-2,epoch-15\n"
     ]
    },
    {
     "data": {
      "text/html": [
       "Tracking run with wandb version 0.13.1"
      ],
      "text/plain": [
       "<IPython.core.display.HTML object>"
      ]
     },
     "metadata": {},
     "output_type": "display_data"
    },
    {
     "data": {
      "text/html": [
       "Run data is saved locally in <code>/home/jupyter/wandb/run-20220818_004620-1y9km0v2</code>"
      ],
      "text/plain": [
       "<IPython.core.display.HTML object>"
      ]
     },
     "metadata": {},
     "output_type": "display_data"
    },
    {
     "data": {
      "text/html": [
       "Syncing run <strong><a href=\"https://wandb.ai/miraclelinzzz/Final-ensemble/runs/1y9km0v2\" target=\"_blank\">faithful-sun-124</a></strong> to <a href=\"https://wandb.ai/miraclelinzzz/Final-ensemble\" target=\"_blank\">Weights & Biases</a> (<a href=\"https://wandb.me/run\" target=\"_blank\">docs</a>)<br/>"
      ],
      "text/plain": [
       "<IPython.core.display.HTML object>"
      ]
     },
     "metadata": {},
     "output_type": "display_data"
    },
    {
     "data": {
      "text/html": [
       "Waiting for W&B process to finish... <strong style=\"color:green\">(success).</strong>"
      ],
      "text/plain": [
       "<IPython.core.display.HTML object>"
      ]
     },
     "metadata": {},
     "output_type": "display_data"
    },
    {
     "data": {
      "text/html": [
       "<style>\n",
       "    table.wandb td:nth-child(1) { padding: 0 10px; text-align: left ; width: auto;} td:nth-child(2) {text-align: left ; width: 100%}\n",
       "    .wandb-row { display: flex; flex-direction: row; flex-wrap: wrap; justify-content: flex-start; width: 100% }\n",
       "    .wandb-col { display: flex; flex-direction: column; flex-basis: 100%; flex: 1; padding: 10px; }\n",
       "    </style>\n",
       "<div class=\"wandb-row\"><div class=\"wandb-col\"><h3>Run history:</h3><br/><table class=\"wandb\"><tr><td>Training Acc</td><td>▁▂▂▃▄▄▅▆▆▇▇▇███</td></tr><tr><td>Training Loss</td><td>██▇▆▆▅▅▄▃▂▂▂▁▁▁</td></tr><tr><td>Validation Acc</td><td>▃▁▅▂▅▅▅▆▅██▇███</td></tr><tr><td>Validation Loss</td><td>██▇▆▆▆▆▃▄▂▁▂▂▂▁</td></tr></table><br/></div><div class=\"wandb-col\"><h3>Run summary:</h3><br/><table class=\"wandb\"><tr><td>Training Acc</td><td>0.97222</td></tr><tr><td>Training Loss</td><td>0.2359</td></tr><tr><td>Validation Acc</td><td>0.89583</td></tr><tr><td>Validation Loss</td><td>0.34051</td></tr><tr><td>test_accuracy</td><td>0.79643</td></tr><tr><td>test_losss</td><td>0.43598</td></tr></table><br/></div></div>"
      ],
      "text/plain": [
       "<IPython.core.display.HTML object>"
      ]
     },
     "metadata": {},
     "output_type": "display_data"
    },
    {
     "data": {
      "text/html": [
       "Synced <strong style=\"color:#cdcd00\">faithful-sun-124</strong>: <a href=\"https://wandb.ai/miraclelinzzz/Final-ensemble/runs/1y9km0v2\" target=\"_blank\">https://wandb.ai/miraclelinzzz/Final-ensemble/runs/1y9km0v2</a><br/>Synced 5 W&B file(s), 0 media file(s), 0 artifact file(s) and 0 other file(s)"
      ],
      "text/plain": [
       "<IPython.core.display.HTML object>"
      ]
     },
     "metadata": {},
     "output_type": "display_data"
    },
    {
     "data": {
      "text/html": [
       "Find logs at: <code>./wandb/run-20220818_004620-1y9km0v2/logs</code>"
      ],
      "text/plain": [
       "<IPython.core.display.HTML object>"
      ]
     },
     "metadata": {},
     "output_type": "display_data"
    },
    {
     "name": "stdout",
     "output_type": "stream",
     "text": [
      "dr-0.3,arch-[256, 512, 128],bs-16,seed-20,index-3,epoch-15\n"
     ]
    },
    {
     "data": {
      "text/html": [
       "Tracking run with wandb version 0.13.1"
      ],
      "text/plain": [
       "<IPython.core.display.HTML object>"
      ]
     },
     "metadata": {},
     "output_type": "display_data"
    },
    {
     "data": {
      "text/html": [
       "Run data is saved locally in <code>/home/jupyter/wandb/run-20220818_004733-2h1rg9fv</code>"
      ],
      "text/plain": [
       "<IPython.core.display.HTML object>"
      ]
     },
     "metadata": {},
     "output_type": "display_data"
    },
    {
     "data": {
      "text/html": [
       "Syncing run <strong><a href=\"https://wandb.ai/miraclelinzzz/Final-ensemble/runs/2h1rg9fv\" target=\"_blank\">playful-pine-125</a></strong> to <a href=\"https://wandb.ai/miraclelinzzz/Final-ensemble\" target=\"_blank\">Weights & Biases</a> (<a href=\"https://wandb.me/run\" target=\"_blank\">docs</a>)<br/>"
      ],
      "text/plain": [
       "<IPython.core.display.HTML object>"
      ]
     },
     "metadata": {},
     "output_type": "display_data"
    },
    {
     "data": {
      "text/html": [
       "Waiting for W&B process to finish... <strong style=\"color:green\">(success).</strong>"
      ],
      "text/plain": [
       "<IPython.core.display.HTML object>"
      ]
     },
     "metadata": {},
     "output_type": "display_data"
    },
    {
     "data": {
      "text/html": [
       "<style>\n",
       "    table.wandb td:nth-child(1) { padding: 0 10px; text-align: left ; width: auto;} td:nth-child(2) {text-align: left ; width: 100%}\n",
       "    .wandb-row { display: flex; flex-direction: row; flex-wrap: wrap; justify-content: flex-start; width: 100% }\n",
       "    .wandb-col { display: flex; flex-direction: column; flex-basis: 100%; flex: 1; padding: 10px; }\n",
       "    </style>\n",
       "<div class=\"wandb-row\"><div class=\"wandb-col\"><h3>Run history:</h3><br/><table class=\"wandb\"><tr><td>Training Acc</td><td>▁▂▂▂▃▃▆▆▆▇█████</td></tr><tr><td>Training Loss</td><td>█▇▇▇▆▆▄▄▄▂▂▁▁▁▁</td></tr><tr><td>Validation Acc</td><td>▃▁▃▃▅▃▅▇▅▇█▆█▆▇</td></tr><tr><td>Validation Loss</td><td>██▇▇▅█▇▃▅▂▁▃▁▂▁</td></tr></table><br/></div><div class=\"wandb-col\"><h3>Run summary:</h3><br/><table class=\"wandb\"><tr><td>Training Acc</td><td>0.98611</td></tr><tr><td>Training Loss</td><td>0.21591</td></tr><tr><td>Validation Acc</td><td>0.85417</td></tr><tr><td>Validation Loss</td><td>0.36762</td></tr><tr><td>test_accuracy</td><td>0.78036</td></tr><tr><td>test_losss</td><td>0.42074</td></tr></table><br/></div></div>"
      ],
      "text/plain": [
       "<IPython.core.display.HTML object>"
      ]
     },
     "metadata": {},
     "output_type": "display_data"
    },
    {
     "data": {
      "text/html": [
       "Synced <strong style=\"color:#cdcd00\">playful-pine-125</strong>: <a href=\"https://wandb.ai/miraclelinzzz/Final-ensemble/runs/2h1rg9fv\" target=\"_blank\">https://wandb.ai/miraclelinzzz/Final-ensemble/runs/2h1rg9fv</a><br/>Synced 5 W&B file(s), 0 media file(s), 0 artifact file(s) and 0 other file(s)"
      ],
      "text/plain": [
       "<IPython.core.display.HTML object>"
      ]
     },
     "metadata": {},
     "output_type": "display_data"
    },
    {
     "data": {
      "text/html": [
       "Find logs at: <code>./wandb/run-20220818_004733-2h1rg9fv/logs</code>"
      ],
      "text/plain": [
       "<IPython.core.display.HTML object>"
      ]
     },
     "metadata": {},
     "output_type": "display_data"
    },
    {
     "name": "stdout",
     "output_type": "stream",
     "text": [
      "dr-0.4,arch-[512, 64],bs-16,seed-30,index-1,epoch-15\n"
     ]
    },
    {
     "data": {
      "text/html": [
       "Tracking run with wandb version 0.13.1"
      ],
      "text/plain": [
       "<IPython.core.display.HTML object>"
      ]
     },
     "metadata": {},
     "output_type": "display_data"
    },
    {
     "data": {
      "text/html": [
       "Run data is saved locally in <code>/home/jupyter/wandb/run-20220818_004848-27rtn9jn</code>"
      ],
      "text/plain": [
       "<IPython.core.display.HTML object>"
      ]
     },
     "metadata": {},
     "output_type": "display_data"
    },
    {
     "data": {
      "text/html": [
       "Syncing run <strong><a href=\"https://wandb.ai/miraclelinzzz/Final-ensemble/runs/27rtn9jn\" target=\"_blank\">vivid-violet-126</a></strong> to <a href=\"https://wandb.ai/miraclelinzzz/Final-ensemble\" target=\"_blank\">Weights & Biases</a> (<a href=\"https://wandb.me/run\" target=\"_blank\">docs</a>)<br/>"
      ],
      "text/plain": [
       "<IPython.core.display.HTML object>"
      ]
     },
     "metadata": {},
     "output_type": "display_data"
    },
    {
     "data": {
      "text/html": [
       "Waiting for W&B process to finish... <strong style=\"color:green\">(success).</strong>"
      ],
      "text/plain": [
       "<IPython.core.display.HTML object>"
      ]
     },
     "metadata": {},
     "output_type": "display_data"
    },
    {
     "data": {
      "text/html": [
       "<style>\n",
       "    table.wandb td:nth-child(1) { padding: 0 10px; text-align: left ; width: auto;} td:nth-child(2) {text-align: left ; width: 100%}\n",
       "    .wandb-row { display: flex; flex-direction: row; flex-wrap: wrap; justify-content: flex-start; width: 100% }\n",
       "    .wandb-col { display: flex; flex-direction: column; flex-basis: 100%; flex: 1; padding: 10px; }\n",
       "    </style>\n",
       "<div class=\"wandb-row\"><div class=\"wandb-col\"><h3>Run history:</h3><br/><table class=\"wandb\"><tr><td>Training Acc</td><td>▁▂▃▃▅▆▇████████</td></tr><tr><td>Training Loss</td><td>█▇▆▆▄▄▂▂▂▁▁▁▁▂▁</td></tr><tr><td>Validation Acc</td><td>▃▁▃▆▇▆█▆▅▆▇▇▇▅▅</td></tr><tr><td>Validation Loss</td><td>▇▇█▄▂█▁▇█▇▃▃▂██</td></tr></table><br/></div><div class=\"wandb-col\"><h3>Run summary:</h3><br/><table class=\"wandb\"><tr><td>Training Acc</td><td>1.0</td></tr><tr><td>Training Loss</td><td>0.19221</td></tr><tr><td>Validation Acc</td><td>0.6875</td></tr><tr><td>Validation Loss</td><td>0.71748</td></tr><tr><td>test_accuracy</td><td>0.87143</td></tr><tr><td>test_losss</td><td>0.39743</td></tr></table><br/></div></div>"
      ],
      "text/plain": [
       "<IPython.core.display.HTML object>"
      ]
     },
     "metadata": {},
     "output_type": "display_data"
    },
    {
     "data": {
      "text/html": [
       "Synced <strong style=\"color:#cdcd00\">vivid-violet-126</strong>: <a href=\"https://wandb.ai/miraclelinzzz/Final-ensemble/runs/27rtn9jn\" target=\"_blank\">https://wandb.ai/miraclelinzzz/Final-ensemble/runs/27rtn9jn</a><br/>Synced 5 W&B file(s), 0 media file(s), 0 artifact file(s) and 0 other file(s)"
      ],
      "text/plain": [
       "<IPython.core.display.HTML object>"
      ]
     },
     "metadata": {},
     "output_type": "display_data"
    },
    {
     "data": {
      "text/html": [
       "Find logs at: <code>./wandb/run-20220818_004848-27rtn9jn/logs</code>"
      ],
      "text/plain": [
       "<IPython.core.display.HTML object>"
      ]
     },
     "metadata": {},
     "output_type": "display_data"
    },
    {
     "name": "stdout",
     "output_type": "stream",
     "text": [
      "dr-0.4,arch-[512, 64],bs-16,seed-30,index-2,epoch-15\n"
     ]
    },
    {
     "data": {
      "text/html": [
       "Tracking run with wandb version 0.13.1"
      ],
      "text/plain": [
       "<IPython.core.display.HTML object>"
      ]
     },
     "metadata": {},
     "output_type": "display_data"
    },
    {
     "data": {
      "text/html": [
       "Run data is saved locally in <code>/home/jupyter/wandb/run-20220818_004952-1bpuijk2</code>"
      ],
      "text/plain": [
       "<IPython.core.display.HTML object>"
      ]
     },
     "metadata": {},
     "output_type": "display_data"
    },
    {
     "data": {
      "text/html": [
       "Syncing run <strong><a href=\"https://wandb.ai/miraclelinzzz/Final-ensemble/runs/1bpuijk2\" target=\"_blank\">skilled-valley-127</a></strong> to <a href=\"https://wandb.ai/miraclelinzzz/Final-ensemble\" target=\"_blank\">Weights & Biases</a> (<a href=\"https://wandb.me/run\" target=\"_blank\">docs</a>)<br/>"
      ],
      "text/plain": [
       "<IPython.core.display.HTML object>"
      ]
     },
     "metadata": {},
     "output_type": "display_data"
    },
    {
     "data": {
      "text/html": [
       "Waiting for W&B process to finish... <strong style=\"color:green\">(success).</strong>"
      ],
      "text/plain": [
       "<IPython.core.display.HTML object>"
      ]
     },
     "metadata": {},
     "output_type": "display_data"
    },
    {
     "data": {
      "text/html": [
       "<style>\n",
       "    table.wandb td:nth-child(1) { padding: 0 10px; text-align: left ; width: auto;} td:nth-child(2) {text-align: left ; width: 100%}\n",
       "    .wandb-row { display: flex; flex-direction: row; flex-wrap: wrap; justify-content: flex-start; width: 100% }\n",
       "    .wandb-col { display: flex; flex-direction: column; flex-basis: 100%; flex: 1; padding: 10px; }\n",
       "    </style>\n",
       "<div class=\"wandb-row\"><div class=\"wandb-col\"><h3>Run history:</h3><br/><table class=\"wandb\"><tr><td>Training Acc</td><td>▁▁▃▅▅▆▇▇██████▇</td></tr><tr><td>Training Loss</td><td>█▇▇▅▅▃▃▂▁▁▁▂▁▁▂</td></tr><tr><td>Validation Acc</td><td>▁▃▅▇▅▇█▇▇██▆███</td></tr><tr><td>Validation Loss</td><td>█▇▅▄▇▂▁▂▁▁▂▄▁▁▁</td></tr></table><br/></div><div class=\"wandb-col\"><h3>Run summary:</h3><br/><table class=\"wandb\"><tr><td>Training Acc</td><td>0.91667</td></tr><tr><td>Training Loss</td><td>0.22251</td></tr><tr><td>Validation Acc</td><td>0.89583</td></tr><tr><td>Validation Loss</td><td>0.31893</td></tr><tr><td>test_accuracy</td><td>0.83036</td></tr><tr><td>test_losss</td><td>0.41819</td></tr></table><br/></div></div>"
      ],
      "text/plain": [
       "<IPython.core.display.HTML object>"
      ]
     },
     "metadata": {},
     "output_type": "display_data"
    },
    {
     "data": {
      "text/html": [
       "Synced <strong style=\"color:#cdcd00\">skilled-valley-127</strong>: <a href=\"https://wandb.ai/miraclelinzzz/Final-ensemble/runs/1bpuijk2\" target=\"_blank\">https://wandb.ai/miraclelinzzz/Final-ensemble/runs/1bpuijk2</a><br/>Synced 5 W&B file(s), 0 media file(s), 0 artifact file(s) and 0 other file(s)"
      ],
      "text/plain": [
       "<IPython.core.display.HTML object>"
      ]
     },
     "metadata": {},
     "output_type": "display_data"
    },
    {
     "data": {
      "text/html": [
       "Find logs at: <code>./wandb/run-20220818_004952-1bpuijk2/logs</code>"
      ],
      "text/plain": [
       "<IPython.core.display.HTML object>"
      ]
     },
     "metadata": {},
     "output_type": "display_data"
    },
    {
     "name": "stdout",
     "output_type": "stream",
     "text": [
      "dr-0.4,arch-[512, 64],bs-16,seed-30,index-3,epoch-15\n"
     ]
    },
    {
     "data": {
      "text/html": [
       "Tracking run with wandb version 0.13.1"
      ],
      "text/plain": [
       "<IPython.core.display.HTML object>"
      ]
     },
     "metadata": {},
     "output_type": "display_data"
    },
    {
     "data": {
      "text/html": [
       "Run data is saved locally in <code>/home/jupyter/wandb/run-20220818_005106-1tc9t56b</code>"
      ],
      "text/plain": [
       "<IPython.core.display.HTML object>"
      ]
     },
     "metadata": {},
     "output_type": "display_data"
    },
    {
     "data": {
      "text/html": [
       "Syncing run <strong><a href=\"https://wandb.ai/miraclelinzzz/Final-ensemble/runs/1tc9t56b\" target=\"_blank\">fine-water-128</a></strong> to <a href=\"https://wandb.ai/miraclelinzzz/Final-ensemble\" target=\"_blank\">Weights & Biases</a> (<a href=\"https://wandb.me/run\" target=\"_blank\">docs</a>)<br/>"
      ],
      "text/plain": [
       "<IPython.core.display.HTML object>"
      ]
     },
     "metadata": {},
     "output_type": "display_data"
    },
    {
     "data": {
      "text/html": [
       "Waiting for W&B process to finish... <strong style=\"color:green\">(success).</strong>"
      ],
      "text/plain": [
       "<IPython.core.display.HTML object>"
      ]
     },
     "metadata": {},
     "output_type": "display_data"
    },
    {
     "data": {
      "text/html": [
       "<style>\n",
       "    table.wandb td:nth-child(1) { padding: 0 10px; text-align: left ; width: auto;} td:nth-child(2) {text-align: left ; width: 100%}\n",
       "    .wandb-row { display: flex; flex-direction: row; flex-wrap: wrap; justify-content: flex-start; width: 100% }\n",
       "    .wandb-col { display: flex; flex-direction: column; flex-basis: 100%; flex: 1; padding: 10px; }\n",
       "    </style>\n",
       "<div class=\"wandb-row\"><div class=\"wandb-col\"><h3>Run history:</h3><br/><table class=\"wandb\"><tr><td>Training Acc</td><td>▁▃▃▅▆▇█████████</td></tr><tr><td>Training Loss</td><td>█▇▆▅▃▃▂▂▂▁▂▁▁▁▁</td></tr><tr><td>Validation Acc</td><td>▃▁▅▆█▆▆▆█▆▆████</td></tr><tr><td>Validation Loss</td><td>█▇▅▆▁▄▅█▁▇▇▁▁▁▁</td></tr></table><br/></div><div class=\"wandb-col\"><h3>Run summary:</h3><br/><table class=\"wandb\"><tr><td>Training Acc</td><td>1.0</td></tr><tr><td>Training Loss</td><td>0.17633</td></tr><tr><td>Validation Acc</td><td>0.83333</td></tr><tr><td>Validation Loss</td><td>0.41722</td></tr><tr><td>test_accuracy</td><td>0.83036</td></tr><tr><td>test_losss</td><td>0.44682</td></tr></table><br/></div></div>"
      ],
      "text/plain": [
       "<IPython.core.display.HTML object>"
      ]
     },
     "metadata": {},
     "output_type": "display_data"
    },
    {
     "data": {
      "text/html": [
       "Synced <strong style=\"color:#cdcd00\">fine-water-128</strong>: <a href=\"https://wandb.ai/miraclelinzzz/Final-ensemble/runs/1tc9t56b\" target=\"_blank\">https://wandb.ai/miraclelinzzz/Final-ensemble/runs/1tc9t56b</a><br/>Synced 5 W&B file(s), 0 media file(s), 0 artifact file(s) and 0 other file(s)"
      ],
      "text/plain": [
       "<IPython.core.display.HTML object>"
      ]
     },
     "metadata": {},
     "output_type": "display_data"
    },
    {
     "data": {
      "text/html": [
       "Find logs at: <code>./wandb/run-20220818_005106-1tc9t56b/logs</code>"
      ],
      "text/plain": [
       "<IPython.core.display.HTML object>"
      ]
     },
     "metadata": {},
     "output_type": "display_data"
    },
    {
     "name": "stdout",
     "output_type": "stream",
     "text": [
      "dr-0.5,arch-[64, 512],bs-16,seed-30,index-1,epoch-15\n"
     ]
    },
    {
     "data": {
      "text/html": [
       "Tracking run with wandb version 0.13.1"
      ],
      "text/plain": [
       "<IPython.core.display.HTML object>"
      ]
     },
     "metadata": {},
     "output_type": "display_data"
    },
    {
     "data": {
      "text/html": [
       "Run data is saved locally in <code>/home/jupyter/wandb/run-20220818_005211-36waylyw</code>"
      ],
      "text/plain": [
       "<IPython.core.display.HTML object>"
      ]
     },
     "metadata": {},
     "output_type": "display_data"
    },
    {
     "data": {
      "text/html": [
       "Syncing run <strong><a href=\"https://wandb.ai/miraclelinzzz/Final-ensemble/runs/36waylyw\" target=\"_blank\">dulcet-elevator-129</a></strong> to <a href=\"https://wandb.ai/miraclelinzzz/Final-ensemble\" target=\"_blank\">Weights & Biases</a> (<a href=\"https://wandb.me/run\" target=\"_blank\">docs</a>)<br/>"
      ],
      "text/plain": [
       "<IPython.core.display.HTML object>"
      ]
     },
     "metadata": {},
     "output_type": "display_data"
    },
    {
     "data": {
      "text/html": [
       "Waiting for W&B process to finish... <strong style=\"color:green\">(success).</strong>"
      ],
      "text/plain": [
       "<IPython.core.display.HTML object>"
      ]
     },
     "metadata": {},
     "output_type": "display_data"
    },
    {
     "data": {
      "text/html": [
       "<style>\n",
       "    table.wandb td:nth-child(1) { padding: 0 10px; text-align: left ; width: auto;} td:nth-child(2) {text-align: left ; width: 100%}\n",
       "    .wandb-row { display: flex; flex-direction: row; flex-wrap: wrap; justify-content: flex-start; width: 100% }\n",
       "    .wandb-col { display: flex; flex-direction: column; flex-basis: 100%; flex: 1; padding: 10px; }\n",
       "    </style>\n",
       "<div class=\"wandb-row\"><div class=\"wandb-col\"><h3>Run history:</h3><br/><table class=\"wandb\"><tr><td>Training Acc</td><td>▁▂▄▂▅▅▆▅▆▇▇▇▇██</td></tr><tr><td>Training Loss</td><td>██▇▇▅▄▄▄▃▂▂▂▂▁▁</td></tr><tr><td>Validation Acc</td><td>▃▃▁▇▇▆▂▃▄▃▄▇███</td></tr><tr><td>Validation Loss</td><td>█▇▇▃▃▂▆█▃▆▅▃▁▂▁</td></tr></table><br/></div><div class=\"wandb-col\"><h3>Run summary:</h3><br/><table class=\"wandb\"><tr><td>Training Acc</td><td>0.96528</td></tr><tr><td>Training Loss</td><td>0.25767</td></tr><tr><td>Validation Acc</td><td>0.85417</td></tr><tr><td>Validation Loss</td><td>0.40253</td></tr><tr><td>test_accuracy</td><td>0.79286</td></tr><tr><td>test_losss</td><td>0.43806</td></tr></table><br/></div></div>"
      ],
      "text/plain": [
       "<IPython.core.display.HTML object>"
      ]
     },
     "metadata": {},
     "output_type": "display_data"
    },
    {
     "data": {
      "text/html": [
       "Synced <strong style=\"color:#cdcd00\">dulcet-elevator-129</strong>: <a href=\"https://wandb.ai/miraclelinzzz/Final-ensemble/runs/36waylyw\" target=\"_blank\">https://wandb.ai/miraclelinzzz/Final-ensemble/runs/36waylyw</a><br/>Synced 5 W&B file(s), 0 media file(s), 0 artifact file(s) and 0 other file(s)"
      ],
      "text/plain": [
       "<IPython.core.display.HTML object>"
      ]
     },
     "metadata": {},
     "output_type": "display_data"
    },
    {
     "data": {
      "text/html": [
       "Find logs at: <code>./wandb/run-20220818_005211-36waylyw/logs</code>"
      ],
      "text/plain": [
       "<IPython.core.display.HTML object>"
      ]
     },
     "metadata": {},
     "output_type": "display_data"
    },
    {
     "name": "stdout",
     "output_type": "stream",
     "text": [
      "dr-0.5,arch-[64, 512],bs-16,seed-30,index-2,epoch-15\n"
     ]
    },
    {
     "data": {
      "text/html": [
       "Tracking run with wandb version 0.13.1"
      ],
      "text/plain": [
       "<IPython.core.display.HTML object>"
      ]
     },
     "metadata": {},
     "output_type": "display_data"
    },
    {
     "data": {
      "text/html": [
       "Run data is saved locally in <code>/home/jupyter/wandb/run-20220818_005315-7urhq5ys</code>"
      ],
      "text/plain": [
       "<IPython.core.display.HTML object>"
      ]
     },
     "metadata": {},
     "output_type": "display_data"
    },
    {
     "data": {
      "text/html": [
       "Syncing run <strong><a href=\"https://wandb.ai/miraclelinzzz/Final-ensemble/runs/7urhq5ys\" target=\"_blank\">hardy-pond-130</a></strong> to <a href=\"https://wandb.ai/miraclelinzzz/Final-ensemble\" target=\"_blank\">Weights & Biases</a> (<a href=\"https://wandb.me/run\" target=\"_blank\">docs</a>)<br/>"
      ],
      "text/plain": [
       "<IPython.core.display.HTML object>"
      ]
     },
     "metadata": {},
     "output_type": "display_data"
    },
    {
     "data": {
      "text/html": [
       "Waiting for W&B process to finish... <strong style=\"color:green\">(success).</strong>"
      ],
      "text/plain": [
       "<IPython.core.display.HTML object>"
      ]
     },
     "metadata": {},
     "output_type": "display_data"
    },
    {
     "data": {
      "text/html": [
       "<style>\n",
       "    table.wandb td:nth-child(1) { padding: 0 10px; text-align: left ; width: auto;} td:nth-child(2) {text-align: left ; width: 100%}\n",
       "    .wandb-row { display: flex; flex-direction: row; flex-wrap: wrap; justify-content: flex-start; width: 100% }\n",
       "    .wandb-col { display: flex; flex-direction: column; flex-basis: 100%; flex: 1; padding: 10px; }\n",
       "    </style>\n",
       "<div class=\"wandb-row\"><div class=\"wandb-col\"><h3>Run history:</h3><br/><table class=\"wandb\"><tr><td>Training Acc</td><td>▁▁▄▃▄▅▅▆▆▇█▇██▇</td></tr><tr><td>Training Loss</td><td>█▇▆▆▆▄▄▃▂▂▂▂▁▁▁</td></tr><tr><td>Validation Acc</td><td>▁▄▁▆▅▇▇▇█▆██▇▆█</td></tr><tr><td>Validation Loss</td><td>██▇▃▅▃▂▃▂▄▁▂▁▄▂</td></tr></table><br/></div><div class=\"wandb-col\"><h3>Run summary:</h3><br/><table class=\"wandb\"><tr><td>Training Acc</td><td>0.84028</td></tr><tr><td>Training Loss</td><td>0.32926</td></tr><tr><td>Validation Acc</td><td>0.9375</td></tr><tr><td>Validation Loss</td><td>0.38033</td></tr><tr><td>test_accuracy</td><td>0.84286</td></tr><tr><td>test_losss</td><td>0.45569</td></tr></table><br/></div></div>"
      ],
      "text/plain": [
       "<IPython.core.display.HTML object>"
      ]
     },
     "metadata": {},
     "output_type": "display_data"
    },
    {
     "data": {
      "text/html": [
       "Synced <strong style=\"color:#cdcd00\">hardy-pond-130</strong>: <a href=\"https://wandb.ai/miraclelinzzz/Final-ensemble/runs/7urhq5ys\" target=\"_blank\">https://wandb.ai/miraclelinzzz/Final-ensemble/runs/7urhq5ys</a><br/>Synced 5 W&B file(s), 0 media file(s), 0 artifact file(s) and 0 other file(s)"
      ],
      "text/plain": [
       "<IPython.core.display.HTML object>"
      ]
     },
     "metadata": {},
     "output_type": "display_data"
    },
    {
     "data": {
      "text/html": [
       "Find logs at: <code>./wandb/run-20220818_005315-7urhq5ys/logs</code>"
      ],
      "text/plain": [
       "<IPython.core.display.HTML object>"
      ]
     },
     "metadata": {},
     "output_type": "display_data"
    },
    {
     "name": "stdout",
     "output_type": "stream",
     "text": [
      "dr-0.5,arch-[64, 512],bs-16,seed-30,index-3,epoch-15\n"
     ]
    },
    {
     "data": {
      "text/html": [
       "Tracking run with wandb version 0.13.1"
      ],
      "text/plain": [
       "<IPython.core.display.HTML object>"
      ]
     },
     "metadata": {},
     "output_type": "display_data"
    },
    {
     "data": {
      "text/html": [
       "Run data is saved locally in <code>/home/jupyter/wandb/run-20220818_005429-1p8jj8oe</code>"
      ],
      "text/plain": [
       "<IPython.core.display.HTML object>"
      ]
     },
     "metadata": {},
     "output_type": "display_data"
    },
    {
     "data": {
      "text/html": [
       "Syncing run <strong><a href=\"https://wandb.ai/miraclelinzzz/Final-ensemble/runs/1p8jj8oe\" target=\"_blank\">rural-snow-131</a></strong> to <a href=\"https://wandb.ai/miraclelinzzz/Final-ensemble\" target=\"_blank\">Weights & Biases</a> (<a href=\"https://wandb.me/run\" target=\"_blank\">docs</a>)<br/>"
      ],
      "text/plain": [
       "<IPython.core.display.HTML object>"
      ]
     },
     "metadata": {},
     "output_type": "display_data"
    },
    {
     "data": {
      "text/html": [
       "Waiting for W&B process to finish... <strong style=\"color:green\">(success).</strong>"
      ],
      "text/plain": [
       "<IPython.core.display.HTML object>"
      ]
     },
     "metadata": {},
     "output_type": "display_data"
    },
    {
     "data": {
      "text/html": [
       "<style>\n",
       "    table.wandb td:nth-child(1) { padding: 0 10px; text-align: left ; width: auto;} td:nth-child(2) {text-align: left ; width: 100%}\n",
       "    .wandb-row { display: flex; flex-direction: row; flex-wrap: wrap; justify-content: flex-start; width: 100% }\n",
       "    .wandb-col { display: flex; flex-direction: column; flex-basis: 100%; flex: 1; padding: 10px; }\n",
       "    </style>\n",
       "<div class=\"wandb-row\"><div class=\"wandb-col\"><h3>Run history:</h3><br/><table class=\"wandb\"><tr><td>Training Acc</td><td>▂▁▃▂▄▄▅▅▅▆▇██▇█</td></tr><tr><td>Training Loss</td><td>██▆▇▄▄▃▄▃▃▂▂▁▁▁</td></tr><tr><td>Validation Acc</td><td>▁▁▄▁█▁▅▅██▄███▅</td></tr><tr><td>Validation Loss</td><td>▇▆▅▆▄█▅▆▂▁▅▂▁▁▄</td></tr></table><br/></div><div class=\"wandb-col\"><h3>Run summary:</h3><br/><table class=\"wandb\"><tr><td>Training Acc</td><td>0.89583</td></tr><tr><td>Training Loss</td><td>0.31143</td></tr><tr><td>Validation Acc</td><td>0.6875</td></tr><tr><td>Validation Loss</td><td>0.56082</td></tr><tr><td>test_accuracy</td><td>0.80536</td></tr><tr><td>test_losss</td><td>0.48381</td></tr></table><br/></div></div>"
      ],
      "text/plain": [
       "<IPython.core.display.HTML object>"
      ]
     },
     "metadata": {},
     "output_type": "display_data"
    },
    {
     "data": {
      "text/html": [
       "Synced <strong style=\"color:#cdcd00\">rural-snow-131</strong>: <a href=\"https://wandb.ai/miraclelinzzz/Final-ensemble/runs/1p8jj8oe\" target=\"_blank\">https://wandb.ai/miraclelinzzz/Final-ensemble/runs/1p8jj8oe</a><br/>Synced 5 W&B file(s), 0 media file(s), 0 artifact file(s) and 0 other file(s)"
      ],
      "text/plain": [
       "<IPython.core.display.HTML object>"
      ]
     },
     "metadata": {},
     "output_type": "display_data"
    },
    {
     "data": {
      "text/html": [
       "Find logs at: <code>./wandb/run-20220818_005429-1p8jj8oe/logs</code>"
      ],
      "text/plain": [
       "<IPython.core.display.HTML object>"
      ]
     },
     "metadata": {},
     "output_type": "display_data"
    },
    {
     "name": "stdout",
     "output_type": "stream",
     "text": [
      "dr-0.3,arch-[256, 512, 64],bs-8,seed-30,index-1,epoch-15\n"
     ]
    },
    {
     "data": {
      "text/html": [
       "Tracking run with wandb version 0.13.1"
      ],
      "text/plain": [
       "<IPython.core.display.HTML object>"
      ]
     },
     "metadata": {},
     "output_type": "display_data"
    },
    {
     "data": {
      "text/html": [
       "Run data is saved locally in <code>/home/jupyter/wandb/run-20220818_005533-31e40c9x</code>"
      ],
      "text/plain": [
       "<IPython.core.display.HTML object>"
      ]
     },
     "metadata": {},
     "output_type": "display_data"
    },
    {
     "data": {
      "text/html": [
       "Syncing run <strong><a href=\"https://wandb.ai/miraclelinzzz/Final-ensemble/runs/31e40c9x\" target=\"_blank\">soft-flower-132</a></strong> to <a href=\"https://wandb.ai/miraclelinzzz/Final-ensemble\" target=\"_blank\">Weights & Biases</a> (<a href=\"https://wandb.me/run\" target=\"_blank\">docs</a>)<br/>"
      ],
      "text/plain": [
       "<IPython.core.display.HTML object>"
      ]
     },
     "metadata": {},
     "output_type": "display_data"
    },
    {
     "data": {
      "text/html": [
       "Waiting for W&B process to finish... <strong style=\"color:green\">(success).</strong>"
      ],
      "text/plain": [
       "<IPython.core.display.HTML object>"
      ]
     },
     "metadata": {},
     "output_type": "display_data"
    },
    {
     "data": {
      "text/html": [
       "<style>\n",
       "    table.wandb td:nth-child(1) { padding: 0 10px; text-align: left ; width: auto;} td:nth-child(2) {text-align: left ; width: 100%}\n",
       "    .wandb-row { display: flex; flex-direction: row; flex-wrap: wrap; justify-content: flex-start; width: 100% }\n",
       "    .wandb-col { display: flex; flex-direction: column; flex-basis: 100%; flex: 1; padding: 10px; }\n",
       "    </style>\n",
       "<div class=\"wandb-row\"><div class=\"wandb-col\"><h3>Run history:</h3><br/><table class=\"wandb\"><tr><td>Training Acc</td><td>▁▂▁▂▃▄▅▄▅▅▆▇███</td></tr><tr><td>Training Loss</td><td>███▇▇▆▅▅▅▄▃▂▂▁▁</td></tr><tr><td>Validation Acc</td><td>▄▁▁▄▄▄▇▂█▇▇█▆▆▇</td></tr><tr><td>Validation Loss</td><td>▆▅▅▆█▇█▅▂▄▁▁▂▃▂</td></tr></table><br/></div><div class=\"wandb-col\"><h3>Run summary:</h3><br/><table class=\"wandb\"><tr><td>Training Acc</td><td>0.94118</td></tr><tr><td>Training Loss</td><td>0.31639</td></tr><tr><td>Validation Acc</td><td>0.7</td></tr><tr><td>Validation Loss</td><td>0.55758</td></tr><tr><td>test_accuracy</td><td>0.70437</td></tr><tr><td>test_losss</td><td>0.54328</td></tr></table><br/></div></div>"
      ],
      "text/plain": [
       "<IPython.core.display.HTML object>"
      ]
     },
     "metadata": {},
     "output_type": "display_data"
    },
    {
     "data": {
      "text/html": [
       "Synced <strong style=\"color:#cdcd00\">soft-flower-132</strong>: <a href=\"https://wandb.ai/miraclelinzzz/Final-ensemble/runs/31e40c9x\" target=\"_blank\">https://wandb.ai/miraclelinzzz/Final-ensemble/runs/31e40c9x</a><br/>Synced 5 W&B file(s), 0 media file(s), 0 artifact file(s) and 0 other file(s)"
      ],
      "text/plain": [
       "<IPython.core.display.HTML object>"
      ]
     },
     "metadata": {},
     "output_type": "display_data"
    },
    {
     "data": {
      "text/html": [
       "Find logs at: <code>./wandb/run-20220818_005533-31e40c9x/logs</code>"
      ],
      "text/plain": [
       "<IPython.core.display.HTML object>"
      ]
     },
     "metadata": {},
     "output_type": "display_data"
    },
    {
     "name": "stdout",
     "output_type": "stream",
     "text": [
      "dr-0.3,arch-[256, 512, 64],bs-8,seed-30,index-2,epoch-15\n"
     ]
    },
    {
     "data": {
      "text/html": [
       "Tracking run with wandb version 0.13.1"
      ],
      "text/plain": [
       "<IPython.core.display.HTML object>"
      ]
     },
     "metadata": {},
     "output_type": "display_data"
    },
    {
     "data": {
      "text/html": [
       "Run data is saved locally in <code>/home/jupyter/wandb/run-20220818_005641-1gboecc7</code>"
      ],
      "text/plain": [
       "<IPython.core.display.HTML object>"
      ]
     },
     "metadata": {},
     "output_type": "display_data"
    },
    {
     "data": {
      "text/html": [
       "Syncing run <strong><a href=\"https://wandb.ai/miraclelinzzz/Final-ensemble/runs/1gboecc7\" target=\"_blank\">ruby-planet-133</a></strong> to <a href=\"https://wandb.ai/miraclelinzzz/Final-ensemble\" target=\"_blank\">Weights & Biases</a> (<a href=\"https://wandb.me/run\" target=\"_blank\">docs</a>)<br/>"
      ],
      "text/plain": [
       "<IPython.core.display.HTML object>"
      ]
     },
     "metadata": {},
     "output_type": "display_data"
    },
    {
     "data": {
      "text/html": [
       "Waiting for W&B process to finish... <strong style=\"color:green\">(success).</strong>"
      ],
      "text/plain": [
       "<IPython.core.display.HTML object>"
      ]
     },
     "metadata": {},
     "output_type": "display_data"
    },
    {
     "data": {
      "text/html": [
       "<style>\n",
       "    table.wandb td:nth-child(1) { padding: 0 10px; text-align: left ; width: auto;} td:nth-child(2) {text-align: left ; width: 100%}\n",
       "    .wandb-row { display: flex; flex-direction: row; flex-wrap: wrap; justify-content: flex-start; width: 100% }\n",
       "    .wandb-col { display: flex; flex-direction: column; flex-basis: 100%; flex: 1; padding: 10px; }\n",
       "    </style>\n",
       "<div class=\"wandb-row\"><div class=\"wandb-col\"><h3>Run history:</h3><br/><table class=\"wandb\"><tr><td>Training Acc</td><td>▁▂▂▃▄▃▅▅▆▆██▇██</td></tr><tr><td>Training Loss</td><td>█▇▇▆▆▇▅▅▃▃▂▁▂▁▁</td></tr><tr><td>Validation Acc</td><td>▁▄▄▆▅▄▅▄▆▅▇▇███</td></tr><tr><td>Validation Loss</td><td>█▇▇▅▇▃▁▄▆▂▂▁▃▂▂</td></tr></table><br/></div><div class=\"wandb-col\"><h3>Run summary:</h3><br/><table class=\"wandb\"><tr><td>Training Acc</td><td>0.97059</td></tr><tr><td>Training Loss</td><td>0.33589</td></tr><tr><td>Validation Acc</td><td>0.875</td></tr><tr><td>Validation Loss</td><td>0.46131</td></tr><tr><td>test_accuracy</td><td>0.7877</td></tr><tr><td>test_losss</td><td>0.49323</td></tr></table><br/></div></div>"
      ],
      "text/plain": [
       "<IPython.core.display.HTML object>"
      ]
     },
     "metadata": {},
     "output_type": "display_data"
    },
    {
     "data": {
      "text/html": [
       "Synced <strong style=\"color:#cdcd00\">ruby-planet-133</strong>: <a href=\"https://wandb.ai/miraclelinzzz/Final-ensemble/runs/1gboecc7\" target=\"_blank\">https://wandb.ai/miraclelinzzz/Final-ensemble/runs/1gboecc7</a><br/>Synced 5 W&B file(s), 0 media file(s), 0 artifact file(s) and 0 other file(s)"
      ],
      "text/plain": [
       "<IPython.core.display.HTML object>"
      ]
     },
     "metadata": {},
     "output_type": "display_data"
    },
    {
     "data": {
      "text/html": [
       "Find logs at: <code>./wandb/run-20220818_005641-1gboecc7/logs</code>"
      ],
      "text/plain": [
       "<IPython.core.display.HTML object>"
      ]
     },
     "metadata": {},
     "output_type": "display_data"
    },
    {
     "name": "stdout",
     "output_type": "stream",
     "text": [
      "dr-0.3,arch-[256, 512, 64],bs-8,seed-30,index-3,epoch-15\n"
     ]
    },
    {
     "data": {
      "text/html": [
       "Tracking run with wandb version 0.13.1"
      ],
      "text/plain": [
       "<IPython.core.display.HTML object>"
      ]
     },
     "metadata": {},
     "output_type": "display_data"
    },
    {
     "data": {
      "text/html": [
       "Run data is saved locally in <code>/home/jupyter/wandb/run-20220818_005759-1knwei0m</code>"
      ],
      "text/plain": [
       "<IPython.core.display.HTML object>"
      ]
     },
     "metadata": {},
     "output_type": "display_data"
    },
    {
     "data": {
      "text/html": [
       "Syncing run <strong><a href=\"https://wandb.ai/miraclelinzzz/Final-ensemble/runs/1knwei0m\" target=\"_blank\">morning-bee-134</a></strong> to <a href=\"https://wandb.ai/miraclelinzzz/Final-ensemble\" target=\"_blank\">Weights & Biases</a> (<a href=\"https://wandb.me/run\" target=\"_blank\">docs</a>)<br/>"
      ],
      "text/plain": [
       "<IPython.core.display.HTML object>"
      ]
     },
     "metadata": {},
     "output_type": "display_data"
    },
    {
     "data": {
      "text/html": [
       "Waiting for W&B process to finish... <strong style=\"color:green\">(success).</strong>"
      ],
      "text/plain": [
       "<IPython.core.display.HTML object>"
      ]
     },
     "metadata": {},
     "output_type": "display_data"
    },
    {
     "data": {
      "text/html": [
       "<style>\n",
       "    table.wandb td:nth-child(1) { padding: 0 10px; text-align: left ; width: auto;} td:nth-child(2) {text-align: left ; width: 100%}\n",
       "    .wandb-row { display: flex; flex-direction: row; flex-wrap: wrap; justify-content: flex-start; width: 100% }\n",
       "    .wandb-col { display: flex; flex-direction: column; flex-basis: 100%; flex: 1; padding: 10px; }\n",
       "    </style>\n",
       "<div class=\"wandb-row\"><div class=\"wandb-col\"><h3>Run history:</h3><br/><table class=\"wandb\"><tr><td>Training Acc</td><td>▁▁▁▁▃▂▁▄▃▄▅▇▇█▇</td></tr><tr><td>Training Loss</td><td>█▇▇▇▆▆▇▅▅▄▃▂▂▁▁</td></tr><tr><td>Validation Acc</td><td>▁▃▆▃▅▇▁▂█▆▅▇█▆▆</td></tr><tr><td>Validation Loss</td><td>█▇▆▅▄▄▄▆▂▄▅▂▁▂▄</td></tr></table><br/></div><div class=\"wandb-col\"><h3>Run summary:</h3><br/><table class=\"wandb\"><tr><td>Training Acc</td><td>0.875</td></tr><tr><td>Training Loss</td><td>0.34765</td></tr><tr><td>Validation Acc</td><td>0.7</td></tr><tr><td>Validation Loss</td><td>0.56136</td></tr><tr><td>test_accuracy</td><td>0.67857</td></tr><tr><td>test_losss</td><td>0.53287</td></tr></table><br/></div></div>"
      ],
      "text/plain": [
       "<IPython.core.display.HTML object>"
      ]
     },
     "metadata": {},
     "output_type": "display_data"
    },
    {
     "data": {
      "text/html": [
       "Synced <strong style=\"color:#cdcd00\">morning-bee-134</strong>: <a href=\"https://wandb.ai/miraclelinzzz/Final-ensemble/runs/1knwei0m\" target=\"_blank\">https://wandb.ai/miraclelinzzz/Final-ensemble/runs/1knwei0m</a><br/>Synced 5 W&B file(s), 0 media file(s), 0 artifact file(s) and 0 other file(s)"
      ],
      "text/plain": [
       "<IPython.core.display.HTML object>"
      ]
     },
     "metadata": {},
     "output_type": "display_data"
    },
    {
     "data": {
      "text/html": [
       "Find logs at: <code>./wandb/run-20220818_005759-1knwei0m/logs</code>"
      ],
      "text/plain": [
       "<IPython.core.display.HTML object>"
      ]
     },
     "metadata": {},
     "output_type": "display_data"
    },
    {
     "name": "stdout",
     "output_type": "stream",
     "text": [
      "dr-0.3,arch-[128],bs-8,seed-30,index-1,epoch-15\n"
     ]
    },
    {
     "data": {
      "text/html": [
       "Tracking run with wandb version 0.13.1"
      ],
      "text/plain": [
       "<IPython.core.display.HTML object>"
      ]
     },
     "metadata": {},
     "output_type": "display_data"
    },
    {
     "data": {
      "text/html": [
       "Run data is saved locally in <code>/home/jupyter/wandb/run-20220818_005908-5bwdgrob</code>"
      ],
      "text/plain": [
       "<IPython.core.display.HTML object>"
      ]
     },
     "metadata": {},
     "output_type": "display_data"
    },
    {
     "data": {
      "text/html": [
       "Syncing run <strong><a href=\"https://wandb.ai/miraclelinzzz/Final-ensemble/runs/5bwdgrob\" target=\"_blank\">classic-wood-135</a></strong> to <a href=\"https://wandb.ai/miraclelinzzz/Final-ensemble\" target=\"_blank\">Weights & Biases</a> (<a href=\"https://wandb.me/run\" target=\"_blank\">docs</a>)<br/>"
      ],
      "text/plain": [
       "<IPython.core.display.HTML object>"
      ]
     },
     "metadata": {},
     "output_type": "display_data"
    },
    {
     "data": {
      "text/html": [
       "Waiting for W&B process to finish... <strong style=\"color:green\">(success).</strong>"
      ],
      "text/plain": [
       "<IPython.core.display.HTML object>"
      ]
     },
     "metadata": {},
     "output_type": "display_data"
    },
    {
     "data": {
      "text/html": [
       "<style>\n",
       "    table.wandb td:nth-child(1) { padding: 0 10px; text-align: left ; width: auto;} td:nth-child(2) {text-align: left ; width: 100%}\n",
       "    .wandb-row { display: flex; flex-direction: row; flex-wrap: wrap; justify-content: flex-start; width: 100% }\n",
       "    .wandb-col { display: flex; flex-direction: column; flex-basis: 100%; flex: 1; padding: 10px; }\n",
       "    </style>\n",
       "<div class=\"wandb-row\"><div class=\"wandb-col\"><h3>Run history:</h3><br/><table class=\"wandb\"><tr><td>Training Acc</td><td>▁▆▇▇███████▇█▇█</td></tr><tr><td>Training Loss</td><td>█▅▃▂▂▂▁▁▁▁▁▁▁▂▁</td></tr><tr><td>Validation Acc</td><td>▃█▄▇▅▄▆▇▆▄▄▄▇▇▁</td></tr><tr><td>Validation Loss</td><td>▃▁▄▃▄▆▄▃▃▆▆▆▃▃█</td></tr></table><br/></div><div class=\"wandb-col\"><h3>Run summary:</h3><br/><table class=\"wandb\"><tr><td>Training Acc</td><td>1.0</td></tr><tr><td>Training Loss</td><td>0.11407</td></tr><tr><td>Validation Acc</td><td>0.65</td></tr><tr><td>Validation Loss</td><td>0.98732</td></tr><tr><td>test_accuracy</td><td>0.81746</td></tr><tr><td>test_losss</td><td>0.55218</td></tr></table><br/></div></div>"
      ],
      "text/plain": [
       "<IPython.core.display.HTML object>"
      ]
     },
     "metadata": {},
     "output_type": "display_data"
    },
    {
     "data": {
      "text/html": [
       "Synced <strong style=\"color:#cdcd00\">classic-wood-135</strong>: <a href=\"https://wandb.ai/miraclelinzzz/Final-ensemble/runs/5bwdgrob\" target=\"_blank\">https://wandb.ai/miraclelinzzz/Final-ensemble/runs/5bwdgrob</a><br/>Synced 5 W&B file(s), 0 media file(s), 0 artifact file(s) and 0 other file(s)"
      ],
      "text/plain": [
       "<IPython.core.display.HTML object>"
      ]
     },
     "metadata": {},
     "output_type": "display_data"
    },
    {
     "data": {
      "text/html": [
       "Find logs at: <code>./wandb/run-20220818_005908-5bwdgrob/logs</code>"
      ],
      "text/plain": [
       "<IPython.core.display.HTML object>"
      ]
     },
     "metadata": {},
     "output_type": "display_data"
    },
    {
     "name": "stdout",
     "output_type": "stream",
     "text": [
      "dr-0.3,arch-[128],bs-8,seed-30,index-2,epoch-15\n"
     ]
    },
    {
     "data": {
      "text/html": [
       "Tracking run with wandb version 0.13.1"
      ],
      "text/plain": [
       "<IPython.core.display.HTML object>"
      ]
     },
     "metadata": {},
     "output_type": "display_data"
    },
    {
     "data": {
      "text/html": [
       "Run data is saved locally in <code>/home/jupyter/wandb/run-20220818_010015-pv7ssp31</code>"
      ],
      "text/plain": [
       "<IPython.core.display.HTML object>"
      ]
     },
     "metadata": {},
     "output_type": "display_data"
    },
    {
     "data": {
      "text/html": [
       "Syncing run <strong><a href=\"https://wandb.ai/miraclelinzzz/Final-ensemble/runs/pv7ssp31\" target=\"_blank\">devout-bird-136</a></strong> to <a href=\"https://wandb.ai/miraclelinzzz/Final-ensemble\" target=\"_blank\">Weights & Biases</a> (<a href=\"https://wandb.me/run\" target=\"_blank\">docs</a>)<br/>"
      ],
      "text/plain": [
       "<IPython.core.display.HTML object>"
      ]
     },
     "metadata": {},
     "output_type": "display_data"
    },
    {
     "data": {
      "text/html": [
       "Waiting for W&B process to finish... <strong style=\"color:green\">(success).</strong>"
      ],
      "text/plain": [
       "<IPython.core.display.HTML object>"
      ]
     },
     "metadata": {},
     "output_type": "display_data"
    },
    {
     "data": {
      "text/html": [
       "<style>\n",
       "    table.wandb td:nth-child(1) { padding: 0 10px; text-align: left ; width: auto;} td:nth-child(2) {text-align: left ; width: 100%}\n",
       "    .wandb-row { display: flex; flex-direction: row; flex-wrap: wrap; justify-content: flex-start; width: 100% }\n",
       "    .wandb-col { display: flex; flex-direction: column; flex-basis: 100%; flex: 1; padding: 10px; }\n",
       "    </style>\n",
       "<div class=\"wandb-row\"><div class=\"wandb-col\"><h3>Run history:</h3><br/><table class=\"wandb\"><tr><td>Training Acc</td><td>▁▄▆████████████</td></tr><tr><td>Training Loss</td><td>█▅▄▂▂▁▁▁▁▁▁▁▁▁▁</td></tr><tr><td>Validation Acc</td><td>▁▃▇▄▇▆▇▇█▆▇▇▇▅▇</td></tr><tr><td>Validation Loss</td><td>▆▇▁█▁▆▁▂▂▅▂▃▃▅▂</td></tr></table><br/></div><div class=\"wandb-col\"><h3>Run summary:</h3><br/><table class=\"wandb\"><tr><td>Training Acc</td><td>1.0</td></tr><tr><td>Training Loss</td><td>0.08041</td></tr><tr><td>Validation Acc</td><td>0.85</td></tr><tr><td>Validation Loss</td><td>0.35683</td></tr><tr><td>test_accuracy</td><td>0.84524</td></tr><tr><td>test_losss</td><td>0.48726</td></tr></table><br/></div></div>"
      ],
      "text/plain": [
       "<IPython.core.display.HTML object>"
      ]
     },
     "metadata": {},
     "output_type": "display_data"
    },
    {
     "data": {
      "text/html": [
       "Synced <strong style=\"color:#cdcd00\">devout-bird-136</strong>: <a href=\"https://wandb.ai/miraclelinzzz/Final-ensemble/runs/pv7ssp31\" target=\"_blank\">https://wandb.ai/miraclelinzzz/Final-ensemble/runs/pv7ssp31</a><br/>Synced 5 W&B file(s), 0 media file(s), 0 artifact file(s) and 0 other file(s)"
      ],
      "text/plain": [
       "<IPython.core.display.HTML object>"
      ]
     },
     "metadata": {},
     "output_type": "display_data"
    },
    {
     "data": {
      "text/html": [
       "Find logs at: <code>./wandb/run-20220818_010015-pv7ssp31/logs</code>"
      ],
      "text/plain": [
       "<IPython.core.display.HTML object>"
      ]
     },
     "metadata": {},
     "output_type": "display_data"
    },
    {
     "name": "stdout",
     "output_type": "stream",
     "text": [
      "dr-0.3,arch-[128],bs-8,seed-30,index-3,epoch-15\n"
     ]
    },
    {
     "data": {
      "text/html": [
       "Tracking run with wandb version 0.13.1"
      ],
      "text/plain": [
       "<IPython.core.display.HTML object>"
      ]
     },
     "metadata": {},
     "output_type": "display_data"
    },
    {
     "data": {
      "text/html": [
       "Run data is saved locally in <code>/home/jupyter/wandb/run-20220818_010133-2ktd5e3n</code>"
      ],
      "text/plain": [
       "<IPython.core.display.HTML object>"
      ]
     },
     "metadata": {},
     "output_type": "display_data"
    },
    {
     "data": {
      "text/html": [
       "Syncing run <strong><a href=\"https://wandb.ai/miraclelinzzz/Final-ensemble/runs/2ktd5e3n\" target=\"_blank\">young-thunder-137</a></strong> to <a href=\"https://wandb.ai/miraclelinzzz/Final-ensemble\" target=\"_blank\">Weights & Biases</a> (<a href=\"https://wandb.me/run\" target=\"_blank\">docs</a>)<br/>"
      ],
      "text/plain": [
       "<IPython.core.display.HTML object>"
      ]
     },
     "metadata": {},
     "output_type": "display_data"
    },
    {
     "data": {
      "text/html": [
       "Waiting for W&B process to finish... <strong style=\"color:green\">(success).</strong>"
      ],
      "text/plain": [
       "<IPython.core.display.HTML object>"
      ]
     },
     "metadata": {},
     "output_type": "display_data"
    },
    {
     "data": {
      "text/html": [
       "<style>\n",
       "    table.wandb td:nth-child(1) { padding: 0 10px; text-align: left ; width: auto;} td:nth-child(2) {text-align: left ; width: 100%}\n",
       "    .wandb-row { display: flex; flex-direction: row; flex-wrap: wrap; justify-content: flex-start; width: 100% }\n",
       "    .wandb-col { display: flex; flex-direction: column; flex-basis: 100%; flex: 1; padding: 10px; }\n",
       "    </style>\n",
       "<div class=\"wandb-row\"><div class=\"wandb-col\"><h3>Run history:</h3><br/><table class=\"wandb\"><tr><td>Training Acc</td><td>▁▄▅▇███▇███████</td></tr><tr><td>Training Loss</td><td>█▇▄▂▂▂▂▂▁▁▁▁▁▁▂</td></tr><tr><td>Validation Acc</td><td>▃▆▁▄▂▃▁▃██▅█▅██</td></tr><tr><td>Validation Loss</td><td>▂▁▂▂▆█▇█▁▁▄▁▄▁▁</td></tr></table><br/></div><div class=\"wandb-col\"><h3>Run summary:</h3><br/><table class=\"wandb\"><tr><td>Training Acc</td><td>1.0</td></tr><tr><td>Training Loss</td><td>0.1044</td></tr><tr><td>Validation Acc</td><td>0.85</td></tr><tr><td>Validation Loss</td><td>0.55259</td></tr><tr><td>test_accuracy</td><td>0.83135</td></tr><tr><td>test_losss</td><td>0.53786</td></tr></table><br/></div></div>"
      ],
      "text/plain": [
       "<IPython.core.display.HTML object>"
      ]
     },
     "metadata": {},
     "output_type": "display_data"
    },
    {
     "data": {
      "text/html": [
       "Synced <strong style=\"color:#cdcd00\">young-thunder-137</strong>: <a href=\"https://wandb.ai/miraclelinzzz/Final-ensemble/runs/2ktd5e3n\" target=\"_blank\">https://wandb.ai/miraclelinzzz/Final-ensemble/runs/2ktd5e3n</a><br/>Synced 5 W&B file(s), 0 media file(s), 0 artifact file(s) and 0 other file(s)"
      ],
      "text/plain": [
       "<IPython.core.display.HTML object>"
      ]
     },
     "metadata": {},
     "output_type": "display_data"
    },
    {
     "data": {
      "text/html": [
       "Find logs at: <code>./wandb/run-20220818_010133-2ktd5e3n/logs</code>"
      ],
      "text/plain": [
       "<IPython.core.display.HTML object>"
      ]
     },
     "metadata": {},
     "output_type": "display_data"
    },
    {
     "name": "stdout",
     "output_type": "stream",
     "text": [
      "dr-0.4,arch-[128, 512, 256],bs-16,seed-30,index-1,epoch-15\n"
     ]
    },
    {
     "data": {
      "text/html": [
       "Tracking run with wandb version 0.13.1"
      ],
      "text/plain": [
       "<IPython.core.display.HTML object>"
      ]
     },
     "metadata": {},
     "output_type": "display_data"
    },
    {
     "data": {
      "text/html": [
       "Run data is saved locally in <code>/home/jupyter/wandb/run-20220818_010240-2mj03231</code>"
      ],
      "text/plain": [
       "<IPython.core.display.HTML object>"
      ]
     },
     "metadata": {},
     "output_type": "display_data"
    },
    {
     "data": {
      "text/html": [
       "Syncing run <strong><a href=\"https://wandb.ai/miraclelinzzz/Final-ensemble/runs/2mj03231\" target=\"_blank\">dutiful-lake-138</a></strong> to <a href=\"https://wandb.ai/miraclelinzzz/Final-ensemble\" target=\"_blank\">Weights & Biases</a> (<a href=\"https://wandb.me/run\" target=\"_blank\">docs</a>)<br/>"
      ],
      "text/plain": [
       "<IPython.core.display.HTML object>"
      ]
     },
     "metadata": {},
     "output_type": "display_data"
    },
    {
     "data": {
      "text/html": [
       "Waiting for W&B process to finish... <strong style=\"color:green\">(success).</strong>"
      ],
      "text/plain": [
       "<IPython.core.display.HTML object>"
      ]
     },
     "metadata": {},
     "output_type": "display_data"
    },
    {
     "data": {
      "text/html": [
       "<style>\n",
       "    table.wandb td:nth-child(1) { padding: 0 10px; text-align: left ; width: auto;} td:nth-child(2) {text-align: left ; width: 100%}\n",
       "    .wandb-row { display: flex; flex-direction: row; flex-wrap: wrap; justify-content: flex-start; width: 100% }\n",
       "    .wandb-col { display: flex; flex-direction: column; flex-basis: 100%; flex: 1; padding: 10px; }\n",
       "    </style>\n",
       "<div class=\"wandb-row\"><div class=\"wandb-col\"><h3>Run history:</h3><br/><table class=\"wandb\"><tr><td>Training Acc</td><td>▁▂▃▃▄▄▅▅▆▆▇▇███</td></tr><tr><td>Training Loss</td><td>█▇▇▆▆▆▄▄▄▃▂▂▁▁▁</td></tr><tr><td>Validation Acc</td><td>▅▁▆▅▃▇▃█▄███▇▇▆</td></tr><tr><td>Validation Loss</td><td>▆▆▆▅▇▄█▂▆▂▁▂▁▂▃</td></tr></table><br/></div><div class=\"wandb-col\"><h3>Run summary:</h3><br/><table class=\"wandb\"><tr><td>Training Acc</td><td>0.88889</td></tr><tr><td>Training Loss</td><td>0.30238</td></tr><tr><td>Validation Acc</td><td>0.64583</td></tr><tr><td>Validation Loss</td><td>0.52575</td></tr><tr><td>test_accuracy</td><td>0.80536</td></tr><tr><td>test_losss</td><td>0.47061</td></tr></table><br/></div></div>"
      ],
      "text/plain": [
       "<IPython.core.display.HTML object>"
      ]
     },
     "metadata": {},
     "output_type": "display_data"
    },
    {
     "data": {
      "text/html": [
       "Synced <strong style=\"color:#cdcd00\">dutiful-lake-138</strong>: <a href=\"https://wandb.ai/miraclelinzzz/Final-ensemble/runs/2mj03231\" target=\"_blank\">https://wandb.ai/miraclelinzzz/Final-ensemble/runs/2mj03231</a><br/>Synced 5 W&B file(s), 0 media file(s), 0 artifact file(s) and 0 other file(s)"
      ],
      "text/plain": [
       "<IPython.core.display.HTML object>"
      ]
     },
     "metadata": {},
     "output_type": "display_data"
    },
    {
     "data": {
      "text/html": [
       "Find logs at: <code>./wandb/run-20220818_010240-2mj03231/logs</code>"
      ],
      "text/plain": [
       "<IPython.core.display.HTML object>"
      ]
     },
     "metadata": {},
     "output_type": "display_data"
    },
    {
     "name": "stdout",
     "output_type": "stream",
     "text": [
      "dr-0.4,arch-[128, 512, 256],bs-16,seed-30,index-2,epoch-15\n"
     ]
    },
    {
     "data": {
      "text/html": [
       "Tracking run with wandb version 0.13.1"
      ],
      "text/plain": [
       "<IPython.core.display.HTML object>"
      ]
     },
     "metadata": {},
     "output_type": "display_data"
    },
    {
     "data": {
      "text/html": [
       "Run data is saved locally in <code>/home/jupyter/wandb/run-20220818_010344-38jmh5s4</code>"
      ],
      "text/plain": [
       "<IPython.core.display.HTML object>"
      ]
     },
     "metadata": {},
     "output_type": "display_data"
    },
    {
     "data": {
      "text/html": [
       "Syncing run <strong><a href=\"https://wandb.ai/miraclelinzzz/Final-ensemble/runs/38jmh5s4\" target=\"_blank\">logical-hill-139</a></strong> to <a href=\"https://wandb.ai/miraclelinzzz/Final-ensemble\" target=\"_blank\">Weights & Biases</a> (<a href=\"https://wandb.me/run\" target=\"_blank\">docs</a>)<br/>"
      ],
      "text/plain": [
       "<IPython.core.display.HTML object>"
      ]
     },
     "metadata": {},
     "output_type": "display_data"
    },
    {
     "data": {
      "text/html": [
       "Waiting for W&B process to finish... <strong style=\"color:green\">(success).</strong>"
      ],
      "text/plain": [
       "<IPython.core.display.HTML object>"
      ]
     },
     "metadata": {},
     "output_type": "display_data"
    },
    {
     "data": {
      "text/html": [
       "<style>\n",
       "    table.wandb td:nth-child(1) { padding: 0 10px; text-align: left ; width: auto;} td:nth-child(2) {text-align: left ; width: 100%}\n",
       "    .wandb-row { display: flex; flex-direction: row; flex-wrap: wrap; justify-content: flex-start; width: 100% }\n",
       "    .wandb-col { display: flex; flex-direction: column; flex-basis: 100%; flex: 1; padding: 10px; }\n",
       "    </style>\n",
       "<div class=\"wandb-row\"><div class=\"wandb-col\"><h3>Run history:</h3><br/><table class=\"wandb\"><tr><td>Training Acc</td><td>▁▂▂▁▃▃▄▅▅▆▇▇▇▇█</td></tr><tr><td>Training Loss</td><td>██▇▇▆▆▅▅▄▃▂▂▂▂▁</td></tr><tr><td>Validation Acc</td><td>▃▁▁▇▇▅▇█▇▅▇█▆██</td></tr><tr><td>Validation Loss</td><td>██▇▅▄▅▄▂▃▇▂▁▃▂▁</td></tr></table><br/></div><div class=\"wandb-col\"><h3>Run summary:</h3><br/><table class=\"wandb\"><tr><td>Training Acc</td><td>0.93056</td></tr><tr><td>Training Loss</td><td>0.30837</td></tr><tr><td>Validation Acc</td><td>0.89583</td></tr><tr><td>Validation Loss</td><td>0.40995</td></tr><tr><td>test_accuracy</td><td>0.80536</td></tr><tr><td>test_losss</td><td>0.46445</td></tr></table><br/></div></div>"
      ],
      "text/plain": [
       "<IPython.core.display.HTML object>"
      ]
     },
     "metadata": {},
     "output_type": "display_data"
    },
    {
     "data": {
      "text/html": [
       "Synced <strong style=\"color:#cdcd00\">logical-hill-139</strong>: <a href=\"https://wandb.ai/miraclelinzzz/Final-ensemble/runs/38jmh5s4\" target=\"_blank\">https://wandb.ai/miraclelinzzz/Final-ensemble/runs/38jmh5s4</a><br/>Synced 5 W&B file(s), 0 media file(s), 0 artifact file(s) and 0 other file(s)"
      ],
      "text/plain": [
       "<IPython.core.display.HTML object>"
      ]
     },
     "metadata": {},
     "output_type": "display_data"
    },
    {
     "data": {
      "text/html": [
       "Find logs at: <code>./wandb/run-20220818_010344-38jmh5s4/logs</code>"
      ],
      "text/plain": [
       "<IPython.core.display.HTML object>"
      ]
     },
     "metadata": {},
     "output_type": "display_data"
    },
    {
     "name": "stdout",
     "output_type": "stream",
     "text": [
      "dr-0.4,arch-[128, 512, 256],bs-16,seed-30,index-3,epoch-15\n"
     ]
    },
    {
     "data": {
      "text/html": [
       "Tracking run with wandb version 0.13.1"
      ],
      "text/plain": [
       "<IPython.core.display.HTML object>"
      ]
     },
     "metadata": {},
     "output_type": "display_data"
    },
    {
     "data": {
      "text/html": [
       "Run data is saved locally in <code>/home/jupyter/wandb/run-20220818_010500-1d1xu1m6</code>"
      ],
      "text/plain": [
       "<IPython.core.display.HTML object>"
      ]
     },
     "metadata": {},
     "output_type": "display_data"
    },
    {
     "data": {
      "text/html": [
       "Syncing run <strong><a href=\"https://wandb.ai/miraclelinzzz/Final-ensemble/runs/1d1xu1m6\" target=\"_blank\">glowing-field-140</a></strong> to <a href=\"https://wandb.ai/miraclelinzzz/Final-ensemble\" target=\"_blank\">Weights & Biases</a> (<a href=\"https://wandb.me/run\" target=\"_blank\">docs</a>)<br/>"
      ],
      "text/plain": [
       "<IPython.core.display.HTML object>"
      ]
     },
     "metadata": {},
     "output_type": "display_data"
    },
    {
     "data": {
      "text/html": [
       "Waiting for W&B process to finish... <strong style=\"color:green\">(success).</strong>"
      ],
      "text/plain": [
       "<IPython.core.display.HTML object>"
      ]
     },
     "metadata": {},
     "output_type": "display_data"
    },
    {
     "data": {
      "text/html": [
       "<style>\n",
       "    table.wandb td:nth-child(1) { padding: 0 10px; text-align: left ; width: auto;} td:nth-child(2) {text-align: left ; width: 100%}\n",
       "    .wandb-row { display: flex; flex-direction: row; flex-wrap: wrap; justify-content: flex-start; width: 100% }\n",
       "    .wandb-col { display: flex; flex-direction: column; flex-basis: 100%; flex: 1; padding: 10px; }\n",
       "    </style>\n",
       "<div class=\"wandb-row\"><div class=\"wandb-col\"><h3>Run history:</h3><br/><table class=\"wandb\"><tr><td>Training Acc</td><td>▁▁▂▃▃▄▄▄▄▅▅▆▇█▇</td></tr><tr><td>Training Loss</td><td>█▇▆▇▆▅▄▃▄▃▃▂▁▁▁</td></tr><tr><td>Validation Acc</td><td>▄▁▄▃█▇▇▆▃▇▁▄█▄▇</td></tr><tr><td>Validation Loss</td><td>▇▆▅▄▄▁▃▄▇▂█▅▁▃▃</td></tr></table><br/></div><div class=\"wandb-col\"><h3>Run summary:</h3><br/><table class=\"wandb\"><tr><td>Training Acc</td><td>0.85417</td></tr><tr><td>Training Loss</td><td>0.32859</td></tr><tr><td>Validation Acc</td><td>0.75</td></tr><tr><td>Validation Loss</td><td>0.54805</td></tr><tr><td>test_accuracy</td><td>0.71786</td></tr><tr><td>test_losss</td><td>0.49112</td></tr></table><br/></div></div>"
      ],
      "text/plain": [
       "<IPython.core.display.HTML object>"
      ]
     },
     "metadata": {},
     "output_type": "display_data"
    },
    {
     "data": {
      "text/html": [
       "Synced <strong style=\"color:#cdcd00\">glowing-field-140</strong>: <a href=\"https://wandb.ai/miraclelinzzz/Final-ensemble/runs/1d1xu1m6\" target=\"_blank\">https://wandb.ai/miraclelinzzz/Final-ensemble/runs/1d1xu1m6</a><br/>Synced 5 W&B file(s), 0 media file(s), 0 artifact file(s) and 0 other file(s)"
      ],
      "text/plain": [
       "<IPython.core.display.HTML object>"
      ]
     },
     "metadata": {},
     "output_type": "display_data"
    },
    {
     "data": {
      "text/html": [
       "Find logs at: <code>./wandb/run-20220818_010500-1d1xu1m6/logs</code>"
      ],
      "text/plain": [
       "<IPython.core.display.HTML object>"
      ]
     },
     "metadata": {},
     "output_type": "display_data"
    },
    {
     "name": "stdout",
     "output_type": "stream",
     "text": [
      "dr-0.3,arch-[256, 64],bs-16,seed-30,index-1,epoch-15\n"
     ]
    },
    {
     "data": {
      "text/html": [
       "Tracking run with wandb version 0.13.1"
      ],
      "text/plain": [
       "<IPython.core.display.HTML object>"
      ]
     },
     "metadata": {},
     "output_type": "display_data"
    },
    {
     "data": {
      "text/html": [
       "Run data is saved locally in <code>/home/jupyter/wandb/run-20220818_010605-3hvfp3mk</code>"
      ],
      "text/plain": [
       "<IPython.core.display.HTML object>"
      ]
     },
     "metadata": {},
     "output_type": "display_data"
    },
    {
     "data": {
      "text/html": [
       "Syncing run <strong><a href=\"https://wandb.ai/miraclelinzzz/Final-ensemble/runs/3hvfp3mk\" target=\"_blank\">glowing-monkey-141</a></strong> to <a href=\"https://wandb.ai/miraclelinzzz/Final-ensemble\" target=\"_blank\">Weights & Biases</a> (<a href=\"https://wandb.me/run\" target=\"_blank\">docs</a>)<br/>"
      ],
      "text/plain": [
       "<IPython.core.display.HTML object>"
      ]
     },
     "metadata": {},
     "output_type": "display_data"
    },
    {
     "data": {
      "text/html": [
       "Waiting for W&B process to finish... <strong style=\"color:green\">(success).</strong>"
      ],
      "text/plain": [
       "<IPython.core.display.HTML object>"
      ]
     },
     "metadata": {},
     "output_type": "display_data"
    },
    {
     "data": {
      "text/html": [
       "<style>\n",
       "    table.wandb td:nth-child(1) { padding: 0 10px; text-align: left ; width: auto;} td:nth-child(2) {text-align: left ; width: 100%}\n",
       "    .wandb-row { display: flex; flex-direction: row; flex-wrap: wrap; justify-content: flex-start; width: 100% }\n",
       "    .wandb-col { display: flex; flex-direction: column; flex-basis: 100%; flex: 1; padding: 10px; }\n",
       "    </style>\n",
       "<div class=\"wandb-row\"><div class=\"wandb-col\"><h3>Run history:</h3><br/><table class=\"wandb\"><tr><td>Training Acc</td><td>▁▃▄▆▇▇█████████</td></tr><tr><td>Training Loss</td><td>█▆▅▄▃▂▂▂▁▂▁▁▁▁▁</td></tr><tr><td>Validation Acc</td><td>▁▆▄▆▇███▄▅██▂█▅</td></tr><tr><td>Validation Loss</td><td>▄▃▃▄▂▂▂▁▄▅▂▂█▂▅</td></tr></table><br/></div><div class=\"wandb-col\"><h3>Run summary:</h3><br/><table class=\"wandb\"><tr><td>Training Acc</td><td>1.0</td></tr><tr><td>Training Loss</td><td>0.21276</td></tr><tr><td>Validation Acc</td><td>0.6875</td></tr><tr><td>Validation Loss</td><td>0.69929</td></tr><tr><td>test_accuracy</td><td>0.85893</td></tr><tr><td>test_losss</td><td>0.41023</td></tr></table><br/></div></div>"
      ],
      "text/plain": [
       "<IPython.core.display.HTML object>"
      ]
     },
     "metadata": {},
     "output_type": "display_data"
    },
    {
     "data": {
      "text/html": [
       "Synced <strong style=\"color:#cdcd00\">glowing-monkey-141</strong>: <a href=\"https://wandb.ai/miraclelinzzz/Final-ensemble/runs/3hvfp3mk\" target=\"_blank\">https://wandb.ai/miraclelinzzz/Final-ensemble/runs/3hvfp3mk</a><br/>Synced 5 W&B file(s), 0 media file(s), 0 artifact file(s) and 0 other file(s)"
      ],
      "text/plain": [
       "<IPython.core.display.HTML object>"
      ]
     },
     "metadata": {},
     "output_type": "display_data"
    },
    {
     "data": {
      "text/html": [
       "Find logs at: <code>./wandb/run-20220818_010605-3hvfp3mk/logs</code>"
      ],
      "text/plain": [
       "<IPython.core.display.HTML object>"
      ]
     },
     "metadata": {},
     "output_type": "display_data"
    },
    {
     "name": "stdout",
     "output_type": "stream",
     "text": [
      "dr-0.3,arch-[256, 64],bs-16,seed-30,index-2,epoch-15\n"
     ]
    },
    {
     "data": {
      "text/html": [
       "Tracking run with wandb version 0.13.1"
      ],
      "text/plain": [
       "<IPython.core.display.HTML object>"
      ]
     },
     "metadata": {},
     "output_type": "display_data"
    },
    {
     "data": {
      "text/html": [
       "Run data is saved locally in <code>/home/jupyter/wandb/run-20220818_010709-2ypr2h96</code>"
      ],
      "text/plain": [
       "<IPython.core.display.HTML object>"
      ]
     },
     "metadata": {},
     "output_type": "display_data"
    },
    {
     "data": {
      "text/html": [
       "Syncing run <strong><a href=\"https://wandb.ai/miraclelinzzz/Final-ensemble/runs/2ypr2h96\" target=\"_blank\">super-morning-142</a></strong> to <a href=\"https://wandb.ai/miraclelinzzz/Final-ensemble\" target=\"_blank\">Weights & Biases</a> (<a href=\"https://wandb.me/run\" target=\"_blank\">docs</a>)<br/>"
      ],
      "text/plain": [
       "<IPython.core.display.HTML object>"
      ]
     },
     "metadata": {},
     "output_type": "display_data"
    },
    {
     "data": {
      "text/html": [
       "Waiting for W&B process to finish... <strong style=\"color:green\">(success).</strong>"
      ],
      "text/plain": [
       "<IPython.core.display.HTML object>"
      ]
     },
     "metadata": {},
     "output_type": "display_data"
    },
    {
     "data": {
      "text/html": [
       "<style>\n",
       "    table.wandb td:nth-child(1) { padding: 0 10px; text-align: left ; width: auto;} td:nth-child(2) {text-align: left ; width: 100%}\n",
       "    .wandb-row { display: flex; flex-direction: row; flex-wrap: wrap; justify-content: flex-start; width: 100% }\n",
       "    .wandb-col { display: flex; flex-direction: column; flex-basis: 100%; flex: 1; padding: 10px; }\n",
       "    </style>\n",
       "<div class=\"wandb-row\"><div class=\"wandb-col\"><h3>Run history:</h3><br/><table class=\"wandb\"><tr><td>Training Acc</td><td>▁▃▅▆▅▇▆████▇███</td></tr><tr><td>Training Loss</td><td>█▇▆▄▄▃▃▁▂▁▁▂▁▁▁</td></tr><tr><td>Validation Acc</td><td>▂▁▆▇██▇▅▇▇▇▇▅▅▇</td></tr><tr><td>Validation Loss</td><td>█▇▅▄▁▁▃▃▂▂▂▁▇▆▂</td></tr></table><br/></div><div class=\"wandb-col\"><h3>Run summary:</h3><br/><table class=\"wandb\"><tr><td>Training Acc</td><td>1.0</td></tr><tr><td>Training Loss</td><td>0.18695</td></tr><tr><td>Validation Acc</td><td>0.83333</td></tr><tr><td>Validation Loss</td><td>0.36873</td></tr><tr><td>test_accuracy</td><td>0.83036</td></tr><tr><td>test_losss</td><td>0.42851</td></tr></table><br/></div></div>"
      ],
      "text/plain": [
       "<IPython.core.display.HTML object>"
      ]
     },
     "metadata": {},
     "output_type": "display_data"
    },
    {
     "data": {
      "text/html": [
       "Synced <strong style=\"color:#cdcd00\">super-morning-142</strong>: <a href=\"https://wandb.ai/miraclelinzzz/Final-ensemble/runs/2ypr2h96\" target=\"_blank\">https://wandb.ai/miraclelinzzz/Final-ensemble/runs/2ypr2h96</a><br/>Synced 5 W&B file(s), 0 media file(s), 0 artifact file(s) and 0 other file(s)"
      ],
      "text/plain": [
       "<IPython.core.display.HTML object>"
      ]
     },
     "metadata": {},
     "output_type": "display_data"
    },
    {
     "data": {
      "text/html": [
       "Find logs at: <code>./wandb/run-20220818_010709-2ypr2h96/logs</code>"
      ],
      "text/plain": [
       "<IPython.core.display.HTML object>"
      ]
     },
     "metadata": {},
     "output_type": "display_data"
    },
    {
     "name": "stdout",
     "output_type": "stream",
     "text": [
      "dr-0.3,arch-[256, 64],bs-16,seed-30,index-3,epoch-15\n"
     ]
    },
    {
     "data": {
      "text/html": [
       "Tracking run with wandb version 0.13.1"
      ],
      "text/plain": [
       "<IPython.core.display.HTML object>"
      ]
     },
     "metadata": {},
     "output_type": "display_data"
    },
    {
     "data": {
      "text/html": [
       "Run data is saved locally in <code>/home/jupyter/wandb/run-20220818_010825-41va3k6b</code>"
      ],
      "text/plain": [
       "<IPython.core.display.HTML object>"
      ]
     },
     "metadata": {},
     "output_type": "display_data"
    },
    {
     "data": {
      "text/html": [
       "Syncing run <strong><a href=\"https://wandb.ai/miraclelinzzz/Final-ensemble/runs/41va3k6b\" target=\"_blank\">spring-voice-143</a></strong> to <a href=\"https://wandb.ai/miraclelinzzz/Final-ensemble\" target=\"_blank\">Weights & Biases</a> (<a href=\"https://wandb.me/run\" target=\"_blank\">docs</a>)<br/>"
      ],
      "text/plain": [
       "<IPython.core.display.HTML object>"
      ]
     },
     "metadata": {},
     "output_type": "display_data"
    },
    {
     "data": {
      "text/html": [
       "Waiting for W&B process to finish... <strong style=\"color:green\">(success).</strong>"
      ],
      "text/plain": [
       "<IPython.core.display.HTML object>"
      ]
     },
     "metadata": {},
     "output_type": "display_data"
    },
    {
     "data": {
      "text/html": [
       "<style>\n",
       "    table.wandb td:nth-child(1) { padding: 0 10px; text-align: left ; width: auto;} td:nth-child(2) {text-align: left ; width: 100%}\n",
       "    .wandb-row { display: flex; flex-direction: row; flex-wrap: wrap; justify-content: flex-start; width: 100% }\n",
       "    .wandb-col { display: flex; flex-direction: column; flex-basis: 100%; flex: 1; padding: 10px; }\n",
       "    </style>\n",
       "<div class=\"wandb-row\"><div class=\"wandb-col\"><h3>Run history:</h3><br/><table class=\"wandb\"><tr><td>Training Acc</td><td>▁▁▂▄▇▇▇███████▇</td></tr><tr><td>Training Loss</td><td>█▇▇▅▄▃▂▂▁▁▁▁▂▁▂</td></tr><tr><td>Validation Acc</td><td>▁▇▁█▅▇█▅▅███▅██</td></tr><tr><td>Validation Loss</td><td>██▅▅▆▁▄▆█▁▂▁█▁▁</td></tr></table><br/></div><div class=\"wandb-col\"><h3>Run summary:</h3><br/><table class=\"wandb\"><tr><td>Training Acc</td><td>0.91667</td></tr><tr><td>Training Loss</td><td>0.24462</td></tr><tr><td>Validation Acc</td><td>0.85417</td></tr><tr><td>Validation Loss</td><td>0.38633</td></tr><tr><td>test_accuracy</td><td>0.81786</td></tr><tr><td>test_losss</td><td>0.47015</td></tr></table><br/></div></div>"
      ],
      "text/plain": [
       "<IPython.core.display.HTML object>"
      ]
     },
     "metadata": {},
     "output_type": "display_data"
    },
    {
     "data": {
      "text/html": [
       "Synced <strong style=\"color:#cdcd00\">spring-voice-143</strong>: <a href=\"https://wandb.ai/miraclelinzzz/Final-ensemble/runs/41va3k6b\" target=\"_blank\">https://wandb.ai/miraclelinzzz/Final-ensemble/runs/41va3k6b</a><br/>Synced 5 W&B file(s), 0 media file(s), 0 artifact file(s) and 0 other file(s)"
      ],
      "text/plain": [
       "<IPython.core.display.HTML object>"
      ]
     },
     "metadata": {},
     "output_type": "display_data"
    },
    {
     "data": {
      "text/html": [
       "Find logs at: <code>./wandb/run-20220818_010825-41va3k6b/logs</code>"
      ],
      "text/plain": [
       "<IPython.core.display.HTML object>"
      ]
     },
     "metadata": {},
     "output_type": "display_data"
    },
    {
     "name": "stdout",
     "output_type": "stream",
     "text": [
      "dr-0.4,arch-[256, 128],bs-16,seed-30,index-1,epoch-15\n"
     ]
    },
    {
     "data": {
      "text/html": [
       "Tracking run with wandb version 0.13.1"
      ],
      "text/plain": [
       "<IPython.core.display.HTML object>"
      ]
     },
     "metadata": {},
     "output_type": "display_data"
    },
    {
     "data": {
      "text/html": [
       "Run data is saved locally in <code>/home/jupyter/wandb/run-20220818_010940-f66h2m19</code>"
      ],
      "text/plain": [
       "<IPython.core.display.HTML object>"
      ]
     },
     "metadata": {},
     "output_type": "display_data"
    },
    {
     "data": {
      "text/html": [
       "Syncing run <strong><a href=\"https://wandb.ai/miraclelinzzz/Final-ensemble/runs/f66h2m19\" target=\"_blank\">dainty-water-144</a></strong> to <a href=\"https://wandb.ai/miraclelinzzz/Final-ensemble\" target=\"_blank\">Weights & Biases</a> (<a href=\"https://wandb.me/run\" target=\"_blank\">docs</a>)<br/>"
      ],
      "text/plain": [
       "<IPython.core.display.HTML object>"
      ]
     },
     "metadata": {},
     "output_type": "display_data"
    },
    {
     "data": {
      "text/html": [
       "Waiting for W&B process to finish... <strong style=\"color:green\">(success).</strong>"
      ],
      "text/plain": [
       "<IPython.core.display.HTML object>"
      ]
     },
     "metadata": {},
     "output_type": "display_data"
    },
    {
     "data": {
      "text/html": [
       "<style>\n",
       "    table.wandb td:nth-child(1) { padding: 0 10px; text-align: left ; width: auto;} td:nth-child(2) {text-align: left ; width: 100%}\n",
       "    .wandb-row { display: flex; flex-direction: row; flex-wrap: wrap; justify-content: flex-start; width: 100% }\n",
       "    .wandb-col { display: flex; flex-direction: column; flex-basis: 100%; flex: 1; padding: 10px; }\n",
       "    </style>\n",
       "<div class=\"wandb-row\"><div class=\"wandb-col\"><h3>Run history:</h3><br/><table class=\"wandb\"><tr><td>Training Acc</td><td>▁▂▄▄▆▆▇▇███████</td></tr><tr><td>Training Loss</td><td>█▇▆▅▄▃▃▂▁▁▁▁▁▁▁</td></tr><tr><td>Validation Acc</td><td>▃▁▇▇█▇▇▇█▇▇▃▃▇▇</td></tr><tr><td>Validation Loss</td><td>▄▃▃▂▂▁▂▂▁▂▁██▂▂</td></tr></table><br/></div><div class=\"wandb-col\"><h3>Run summary:</h3><br/><table class=\"wandb\"><tr><td>Training Acc</td><td>1.0</td></tr><tr><td>Training Loss</td><td>0.14134</td></tr><tr><td>Validation Acc</td><td>0.8125</td></tr><tr><td>Validation Loss</td><td>0.48199</td></tr><tr><td>test_accuracy</td><td>0.80536</td></tr><tr><td>test_losss</td><td>0.47565</td></tr></table><br/></div></div>"
      ],
      "text/plain": [
       "<IPython.core.display.HTML object>"
      ]
     },
     "metadata": {},
     "output_type": "display_data"
    },
    {
     "data": {
      "text/html": [
       "Synced <strong style=\"color:#cdcd00\">dainty-water-144</strong>: <a href=\"https://wandb.ai/miraclelinzzz/Final-ensemble/runs/f66h2m19\" target=\"_blank\">https://wandb.ai/miraclelinzzz/Final-ensemble/runs/f66h2m19</a><br/>Synced 5 W&B file(s), 0 media file(s), 0 artifact file(s) and 0 other file(s)"
      ],
      "text/plain": [
       "<IPython.core.display.HTML object>"
      ]
     },
     "metadata": {},
     "output_type": "display_data"
    },
    {
     "data": {
      "text/html": [
       "Find logs at: <code>./wandb/run-20220818_010940-f66h2m19/logs</code>"
      ],
      "text/plain": [
       "<IPython.core.display.HTML object>"
      ]
     },
     "metadata": {},
     "output_type": "display_data"
    },
    {
     "name": "stdout",
     "output_type": "stream",
     "text": [
      "dr-0.4,arch-[256, 128],bs-16,seed-30,index-2,epoch-15\n"
     ]
    },
    {
     "data": {
      "text/html": [
       "Tracking run with wandb version 0.13.1"
      ],
      "text/plain": [
       "<IPython.core.display.HTML object>"
      ]
     },
     "metadata": {},
     "output_type": "display_data"
    },
    {
     "data": {
      "text/html": [
       "Run data is saved locally in <code>/home/jupyter/wandb/run-20220818_011044-3fgadlzd</code>"
      ],
      "text/plain": [
       "<IPython.core.display.HTML object>"
      ]
     },
     "metadata": {},
     "output_type": "display_data"
    },
    {
     "data": {
      "text/html": [
       "Syncing run <strong><a href=\"https://wandb.ai/miraclelinzzz/Final-ensemble/runs/3fgadlzd\" target=\"_blank\">robust-shadow-145</a></strong> to <a href=\"https://wandb.ai/miraclelinzzz/Final-ensemble\" target=\"_blank\">Weights & Biases</a> (<a href=\"https://wandb.me/run\" target=\"_blank\">docs</a>)<br/>"
      ],
      "text/plain": [
       "<IPython.core.display.HTML object>"
      ]
     },
     "metadata": {},
     "output_type": "display_data"
    },
    {
     "data": {
      "text/html": [
       "Waiting for W&B process to finish... <strong style=\"color:green\">(success).</strong>"
      ],
      "text/plain": [
       "<IPython.core.display.HTML object>"
      ]
     },
     "metadata": {},
     "output_type": "display_data"
    },
    {
     "data": {
      "text/html": [
       "<style>\n",
       "    table.wandb td:nth-child(1) { padding: 0 10px; text-align: left ; width: auto;} td:nth-child(2) {text-align: left ; width: 100%}\n",
       "    .wandb-row { display: flex; flex-direction: row; flex-wrap: wrap; justify-content: flex-start; width: 100% }\n",
       "    .wandb-col { display: flex; flex-direction: column; flex-basis: 100%; flex: 1; padding: 10px; }\n",
       "    </style>\n",
       "<div class=\"wandb-row\"><div class=\"wandb-col\"><h3>Run history:</h3><br/><table class=\"wandb\"><tr><td>Training Acc</td><td>▁▂▃▃▄▅▅▅▇▇▇████</td></tr><tr><td>Training Loss</td><td>█▇▇▆▅▄▄▄▂▂▂▁▁▁▁</td></tr><tr><td>Validation Acc</td><td>▁▄▇▆▄▇▅▅▃▆▅█▇▇▆</td></tr><tr><td>Validation Loss</td><td>▅▅▄▃▄▃▃▅█▄▂▁▁▁▄</td></tr></table><br/></div><div class=\"wandb-col\"><h3>Run summary:</h3><br/><table class=\"wandb\"><tr><td>Training Acc</td><td>0.99306</td></tr><tr><td>Training Loss</td><td>0.1646</td></tr><tr><td>Validation Acc</td><td>0.77083</td></tr><tr><td>Validation Loss</td><td>0.52751</td></tr><tr><td>test_accuracy</td><td>0.75179</td></tr><tr><td>test_losss</td><td>0.48888</td></tr></table><br/></div></div>"
      ],
      "text/plain": [
       "<IPython.core.display.HTML object>"
      ]
     },
     "metadata": {},
     "output_type": "display_data"
    },
    {
     "data": {
      "text/html": [
       "Synced <strong style=\"color:#cdcd00\">robust-shadow-145</strong>: <a href=\"https://wandb.ai/miraclelinzzz/Final-ensemble/runs/3fgadlzd\" target=\"_blank\">https://wandb.ai/miraclelinzzz/Final-ensemble/runs/3fgadlzd</a><br/>Synced 5 W&B file(s), 0 media file(s), 0 artifact file(s) and 0 other file(s)"
      ],
      "text/plain": [
       "<IPython.core.display.HTML object>"
      ]
     },
     "metadata": {},
     "output_type": "display_data"
    },
    {
     "data": {
      "text/html": [
       "Find logs at: <code>./wandb/run-20220818_011044-3fgadlzd/logs</code>"
      ],
      "text/plain": [
       "<IPython.core.display.HTML object>"
      ]
     },
     "metadata": {},
     "output_type": "display_data"
    },
    {
     "name": "stdout",
     "output_type": "stream",
     "text": [
      "dr-0.4,arch-[256, 128],bs-16,seed-30,index-3,epoch-15\n"
     ]
    },
    {
     "data": {
      "text/html": [
       "Tracking run with wandb version 0.13.1"
      ],
      "text/plain": [
       "<IPython.core.display.HTML object>"
      ]
     },
     "metadata": {},
     "output_type": "display_data"
    },
    {
     "data": {
      "text/html": [
       "Run data is saved locally in <code>/home/jupyter/wandb/run-20220818_011158-2n8e8bjg</code>"
      ],
      "text/plain": [
       "<IPython.core.display.HTML object>"
      ]
     },
     "metadata": {},
     "output_type": "display_data"
    },
    {
     "data": {
      "text/html": [
       "Syncing run <strong><a href=\"https://wandb.ai/miraclelinzzz/Final-ensemble/runs/2n8e8bjg\" target=\"_blank\">cool-valley-146</a></strong> to <a href=\"https://wandb.ai/miraclelinzzz/Final-ensemble\" target=\"_blank\">Weights & Biases</a> (<a href=\"https://wandb.me/run\" target=\"_blank\">docs</a>)<br/>"
      ],
      "text/plain": [
       "<IPython.core.display.HTML object>"
      ]
     },
     "metadata": {},
     "output_type": "display_data"
    },
    {
     "data": {
      "text/html": [
       "Waiting for W&B process to finish... <strong style=\"color:green\">(success).</strong>"
      ],
      "text/plain": [
       "<IPython.core.display.HTML object>"
      ]
     },
     "metadata": {},
     "output_type": "display_data"
    },
    {
     "data": {
      "text/html": [
       "<style>\n",
       "    table.wandb td:nth-child(1) { padding: 0 10px; text-align: left ; width: auto;} td:nth-child(2) {text-align: left ; width: 100%}\n",
       "    .wandb-row { display: flex; flex-direction: row; flex-wrap: wrap; justify-content: flex-start; width: 100% }\n",
       "    .wandb-col { display: flex; flex-direction: column; flex-basis: 100%; flex: 1; padding: 10px; }\n",
       "    </style>\n",
       "<div class=\"wandb-row\"><div class=\"wandb-col\"><h3>Run history:</h3><br/><table class=\"wandb\"><tr><td>Training Acc</td><td>▁▂▃▅▆▆▆████▆███</td></tr><tr><td>Training Loss</td><td>█▇▆▅▃▃▃▂▁▁▁▂▁▁▁</td></tr><tr><td>Validation Acc</td><td>▁▁▄▅█▇▇█▇▅█▅███</td></tr><tr><td>Validation Loss</td><td>▆▄▄▇▁▂▁▂▁▆▁█▂▁▁</td></tr></table><br/></div><div class=\"wandb-col\"><h3>Run summary:</h3><br/><table class=\"wandb\"><tr><td>Training Acc</td><td>0.99306</td></tr><tr><td>Training Loss</td><td>0.15515</td></tr><tr><td>Validation Acc</td><td>0.875</td></tr><tr><td>Validation Loss</td><td>0.3874</td></tr><tr><td>test_accuracy</td><td>0.85893</td></tr><tr><td>test_losss</td><td>0.40906</td></tr></table><br/></div></div>"
      ],
      "text/plain": [
       "<IPython.core.display.HTML object>"
      ]
     },
     "metadata": {},
     "output_type": "display_data"
    },
    {
     "data": {
      "text/html": [
       "Synced <strong style=\"color:#cdcd00\">cool-valley-146</strong>: <a href=\"https://wandb.ai/miraclelinzzz/Final-ensemble/runs/2n8e8bjg\" target=\"_blank\">https://wandb.ai/miraclelinzzz/Final-ensemble/runs/2n8e8bjg</a><br/>Synced 5 W&B file(s), 0 media file(s), 0 artifact file(s) and 0 other file(s)"
      ],
      "text/plain": [
       "<IPython.core.display.HTML object>"
      ]
     },
     "metadata": {},
     "output_type": "display_data"
    },
    {
     "data": {
      "text/html": [
       "Find logs at: <code>./wandb/run-20220818_011158-2n8e8bjg/logs</code>"
      ],
      "text/plain": [
       "<IPython.core.display.HTML object>"
      ]
     },
     "metadata": {},
     "output_type": "display_data"
    },
    {
     "name": "stdout",
     "output_type": "stream",
     "text": [
      "dr-0.5,arch-[512, 256],bs-16,seed-30,index-1,epoch-15\n"
     ]
    },
    {
     "data": {
      "text/html": [
       "Tracking run with wandb version 0.13.1"
      ],
      "text/plain": [
       "<IPython.core.display.HTML object>"
      ]
     },
     "metadata": {},
     "output_type": "display_data"
    },
    {
     "data": {
      "text/html": [
       "Run data is saved locally in <code>/home/jupyter/wandb/run-20220818_011303-1qkiu7d2</code>"
      ],
      "text/plain": [
       "<IPython.core.display.HTML object>"
      ]
     },
     "metadata": {},
     "output_type": "display_data"
    },
    {
     "data": {
      "text/html": [
       "Syncing run <strong><a href=\"https://wandb.ai/miraclelinzzz/Final-ensemble/runs/1qkiu7d2\" target=\"_blank\">confused-smoke-147</a></strong> to <a href=\"https://wandb.ai/miraclelinzzz/Final-ensemble\" target=\"_blank\">Weights & Biases</a> (<a href=\"https://wandb.me/run\" target=\"_blank\">docs</a>)<br/>"
      ],
      "text/plain": [
       "<IPython.core.display.HTML object>"
      ]
     },
     "metadata": {},
     "output_type": "display_data"
    },
    {
     "data": {
      "text/html": [
       "Waiting for W&B process to finish... <strong style=\"color:green\">(success).</strong>"
      ],
      "text/plain": [
       "<IPython.core.display.HTML object>"
      ]
     },
     "metadata": {},
     "output_type": "display_data"
    },
    {
     "data": {
      "text/html": [
       "<style>\n",
       "    table.wandb td:nth-child(1) { padding: 0 10px; text-align: left ; width: auto;} td:nth-child(2) {text-align: left ; width: 100%}\n",
       "    .wandb-row { display: flex; flex-direction: row; flex-wrap: wrap; justify-content: flex-start; width: 100% }\n",
       "    .wandb-col { display: flex; flex-direction: column; flex-basis: 100%; flex: 1; padding: 10px; }\n",
       "    </style>\n",
       "<div class=\"wandb-row\"><div class=\"wandb-col\"><h3>Run history:</h3><br/><table class=\"wandb\"><tr><td>Training Acc</td><td>▁▂▅▄▅▇▇█▇█▇████</td></tr><tr><td>Training Loss</td><td>█▇▆▆▅▃▃▂▂▂▂▁▁▁▁</td></tr><tr><td>Validation Acc</td><td>▁▁▅▄▇▅█████████</td></tr><tr><td>Validation Loss</td><td>▆▅▆▇▂█▅▁▂▃▃▃▄▃▂</td></tr></table><br/></div><div class=\"wandb-col\"><h3>Run summary:</h3><br/><table class=\"wandb\"><tr><td>Training Acc</td><td>1.0</td></tr><tr><td>Training Loss</td><td>0.11232</td></tr><tr><td>Validation Acc</td><td>0.85417</td></tr><tr><td>Validation Loss</td><td>0.48228</td></tr><tr><td>test_accuracy</td><td>0.84643</td></tr><tr><td>test_losss</td><td>0.49739</td></tr></table><br/></div></div>"
      ],
      "text/plain": [
       "<IPython.core.display.HTML object>"
      ]
     },
     "metadata": {},
     "output_type": "display_data"
    },
    {
     "data": {
      "text/html": [
       "Synced <strong style=\"color:#cdcd00\">confused-smoke-147</strong>: <a href=\"https://wandb.ai/miraclelinzzz/Final-ensemble/runs/1qkiu7d2\" target=\"_blank\">https://wandb.ai/miraclelinzzz/Final-ensemble/runs/1qkiu7d2</a><br/>Synced 5 W&B file(s), 0 media file(s), 0 artifact file(s) and 0 other file(s)"
      ],
      "text/plain": [
       "<IPython.core.display.HTML object>"
      ]
     },
     "metadata": {},
     "output_type": "display_data"
    },
    {
     "data": {
      "text/html": [
       "Find logs at: <code>./wandb/run-20220818_011303-1qkiu7d2/logs</code>"
      ],
      "text/plain": [
       "<IPython.core.display.HTML object>"
      ]
     },
     "metadata": {},
     "output_type": "display_data"
    },
    {
     "name": "stdout",
     "output_type": "stream",
     "text": [
      "dr-0.5,arch-[512, 256],bs-16,seed-30,index-2,epoch-15\n"
     ]
    },
    {
     "data": {
      "text/html": [
       "Tracking run with wandb version 0.13.1"
      ],
      "text/plain": [
       "<IPython.core.display.HTML object>"
      ]
     },
     "metadata": {},
     "output_type": "display_data"
    },
    {
     "data": {
      "text/html": [
       "Run data is saved locally in <code>/home/jupyter/wandb/run-20220818_011407-2szkl5fp</code>"
      ],
      "text/plain": [
       "<IPython.core.display.HTML object>"
      ]
     },
     "metadata": {},
     "output_type": "display_data"
    },
    {
     "data": {
      "text/html": [
       "Syncing run <strong><a href=\"https://wandb.ai/miraclelinzzz/Final-ensemble/runs/2szkl5fp\" target=\"_blank\">lucky-cherry-148</a></strong> to <a href=\"https://wandb.ai/miraclelinzzz/Final-ensemble\" target=\"_blank\">Weights & Biases</a> (<a href=\"https://wandb.me/run\" target=\"_blank\">docs</a>)<br/>"
      ],
      "text/plain": [
       "<IPython.core.display.HTML object>"
      ]
     },
     "metadata": {},
     "output_type": "display_data"
    },
    {
     "data": {
      "text/html": [
       "Waiting for W&B process to finish... <strong style=\"color:green\">(success).</strong>"
      ],
      "text/plain": [
       "<IPython.core.display.HTML object>"
      ]
     },
     "metadata": {},
     "output_type": "display_data"
    },
    {
     "data": {
      "text/html": [
       "<style>\n",
       "    table.wandb td:nth-child(1) { padding: 0 10px; text-align: left ; width: auto;} td:nth-child(2) {text-align: left ; width: 100%}\n",
       "    .wandb-row { display: flex; flex-direction: row; flex-wrap: wrap; justify-content: flex-start; width: 100% }\n",
       "    .wandb-col { display: flex; flex-direction: column; flex-basis: 100%; flex: 1; padding: 10px; }\n",
       "    </style>\n",
       "<div class=\"wandb-row\"><div class=\"wandb-col\"><h3>Run history:</h3><br/><table class=\"wandb\"><tr><td>Training Acc</td><td>▁▁▄▅▅▆▆█▇█▇████</td></tr><tr><td>Training Loss</td><td>██▆▅▅▄▃▂▂▁▃▁▂▁▁</td></tr><tr><td>Validation Acc</td><td>▃▁▅▅▅▇▆█▇█▇█▆▇▆</td></tr><tr><td>Validation Loss</td><td>█▇▆▅▄▂▃▁▅▃▁▁▄▁▇</td></tr></table><br/></div><div class=\"wandb-col\"><h3>Run summary:</h3><br/><table class=\"wandb\"><tr><td>Training Acc</td><td>1.0</td></tr><tr><td>Training Loss</td><td>0.07147</td></tr><tr><td>Validation Acc</td><td>0.72917</td></tr><tr><td>Validation Loss</td><td>0.60308</td></tr><tr><td>test_accuracy</td><td>0.79286</td></tr><tr><td>test_losss</td><td>0.46456</td></tr></table><br/></div></div>"
      ],
      "text/plain": [
       "<IPython.core.display.HTML object>"
      ]
     },
     "metadata": {},
     "output_type": "display_data"
    },
    {
     "data": {
      "text/html": [
       "Synced <strong style=\"color:#cdcd00\">lucky-cherry-148</strong>: <a href=\"https://wandb.ai/miraclelinzzz/Final-ensemble/runs/2szkl5fp\" target=\"_blank\">https://wandb.ai/miraclelinzzz/Final-ensemble/runs/2szkl5fp</a><br/>Synced 5 W&B file(s), 0 media file(s), 0 artifact file(s) and 0 other file(s)"
      ],
      "text/plain": [
       "<IPython.core.display.HTML object>"
      ]
     },
     "metadata": {},
     "output_type": "display_data"
    },
    {
     "data": {
      "text/html": [
       "Find logs at: <code>./wandb/run-20220818_011407-2szkl5fp/logs</code>"
      ],
      "text/plain": [
       "<IPython.core.display.HTML object>"
      ]
     },
     "metadata": {},
     "output_type": "display_data"
    },
    {
     "name": "stdout",
     "output_type": "stream",
     "text": [
      "dr-0.5,arch-[512, 256],bs-16,seed-30,index-3,epoch-15\n"
     ]
    },
    {
     "data": {
      "text/html": [
       "Tracking run with wandb version 0.13.1"
      ],
      "text/plain": [
       "<IPython.core.display.HTML object>"
      ]
     },
     "metadata": {},
     "output_type": "display_data"
    },
    {
     "data": {
      "text/html": [
       "Run data is saved locally in <code>/home/jupyter/wandb/run-20220818_011522-2am0vkqu</code>"
      ],
      "text/plain": [
       "<IPython.core.display.HTML object>"
      ]
     },
     "metadata": {},
     "output_type": "display_data"
    },
    {
     "data": {
      "text/html": [
       "Syncing run <strong><a href=\"https://wandb.ai/miraclelinzzz/Final-ensemble/runs/2am0vkqu\" target=\"_blank\">giddy-wildflower-149</a></strong> to <a href=\"https://wandb.ai/miraclelinzzz/Final-ensemble\" target=\"_blank\">Weights & Biases</a> (<a href=\"https://wandb.me/run\" target=\"_blank\">docs</a>)<br/>"
      ],
      "text/plain": [
       "<IPython.core.display.HTML object>"
      ]
     },
     "metadata": {},
     "output_type": "display_data"
    },
    {
     "data": {
      "text/html": [
       "Waiting for W&B process to finish... <strong style=\"color:green\">(success).</strong>"
      ],
      "text/plain": [
       "<IPython.core.display.HTML object>"
      ]
     },
     "metadata": {},
     "output_type": "display_data"
    },
    {
     "data": {
      "text/html": [
       "<style>\n",
       "    table.wandb td:nth-child(1) { padding: 0 10px; text-align: left ; width: auto;} td:nth-child(2) {text-align: left ; width: 100%}\n",
       "    .wandb-row { display: flex; flex-direction: row; flex-wrap: wrap; justify-content: flex-start; width: 100% }\n",
       "    .wandb-col { display: flex; flex-direction: column; flex-basis: 100%; flex: 1; padding: 10px; }\n",
       "    </style>\n",
       "<div class=\"wandb-row\"><div class=\"wandb-col\"><h3>Run history:</h3><br/><table class=\"wandb\"><tr><td>Training Acc</td><td>▁▁▃▄▆▅▇█▇█▆████</td></tr><tr><td>Training Loss</td><td>█▇▆▅▄▄▃▂▂▂▃▁▁▁▁</td></tr><tr><td>Validation Acc</td><td>▁▆▄▂▅█████▅▅▅█▅</td></tr><tr><td>Validation Loss</td><td>▅▄▃▇▃▂▁▁▁▂▅██▂▇</td></tr></table><br/></div><div class=\"wandb-col\"><h3>Run summary:</h3><br/><table class=\"wandb\"><tr><td>Training Acc</td><td>1.0</td></tr><tr><td>Training Loss</td><td>0.11269</td></tr><tr><td>Validation Acc</td><td>0.6875</td></tr><tr><td>Validation Loss</td><td>0.79644</td></tr><tr><td>test_accuracy</td><td>0.83036</td></tr><tr><td>test_losss</td><td>0.46348</td></tr></table><br/></div></div>"
      ],
      "text/plain": [
       "<IPython.core.display.HTML object>"
      ]
     },
     "metadata": {},
     "output_type": "display_data"
    },
    {
     "data": {
      "text/html": [
       "Synced <strong style=\"color:#cdcd00\">giddy-wildflower-149</strong>: <a href=\"https://wandb.ai/miraclelinzzz/Final-ensemble/runs/2am0vkqu\" target=\"_blank\">https://wandb.ai/miraclelinzzz/Final-ensemble/runs/2am0vkqu</a><br/>Synced 5 W&B file(s), 0 media file(s), 0 artifact file(s) and 0 other file(s)"
      ],
      "text/plain": [
       "<IPython.core.display.HTML object>"
      ]
     },
     "metadata": {},
     "output_type": "display_data"
    },
    {
     "data": {
      "text/html": [
       "Find logs at: <code>./wandb/run-20220818_011522-2am0vkqu/logs</code>"
      ],
      "text/plain": [
       "<IPython.core.display.HTML object>"
      ]
     },
     "metadata": {},
     "output_type": "display_data"
    },
    {
     "name": "stdout",
     "output_type": "stream",
     "text": [
      "dr-0.3,arch-[256, 64, 128],bs-16,seed-30,index-1,epoch-15\n"
     ]
    },
    {
     "data": {
      "text/html": [
       "Tracking run with wandb version 0.13.1"
      ],
      "text/plain": [
       "<IPython.core.display.HTML object>"
      ]
     },
     "metadata": {},
     "output_type": "display_data"
    },
    {
     "data": {
      "text/html": [
       "Run data is saved locally in <code>/home/jupyter/wandb/run-20220818_011627-1544vwsh</code>"
      ],
      "text/plain": [
       "<IPython.core.display.HTML object>"
      ]
     },
     "metadata": {},
     "output_type": "display_data"
    },
    {
     "data": {
      "text/html": [
       "Syncing run <strong><a href=\"https://wandb.ai/miraclelinzzz/Final-ensemble/runs/1544vwsh\" target=\"_blank\">easy-firefly-150</a></strong> to <a href=\"https://wandb.ai/miraclelinzzz/Final-ensemble\" target=\"_blank\">Weights & Biases</a> (<a href=\"https://wandb.me/run\" target=\"_blank\">docs</a>)<br/>"
      ],
      "text/plain": [
       "<IPython.core.display.HTML object>"
      ]
     },
     "metadata": {},
     "output_type": "display_data"
    },
    {
     "data": {
      "text/html": [
       "Waiting for W&B process to finish... <strong style=\"color:green\">(success).</strong>"
      ],
      "text/plain": [
       "<IPython.core.display.HTML object>"
      ]
     },
     "metadata": {},
     "output_type": "display_data"
    },
    {
     "data": {
      "text/html": [
       "<style>\n",
       "    table.wandb td:nth-child(1) { padding: 0 10px; text-align: left ; width: auto;} td:nth-child(2) {text-align: left ; width: 100%}\n",
       "    .wandb-row { display: flex; flex-direction: row; flex-wrap: wrap; justify-content: flex-start; width: 100% }\n",
       "    .wandb-col { display: flex; flex-direction: column; flex-basis: 100%; flex: 1; padding: 10px; }\n",
       "    </style>\n",
       "<div class=\"wandb-row\"><div class=\"wandb-col\"><h3>Run history:</h3><br/><table class=\"wandb\"><tr><td>Training Acc</td><td>▁▂▃▃▅▄▅▅▇▇▇▇▇██</td></tr><tr><td>Training Loss</td><td>█▇▆▆▅▅▃▃▃▂▂▂▁▁▂</td></tr><tr><td>Validation Acc</td><td>▁▁▂▁▄▇▄▅███▂▂▇▇</td></tr><tr><td>Validation Loss</td><td>▆▆▅▅▃▄▂▅▃▁▁█▄▂▁</td></tr></table><br/></div><div class=\"wandb-col\"><h3>Run summary:</h3><br/><table class=\"wandb\"><tr><td>Training Acc</td><td>0.92361</td></tr><tr><td>Training Loss</td><td>0.42287</td></tr><tr><td>Validation Acc</td><td>0.83333</td></tr><tr><td>Validation Loss</td><td>0.46074</td></tr><tr><td>test_accuracy</td><td>0.80893</td></tr><tr><td>test_losss</td><td>0.50693</td></tr></table><br/></div></div>"
      ],
      "text/plain": [
       "<IPython.core.display.HTML object>"
      ]
     },
     "metadata": {},
     "output_type": "display_data"
    },
    {
     "data": {
      "text/html": [
       "Synced <strong style=\"color:#cdcd00\">easy-firefly-150</strong>: <a href=\"https://wandb.ai/miraclelinzzz/Final-ensemble/runs/1544vwsh\" target=\"_blank\">https://wandb.ai/miraclelinzzz/Final-ensemble/runs/1544vwsh</a><br/>Synced 5 W&B file(s), 0 media file(s), 0 artifact file(s) and 0 other file(s)"
      ],
      "text/plain": [
       "<IPython.core.display.HTML object>"
      ]
     },
     "metadata": {},
     "output_type": "display_data"
    },
    {
     "data": {
      "text/html": [
       "Find logs at: <code>./wandb/run-20220818_011627-1544vwsh/logs</code>"
      ],
      "text/plain": [
       "<IPython.core.display.HTML object>"
      ]
     },
     "metadata": {},
     "output_type": "display_data"
    },
    {
     "name": "stdout",
     "output_type": "stream",
     "text": [
      "dr-0.3,arch-[256, 64, 128],bs-16,seed-30,index-2,epoch-15\n"
     ]
    },
    {
     "data": {
      "text/html": [
       "Tracking run with wandb version 0.13.1"
      ],
      "text/plain": [
       "<IPython.core.display.HTML object>"
      ]
     },
     "metadata": {},
     "output_type": "display_data"
    },
    {
     "data": {
      "text/html": [
       "Run data is saved locally in <code>/home/jupyter/wandb/run-20220818_011731-3olhpbhz</code>"
      ],
      "text/plain": [
       "<IPython.core.display.HTML object>"
      ]
     },
     "metadata": {},
     "output_type": "display_data"
    },
    {
     "data": {
      "text/html": [
       "Syncing run <strong><a href=\"https://wandb.ai/miraclelinzzz/Final-ensemble/runs/3olhpbhz\" target=\"_blank\">devout-breeze-151</a></strong> to <a href=\"https://wandb.ai/miraclelinzzz/Final-ensemble\" target=\"_blank\">Weights & Biases</a> (<a href=\"https://wandb.me/run\" target=\"_blank\">docs</a>)<br/>"
      ],
      "text/plain": [
       "<IPython.core.display.HTML object>"
      ]
     },
     "metadata": {},
     "output_type": "display_data"
    },
    {
     "data": {
      "text/html": [
       "Waiting for W&B process to finish... <strong style=\"color:green\">(success).</strong>"
      ],
      "text/plain": [
       "<IPython.core.display.HTML object>"
      ]
     },
     "metadata": {},
     "output_type": "display_data"
    },
    {
     "data": {
      "text/html": [
       "<style>\n",
       "    table.wandb td:nth-child(1) { padding: 0 10px; text-align: left ; width: auto;} td:nth-child(2) {text-align: left ; width: 100%}\n",
       "    .wandb-row { display: flex; flex-direction: row; flex-wrap: wrap; justify-content: flex-start; width: 100% }\n",
       "    .wandb-col { display: flex; flex-direction: column; flex-basis: 100%; flex: 1; padding: 10px; }\n",
       "    </style>\n",
       "<div class=\"wandb-row\"><div class=\"wandb-col\"><h3>Run history:</h3><br/><table class=\"wandb\"><tr><td>Training Acc</td><td>▁▂▂▂▂▃▅▄▄▅▇▇█▇▇</td></tr><tr><td>Training Loss</td><td>██▇▇▅▅▅▄▃▃▂▁▁▂▁</td></tr><tr><td>Validation Acc</td><td>▁▃▅▄▄▄▆█▅▇▇▆▇▇█</td></tr><tr><td>Validation Loss</td><td>█▇▆▅▆▆▅▃▄▁▂▂▁▂▂</td></tr></table><br/></div><div class=\"wandb-col\"><h3>Run summary:</h3><br/><table class=\"wandb\"><tr><td>Training Acc</td><td>0.73611</td></tr><tr><td>Training Loss</td><td>0.42102</td></tr><tr><td>Validation Acc</td><td>0.83333</td></tr><tr><td>Validation Loss</td><td>0.45669</td></tr><tr><td>test_accuracy</td><td>0.69286</td></tr><tr><td>test_losss</td><td>0.50912</td></tr></table><br/></div></div>"
      ],
      "text/plain": [
       "<IPython.core.display.HTML object>"
      ]
     },
     "metadata": {},
     "output_type": "display_data"
    },
    {
     "data": {
      "text/html": [
       "Synced <strong style=\"color:#cdcd00\">devout-breeze-151</strong>: <a href=\"https://wandb.ai/miraclelinzzz/Final-ensemble/runs/3olhpbhz\" target=\"_blank\">https://wandb.ai/miraclelinzzz/Final-ensemble/runs/3olhpbhz</a><br/>Synced 5 W&B file(s), 0 media file(s), 0 artifact file(s) and 0 other file(s)"
      ],
      "text/plain": [
       "<IPython.core.display.HTML object>"
      ]
     },
     "metadata": {},
     "output_type": "display_data"
    },
    {
     "data": {
      "text/html": [
       "Find logs at: <code>./wandb/run-20220818_011731-3olhpbhz/logs</code>"
      ],
      "text/plain": [
       "<IPython.core.display.HTML object>"
      ]
     },
     "metadata": {},
     "output_type": "display_data"
    },
    {
     "name": "stdout",
     "output_type": "stream",
     "text": [
      "dr-0.3,arch-[256, 64, 128],bs-16,seed-30,index-3,epoch-15\n"
     ]
    },
    {
     "data": {
      "text/html": [
       "Tracking run with wandb version 0.13.1"
      ],
      "text/plain": [
       "<IPython.core.display.HTML object>"
      ]
     },
     "metadata": {},
     "output_type": "display_data"
    },
    {
     "data": {
      "text/html": [
       "Run data is saved locally in <code>/home/jupyter/wandb/run-20220818_011845-27zmnibo</code>"
      ],
      "text/plain": [
       "<IPython.core.display.HTML object>"
      ]
     },
     "metadata": {},
     "output_type": "display_data"
    },
    {
     "data": {
      "text/html": [
       "Syncing run <strong><a href=\"https://wandb.ai/miraclelinzzz/Final-ensemble/runs/27zmnibo\" target=\"_blank\">super-smoke-152</a></strong> to <a href=\"https://wandb.ai/miraclelinzzz/Final-ensemble\" target=\"_blank\">Weights & Biases</a> (<a href=\"https://wandb.me/run\" target=\"_blank\">docs</a>)<br/>"
      ],
      "text/plain": [
       "<IPython.core.display.HTML object>"
      ]
     },
     "metadata": {},
     "output_type": "display_data"
    },
    {
     "data": {
      "text/html": [
       "Waiting for W&B process to finish... <strong style=\"color:green\">(success).</strong>"
      ],
      "text/plain": [
       "<IPython.core.display.HTML object>"
      ]
     },
     "metadata": {},
     "output_type": "display_data"
    },
    {
     "data": {
      "text/html": [
       "<style>\n",
       "    table.wandb td:nth-child(1) { padding: 0 10px; text-align: left ; width: auto;} td:nth-child(2) {text-align: left ; width: 100%}\n",
       "    .wandb-row { display: flex; flex-direction: row; flex-wrap: wrap; justify-content: flex-start; width: 100% }\n",
       "    .wandb-col { display: flex; flex-direction: column; flex-basis: 100%; flex: 1; padding: 10px; }\n",
       "    </style>\n",
       "<div class=\"wandb-row\"><div class=\"wandb-col\"><h3>Run history:</h3><br/><table class=\"wandb\"><tr><td>Training Acc</td><td>▂▁▂▂▄▂▅▅▅▆▆▆▆▆█</td></tr><tr><td>Training Loss</td><td>██▇▇▆▆▄▄▄▃▄▂▁▂▁</td></tr><tr><td>Validation Acc</td><td>▁▃▅▆▅▄▆▅▅▇██▆█▆</td></tr><tr><td>Validation Loss</td><td>█▇▆▆▄▃▄█▆▂▂▁▁▃▃</td></tr></table><br/></div><div class=\"wandb-col\"><h3>Run summary:</h3><br/><table class=\"wandb\"><tr><td>Training Acc</td><td>0.8125</td></tr><tr><td>Training Loss</td><td>0.39328</td></tr><tr><td>Validation Acc</td><td>0.6875</td></tr><tr><td>Validation Loss</td><td>0.55194</td></tr><tr><td>test_accuracy</td><td>0.71786</td></tr><tr><td>test_losss</td><td>0.52805</td></tr></table><br/></div></div>"
      ],
      "text/plain": [
       "<IPython.core.display.HTML object>"
      ]
     },
     "metadata": {},
     "output_type": "display_data"
    },
    {
     "data": {
      "text/html": [
       "Synced <strong style=\"color:#cdcd00\">super-smoke-152</strong>: <a href=\"https://wandb.ai/miraclelinzzz/Final-ensemble/runs/27zmnibo\" target=\"_blank\">https://wandb.ai/miraclelinzzz/Final-ensemble/runs/27zmnibo</a><br/>Synced 5 W&B file(s), 0 media file(s), 0 artifact file(s) and 0 other file(s)"
      ],
      "text/plain": [
       "<IPython.core.display.HTML object>"
      ]
     },
     "metadata": {},
     "output_type": "display_data"
    },
    {
     "data": {
      "text/html": [
       "Find logs at: <code>./wandb/run-20220818_011845-27zmnibo/logs</code>"
      ],
      "text/plain": [
       "<IPython.core.display.HTML object>"
      ]
     },
     "metadata": {},
     "output_type": "display_data"
    },
    {
     "name": "stdout",
     "output_type": "stream",
     "text": [
      "dr-0.4,arch-[512, 256, 64],bs-16,seed-30,index-1,epoch-15\n"
     ]
    },
    {
     "data": {
      "text/html": [
       "Tracking run with wandb version 0.13.1"
      ],
      "text/plain": [
       "<IPython.core.display.HTML object>"
      ]
     },
     "metadata": {},
     "output_type": "display_data"
    },
    {
     "data": {
      "text/html": [
       "Run data is saved locally in <code>/home/jupyter/wandb/run-20220818_011949-1cqcx7cm</code>"
      ],
      "text/plain": [
       "<IPython.core.display.HTML object>"
      ]
     },
     "metadata": {},
     "output_type": "display_data"
    },
    {
     "data": {
      "text/html": [
       "Syncing run <strong><a href=\"https://wandb.ai/miraclelinzzz/Final-ensemble/runs/1cqcx7cm\" target=\"_blank\">magic-river-153</a></strong> to <a href=\"https://wandb.ai/miraclelinzzz/Final-ensemble\" target=\"_blank\">Weights & Biases</a> (<a href=\"https://wandb.me/run\" target=\"_blank\">docs</a>)<br/>"
      ],
      "text/plain": [
       "<IPython.core.display.HTML object>"
      ]
     },
     "metadata": {},
     "output_type": "display_data"
    },
    {
     "data": {
      "text/html": [
       "Waiting for W&B process to finish... <strong style=\"color:green\">(success).</strong>"
      ],
      "text/plain": [
       "<IPython.core.display.HTML object>"
      ]
     },
     "metadata": {},
     "output_type": "display_data"
    },
    {
     "data": {
      "text/html": [
       "<style>\n",
       "    table.wandb td:nth-child(1) { padding: 0 10px; text-align: left ; width: auto;} td:nth-child(2) {text-align: left ; width: 100%}\n",
       "    .wandb-row { display: flex; flex-direction: row; flex-wrap: wrap; justify-content: flex-start; width: 100% }\n",
       "    .wandb-col { display: flex; flex-direction: column; flex-basis: 100%; flex: 1; padding: 10px; }\n",
       "    </style>\n",
       "<div class=\"wandb-row\"><div class=\"wandb-col\"><h3>Run history:</h3><br/><table class=\"wandb\"><tr><td>Training Acc</td><td>▁▂▂▂▄▄▅▅▇▆▆▇▇██</td></tr><tr><td>Training Loss</td><td>█▇▆▆▅▅▄▃▃▂▂▂▁▁▁</td></tr><tr><td>Validation Acc</td><td>▅▃▅▁▇▃▇▇█▇▇▅▅▇▆</td></tr><tr><td>Validation Loss</td><td>▅▅▄▄▃█▁▁▁▁▁▃▄▂▄</td></tr></table><br/></div><div class=\"wandb-col\"><h3>Run summary:</h3><br/><table class=\"wandb\"><tr><td>Training Acc</td><td>0.94444</td></tr><tr><td>Training Loss</td><td>0.28208</td></tr><tr><td>Validation Acc</td><td>0.6875</td></tr><tr><td>Validation Loss</td><td>0.62493</td></tr><tr><td>test_accuracy</td><td>0.80536</td></tr><tr><td>test_losss</td><td>0.47774</td></tr></table><br/></div></div>"
      ],
      "text/plain": [
       "<IPython.core.display.HTML object>"
      ]
     },
     "metadata": {},
     "output_type": "display_data"
    },
    {
     "data": {
      "text/html": [
       "Synced <strong style=\"color:#cdcd00\">magic-river-153</strong>: <a href=\"https://wandb.ai/miraclelinzzz/Final-ensemble/runs/1cqcx7cm\" target=\"_blank\">https://wandb.ai/miraclelinzzz/Final-ensemble/runs/1cqcx7cm</a><br/>Synced 5 W&B file(s), 0 media file(s), 0 artifact file(s) and 0 other file(s)"
      ],
      "text/plain": [
       "<IPython.core.display.HTML object>"
      ]
     },
     "metadata": {},
     "output_type": "display_data"
    },
    {
     "data": {
      "text/html": [
       "Find logs at: <code>./wandb/run-20220818_011949-1cqcx7cm/logs</code>"
      ],
      "text/plain": [
       "<IPython.core.display.HTML object>"
      ]
     },
     "metadata": {},
     "output_type": "display_data"
    },
    {
     "name": "stdout",
     "output_type": "stream",
     "text": [
      "dr-0.4,arch-[512, 256, 64],bs-16,seed-30,index-2,epoch-15\n"
     ]
    },
    {
     "data": {
      "text/html": [
       "Tracking run with wandb version 0.13.1"
      ],
      "text/plain": [
       "<IPython.core.display.HTML object>"
      ]
     },
     "metadata": {},
     "output_type": "display_data"
    },
    {
     "data": {
      "text/html": [
       "Run data is saved locally in <code>/home/jupyter/wandb/run-20220818_012053-1qy973p9</code>"
      ],
      "text/plain": [
       "<IPython.core.display.HTML object>"
      ]
     },
     "metadata": {},
     "output_type": "display_data"
    },
    {
     "data": {
      "text/html": [
       "Syncing run <strong><a href=\"https://wandb.ai/miraclelinzzz/Final-ensemble/runs/1qy973p9\" target=\"_blank\">clean-sponge-154</a></strong> to <a href=\"https://wandb.ai/miraclelinzzz/Final-ensemble\" target=\"_blank\">Weights & Biases</a> (<a href=\"https://wandb.me/run\" target=\"_blank\">docs</a>)<br/>"
      ],
      "text/plain": [
       "<IPython.core.display.HTML object>"
      ]
     },
     "metadata": {},
     "output_type": "display_data"
    },
    {
     "data": {
      "text/html": [
       "Waiting for W&B process to finish... <strong style=\"color:green\">(success).</strong>"
      ],
      "text/plain": [
       "<IPython.core.display.HTML object>"
      ]
     },
     "metadata": {},
     "output_type": "display_data"
    },
    {
     "data": {
      "text/html": [
       "<style>\n",
       "    table.wandb td:nth-child(1) { padding: 0 10px; text-align: left ; width: auto;} td:nth-child(2) {text-align: left ; width: 100%}\n",
       "    .wandb-row { display: flex; flex-direction: row; flex-wrap: wrap; justify-content: flex-start; width: 100% }\n",
       "    .wandb-col { display: flex; flex-direction: column; flex-basis: 100%; flex: 1; padding: 10px; }\n",
       "    </style>\n",
       "<div class=\"wandb-row\"><div class=\"wandb-col\"><h3>Run history:</h3><br/><table class=\"wandb\"><tr><td>Training Acc</td><td>▂▁▂▃▃▄▄▅▆▆▇▇▇██</td></tr><tr><td>Training Loss</td><td>██▇█▇▆▅▄▄▂▂▃▁▁▁</td></tr><tr><td>Validation Acc</td><td>▁▁▁▄▇▁█▄▅▄▄▄▄▇▇</td></tr><tr><td>Validation Loss</td><td>███▆▃▆▁▆▄▂▂▄▂▃▁</td></tr></table><br/></div><div class=\"wandb-col\"><h3>Run summary:</h3><br/><table class=\"wandb\"><tr><td>Training Acc</td><td>0.91667</td></tr><tr><td>Training Loss</td><td>0.3368</td></tr><tr><td>Validation Acc</td><td>0.83333</td></tr><tr><td>Validation Loss</td><td>0.45398</td></tr><tr><td>test_accuracy</td><td>0.71786</td></tr><tr><td>test_losss</td><td>0.53542</td></tr></table><br/></div></div>"
      ],
      "text/plain": [
       "<IPython.core.display.HTML object>"
      ]
     },
     "metadata": {},
     "output_type": "display_data"
    },
    {
     "data": {
      "text/html": [
       "Synced <strong style=\"color:#cdcd00\">clean-sponge-154</strong>: <a href=\"https://wandb.ai/miraclelinzzz/Final-ensemble/runs/1qy973p9\" target=\"_blank\">https://wandb.ai/miraclelinzzz/Final-ensemble/runs/1qy973p9</a><br/>Synced 5 W&B file(s), 0 media file(s), 0 artifact file(s) and 0 other file(s)"
      ],
      "text/plain": [
       "<IPython.core.display.HTML object>"
      ]
     },
     "metadata": {},
     "output_type": "display_data"
    },
    {
     "data": {
      "text/html": [
       "Find logs at: <code>./wandb/run-20220818_012053-1qy973p9/logs</code>"
      ],
      "text/plain": [
       "<IPython.core.display.HTML object>"
      ]
     },
     "metadata": {},
     "output_type": "display_data"
    },
    {
     "name": "stdout",
     "output_type": "stream",
     "text": [
      "dr-0.4,arch-[512, 256, 64],bs-16,seed-30,index-3,epoch-15\n"
     ]
    },
    {
     "data": {
      "text/html": [
       "Tracking run with wandb version 0.13.1"
      ],
      "text/plain": [
       "<IPython.core.display.HTML object>"
      ]
     },
     "metadata": {},
     "output_type": "display_data"
    },
    {
     "data": {
      "text/html": [
       "Run data is saved locally in <code>/home/jupyter/wandb/run-20220818_012207-1hs24nwu</code>"
      ],
      "text/plain": [
       "<IPython.core.display.HTML object>"
      ]
     },
     "metadata": {},
     "output_type": "display_data"
    },
    {
     "data": {
      "text/html": [
       "Syncing run <strong><a href=\"https://wandb.ai/miraclelinzzz/Final-ensemble/runs/1hs24nwu\" target=\"_blank\">genial-disco-155</a></strong> to <a href=\"https://wandb.ai/miraclelinzzz/Final-ensemble\" target=\"_blank\">Weights & Biases</a> (<a href=\"https://wandb.me/run\" target=\"_blank\">docs</a>)<br/>"
      ],
      "text/plain": [
       "<IPython.core.display.HTML object>"
      ]
     },
     "metadata": {},
     "output_type": "display_data"
    },
    {
     "data": {
      "text/html": [
       "Waiting for W&B process to finish... <strong style=\"color:green\">(success).</strong>"
      ],
      "text/plain": [
       "<IPython.core.display.HTML object>"
      ]
     },
     "metadata": {},
     "output_type": "display_data"
    },
    {
     "data": {
      "text/html": [
       "<style>\n",
       "    table.wandb td:nth-child(1) { padding: 0 10px; text-align: left ; width: auto;} td:nth-child(2) {text-align: left ; width: 100%}\n",
       "    .wandb-row { display: flex; flex-direction: row; flex-wrap: wrap; justify-content: flex-start; width: 100% }\n",
       "    .wandb-col { display: flex; flex-direction: column; flex-basis: 100%; flex: 1; padding: 10px; }\n",
       "    </style>\n",
       "<div class=\"wandb-row\"><div class=\"wandb-col\"><h3>Run history:</h3><br/><table class=\"wandb\"><tr><td>Training Acc</td><td>▁▁▃▄▄▅▄▆▆▆▆▇█▇█</td></tr><tr><td>Training Loss</td><td>█▇▇▆▅▅▄▃▂▂▃▂▁▂▁</td></tr><tr><td>Validation Acc</td><td>▁▃▃▆▅▅▇█▆█▅▆██▆</td></tr><tr><td>Validation Loss</td><td>▆▆▆▅▄▅▃▂▃▃▃█▂▁▂</td></tr></table><br/></div><div class=\"wandb-col\"><h3>Run summary:</h3><br/><table class=\"wandb\"><tr><td>Training Acc</td><td>0.95139</td></tr><tr><td>Training Loss</td><td>0.32294</td></tr><tr><td>Validation Acc</td><td>0.66667</td></tr><tr><td>Validation Loss</td><td>0.47198</td></tr><tr><td>test_accuracy</td><td>0.82143</td></tr><tr><td>test_losss</td><td>0.47029</td></tr></table><br/></div></div>"
      ],
      "text/plain": [
       "<IPython.core.display.HTML object>"
      ]
     },
     "metadata": {},
     "output_type": "display_data"
    },
    {
     "data": {
      "text/html": [
       "Synced <strong style=\"color:#cdcd00\">genial-disco-155</strong>: <a href=\"https://wandb.ai/miraclelinzzz/Final-ensemble/runs/1hs24nwu\" target=\"_blank\">https://wandb.ai/miraclelinzzz/Final-ensemble/runs/1hs24nwu</a><br/>Synced 5 W&B file(s), 0 media file(s), 0 artifact file(s) and 0 other file(s)"
      ],
      "text/plain": [
       "<IPython.core.display.HTML object>"
      ]
     },
     "metadata": {},
     "output_type": "display_data"
    },
    {
     "data": {
      "text/html": [
       "Find logs at: <code>./wandb/run-20220818_012207-1hs24nwu/logs</code>"
      ],
      "text/plain": [
       "<IPython.core.display.HTML object>"
      ]
     },
     "metadata": {},
     "output_type": "display_data"
    },
    {
     "name": "stdout",
     "output_type": "stream",
     "text": [
      "dr-0.5,arch-[128],bs-16,seed-30,index-1,epoch-15\n"
     ]
    },
    {
     "data": {
      "text/html": [
       "Tracking run with wandb version 0.13.1"
      ],
      "text/plain": [
       "<IPython.core.display.HTML object>"
      ]
     },
     "metadata": {},
     "output_type": "display_data"
    },
    {
     "data": {
      "text/html": [
       "Run data is saved locally in <code>/home/jupyter/wandb/run-20220818_012312-bifseavv</code>"
      ],
      "text/plain": [
       "<IPython.core.display.HTML object>"
      ]
     },
     "metadata": {},
     "output_type": "display_data"
    },
    {
     "data": {
      "text/html": [
       "Syncing run <strong><a href=\"https://wandb.ai/miraclelinzzz/Final-ensemble/runs/bifseavv\" target=\"_blank\">dandy-tree-156</a></strong> to <a href=\"https://wandb.ai/miraclelinzzz/Final-ensemble\" target=\"_blank\">Weights & Biases</a> (<a href=\"https://wandb.me/run\" target=\"_blank\">docs</a>)<br/>"
      ],
      "text/plain": [
       "<IPython.core.display.HTML object>"
      ]
     },
     "metadata": {},
     "output_type": "display_data"
    },
    {
     "data": {
      "text/html": [
       "Waiting for W&B process to finish... <strong style=\"color:green\">(success).</strong>"
      ],
      "text/plain": [
       "<IPython.core.display.HTML object>"
      ]
     },
     "metadata": {},
     "output_type": "display_data"
    },
    {
     "data": {
      "text/html": [
       "<style>\n",
       "    table.wandb td:nth-child(1) { padding: 0 10px; text-align: left ; width: auto;} td:nth-child(2) {text-align: left ; width: 100%}\n",
       "    .wandb-row { display: flex; flex-direction: row; flex-wrap: wrap; justify-content: flex-start; width: 100% }\n",
       "    .wandb-col { display: flex; flex-direction: column; flex-basis: 100%; flex: 1; padding: 10px; }\n",
       "    </style>\n",
       "<div class=\"wandb-row\"><div class=\"wandb-col\"><h3>Run history:</h3><br/><table class=\"wandb\"><tr><td>Training Acc</td><td>▁▄▆▆████▇████▇█</td></tr><tr><td>Training Loss</td><td>█▆▄▃▁▁▁▁▂▁▁▁▁▂▁</td></tr><tr><td>Validation Acc</td><td>▄█▇██▅▅▁▅▅█▅▅▅▅</td></tr><tr><td>Validation Loss</td><td>▂▁▁▂▁▄▄█▃▅▂▄▄▄▄</td></tr></table><br/></div><div class=\"wandb-col\"><h3>Run summary:</h3><br/><table class=\"wandb\"><tr><td>Training Acc</td><td>1.0</td></tr><tr><td>Training Loss</td><td>0.07695</td></tr><tr><td>Validation Acc</td><td>0.6875</td></tr><tr><td>Validation Loss</td><td>0.95581</td></tr><tr><td>test_accuracy</td><td>0.84643</td></tr><tr><td>test_losss</td><td>0.469</td></tr></table><br/></div></div>"
      ],
      "text/plain": [
       "<IPython.core.display.HTML object>"
      ]
     },
     "metadata": {},
     "output_type": "display_data"
    },
    {
     "data": {
      "text/html": [
       "Synced <strong style=\"color:#cdcd00\">dandy-tree-156</strong>: <a href=\"https://wandb.ai/miraclelinzzz/Final-ensemble/runs/bifseavv\" target=\"_blank\">https://wandb.ai/miraclelinzzz/Final-ensemble/runs/bifseavv</a><br/>Synced 5 W&B file(s), 0 media file(s), 0 artifact file(s) and 0 other file(s)"
      ],
      "text/plain": [
       "<IPython.core.display.HTML object>"
      ]
     },
     "metadata": {},
     "output_type": "display_data"
    },
    {
     "data": {
      "text/html": [
       "Find logs at: <code>./wandb/run-20220818_012312-bifseavv/logs</code>"
      ],
      "text/plain": [
       "<IPython.core.display.HTML object>"
      ]
     },
     "metadata": {},
     "output_type": "display_data"
    },
    {
     "name": "stdout",
     "output_type": "stream",
     "text": [
      "dr-0.5,arch-[128],bs-16,seed-30,index-2,epoch-15\n"
     ]
    },
    {
     "data": {
      "text/html": [
       "Tracking run with wandb version 0.13.1"
      ],
      "text/plain": [
       "<IPython.core.display.HTML object>"
      ]
     },
     "metadata": {},
     "output_type": "display_data"
    },
    {
     "data": {
      "text/html": [
       "Run data is saved locally in <code>/home/jupyter/wandb/run-20220818_012416-2tbgt7i4</code>"
      ],
      "text/plain": [
       "<IPython.core.display.HTML object>"
      ]
     },
     "metadata": {},
     "output_type": "display_data"
    },
    {
     "data": {
      "text/html": [
       "Syncing run <strong><a href=\"https://wandb.ai/miraclelinzzz/Final-ensemble/runs/2tbgt7i4\" target=\"_blank\">vocal-valley-157</a></strong> to <a href=\"https://wandb.ai/miraclelinzzz/Final-ensemble\" target=\"_blank\">Weights & Biases</a> (<a href=\"https://wandb.me/run\" target=\"_blank\">docs</a>)<br/>"
      ],
      "text/plain": [
       "<IPython.core.display.HTML object>"
      ]
     },
     "metadata": {},
     "output_type": "display_data"
    },
    {
     "data": {
      "text/html": [
       "Waiting for W&B process to finish... <strong style=\"color:green\">(success).</strong>"
      ],
      "text/plain": [
       "<IPython.core.display.HTML object>"
      ]
     },
     "metadata": {},
     "output_type": "display_data"
    },
    {
     "data": {
      "text/html": [
       "<style>\n",
       "    table.wandb td:nth-child(1) { padding: 0 10px; text-align: left ; width: auto;} td:nth-child(2) {text-align: left ; width: 100%}\n",
       "    .wandb-row { display: flex; flex-direction: row; flex-wrap: wrap; justify-content: flex-start; width: 100% }\n",
       "    .wandb-col { display: flex; flex-direction: column; flex-basis: 100%; flex: 1; padding: 10px; }\n",
       "    </style>\n",
       "<div class=\"wandb-row\"><div class=\"wandb-col\"><h3>Run history:</h3><br/><table class=\"wandb\"><tr><td>Training Acc</td><td>▁▅▆▇████▆██████</td></tr><tr><td>Training Loss</td><td>█▆▄▃▂▁▁▁▂▁▁▁▁▁▁</td></tr><tr><td>Validation Acc</td><td>▂███▃▇█▇▄█▇▆██▁</td></tr><tr><td>Validation Loss</td><td>▄▃▂▁▃▁▁▂▃▁▂▂▂▂█</td></tr></table><br/></div><div class=\"wandb-col\"><h3>Run summary:</h3><br/><table class=\"wandb\"><tr><td>Training Acc</td><td>1.0</td></tr><tr><td>Training Loss</td><td>0.0767</td></tr><tr><td>Validation Acc</td><td>0.58333</td></tr><tr><td>Validation Loss</td><td>1.11736</td></tr><tr><td>test_accuracy</td><td>0.83036</td></tr><tr><td>test_losss</td><td>0.51473</td></tr></table><br/></div></div>"
      ],
      "text/plain": [
       "<IPython.core.display.HTML object>"
      ]
     },
     "metadata": {},
     "output_type": "display_data"
    },
    {
     "data": {
      "text/html": [
       "Synced <strong style=\"color:#cdcd00\">vocal-valley-157</strong>: <a href=\"https://wandb.ai/miraclelinzzz/Final-ensemble/runs/2tbgt7i4\" target=\"_blank\">https://wandb.ai/miraclelinzzz/Final-ensemble/runs/2tbgt7i4</a><br/>Synced 5 W&B file(s), 0 media file(s), 0 artifact file(s) and 0 other file(s)"
      ],
      "text/plain": [
       "<IPython.core.display.HTML object>"
      ]
     },
     "metadata": {},
     "output_type": "display_data"
    },
    {
     "data": {
      "text/html": [
       "Find logs at: <code>./wandb/run-20220818_012416-2tbgt7i4/logs</code>"
      ],
      "text/plain": [
       "<IPython.core.display.HTML object>"
      ]
     },
     "metadata": {},
     "output_type": "display_data"
    },
    {
     "name": "stdout",
     "output_type": "stream",
     "text": [
      "dr-0.5,arch-[128],bs-16,seed-30,index-3,epoch-15\n"
     ]
    },
    {
     "data": {
      "text/html": [
       "Tracking run with wandb version 0.13.1"
      ],
      "text/plain": [
       "<IPython.core.display.HTML object>"
      ]
     },
     "metadata": {},
     "output_type": "display_data"
    },
    {
     "data": {
      "text/html": [
       "Run data is saved locally in <code>/home/jupyter/wandb/run-20220818_012531-h1pxm6tf</code>"
      ],
      "text/plain": [
       "<IPython.core.display.HTML object>"
      ]
     },
     "metadata": {},
     "output_type": "display_data"
    },
    {
     "data": {
      "text/html": [
       "Syncing run <strong><a href=\"https://wandb.ai/miraclelinzzz/Final-ensemble/runs/h1pxm6tf\" target=\"_blank\">true-pine-158</a></strong> to <a href=\"https://wandb.ai/miraclelinzzz/Final-ensemble\" target=\"_blank\">Weights & Biases</a> (<a href=\"https://wandb.me/run\" target=\"_blank\">docs</a>)<br/>"
      ],
      "text/plain": [
       "<IPython.core.display.HTML object>"
      ]
     },
     "metadata": {},
     "output_type": "display_data"
    },
    {
     "data": {
      "text/html": [
       "Waiting for W&B process to finish... <strong style=\"color:green\">(success).</strong>"
      ],
      "text/plain": [
       "<IPython.core.display.HTML object>"
      ]
     },
     "metadata": {},
     "output_type": "display_data"
    },
    {
     "data": {
      "text/html": [
       "<style>\n",
       "    table.wandb td:nth-child(1) { padding: 0 10px; text-align: left ; width: auto;} td:nth-child(2) {text-align: left ; width: 100%}\n",
       "    .wandb-row { display: flex; flex-direction: row; flex-wrap: wrap; justify-content: flex-start; width: 100% }\n",
       "    .wandb-col { display: flex; flex-direction: column; flex-basis: 100%; flex: 1; padding: 10px; }\n",
       "    </style>\n",
       "<div class=\"wandb-row\"><div class=\"wandb-col\"><h3>Run history:</h3><br/><table class=\"wandb\"><tr><td>Training Acc</td><td>▁▅▆▇███████████</td></tr><tr><td>Training Loss</td><td>█▆▄▃▁▁▁▁▁▁▁▁▁▁▁</td></tr><tr><td>Validation Acc</td><td>▂▁▂▇██▇▃▇▇▃▇▃▃▇</td></tr><tr><td>Validation Loss</td><td>▄▃▂▁▁▁▂█▂▂▆▂▆▇▂</td></tr></table><br/></div><div class=\"wandb-col\"><h3>Run summary:</h3><br/><table class=\"wandb\"><tr><td>Training Acc</td><td>1.0</td></tr><tr><td>Training Loss</td><td>0.07237</td></tr><tr><td>Validation Acc</td><td>0.85417</td></tr><tr><td>Validation Loss</td><td>0.46642</td></tr><tr><td>test_accuracy</td><td>0.84643</td></tr><tr><td>test_losss</td><td>0.45292</td></tr></table><br/></div></div>"
      ],
      "text/plain": [
       "<IPython.core.display.HTML object>"
      ]
     },
     "metadata": {},
     "output_type": "display_data"
    },
    {
     "data": {
      "text/html": [
       "Synced <strong style=\"color:#cdcd00\">true-pine-158</strong>: <a href=\"https://wandb.ai/miraclelinzzz/Final-ensemble/runs/h1pxm6tf\" target=\"_blank\">https://wandb.ai/miraclelinzzz/Final-ensemble/runs/h1pxm6tf</a><br/>Synced 5 W&B file(s), 0 media file(s), 0 artifact file(s) and 0 other file(s)"
      ],
      "text/plain": [
       "<IPython.core.display.HTML object>"
      ]
     },
     "metadata": {},
     "output_type": "display_data"
    },
    {
     "data": {
      "text/html": [
       "Find logs at: <code>./wandb/run-20220818_012531-h1pxm6tf/logs</code>"
      ],
      "text/plain": [
       "<IPython.core.display.HTML object>"
      ]
     },
     "metadata": {},
     "output_type": "display_data"
    },
    {
     "name": "stdout",
     "output_type": "stream",
     "text": [
      "dr-0.3,arch-[64, 512],bs-16,seed-30,index-1,epoch-15\n"
     ]
    },
    {
     "data": {
      "text/html": [
       "Tracking run with wandb version 0.13.1"
      ],
      "text/plain": [
       "<IPython.core.display.HTML object>"
      ]
     },
     "metadata": {},
     "output_type": "display_data"
    },
    {
     "data": {
      "text/html": [
       "Run data is saved locally in <code>/home/jupyter/wandb/run-20220818_012635-1qnmwb1h</code>"
      ],
      "text/plain": [
       "<IPython.core.display.HTML object>"
      ]
     },
     "metadata": {},
     "output_type": "display_data"
    },
    {
     "data": {
      "text/html": [
       "Syncing run <strong><a href=\"https://wandb.ai/miraclelinzzz/Final-ensemble/runs/1qnmwb1h\" target=\"_blank\">glowing-disco-159</a></strong> to <a href=\"https://wandb.ai/miraclelinzzz/Final-ensemble\" target=\"_blank\">Weights & Biases</a> (<a href=\"https://wandb.me/run\" target=\"_blank\">docs</a>)<br/>"
      ],
      "text/plain": [
       "<IPython.core.display.HTML object>"
      ]
     },
     "metadata": {},
     "output_type": "display_data"
    },
    {
     "data": {
      "text/html": [
       "Waiting for W&B process to finish... <strong style=\"color:green\">(success).</strong>"
      ],
      "text/plain": [
       "<IPython.core.display.HTML object>"
      ]
     },
     "metadata": {},
     "output_type": "display_data"
    },
    {
     "data": {
      "text/html": [
       "<style>\n",
       "    table.wandb td:nth-child(1) { padding: 0 10px; text-align: left ; width: auto;} td:nth-child(2) {text-align: left ; width: 100%}\n",
       "    .wandb-row { display: flex; flex-direction: row; flex-wrap: wrap; justify-content: flex-start; width: 100% }\n",
       "    .wandb-col { display: flex; flex-direction: column; flex-basis: 100%; flex: 1; padding: 10px; }\n",
       "    </style>\n",
       "<div class=\"wandb-row\"><div class=\"wandb-col\"><h3>Run history:</h3><br/><table class=\"wandb\"><tr><td>Training Acc</td><td>▁▂▂▄▄▅▆▇▇▇███▇▇</td></tr><tr><td>Training Loss</td><td>█▇▆▆▅▄▃▂▂▂▁▁▁▁▂</td></tr><tr><td>Validation Acc</td><td>▃▅▁▅▆▆█▆▅▇▅▅▆▅▅</td></tr><tr><td>Validation Loss</td><td>▇▇▆▇▃▅▁▁▆▂█▅▇▇▆</td></tr></table><br/></div><div class=\"wandb-col\"><h3>Run summary:</h3><br/><table class=\"wandb\"><tr><td>Training Acc</td><td>0.90278</td></tr><tr><td>Training Loss</td><td>0.28678</td></tr><tr><td>Validation Acc</td><td>0.6875</td></tr><tr><td>Validation Loss</td><td>0.62674</td></tr><tr><td>test_accuracy</td><td>0.82143</td></tr><tr><td>test_losss</td><td>0.46519</td></tr></table><br/></div></div>"
      ],
      "text/plain": [
       "<IPython.core.display.HTML object>"
      ]
     },
     "metadata": {},
     "output_type": "display_data"
    },
    {
     "data": {
      "text/html": [
       "Synced <strong style=\"color:#cdcd00\">glowing-disco-159</strong>: <a href=\"https://wandb.ai/miraclelinzzz/Final-ensemble/runs/1qnmwb1h\" target=\"_blank\">https://wandb.ai/miraclelinzzz/Final-ensemble/runs/1qnmwb1h</a><br/>Synced 5 W&B file(s), 0 media file(s), 0 artifact file(s) and 0 other file(s)"
      ],
      "text/plain": [
       "<IPython.core.display.HTML object>"
      ]
     },
     "metadata": {},
     "output_type": "display_data"
    },
    {
     "data": {
      "text/html": [
       "Find logs at: <code>./wandb/run-20220818_012635-1qnmwb1h/logs</code>"
      ],
      "text/plain": [
       "<IPython.core.display.HTML object>"
      ]
     },
     "metadata": {},
     "output_type": "display_data"
    },
    {
     "name": "stdout",
     "output_type": "stream",
     "text": [
      "dr-0.3,arch-[64, 512],bs-16,seed-30,index-2,epoch-15\n"
     ]
    },
    {
     "data": {
      "text/html": [
       "Tracking run with wandb version 0.13.1"
      ],
      "text/plain": [
       "<IPython.core.display.HTML object>"
      ]
     },
     "metadata": {},
     "output_type": "display_data"
    },
    {
     "data": {
      "text/html": [
       "Run data is saved locally in <code>/home/jupyter/wandb/run-20220818_012739-2mpuzd69</code>"
      ],
      "text/plain": [
       "<IPython.core.display.HTML object>"
      ]
     },
     "metadata": {},
     "output_type": "display_data"
    },
    {
     "data": {
      "text/html": [
       "Syncing run <strong><a href=\"https://wandb.ai/miraclelinzzz/Final-ensemble/runs/2mpuzd69\" target=\"_blank\">solar-sun-160</a></strong> to <a href=\"https://wandb.ai/miraclelinzzz/Final-ensemble\" target=\"_blank\">Weights & Biases</a> (<a href=\"https://wandb.me/run\" target=\"_blank\">docs</a>)<br/>"
      ],
      "text/plain": [
       "<IPython.core.display.HTML object>"
      ]
     },
     "metadata": {},
     "output_type": "display_data"
    },
    {
     "data": {
      "text/html": [
       "Waiting for W&B process to finish... <strong style=\"color:green\">(success).</strong>"
      ],
      "text/plain": [
       "<IPython.core.display.HTML object>"
      ]
     },
     "metadata": {},
     "output_type": "display_data"
    },
    {
     "data": {
      "text/html": [
       "<style>\n",
       "    table.wandb td:nth-child(1) { padding: 0 10px; text-align: left ; width: auto;} td:nth-child(2) {text-align: left ; width: 100%}\n",
       "    .wandb-row { display: flex; flex-direction: row; flex-wrap: wrap; justify-content: flex-start; width: 100% }\n",
       "    .wandb-col { display: flex; flex-direction: column; flex-basis: 100%; flex: 1; padding: 10px; }\n",
       "    </style>\n",
       "<div class=\"wandb-row\"><div class=\"wandb-col\"><h3>Run history:</h3><br/><table class=\"wandb\"><tr><td>Training Acc</td><td>▁▁▂▄▅▇▇▇██████▆</td></tr><tr><td>Training Loss</td><td>██▆▆▄▃▃▃▂▂▂▁▁▂▂</td></tr><tr><td>Validation Acc</td><td>▁▁▆▂▆▄▅▄█▂███▅█</td></tr><tr><td>Validation Loss</td><td>▇▆▆▆▄▆▅▆▃█▁▁▁▅▁</td></tr></table><br/></div><div class=\"wandb-col\"><h3>Run summary:</h3><br/><table class=\"wandb\"><tr><td>Training Acc</td><td>0.86806</td></tr><tr><td>Training Loss</td><td>0.24342</td></tr><tr><td>Validation Acc</td><td>0.91667</td></tr><tr><td>Validation Loss</td><td>0.31222</td></tr><tr><td>test_accuracy</td><td>0.81786</td></tr><tr><td>test_losss</td><td>0.41263</td></tr></table><br/></div></div>"
      ],
      "text/plain": [
       "<IPython.core.display.HTML object>"
      ]
     },
     "metadata": {},
     "output_type": "display_data"
    },
    {
     "data": {
      "text/html": [
       "Synced <strong style=\"color:#cdcd00\">solar-sun-160</strong>: <a href=\"https://wandb.ai/miraclelinzzz/Final-ensemble/runs/2mpuzd69\" target=\"_blank\">https://wandb.ai/miraclelinzzz/Final-ensemble/runs/2mpuzd69</a><br/>Synced 5 W&B file(s), 0 media file(s), 0 artifact file(s) and 0 other file(s)"
      ],
      "text/plain": [
       "<IPython.core.display.HTML object>"
      ]
     },
     "metadata": {},
     "output_type": "display_data"
    },
    {
     "data": {
      "text/html": [
       "Find logs at: <code>./wandb/run-20220818_012739-2mpuzd69/logs</code>"
      ],
      "text/plain": [
       "<IPython.core.display.HTML object>"
      ]
     },
     "metadata": {},
     "output_type": "display_data"
    },
    {
     "name": "stdout",
     "output_type": "stream",
     "text": [
      "dr-0.3,arch-[64, 512],bs-16,seed-30,index-3,epoch-15\n"
     ]
    },
    {
     "data": {
      "text/html": [
       "Tracking run with wandb version 0.13.1"
      ],
      "text/plain": [
       "<IPython.core.display.HTML object>"
      ]
     },
     "metadata": {},
     "output_type": "display_data"
    },
    {
     "data": {
      "text/html": [
       "Run data is saved locally in <code>/home/jupyter/wandb/run-20220818_012853-11y6a0cq</code>"
      ],
      "text/plain": [
       "<IPython.core.display.HTML object>"
      ]
     },
     "metadata": {},
     "output_type": "display_data"
    },
    {
     "data": {
      "text/html": [
       "Syncing run <strong><a href=\"https://wandb.ai/miraclelinzzz/Final-ensemble/runs/11y6a0cq\" target=\"_blank\">wobbly-morning-161</a></strong> to <a href=\"https://wandb.ai/miraclelinzzz/Final-ensemble\" target=\"_blank\">Weights & Biases</a> (<a href=\"https://wandb.me/run\" target=\"_blank\">docs</a>)<br/>"
      ],
      "text/plain": [
       "<IPython.core.display.HTML object>"
      ]
     },
     "metadata": {},
     "output_type": "display_data"
    },
    {
     "data": {
      "text/html": [
       "Waiting for W&B process to finish... <strong style=\"color:green\">(success).</strong>"
      ],
      "text/plain": [
       "<IPython.core.display.HTML object>"
      ]
     },
     "metadata": {},
     "output_type": "display_data"
    },
    {
     "data": {
      "text/html": [
       "<style>\n",
       "    table.wandb td:nth-child(1) { padding: 0 10px; text-align: left ; width: auto;} td:nth-child(2) {text-align: left ; width: 100%}\n",
       "    .wandb-row { display: flex; flex-direction: row; flex-wrap: wrap; justify-content: flex-start; width: 100% }\n",
       "    .wandb-col { display: flex; flex-direction: column; flex-basis: 100%; flex: 1; padding: 10px; }\n",
       "    </style>\n",
       "<div class=\"wandb-row\"><div class=\"wandb-col\"><h3>Run history:</h3><br/><table class=\"wandb\"><tr><td>Training Acc</td><td>▁▁▃▃▅▆▆▇▇█▇████</td></tr><tr><td>Training Loss</td><td>█▇▇▆▄▅▃▃▂▂▂▂▁▁▁</td></tr><tr><td>Validation Acc</td><td>▁▃▆▅█▄▆████▆███</td></tr><tr><td>Validation Loss</td><td>█▇▅▄▂▆▇▂▂▁▃▅▂▂▁</td></tr></table><br/></div><div class=\"wandb-col\"><h3>Run summary:</h3><br/><table class=\"wandb\"><tr><td>Training Acc</td><td>0.99306</td></tr><tr><td>Training Loss</td><td>0.22232</td></tr><tr><td>Validation Acc</td><td>0.875</td></tr><tr><td>Validation Loss</td><td>0.37009</td></tr><tr><td>test_accuracy</td><td>0.8625</td></tr><tr><td>test_losss</td><td>0.40021</td></tr></table><br/></div></div>"
      ],
      "text/plain": [
       "<IPython.core.display.HTML object>"
      ]
     },
     "metadata": {},
     "output_type": "display_data"
    },
    {
     "data": {
      "text/html": [
       "Synced <strong style=\"color:#cdcd00\">wobbly-morning-161</strong>: <a href=\"https://wandb.ai/miraclelinzzz/Final-ensemble/runs/11y6a0cq\" target=\"_blank\">https://wandb.ai/miraclelinzzz/Final-ensemble/runs/11y6a0cq</a><br/>Synced 5 W&B file(s), 0 media file(s), 0 artifact file(s) and 0 other file(s)"
      ],
      "text/plain": [
       "<IPython.core.display.HTML object>"
      ]
     },
     "metadata": {},
     "output_type": "display_data"
    },
    {
     "data": {
      "text/html": [
       "Find logs at: <code>./wandb/run-20220818_012853-11y6a0cq/logs</code>"
      ],
      "text/plain": [
       "<IPython.core.display.HTML object>"
      ]
     },
     "metadata": {},
     "output_type": "display_data"
    },
    {
     "name": "stdout",
     "output_type": "stream",
     "text": [
      "dr-0.3,arch-[256, 512, 128],bs-16,seed-30,index-1,epoch-15\n"
     ]
    },
    {
     "data": {
      "text/html": [
       "Tracking run with wandb version 0.13.1"
      ],
      "text/plain": [
       "<IPython.core.display.HTML object>"
      ]
     },
     "metadata": {},
     "output_type": "display_data"
    },
    {
     "data": {
      "text/html": [
       "Run data is saved locally in <code>/home/jupyter/wandb/run-20220818_012957-1pnr49ul</code>"
      ],
      "text/plain": [
       "<IPython.core.display.HTML object>"
      ]
     },
     "metadata": {},
     "output_type": "display_data"
    },
    {
     "data": {
      "text/html": [
       "Syncing run <strong><a href=\"https://wandb.ai/miraclelinzzz/Final-ensemble/runs/1pnr49ul\" target=\"_blank\">hardy-dream-162</a></strong> to <a href=\"https://wandb.ai/miraclelinzzz/Final-ensemble\" target=\"_blank\">Weights & Biases</a> (<a href=\"https://wandb.me/run\" target=\"_blank\">docs</a>)<br/>"
      ],
      "text/plain": [
       "<IPython.core.display.HTML object>"
      ]
     },
     "metadata": {},
     "output_type": "display_data"
    },
    {
     "data": {
      "text/html": [
       "Waiting for W&B process to finish... <strong style=\"color:green\">(success).</strong>"
      ],
      "text/plain": [
       "<IPython.core.display.HTML object>"
      ]
     },
     "metadata": {},
     "output_type": "display_data"
    },
    {
     "data": {
      "text/html": [
       "<style>\n",
       "    table.wandb td:nth-child(1) { padding: 0 10px; text-align: left ; width: auto;} td:nth-child(2) {text-align: left ; width: 100%}\n",
       "    .wandb-row { display: flex; flex-direction: row; flex-wrap: wrap; justify-content: flex-start; width: 100% }\n",
       "    .wandb-col { display: flex; flex-direction: column; flex-basis: 100%; flex: 1; padding: 10px; }\n",
       "    </style>\n",
       "<div class=\"wandb-row\"><div class=\"wandb-col\"><h3>Run history:</h3><br/><table class=\"wandb\"><tr><td>Training Acc</td><td>▁▂▃▂▃▃▄▅▆▆▆▇███</td></tr><tr><td>Training Loss</td><td>█▇▇▇▇▆▅▄▃▃▂▂▁▁▁</td></tr><tr><td>Validation Acc</td><td>▄▁▃▄█▃▆▄▄██▅▄▅▅</td></tr><tr><td>Validation Loss</td><td>▇▆▅▄▄▇▂▃█▁▁▄▆▄▆</td></tr></table><br/></div><div class=\"wandb-col\"><h3>Run summary:</h3><br/><table class=\"wandb\"><tr><td>Training Acc</td><td>0.98611</td></tr><tr><td>Training Loss</td><td>0.24124</td></tr><tr><td>Validation Acc</td><td>0.66667</td></tr><tr><td>Validation Loss</td><td>0.66331</td></tr><tr><td>test_accuracy</td><td>0.82143</td></tr><tr><td>test_losss</td><td>0.44512</td></tr></table><br/></div></div>"
      ],
      "text/plain": [
       "<IPython.core.display.HTML object>"
      ]
     },
     "metadata": {},
     "output_type": "display_data"
    },
    {
     "data": {
      "text/html": [
       "Synced <strong style=\"color:#cdcd00\">hardy-dream-162</strong>: <a href=\"https://wandb.ai/miraclelinzzz/Final-ensemble/runs/1pnr49ul\" target=\"_blank\">https://wandb.ai/miraclelinzzz/Final-ensemble/runs/1pnr49ul</a><br/>Synced 5 W&B file(s), 0 media file(s), 0 artifact file(s) and 0 other file(s)"
      ],
      "text/plain": [
       "<IPython.core.display.HTML object>"
      ]
     },
     "metadata": {},
     "output_type": "display_data"
    },
    {
     "data": {
      "text/html": [
       "Find logs at: <code>./wandb/run-20220818_012957-1pnr49ul/logs</code>"
      ],
      "text/plain": [
       "<IPython.core.display.HTML object>"
      ]
     },
     "metadata": {},
     "output_type": "display_data"
    },
    {
     "name": "stdout",
     "output_type": "stream",
     "text": [
      "dr-0.3,arch-[256, 512, 128],bs-16,seed-30,index-2,epoch-15\n"
     ]
    },
    {
     "data": {
      "text/html": [
       "Tracking run with wandb version 0.13.1"
      ],
      "text/plain": [
       "<IPython.core.display.HTML object>"
      ]
     },
     "metadata": {},
     "output_type": "display_data"
    },
    {
     "data": {
      "text/html": [
       "Run data is saved locally in <code>/home/jupyter/wandb/run-20220818_013101-1dldwvfa</code>"
      ],
      "text/plain": [
       "<IPython.core.display.HTML object>"
      ]
     },
     "metadata": {},
     "output_type": "display_data"
    },
    {
     "data": {
      "text/html": [
       "Syncing run <strong><a href=\"https://wandb.ai/miraclelinzzz/Final-ensemble/runs/1dldwvfa\" target=\"_blank\">azure-flower-163</a></strong> to <a href=\"https://wandb.ai/miraclelinzzz/Final-ensemble\" target=\"_blank\">Weights & Biases</a> (<a href=\"https://wandb.me/run\" target=\"_blank\">docs</a>)<br/>"
      ],
      "text/plain": [
       "<IPython.core.display.HTML object>"
      ]
     },
     "metadata": {},
     "output_type": "display_data"
    },
    {
     "data": {
      "text/html": [
       "Waiting for W&B process to finish... <strong style=\"color:green\">(success).</strong>"
      ],
      "text/plain": [
       "<IPython.core.display.HTML object>"
      ]
     },
     "metadata": {},
     "output_type": "display_data"
    },
    {
     "data": {
      "text/html": [
       "<style>\n",
       "    table.wandb td:nth-child(1) { padding: 0 10px; text-align: left ; width: auto;} td:nth-child(2) {text-align: left ; width: 100%}\n",
       "    .wandb-row { display: flex; flex-direction: row; flex-wrap: wrap; justify-content: flex-start; width: 100% }\n",
       "    .wandb-col { display: flex; flex-direction: column; flex-basis: 100%; flex: 1; padding: 10px; }\n",
       "    </style>\n",
       "<div class=\"wandb-row\"><div class=\"wandb-col\"><h3>Run history:</h3><br/><table class=\"wandb\"><tr><td>Training Acc</td><td>▁▃▃▄▅▆▆▇▇██████</td></tr><tr><td>Training Loss</td><td>█▇▇▆▆▄▄▃▃▂▂▂▂▁▁</td></tr><tr><td>Validation Acc</td><td>▁▅▃▅▅▇▇▅▅██▇█▆▆</td></tr><tr><td>Validation Loss</td><td>▇█▇▄▃▄▂▄▆▁▁▂▁▇▂</td></tr></table><br/></div><div class=\"wandb-col\"><h3>Run summary:</h3><br/><table class=\"wandb\"><tr><td>Training Acc</td><td>1.0</td></tr><tr><td>Training Loss</td><td>0.1926</td></tr><tr><td>Validation Acc</td><td>0.72917</td></tr><tr><td>Validation Loss</td><td>0.40467</td></tr><tr><td>test_accuracy</td><td>0.80536</td></tr><tr><td>test_losss</td><td>0.41823</td></tr></table><br/></div></div>"
      ],
      "text/plain": [
       "<IPython.core.display.HTML object>"
      ]
     },
     "metadata": {},
     "output_type": "display_data"
    },
    {
     "data": {
      "text/html": [
       "Synced <strong style=\"color:#cdcd00\">azure-flower-163</strong>: <a href=\"https://wandb.ai/miraclelinzzz/Final-ensemble/runs/1dldwvfa\" target=\"_blank\">https://wandb.ai/miraclelinzzz/Final-ensemble/runs/1dldwvfa</a><br/>Synced 5 W&B file(s), 0 media file(s), 0 artifact file(s) and 0 other file(s)"
      ],
      "text/plain": [
       "<IPython.core.display.HTML object>"
      ]
     },
     "metadata": {},
     "output_type": "display_data"
    },
    {
     "data": {
      "text/html": [
       "Find logs at: <code>./wandb/run-20220818_013101-1dldwvfa/logs</code>"
      ],
      "text/plain": [
       "<IPython.core.display.HTML object>"
      ]
     },
     "metadata": {},
     "output_type": "display_data"
    },
    {
     "name": "stdout",
     "output_type": "stream",
     "text": [
      "dr-0.3,arch-[256, 512, 128],bs-16,seed-30,index-3,epoch-15\n"
     ]
    },
    {
     "data": {
      "text/html": [
       "Tracking run with wandb version 0.13.1"
      ],
      "text/plain": [
       "<IPython.core.display.HTML object>"
      ]
     },
     "metadata": {},
     "output_type": "display_data"
    },
    {
     "data": {
      "text/html": [
       "Run data is saved locally in <code>/home/jupyter/wandb/run-20220818_013215-367x5t5c</code>"
      ],
      "text/plain": [
       "<IPython.core.display.HTML object>"
      ]
     },
     "metadata": {},
     "output_type": "display_data"
    },
    {
     "data": {
      "text/html": [
       "Syncing run <strong><a href=\"https://wandb.ai/miraclelinzzz/Final-ensemble/runs/367x5t5c\" target=\"_blank\">fragrant-dream-164</a></strong> to <a href=\"https://wandb.ai/miraclelinzzz/Final-ensemble\" target=\"_blank\">Weights & Biases</a> (<a href=\"https://wandb.me/run\" target=\"_blank\">docs</a>)<br/>"
      ],
      "text/plain": [
       "<IPython.core.display.HTML object>"
      ]
     },
     "metadata": {},
     "output_type": "display_data"
    },
    {
     "data": {
      "text/html": [
       "Waiting for W&B process to finish... <strong style=\"color:green\">(success).</strong>"
      ],
      "text/plain": [
       "<IPython.core.display.HTML object>"
      ]
     },
     "metadata": {},
     "output_type": "display_data"
    },
    {
     "data": {
      "text/html": [
       "<style>\n",
       "    table.wandb td:nth-child(1) { padding: 0 10px; text-align: left ; width: auto;} td:nth-child(2) {text-align: left ; width: 100%}\n",
       "    .wandb-row { display: flex; flex-direction: row; flex-wrap: wrap; justify-content: flex-start; width: 100% }\n",
       "    .wandb-col { display: flex; flex-direction: column; flex-basis: 100%; flex: 1; padding: 10px; }\n",
       "    </style>\n",
       "<div class=\"wandb-row\"><div class=\"wandb-col\"><h3>Run history:</h3><br/><table class=\"wandb\"><tr><td>Training Acc</td><td>▁▃▄▄▅▅▅▆█▇█████</td></tr><tr><td>Training Loss</td><td>█▇▇▆▆▄▄▃▃▂▂▁▁▁▁</td></tr><tr><td>Validation Acc</td><td>▃▁▆▅█▅█▅█▇▆▆███</td></tr><tr><td>Validation Loss</td><td>▇▆▄▅▃▆▂█▁▂▅▆▂▁▁</td></tr></table><br/></div><div class=\"wandb-col\"><h3>Run summary:</h3><br/><table class=\"wandb\"><tr><td>Training Acc</td><td>0.98611</td></tr><tr><td>Training Loss</td><td>0.21957</td></tr><tr><td>Validation Acc</td><td>0.875</td></tr><tr><td>Validation Loss</td><td>0.38503</td></tr><tr><td>test_accuracy</td><td>0.83393</td></tr><tr><td>test_losss</td><td>0.42969</td></tr></table><br/></div></div>"
      ],
      "text/plain": [
       "<IPython.core.display.HTML object>"
      ]
     },
     "metadata": {},
     "output_type": "display_data"
    },
    {
     "data": {
      "text/html": [
       "Synced <strong style=\"color:#cdcd00\">fragrant-dream-164</strong>: <a href=\"https://wandb.ai/miraclelinzzz/Final-ensemble/runs/367x5t5c\" target=\"_blank\">https://wandb.ai/miraclelinzzz/Final-ensemble/runs/367x5t5c</a><br/>Synced 5 W&B file(s), 0 media file(s), 0 artifact file(s) and 0 other file(s)"
      ],
      "text/plain": [
       "<IPython.core.display.HTML object>"
      ]
     },
     "metadata": {},
     "output_type": "display_data"
    },
    {
     "data": {
      "text/html": [
       "Find logs at: <code>./wandb/run-20220818_013215-367x5t5c/logs</code>"
      ],
      "text/plain": [
       "<IPython.core.display.HTML object>"
      ]
     },
     "metadata": {},
     "output_type": "display_data"
    },
    {
     "name": "stdout",
     "output_type": "stream",
     "text": [
      "dr-0.4,arch-[512, 64],bs-16,seed-40,index-1,epoch-15\n"
     ]
    },
    {
     "data": {
      "text/html": [
       "Tracking run with wandb version 0.13.1"
      ],
      "text/plain": [
       "<IPython.core.display.HTML object>"
      ]
     },
     "metadata": {},
     "output_type": "display_data"
    },
    {
     "data": {
      "text/html": [
       "Run data is saved locally in <code>/home/jupyter/wandb/run-20220818_013320-2fbi40hu</code>"
      ],
      "text/plain": [
       "<IPython.core.display.HTML object>"
      ]
     },
     "metadata": {},
     "output_type": "display_data"
    },
    {
     "data": {
      "text/html": [
       "Syncing run <strong><a href=\"https://wandb.ai/miraclelinzzz/Final-ensemble/runs/2fbi40hu\" target=\"_blank\">electric-smoke-165</a></strong> to <a href=\"https://wandb.ai/miraclelinzzz/Final-ensemble\" target=\"_blank\">Weights & Biases</a> (<a href=\"https://wandb.me/run\" target=\"_blank\">docs</a>)<br/>"
      ],
      "text/plain": [
       "<IPython.core.display.HTML object>"
      ]
     },
     "metadata": {},
     "output_type": "display_data"
    },
    {
     "data": {
      "text/html": [
       "Waiting for W&B process to finish... <strong style=\"color:green\">(success).</strong>"
      ],
      "text/plain": [
       "<IPython.core.display.HTML object>"
      ]
     },
     "metadata": {},
     "output_type": "display_data"
    },
    {
     "data": {
      "text/html": [
       "<style>\n",
       "    table.wandb td:nth-child(1) { padding: 0 10px; text-align: left ; width: auto;} td:nth-child(2) {text-align: left ; width: 100%}\n",
       "    .wandb-row { display: flex; flex-direction: row; flex-wrap: wrap; justify-content: flex-start; width: 100% }\n",
       "    .wandb-col { display: flex; flex-direction: column; flex-basis: 100%; flex: 1; padding: 10px; }\n",
       "    </style>\n",
       "<div class=\"wandb-row\"><div class=\"wandb-col\"><h3>Run history:</h3><br/><table class=\"wandb\"><tr><td>Training Acc</td><td>▁▃▅▅▆▇▇██████▇█</td></tr><tr><td>Training Loss</td><td>█▇▆▅▄▃▂▂▂▂▁▁▂▂▁</td></tr><tr><td>Validation Acc</td><td>▁▃▅▆▆▆▆▆▇▇▇▆▆██</td></tr><tr><td>Validation Loss</td><td>▇▇▅▄▄▂▅█▄▃▂▇▇▁▁</td></tr></table><br/></div><div class=\"wandb-col\"><h3>Run summary:</h3><br/><table class=\"wandb\"><tr><td>Training Acc</td><td>1.0</td></tr><tr><td>Training Loss</td><td>0.17945</td></tr><tr><td>Validation Acc</td><td>0.875</td></tr><tr><td>Validation Loss</td><td>0.3478</td></tr><tr><td>test_accuracy</td><td>0.80893</td></tr><tr><td>test_losss</td><td>0.43111</td></tr></table><br/></div></div>"
      ],
      "text/plain": [
       "<IPython.core.display.HTML object>"
      ]
     },
     "metadata": {},
     "output_type": "display_data"
    },
    {
     "data": {
      "text/html": [
       "Synced <strong style=\"color:#cdcd00\">electric-smoke-165</strong>: <a href=\"https://wandb.ai/miraclelinzzz/Final-ensemble/runs/2fbi40hu\" target=\"_blank\">https://wandb.ai/miraclelinzzz/Final-ensemble/runs/2fbi40hu</a><br/>Synced 5 W&B file(s), 0 media file(s), 0 artifact file(s) and 0 other file(s)"
      ],
      "text/plain": [
       "<IPython.core.display.HTML object>"
      ]
     },
     "metadata": {},
     "output_type": "display_data"
    },
    {
     "data": {
      "text/html": [
       "Find logs at: <code>./wandb/run-20220818_013320-2fbi40hu/logs</code>"
      ],
      "text/plain": [
       "<IPython.core.display.HTML object>"
      ]
     },
     "metadata": {},
     "output_type": "display_data"
    },
    {
     "name": "stdout",
     "output_type": "stream",
     "text": [
      "dr-0.4,arch-[512, 64],bs-16,seed-40,index-2,epoch-15\n"
     ]
    },
    {
     "data": {
      "text/html": [
       "Tracking run with wandb version 0.13.1"
      ],
      "text/plain": [
       "<IPython.core.display.HTML object>"
      ]
     },
     "metadata": {},
     "output_type": "display_data"
    },
    {
     "data": {
      "text/html": [
       "Run data is saved locally in <code>/home/jupyter/wandb/run-20220818_013434-2lcrpjv3</code>"
      ],
      "text/plain": [
       "<IPython.core.display.HTML object>"
      ]
     },
     "metadata": {},
     "output_type": "display_data"
    },
    {
     "data": {
      "text/html": [
       "Syncing run <strong><a href=\"https://wandb.ai/miraclelinzzz/Final-ensemble/runs/2lcrpjv3\" target=\"_blank\">dazzling-sky-166</a></strong> to <a href=\"https://wandb.ai/miraclelinzzz/Final-ensemble\" target=\"_blank\">Weights & Biases</a> (<a href=\"https://wandb.me/run\" target=\"_blank\">docs</a>)<br/>"
      ],
      "text/plain": [
       "<IPython.core.display.HTML object>"
      ]
     },
     "metadata": {},
     "output_type": "display_data"
    },
    {
     "data": {
      "text/html": [
       "Waiting for W&B process to finish... <strong style=\"color:green\">(success).</strong>"
      ],
      "text/plain": [
       "<IPython.core.display.HTML object>"
      ]
     },
     "metadata": {},
     "output_type": "display_data"
    },
    {
     "data": {
      "text/html": [
       "<style>\n",
       "    table.wandb td:nth-child(1) { padding: 0 10px; text-align: left ; width: auto;} td:nth-child(2) {text-align: left ; width: 100%}\n",
       "    .wandb-row { display: flex; flex-direction: row; flex-wrap: wrap; justify-content: flex-start; width: 100% }\n",
       "    .wandb-col { display: flex; flex-direction: column; flex-basis: 100%; flex: 1; padding: 10px; }\n",
       "    </style>\n",
       "<div class=\"wandb-row\"><div class=\"wandb-col\"><h3>Run history:</h3><br/><table class=\"wandb\"><tr><td>Training Acc</td><td>▁▁▃▄▄▅▆▇███████</td></tr><tr><td>Training Loss</td><td>█▇▆▅▅▅▄▃▂▂▂▂▁▁▁</td></tr><tr><td>Validation Acc</td><td>▁▃▅▇▄▇▆██▇▆████</td></tr><tr><td>Validation Loss</td><td>█▇▆▄▅▃▅▁▁▂▄▂▁▁▂</td></tr></table><br/></div><div class=\"wandb-col\"><h3>Run summary:</h3><br/><table class=\"wandb\"><tr><td>Training Acc</td><td>1.0</td></tr><tr><td>Training Loss</td><td>0.17398</td></tr><tr><td>Validation Acc</td><td>0.875</td></tr><tr><td>Validation Loss</td><td>0.32446</td></tr><tr><td>test_accuracy</td><td>0.84643</td></tr><tr><td>test_losss</td><td>0.34205</td></tr></table><br/></div></div>"
      ],
      "text/plain": [
       "<IPython.core.display.HTML object>"
      ]
     },
     "metadata": {},
     "output_type": "display_data"
    },
    {
     "data": {
      "text/html": [
       "Synced <strong style=\"color:#cdcd00\">dazzling-sky-166</strong>: <a href=\"https://wandb.ai/miraclelinzzz/Final-ensemble/runs/2lcrpjv3\" target=\"_blank\">https://wandb.ai/miraclelinzzz/Final-ensemble/runs/2lcrpjv3</a><br/>Synced 5 W&B file(s), 0 media file(s), 0 artifact file(s) and 0 other file(s)"
      ],
      "text/plain": [
       "<IPython.core.display.HTML object>"
      ]
     },
     "metadata": {},
     "output_type": "display_data"
    },
    {
     "data": {
      "text/html": [
       "Find logs at: <code>./wandb/run-20220818_013434-2lcrpjv3/logs</code>"
      ],
      "text/plain": [
       "<IPython.core.display.HTML object>"
      ]
     },
     "metadata": {},
     "output_type": "display_data"
    },
    {
     "name": "stdout",
     "output_type": "stream",
     "text": [
      "dr-0.4,arch-[512, 64],bs-16,seed-40,index-3,epoch-15\n"
     ]
    },
    {
     "data": {
      "text/html": [
       "Tracking run with wandb version 0.13.1"
      ],
      "text/plain": [
       "<IPython.core.display.HTML object>"
      ]
     },
     "metadata": {},
     "output_type": "display_data"
    },
    {
     "data": {
      "text/html": [
       "Run data is saved locally in <code>/home/jupyter/wandb/run-20220818_013538-12ufatt0</code>"
      ],
      "text/plain": [
       "<IPython.core.display.HTML object>"
      ]
     },
     "metadata": {},
     "output_type": "display_data"
    },
    {
     "data": {
      "text/html": [
       "Syncing run <strong><a href=\"https://wandb.ai/miraclelinzzz/Final-ensemble/runs/12ufatt0\" target=\"_blank\">deft-pond-167</a></strong> to <a href=\"https://wandb.ai/miraclelinzzz/Final-ensemble\" target=\"_blank\">Weights & Biases</a> (<a href=\"https://wandb.me/run\" target=\"_blank\">docs</a>)<br/>"
      ],
      "text/plain": [
       "<IPython.core.display.HTML object>"
      ]
     },
     "metadata": {},
     "output_type": "display_data"
    },
    {
     "data": {
      "text/html": [
       "Waiting for W&B process to finish... <strong style=\"color:green\">(success).</strong>"
      ],
      "text/plain": [
       "<IPython.core.display.HTML object>"
      ]
     },
     "metadata": {},
     "output_type": "display_data"
    },
    {
     "data": {
      "text/html": [
       "<style>\n",
       "    table.wandb td:nth-child(1) { padding: 0 10px; text-align: left ; width: auto;} td:nth-child(2) {text-align: left ; width: 100%}\n",
       "    .wandb-row { display: flex; flex-direction: row; flex-wrap: wrap; justify-content: flex-start; width: 100% }\n",
       "    .wandb-col { display: flex; flex-direction: column; flex-basis: 100%; flex: 1; padding: 10px; }\n",
       "    </style>\n",
       "<div class=\"wandb-row\"><div class=\"wandb-col\"><h3>Run history:</h3><br/><table class=\"wandb\"><tr><td>Training Acc</td><td>▁▂▃▄▄▆▇▇█▇█████</td></tr><tr><td>Training Loss</td><td>█▇▅▅▄▃▂▃▁▂▁▁▁▁▁</td></tr><tr><td>Validation Acc</td><td>▄▁▂▆▅▁▄▅██████▅</td></tr><tr><td>Validation Loss</td><td>▅▅▄▂▄█▄▃▁▁▁▂▂▂▅</td></tr></table><br/></div><div class=\"wandb-col\"><h3>Run summary:</h3><br/><table class=\"wandb\"><tr><td>Training Acc</td><td>0.96528</td></tr><tr><td>Training Loss</td><td>0.22823</td></tr><tr><td>Validation Acc</td><td>0.70833</td></tr><tr><td>Validation Loss</td><td>0.65147</td></tr><tr><td>test_accuracy</td><td>0.79286</td></tr><tr><td>test_losss</td><td>0.48441</td></tr></table><br/></div></div>"
      ],
      "text/plain": [
       "<IPython.core.display.HTML object>"
      ]
     },
     "metadata": {},
     "output_type": "display_data"
    },
    {
     "data": {
      "text/html": [
       "Synced <strong style=\"color:#cdcd00\">deft-pond-167</strong>: <a href=\"https://wandb.ai/miraclelinzzz/Final-ensemble/runs/12ufatt0\" target=\"_blank\">https://wandb.ai/miraclelinzzz/Final-ensemble/runs/12ufatt0</a><br/>Synced 5 W&B file(s), 0 media file(s), 0 artifact file(s) and 0 other file(s)"
      ],
      "text/plain": [
       "<IPython.core.display.HTML object>"
      ]
     },
     "metadata": {},
     "output_type": "display_data"
    },
    {
     "data": {
      "text/html": [
       "Find logs at: <code>./wandb/run-20220818_013538-12ufatt0/logs</code>"
      ],
      "text/plain": [
       "<IPython.core.display.HTML object>"
      ]
     },
     "metadata": {},
     "output_type": "display_data"
    },
    {
     "name": "stdout",
     "output_type": "stream",
     "text": [
      "dr-0.5,arch-[64, 512],bs-16,seed-40,index-1,epoch-15\n"
     ]
    },
    {
     "data": {
      "text/html": [
       "Tracking run with wandb version 0.13.1"
      ],
      "text/plain": [
       "<IPython.core.display.HTML object>"
      ]
     },
     "metadata": {},
     "output_type": "display_data"
    },
    {
     "data": {
      "text/html": [
       "Run data is saved locally in <code>/home/jupyter/wandb/run-20220818_013652-270lq0ym</code>"
      ],
      "text/plain": [
       "<IPython.core.display.HTML object>"
      ]
     },
     "metadata": {},
     "output_type": "display_data"
    },
    {
     "data": {
      "text/html": [
       "Syncing run <strong><a href=\"https://wandb.ai/miraclelinzzz/Final-ensemble/runs/270lq0ym\" target=\"_blank\">daily-sunset-168</a></strong> to <a href=\"https://wandb.ai/miraclelinzzz/Final-ensemble\" target=\"_blank\">Weights & Biases</a> (<a href=\"https://wandb.me/run\" target=\"_blank\">docs</a>)<br/>"
      ],
      "text/plain": [
       "<IPython.core.display.HTML object>"
      ]
     },
     "metadata": {},
     "output_type": "display_data"
    },
    {
     "data": {
      "text/html": [
       "Waiting for W&B process to finish... <strong style=\"color:green\">(success).</strong>"
      ],
      "text/plain": [
       "<IPython.core.display.HTML object>"
      ]
     },
     "metadata": {},
     "output_type": "display_data"
    },
    {
     "data": {
      "text/html": [
       "<style>\n",
       "    table.wandb td:nth-child(1) { padding: 0 10px; text-align: left ; width: auto;} td:nth-child(2) {text-align: left ; width: 100%}\n",
       "    .wandb-row { display: flex; flex-direction: row; flex-wrap: wrap; justify-content: flex-start; width: 100% }\n",
       "    .wandb-col { display: flex; flex-direction: column; flex-basis: 100%; flex: 1; padding: 10px; }\n",
       "    </style>\n",
       "<div class=\"wandb-row\"><div class=\"wandb-col\"><h3>Run history:</h3><br/><table class=\"wandb\"><tr><td>Training Acc</td><td>▁▁▂▄▃▅▅▇▇█▇██▇█</td></tr><tr><td>Training Loss</td><td>█▇▇▅▆▄▄▃▂▂▂▁▁▁▁</td></tr><tr><td>Validation Acc</td><td>▃▃▁▂▄▅█▇▅▇▅▅▄▇▃</td></tr><tr><td>Validation Loss</td><td>▆▆▅▆▇▃▁▁▅▁▅▅█▂▆</td></tr></table><br/></div><div class=\"wandb-col\"><h3>Run summary:</h3><br/><table class=\"wandb\"><tr><td>Training Acc</td><td>0.95833</td></tr><tr><td>Training Loss</td><td>0.26487</td></tr><tr><td>Validation Acc</td><td>0.47917</td></tr><tr><td>Validation Loss</td><td>0.70425</td></tr><tr><td>test_accuracy</td><td>0.83393</td></tr><tr><td>test_losss</td><td>0.46613</td></tr></table><br/></div></div>"
      ],
      "text/plain": [
       "<IPython.core.display.HTML object>"
      ]
     },
     "metadata": {},
     "output_type": "display_data"
    },
    {
     "data": {
      "text/html": [
       "Synced <strong style=\"color:#cdcd00\">daily-sunset-168</strong>: <a href=\"https://wandb.ai/miraclelinzzz/Final-ensemble/runs/270lq0ym\" target=\"_blank\">https://wandb.ai/miraclelinzzz/Final-ensemble/runs/270lq0ym</a><br/>Synced 5 W&B file(s), 0 media file(s), 0 artifact file(s) and 0 other file(s)"
      ],
      "text/plain": [
       "<IPython.core.display.HTML object>"
      ]
     },
     "metadata": {},
     "output_type": "display_data"
    },
    {
     "data": {
      "text/html": [
       "Find logs at: <code>./wandb/run-20220818_013652-270lq0ym/logs</code>"
      ],
      "text/plain": [
       "<IPython.core.display.HTML object>"
      ]
     },
     "metadata": {},
     "output_type": "display_data"
    },
    {
     "name": "stdout",
     "output_type": "stream",
     "text": [
      "dr-0.5,arch-[64, 512],bs-16,seed-40,index-2,epoch-15\n"
     ]
    },
    {
     "data": {
      "text/html": [
       "Tracking run with wandb version 0.13.1"
      ],
      "text/plain": [
       "<IPython.core.display.HTML object>"
      ]
     },
     "metadata": {},
     "output_type": "display_data"
    },
    {
     "data": {
      "text/html": [
       "Run data is saved locally in <code>/home/jupyter/wandb/run-20220818_013806-37kithj8</code>"
      ],
      "text/plain": [
       "<IPython.core.display.HTML object>"
      ]
     },
     "metadata": {},
     "output_type": "display_data"
    },
    {
     "data": {
      "text/html": [
       "Syncing run <strong><a href=\"https://wandb.ai/miraclelinzzz/Final-ensemble/runs/37kithj8\" target=\"_blank\">morning-rain-169</a></strong> to <a href=\"https://wandb.ai/miraclelinzzz/Final-ensemble\" target=\"_blank\">Weights & Biases</a> (<a href=\"https://wandb.me/run\" target=\"_blank\">docs</a>)<br/>"
      ],
      "text/plain": [
       "<IPython.core.display.HTML object>"
      ]
     },
     "metadata": {},
     "output_type": "display_data"
    },
    {
     "data": {
      "text/html": [
       "Waiting for W&B process to finish... <strong style=\"color:green\">(success).</strong>"
      ],
      "text/plain": [
       "<IPython.core.display.HTML object>"
      ]
     },
     "metadata": {},
     "output_type": "display_data"
    },
    {
     "data": {
      "text/html": [
       "<style>\n",
       "    table.wandb td:nth-child(1) { padding: 0 10px; text-align: left ; width: auto;} td:nth-child(2) {text-align: left ; width: 100%}\n",
       "    .wandb-row { display: flex; flex-direction: row; flex-wrap: wrap; justify-content: flex-start; width: 100% }\n",
       "    .wandb-col { display: flex; flex-direction: column; flex-basis: 100%; flex: 1; padding: 10px; }\n",
       "    </style>\n",
       "<div class=\"wandb-row\"><div class=\"wandb-col\"><h3>Run history:</h3><br/><table class=\"wandb\"><tr><td>Training Acc</td><td>▁▁▄▃▄▅▆▆▇█▇████</td></tr><tr><td>Training Loss</td><td>██▇▆▅▄▃▄▂▂▂▂▁▁▁</td></tr><tr><td>Validation Acc</td><td>▁▁▆▇▇███▇██▅▅██</td></tr><tr><td>Validation Loss</td><td>██▆▄▄▂▂▁▃▂▁▂▅▂▁</td></tr></table><br/></div><div class=\"wandb-col\"><h3>Run summary:</h3><br/><table class=\"wandb\"><tr><td>Training Acc</td><td>0.97917</td></tr><tr><td>Training Loss</td><td>0.29187</td></tr><tr><td>Validation Acc</td><td>0.89583</td></tr><tr><td>Validation Loss</td><td>0.33402</td></tr><tr><td>test_accuracy</td><td>0.83393</td></tr><tr><td>test_losss</td><td>0.43139</td></tr></table><br/></div></div>"
      ],
      "text/plain": [
       "<IPython.core.display.HTML object>"
      ]
     },
     "metadata": {},
     "output_type": "display_data"
    },
    {
     "data": {
      "text/html": [
       "Synced <strong style=\"color:#cdcd00\">morning-rain-169</strong>: <a href=\"https://wandb.ai/miraclelinzzz/Final-ensemble/runs/37kithj8\" target=\"_blank\">https://wandb.ai/miraclelinzzz/Final-ensemble/runs/37kithj8</a><br/>Synced 5 W&B file(s), 0 media file(s), 0 artifact file(s) and 0 other file(s)"
      ],
      "text/plain": [
       "<IPython.core.display.HTML object>"
      ]
     },
     "metadata": {},
     "output_type": "display_data"
    },
    {
     "data": {
      "text/html": [
       "Find logs at: <code>./wandb/run-20220818_013806-37kithj8/logs</code>"
      ],
      "text/plain": [
       "<IPython.core.display.HTML object>"
      ]
     },
     "metadata": {},
     "output_type": "display_data"
    },
    {
     "name": "stdout",
     "output_type": "stream",
     "text": [
      "dr-0.5,arch-[64, 512],bs-16,seed-40,index-3,epoch-15\n"
     ]
    },
    {
     "data": {
      "text/html": [
       "Tracking run with wandb version 0.13.1"
      ],
      "text/plain": [
       "<IPython.core.display.HTML object>"
      ]
     },
     "metadata": {},
     "output_type": "display_data"
    },
    {
     "data": {
      "text/html": [
       "Run data is saved locally in <code>/home/jupyter/wandb/run-20220818_013910-1bcj8net</code>"
      ],
      "text/plain": [
       "<IPython.core.display.HTML object>"
      ]
     },
     "metadata": {},
     "output_type": "display_data"
    },
    {
     "data": {
      "text/html": [
       "Syncing run <strong><a href=\"https://wandb.ai/miraclelinzzz/Final-ensemble/runs/1bcj8net\" target=\"_blank\">sleek-salad-170</a></strong> to <a href=\"https://wandb.ai/miraclelinzzz/Final-ensemble\" target=\"_blank\">Weights & Biases</a> (<a href=\"https://wandb.me/run\" target=\"_blank\">docs</a>)<br/>"
      ],
      "text/plain": [
       "<IPython.core.display.HTML object>"
      ]
     },
     "metadata": {},
     "output_type": "display_data"
    },
    {
     "data": {
      "text/html": [
       "Waiting for W&B process to finish... <strong style=\"color:green\">(success).</strong>"
      ],
      "text/plain": [
       "<IPython.core.display.HTML object>"
      ]
     },
     "metadata": {},
     "output_type": "display_data"
    },
    {
     "data": {
      "text/html": [
       "<style>\n",
       "    table.wandb td:nth-child(1) { padding: 0 10px; text-align: left ; width: auto;} td:nth-child(2) {text-align: left ; width: 100%}\n",
       "    .wandb-row { display: flex; flex-direction: row; flex-wrap: wrap; justify-content: flex-start; width: 100% }\n",
       "    .wandb-col { display: flex; flex-direction: column; flex-basis: 100%; flex: 1; padding: 10px; }\n",
       "    </style>\n",
       "<div class=\"wandb-row\"><div class=\"wandb-col\"><h3>Run history:</h3><br/><table class=\"wandb\"><tr><td>Training Acc</td><td>▁▁▂▃▃▄▃▅▅▆█▆▇█▇</td></tr><tr><td>Training Loss</td><td>█▇▆▆▅▅▄▃▃▂▁▂▂▁▂</td></tr><tr><td>Validation Acc</td><td>▃▁▃▃▄▇▅▄▅█▆▆██▇</td></tr><tr><td>Validation Loss</td><td>██▇▆▇▄▄▆▅▁▄▆▂▃▃</td></tr></table><br/></div><div class=\"wandb-col\"><h3>Run summary:</h3><br/><table class=\"wandb\"><tr><td>Training Acc</td><td>0.82639</td></tr><tr><td>Training Loss</td><td>0.35015</td></tr><tr><td>Validation Acc</td><td>0.8125</td></tr><tr><td>Validation Loss</td><td>0.48626</td></tr><tr><td>test_accuracy</td><td>0.76786</td></tr><tr><td>test_losss</td><td>0.49993</td></tr></table><br/></div></div>"
      ],
      "text/plain": [
       "<IPython.core.display.HTML object>"
      ]
     },
     "metadata": {},
     "output_type": "display_data"
    },
    {
     "data": {
      "text/html": [
       "Synced <strong style=\"color:#cdcd00\">sleek-salad-170</strong>: <a href=\"https://wandb.ai/miraclelinzzz/Final-ensemble/runs/1bcj8net\" target=\"_blank\">https://wandb.ai/miraclelinzzz/Final-ensemble/runs/1bcj8net</a><br/>Synced 5 W&B file(s), 0 media file(s), 0 artifact file(s) and 0 other file(s)"
      ],
      "text/plain": [
       "<IPython.core.display.HTML object>"
      ]
     },
     "metadata": {},
     "output_type": "display_data"
    },
    {
     "data": {
      "text/html": [
       "Find logs at: <code>./wandb/run-20220818_013910-1bcj8net/logs</code>"
      ],
      "text/plain": [
       "<IPython.core.display.HTML object>"
      ]
     },
     "metadata": {},
     "output_type": "display_data"
    },
    {
     "name": "stdout",
     "output_type": "stream",
     "text": [
      "dr-0.3,arch-[256, 512, 64],bs-8,seed-40,index-1,epoch-15\n"
     ]
    },
    {
     "data": {
      "text/html": [
       "Tracking run with wandb version 0.13.1"
      ],
      "text/plain": [
       "<IPython.core.display.HTML object>"
      ]
     },
     "metadata": {},
     "output_type": "display_data"
    },
    {
     "data": {
      "text/html": [
       "Run data is saved locally in <code>/home/jupyter/wandb/run-20220818_014025-2esofp1r</code>"
      ],
      "text/plain": [
       "<IPython.core.display.HTML object>"
      ]
     },
     "metadata": {},
     "output_type": "display_data"
    },
    {
     "data": {
      "text/html": [
       "Syncing run <strong><a href=\"https://wandb.ai/miraclelinzzz/Final-ensemble/runs/2esofp1r\" target=\"_blank\">scarlet-star-171</a></strong> to <a href=\"https://wandb.ai/miraclelinzzz/Final-ensemble\" target=\"_blank\">Weights & Biases</a> (<a href=\"https://wandb.me/run\" target=\"_blank\">docs</a>)<br/>"
      ],
      "text/plain": [
       "<IPython.core.display.HTML object>"
      ]
     },
     "metadata": {},
     "output_type": "display_data"
    },
    {
     "data": {
      "text/html": [
       "Waiting for W&B process to finish... <strong style=\"color:green\">(success).</strong>"
      ],
      "text/plain": [
       "<IPython.core.display.HTML object>"
      ]
     },
     "metadata": {},
     "output_type": "display_data"
    },
    {
     "data": {
      "text/html": [
       "<style>\n",
       "    table.wandb td:nth-child(1) { padding: 0 10px; text-align: left ; width: auto;} td:nth-child(2) {text-align: left ; width: 100%}\n",
       "    .wandb-row { display: flex; flex-direction: row; flex-wrap: wrap; justify-content: flex-start; width: 100% }\n",
       "    .wandb-col { display: flex; flex-direction: column; flex-basis: 100%; flex: 1; padding: 10px; }\n",
       "    </style>\n",
       "<div class=\"wandb-row\"><div class=\"wandb-col\"><h3>Run history:</h3><br/><table class=\"wandb\"><tr><td>Training Acc</td><td>▁▁▁▃▄▄▅▅▆▆▆▇▇▇█</td></tr><tr><td>Training Loss</td><td>██▇▆▆▆▅▅▄▃▃▂▃▁▁</td></tr><tr><td>Validation Acc</td><td>▁▁▂▅▃▇▆█▆▅▆▆▆▇▆</td></tr><tr><td>Validation Loss</td><td>█▇▆▆▆▄▃▄▃█▂▂▆▁▂</td></tr></table><br/></div><div class=\"wandb-col\"><h3>Run summary:</h3><br/><table class=\"wandb\"><tr><td>Training Acc</td><td>0.98529</td></tr><tr><td>Training Loss</td><td>0.27308</td></tr><tr><td>Validation Acc</td><td>0.7</td></tr><tr><td>Validation Loss</td><td>0.48821</td></tr><tr><td>test_accuracy</td><td>0.7619</td></tr><tr><td>test_losss</td><td>0.46859</td></tr></table><br/></div></div>"
      ],
      "text/plain": [
       "<IPython.core.display.HTML object>"
      ]
     },
     "metadata": {},
     "output_type": "display_data"
    },
    {
     "data": {
      "text/html": [
       "Synced <strong style=\"color:#cdcd00\">scarlet-star-171</strong>: <a href=\"https://wandb.ai/miraclelinzzz/Final-ensemble/runs/2esofp1r\" target=\"_blank\">https://wandb.ai/miraclelinzzz/Final-ensemble/runs/2esofp1r</a><br/>Synced 5 W&B file(s), 0 media file(s), 0 artifact file(s) and 0 other file(s)"
      ],
      "text/plain": [
       "<IPython.core.display.HTML object>"
      ]
     },
     "metadata": {},
     "output_type": "display_data"
    },
    {
     "data": {
      "text/html": [
       "Find logs at: <code>./wandb/run-20220818_014025-2esofp1r/logs</code>"
      ],
      "text/plain": [
       "<IPython.core.display.HTML object>"
      ]
     },
     "metadata": {},
     "output_type": "display_data"
    },
    {
     "name": "stdout",
     "output_type": "stream",
     "text": [
      "dr-0.3,arch-[256, 512, 64],bs-8,seed-40,index-2,epoch-15\n"
     ]
    },
    {
     "data": {
      "text/html": [
       "Tracking run with wandb version 0.13.1"
      ],
      "text/plain": [
       "<IPython.core.display.HTML object>"
      ]
     },
     "metadata": {},
     "output_type": "display_data"
    },
    {
     "data": {
      "text/html": [
       "Run data is saved locally in <code>/home/jupyter/wandb/run-20220818_014143-c94izri0</code>"
      ],
      "text/plain": [
       "<IPython.core.display.HTML object>"
      ]
     },
     "metadata": {},
     "output_type": "display_data"
    },
    {
     "data": {
      "text/html": [
       "Syncing run <strong><a href=\"https://wandb.ai/miraclelinzzz/Final-ensemble/runs/c94izri0\" target=\"_blank\">silver-water-172</a></strong> to <a href=\"https://wandb.ai/miraclelinzzz/Final-ensemble\" target=\"_blank\">Weights & Biases</a> (<a href=\"https://wandb.me/run\" target=\"_blank\">docs</a>)<br/>"
      ],
      "text/plain": [
       "<IPython.core.display.HTML object>"
      ]
     },
     "metadata": {},
     "output_type": "display_data"
    },
    {
     "data": {
      "text/html": [
       "Waiting for W&B process to finish... <strong style=\"color:green\">(success).</strong>"
      ],
      "text/plain": [
       "<IPython.core.display.HTML object>"
      ]
     },
     "metadata": {},
     "output_type": "display_data"
    },
    {
     "data": {
      "text/html": [
       "Waiting for W&B process to finish... <strong style=\"color:green\">(success).</strong>"
      ],
      "text/plain": [
       "<IPython.core.display.HTML object>"
      ]
     },
     "metadata": {},
     "output_type": "display_data"
    },
    {
     "data": {
      "text/html": [
       "<style>\n",
       "    table.wandb td:nth-child(1) { padding: 0 10px; text-align: left ; width: auto;} td:nth-child(2) {text-align: left ; width: 100%}\n",
       "    .wandb-row { display: flex; flex-direction: row; flex-wrap: wrap; justify-content: flex-start; width: 100% }\n",
       "    .wandb-col { display: flex; flex-direction: column; flex-basis: 100%; flex: 1; padding: 10px; }\n",
       "    </style>\n",
       "<div class=\"wandb-row\"><div class=\"wandb-col\"><h3>Run history:</h3><br/><table class=\"wandb\"><tr><td>Training Acc</td><td>▁▃▃▂▄▅▆▇▇▇█████</td></tr><tr><td>Training Loss</td><td>█▇▇▇▆▅▄▃▃▃▂▁▁▁▁</td></tr><tr><td>Validation Acc</td><td>▁▄▂▂▇▅▄▆██▆▇██▆</td></tr><tr><td>Validation Loss</td><td>█▇▇▆▃▄▄▄▂▁▃▃▂▂▅</td></tr></table><br/></div><div class=\"wandb-col\"><h3>Run summary:</h3><br/><table class=\"wandb\"><tr><td>Training Acc</td><td>0.95588</td></tr><tr><td>Training Loss</td><td>0.28023</td></tr><tr><td>Validation Acc</td><td>0.75</td></tr><tr><td>Validation Loss</td><td>0.57534</td></tr><tr><td>test_accuracy</td><td>0.83135</td></tr><tr><td>test_losss</td><td>0.44758</td></tr></table><br/></div></div>"
      ],
      "text/plain": [
       "<IPython.core.display.HTML object>"
      ]
     },
     "metadata": {},
     "output_type": "display_data"
    },
    {
     "data": {
      "text/html": [
       "Synced <strong style=\"color:#cdcd00\">lucky-microwave-173</strong>: <a href=\"https://wandb.ai/miraclelinzzz/Final-ensemble/runs/208sm1ve\" target=\"_blank\">https://wandb.ai/miraclelinzzz/Final-ensemble/runs/208sm1ve</a><br/>Synced 5 W&B file(s), 0 media file(s), 0 artifact file(s) and 0 other file(s)"
      ],
      "text/plain": [
       "<IPython.core.display.HTML object>"
      ]
     },
     "metadata": {},
     "output_type": "display_data"
    },
    {
     "data": {
      "text/html": [
       "Find logs at: <code>./wandb/run-20220818_014252-208sm1ve/logs</code>"
      ],
      "text/plain": [
       "<IPython.core.display.HTML object>"
      ]
     },
     "metadata": {},
     "output_type": "display_data"
    },
    {
     "name": "stdout",
     "output_type": "stream",
     "text": [
      "dr-0.3,arch-[128],bs-8,seed-40,index-1,epoch-15\n"
     ]
    },
    {
     "data": {
      "text/html": [
       "Tracking run with wandb version 0.13.1"
      ],
      "text/plain": [
       "<IPython.core.display.HTML object>"
      ]
     },
     "metadata": {},
     "output_type": "display_data"
    },
    {
     "data": {
      "text/html": [
       "Run data is saved locally in <code>/home/jupyter/wandb/run-20220818_014411-3lestm54</code>"
      ],
      "text/plain": [
       "<IPython.core.display.HTML object>"
      ]
     },
     "metadata": {},
     "output_type": "display_data"
    },
    {
     "data": {
      "text/html": [
       "Syncing run <strong><a href=\"https://wandb.ai/miraclelinzzz/Final-ensemble/runs/3lestm54\" target=\"_blank\">azure-glitter-174</a></strong> to <a href=\"https://wandb.ai/miraclelinzzz/Final-ensemble\" target=\"_blank\">Weights & Biases</a> (<a href=\"https://wandb.me/run\" target=\"_blank\">docs</a>)<br/>"
      ],
      "text/plain": [
       "<IPython.core.display.HTML object>"
      ]
     },
     "metadata": {},
     "output_type": "display_data"
    },
    {
     "data": {
      "text/html": [
       "Waiting for W&B process to finish... <strong style=\"color:green\">(success).</strong>"
      ],
      "text/plain": [
       "<IPython.core.display.HTML object>"
      ]
     },
     "metadata": {},
     "output_type": "display_data"
    },
    {
     "data": {
      "text/html": [
       "<style>\n",
       "    table.wandb td:nth-child(1) { padding: 0 10px; text-align: left ; width: auto;} td:nth-child(2) {text-align: left ; width: 100%}\n",
       "    .wandb-row { display: flex; flex-direction: row; flex-wrap: wrap; justify-content: flex-start; width: 100% }\n",
       "    .wandb-col { display: flex; flex-direction: column; flex-basis: 100%; flex: 1; padding: 10px; }\n",
       "    </style>\n",
       "<div class=\"wandb-row\"><div class=\"wandb-col\"><h3>Run history:</h3><br/><table class=\"wandb\"><tr><td>Training Acc</td><td>▁▃▆▇███▇██▇████</td></tr><tr><td>Training Loss</td><td>█▇▄▂▂▁▁▂▁▁▂▁▁▁▂</td></tr><tr><td>Validation Acc</td><td>▁▅▆▇▇▇█▅▄▇▇█▅▅▇</td></tr><tr><td>Validation Loss</td><td>▂▁▁▃▁▁▁▅█▂▂▁▄▃▂</td></tr></table><br/></div><div class=\"wandb-col\"><h3>Run summary:</h3><br/><table class=\"wandb\"><tr><td>Training Acc</td><td>0.98529</td></tr><tr><td>Training Loss</td><td>0.1203</td></tr><tr><td>Validation Acc</td><td>0.8</td></tr><tr><td>Validation Loss</td><td>0.59813</td></tr><tr><td>test_accuracy</td><td>0.84524</td></tr><tr><td>test_losss</td><td>0.49379</td></tr></table><br/></div></div>"
      ],
      "text/plain": [
       "<IPython.core.display.HTML object>"
      ]
     },
     "metadata": {},
     "output_type": "display_data"
    },
    {
     "data": {
      "text/html": [
       "Synced <strong style=\"color:#cdcd00\">azure-glitter-174</strong>: <a href=\"https://wandb.ai/miraclelinzzz/Final-ensemble/runs/3lestm54\" target=\"_blank\">https://wandb.ai/miraclelinzzz/Final-ensemble/runs/3lestm54</a><br/>Synced 5 W&B file(s), 0 media file(s), 0 artifact file(s) and 0 other file(s)"
      ],
      "text/plain": [
       "<IPython.core.display.HTML object>"
      ]
     },
     "metadata": {},
     "output_type": "display_data"
    },
    {
     "data": {
      "text/html": [
       "Find logs at: <code>./wandb/run-20220818_014411-3lestm54/logs</code>"
      ],
      "text/plain": [
       "<IPython.core.display.HTML object>"
      ]
     },
     "metadata": {},
     "output_type": "display_data"
    },
    {
     "name": "stdout",
     "output_type": "stream",
     "text": [
      "dr-0.3,arch-[128],bs-8,seed-40,index-2,epoch-15\n"
     ]
    },
    {
     "data": {
      "text/html": [
       "Tracking run with wandb version 0.13.1"
      ],
      "text/plain": [
       "<IPython.core.display.HTML object>"
      ]
     },
     "metadata": {},
     "output_type": "display_data"
    },
    {
     "data": {
      "text/html": [
       "Run data is saved locally in <code>/home/jupyter/wandb/run-20220818_014529-d3aw344r</code>"
      ],
      "text/plain": [
       "<IPython.core.display.HTML object>"
      ]
     },
     "metadata": {},
     "output_type": "display_data"
    },
    {
     "data": {
      "text/html": [
       "Syncing run <strong><a href=\"https://wandb.ai/miraclelinzzz/Final-ensemble/runs/d3aw344r\" target=\"_blank\">still-snow-175</a></strong> to <a href=\"https://wandb.ai/miraclelinzzz/Final-ensemble\" target=\"_blank\">Weights & Biases</a> (<a href=\"https://wandb.me/run\" target=\"_blank\">docs</a>)<br/>"
      ],
      "text/plain": [
       "<IPython.core.display.HTML object>"
      ]
     },
     "metadata": {},
     "output_type": "display_data"
    },
    {
     "data": {
      "text/html": [
       "Waiting for W&B process to finish... <strong style=\"color:green\">(success).</strong>"
      ],
      "text/plain": [
       "<IPython.core.display.HTML object>"
      ]
     },
     "metadata": {},
     "output_type": "display_data"
    },
    {
     "data": {
      "text/html": [
       "<style>\n",
       "    table.wandb td:nth-child(1) { padding: 0 10px; text-align: left ; width: auto;} td:nth-child(2) {text-align: left ; width: 100%}\n",
       "    .wandb-row { display: flex; flex-direction: row; flex-wrap: wrap; justify-content: flex-start; width: 100% }\n",
       "    .wandb-col { display: flex; flex-direction: column; flex-basis: 100%; flex: 1; padding: 10px; }\n",
       "    </style>\n",
       "<div class=\"wandb-row\"><div class=\"wandb-col\"><h3>Run history:</h3><br/><table class=\"wandb\"><tr><td>Training Acc</td><td>▁▃▆▇█▇█████████</td></tr><tr><td>Training Loss</td><td>█▆▄▂▁▂▃▂▁▁▁▁▁▁▁</td></tr><tr><td>Validation Acc</td><td>▁▆▇▇▇▇▅███▇▇▆▇▇</td></tr><tr><td>Validation Loss</td><td>▅▃▂▃▁▃█▁▁▁▃▃▆▃▃</td></tr></table><br/></div><div class=\"wandb-col\"><h3>Run summary:</h3><br/><table class=\"wandb\"><tr><td>Training Acc</td><td>1.0</td></tr><tr><td>Training Loss</td><td>0.09252</td></tr><tr><td>Validation Acc</td><td>0.875</td></tr><tr><td>Validation Loss</td><td>0.38765</td></tr><tr><td>test_accuracy</td><td>0.87302</td></tr><tr><td>test_losss</td><td>0.39143</td></tr></table><br/></div></div>"
      ],
      "text/plain": [
       "<IPython.core.display.HTML object>"
      ]
     },
     "metadata": {},
     "output_type": "display_data"
    },
    {
     "data": {
      "text/html": [
       "Synced <strong style=\"color:#cdcd00\">still-snow-175</strong>: <a href=\"https://wandb.ai/miraclelinzzz/Final-ensemble/runs/d3aw344r\" target=\"_blank\">https://wandb.ai/miraclelinzzz/Final-ensemble/runs/d3aw344r</a><br/>Synced 5 W&B file(s), 0 media file(s), 0 artifact file(s) and 0 other file(s)"
      ],
      "text/plain": [
       "<IPython.core.display.HTML object>"
      ]
     },
     "metadata": {},
     "output_type": "display_data"
    },
    {
     "data": {
      "text/html": [
       "Find logs at: <code>./wandb/run-20220818_014529-d3aw344r/logs</code>"
      ],
      "text/plain": [
       "<IPython.core.display.HTML object>"
      ]
     },
     "metadata": {},
     "output_type": "display_data"
    },
    {
     "name": "stdout",
     "output_type": "stream",
     "text": [
      "dr-0.3,arch-[128],bs-8,seed-40,index-3,epoch-15\n"
     ]
    },
    {
     "data": {
      "text/html": [
       "Tracking run with wandb version 0.13.1"
      ],
      "text/plain": [
       "<IPython.core.display.HTML object>"
      ]
     },
     "metadata": {},
     "output_type": "display_data"
    },
    {
     "data": {
      "text/html": [
       "Run data is saved locally in <code>/home/jupyter/wandb/run-20220818_014636-21gzo4ys</code>"
      ],
      "text/plain": [
       "<IPython.core.display.HTML object>"
      ]
     },
     "metadata": {},
     "output_type": "display_data"
    },
    {
     "data": {
      "text/html": [
       "Syncing run <strong><a href=\"https://wandb.ai/miraclelinzzz/Final-ensemble/runs/21gzo4ys\" target=\"_blank\">earthy-puddle-176</a></strong> to <a href=\"https://wandb.ai/miraclelinzzz/Final-ensemble\" target=\"_blank\">Weights & Biases</a> (<a href=\"https://wandb.me/run\" target=\"_blank\">docs</a>)<br/>"
      ],
      "text/plain": [
       "<IPython.core.display.HTML object>"
      ]
     },
     "metadata": {},
     "output_type": "display_data"
    },
    {
     "data": {
      "text/html": [
       "Waiting for W&B process to finish... <strong style=\"color:green\">(success).</strong>"
      ],
      "text/plain": [
       "<IPython.core.display.HTML object>"
      ]
     },
     "metadata": {},
     "output_type": "display_data"
    },
    {
     "data": {
      "text/html": [
       "<style>\n",
       "    table.wandb td:nth-child(1) { padding: 0 10px; text-align: left ; width: auto;} td:nth-child(2) {text-align: left ; width: 100%}\n",
       "    .wandb-row { display: flex; flex-direction: row; flex-wrap: wrap; justify-content: flex-start; width: 100% }\n",
       "    .wandb-col { display: flex; flex-direction: column; flex-basis: 100%; flex: 1; padding: 10px; }\n",
       "    </style>\n",
       "<div class=\"wandb-row\"><div class=\"wandb-col\"><h3>Run history:</h3><br/><table class=\"wandb\"><tr><td>Training Acc</td><td>▁▃▆▇▆▇█████▇▇▇█</td></tr><tr><td>Training Loss</td><td>█▆▃▂▃▂▂▁▁▁▁▂▂▂▁</td></tr><tr><td>Validation Acc</td><td>▁▅▄▆▂▃▇▆▆▆▇█▇▇▆</td></tr><tr><td>Validation Loss</td><td>▅▁█▄▆█▂▃▃▃▃▂▂▂▂</td></tr></table><br/></div><div class=\"wandb-col\"><h3>Run summary:</h3><br/><table class=\"wandb\"><tr><td>Training Acc</td><td>1.0</td></tr><tr><td>Training Loss</td><td>0.06748</td></tr><tr><td>Validation Acc</td><td>0.825</td></tr><tr><td>Validation Loss</td><td>0.4584</td></tr><tr><td>test_accuracy</td><td>0.84325</td></tr><tr><td>test_losss</td><td>0.4684</td></tr></table><br/></div></div>"
      ],
      "text/plain": [
       "<IPython.core.display.HTML object>"
      ]
     },
     "metadata": {},
     "output_type": "display_data"
    },
    {
     "data": {
      "text/html": [
       "Synced <strong style=\"color:#cdcd00\">earthy-puddle-176</strong>: <a href=\"https://wandb.ai/miraclelinzzz/Final-ensemble/runs/21gzo4ys\" target=\"_blank\">https://wandb.ai/miraclelinzzz/Final-ensemble/runs/21gzo4ys</a><br/>Synced 5 W&B file(s), 0 media file(s), 0 artifact file(s) and 0 other file(s)"
      ],
      "text/plain": [
       "<IPython.core.display.HTML object>"
      ]
     },
     "metadata": {},
     "output_type": "display_data"
    },
    {
     "data": {
      "text/html": [
       "Find logs at: <code>./wandb/run-20220818_014636-21gzo4ys/logs</code>"
      ],
      "text/plain": [
       "<IPython.core.display.HTML object>"
      ]
     },
     "metadata": {},
     "output_type": "display_data"
    },
    {
     "name": "stdout",
     "output_type": "stream",
     "text": [
      "dr-0.4,arch-[128, 512, 256],bs-16,seed-40,index-1,epoch-15\n"
     ]
    },
    {
     "data": {
      "text/html": [
       "Tracking run with wandb version 0.13.1"
      ],
      "text/plain": [
       "<IPython.core.display.HTML object>"
      ]
     },
     "metadata": {},
     "output_type": "display_data"
    },
    {
     "data": {
      "text/html": [
       "Run data is saved locally in <code>/home/jupyter/wandb/run-20220818_014754-1ssfp34e</code>"
      ],
      "text/plain": [
       "<IPython.core.display.HTML object>"
      ]
     },
     "metadata": {},
     "output_type": "display_data"
    },
    {
     "data": {
      "text/html": [
       "Syncing run <strong><a href=\"https://wandb.ai/miraclelinzzz/Final-ensemble/runs/1ssfp34e\" target=\"_blank\">polished-eon-177</a></strong> to <a href=\"https://wandb.ai/miraclelinzzz/Final-ensemble\" target=\"_blank\">Weights & Biases</a> (<a href=\"https://wandb.me/run\" target=\"_blank\">docs</a>)<br/>"
      ],
      "text/plain": [
       "<IPython.core.display.HTML object>"
      ]
     },
     "metadata": {},
     "output_type": "display_data"
    },
    {
     "data": {
      "text/html": [
       "Waiting for W&B process to finish... <strong style=\"color:green\">(success).</strong>"
      ],
      "text/plain": [
       "<IPython.core.display.HTML object>"
      ]
     },
     "metadata": {},
     "output_type": "display_data"
    },
    {
     "data": {
      "text/html": [
       "<style>\n",
       "    table.wandb td:nth-child(1) { padding: 0 10px; text-align: left ; width: auto;} td:nth-child(2) {text-align: left ; width: 100%}\n",
       "    .wandb-row { display: flex; flex-direction: row; flex-wrap: wrap; justify-content: flex-start; width: 100% }\n",
       "    .wandb-col { display: flex; flex-direction: column; flex-basis: 100%; flex: 1; padding: 10px; }\n",
       "    </style>\n",
       "<div class=\"wandb-row\"><div class=\"wandb-col\"><h3>Run history:</h3><br/><table class=\"wandb\"><tr><td>Training Acc</td><td>▁▁▂▂▂▃▄▅▅▅▆▇▆█▇</td></tr><tr><td>Training Loss</td><td>█▇▇▇▇▆▆▅▄▄▂▂▃▁▁</td></tr><tr><td>Validation Acc</td><td>▁▄▁▆▆▄▃▃▄▅█▇▇██</td></tr><tr><td>Validation Loss</td><td>███▆▅▇▆▅▆▄▃▁▁▁▅</td></tr></table><br/></div><div class=\"wandb-col\"><h3>Run summary:</h3><br/><table class=\"wandb\"><tr><td>Training Acc</td><td>0.875</td></tr><tr><td>Training Loss</td><td>0.32229</td></tr><tr><td>Validation Acc</td><td>0.85417</td></tr><tr><td>Validation Loss</td><td>0.58318</td></tr><tr><td>test_accuracy</td><td>0.83036</td></tr><tr><td>test_losss</td><td>0.45494</td></tr></table><br/></div></div>"
      ],
      "text/plain": [
       "<IPython.core.display.HTML object>"
      ]
     },
     "metadata": {},
     "output_type": "display_data"
    },
    {
     "data": {
      "text/html": [
       "Synced <strong style=\"color:#cdcd00\">polished-eon-177</strong>: <a href=\"https://wandb.ai/miraclelinzzz/Final-ensemble/runs/1ssfp34e\" target=\"_blank\">https://wandb.ai/miraclelinzzz/Final-ensemble/runs/1ssfp34e</a><br/>Synced 5 W&B file(s), 0 media file(s), 0 artifact file(s) and 0 other file(s)"
      ],
      "text/plain": [
       "<IPython.core.display.HTML object>"
      ]
     },
     "metadata": {},
     "output_type": "display_data"
    },
    {
     "data": {
      "text/html": [
       "Find logs at: <code>./wandb/run-20220818_014754-1ssfp34e/logs</code>"
      ],
      "text/plain": [
       "<IPython.core.display.HTML object>"
      ]
     },
     "metadata": {},
     "output_type": "display_data"
    },
    {
     "name": "stdout",
     "output_type": "stream",
     "text": [
      "dr-0.4,arch-[128, 512, 256],bs-16,seed-40,index-2,epoch-15\n"
     ]
    },
    {
     "data": {
      "text/html": [
       "Tracking run with wandb version 0.13.1"
      ],
      "text/plain": [
       "<IPython.core.display.HTML object>"
      ]
     },
     "metadata": {},
     "output_type": "display_data"
    },
    {
     "data": {
      "text/html": [
       "Run data is saved locally in <code>/home/jupyter/wandb/run-20220818_014909-pbcb60o9</code>"
      ],
      "text/plain": [
       "<IPython.core.display.HTML object>"
      ]
     },
     "metadata": {},
     "output_type": "display_data"
    },
    {
     "data": {
      "text/html": [
       "Syncing run <strong><a href=\"https://wandb.ai/miraclelinzzz/Final-ensemble/runs/pbcb60o9\" target=\"_blank\">fine-forest-178</a></strong> to <a href=\"https://wandb.ai/miraclelinzzz/Final-ensemble\" target=\"_blank\">Weights & Biases</a> (<a href=\"https://wandb.me/run\" target=\"_blank\">docs</a>)<br/>"
      ],
      "text/plain": [
       "<IPython.core.display.HTML object>"
      ]
     },
     "metadata": {},
     "output_type": "display_data"
    },
    {
     "data": {
      "text/html": [
       "Waiting for W&B process to finish... <strong style=\"color:green\">(success).</strong>"
      ],
      "text/plain": [
       "<IPython.core.display.HTML object>"
      ]
     },
     "metadata": {},
     "output_type": "display_data"
    },
    {
     "data": {
      "text/html": [
       "<style>\n",
       "    table.wandb td:nth-child(1) { padding: 0 10px; text-align: left ; width: auto;} td:nth-child(2) {text-align: left ; width: 100%}\n",
       "    .wandb-row { display: flex; flex-direction: row; flex-wrap: wrap; justify-content: flex-start; width: 100% }\n",
       "    .wandb-col { display: flex; flex-direction: column; flex-basis: 100%; flex: 1; padding: 10px; }\n",
       "    </style>\n",
       "<div class=\"wandb-row\"><div class=\"wandb-col\"><h3>Run history:</h3><br/><table class=\"wandb\"><tr><td>Training Acc</td><td>▁▁▂▂▄▃▄▅▄▅▇▇▇██</td></tr><tr><td>Training Loss</td><td>█▇▇▇▆▆▅▄▄▃▂▂▃▁▁</td></tr><tr><td>Validation Acc</td><td>▃▁▃▃▃▄▅▇▇█▇████</td></tr><tr><td>Validation Loss</td><td>██▇▇▆▅▆▄▂▂▂▂▁▁▁</td></tr></table><br/></div><div class=\"wandb-col\"><h3>Run summary:</h3><br/><table class=\"wandb\"><tr><td>Training Acc</td><td>0.88889</td></tr><tr><td>Training Loss</td><td>0.3399</td></tr><tr><td>Validation Acc</td><td>0.89583</td></tr><tr><td>Validation Loss</td><td>0.33778</td></tr><tr><td>test_accuracy</td><td>0.73036</td></tr><tr><td>test_losss</td><td>0.44527</td></tr></table><br/></div></div>"
      ],
      "text/plain": [
       "<IPython.core.display.HTML object>"
      ]
     },
     "metadata": {},
     "output_type": "display_data"
    },
    {
     "data": {
      "text/html": [
       "Synced <strong style=\"color:#cdcd00\">fine-forest-178</strong>: <a href=\"https://wandb.ai/miraclelinzzz/Final-ensemble/runs/pbcb60o9\" target=\"_blank\">https://wandb.ai/miraclelinzzz/Final-ensemble/runs/pbcb60o9</a><br/>Synced 5 W&B file(s), 0 media file(s), 0 artifact file(s) and 0 other file(s)"
      ],
      "text/plain": [
       "<IPython.core.display.HTML object>"
      ]
     },
     "metadata": {},
     "output_type": "display_data"
    },
    {
     "data": {
      "text/html": [
       "Find logs at: <code>./wandb/run-20220818_014909-pbcb60o9/logs</code>"
      ],
      "text/plain": [
       "<IPython.core.display.HTML object>"
      ]
     },
     "metadata": {},
     "output_type": "display_data"
    },
    {
     "name": "stdout",
     "output_type": "stream",
     "text": [
      "dr-0.4,arch-[128, 512, 256],bs-16,seed-40,index-3,epoch-15\n"
     ]
    },
    {
     "data": {
      "text/html": [
       "Tracking run with wandb version 0.13.1"
      ],
      "text/plain": [
       "<IPython.core.display.HTML object>"
      ]
     },
     "metadata": {},
     "output_type": "display_data"
    },
    {
     "data": {
      "text/html": [
       "Run data is saved locally in <code>/home/jupyter/wandb/run-20220818_015013-2dkwdf7d</code>"
      ],
      "text/plain": [
       "<IPython.core.display.HTML object>"
      ]
     },
     "metadata": {},
     "output_type": "display_data"
    },
    {
     "data": {
      "text/html": [
       "Syncing run <strong><a href=\"https://wandb.ai/miraclelinzzz/Final-ensemble/runs/2dkwdf7d\" target=\"_blank\">volcanic-meadow-179</a></strong> to <a href=\"https://wandb.ai/miraclelinzzz/Final-ensemble\" target=\"_blank\">Weights & Biases</a> (<a href=\"https://wandb.me/run\" target=\"_blank\">docs</a>)<br/>"
      ],
      "text/plain": [
       "<IPython.core.display.HTML object>"
      ]
     },
     "metadata": {},
     "output_type": "display_data"
    },
    {
     "data": {
      "text/html": [
       "Waiting for W&B process to finish... <strong style=\"color:green\">(success).</strong>"
      ],
      "text/plain": [
       "<IPython.core.display.HTML object>"
      ]
     },
     "metadata": {},
     "output_type": "display_data"
    },
    {
     "data": {
      "text/html": [
       "<style>\n",
       "    table.wandb td:nth-child(1) { padding: 0 10px; text-align: left ; width: auto;} td:nth-child(2) {text-align: left ; width: 100%}\n",
       "    .wandb-row { display: flex; flex-direction: row; flex-wrap: wrap; justify-content: flex-start; width: 100% }\n",
       "    .wandb-col { display: flex; flex-direction: column; flex-basis: 100%; flex: 1; padding: 10px; }\n",
       "    </style>\n",
       "<div class=\"wandb-row\"><div class=\"wandb-col\"><h3>Run history:</h3><br/><table class=\"wandb\"><tr><td>Training Acc</td><td>▁▁▁▂▃▄▃▃▅▄▅▇█▆█</td></tr><tr><td>Training Loss</td><td>█▇▇▆▆▅▅▅▄▄▄▂▁▂▁</td></tr><tr><td>Validation Acc</td><td>▁▃▃▆▄▃▅▅▃▄███▆█</td></tr><tr><td>Validation Loss</td><td>▇▆▆▄▅▆█▄▃▃▂▃▂▂▁</td></tr></table><br/></div><div class=\"wandb-col\"><h3>Run summary:</h3><br/><table class=\"wandb\"><tr><td>Training Acc</td><td>0.83333</td></tr><tr><td>Training Loss</td><td>0.42778</td></tr><tr><td>Validation Acc</td><td>0.8125</td></tr><tr><td>Validation Loss</td><td>0.42998</td></tr><tr><td>test_accuracy</td><td>0.74286</td></tr><tr><td>test_losss</td><td>0.51119</td></tr></table><br/></div></div>"
      ],
      "text/plain": [
       "<IPython.core.display.HTML object>"
      ]
     },
     "metadata": {},
     "output_type": "display_data"
    },
    {
     "data": {
      "text/html": [
       "Synced <strong style=\"color:#cdcd00\">volcanic-meadow-179</strong>: <a href=\"https://wandb.ai/miraclelinzzz/Final-ensemble/runs/2dkwdf7d\" target=\"_blank\">https://wandb.ai/miraclelinzzz/Final-ensemble/runs/2dkwdf7d</a><br/>Synced 5 W&B file(s), 0 media file(s), 0 artifact file(s) and 0 other file(s)"
      ],
      "text/plain": [
       "<IPython.core.display.HTML object>"
      ]
     },
     "metadata": {},
     "output_type": "display_data"
    },
    {
     "data": {
      "text/html": [
       "Find logs at: <code>./wandb/run-20220818_015013-2dkwdf7d/logs</code>"
      ],
      "text/plain": [
       "<IPython.core.display.HTML object>"
      ]
     },
     "metadata": {},
     "output_type": "display_data"
    },
    {
     "name": "stdout",
     "output_type": "stream",
     "text": [
      "dr-0.3,arch-[256, 64],bs-16,seed-40,index-1,epoch-15\n"
     ]
    },
    {
     "data": {
      "text/html": [
       "Tracking run with wandb version 0.13.1"
      ],
      "text/plain": [
       "<IPython.core.display.HTML object>"
      ]
     },
     "metadata": {},
     "output_type": "display_data"
    },
    {
     "data": {
      "text/html": [
       "Run data is saved locally in <code>/home/jupyter/wandb/run-20220818_015127-1eykp4w6</code>"
      ],
      "text/plain": [
       "<IPython.core.display.HTML object>"
      ]
     },
     "metadata": {},
     "output_type": "display_data"
    },
    {
     "data": {
      "text/html": [
       "Syncing run <strong><a href=\"https://wandb.ai/miraclelinzzz/Final-ensemble/runs/1eykp4w6\" target=\"_blank\">rich-armadillo-180</a></strong> to <a href=\"https://wandb.ai/miraclelinzzz/Final-ensemble\" target=\"_blank\">Weights & Biases</a> (<a href=\"https://wandb.me/run\" target=\"_blank\">docs</a>)<br/>"
      ],
      "text/plain": [
       "<IPython.core.display.HTML object>"
      ]
     },
     "metadata": {},
     "output_type": "display_data"
    },
    {
     "data": {
      "text/html": [
       "Waiting for W&B process to finish... <strong style=\"color:green\">(success).</strong>"
      ],
      "text/plain": [
       "<IPython.core.display.HTML object>"
      ]
     },
     "metadata": {},
     "output_type": "display_data"
    },
    {
     "data": {
      "text/html": [
       "<style>\n",
       "    table.wandb td:nth-child(1) { padding: 0 10px; text-align: left ; width: auto;} td:nth-child(2) {text-align: left ; width: 100%}\n",
       "    .wandb-row { display: flex; flex-direction: row; flex-wrap: wrap; justify-content: flex-start; width: 100% }\n",
       "    .wandb-col { display: flex; flex-direction: column; flex-basis: 100%; flex: 1; padding: 10px; }\n",
       "    </style>\n",
       "<div class=\"wandb-row\"><div class=\"wandb-col\"><h3>Run history:</h3><br/><table class=\"wandb\"><tr><td>Training Acc</td><td>▁▃▄▅▆▇▇████████</td></tr><tr><td>Training Loss</td><td>█▇▆▄▄▃▃▂▂▁▁▁▁▁▁</td></tr><tr><td>Validation Acc</td><td>▁▃▄▇▅▇▅▅██████▆</td></tr><tr><td>Validation Loss</td><td>█▇▅▄▃▄▆▄▂▃▂▂▁▁▅</td></tr></table><br/></div><div class=\"wandb-col\"><h3>Run summary:</h3><br/><table class=\"wandb\"><tr><td>Training Acc</td><td>1.0</td></tr><tr><td>Training Loss</td><td>0.15599</td></tr><tr><td>Validation Acc</td><td>0.6875</td></tr><tr><td>Validation Loss</td><td>0.57844</td></tr><tr><td>test_accuracy</td><td>0.84643</td></tr><tr><td>test_losss</td><td>0.38942</td></tr></table><br/></div></div>"
      ],
      "text/plain": [
       "<IPython.core.display.HTML object>"
      ]
     },
     "metadata": {},
     "output_type": "display_data"
    },
    {
     "data": {
      "text/html": [
       "Synced <strong style=\"color:#cdcd00\">rich-armadillo-180</strong>: <a href=\"https://wandb.ai/miraclelinzzz/Final-ensemble/runs/1eykp4w6\" target=\"_blank\">https://wandb.ai/miraclelinzzz/Final-ensemble/runs/1eykp4w6</a><br/>Synced 5 W&B file(s), 0 media file(s), 0 artifact file(s) and 0 other file(s)"
      ],
      "text/plain": [
       "<IPython.core.display.HTML object>"
      ]
     },
     "metadata": {},
     "output_type": "display_data"
    },
    {
     "data": {
      "text/html": [
       "Find logs at: <code>./wandb/run-20220818_015127-1eykp4w6/logs</code>"
      ],
      "text/plain": [
       "<IPython.core.display.HTML object>"
      ]
     },
     "metadata": {},
     "output_type": "display_data"
    },
    {
     "name": "stdout",
     "output_type": "stream",
     "text": [
      "dr-0.3,arch-[256, 64],bs-16,seed-40,index-2,epoch-15\n"
     ]
    },
    {
     "data": {
      "text/html": [
       "Tracking run with wandb version 0.13.1"
      ],
      "text/plain": [
       "<IPython.core.display.HTML object>"
      ]
     },
     "metadata": {},
     "output_type": "display_data"
    },
    {
     "data": {
      "text/html": [
       "Run data is saved locally in <code>/home/jupyter/wandb/run-20220818_015240-vp0367zy</code>"
      ],
      "text/plain": [
       "<IPython.core.display.HTML object>"
      ]
     },
     "metadata": {},
     "output_type": "display_data"
    },
    {
     "data": {
      "text/html": [
       "Syncing run <strong><a href=\"https://wandb.ai/miraclelinzzz/Final-ensemble/runs/vp0367zy\" target=\"_blank\">desert-gorge-181</a></strong> to <a href=\"https://wandb.ai/miraclelinzzz/Final-ensemble\" target=\"_blank\">Weights & Biases</a> (<a href=\"https://wandb.me/run\" target=\"_blank\">docs</a>)<br/>"
      ],
      "text/plain": [
       "<IPython.core.display.HTML object>"
      ]
     },
     "metadata": {},
     "output_type": "display_data"
    },
    {
     "data": {
      "text/html": [
       "Waiting for W&B process to finish... <strong style=\"color:green\">(success).</strong>"
      ],
      "text/plain": [
       "<IPython.core.display.HTML object>"
      ]
     },
     "metadata": {},
     "output_type": "display_data"
    },
    {
     "data": {
      "text/html": [
       "<style>\n",
       "    table.wandb td:nth-child(1) { padding: 0 10px; text-align: left ; width: auto;} td:nth-child(2) {text-align: left ; width: 100%}\n",
       "    .wandb-row { display: flex; flex-direction: row; flex-wrap: wrap; justify-content: flex-start; width: 100% }\n",
       "    .wandb-col { display: flex; flex-direction: column; flex-basis: 100%; flex: 1; padding: 10px; }\n",
       "    </style>\n",
       "<div class=\"wandb-row\"><div class=\"wandb-col\"><h3>Run history:</h3><br/><table class=\"wandb\"><tr><td>Training Acc</td><td>▁▃▅▇▇▇█████████</td></tr><tr><td>Training Loss</td><td>█▇▆▄▃▃▂▁▁▁▂▁▁▁▂</td></tr><tr><td>Validation Acc</td><td>▁▆▅▆███▇████▆██</td></tr><tr><td>Validation Loss</td><td>█▇▆▄▂▁▃▂▂▂▁▂▃▂▂</td></tr></table><br/></div><div class=\"wandb-col\"><h3>Run summary:</h3><br/><table class=\"wandb\"><tr><td>Training Acc</td><td>0.97222</td></tr><tr><td>Training Loss</td><td>0.27565</td></tr><tr><td>Validation Acc</td><td>0.91667</td></tr><tr><td>Validation Loss</td><td>0.28144</td></tr><tr><td>test_accuracy</td><td>0.84643</td></tr><tr><td>test_losss</td><td>0.41091</td></tr></table><br/></div></div>"
      ],
      "text/plain": [
       "<IPython.core.display.HTML object>"
      ]
     },
     "metadata": {},
     "output_type": "display_data"
    },
    {
     "data": {
      "text/html": [
       "Synced <strong style=\"color:#cdcd00\">desert-gorge-181</strong>: <a href=\"https://wandb.ai/miraclelinzzz/Final-ensemble/runs/vp0367zy\" target=\"_blank\">https://wandb.ai/miraclelinzzz/Final-ensemble/runs/vp0367zy</a><br/>Synced 5 W&B file(s), 0 media file(s), 0 artifact file(s) and 0 other file(s)"
      ],
      "text/plain": [
       "<IPython.core.display.HTML object>"
      ]
     },
     "metadata": {},
     "output_type": "display_data"
    },
    {
     "data": {
      "text/html": [
       "Find logs at: <code>./wandb/run-20220818_015240-vp0367zy/logs</code>"
      ],
      "text/plain": [
       "<IPython.core.display.HTML object>"
      ]
     },
     "metadata": {},
     "output_type": "display_data"
    },
    {
     "name": "stdout",
     "output_type": "stream",
     "text": [
      "dr-0.3,arch-[256, 64],bs-16,seed-40,index-3,epoch-15\n"
     ]
    },
    {
     "data": {
      "text/html": [
       "Tracking run with wandb version 0.13.1"
      ],
      "text/plain": [
       "<IPython.core.display.HTML object>"
      ]
     },
     "metadata": {},
     "output_type": "display_data"
    },
    {
     "data": {
      "text/html": [
       "Run data is saved locally in <code>/home/jupyter/wandb/run-20220818_015344-9fhk475n</code>"
      ],
      "text/plain": [
       "<IPython.core.display.HTML object>"
      ]
     },
     "metadata": {},
     "output_type": "display_data"
    },
    {
     "data": {
      "text/html": [
       "Syncing run <strong><a href=\"https://wandb.ai/miraclelinzzz/Final-ensemble/runs/9fhk475n\" target=\"_blank\">magic-bee-182</a></strong> to <a href=\"https://wandb.ai/miraclelinzzz/Final-ensemble\" target=\"_blank\">Weights & Biases</a> (<a href=\"https://wandb.me/run\" target=\"_blank\">docs</a>)<br/>"
      ],
      "text/plain": [
       "<IPython.core.display.HTML object>"
      ]
     },
     "metadata": {},
     "output_type": "display_data"
    },
    {
     "data": {
      "text/html": [
       "Waiting for W&B process to finish... <strong style=\"color:green\">(success).</strong>"
      ],
      "text/plain": [
       "<IPython.core.display.HTML object>"
      ]
     },
     "metadata": {},
     "output_type": "display_data"
    },
    {
     "data": {
      "text/html": [
       "<style>\n",
       "    table.wandb td:nth-child(1) { padding: 0 10px; text-align: left ; width: auto;} td:nth-child(2) {text-align: left ; width: 100%}\n",
       "    .wandb-row { display: flex; flex-direction: row; flex-wrap: wrap; justify-content: flex-start; width: 100% }\n",
       "    .wandb-col { display: flex; flex-direction: column; flex-basis: 100%; flex: 1; padding: 10px; }\n",
       "    </style>\n",
       "<div class=\"wandb-row\"><div class=\"wandb-col\"><h3>Run history:</h3><br/><table class=\"wandb\"><tr><td>Training Acc</td><td>▁▃▄▄▅▇█████████</td></tr><tr><td>Training Loss</td><td>█▇▆▅▄▃▂▂▂▂▂▁▁▁▁</td></tr><tr><td>Validation Acc</td><td>▁▅▄▅▂▅█▇▅██▅███</td></tr><tr><td>Validation Loss</td><td>▇▆▅▇██▂▂█▁▁▆▁▁▁</td></tr></table><br/></div><div class=\"wandb-col\"><h3>Run summary:</h3><br/><table class=\"wandb\"><tr><td>Training Acc</td><td>1.0</td></tr><tr><td>Training Loss</td><td>0.16392</td></tr><tr><td>Validation Acc</td><td>0.875</td></tr><tr><td>Validation Loss</td><td>0.36908</td></tr><tr><td>test_accuracy</td><td>0.78036</td></tr><tr><td>test_losss</td><td>0.47556</td></tr></table><br/></div></div>"
      ],
      "text/plain": [
       "<IPython.core.display.HTML object>"
      ]
     },
     "metadata": {},
     "output_type": "display_data"
    },
    {
     "data": {
      "text/html": [
       "Synced <strong style=\"color:#cdcd00\">magic-bee-182</strong>: <a href=\"https://wandb.ai/miraclelinzzz/Final-ensemble/runs/9fhk475n\" target=\"_blank\">https://wandb.ai/miraclelinzzz/Final-ensemble/runs/9fhk475n</a><br/>Synced 5 W&B file(s), 0 media file(s), 0 artifact file(s) and 0 other file(s)"
      ],
      "text/plain": [
       "<IPython.core.display.HTML object>"
      ]
     },
     "metadata": {},
     "output_type": "display_data"
    },
    {
     "data": {
      "text/html": [
       "Find logs at: <code>./wandb/run-20220818_015344-9fhk475n/logs</code>"
      ],
      "text/plain": [
       "<IPython.core.display.HTML object>"
      ]
     },
     "metadata": {},
     "output_type": "display_data"
    },
    {
     "name": "stdout",
     "output_type": "stream",
     "text": [
      "dr-0.4,arch-[256, 128],bs-16,seed-40,index-1,epoch-15\n"
     ]
    },
    {
     "data": {
      "text/html": [
       "Tracking run with wandb version 0.13.1"
      ],
      "text/plain": [
       "<IPython.core.display.HTML object>"
      ]
     },
     "metadata": {},
     "output_type": "display_data"
    },
    {
     "data": {
      "text/html": [
       "Run data is saved locally in <code>/home/jupyter/wandb/run-20220818_015458-11jsr2yf</code>"
      ],
      "text/plain": [
       "<IPython.core.display.HTML object>"
      ]
     },
     "metadata": {},
     "output_type": "display_data"
    },
    {
     "data": {
      "text/html": [
       "Syncing run <strong><a href=\"https://wandb.ai/miraclelinzzz/Final-ensemble/runs/11jsr2yf\" target=\"_blank\">autumn-salad-183</a></strong> to <a href=\"https://wandb.ai/miraclelinzzz/Final-ensemble\" target=\"_blank\">Weights & Biases</a> (<a href=\"https://wandb.me/run\" target=\"_blank\">docs</a>)<br/>"
      ],
      "text/plain": [
       "<IPython.core.display.HTML object>"
      ]
     },
     "metadata": {},
     "output_type": "display_data"
    },
    {
     "data": {
      "text/html": [
       "Waiting for W&B process to finish... <strong style=\"color:green\">(success).</strong>"
      ],
      "text/plain": [
       "<IPython.core.display.HTML object>"
      ]
     },
     "metadata": {},
     "output_type": "display_data"
    },
    {
     "data": {
      "text/html": [
       "<style>\n",
       "    table.wandb td:nth-child(1) { padding: 0 10px; text-align: left ; width: auto;} td:nth-child(2) {text-align: left ; width: 100%}\n",
       "    .wandb-row { display: flex; flex-direction: row; flex-wrap: wrap; justify-content: flex-start; width: 100% }\n",
       "    .wandb-col { display: flex; flex-direction: column; flex-basis: 100%; flex: 1; padding: 10px; }\n",
       "    </style>\n",
       "<div class=\"wandb-row\"><div class=\"wandb-col\"><h3>Run history:</h3><br/><table class=\"wandb\"><tr><td>Training Acc</td><td>▁▃▄▄▅▆▇▇█████▇█</td></tr><tr><td>Training Loss</td><td>█▇▇▆▅▄▃▃▂▁▂▂▁▂▁</td></tr><tr><td>Validation Acc</td><td>▃▅▁▇▆▇█▆▇█▇▆▇▆█</td></tr><tr><td>Validation Loss</td><td>▇▆▆▅▅▃▁▄▁▂▃█▁█▁</td></tr></table><br/></div><div class=\"wandb-col\"><h3>Run summary:</h3><br/><table class=\"wandb\"><tr><td>Training Acc</td><td>1.0</td></tr><tr><td>Training Loss</td><td>0.1386</td></tr><tr><td>Validation Acc</td><td>0.83333</td></tr><tr><td>Validation Loss</td><td>0.42016</td></tr><tr><td>test_accuracy</td><td>0.78393</td></tr><tr><td>test_losss</td><td>0.45842</td></tr></table><br/></div></div>"
      ],
      "text/plain": [
       "<IPython.core.display.HTML object>"
      ]
     },
     "metadata": {},
     "output_type": "display_data"
    },
    {
     "data": {
      "text/html": [
       "Synced <strong style=\"color:#cdcd00\">autumn-salad-183</strong>: <a href=\"https://wandb.ai/miraclelinzzz/Final-ensemble/runs/11jsr2yf\" target=\"_blank\">https://wandb.ai/miraclelinzzz/Final-ensemble/runs/11jsr2yf</a><br/>Synced 5 W&B file(s), 0 media file(s), 0 artifact file(s) and 0 other file(s)"
      ],
      "text/plain": [
       "<IPython.core.display.HTML object>"
      ]
     },
     "metadata": {},
     "output_type": "display_data"
    },
    {
     "data": {
      "text/html": [
       "Find logs at: <code>./wandb/run-20220818_015458-11jsr2yf/logs</code>"
      ],
      "text/plain": [
       "<IPython.core.display.HTML object>"
      ]
     },
     "metadata": {},
     "output_type": "display_data"
    },
    {
     "name": "stdout",
     "output_type": "stream",
     "text": [
      "dr-0.4,arch-[256, 128],bs-16,seed-40,index-2,epoch-15\n"
     ]
    },
    {
     "data": {
      "text/html": [
       "Tracking run with wandb version 0.13.1"
      ],
      "text/plain": [
       "<IPython.core.display.HTML object>"
      ]
     },
     "metadata": {},
     "output_type": "display_data"
    },
    {
     "data": {
      "text/html": [
       "Run data is saved locally in <code>/home/jupyter/wandb/run-20220818_015612-3qeq9vjv</code>"
      ],
      "text/plain": [
       "<IPython.core.display.HTML object>"
      ]
     },
     "metadata": {},
     "output_type": "display_data"
    },
    {
     "data": {
      "text/html": [
       "Syncing run <strong><a href=\"https://wandb.ai/miraclelinzzz/Final-ensemble/runs/3qeq9vjv\" target=\"_blank\">electric-plasma-184</a></strong> to <a href=\"https://wandb.ai/miraclelinzzz/Final-ensemble\" target=\"_blank\">Weights & Biases</a> (<a href=\"https://wandb.me/run\" target=\"_blank\">docs</a>)<br/>"
      ],
      "text/plain": [
       "<IPython.core.display.HTML object>"
      ]
     },
     "metadata": {},
     "output_type": "display_data"
    },
    {
     "data": {
      "text/html": [
       "Waiting for W&B process to finish... <strong style=\"color:green\">(success).</strong>"
      ],
      "text/plain": [
       "<IPython.core.display.HTML object>"
      ]
     },
     "metadata": {},
     "output_type": "display_data"
    },
    {
     "data": {
      "text/html": [
       "<style>\n",
       "    table.wandb td:nth-child(1) { padding: 0 10px; text-align: left ; width: auto;} td:nth-child(2) {text-align: left ; width: 100%}\n",
       "    .wandb-row { display: flex; flex-direction: row; flex-wrap: wrap; justify-content: flex-start; width: 100% }\n",
       "    .wandb-col { display: flex; flex-direction: column; flex-basis: 100%; flex: 1; padding: 10px; }\n",
       "    </style>\n",
       "<div class=\"wandb-row\"><div class=\"wandb-col\"><h3>Run history:</h3><br/><table class=\"wandb\"><tr><td>Training Acc</td><td>▁▁▂▂▄▅▇████████</td></tr><tr><td>Training Loss</td><td>██▆▆▅▄▃▂▁▁▁▁▁▁▁</td></tr><tr><td>Validation Acc</td><td>▁▁▁▆██▇██▆▅█▇██</td></tr><tr><td>Validation Loss</td><td>█▆▅▄▅▁▁▁▁▅█▁▂▁▁</td></tr></table><br/></div><div class=\"wandb-col\"><h3>Run summary:</h3><br/><table class=\"wandb\"><tr><td>Training Acc</td><td>1.0</td></tr><tr><td>Training Loss</td><td>0.17475</td></tr><tr><td>Validation Acc</td><td>0.91667</td></tr><tr><td>Validation Loss</td><td>0.30859</td></tr><tr><td>test_accuracy</td><td>0.84643</td></tr><tr><td>test_losss</td><td>0.41123</td></tr></table><br/></div></div>"
      ],
      "text/plain": [
       "<IPython.core.display.HTML object>"
      ]
     },
     "metadata": {},
     "output_type": "display_data"
    },
    {
     "data": {
      "text/html": [
       "Synced <strong style=\"color:#cdcd00\">electric-plasma-184</strong>: <a href=\"https://wandb.ai/miraclelinzzz/Final-ensemble/runs/3qeq9vjv\" target=\"_blank\">https://wandb.ai/miraclelinzzz/Final-ensemble/runs/3qeq9vjv</a><br/>Synced 5 W&B file(s), 0 media file(s), 0 artifact file(s) and 0 other file(s)"
      ],
      "text/plain": [
       "<IPython.core.display.HTML object>"
      ]
     },
     "metadata": {},
     "output_type": "display_data"
    },
    {
     "data": {
      "text/html": [
       "Find logs at: <code>./wandb/run-20220818_015612-3qeq9vjv/logs</code>"
      ],
      "text/plain": [
       "<IPython.core.display.HTML object>"
      ]
     },
     "metadata": {},
     "output_type": "display_data"
    },
    {
     "name": "stdout",
     "output_type": "stream",
     "text": [
      "dr-0.4,arch-[256, 128],bs-16,seed-40,index-3,epoch-15\n"
     ]
    },
    {
     "data": {
      "text/html": [
       "Tracking run with wandb version 0.13.1"
      ],
      "text/plain": [
       "<IPython.core.display.HTML object>"
      ]
     },
     "metadata": {},
     "output_type": "display_data"
    },
    {
     "data": {
      "text/html": [
       "Run data is saved locally in <code>/home/jupyter/wandb/run-20220818_015716-z5dw3p69</code>"
      ],
      "text/plain": [
       "<IPython.core.display.HTML object>"
      ]
     },
     "metadata": {},
     "output_type": "display_data"
    },
    {
     "data": {
      "text/html": [
       "Syncing run <strong><a href=\"https://wandb.ai/miraclelinzzz/Final-ensemble/runs/z5dw3p69\" target=\"_blank\">celestial-hill-185</a></strong> to <a href=\"https://wandb.ai/miraclelinzzz/Final-ensemble\" target=\"_blank\">Weights & Biases</a> (<a href=\"https://wandb.me/run\" target=\"_blank\">docs</a>)<br/>"
      ],
      "text/plain": [
       "<IPython.core.display.HTML object>"
      ]
     },
     "metadata": {},
     "output_type": "display_data"
    },
    {
     "data": {
      "text/html": [
       "Waiting for W&B process to finish... <strong style=\"color:green\">(success).</strong>"
      ],
      "text/plain": [
       "<IPython.core.display.HTML object>"
      ]
     },
     "metadata": {},
     "output_type": "display_data"
    },
    {
     "data": {
      "text/html": [
       "<style>\n",
       "    table.wandb td:nth-child(1) { padding: 0 10px; text-align: left ; width: auto;} td:nth-child(2) {text-align: left ; width: 100%}\n",
       "    .wandb-row { display: flex; flex-direction: row; flex-wrap: wrap; justify-content: flex-start; width: 100% }\n",
       "    .wandb-col { display: flex; flex-direction: column; flex-basis: 100%; flex: 1; padding: 10px; }\n",
       "    </style>\n",
       "<div class=\"wandb-row\"><div class=\"wandb-col\"><h3>Run history:</h3><br/><table class=\"wandb\"><tr><td>Training Acc</td><td>▁▃▃▄▅▆▆▇███████</td></tr><tr><td>Training Loss</td><td>█▇▇▆▅▄▃▃▂▂▁▁▁▁▁</td></tr><tr><td>Validation Acc</td><td>▃▁▃▇▇▆▆██▇▇▇█▆█</td></tr><tr><td>Validation Loss</td><td>▇█▇▃▆▃▆▁▂▂▁▁▂▇▁</td></tr></table><br/></div><div class=\"wandb-col\"><h3>Run summary:</h3><br/><table class=\"wandb\"><tr><td>Training Acc</td><td>1.0</td></tr><tr><td>Training Loss</td><td>0.16118</td></tr><tr><td>Validation Acc</td><td>0.89583</td></tr><tr><td>Validation Loss</td><td>0.35291</td></tr><tr><td>test_accuracy</td><td>0.85536</td></tr><tr><td>test_losss</td><td>0.40671</td></tr></table><br/></div></div>"
      ],
      "text/plain": [
       "<IPython.core.display.HTML object>"
      ]
     },
     "metadata": {},
     "output_type": "display_data"
    },
    {
     "data": {
      "text/html": [
       "Synced <strong style=\"color:#cdcd00\">celestial-hill-185</strong>: <a href=\"https://wandb.ai/miraclelinzzz/Final-ensemble/runs/z5dw3p69\" target=\"_blank\">https://wandb.ai/miraclelinzzz/Final-ensemble/runs/z5dw3p69</a><br/>Synced 5 W&B file(s), 0 media file(s), 0 artifact file(s) and 0 other file(s)"
      ],
      "text/plain": [
       "<IPython.core.display.HTML object>"
      ]
     },
     "metadata": {},
     "output_type": "display_data"
    },
    {
     "data": {
      "text/html": [
       "Find logs at: <code>./wandb/run-20220818_015716-z5dw3p69/logs</code>"
      ],
      "text/plain": [
       "<IPython.core.display.HTML object>"
      ]
     },
     "metadata": {},
     "output_type": "display_data"
    },
    {
     "name": "stdout",
     "output_type": "stream",
     "text": [
      "dr-0.5,arch-[512, 256],bs-16,seed-40,index-1,epoch-15\n"
     ]
    },
    {
     "data": {
      "text/html": [
       "Tracking run with wandb version 0.13.1"
      ],
      "text/plain": [
       "<IPython.core.display.HTML object>"
      ]
     },
     "metadata": {},
     "output_type": "display_data"
    },
    {
     "data": {
      "text/html": [
       "Run data is saved locally in <code>/home/jupyter/wandb/run-20220818_015830-3c2cdgu6</code>"
      ],
      "text/plain": [
       "<IPython.core.display.HTML object>"
      ]
     },
     "metadata": {},
     "output_type": "display_data"
    },
    {
     "data": {
      "text/html": [
       "Syncing run <strong><a href=\"https://wandb.ai/miraclelinzzz/Final-ensemble/runs/3c2cdgu6\" target=\"_blank\">crimson-eon-186</a></strong> to <a href=\"https://wandb.ai/miraclelinzzz/Final-ensemble\" target=\"_blank\">Weights & Biases</a> (<a href=\"https://wandb.me/run\" target=\"_blank\">docs</a>)<br/>"
      ],
      "text/plain": [
       "<IPython.core.display.HTML object>"
      ]
     },
     "metadata": {},
     "output_type": "display_data"
    },
    {
     "data": {
      "text/html": [
       "Waiting for W&B process to finish... <strong style=\"color:green\">(success).</strong>"
      ],
      "text/plain": [
       "<IPython.core.display.HTML object>"
      ]
     },
     "metadata": {},
     "output_type": "display_data"
    },
    {
     "data": {
      "text/html": [
       "<style>\n",
       "    table.wandb td:nth-child(1) { padding: 0 10px; text-align: left ; width: auto;} td:nth-child(2) {text-align: left ; width: 100%}\n",
       "    .wandb-row { display: flex; flex-direction: row; flex-wrap: wrap; justify-content: flex-start; width: 100% }\n",
       "    .wandb-col { display: flex; flex-direction: column; flex-basis: 100%; flex: 1; padding: 10px; }\n",
       "    </style>\n",
       "<div class=\"wandb-row\"><div class=\"wandb-col\"><h3>Run history:</h3><br/><table class=\"wandb\"><tr><td>Training Acc</td><td>▁▂▄▅▅▇███▇█████</td></tr><tr><td>Training Loss</td><td>█▇▆▅▄▃▂▂▁▂▁▁▁▁▁</td></tr><tr><td>Validation Acc</td><td>▁▄▇▄▄▇▅▅▃▅▄█▅██</td></tr><tr><td>Validation Loss</td><td>▃▃▂▂▃▁▃▃█▃▅▁▄▁▁</td></tr></table><br/></div><div class=\"wandb-col\"><h3>Run summary:</h3><br/><table class=\"wandb\"><tr><td>Training Acc</td><td>0.99306</td></tr><tr><td>Training Loss</td><td>0.11601</td></tr><tr><td>Validation Acc</td><td>0.8125</td></tr><tr><td>Validation Loss</td><td>0.46342</td></tr><tr><td>test_accuracy</td><td>0.84286</td></tr><tr><td>test_losss</td><td>0.40527</td></tr></table><br/></div></div>"
      ],
      "text/plain": [
       "<IPython.core.display.HTML object>"
      ]
     },
     "metadata": {},
     "output_type": "display_data"
    },
    {
     "data": {
      "text/html": [
       "Synced <strong style=\"color:#cdcd00\">crimson-eon-186</strong>: <a href=\"https://wandb.ai/miraclelinzzz/Final-ensemble/runs/3c2cdgu6\" target=\"_blank\">https://wandb.ai/miraclelinzzz/Final-ensemble/runs/3c2cdgu6</a><br/>Synced 5 W&B file(s), 0 media file(s), 0 artifact file(s) and 0 other file(s)"
      ],
      "text/plain": [
       "<IPython.core.display.HTML object>"
      ]
     },
     "metadata": {},
     "output_type": "display_data"
    },
    {
     "data": {
      "text/html": [
       "Find logs at: <code>./wandb/run-20220818_015830-3c2cdgu6/logs</code>"
      ],
      "text/plain": [
       "<IPython.core.display.HTML object>"
      ]
     },
     "metadata": {},
     "output_type": "display_data"
    },
    {
     "name": "stdout",
     "output_type": "stream",
     "text": [
      "dr-0.5,arch-[512, 256],bs-16,seed-40,index-2,epoch-15\n"
     ]
    },
    {
     "data": {
      "text/html": [
       "Tracking run with wandb version 0.13.1"
      ],
      "text/plain": [
       "<IPython.core.display.HTML object>"
      ]
     },
     "metadata": {},
     "output_type": "display_data"
    },
    {
     "data": {
      "text/html": [
       "Run data is saved locally in <code>/home/jupyter/wandb/run-20220818_015944-2148m4rx</code>"
      ],
      "text/plain": [
       "<IPython.core.display.HTML object>"
      ]
     },
     "metadata": {},
     "output_type": "display_data"
    },
    {
     "data": {
      "text/html": [
       "Syncing run <strong><a href=\"https://wandb.ai/miraclelinzzz/Final-ensemble/runs/2148m4rx\" target=\"_blank\">elated-energy-187</a></strong> to <a href=\"https://wandb.ai/miraclelinzzz/Final-ensemble\" target=\"_blank\">Weights & Biases</a> (<a href=\"https://wandb.me/run\" target=\"_blank\">docs</a>)<br/>"
      ],
      "text/plain": [
       "<IPython.core.display.HTML object>"
      ]
     },
     "metadata": {},
     "output_type": "display_data"
    },
    {
     "data": {
      "text/html": [
       "Waiting for W&B process to finish... <strong style=\"color:green\">(success).</strong>"
      ],
      "text/plain": [
       "<IPython.core.display.HTML object>"
      ]
     },
     "metadata": {},
     "output_type": "display_data"
    },
    {
     "data": {
      "text/html": [
       "<style>\n",
       "    table.wandb td:nth-child(1) { padding: 0 10px; text-align: left ; width: auto;} td:nth-child(2) {text-align: left ; width: 100%}\n",
       "    .wandb-row { display: flex; flex-direction: row; flex-wrap: wrap; justify-content: flex-start; width: 100% }\n",
       "    .wandb-col { display: flex; flex-direction: column; flex-basis: 100%; flex: 1; padding: 10px; }\n",
       "    </style>\n",
       "<div class=\"wandb-row\"><div class=\"wandb-col\"><h3>Run history:</h3><br/><table class=\"wandb\"><tr><td>Training Acc</td><td>▁▃▃▅▆▆▆▇███████</td></tr><tr><td>Training Loss</td><td>█▇▆▅▅▄▄▃▂▂▁▁▁▁▁</td></tr><tr><td>Validation Acc</td><td>▃▁▄▄▅█▇█▆▇█▇▇█▆</td></tr><tr><td>Validation Loss</td><td>▇▇▅▄▅▂▂▁█▃▁▂▂▁▇</td></tr></table><br/></div><div class=\"wandb-col\"><h3>Run summary:</h3><br/><table class=\"wandb\"><tr><td>Training Acc</td><td>1.0</td></tr><tr><td>Training Loss</td><td>0.07473</td></tr><tr><td>Validation Acc</td><td>0.77083</td></tr><tr><td>Validation Loss</td><td>0.6522</td></tr><tr><td>test_accuracy</td><td>0.82143</td></tr><tr><td>test_losss</td><td>0.41643</td></tr></table><br/></div></div>"
      ],
      "text/plain": [
       "<IPython.core.display.HTML object>"
      ]
     },
     "metadata": {},
     "output_type": "display_data"
    },
    {
     "data": {
      "text/html": [
       "Synced <strong style=\"color:#cdcd00\">elated-energy-187</strong>: <a href=\"https://wandb.ai/miraclelinzzz/Final-ensemble/runs/2148m4rx\" target=\"_blank\">https://wandb.ai/miraclelinzzz/Final-ensemble/runs/2148m4rx</a><br/>Synced 5 W&B file(s), 0 media file(s), 0 artifact file(s) and 0 other file(s)"
      ],
      "text/plain": [
       "<IPython.core.display.HTML object>"
      ]
     },
     "metadata": {},
     "output_type": "display_data"
    },
    {
     "data": {
      "text/html": [
       "Find logs at: <code>./wandb/run-20220818_015944-2148m4rx/logs</code>"
      ],
      "text/plain": [
       "<IPython.core.display.HTML object>"
      ]
     },
     "metadata": {},
     "output_type": "display_data"
    },
    {
     "name": "stdout",
     "output_type": "stream",
     "text": [
      "dr-0.5,arch-[512, 256],bs-16,seed-40,index-3,epoch-15\n"
     ]
    },
    {
     "data": {
      "text/html": [
       "Tracking run with wandb version 0.13.1"
      ],
      "text/plain": [
       "<IPython.core.display.HTML object>"
      ]
     },
     "metadata": {},
     "output_type": "display_data"
    },
    {
     "data": {
      "text/html": [
       "Run data is saved locally in <code>/home/jupyter/wandb/run-20220818_020048-3q2e4xdv</code>"
      ],
      "text/plain": [
       "<IPython.core.display.HTML object>"
      ]
     },
     "metadata": {},
     "output_type": "display_data"
    },
    {
     "data": {
      "text/html": [
       "Syncing run <strong><a href=\"https://wandb.ai/miraclelinzzz/Final-ensemble/runs/3q2e4xdv\" target=\"_blank\">vivid-violet-188</a></strong> to <a href=\"https://wandb.ai/miraclelinzzz/Final-ensemble\" target=\"_blank\">Weights & Biases</a> (<a href=\"https://wandb.me/run\" target=\"_blank\">docs</a>)<br/>"
      ],
      "text/plain": [
       "<IPython.core.display.HTML object>"
      ]
     },
     "metadata": {},
     "output_type": "display_data"
    },
    {
     "data": {
      "text/html": [
       "Waiting for W&B process to finish... <strong style=\"color:green\">(success).</strong>"
      ],
      "text/plain": [
       "<IPython.core.display.HTML object>"
      ]
     },
     "metadata": {},
     "output_type": "display_data"
    },
    {
     "data": {
      "text/html": [
       "<style>\n",
       "    table.wandb td:nth-child(1) { padding: 0 10px; text-align: left ; width: auto;} td:nth-child(2) {text-align: left ; width: 100%}\n",
       "    .wandb-row { display: flex; flex-direction: row; flex-wrap: wrap; justify-content: flex-start; width: 100% }\n",
       "    .wandb-col { display: flex; flex-direction: column; flex-basis: 100%; flex: 1; padding: 10px; }\n",
       "    </style>\n",
       "<div class=\"wandb-row\"><div class=\"wandb-col\"><h3>Run history:</h3><br/><table class=\"wandb\"><tr><td>Training Acc</td><td>▁▂▃▃▅▆▆▇▆██████</td></tr><tr><td>Training Loss</td><td>█▇▇▆▅▄▃▃▃▂▂▁▁▁▁</td></tr><tr><td>Validation Acc</td><td>▁▃▆▅█▃▇█▃▅▇▅██▆</td></tr><tr><td>Validation Loss</td><td>▆▅▅▄▃█▁▂▆▅▅█▂▁▇</td></tr></table><br/></div><div class=\"wandb-col\"><h3>Run summary:</h3><br/><table class=\"wandb\"><tr><td>Training Acc</td><td>1.0</td></tr><tr><td>Training Loss</td><td>0.07559</td></tr><tr><td>Validation Acc</td><td>0.66667</td></tr><tr><td>Validation Loss</td><td>0.76573</td></tr><tr><td>test_accuracy</td><td>0.81786</td></tr><tr><td>test_losss</td><td>0.42077</td></tr></table><br/></div></div>"
      ],
      "text/plain": [
       "<IPython.core.display.HTML object>"
      ]
     },
     "metadata": {},
     "output_type": "display_data"
    },
    {
     "data": {
      "text/html": [
       "Synced <strong style=\"color:#cdcd00\">vivid-violet-188</strong>: <a href=\"https://wandb.ai/miraclelinzzz/Final-ensemble/runs/3q2e4xdv\" target=\"_blank\">https://wandb.ai/miraclelinzzz/Final-ensemble/runs/3q2e4xdv</a><br/>Synced 5 W&B file(s), 0 media file(s), 0 artifact file(s) and 0 other file(s)"
      ],
      "text/plain": [
       "<IPython.core.display.HTML object>"
      ]
     },
     "metadata": {},
     "output_type": "display_data"
    },
    {
     "data": {
      "text/html": [
       "Find logs at: <code>./wandb/run-20220818_020048-3q2e4xdv/logs</code>"
      ],
      "text/plain": [
       "<IPython.core.display.HTML object>"
      ]
     },
     "metadata": {},
     "output_type": "display_data"
    },
    {
     "name": "stdout",
     "output_type": "stream",
     "text": [
      "dr-0.3,arch-[256, 64, 128],bs-16,seed-40,index-1,epoch-15\n"
     ]
    },
    {
     "data": {
      "text/html": [
       "Tracking run with wandb version 0.13.1"
      ],
      "text/plain": [
       "<IPython.core.display.HTML object>"
      ]
     },
     "metadata": {},
     "output_type": "display_data"
    },
    {
     "data": {
      "text/html": [
       "Run data is saved locally in <code>/home/jupyter/wandb/run-20220818_020203-1djbqzdk</code>"
      ],
      "text/plain": [
       "<IPython.core.display.HTML object>"
      ]
     },
     "metadata": {},
     "output_type": "display_data"
    },
    {
     "data": {
      "text/html": [
       "Syncing run <strong><a href=\"https://wandb.ai/miraclelinzzz/Final-ensemble/runs/1djbqzdk\" target=\"_blank\">misunderstood-morning-189</a></strong> to <a href=\"https://wandb.ai/miraclelinzzz/Final-ensemble\" target=\"_blank\">Weights & Biases</a> (<a href=\"https://wandb.me/run\" target=\"_blank\">docs</a>)<br/>"
      ],
      "text/plain": [
       "<IPython.core.display.HTML object>"
      ]
     },
     "metadata": {},
     "output_type": "display_data"
    },
    {
     "data": {
      "text/html": [
       "Waiting for W&B process to finish... <strong style=\"color:green\">(success).</strong>"
      ],
      "text/plain": [
       "<IPython.core.display.HTML object>"
      ]
     },
     "metadata": {},
     "output_type": "display_data"
    },
    {
     "data": {
      "text/html": [
       "<style>\n",
       "    table.wandb td:nth-child(1) { padding: 0 10px; text-align: left ; width: auto;} td:nth-child(2) {text-align: left ; width: 100%}\n",
       "    .wandb-row { display: flex; flex-direction: row; flex-wrap: wrap; justify-content: flex-start; width: 100% }\n",
       "    .wandb-col { display: flex; flex-direction: column; flex-basis: 100%; flex: 1; padding: 10px; }\n",
       "    </style>\n",
       "<div class=\"wandb-row\"><div class=\"wandb-col\"><h3>Run history:</h3><br/><table class=\"wandb\"><tr><td>Training Acc</td><td>▁▃▂▄▄▅▄▅▆▆█▇▇▇█</td></tr><tr><td>Training Loss</td><td>█▆▆▅▅▄▅▃▂▂▂▂▂▂▁</td></tr><tr><td>Validation Acc</td><td>▂▄▄█▄▁▄▇▂▅█▅█▅▅</td></tr><tr><td>Validation Loss</td><td>██▆▄▄▆▂▃▆▆▁▁▃▄▅</td></tr></table><br/></div><div class=\"wandb-col\"><h3>Run summary:</h3><br/><table class=\"wandb\"><tr><td>Training Acc</td><td>0.89583</td></tr><tr><td>Training Loss</td><td>0.41159</td></tr><tr><td>Validation Acc</td><td>0.66667</td></tr><tr><td>Validation Loss</td><td>0.61663</td></tr><tr><td>test_accuracy</td><td>0.71786</td></tr><tr><td>test_losss</td><td>0.52642</td></tr></table><br/></div></div>"
      ],
      "text/plain": [
       "<IPython.core.display.HTML object>"
      ]
     },
     "metadata": {},
     "output_type": "display_data"
    },
    {
     "data": {
      "text/html": [
       "Synced <strong style=\"color:#cdcd00\">misunderstood-morning-189</strong>: <a href=\"https://wandb.ai/miraclelinzzz/Final-ensemble/runs/1djbqzdk\" target=\"_blank\">https://wandb.ai/miraclelinzzz/Final-ensemble/runs/1djbqzdk</a><br/>Synced 5 W&B file(s), 0 media file(s), 0 artifact file(s) and 0 other file(s)"
      ],
      "text/plain": [
       "<IPython.core.display.HTML object>"
      ]
     },
     "metadata": {},
     "output_type": "display_data"
    },
    {
     "data": {
      "text/html": [
       "Find logs at: <code>./wandb/run-20220818_020203-1djbqzdk/logs</code>"
      ],
      "text/plain": [
       "<IPython.core.display.HTML object>"
      ]
     },
     "metadata": {},
     "output_type": "display_data"
    },
    {
     "name": "stdout",
     "output_type": "stream",
     "text": [
      "dr-0.3,arch-[256, 64, 128],bs-16,seed-40,index-2,epoch-15\n"
     ]
    },
    {
     "data": {
      "text/html": [
       "Tracking run with wandb version 0.13.1"
      ],
      "text/plain": [
       "<IPython.core.display.HTML object>"
      ]
     },
     "metadata": {},
     "output_type": "display_data"
    },
    {
     "data": {
      "text/html": [
       "Run data is saved locally in <code>/home/jupyter/wandb/run-20220818_020317-2u19ox9t</code>"
      ],
      "text/plain": [
       "<IPython.core.display.HTML object>"
      ]
     },
     "metadata": {},
     "output_type": "display_data"
    },
    {
     "data": {
      "text/html": [
       "Syncing run <strong><a href=\"https://wandb.ai/miraclelinzzz/Final-ensemble/runs/2u19ox9t\" target=\"_blank\">different-elevator-190</a></strong> to <a href=\"https://wandb.ai/miraclelinzzz/Final-ensemble\" target=\"_blank\">Weights & Biases</a> (<a href=\"https://wandb.me/run\" target=\"_blank\">docs</a>)<br/>"
      ],
      "text/plain": [
       "<IPython.core.display.HTML object>"
      ]
     },
     "metadata": {},
     "output_type": "display_data"
    },
    {
     "data": {
      "text/html": [
       "Waiting for W&B process to finish... <strong style=\"color:green\">(success).</strong>"
      ],
      "text/plain": [
       "<IPython.core.display.HTML object>"
      ]
     },
     "metadata": {},
     "output_type": "display_data"
    },
    {
     "data": {
      "text/html": [
       "<style>\n",
       "    table.wandb td:nth-child(1) { padding: 0 10px; text-align: left ; width: auto;} td:nth-child(2) {text-align: left ; width: 100%}\n",
       "    .wandb-row { display: flex; flex-direction: row; flex-wrap: wrap; justify-content: flex-start; width: 100% }\n",
       "    .wandb-col { display: flex; flex-direction: column; flex-basis: 100%; flex: 1; padding: 10px; }\n",
       "    </style>\n",
       "<div class=\"wandb-row\"><div class=\"wandb-col\"><h3>Run history:</h3><br/><table class=\"wandb\"><tr><td>Training Acc</td><td>▁▁▁▂▄▄▂▄▄▅▇▇▇██</td></tr><tr><td>Training Loss</td><td>█▇█▇▆▆▆▅▄▃▂▁▁▁▁</td></tr><tr><td>Validation Acc</td><td>▃▅▄▅▇▁▆▅▅▆█▆▆█▆</td></tr><tr><td>Validation Loss</td><td>▇█▆▇▄▅▅▃▁▆▃▁▁▂▅</td></tr></table><br/></div><div class=\"wandb-col\"><h3>Run summary:</h3><br/><table class=\"wandb\"><tr><td>Training Acc</td><td>0.90972</td></tr><tr><td>Training Loss</td><td>0.41375</td></tr><tr><td>Validation Acc</td><td>0.70833</td></tr><tr><td>Validation Loss</td><td>0.61105</td></tr><tr><td>test_accuracy</td><td>0.79643</td></tr><tr><td>test_losss</td><td>0.50299</td></tr></table><br/></div></div>"
      ],
      "text/plain": [
       "<IPython.core.display.HTML object>"
      ]
     },
     "metadata": {},
     "output_type": "display_data"
    },
    {
     "data": {
      "text/html": [
       "Synced <strong style=\"color:#cdcd00\">different-elevator-190</strong>: <a href=\"https://wandb.ai/miraclelinzzz/Final-ensemble/runs/2u19ox9t\" target=\"_blank\">https://wandb.ai/miraclelinzzz/Final-ensemble/runs/2u19ox9t</a><br/>Synced 5 W&B file(s), 0 media file(s), 0 artifact file(s) and 0 other file(s)"
      ],
      "text/plain": [
       "<IPython.core.display.HTML object>"
      ]
     },
     "metadata": {},
     "output_type": "display_data"
    },
    {
     "data": {
      "text/html": [
       "Find logs at: <code>./wandb/run-20220818_020317-2u19ox9t/logs</code>"
      ],
      "text/plain": [
       "<IPython.core.display.HTML object>"
      ]
     },
     "metadata": {},
     "output_type": "display_data"
    },
    {
     "name": "stdout",
     "output_type": "stream",
     "text": [
      "dr-0.3,arch-[256, 64, 128],bs-16,seed-40,index-3,epoch-15\n"
     ]
    },
    {
     "data": {
      "text/html": [
       "Tracking run with wandb version 0.13.1"
      ],
      "text/plain": [
       "<IPython.core.display.HTML object>"
      ]
     },
     "metadata": {},
     "output_type": "display_data"
    },
    {
     "data": {
      "text/html": [
       "Run data is saved locally in <code>/home/jupyter/wandb/run-20220818_020421-g4j1ddli</code>"
      ],
      "text/plain": [
       "<IPython.core.display.HTML object>"
      ]
     },
     "metadata": {},
     "output_type": "display_data"
    },
    {
     "data": {
      "text/html": [
       "Syncing run <strong><a href=\"https://wandb.ai/miraclelinzzz/Final-ensemble/runs/g4j1ddli\" target=\"_blank\">sweet-wood-191</a></strong> to <a href=\"https://wandb.ai/miraclelinzzz/Final-ensemble\" target=\"_blank\">Weights & Biases</a> (<a href=\"https://wandb.me/run\" target=\"_blank\">docs</a>)<br/>"
      ],
      "text/plain": [
       "<IPython.core.display.HTML object>"
      ]
     },
     "metadata": {},
     "output_type": "display_data"
    },
    {
     "data": {
      "text/html": [
       "Waiting for W&B process to finish... <strong style=\"color:green\">(success).</strong>"
      ],
      "text/plain": [
       "<IPython.core.display.HTML object>"
      ]
     },
     "metadata": {},
     "output_type": "display_data"
    },
    {
     "data": {
      "text/html": [
       "<style>\n",
       "    table.wandb td:nth-child(1) { padding: 0 10px; text-align: left ; width: auto;} td:nth-child(2) {text-align: left ; width: 100%}\n",
       "    .wandb-row { display: flex; flex-direction: row; flex-wrap: wrap; justify-content: flex-start; width: 100% }\n",
       "    .wandb-col { display: flex; flex-direction: column; flex-basis: 100%; flex: 1; padding: 10px; }\n",
       "    </style>\n",
       "<div class=\"wandb-row\"><div class=\"wandb-col\"><h3>Run history:</h3><br/><table class=\"wandb\"><tr><td>Training Acc</td><td>▁▂▂▃▂▄▄▄▆▆▇▇██▇</td></tr><tr><td>Training Loss</td><td>█▇▆▆▆▅▅▄▃▃▂▂▁▁▂</td></tr><tr><td>Validation Acc</td><td>▁▁▁▃▅▅█▅▇████▅█</td></tr><tr><td>Validation Loss</td><td>██▇▇▇▅▂▆▂▂▁▂▂▂▂</td></tr></table><br/></div><div class=\"wandb-col\"><h3>Run summary:</h3><br/><table class=\"wandb\"><tr><td>Training Acc</td><td>0.86806</td></tr><tr><td>Training Loss</td><td>0.40549</td></tr><tr><td>Validation Acc</td><td>0.85417</td></tr><tr><td>Validation Loss</td><td>0.44063</td></tr><tr><td>test_accuracy</td><td>0.87143</td></tr><tr><td>test_losss</td><td>0.46468</td></tr></table><br/></div></div>"
      ],
      "text/plain": [
       "<IPython.core.display.HTML object>"
      ]
     },
     "metadata": {},
     "output_type": "display_data"
    },
    {
     "data": {
      "text/html": [
       "Synced <strong style=\"color:#cdcd00\">sweet-wood-191</strong>: <a href=\"https://wandb.ai/miraclelinzzz/Final-ensemble/runs/g4j1ddli\" target=\"_blank\">https://wandb.ai/miraclelinzzz/Final-ensemble/runs/g4j1ddli</a><br/>Synced 5 W&B file(s), 0 media file(s), 0 artifact file(s) and 0 other file(s)"
      ],
      "text/plain": [
       "<IPython.core.display.HTML object>"
      ]
     },
     "metadata": {},
     "output_type": "display_data"
    },
    {
     "data": {
      "text/html": [
       "Find logs at: <code>./wandb/run-20220818_020421-g4j1ddli/logs</code>"
      ],
      "text/plain": [
       "<IPython.core.display.HTML object>"
      ]
     },
     "metadata": {},
     "output_type": "display_data"
    },
    {
     "name": "stdout",
     "output_type": "stream",
     "text": [
      "dr-0.4,arch-[512, 256, 64],bs-16,seed-40,index-1,epoch-15\n"
     ]
    },
    {
     "data": {
      "text/html": [
       "Tracking run with wandb version 0.13.1"
      ],
      "text/plain": [
       "<IPython.core.display.HTML object>"
      ]
     },
     "metadata": {},
     "output_type": "display_data"
    },
    {
     "data": {
      "text/html": [
       "Run data is saved locally in <code>/home/jupyter/wandb/run-20220818_020535-1qgtrfri</code>"
      ],
      "text/plain": [
       "<IPython.core.display.HTML object>"
      ]
     },
     "metadata": {},
     "output_type": "display_data"
    },
    {
     "data": {
      "text/html": [
       "Syncing run <strong><a href=\"https://wandb.ai/miraclelinzzz/Final-ensemble/runs/1qgtrfri\" target=\"_blank\">curious-glade-192</a></strong> to <a href=\"https://wandb.ai/miraclelinzzz/Final-ensemble\" target=\"_blank\">Weights & Biases</a> (<a href=\"https://wandb.me/run\" target=\"_blank\">docs</a>)<br/>"
      ],
      "text/plain": [
       "<IPython.core.display.HTML object>"
      ]
     },
     "metadata": {},
     "output_type": "display_data"
    },
    {
     "data": {
      "text/html": [
       "Waiting for W&B process to finish... <strong style=\"color:green\">(success).</strong>"
      ],
      "text/plain": [
       "<IPython.core.display.HTML object>"
      ]
     },
     "metadata": {},
     "output_type": "display_data"
    },
    {
     "data": {
      "text/html": [
       "<style>\n",
       "    table.wandb td:nth-child(1) { padding: 0 10px; text-align: left ; width: auto;} td:nth-child(2) {text-align: left ; width: 100%}\n",
       "    .wandb-row { display: flex; flex-direction: row; flex-wrap: wrap; justify-content: flex-start; width: 100% }\n",
       "    .wandb-col { display: flex; flex-direction: column; flex-basis: 100%; flex: 1; padding: 10px; }\n",
       "    </style>\n",
       "<div class=\"wandb-row\"><div class=\"wandb-col\"><h3>Run history:</h3><br/><table class=\"wandb\"><tr><td>Training Acc</td><td>▁▂▄▃▃▄▃▅▅▆▆▇▇█▇</td></tr><tr><td>Training Loss</td><td>██▆▆▇▆▅▄▄▄▃▃▂▂▁</td></tr><tr><td>Validation Acc</td><td>▁▁▁▁▃▃▃▁▅▇█▅▄▅█</td></tr><tr><td>Validation Loss</td><td>██▆▇▆▅▆▅▆▁▁▂▂▅▁</td></tr></table><br/></div><div class=\"wandb-col\"><h3>Run summary:</h3><br/><table class=\"wandb\"><tr><td>Training Acc</td><td>0.8125</td></tr><tr><td>Training Loss</td><td>0.39942</td></tr><tr><td>Validation Acc</td><td>0.83333</td></tr><tr><td>Validation Loss</td><td>0.44329</td></tr><tr><td>test_accuracy</td><td>0.80893</td></tr><tr><td>test_losss</td><td>0.47554</td></tr></table><br/></div></div>"
      ],
      "text/plain": [
       "<IPython.core.display.HTML object>"
      ]
     },
     "metadata": {},
     "output_type": "display_data"
    },
    {
     "data": {
      "text/html": [
       "Synced <strong style=\"color:#cdcd00\">curious-glade-192</strong>: <a href=\"https://wandb.ai/miraclelinzzz/Final-ensemble/runs/1qgtrfri\" target=\"_blank\">https://wandb.ai/miraclelinzzz/Final-ensemble/runs/1qgtrfri</a><br/>Synced 5 W&B file(s), 0 media file(s), 0 artifact file(s) and 0 other file(s)"
      ],
      "text/plain": [
       "<IPython.core.display.HTML object>"
      ]
     },
     "metadata": {},
     "output_type": "display_data"
    },
    {
     "data": {
      "text/html": [
       "Find logs at: <code>./wandb/run-20220818_020535-1qgtrfri/logs</code>"
      ],
      "text/plain": [
       "<IPython.core.display.HTML object>"
      ]
     },
     "metadata": {},
     "output_type": "display_data"
    },
    {
     "name": "stdout",
     "output_type": "stream",
     "text": [
      "dr-0.4,arch-[512, 256, 64],bs-16,seed-40,index-2,epoch-15\n"
     ]
    },
    {
     "data": {
      "text/html": [
       "Tracking run with wandb version 0.13.1"
      ],
      "text/plain": [
       "<IPython.core.display.HTML object>"
      ]
     },
     "metadata": {},
     "output_type": "display_data"
    },
    {
     "data": {
      "text/html": [
       "Run data is saved locally in <code>/home/jupyter/wandb/run-20220818_020649-2zlq1vpg</code>"
      ],
      "text/plain": [
       "<IPython.core.display.HTML object>"
      ]
     },
     "metadata": {},
     "output_type": "display_data"
    },
    {
     "data": {
      "text/html": [
       "Syncing run <strong><a href=\"https://wandb.ai/miraclelinzzz/Final-ensemble/runs/2zlq1vpg\" target=\"_blank\">rich-night-193</a></strong> to <a href=\"https://wandb.ai/miraclelinzzz/Final-ensemble\" target=\"_blank\">Weights & Biases</a> (<a href=\"https://wandb.me/run\" target=\"_blank\">docs</a>)<br/>"
      ],
      "text/plain": [
       "<IPython.core.display.HTML object>"
      ]
     },
     "metadata": {},
     "output_type": "display_data"
    },
    {
     "data": {
      "text/html": [
       "Waiting for W&B process to finish... <strong style=\"color:green\">(success).</strong>"
      ],
      "text/plain": [
       "<IPython.core.display.HTML object>"
      ]
     },
     "metadata": {},
     "output_type": "display_data"
    },
    {
     "data": {
      "text/html": [
       "<style>\n",
       "    table.wandb td:nth-child(1) { padding: 0 10px; text-align: left ; width: auto;} td:nth-child(2) {text-align: left ; width: 100%}\n",
       "    .wandb-row { display: flex; flex-direction: row; flex-wrap: wrap; justify-content: flex-start; width: 100% }\n",
       "    .wandb-col { display: flex; flex-direction: column; flex-basis: 100%; flex: 1; padding: 10px; }\n",
       "    </style>\n",
       "<div class=\"wandb-row\"><div class=\"wandb-col\"><h3>Run history:</h3><br/><table class=\"wandb\"><tr><td>Training Acc</td><td>▁▂▃▁▃▂▁▃▄▄▄▆▆▇█</td></tr><tr><td>Training Loss</td><td>█▇▆▇▅▆▆▅▅▄▄▂▂▂▁</td></tr><tr><td>Validation Acc</td><td>▁▁▁▄▄▆▁▅▄▇▂█▇▄▅</td></tr><tr><td>Validation Loss</td><td>███▆▆▆▄▅█▄█▁▁▇▆</td></tr></table><br/></div><div class=\"wandb-col\"><h3>Run summary:</h3><br/><table class=\"wandb\"><tr><td>Training Acc</td><td>0.78472</td></tr><tr><td>Training Loss</td><td>0.39116</td></tr><tr><td>Validation Acc</td><td>0.6875</td></tr><tr><td>Validation Loss</td><td>0.59529</td></tr><tr><td>test_accuracy</td><td>0.64286</td></tr><tr><td>test_losss</td><td>0.50248</td></tr></table><br/></div></div>"
      ],
      "text/plain": [
       "<IPython.core.display.HTML object>"
      ]
     },
     "metadata": {},
     "output_type": "display_data"
    },
    {
     "data": {
      "text/html": [
       "Synced <strong style=\"color:#cdcd00\">rich-night-193</strong>: <a href=\"https://wandb.ai/miraclelinzzz/Final-ensemble/runs/2zlq1vpg\" target=\"_blank\">https://wandb.ai/miraclelinzzz/Final-ensemble/runs/2zlq1vpg</a><br/>Synced 5 W&B file(s), 0 media file(s), 0 artifact file(s) and 0 other file(s)"
      ],
      "text/plain": [
       "<IPython.core.display.HTML object>"
      ]
     },
     "metadata": {},
     "output_type": "display_data"
    },
    {
     "data": {
      "text/html": [
       "Find logs at: <code>./wandb/run-20220818_020649-2zlq1vpg/logs</code>"
      ],
      "text/plain": [
       "<IPython.core.display.HTML object>"
      ]
     },
     "metadata": {},
     "output_type": "display_data"
    },
    {
     "name": "stdout",
     "output_type": "stream",
     "text": [
      "dr-0.4,arch-[512, 256, 64],bs-16,seed-40,index-3,epoch-15\n"
     ]
    },
    {
     "data": {
      "text/html": [
       "Tracking run with wandb version 0.13.1"
      ],
      "text/plain": [
       "<IPython.core.display.HTML object>"
      ]
     },
     "metadata": {},
     "output_type": "display_data"
    },
    {
     "data": {
      "text/html": [
       "Run data is saved locally in <code>/home/jupyter/wandb/run-20220818_020754-3hdk4cto</code>"
      ],
      "text/plain": [
       "<IPython.core.display.HTML object>"
      ]
     },
     "metadata": {},
     "output_type": "display_data"
    },
    {
     "data": {
      "text/html": [
       "Syncing run <strong><a href=\"https://wandb.ai/miraclelinzzz/Final-ensemble/runs/3hdk4cto\" target=\"_blank\">logical-mountain-194</a></strong> to <a href=\"https://wandb.ai/miraclelinzzz/Final-ensemble\" target=\"_blank\">Weights & Biases</a> (<a href=\"https://wandb.me/run\" target=\"_blank\">docs</a>)<br/>"
      ],
      "text/plain": [
       "<IPython.core.display.HTML object>"
      ]
     },
     "metadata": {},
     "output_type": "display_data"
    },
    {
     "data": {
      "text/html": [
       "Waiting for W&B process to finish... <strong style=\"color:green\">(success).</strong>"
      ],
      "text/plain": [
       "<IPython.core.display.HTML object>"
      ]
     },
     "metadata": {},
     "output_type": "display_data"
    },
    {
     "data": {
      "text/html": [
       "<style>\n",
       "    table.wandb td:nth-child(1) { padding: 0 10px; text-align: left ; width: auto;} td:nth-child(2) {text-align: left ; width: 100%}\n",
       "    .wandb-row { display: flex; flex-direction: row; flex-wrap: wrap; justify-content: flex-start; width: 100% }\n",
       "    .wandb-col { display: flex; flex-direction: column; flex-basis: 100%; flex: 1; padding: 10px; }\n",
       "    </style>\n",
       "<div class=\"wandb-row\"><div class=\"wandb-col\"><h3>Run history:</h3><br/><table class=\"wandb\"><tr><td>Training Acc</td><td>▁▂▂▂▁▂▄▄▄▆▇▆█▇█</td></tr><tr><td>Training Loss</td><td>█▇█▇▇▆▅▅▅▃▃▂▁▂▁</td></tr><tr><td>Validation Acc</td><td>▁▅▃▅▅▃▅▇▃█▇█▇██</td></tr><tr><td>Validation Loss</td><td>███▇▅█▆▅▆▂▂▄▁▃▁</td></tr></table><br/></div><div class=\"wandb-col\"><h3>Run summary:</h3><br/><table class=\"wandb\"><tr><td>Training Acc</td><td>0.85417</td></tr><tr><td>Training Loss</td><td>0.3826</td></tr><tr><td>Validation Acc</td><td>0.875</td></tr><tr><td>Validation Loss</td><td>0.40459</td></tr><tr><td>test_accuracy</td><td>0.79286</td></tr><tr><td>test_losss</td><td>0.46194</td></tr></table><br/></div></div>"
      ],
      "text/plain": [
       "<IPython.core.display.HTML object>"
      ]
     },
     "metadata": {},
     "output_type": "display_data"
    },
    {
     "data": {
      "text/html": [
       "Synced <strong style=\"color:#cdcd00\">logical-mountain-194</strong>: <a href=\"https://wandb.ai/miraclelinzzz/Final-ensemble/runs/3hdk4cto\" target=\"_blank\">https://wandb.ai/miraclelinzzz/Final-ensemble/runs/3hdk4cto</a><br/>Synced 5 W&B file(s), 0 media file(s), 0 artifact file(s) and 0 other file(s)"
      ],
      "text/plain": [
       "<IPython.core.display.HTML object>"
      ]
     },
     "metadata": {},
     "output_type": "display_data"
    },
    {
     "data": {
      "text/html": [
       "Find logs at: <code>./wandb/run-20220818_020754-3hdk4cto/logs</code>"
      ],
      "text/plain": [
       "<IPython.core.display.HTML object>"
      ]
     },
     "metadata": {},
     "output_type": "display_data"
    },
    {
     "name": "stdout",
     "output_type": "stream",
     "text": [
      "dr-0.5,arch-[128],bs-16,seed-40,index-1,epoch-15\n"
     ]
    },
    {
     "data": {
      "text/html": [
       "Tracking run with wandb version 0.13.1"
      ],
      "text/plain": [
       "<IPython.core.display.HTML object>"
      ]
     },
     "metadata": {},
     "output_type": "display_data"
    },
    {
     "data": {
      "text/html": [
       "Run data is saved locally in <code>/home/jupyter/wandb/run-20220818_020909-2mndrr6t</code>"
      ],
      "text/plain": [
       "<IPython.core.display.HTML object>"
      ]
     },
     "metadata": {},
     "output_type": "display_data"
    },
    {
     "data": {
      "text/html": [
       "Syncing run <strong><a href=\"https://wandb.ai/miraclelinzzz/Final-ensemble/runs/2mndrr6t\" target=\"_blank\">quiet-puddle-195</a></strong> to <a href=\"https://wandb.ai/miraclelinzzz/Final-ensemble\" target=\"_blank\">Weights & Biases</a> (<a href=\"https://wandb.me/run\" target=\"_blank\">docs</a>)<br/>"
      ],
      "text/plain": [
       "<IPython.core.display.HTML object>"
      ]
     },
     "metadata": {},
     "output_type": "display_data"
    },
    {
     "data": {
      "text/html": [
       "Waiting for W&B process to finish... <strong style=\"color:green\">(success).</strong>"
      ],
      "text/plain": [
       "<IPython.core.display.HTML object>"
      ]
     },
     "metadata": {},
     "output_type": "display_data"
    },
    {
     "data": {
      "text/html": [
       "<style>\n",
       "    table.wandb td:nth-child(1) { padding: 0 10px; text-align: left ; width: auto;} td:nth-child(2) {text-align: left ; width: 100%}\n",
       "    .wandb-row { display: flex; flex-direction: row; flex-wrap: wrap; justify-content: flex-start; width: 100% }\n",
       "    .wandb-col { display: flex; flex-direction: column; flex-basis: 100%; flex: 1; padding: 10px; }\n",
       "    </style>\n",
       "<div class=\"wandb-row\"><div class=\"wandb-col\"><h3>Run history:</h3><br/><table class=\"wandb\"><tr><td>Training Acc</td><td>▁▂▄▇███▆███████</td></tr><tr><td>Training Loss</td><td>█▆▅▃▂▁▂▂▂▁▁▁▁▁▁</td></tr><tr><td>Validation Acc</td><td>▃▁▅▅██▇▆█▅▇▆██▆</td></tr><tr><td>Validation Loss</td><td>▃▃▃▄▁▁▂█▂▅▂▄▁▁▄</td></tr></table><br/></div><div class=\"wandb-col\"><h3>Run summary:</h3><br/><table class=\"wandb\"><tr><td>Training Acc</td><td>1.0</td></tr><tr><td>Training Loss</td><td>0.07607</td></tr><tr><td>Validation Acc</td><td>0.6875</td></tr><tr><td>Validation Loss</td><td>0.80112</td></tr><tr><td>test_accuracy</td><td>0.77679</td></tr><tr><td>test_losss</td><td>0.53845</td></tr></table><br/></div></div>"
      ],
      "text/plain": [
       "<IPython.core.display.HTML object>"
      ]
     },
     "metadata": {},
     "output_type": "display_data"
    },
    {
     "data": {
      "text/html": [
       "Synced <strong style=\"color:#cdcd00\">quiet-puddle-195</strong>: <a href=\"https://wandb.ai/miraclelinzzz/Final-ensemble/runs/2mndrr6t\" target=\"_blank\">https://wandb.ai/miraclelinzzz/Final-ensemble/runs/2mndrr6t</a><br/>Synced 5 W&B file(s), 0 media file(s), 0 artifact file(s) and 0 other file(s)"
      ],
      "text/plain": [
       "<IPython.core.display.HTML object>"
      ]
     },
     "metadata": {},
     "output_type": "display_data"
    },
    {
     "data": {
      "text/html": [
       "Find logs at: <code>./wandb/run-20220818_020909-2mndrr6t/logs</code>"
      ],
      "text/plain": [
       "<IPython.core.display.HTML object>"
      ]
     },
     "metadata": {},
     "output_type": "display_data"
    },
    {
     "name": "stdout",
     "output_type": "stream",
     "text": [
      "dr-0.5,arch-[128],bs-16,seed-40,index-2,epoch-15\n"
     ]
    },
    {
     "data": {
      "text/html": [
       "Tracking run with wandb version 0.13.1"
      ],
      "text/plain": [
       "<IPython.core.display.HTML object>"
      ]
     },
     "metadata": {},
     "output_type": "display_data"
    },
    {
     "data": {
      "text/html": [
       "Run data is saved locally in <code>/home/jupyter/wandb/run-20220818_021024-131fopsj</code>"
      ],
      "text/plain": [
       "<IPython.core.display.HTML object>"
      ]
     },
     "metadata": {},
     "output_type": "display_data"
    },
    {
     "data": {
      "text/html": [
       "Syncing run <strong><a href=\"https://wandb.ai/miraclelinzzz/Final-ensemble/runs/131fopsj\" target=\"_blank\">treasured-waterfall-196</a></strong> to <a href=\"https://wandb.ai/miraclelinzzz/Final-ensemble\" target=\"_blank\">Weights & Biases</a> (<a href=\"https://wandb.me/run\" target=\"_blank\">docs</a>)<br/>"
      ],
      "text/plain": [
       "<IPython.core.display.HTML object>"
      ]
     },
     "metadata": {},
     "output_type": "display_data"
    },
    {
     "data": {
      "text/html": [
       "Waiting for W&B process to finish... <strong style=\"color:green\">(success).</strong>"
      ],
      "text/plain": [
       "<IPython.core.display.HTML object>"
      ]
     },
     "metadata": {},
     "output_type": "display_data"
    },
    {
     "data": {
      "text/html": [
       "<style>\n",
       "    table.wandb td:nth-child(1) { padding: 0 10px; text-align: left ; width: auto;} td:nth-child(2) {text-align: left ; width: 100%}\n",
       "    .wandb-row { display: flex; flex-direction: row; flex-wrap: wrap; justify-content: flex-start; width: 100% }\n",
       "    .wandb-col { display: flex; flex-direction: column; flex-basis: 100%; flex: 1; padding: 10px; }\n",
       "    </style>\n",
       "<div class=\"wandb-row\"><div class=\"wandb-col\"><h3>Run history:</h3><br/><table class=\"wandb\"><tr><td>Training Acc</td><td>▁▃▆▇███████████</td></tr><tr><td>Training Loss</td><td>█▇▃▂▁▁▁▁▁▁▁▁▁▁▁</td></tr><tr><td>Validation Acc</td><td>▁▂▆▂█▆▆▆▆▆▆▆▆▆▆</td></tr><tr><td>Validation Loss</td><td>██▃▆▁▃▃▃▄▄▄▄▄▄▄</td></tr></table><br/></div><div class=\"wandb-col\"><h3>Run summary:</h3><br/><table class=\"wandb\"><tr><td>Training Acc</td><td>1.0</td></tr><tr><td>Training Loss</td><td>0.09979</td></tr><tr><td>Validation Acc</td><td>0.89583</td></tr><tr><td>Validation Loss</td><td>0.34546</td></tr><tr><td>test_accuracy</td><td>0.83036</td></tr><tr><td>test_losss</td><td>0.48445</td></tr></table><br/></div></div>"
      ],
      "text/plain": [
       "<IPython.core.display.HTML object>"
      ]
     },
     "metadata": {},
     "output_type": "display_data"
    },
    {
     "data": {
      "text/html": [
       "Synced <strong style=\"color:#cdcd00\">treasured-waterfall-196</strong>: <a href=\"https://wandb.ai/miraclelinzzz/Final-ensemble/runs/131fopsj\" target=\"_blank\">https://wandb.ai/miraclelinzzz/Final-ensemble/runs/131fopsj</a><br/>Synced 5 W&B file(s), 0 media file(s), 0 artifact file(s) and 0 other file(s)"
      ],
      "text/plain": [
       "<IPython.core.display.HTML object>"
      ]
     },
     "metadata": {},
     "output_type": "display_data"
    },
    {
     "data": {
      "text/html": [
       "Find logs at: <code>./wandb/run-20220818_021024-131fopsj/logs</code>"
      ],
      "text/plain": [
       "<IPython.core.display.HTML object>"
      ]
     },
     "metadata": {},
     "output_type": "display_data"
    },
    {
     "name": "stdout",
     "output_type": "stream",
     "text": [
      "dr-0.5,arch-[128],bs-16,seed-40,index-3,epoch-15\n"
     ]
    },
    {
     "data": {
      "text/html": [
       "Tracking run with wandb version 0.13.1"
      ],
      "text/plain": [
       "<IPython.core.display.HTML object>"
      ]
     },
     "metadata": {},
     "output_type": "display_data"
    },
    {
     "data": {
      "text/html": [
       "Run data is saved locally in <code>/home/jupyter/wandb/run-20220818_021128-3g0iju1o</code>"
      ],
      "text/plain": [
       "<IPython.core.display.HTML object>"
      ]
     },
     "metadata": {},
     "output_type": "display_data"
    },
    {
     "data": {
      "text/html": [
       "Syncing run <strong><a href=\"https://wandb.ai/miraclelinzzz/Final-ensemble/runs/3g0iju1o\" target=\"_blank\">sleek-armadillo-197</a></strong> to <a href=\"https://wandb.ai/miraclelinzzz/Final-ensemble\" target=\"_blank\">Weights & Biases</a> (<a href=\"https://wandb.me/run\" target=\"_blank\">docs</a>)<br/>"
      ],
      "text/plain": [
       "<IPython.core.display.HTML object>"
      ]
     },
     "metadata": {},
     "output_type": "display_data"
    },
    {
     "data": {
      "text/html": [
       "Waiting for W&B process to finish... <strong style=\"color:green\">(success).</strong>"
      ],
      "text/plain": [
       "<IPython.core.display.HTML object>"
      ]
     },
     "metadata": {},
     "output_type": "display_data"
    },
    {
     "data": {
      "text/html": [
       "<style>\n",
       "    table.wandb td:nth-child(1) { padding: 0 10px; text-align: left ; width: auto;} td:nth-child(2) {text-align: left ; width: 100%}\n",
       "    .wandb-row { display: flex; flex-direction: row; flex-wrap: wrap; justify-content: flex-start; width: 100% }\n",
       "    .wandb-col { display: flex; flex-direction: column; flex-basis: 100%; flex: 1; padding: 10px; }\n",
       "    </style>\n",
       "<div class=\"wandb-row\"><div class=\"wandb-col\"><h3>Run history:</h3><br/><table class=\"wandb\"><tr><td>Training Acc</td><td>▁▃▅▆██▇████████</td></tr><tr><td>Training Loss</td><td>█▆▅▄▂▂▂▁▁▁▁▁▁▁▁</td></tr><tr><td>Validation Acc</td><td>▄▁▅▆▅▇▇▇▇█▇▂██▄</td></tr><tr><td>Validation Loss</td><td>▅█▄▁▂▁▂▂▂▁▁▆▁▁▇</td></tr></table><br/></div><div class=\"wandb-col\"><h3>Run summary:</h3><br/><table class=\"wandb\"><tr><td>Training Acc</td><td>1.0</td></tr><tr><td>Training Loss</td><td>0.08505</td></tr><tr><td>Validation Acc</td><td>0.75</td></tr><tr><td>Validation Loss</td><td>0.61899</td></tr><tr><td>test_accuracy</td><td>0.79286</td></tr><tr><td>test_losss</td><td>0.55537</td></tr></table><br/></div></div>"
      ],
      "text/plain": [
       "<IPython.core.display.HTML object>"
      ]
     },
     "metadata": {},
     "output_type": "display_data"
    },
    {
     "data": {
      "text/html": [
       "Synced <strong style=\"color:#cdcd00\">sleek-armadillo-197</strong>: <a href=\"https://wandb.ai/miraclelinzzz/Final-ensemble/runs/3g0iju1o\" target=\"_blank\">https://wandb.ai/miraclelinzzz/Final-ensemble/runs/3g0iju1o</a><br/>Synced 5 W&B file(s), 0 media file(s), 0 artifact file(s) and 0 other file(s)"
      ],
      "text/plain": [
       "<IPython.core.display.HTML object>"
      ]
     },
     "metadata": {},
     "output_type": "display_data"
    },
    {
     "data": {
      "text/html": [
       "Find logs at: <code>./wandb/run-20220818_021128-3g0iju1o/logs</code>"
      ],
      "text/plain": [
       "<IPython.core.display.HTML object>"
      ]
     },
     "metadata": {},
     "output_type": "display_data"
    },
    {
     "name": "stdout",
     "output_type": "stream",
     "text": [
      "dr-0.3,arch-[64, 512],bs-16,seed-40,index-1,epoch-15\n"
     ]
    },
    {
     "data": {
      "text/html": [
       "Tracking run with wandb version 0.13.1"
      ],
      "text/plain": [
       "<IPython.core.display.HTML object>"
      ]
     },
     "metadata": {},
     "output_type": "display_data"
    },
    {
     "data": {
      "text/html": [
       "Run data is saved locally in <code>/home/jupyter/wandb/run-20220818_021242-xzkuckz4</code>"
      ],
      "text/plain": [
       "<IPython.core.display.HTML object>"
      ]
     },
     "metadata": {},
     "output_type": "display_data"
    },
    {
     "data": {
      "text/html": [
       "Syncing run <strong><a href=\"https://wandb.ai/miraclelinzzz/Final-ensemble/runs/xzkuckz4\" target=\"_blank\">colorful-wave-198</a></strong> to <a href=\"https://wandb.ai/miraclelinzzz/Final-ensemble\" target=\"_blank\">Weights & Biases</a> (<a href=\"https://wandb.me/run\" target=\"_blank\">docs</a>)<br/>"
      ],
      "text/plain": [
       "<IPython.core.display.HTML object>"
      ]
     },
     "metadata": {},
     "output_type": "display_data"
    },
    {
     "data": {
      "text/html": [
       "Waiting for W&B process to finish... <strong style=\"color:green\">(success).</strong>"
      ],
      "text/plain": [
       "<IPython.core.display.HTML object>"
      ]
     },
     "metadata": {},
     "output_type": "display_data"
    },
    {
     "data": {
      "text/html": [
       "<style>\n",
       "    table.wandb td:nth-child(1) { padding: 0 10px; text-align: left ; width: auto;} td:nth-child(2) {text-align: left ; width: 100%}\n",
       "    .wandb-row { display: flex; flex-direction: row; flex-wrap: wrap; justify-content: flex-start; width: 100% }\n",
       "    .wandb-col { display: flex; flex-direction: column; flex-basis: 100%; flex: 1; padding: 10px; }\n",
       "    </style>\n",
       "<div class=\"wandb-row\"><div class=\"wandb-col\"><h3>Run history:</h3><br/><table class=\"wandb\"><tr><td>Training Acc</td><td>▁▄▄▄▆▇▇██▇█████</td></tr><tr><td>Training Loss</td><td>█▆▇▅▄▄▃▃▂▂▁▁▁▂▁</td></tr><tr><td>Validation Acc</td><td>▁▇▇▆▆▁▇███▅█▅██</td></tr><tr><td>Validation Loss</td><td>▇▇▅▆▃▆▃▂▁▁▇▁█▂▁</td></tr></table><br/></div><div class=\"wandb-col\"><h3>Run summary:</h3><br/><table class=\"wandb\"><tr><td>Training Acc</td><td>0.99306</td></tr><tr><td>Training Loss</td><td>0.16619</td></tr><tr><td>Validation Acc</td><td>0.85417</td></tr><tr><td>Validation Loss</td><td>0.38921</td></tr><tr><td>test_accuracy</td><td>0.82143</td></tr><tr><td>test_losss</td><td>0.40409</td></tr></table><br/></div></div>"
      ],
      "text/plain": [
       "<IPython.core.display.HTML object>"
      ]
     },
     "metadata": {},
     "output_type": "display_data"
    },
    {
     "data": {
      "text/html": [
       "Synced <strong style=\"color:#cdcd00\">colorful-wave-198</strong>: <a href=\"https://wandb.ai/miraclelinzzz/Final-ensemble/runs/xzkuckz4\" target=\"_blank\">https://wandb.ai/miraclelinzzz/Final-ensemble/runs/xzkuckz4</a><br/>Synced 5 W&B file(s), 0 media file(s), 0 artifact file(s) and 0 other file(s)"
      ],
      "text/plain": [
       "<IPython.core.display.HTML object>"
      ]
     },
     "metadata": {},
     "output_type": "display_data"
    },
    {
     "data": {
      "text/html": [
       "Find logs at: <code>./wandb/run-20220818_021242-xzkuckz4/logs</code>"
      ],
      "text/plain": [
       "<IPython.core.display.HTML object>"
      ]
     },
     "metadata": {},
     "output_type": "display_data"
    },
    {
     "name": "stdout",
     "output_type": "stream",
     "text": [
      "dr-0.3,arch-[64, 512],bs-16,seed-40,index-2,epoch-15\n"
     ]
    },
    {
     "data": {
      "text/html": [
       "Tracking run with wandb version 0.13.1"
      ],
      "text/plain": [
       "<IPython.core.display.HTML object>"
      ]
     },
     "metadata": {},
     "output_type": "display_data"
    },
    {
     "data": {
      "text/html": [
       "Run data is saved locally in <code>/home/jupyter/wandb/run-20220818_021356-1ql5sbhd</code>"
      ],
      "text/plain": [
       "<IPython.core.display.HTML object>"
      ]
     },
     "metadata": {},
     "output_type": "display_data"
    },
    {
     "data": {
      "text/html": [
       "Syncing run <strong><a href=\"https://wandb.ai/miraclelinzzz/Final-ensemble/runs/1ql5sbhd\" target=\"_blank\">crimson-serenity-199</a></strong> to <a href=\"https://wandb.ai/miraclelinzzz/Final-ensemble\" target=\"_blank\">Weights & Biases</a> (<a href=\"https://wandb.me/run\" target=\"_blank\">docs</a>)<br/>"
      ],
      "text/plain": [
       "<IPython.core.display.HTML object>"
      ]
     },
     "metadata": {},
     "output_type": "display_data"
    },
    {
     "data": {
      "text/html": [
       "Waiting for W&B process to finish... <strong style=\"color:green\">(success).</strong>"
      ],
      "text/plain": [
       "<IPython.core.display.HTML object>"
      ]
     },
     "metadata": {},
     "output_type": "display_data"
    },
    {
     "data": {
      "text/html": [
       "<style>\n",
       "    table.wandb td:nth-child(1) { padding: 0 10px; text-align: left ; width: auto;} td:nth-child(2) {text-align: left ; width: 100%}\n",
       "    .wandb-row { display: flex; flex-direction: row; flex-wrap: wrap; justify-content: flex-start; width: 100% }\n",
       "    .wandb-col { display: flex; flex-direction: column; flex-basis: 100%; flex: 1; padding: 10px; }\n",
       "    </style>\n",
       "<div class=\"wandb-row\"><div class=\"wandb-col\"><h3>Run history:</h3><br/><table class=\"wandb\"><tr><td>Training Acc</td><td>▁▂▃▄▅▇▇▇█▇█████</td></tr><tr><td>Training Loss</td><td>█▇▇▅▄▃▃▂▂▂▂▂▁▁▁</td></tr><tr><td>Validation Acc</td><td>▁▅▇█▆▅▂█▇██▅███</td></tr><tr><td>Validation Loss</td><td>█▇▅▄▄▆█▂▁▁▁▆▁▁▁</td></tr></table><br/></div><div class=\"wandb-col\"><h3>Run summary:</h3><br/><table class=\"wandb\"><tr><td>Training Acc</td><td>0.99306</td></tr><tr><td>Training Loss</td><td>0.20887</td></tr><tr><td>Validation Acc</td><td>0.89583</td></tr><tr><td>Validation Loss</td><td>0.31006</td></tr><tr><td>test_accuracy</td><td>0.88393</td></tr><tr><td>test_losss</td><td>0.34697</td></tr></table><br/></div></div>"
      ],
      "text/plain": [
       "<IPython.core.display.HTML object>"
      ]
     },
     "metadata": {},
     "output_type": "display_data"
    },
    {
     "data": {
      "text/html": [
       "Synced <strong style=\"color:#cdcd00\">crimson-serenity-199</strong>: <a href=\"https://wandb.ai/miraclelinzzz/Final-ensemble/runs/1ql5sbhd\" target=\"_blank\">https://wandb.ai/miraclelinzzz/Final-ensemble/runs/1ql5sbhd</a><br/>Synced 5 W&B file(s), 0 media file(s), 0 artifact file(s) and 0 other file(s)"
      ],
      "text/plain": [
       "<IPython.core.display.HTML object>"
      ]
     },
     "metadata": {},
     "output_type": "display_data"
    },
    {
     "data": {
      "text/html": [
       "Find logs at: <code>./wandb/run-20220818_021356-1ql5sbhd/logs</code>"
      ],
      "text/plain": [
       "<IPython.core.display.HTML object>"
      ]
     },
     "metadata": {},
     "output_type": "display_data"
    },
    {
     "name": "stdout",
     "output_type": "stream",
     "text": [
      "dr-0.3,arch-[64, 512],bs-16,seed-40,index-3,epoch-15\n"
     ]
    },
    {
     "data": {
      "text/html": [
       "Tracking run with wandb version 0.13.1"
      ],
      "text/plain": [
       "<IPython.core.display.HTML object>"
      ]
     },
     "metadata": {},
     "output_type": "display_data"
    },
    {
     "data": {
      "text/html": [
       "Run data is saved locally in <code>/home/jupyter/wandb/run-20220818_021500-e7nzw8kt</code>"
      ],
      "text/plain": [
       "<IPython.core.display.HTML object>"
      ]
     },
     "metadata": {},
     "output_type": "display_data"
    },
    {
     "data": {
      "text/html": [
       "Syncing run <strong><a href=\"https://wandb.ai/miraclelinzzz/Final-ensemble/runs/e7nzw8kt\" target=\"_blank\">bright-armadillo-200</a></strong> to <a href=\"https://wandb.ai/miraclelinzzz/Final-ensemble\" target=\"_blank\">Weights & Biases</a> (<a href=\"https://wandb.me/run\" target=\"_blank\">docs</a>)<br/>"
      ],
      "text/plain": [
       "<IPython.core.display.HTML object>"
      ]
     },
     "metadata": {},
     "output_type": "display_data"
    },
    {
     "data": {
      "text/html": [
       "Waiting for W&B process to finish... <strong style=\"color:green\">(success).</strong>"
      ],
      "text/plain": [
       "<IPython.core.display.HTML object>"
      ]
     },
     "metadata": {},
     "output_type": "display_data"
    },
    {
     "data": {
      "text/html": [
       "<style>\n",
       "    table.wandb td:nth-child(1) { padding: 0 10px; text-align: left ; width: auto;} td:nth-child(2) {text-align: left ; width: 100%}\n",
       "    .wandb-row { display: flex; flex-direction: row; flex-wrap: wrap; justify-content: flex-start; width: 100% }\n",
       "    .wandb-col { display: flex; flex-direction: column; flex-basis: 100%; flex: 1; padding: 10px; }\n",
       "    </style>\n",
       "<div class=\"wandb-row\"><div class=\"wandb-col\"><h3>Run history:</h3><br/><table class=\"wandb\"><tr><td>Training Acc</td><td>▁▃▄▅▅▅▆▇▇▇███▇█</td></tr><tr><td>Training Loss</td><td>█▇▆▆▅▅▄▃▂▃▁▁▁▂▁</td></tr><tr><td>Validation Acc</td><td>▃▁▆▆█▆▇▅██████▄</td></tr><tr><td>Validation Loss</td><td>▆▆▆▄▃▅▁▅▂▂▂▁▁▁█</td></tr></table><br/></div><div class=\"wandb-col\"><h3>Run summary:</h3><br/><table class=\"wandb\"><tr><td>Training Acc</td><td>0.99306</td></tr><tr><td>Training Loss</td><td>0.20437</td></tr><tr><td>Validation Acc</td><td>0.58333</td></tr><tr><td>Validation Loss</td><td>0.79668</td></tr><tr><td>test_accuracy</td><td>0.78036</td></tr><tr><td>test_losss</td><td>0.46285</td></tr></table><br/></div></div>"
      ],
      "text/plain": [
       "<IPython.core.display.HTML object>"
      ]
     },
     "metadata": {},
     "output_type": "display_data"
    },
    {
     "data": {
      "text/html": [
       "Synced <strong style=\"color:#cdcd00\">bright-armadillo-200</strong>: <a href=\"https://wandb.ai/miraclelinzzz/Final-ensemble/runs/e7nzw8kt\" target=\"_blank\">https://wandb.ai/miraclelinzzz/Final-ensemble/runs/e7nzw8kt</a><br/>Synced 5 W&B file(s), 0 media file(s), 0 artifact file(s) and 0 other file(s)"
      ],
      "text/plain": [
       "<IPython.core.display.HTML object>"
      ]
     },
     "metadata": {},
     "output_type": "display_data"
    },
    {
     "data": {
      "text/html": [
       "Find logs at: <code>./wandb/run-20220818_021500-e7nzw8kt/logs</code>"
      ],
      "text/plain": [
       "<IPython.core.display.HTML object>"
      ]
     },
     "metadata": {},
     "output_type": "display_data"
    },
    {
     "name": "stdout",
     "output_type": "stream",
     "text": [
      "dr-0.3,arch-[256, 512, 128],bs-16,seed-40,index-1,epoch-15\n"
     ]
    },
    {
     "data": {
      "text/html": [
       "Tracking run with wandb version 0.13.1"
      ],
      "text/plain": [
       "<IPython.core.display.HTML object>"
      ]
     },
     "metadata": {},
     "output_type": "display_data"
    },
    {
     "data": {
      "text/html": [
       "Run data is saved locally in <code>/home/jupyter/wandb/run-20220818_021615-2i3r0xr2</code>"
      ],
      "text/plain": [
       "<IPython.core.display.HTML object>"
      ]
     },
     "metadata": {},
     "output_type": "display_data"
    },
    {
     "data": {
      "text/html": [
       "Syncing run <strong><a href=\"https://wandb.ai/miraclelinzzz/Final-ensemble/runs/2i3r0xr2\" target=\"_blank\">easy-jazz-201</a></strong> to <a href=\"https://wandb.ai/miraclelinzzz/Final-ensemble\" target=\"_blank\">Weights & Biases</a> (<a href=\"https://wandb.me/run\" target=\"_blank\">docs</a>)<br/>"
      ],
      "text/plain": [
       "<IPython.core.display.HTML object>"
      ]
     },
     "metadata": {},
     "output_type": "display_data"
    },
    {
     "data": {
      "text/html": [
       "Waiting for W&B process to finish... <strong style=\"color:green\">(success).</strong>"
      ],
      "text/plain": [
       "<IPython.core.display.HTML object>"
      ]
     },
     "metadata": {},
     "output_type": "display_data"
    },
    {
     "data": {
      "text/html": [
       "<style>\n",
       "    table.wandb td:nth-child(1) { padding: 0 10px; text-align: left ; width: auto;} td:nth-child(2) {text-align: left ; width: 100%}\n",
       "    .wandb-row { display: flex; flex-direction: row; flex-wrap: wrap; justify-content: flex-start; width: 100% }\n",
       "    .wandb-col { display: flex; flex-direction: column; flex-basis: 100%; flex: 1; padding: 10px; }\n",
       "    </style>\n",
       "<div class=\"wandb-row\"><div class=\"wandb-col\"><h3>Run history:</h3><br/><table class=\"wandb\"><tr><td>Training Acc</td><td>▁▁▂▃▄▄▅▆▆▆▇▇▇██</td></tr><tr><td>Training Loss</td><td>█▇▆▆▅▅▄▄▃▃▂▂▁▁▁</td></tr><tr><td>Validation Acc</td><td>▅▁▅▃▂▇▄▇▆▅▇█▆▅█</td></tr><tr><td>Validation Loss</td><td>██▇▆▇▃▄▂▅▇▄▂▅▄▁</td></tr></table><br/></div><div class=\"wandb-col\"><h3>Run summary:</h3><br/><table class=\"wandb\"><tr><td>Training Acc</td><td>0.96528</td></tr><tr><td>Training Loss</td><td>0.30085</td></tr><tr><td>Validation Acc</td><td>0.83333</td></tr><tr><td>Validation Loss</td><td>0.41405</td></tr><tr><td>test_accuracy</td><td>0.74286</td></tr><tr><td>test_losss</td><td>0.46803</td></tr></table><br/></div></div>"
      ],
      "text/plain": [
       "<IPython.core.display.HTML object>"
      ]
     },
     "metadata": {},
     "output_type": "display_data"
    },
    {
     "data": {
      "text/html": [
       "Synced <strong style=\"color:#cdcd00\">easy-jazz-201</strong>: <a href=\"https://wandb.ai/miraclelinzzz/Final-ensemble/runs/2i3r0xr2\" target=\"_blank\">https://wandb.ai/miraclelinzzz/Final-ensemble/runs/2i3r0xr2</a><br/>Synced 5 W&B file(s), 0 media file(s), 0 artifact file(s) and 0 other file(s)"
      ],
      "text/plain": [
       "<IPython.core.display.HTML object>"
      ]
     },
     "metadata": {},
     "output_type": "display_data"
    },
    {
     "data": {
      "text/html": [
       "Find logs at: <code>./wandb/run-20220818_021615-2i3r0xr2/logs</code>"
      ],
      "text/plain": [
       "<IPython.core.display.HTML object>"
      ]
     },
     "metadata": {},
     "output_type": "display_data"
    },
    {
     "name": "stdout",
     "output_type": "stream",
     "text": [
      "dr-0.3,arch-[256, 512, 128],bs-16,seed-40,index-2,epoch-15\n"
     ]
    },
    {
     "data": {
      "text/html": [
       "Tracking run with wandb version 0.13.1"
      ],
      "text/plain": [
       "<IPython.core.display.HTML object>"
      ]
     },
     "metadata": {},
     "output_type": "display_data"
    },
    {
     "data": {
      "text/html": [
       "Run data is saved locally in <code>/home/jupyter/wandb/run-20220818_021730-3mjuki9w</code>"
      ],
      "text/plain": [
       "<IPython.core.display.HTML object>"
      ]
     },
     "metadata": {},
     "output_type": "display_data"
    },
    {
     "data": {
      "text/html": [
       "Syncing run <strong><a href=\"https://wandb.ai/miraclelinzzz/Final-ensemble/runs/3mjuki9w\" target=\"_blank\">smooth-armadillo-202</a></strong> to <a href=\"https://wandb.ai/miraclelinzzz/Final-ensemble\" target=\"_blank\">Weights & Biases</a> (<a href=\"https://wandb.me/run\" target=\"_blank\">docs</a>)<br/>"
      ],
      "text/plain": [
       "<IPython.core.display.HTML object>"
      ]
     },
     "metadata": {},
     "output_type": "display_data"
    },
    {
     "data": {
      "text/html": [
       "Waiting for W&B process to finish... <strong style=\"color:green\">(success).</strong>"
      ],
      "text/plain": [
       "<IPython.core.display.HTML object>"
      ]
     },
     "metadata": {},
     "output_type": "display_data"
    },
    {
     "data": {
      "text/html": [
       "<style>\n",
       "    table.wandb td:nth-child(1) { padding: 0 10px; text-align: left ; width: auto;} td:nth-child(2) {text-align: left ; width: 100%}\n",
       "    .wandb-row { display: flex; flex-direction: row; flex-wrap: wrap; justify-content: flex-start; width: 100% }\n",
       "    .wandb-col { display: flex; flex-direction: column; flex-basis: 100%; flex: 1; padding: 10px; }\n",
       "    </style>\n",
       "<div class=\"wandb-row\"><div class=\"wandb-col\"><h3>Run history:</h3><br/><table class=\"wandb\"><tr><td>Training Acc</td><td>▁▂▂▄▃▆▆▇▆██████</td></tr><tr><td>Training Loss</td><td>███▆▆▄▄▄▃▂▂▂▂▁▁</td></tr><tr><td>Validation Acc</td><td>▃▁▃▄▇▇▇██▇▇██▆█</td></tr><tr><td>Validation Loss</td><td>██▇▆▅▃▅▂▂▁▁▁▂▅▂</td></tr></table><br/></div><div class=\"wandb-col\"><h3>Run summary:</h3><br/><table class=\"wandb\"><tr><td>Training Acc</td><td>1.0</td></tr><tr><td>Training Loss</td><td>0.21184</td></tr><tr><td>Validation Acc</td><td>0.89583</td></tr><tr><td>Validation Loss</td><td>0.37357</td></tr><tr><td>test_accuracy</td><td>0.9</td></tr><tr><td>test_losss</td><td>0.36763</td></tr></table><br/></div></div>"
      ],
      "text/plain": [
       "<IPython.core.display.HTML object>"
      ]
     },
     "metadata": {},
     "output_type": "display_data"
    },
    {
     "data": {
      "text/html": [
       "Synced <strong style=\"color:#cdcd00\">smooth-armadillo-202</strong>: <a href=\"https://wandb.ai/miraclelinzzz/Final-ensemble/runs/3mjuki9w\" target=\"_blank\">https://wandb.ai/miraclelinzzz/Final-ensemble/runs/3mjuki9w</a><br/>Synced 5 W&B file(s), 0 media file(s), 0 artifact file(s) and 0 other file(s)"
      ],
      "text/plain": [
       "<IPython.core.display.HTML object>"
      ]
     },
     "metadata": {},
     "output_type": "display_data"
    },
    {
     "data": {
      "text/html": [
       "Find logs at: <code>./wandb/run-20220818_021730-3mjuki9w/logs</code>"
      ],
      "text/plain": [
       "<IPython.core.display.HTML object>"
      ]
     },
     "metadata": {},
     "output_type": "display_data"
    },
    {
     "name": "stdout",
     "output_type": "stream",
     "text": [
      "dr-0.3,arch-[256, 512, 128],bs-16,seed-40,index-3,epoch-15\n"
     ]
    },
    {
     "data": {
      "text/html": [
       "Tracking run with wandb version 0.13.1"
      ],
      "text/plain": [
       "<IPython.core.display.HTML object>"
      ]
     },
     "metadata": {},
     "output_type": "display_data"
    },
    {
     "data": {
      "text/html": [
       "Run data is saved locally in <code>/home/jupyter/wandb/run-20220818_021834-3ti0po8s</code>"
      ],
      "text/plain": [
       "<IPython.core.display.HTML object>"
      ]
     },
     "metadata": {},
     "output_type": "display_data"
    },
    {
     "data": {
      "text/html": [
       "Syncing run <strong><a href=\"https://wandb.ai/miraclelinzzz/Final-ensemble/runs/3ti0po8s\" target=\"_blank\">silver-haze-203</a></strong> to <a href=\"https://wandb.ai/miraclelinzzz/Final-ensemble\" target=\"_blank\">Weights & Biases</a> (<a href=\"https://wandb.me/run\" target=\"_blank\">docs</a>)<br/>"
      ],
      "text/plain": [
       "<IPython.core.display.HTML object>"
      ]
     },
     "metadata": {},
     "output_type": "display_data"
    },
    {
     "data": {
      "text/html": [
       "Waiting for W&B process to finish... <strong style=\"color:green\">(success).</strong>"
      ],
      "text/plain": [
       "<IPython.core.display.HTML object>"
      ]
     },
     "metadata": {},
     "output_type": "display_data"
    },
    {
     "data": {
      "text/html": [
       "<style>\n",
       "    table.wandb td:nth-child(1) { padding: 0 10px; text-align: left ; width: auto;} td:nth-child(2) {text-align: left ; width: 100%}\n",
       "    .wandb-row { display: flex; flex-direction: row; flex-wrap: wrap; justify-content: flex-start; width: 100% }\n",
       "    .wandb-col { display: flex; flex-direction: column; flex-basis: 100%; flex: 1; padding: 10px; }\n",
       "    </style>\n",
       "<div class=\"wandb-row\"><div class=\"wandb-col\"><h3>Run history:</h3><br/><table class=\"wandb\"><tr><td>Training Acc</td><td>▁▁▂▃▃▄▄▄▅▆▇▇███</td></tr><tr><td>Training Loss</td><td>██▇▇▇▆▅▅▄▃▃▁▁▂▁</td></tr><tr><td>Validation Acc</td><td>▁▃▅▆▁▂▄▅▆▆█▅▅██</td></tr><tr><td>Validation Loss</td><td>██▆▅█▇▄▆▃▆▂▃▅▁▁</td></tr></table><br/></div><div class=\"wandb-col\"><h3>Run summary:</h3><br/><table class=\"wandb\"><tr><td>Training Acc</td><td>0.96528</td></tr><tr><td>Training Loss</td><td>0.25173</td></tr><tr><td>Validation Acc</td><td>0.8125</td></tr><tr><td>Validation Loss</td><td>0.39091</td></tr><tr><td>test_accuracy</td><td>0.83393</td></tr><tr><td>test_losss</td><td>0.43457</td></tr></table><br/></div></div>"
      ],
      "text/plain": [
       "<IPython.core.display.HTML object>"
      ]
     },
     "metadata": {},
     "output_type": "display_data"
    },
    {
     "data": {
      "text/html": [
       "Synced <strong style=\"color:#cdcd00\">silver-haze-203</strong>: <a href=\"https://wandb.ai/miraclelinzzz/Final-ensemble/runs/3ti0po8s\" target=\"_blank\">https://wandb.ai/miraclelinzzz/Final-ensemble/runs/3ti0po8s</a><br/>Synced 5 W&B file(s), 0 media file(s), 0 artifact file(s) and 0 other file(s)"
      ],
      "text/plain": [
       "<IPython.core.display.HTML object>"
      ]
     },
     "metadata": {},
     "output_type": "display_data"
    },
    {
     "data": {
      "text/html": [
       "Find logs at: <code>./wandb/run-20220818_021834-3ti0po8s/logs</code>"
      ],
      "text/plain": [
       "<IPython.core.display.HTML object>"
      ]
     },
     "metadata": {},
     "output_type": "display_data"
    },
    {
     "name": "stdout",
     "output_type": "stream",
     "text": [
      "dr-0.4,arch-[512, 64],bs-16,seed-50,index-1,epoch-15\n"
     ]
    },
    {
     "data": {
      "text/html": [
       "Tracking run with wandb version 0.13.1"
      ],
      "text/plain": [
       "<IPython.core.display.HTML object>"
      ]
     },
     "metadata": {},
     "output_type": "display_data"
    },
    {
     "data": {
      "text/html": [
       "Run data is saved locally in <code>/home/jupyter/wandb/run-20220818_021949-hc9lwado</code>"
      ],
      "text/plain": [
       "<IPython.core.display.HTML object>"
      ]
     },
     "metadata": {},
     "output_type": "display_data"
    },
    {
     "data": {
      "text/html": [
       "Syncing run <strong><a href=\"https://wandb.ai/miraclelinzzz/Final-ensemble/runs/hc9lwado\" target=\"_blank\">ethereal-plant-204</a></strong> to <a href=\"https://wandb.ai/miraclelinzzz/Final-ensemble\" target=\"_blank\">Weights & Biases</a> (<a href=\"https://wandb.me/run\" target=\"_blank\">docs</a>)<br/>"
      ],
      "text/plain": [
       "<IPython.core.display.HTML object>"
      ]
     },
     "metadata": {},
     "output_type": "display_data"
    },
    {
     "data": {
      "text/html": [
       "Waiting for W&B process to finish... <strong style=\"color:green\">(success).</strong>"
      ],
      "text/plain": [
       "<IPython.core.display.HTML object>"
      ]
     },
     "metadata": {},
     "output_type": "display_data"
    },
    {
     "data": {
      "text/html": [
       "<style>\n",
       "    table.wandb td:nth-child(1) { padding: 0 10px; text-align: left ; width: auto;} td:nth-child(2) {text-align: left ; width: 100%}\n",
       "    .wandb-row { display: flex; flex-direction: row; flex-wrap: wrap; justify-content: flex-start; width: 100% }\n",
       "    .wandb-col { display: flex; flex-direction: column; flex-basis: 100%; flex: 1; padding: 10px; }\n",
       "    </style>\n",
       "<div class=\"wandb-row\"><div class=\"wandb-col\"><h3>Run history:</h3><br/><table class=\"wandb\"><tr><td>Training Acc</td><td>▁▃▃▅▅▆▇███▇███▇</td></tr><tr><td>Training Loss</td><td>██▆▆▅▃▃▂▁▂▂▁▁▁▂</td></tr><tr><td>Validation Acc</td><td>▁▃▅▃▆██▅▇█▆█▆▆█</td></tr><tr><td>Validation Loss</td><td>█▇▆▇▃▁▁▇▃▁▇▁▂▄▁</td></tr></table><br/></div><div class=\"wandb-col\"><h3>Run summary:</h3><br/><table class=\"wandb\"><tr><td>Training Acc</td><td>0.9375</td></tr><tr><td>Training Loss</td><td>0.23472</td></tr><tr><td>Validation Acc</td><td>0.89583</td></tr><tr><td>Validation Loss</td><td>0.26674</td></tr><tr><td>test_accuracy</td><td>0.80536</td></tr><tr><td>test_losss</td><td>0.49168</td></tr></table><br/></div></div>"
      ],
      "text/plain": [
       "<IPython.core.display.HTML object>"
      ]
     },
     "metadata": {},
     "output_type": "display_data"
    },
    {
     "data": {
      "text/html": [
       "Synced <strong style=\"color:#cdcd00\">ethereal-plant-204</strong>: <a href=\"https://wandb.ai/miraclelinzzz/Final-ensemble/runs/hc9lwado\" target=\"_blank\">https://wandb.ai/miraclelinzzz/Final-ensemble/runs/hc9lwado</a><br/>Synced 5 W&B file(s), 0 media file(s), 0 artifact file(s) and 0 other file(s)"
      ],
      "text/plain": [
       "<IPython.core.display.HTML object>"
      ]
     },
     "metadata": {},
     "output_type": "display_data"
    },
    {
     "data": {
      "text/html": [
       "Find logs at: <code>./wandb/run-20220818_021949-hc9lwado/logs</code>"
      ],
      "text/plain": [
       "<IPython.core.display.HTML object>"
      ]
     },
     "metadata": {},
     "output_type": "display_data"
    },
    {
     "name": "stdout",
     "output_type": "stream",
     "text": [
      "dr-0.4,arch-[512, 64],bs-16,seed-50,index-2,epoch-15\n"
     ]
    },
    {
     "data": {
      "text/html": [
       "Tracking run with wandb version 0.13.1"
      ],
      "text/plain": [
       "<IPython.core.display.HTML object>"
      ]
     },
     "metadata": {},
     "output_type": "display_data"
    },
    {
     "data": {
      "text/html": [
       "Run data is saved locally in <code>/home/jupyter/wandb/run-20220818_022103-23gdbyf0</code>"
      ],
      "text/plain": [
       "<IPython.core.display.HTML object>"
      ]
     },
     "metadata": {},
     "output_type": "display_data"
    },
    {
     "data": {
      "text/html": [
       "Syncing run <strong><a href=\"https://wandb.ai/miraclelinzzz/Final-ensemble/runs/23gdbyf0\" target=\"_blank\">curious-lake-205</a></strong> to <a href=\"https://wandb.ai/miraclelinzzz/Final-ensemble\" target=\"_blank\">Weights & Biases</a> (<a href=\"https://wandb.me/run\" target=\"_blank\">docs</a>)<br/>"
      ],
      "text/plain": [
       "<IPython.core.display.HTML object>"
      ]
     },
     "metadata": {},
     "output_type": "display_data"
    },
    {
     "data": {
      "text/html": [
       "Waiting for W&B process to finish... <strong style=\"color:green\">(success).</strong>"
      ],
      "text/plain": [
       "<IPython.core.display.HTML object>"
      ]
     },
     "metadata": {},
     "output_type": "display_data"
    },
    {
     "data": {
      "text/html": [
       "<style>\n",
       "    table.wandb td:nth-child(1) { padding: 0 10px; text-align: left ; width: auto;} td:nth-child(2) {text-align: left ; width: 100%}\n",
       "    .wandb-row { display: flex; flex-direction: row; flex-wrap: wrap; justify-content: flex-start; width: 100% }\n",
       "    .wandb-col { display: flex; flex-direction: column; flex-basis: 100%; flex: 1; padding: 10px; }\n",
       "    </style>\n",
       "<div class=\"wandb-row\"><div class=\"wandb-col\"><h3>Run history:</h3><br/><table class=\"wandb\"><tr><td>Training Acc</td><td>▁▃▄▅▆▆█▆█▇█████</td></tr><tr><td>Training Loss</td><td>█▆▆▅▄▃▂▃▂▂▁▁▁▁▁</td></tr><tr><td>Validation Acc</td><td>▁▅▅██▇▇██▇█████</td></tr><tr><td>Validation Loss</td><td>█▇▇▅▂▂▁▃▂▁▃▁▂▂▁</td></tr></table><br/></div><div class=\"wandb-col\"><h3>Run summary:</h3><br/><table class=\"wandb\"><tr><td>Training Acc</td><td>1.0</td></tr><tr><td>Training Loss</td><td>0.1928</td></tr><tr><td>Validation Acc</td><td>0.9375</td></tr><tr><td>Validation Loss</td><td>0.2953</td></tr><tr><td>test_accuracy</td><td>0.83393</td></tr><tr><td>test_losss</td><td>0.39733</td></tr></table><br/></div></div>"
      ],
      "text/plain": [
       "<IPython.core.display.HTML object>"
      ]
     },
     "metadata": {},
     "output_type": "display_data"
    },
    {
     "data": {
      "text/html": [
       "Synced <strong style=\"color:#cdcd00\">curious-lake-205</strong>: <a href=\"https://wandb.ai/miraclelinzzz/Final-ensemble/runs/23gdbyf0\" target=\"_blank\">https://wandb.ai/miraclelinzzz/Final-ensemble/runs/23gdbyf0</a><br/>Synced 5 W&B file(s), 0 media file(s), 0 artifact file(s) and 0 other file(s)"
      ],
      "text/plain": [
       "<IPython.core.display.HTML object>"
      ]
     },
     "metadata": {},
     "output_type": "display_data"
    },
    {
     "data": {
      "text/html": [
       "Find logs at: <code>./wandb/run-20220818_022103-23gdbyf0/logs</code>"
      ],
      "text/plain": [
       "<IPython.core.display.HTML object>"
      ]
     },
     "metadata": {},
     "output_type": "display_data"
    },
    {
     "name": "stdout",
     "output_type": "stream",
     "text": [
      "dr-0.4,arch-[512, 64],bs-16,seed-50,index-3,epoch-15\n"
     ]
    },
    {
     "data": {
      "text/html": [
       "Tracking run with wandb version 0.13.1"
      ],
      "text/plain": [
       "<IPython.core.display.HTML object>"
      ]
     },
     "metadata": {},
     "output_type": "display_data"
    },
    {
     "data": {
      "text/html": [
       "Run data is saved locally in <code>/home/jupyter/wandb/run-20220818_022207-2hxulsz2</code>"
      ],
      "text/plain": [
       "<IPython.core.display.HTML object>"
      ]
     },
     "metadata": {},
     "output_type": "display_data"
    },
    {
     "data": {
      "text/html": [
       "Syncing run <strong><a href=\"https://wandb.ai/miraclelinzzz/Final-ensemble/runs/2hxulsz2\" target=\"_blank\">glorious-pine-206</a></strong> to <a href=\"https://wandb.ai/miraclelinzzz/Final-ensemble\" target=\"_blank\">Weights & Biases</a> (<a href=\"https://wandb.me/run\" target=\"_blank\">docs</a>)<br/>"
      ],
      "text/plain": [
       "<IPython.core.display.HTML object>"
      ]
     },
     "metadata": {},
     "output_type": "display_data"
    },
    {
     "data": {
      "text/html": [
       "Waiting for W&B process to finish... <strong style=\"color:green\">(success).</strong>"
      ],
      "text/plain": [
       "<IPython.core.display.HTML object>"
      ]
     },
     "metadata": {},
     "output_type": "display_data"
    },
    {
     "data": {
      "text/html": [
       "<style>\n",
       "    table.wandb td:nth-child(1) { padding: 0 10px; text-align: left ; width: auto;} td:nth-child(2) {text-align: left ; width: 100%}\n",
       "    .wandb-row { display: flex; flex-direction: row; flex-wrap: wrap; justify-content: flex-start; width: 100% }\n",
       "    .wandb-col { display: flex; flex-direction: column; flex-basis: 100%; flex: 1; padding: 10px; }\n",
       "    </style>\n",
       "<div class=\"wandb-row\"><div class=\"wandb-col\"><h3>Run history:</h3><br/><table class=\"wandb\"><tr><td>Training Acc</td><td>▁▂▃▅▅▇█████████</td></tr><tr><td>Training Loss</td><td>█▇▆▅▄▃▂▁▁▁▁▁▁▁▁</td></tr><tr><td>Validation Acc</td><td>▁▄▆▄█▆▁▃██▅██▇█</td></tr><tr><td>Validation Loss</td><td>▅▅▄▄▁▂▅█▁▁▇▁▂▄▂</td></tr></table><br/></div><div class=\"wandb-col\"><h3>Run summary:</h3><br/><table class=\"wandb\"><tr><td>Training Acc</td><td>1.0</td></tr><tr><td>Training Loss</td><td>0.1935</td></tr><tr><td>Validation Acc</td><td>0.8125</td></tr><tr><td>Validation Loss</td><td>0.52035</td></tr><tr><td>test_accuracy</td><td>0.83393</td></tr><tr><td>test_losss</td><td>0.43611</td></tr></table><br/></div></div>"
      ],
      "text/plain": [
       "<IPython.core.display.HTML object>"
      ]
     },
     "metadata": {},
     "output_type": "display_data"
    },
    {
     "data": {
      "text/html": [
       "Synced <strong style=\"color:#cdcd00\">glorious-pine-206</strong>: <a href=\"https://wandb.ai/miraclelinzzz/Final-ensemble/runs/2hxulsz2\" target=\"_blank\">https://wandb.ai/miraclelinzzz/Final-ensemble/runs/2hxulsz2</a><br/>Synced 5 W&B file(s), 0 media file(s), 0 artifact file(s) and 0 other file(s)"
      ],
      "text/plain": [
       "<IPython.core.display.HTML object>"
      ]
     },
     "metadata": {},
     "output_type": "display_data"
    },
    {
     "data": {
      "text/html": [
       "Find logs at: <code>./wandb/run-20220818_022207-2hxulsz2/logs</code>"
      ],
      "text/plain": [
       "<IPython.core.display.HTML object>"
      ]
     },
     "metadata": {},
     "output_type": "display_data"
    },
    {
     "name": "stdout",
     "output_type": "stream",
     "text": [
      "dr-0.5,arch-[64, 512],bs-16,seed-50,index-1,epoch-15\n"
     ]
    },
    {
     "data": {
      "text/html": [
       "Tracking run with wandb version 0.13.1"
      ],
      "text/plain": [
       "<IPython.core.display.HTML object>"
      ]
     },
     "metadata": {},
     "output_type": "display_data"
    },
    {
     "data": {
      "text/html": [
       "Run data is saved locally in <code>/home/jupyter/wandb/run-20220818_022321-1efn7cjk</code>"
      ],
      "text/plain": [
       "<IPython.core.display.HTML object>"
      ]
     },
     "metadata": {},
     "output_type": "display_data"
    },
    {
     "data": {
      "text/html": [
       "Syncing run <strong><a href=\"https://wandb.ai/miraclelinzzz/Final-ensemble/runs/1efn7cjk\" target=\"_blank\">sparkling-sun-207</a></strong> to <a href=\"https://wandb.ai/miraclelinzzz/Final-ensemble\" target=\"_blank\">Weights & Biases</a> (<a href=\"https://wandb.me/run\" target=\"_blank\">docs</a>)<br/>"
      ],
      "text/plain": [
       "<IPython.core.display.HTML object>"
      ]
     },
     "metadata": {},
     "output_type": "display_data"
    },
    {
     "data": {
      "text/html": [
       "Waiting for W&B process to finish... <strong style=\"color:green\">(success).</strong>"
      ],
      "text/plain": [
       "<IPython.core.display.HTML object>"
      ]
     },
     "metadata": {},
     "output_type": "display_data"
    },
    {
     "data": {
      "text/html": [
       "<style>\n",
       "    table.wandb td:nth-child(1) { padding: 0 10px; text-align: left ; width: auto;} td:nth-child(2) {text-align: left ; width: 100%}\n",
       "    .wandb-row { display: flex; flex-direction: row; flex-wrap: wrap; justify-content: flex-start; width: 100% }\n",
       "    .wandb-col { display: flex; flex-direction: column; flex-basis: 100%; flex: 1; padding: 10px; }\n",
       "    </style>\n",
       "<div class=\"wandb-row\"><div class=\"wandb-col\"><h3>Run history:</h3><br/><table class=\"wandb\"><tr><td>Training Acc</td><td>▁▃▃▃▅▅▅▆▆▇▇▇▇██</td></tr><tr><td>Training Loss</td><td>█▇▆▇▅▅▅▄▄▃▂▃▁▁▁</td></tr><tr><td>Validation Acc</td><td>▂▁▅▆▅▇▆▇▄▆▇▆█▆█</td></tr><tr><td>Validation Loss</td><td>█▆▆▆▅▅▃▁▃▇▂█▂▅▃</td></tr></table><br/></div><div class=\"wandb-col\"><h3>Run summary:</h3><br/><table class=\"wandb\"><tr><td>Training Acc</td><td>0.97917</td></tr><tr><td>Training Loss</td><td>0.30885</td></tr><tr><td>Validation Acc</td><td>0.89583</td></tr><tr><td>Validation Loss</td><td>0.46292</td></tr><tr><td>test_accuracy</td><td>0.79286</td></tr><tr><td>test_losss</td><td>0.4474</td></tr></table><br/></div></div>"
      ],
      "text/plain": [
       "<IPython.core.display.HTML object>"
      ]
     },
     "metadata": {},
     "output_type": "display_data"
    },
    {
     "data": {
      "text/html": [
       "Synced <strong style=\"color:#cdcd00\">sparkling-sun-207</strong>: <a href=\"https://wandb.ai/miraclelinzzz/Final-ensemble/runs/1efn7cjk\" target=\"_blank\">https://wandb.ai/miraclelinzzz/Final-ensemble/runs/1efn7cjk</a><br/>Synced 5 W&B file(s), 0 media file(s), 0 artifact file(s) and 0 other file(s)"
      ],
      "text/plain": [
       "<IPython.core.display.HTML object>"
      ]
     },
     "metadata": {},
     "output_type": "display_data"
    },
    {
     "data": {
      "text/html": [
       "Find logs at: <code>./wandb/run-20220818_022321-1efn7cjk/logs</code>"
      ],
      "text/plain": [
       "<IPython.core.display.HTML object>"
      ]
     },
     "metadata": {},
     "output_type": "display_data"
    },
    {
     "name": "stdout",
     "output_type": "stream",
     "text": [
      "dr-0.5,arch-[64, 512],bs-16,seed-50,index-2,epoch-15\n"
     ]
    },
    {
     "data": {
      "text/html": [
       "Tracking run with wandb version 0.13.1"
      ],
      "text/plain": [
       "<IPython.core.display.HTML object>"
      ]
     },
     "metadata": {},
     "output_type": "display_data"
    },
    {
     "data": {
      "text/html": [
       "Run data is saved locally in <code>/home/jupyter/wandb/run-20220818_022436-24rz752w</code>"
      ],
      "text/plain": [
       "<IPython.core.display.HTML object>"
      ]
     },
     "metadata": {},
     "output_type": "display_data"
    },
    {
     "data": {
      "text/html": [
       "Syncing run <strong><a href=\"https://wandb.ai/miraclelinzzz/Final-ensemble/runs/24rz752w\" target=\"_blank\">major-river-208</a></strong> to <a href=\"https://wandb.ai/miraclelinzzz/Final-ensemble\" target=\"_blank\">Weights & Biases</a> (<a href=\"https://wandb.me/run\" target=\"_blank\">docs</a>)<br/>"
      ],
      "text/plain": [
       "<IPython.core.display.HTML object>"
      ]
     },
     "metadata": {},
     "output_type": "display_data"
    },
    {
     "data": {
      "text/html": [
       "Waiting for W&B process to finish... <strong style=\"color:green\">(success).</strong>"
      ],
      "text/plain": [
       "<IPython.core.display.HTML object>"
      ]
     },
     "metadata": {},
     "output_type": "display_data"
    },
    {
     "data": {
      "text/html": [
       "<style>\n",
       "    table.wandb td:nth-child(1) { padding: 0 10px; text-align: left ; width: auto;} td:nth-child(2) {text-align: left ; width: 100%}\n",
       "    .wandb-row { display: flex; flex-direction: row; flex-wrap: wrap; justify-content: flex-start; width: 100% }\n",
       "    .wandb-col { display: flex; flex-direction: column; flex-basis: 100%; flex: 1; padding: 10px; }\n",
       "    </style>\n",
       "<div class=\"wandb-row\"><div class=\"wandb-col\"><h3>Run history:</h3><br/><table class=\"wandb\"><tr><td>Training Acc</td><td>▁▃▃▅▅▇▇▇█▇▇██▇▇</td></tr><tr><td>Training Loss</td><td>█▇▆▅▅▃▃▂▂▂▁▂▁▂▁</td></tr><tr><td>Validation Acc</td><td>▁▃▇▇▇▅█▇▆▅▇▆▆██</td></tr><tr><td>Validation Loss</td><td>█▇▇▅▅▅▂▃▆▄▂▄▅▁▂</td></tr></table><br/></div><div class=\"wandb-col\"><h3>Run summary:</h3><br/><table class=\"wandb\"><tr><td>Training Acc</td><td>0.90278</td></tr><tr><td>Training Loss</td><td>0.29783</td></tr><tr><td>Validation Acc</td><td>0.91667</td></tr><tr><td>Validation Loss</td><td>0.36344</td></tr><tr><td>test_accuracy</td><td>0.81786</td></tr><tr><td>test_losss</td><td>0.47085</td></tr></table><br/></div></div>"
      ],
      "text/plain": [
       "<IPython.core.display.HTML object>"
      ]
     },
     "metadata": {},
     "output_type": "display_data"
    },
    {
     "data": {
      "text/html": [
       "Synced <strong style=\"color:#cdcd00\">major-river-208</strong>: <a href=\"https://wandb.ai/miraclelinzzz/Final-ensemble/runs/24rz752w\" target=\"_blank\">https://wandb.ai/miraclelinzzz/Final-ensemble/runs/24rz752w</a><br/>Synced 5 W&B file(s), 0 media file(s), 0 artifact file(s) and 0 other file(s)"
      ],
      "text/plain": [
       "<IPython.core.display.HTML object>"
      ]
     },
     "metadata": {},
     "output_type": "display_data"
    },
    {
     "data": {
      "text/html": [
       "Find logs at: <code>./wandb/run-20220818_022436-24rz752w/logs</code>"
      ],
      "text/plain": [
       "<IPython.core.display.HTML object>"
      ]
     },
     "metadata": {},
     "output_type": "display_data"
    },
    {
     "name": "stdout",
     "output_type": "stream",
     "text": [
      "dr-0.5,arch-[64, 512],bs-16,seed-50,index-3,epoch-15\n"
     ]
    },
    {
     "data": {
      "text/html": [
       "Tracking run with wandb version 0.13.1"
      ],
      "text/plain": [
       "<IPython.core.display.HTML object>"
      ]
     },
     "metadata": {},
     "output_type": "display_data"
    },
    {
     "data": {
      "text/html": [
       "Run data is saved locally in <code>/home/jupyter/wandb/run-20220818_022540-5zm8uybd</code>"
      ],
      "text/plain": [
       "<IPython.core.display.HTML object>"
      ]
     },
     "metadata": {},
     "output_type": "display_data"
    },
    {
     "data": {
      "text/html": [
       "Syncing run <strong><a href=\"https://wandb.ai/miraclelinzzz/Final-ensemble/runs/5zm8uybd\" target=\"_blank\">robust-voice-209</a></strong> to <a href=\"https://wandb.ai/miraclelinzzz/Final-ensemble\" target=\"_blank\">Weights & Biases</a> (<a href=\"https://wandb.me/run\" target=\"_blank\">docs</a>)<br/>"
      ],
      "text/plain": [
       "<IPython.core.display.HTML object>"
      ]
     },
     "metadata": {},
     "output_type": "display_data"
    },
    {
     "data": {
      "text/html": [
       "Waiting for W&B process to finish... <strong style=\"color:green\">(success).</strong>"
      ],
      "text/plain": [
       "<IPython.core.display.HTML object>"
      ]
     },
     "metadata": {},
     "output_type": "display_data"
    },
    {
     "data": {
      "text/html": [
       "<style>\n",
       "    table.wandb td:nth-child(1) { padding: 0 10px; text-align: left ; width: auto;} td:nth-child(2) {text-align: left ; width: 100%}\n",
       "    .wandb-row { display: flex; flex-direction: row; flex-wrap: wrap; justify-content: flex-start; width: 100% }\n",
       "    .wandb-col { display: flex; flex-direction: column; flex-basis: 100%; flex: 1; padding: 10px; }\n",
       "    </style>\n",
       "<div class=\"wandb-row\"><div class=\"wandb-col\"><h3>Run history:</h3><br/><table class=\"wandb\"><tr><td>Training Acc</td><td>▁▃▃▃▅▅▅▆▇▇▇████</td></tr><tr><td>Training Loss</td><td>█▆▅▅▄▄▃▃▂▂▂▁▁▁▁</td></tr><tr><td>Validation Acc</td><td>▃▁▇▂█▇▃▅▅▆█▇▆█▆</td></tr><tr><td>Validation Loss</td><td>▆▆▄▆▂▂█▃▆▇▁▂▆▁▅</td></tr></table><br/></div><div class=\"wandb-col\"><h3>Run summary:</h3><br/><table class=\"wandb\"><tr><td>Training Acc</td><td>0.90972</td></tr><tr><td>Training Loss</td><td>0.32078</td></tr><tr><td>Validation Acc</td><td>0.66667</td></tr><tr><td>Validation Loss</td><td>0.66243</td></tr><tr><td>test_accuracy</td><td>0.82143</td></tr><tr><td>test_losss</td><td>0.43692</td></tr></table><br/></div></div>"
      ],
      "text/plain": [
       "<IPython.core.display.HTML object>"
      ]
     },
     "metadata": {},
     "output_type": "display_data"
    },
    {
     "data": {
      "text/html": [
       "Synced <strong style=\"color:#cdcd00\">robust-voice-209</strong>: <a href=\"https://wandb.ai/miraclelinzzz/Final-ensemble/runs/5zm8uybd\" target=\"_blank\">https://wandb.ai/miraclelinzzz/Final-ensemble/runs/5zm8uybd</a><br/>Synced 5 W&B file(s), 0 media file(s), 0 artifact file(s) and 0 other file(s)"
      ],
      "text/plain": [
       "<IPython.core.display.HTML object>"
      ]
     },
     "metadata": {},
     "output_type": "display_data"
    },
    {
     "data": {
      "text/html": [
       "Find logs at: <code>./wandb/run-20220818_022540-5zm8uybd/logs</code>"
      ],
      "text/plain": [
       "<IPython.core.display.HTML object>"
      ]
     },
     "metadata": {},
     "output_type": "display_data"
    },
    {
     "name": "stdout",
     "output_type": "stream",
     "text": [
      "dr-0.3,arch-[256, 512, 64],bs-8,seed-50,index-1,epoch-15\n"
     ]
    },
    {
     "data": {
      "text/html": [
       "Tracking run with wandb version 0.13.1"
      ],
      "text/plain": [
       "<IPython.core.display.HTML object>"
      ]
     },
     "metadata": {},
     "output_type": "display_data"
    },
    {
     "data": {
      "text/html": [
       "Run data is saved locally in <code>/home/jupyter/wandb/run-20220818_022654-23q4dmvy</code>"
      ],
      "text/plain": [
       "<IPython.core.display.HTML object>"
      ]
     },
     "metadata": {},
     "output_type": "display_data"
    },
    {
     "data": {
      "text/html": [
       "Syncing run <strong><a href=\"https://wandb.ai/miraclelinzzz/Final-ensemble/runs/23q4dmvy\" target=\"_blank\">lunar-forest-210</a></strong> to <a href=\"https://wandb.ai/miraclelinzzz/Final-ensemble\" target=\"_blank\">Weights & Biases</a> (<a href=\"https://wandb.me/run\" target=\"_blank\">docs</a>)<br/>"
      ],
      "text/plain": [
       "<IPython.core.display.HTML object>"
      ]
     },
     "metadata": {},
     "output_type": "display_data"
    },
    {
     "data": {
      "text/html": [
       "Waiting for W&B process to finish... <strong style=\"color:green\">(success).</strong>"
      ],
      "text/plain": [
       "<IPython.core.display.HTML object>"
      ]
     },
     "metadata": {},
     "output_type": "display_data"
    },
    {
     "data": {
      "text/html": [
       "<style>\n",
       "    table.wandb td:nth-child(1) { padding: 0 10px; text-align: left ; width: auto;} td:nth-child(2) {text-align: left ; width: 100%}\n",
       "    .wandb-row { display: flex; flex-direction: row; flex-wrap: wrap; justify-content: flex-start; width: 100% }\n",
       "    .wandb-col { display: flex; flex-direction: column; flex-basis: 100%; flex: 1; padding: 10px; }\n",
       "    </style>\n",
       "<div class=\"wandb-row\"><div class=\"wandb-col\"><h3>Run history:</h3><br/><table class=\"wandb\"><tr><td>Training Acc</td><td>▂▂▁▂▂▃▄▅▅▆▆█▇██</td></tr><tr><td>Training Loss</td><td>█▇██▇▇▅▅▄▄▃▂▂▁▁</td></tr><tr><td>Validation Acc</td><td>▁▃▂▂▂▆▆▄▄▆▇█▆▇█</td></tr><tr><td>Validation Loss</td><td>███▇▅▅▅▆▅▂▅▂▄▂▁</td></tr></table><br/></div><div class=\"wandb-col\"><h3>Run summary:</h3><br/><table class=\"wandb\"><tr><td>Training Acc</td><td>0.92647</td></tr><tr><td>Training Loss</td><td>0.36552</td></tr><tr><td>Validation Acc</td><td>0.85</td></tr><tr><td>Validation Loss</td><td>0.39388</td></tr><tr><td>test_accuracy</td><td>0.77381</td></tr><tr><td>test_losss</td><td>0.48</td></tr></table><br/></div></div>"
      ],
      "text/plain": [
       "<IPython.core.display.HTML object>"
      ]
     },
     "metadata": {},
     "output_type": "display_data"
    },
    {
     "data": {
      "text/html": [
       "Synced <strong style=\"color:#cdcd00\">lunar-forest-210</strong>: <a href=\"https://wandb.ai/miraclelinzzz/Final-ensemble/runs/23q4dmvy\" target=\"_blank\">https://wandb.ai/miraclelinzzz/Final-ensemble/runs/23q4dmvy</a><br/>Synced 5 W&B file(s), 0 media file(s), 0 artifact file(s) and 0 other file(s)"
      ],
      "text/plain": [
       "<IPython.core.display.HTML object>"
      ]
     },
     "metadata": {},
     "output_type": "display_data"
    },
    {
     "data": {
      "text/html": [
       "Find logs at: <code>./wandb/run-20220818_022654-23q4dmvy/logs</code>"
      ],
      "text/plain": [
       "<IPython.core.display.HTML object>"
      ]
     },
     "metadata": {},
     "output_type": "display_data"
    },
    {
     "name": "stdout",
     "output_type": "stream",
     "text": [
      "dr-0.3,arch-[256, 512, 64],bs-8,seed-50,index-2,epoch-15\n"
     ]
    },
    {
     "data": {
      "text/html": [
       "Tracking run with wandb version 0.13.1"
      ],
      "text/plain": [
       "<IPython.core.display.HTML object>"
      ]
     },
     "metadata": {},
     "output_type": "display_data"
    },
    {
     "data": {
      "text/html": [
       "Run data is saved locally in <code>/home/jupyter/wandb/run-20220818_022813-1vxbvj83</code>"
      ],
      "text/plain": [
       "<IPython.core.display.HTML object>"
      ]
     },
     "metadata": {},
     "output_type": "display_data"
    },
    {
     "data": {
      "text/html": [
       "Syncing run <strong><a href=\"https://wandb.ai/miraclelinzzz/Final-ensemble/runs/1vxbvj83\" target=\"_blank\">sandy-morning-211</a></strong> to <a href=\"https://wandb.ai/miraclelinzzz/Final-ensemble\" target=\"_blank\">Weights & Biases</a> (<a href=\"https://wandb.me/run\" target=\"_blank\">docs</a>)<br/>"
      ],
      "text/plain": [
       "<IPython.core.display.HTML object>"
      ]
     },
     "metadata": {},
     "output_type": "display_data"
    },
    {
     "data": {
      "text/html": [
       "Waiting for W&B process to finish... <strong style=\"color:green\">(success).</strong>"
      ],
      "text/plain": [
       "<IPython.core.display.HTML object>"
      ]
     },
     "metadata": {},
     "output_type": "display_data"
    },
    {
     "data": {
      "text/html": [
       "<style>\n",
       "    table.wandb td:nth-child(1) { padding: 0 10px; text-align: left ; width: auto;} td:nth-child(2) {text-align: left ; width: 100%}\n",
       "    .wandb-row { display: flex; flex-direction: row; flex-wrap: wrap; justify-content: flex-start; width: 100% }\n",
       "    .wandb-col { display: flex; flex-direction: column; flex-basis: 100%; flex: 1; padding: 10px; }\n",
       "    </style>\n",
       "<div class=\"wandb-row\"><div class=\"wandb-col\"><h3>Run history:</h3><br/><table class=\"wandb\"><tr><td>Training Acc</td><td>▁▁▂▂▂▃▄▅▆▇▇███▇</td></tr><tr><td>Training Loss</td><td>██▇▆▆▅▄▄▃▂▂▁▁▁▁</td></tr><tr><td>Validation Acc</td><td>▃▁▃▃▆▄▄▆██▆█▅▇▇</td></tr><tr><td>Validation Loss</td><td>██▆▅▃▃▅▅▁▂▄▁▂▂▂</td></tr></table><br/></div><div class=\"wandb-col\"><h3>Run summary:</h3><br/><table class=\"wandb\"><tr><td>Training Acc</td><td>0.875</td></tr><tr><td>Training Loss</td><td>0.31465</td></tr><tr><td>Validation Acc</td><td>0.8</td></tr><tr><td>Validation Loss</td><td>0.44849</td></tr><tr><td>test_accuracy</td><td>0.71825</td></tr><tr><td>test_losss</td><td>0.51791</td></tr></table><br/></div></div>"
      ],
      "text/plain": [
       "<IPython.core.display.HTML object>"
      ]
     },
     "metadata": {},
     "output_type": "display_data"
    },
    {
     "data": {
      "text/html": [
       "Synced <strong style=\"color:#cdcd00\">sandy-morning-211</strong>: <a href=\"https://wandb.ai/miraclelinzzz/Final-ensemble/runs/1vxbvj83\" target=\"_blank\">https://wandb.ai/miraclelinzzz/Final-ensemble/runs/1vxbvj83</a><br/>Synced 5 W&B file(s), 0 media file(s), 0 artifact file(s) and 0 other file(s)"
      ],
      "text/plain": [
       "<IPython.core.display.HTML object>"
      ]
     },
     "metadata": {},
     "output_type": "display_data"
    },
    {
     "data": {
      "text/html": [
       "Find logs at: <code>./wandb/run-20220818_022813-1vxbvj83/logs</code>"
      ],
      "text/plain": [
       "<IPython.core.display.HTML object>"
      ]
     },
     "metadata": {},
     "output_type": "display_data"
    },
    {
     "name": "stdout",
     "output_type": "stream",
     "text": [
      "dr-0.3,arch-[256, 512, 64],bs-8,seed-50,index-3,epoch-15\n"
     ]
    },
    {
     "data": {
      "text/html": [
       "Tracking run with wandb version 0.13.1"
      ],
      "text/plain": [
       "<IPython.core.display.HTML object>"
      ]
     },
     "metadata": {},
     "output_type": "display_data"
    },
    {
     "data": {
      "text/html": [
       "Run data is saved locally in <code>/home/jupyter/wandb/run-20220818_022922-13knry7s</code>"
      ],
      "text/plain": [
       "<IPython.core.display.HTML object>"
      ]
     },
     "metadata": {},
     "output_type": "display_data"
    },
    {
     "data": {
      "text/html": [
       "Syncing run <strong><a href=\"https://wandb.ai/miraclelinzzz/Final-ensemble/runs/13knry7s\" target=\"_blank\">pious-dream-212</a></strong> to <a href=\"https://wandb.ai/miraclelinzzz/Final-ensemble\" target=\"_blank\">Weights & Biases</a> (<a href=\"https://wandb.me/run\" target=\"_blank\">docs</a>)<br/>"
      ],
      "text/plain": [
       "<IPython.core.display.HTML object>"
      ]
     },
     "metadata": {},
     "output_type": "display_data"
    },
    {
     "data": {
      "text/html": [
       "Waiting for W&B process to finish... <strong style=\"color:green\">(success).</strong>"
      ],
      "text/plain": [
       "<IPython.core.display.HTML object>"
      ]
     },
     "metadata": {},
     "output_type": "display_data"
    },
    {
     "data": {
      "text/html": [
       "<style>\n",
       "    table.wandb td:nth-child(1) { padding: 0 10px; text-align: left ; width: auto;} td:nth-child(2) {text-align: left ; width: 100%}\n",
       "    .wandb-row { display: flex; flex-direction: row; flex-wrap: wrap; justify-content: flex-start; width: 100% }\n",
       "    .wandb-col { display: flex; flex-direction: column; flex-basis: 100%; flex: 1; padding: 10px; }\n",
       "    </style>\n",
       "<div class=\"wandb-row\"><div class=\"wandb-col\"><h3>Run history:</h3><br/><table class=\"wandb\"><tr><td>Training Acc</td><td>▁▂▂▃▃▅▅▇▆▇▇▇█▇█</td></tr><tr><td>Training Loss</td><td>█▇▇▆▅▅▄▃▃▂▂▂▁▁▁</td></tr><tr><td>Validation Acc</td><td>▁▁▃▇▅▂▂▇▃▅▇▇█▆▅</td></tr><tr><td>Validation Loss</td><td>▄▃▃▂▂█▃▁▂▂▁▁▁▃▃</td></tr></table><br/></div><div class=\"wandb-col\"><h3>Run summary:</h3><br/><table class=\"wandb\"><tr><td>Training Acc</td><td>0.97059</td></tr><tr><td>Training Loss</td><td>0.23534</td></tr><tr><td>Validation Acc</td><td>0.625</td></tr><tr><td>Validation Loss</td><td>0.64369</td></tr><tr><td>test_accuracy</td><td>0.73214</td></tr><tr><td>test_losss</td><td>0.48737</td></tr></table><br/></div></div>"
      ],
      "text/plain": [
       "<IPython.core.display.HTML object>"
      ]
     },
     "metadata": {},
     "output_type": "display_data"
    },
    {
     "data": {
      "text/html": [
       "Synced <strong style=\"color:#cdcd00\">pious-dream-212</strong>: <a href=\"https://wandb.ai/miraclelinzzz/Final-ensemble/runs/13knry7s\" target=\"_blank\">https://wandb.ai/miraclelinzzz/Final-ensemble/runs/13knry7s</a><br/>Synced 5 W&B file(s), 0 media file(s), 0 artifact file(s) and 0 other file(s)"
      ],
      "text/plain": [
       "<IPython.core.display.HTML object>"
      ]
     },
     "metadata": {},
     "output_type": "display_data"
    },
    {
     "data": {
      "text/html": [
       "Find logs at: <code>./wandb/run-20220818_022922-13knry7s/logs</code>"
      ],
      "text/plain": [
       "<IPython.core.display.HTML object>"
      ]
     },
     "metadata": {},
     "output_type": "display_data"
    },
    {
     "name": "stdout",
     "output_type": "stream",
     "text": [
      "dr-0.3,arch-[128],bs-8,seed-50,index-1,epoch-15\n"
     ]
    },
    {
     "data": {
      "text/html": [
       "Tracking run with wandb version 0.13.1"
      ],
      "text/plain": [
       "<IPython.core.display.HTML object>"
      ]
     },
     "metadata": {},
     "output_type": "display_data"
    },
    {
     "data": {
      "text/html": [
       "Run data is saved locally in <code>/home/jupyter/wandb/run-20220818_023042-gb832v1t</code>"
      ],
      "text/plain": [
       "<IPython.core.display.HTML object>"
      ]
     },
     "metadata": {},
     "output_type": "display_data"
    },
    {
     "data": {
      "text/html": [
       "Syncing run <strong><a href=\"https://wandb.ai/miraclelinzzz/Final-ensemble/runs/gb832v1t\" target=\"_blank\">glowing-music-213</a></strong> to <a href=\"https://wandb.ai/miraclelinzzz/Final-ensemble\" target=\"_blank\">Weights & Biases</a> (<a href=\"https://wandb.me/run\" target=\"_blank\">docs</a>)<br/>"
      ],
      "text/plain": [
       "<IPython.core.display.HTML object>"
      ]
     },
     "metadata": {},
     "output_type": "display_data"
    },
    {
     "data": {
      "text/html": [
       "Waiting for W&B process to finish... <strong style=\"color:green\">(success).</strong>"
      ],
      "text/plain": [
       "<IPython.core.display.HTML object>"
      ]
     },
     "metadata": {},
     "output_type": "display_data"
    },
    {
     "data": {
      "text/html": [
       "<style>\n",
       "    table.wandb td:nth-child(1) { padding: 0 10px; text-align: left ; width: auto;} td:nth-child(2) {text-align: left ; width: 100%}\n",
       "    .wandb-row { display: flex; flex-direction: row; flex-wrap: wrap; justify-content: flex-start; width: 100% }\n",
       "    .wandb-col { display: flex; flex-direction: column; flex-basis: 100%; flex: 1; padding: 10px; }\n",
       "    </style>\n",
       "<div class=\"wandb-row\"><div class=\"wandb-col\"><h3>Run history:</h3><br/><table class=\"wandb\"><tr><td>Training Acc</td><td>▁▄▆▇███████████</td></tr><tr><td>Training Loss</td><td>█▆▃▂▁▁▁▂▂▁▁▁▁▁▁</td></tr><tr><td>Validation Acc</td><td>▁▇▇█▇█▄███████▇</td></tr><tr><td>Validation Loss</td><td>▅▃▄▂▁▂█▁▁▁▁▁▁▁▃</td></tr></table><br/></div><div class=\"wandb-col\"><h3>Run summary:</h3><br/><table class=\"wandb\"><tr><td>Training Acc</td><td>1.0</td></tr><tr><td>Training Loss</td><td>0.0802</td></tr><tr><td>Validation Acc</td><td>0.875</td></tr><tr><td>Validation Loss</td><td>0.36985</td></tr><tr><td>test_accuracy</td><td>0.84524</td></tr><tr><td>test_losss</td><td>0.45607</td></tr></table><br/></div></div>"
      ],
      "text/plain": [
       "<IPython.core.display.HTML object>"
      ]
     },
     "metadata": {},
     "output_type": "display_data"
    },
    {
     "data": {
      "text/html": [
       "Synced <strong style=\"color:#cdcd00\">glowing-music-213</strong>: <a href=\"https://wandb.ai/miraclelinzzz/Final-ensemble/runs/gb832v1t\" target=\"_blank\">https://wandb.ai/miraclelinzzz/Final-ensemble/runs/gb832v1t</a><br/>Synced 5 W&B file(s), 0 media file(s), 0 artifact file(s) and 0 other file(s)"
      ],
      "text/plain": [
       "<IPython.core.display.HTML object>"
      ]
     },
     "metadata": {},
     "output_type": "display_data"
    },
    {
     "data": {
      "text/html": [
       "Find logs at: <code>./wandb/run-20220818_023042-gb832v1t/logs</code>"
      ],
      "text/plain": [
       "<IPython.core.display.HTML object>"
      ]
     },
     "metadata": {},
     "output_type": "display_data"
    },
    {
     "name": "stdout",
     "output_type": "stream",
     "text": [
      "dr-0.3,arch-[128],bs-8,seed-50,index-2,epoch-15\n"
     ]
    },
    {
     "data": {
      "text/html": [
       "Tracking run with wandb version 0.13.1"
      ],
      "text/plain": [
       "<IPython.core.display.HTML object>"
      ]
     },
     "metadata": {},
     "output_type": "display_data"
    },
    {
     "data": {
      "text/html": [
       "Run data is saved locally in <code>/home/jupyter/wandb/run-20220818_023202-1jqnxkqo</code>"
      ],
      "text/plain": [
       "<IPython.core.display.HTML object>"
      ]
     },
     "metadata": {},
     "output_type": "display_data"
    },
    {
     "data": {
      "text/html": [
       "Syncing run <strong><a href=\"https://wandb.ai/miraclelinzzz/Final-ensemble/runs/1jqnxkqo\" target=\"_blank\">iconic-salad-214</a></strong> to <a href=\"https://wandb.ai/miraclelinzzz/Final-ensemble\" target=\"_blank\">Weights & Biases</a> (<a href=\"https://wandb.me/run\" target=\"_blank\">docs</a>)<br/>"
      ],
      "text/plain": [
       "<IPython.core.display.HTML object>"
      ]
     },
     "metadata": {},
     "output_type": "display_data"
    },
    {
     "data": {
      "text/html": [
       "Waiting for W&B process to finish... <strong style=\"color:green\">(success).</strong>"
      ],
      "text/plain": [
       "<IPython.core.display.HTML object>"
      ]
     },
     "metadata": {},
     "output_type": "display_data"
    },
    {
     "data": {
      "text/html": [
       "<style>\n",
       "    table.wandb td:nth-child(1) { padding: 0 10px; text-align: left ; width: auto;} td:nth-child(2) {text-align: left ; width: 100%}\n",
       "    .wandb-row { display: flex; flex-direction: row; flex-wrap: wrap; justify-content: flex-start; width: 100% }\n",
       "    .wandb-col { display: flex; flex-direction: column; flex-basis: 100%; flex: 1; padding: 10px; }\n",
       "    </style>\n",
       "<div class=\"wandb-row\"><div class=\"wandb-col\"><h3>Run history:</h3><br/><table class=\"wandb\"><tr><td>Training Acc</td><td>▁▄▆▇█████████▇█</td></tr><tr><td>Training Loss</td><td>█▆▃▂▂▂▁▁▁▁▁▁▁▂▁</td></tr><tr><td>Validation Acc</td><td>▁▇▇▇▇▄█▄▇▇▄▇▇▆▆</td></tr><tr><td>Validation Loss</td><td>▆▅▂▁▃█▂▅▂▂▇▂▃▃▃</td></tr></table><br/></div><div class=\"wandb-col\"><h3>Run summary:</h3><br/><table class=\"wandb\"><tr><td>Training Acc</td><td>1.0</td></tr><tr><td>Training Loss</td><td>0.11818</td></tr><tr><td>Validation Acc</td><td>0.85</td></tr><tr><td>Validation Loss</td><td>0.37481</td></tr><tr><td>test_accuracy</td><td>0.84524</td></tr><tr><td>test_losss</td><td>0.55044</td></tr></table><br/></div></div>"
      ],
      "text/plain": [
       "<IPython.core.display.HTML object>"
      ]
     },
     "metadata": {},
     "output_type": "display_data"
    },
    {
     "data": {
      "text/html": [
       "Synced <strong style=\"color:#cdcd00\">iconic-salad-214</strong>: <a href=\"https://wandb.ai/miraclelinzzz/Final-ensemble/runs/1jqnxkqo\" target=\"_blank\">https://wandb.ai/miraclelinzzz/Final-ensemble/runs/1jqnxkqo</a><br/>Synced 5 W&B file(s), 0 media file(s), 0 artifact file(s) and 0 other file(s)"
      ],
      "text/plain": [
       "<IPython.core.display.HTML object>"
      ]
     },
     "metadata": {},
     "output_type": "display_data"
    },
    {
     "data": {
      "text/html": [
       "Find logs at: <code>./wandb/run-20220818_023202-1jqnxkqo/logs</code>"
      ],
      "text/plain": [
       "<IPython.core.display.HTML object>"
      ]
     },
     "metadata": {},
     "output_type": "display_data"
    },
    {
     "name": "stdout",
     "output_type": "stream",
     "text": [
      "dr-0.3,arch-[128],bs-8,seed-50,index-3,epoch-15\n"
     ]
    },
    {
     "data": {
      "text/html": [
       "Tracking run with wandb version 0.13.1"
      ],
      "text/plain": [
       "<IPython.core.display.HTML object>"
      ]
     },
     "metadata": {},
     "output_type": "display_data"
    },
    {
     "data": {
      "text/html": [
       "Run data is saved locally in <code>/home/jupyter/wandb/run-20220818_023310-2p6gkpa0</code>"
      ],
      "text/plain": [
       "<IPython.core.display.HTML object>"
      ]
     },
     "metadata": {},
     "output_type": "display_data"
    },
    {
     "data": {
      "text/html": [
       "Syncing run <strong><a href=\"https://wandb.ai/miraclelinzzz/Final-ensemble/runs/2p6gkpa0\" target=\"_blank\">olive-waterfall-215</a></strong> to <a href=\"https://wandb.ai/miraclelinzzz/Final-ensemble\" target=\"_blank\">Weights & Biases</a> (<a href=\"https://wandb.me/run\" target=\"_blank\">docs</a>)<br/>"
      ],
      "text/plain": [
       "<IPython.core.display.HTML object>"
      ]
     },
     "metadata": {},
     "output_type": "display_data"
    },
    {
     "data": {
      "text/html": [
       "Waiting for W&B process to finish... <strong style=\"color:green\">(success).</strong>"
      ],
      "text/plain": [
       "<IPython.core.display.HTML object>"
      ]
     },
     "metadata": {},
     "output_type": "display_data"
    },
    {
     "data": {
      "text/html": [
       "<style>\n",
       "    table.wandb td:nth-child(1) { padding: 0 10px; text-align: left ; width: auto;} td:nth-child(2) {text-align: left ; width: 100%}\n",
       "    .wandb-row { display: flex; flex-direction: row; flex-wrap: wrap; justify-content: flex-start; width: 100% }\n",
       "    .wandb-col { display: flex; flex-direction: column; flex-basis: 100%; flex: 1; padding: 10px; }\n",
       "    </style>\n",
       "<div class=\"wandb-row\"><div class=\"wandb-col\"><h3>Run history:</h3><br/><table class=\"wandb\"><tr><td>Training Acc</td><td>▁▅▇▇███▇███████</td></tr><tr><td>Training Loss</td><td>█▅▃▂▂▁▂▂▂▁▁▁▁▁▁</td></tr><tr><td>Validation Acc</td><td>▁▆█▆▆▆██▆█▇█▅██</td></tr><tr><td>Validation Loss</td><td>▃▂▁▃▄▅▃▂▆▃▅▃█▂▂</td></tr></table><br/></div><div class=\"wandb-col\"><h3>Run summary:</h3><br/><table class=\"wandb\"><tr><td>Training Acc</td><td>1.0</td></tr><tr><td>Training Loss</td><td>0.09068</td></tr><tr><td>Validation Acc</td><td>0.8</td></tr><tr><td>Validation Loss</td><td>0.6315</td></tr><tr><td>test_accuracy</td><td>0.85913</td></tr><tr><td>test_losss</td><td>0.42959</td></tr></table><br/></div></div>"
      ],
      "text/plain": [
       "<IPython.core.display.HTML object>"
      ]
     },
     "metadata": {},
     "output_type": "display_data"
    },
    {
     "data": {
      "text/html": [
       "Synced <strong style=\"color:#cdcd00\">olive-waterfall-215</strong>: <a href=\"https://wandb.ai/miraclelinzzz/Final-ensemble/runs/2p6gkpa0\" target=\"_blank\">https://wandb.ai/miraclelinzzz/Final-ensemble/runs/2p6gkpa0</a><br/>Synced 5 W&B file(s), 0 media file(s), 0 artifact file(s) and 0 other file(s)"
      ],
      "text/plain": [
       "<IPython.core.display.HTML object>"
      ]
     },
     "metadata": {},
     "output_type": "display_data"
    },
    {
     "data": {
      "text/html": [
       "Find logs at: <code>./wandb/run-20220818_023310-2p6gkpa0/logs</code>"
      ],
      "text/plain": [
       "<IPython.core.display.HTML object>"
      ]
     },
     "metadata": {},
     "output_type": "display_data"
    },
    {
     "name": "stdout",
     "output_type": "stream",
     "text": [
      "dr-0.4,arch-[128, 512, 256],bs-16,seed-50,index-1,epoch-15\n"
     ]
    },
    {
     "data": {
      "text/html": [
       "Tracking run with wandb version 0.13.1"
      ],
      "text/plain": [
       "<IPython.core.display.HTML object>"
      ]
     },
     "metadata": {},
     "output_type": "display_data"
    },
    {
     "data": {
      "text/html": [
       "Run data is saved locally in <code>/home/jupyter/wandb/run-20220818_023429-3vuvswsi</code>"
      ],
      "text/plain": [
       "<IPython.core.display.HTML object>"
      ]
     },
     "metadata": {},
     "output_type": "display_data"
    },
    {
     "data": {
      "text/html": [
       "Syncing run <strong><a href=\"https://wandb.ai/miraclelinzzz/Final-ensemble/runs/3vuvswsi\" target=\"_blank\">fancy-disco-216</a></strong> to <a href=\"https://wandb.ai/miraclelinzzz/Final-ensemble\" target=\"_blank\">Weights & Biases</a> (<a href=\"https://wandb.me/run\" target=\"_blank\">docs</a>)<br/>"
      ],
      "text/plain": [
       "<IPython.core.display.HTML object>"
      ]
     },
     "metadata": {},
     "output_type": "display_data"
    },
    {
     "data": {
      "text/html": [
       "Waiting for W&B process to finish... <strong style=\"color:green\">(success).</strong>"
      ],
      "text/plain": [
       "<IPython.core.display.HTML object>"
      ]
     },
     "metadata": {},
     "output_type": "display_data"
    },
    {
     "data": {
      "text/html": [
       "<style>\n",
       "    table.wandb td:nth-child(1) { padding: 0 10px; text-align: left ; width: auto;} td:nth-child(2) {text-align: left ; width: 100%}\n",
       "    .wandb-row { display: flex; flex-direction: row; flex-wrap: wrap; justify-content: flex-start; width: 100% }\n",
       "    .wandb-col { display: flex; flex-direction: column; flex-basis: 100%; flex: 1; padding: 10px; }\n",
       "    </style>\n",
       "<div class=\"wandb-row\"><div class=\"wandb-col\"><h3>Run history:</h3><br/><table class=\"wandb\"><tr><td>Training Acc</td><td>▁▃▃▃▃▄▃▄▆▇▇▇▆██</td></tr><tr><td>Training Loss</td><td>█▇▆▆▆▅▆▅▄▂▃▂▂▁▁</td></tr><tr><td>Validation Acc</td><td>▁▃▁▅▆▆▅▇█▇▆▆▇▇█</td></tr><tr><td>Validation Loss</td><td>██▆▅▄▄▅▂▁▁▄▂▁▁▃</td></tr></table><br/></div><div class=\"wandb-col\"><h3>Run summary:</h3><br/><table class=\"wandb\"><tr><td>Training Acc</td><td>0.94444</td></tr><tr><td>Training Loss</td><td>0.32313</td></tr><tr><td>Validation Acc</td><td>0.89583</td></tr><tr><td>Validation Loss</td><td>0.45434</td></tr><tr><td>test_accuracy</td><td>0.87143</td></tr><tr><td>test_losss</td><td>0.40932</td></tr></table><br/></div></div>"
      ],
      "text/plain": [
       "<IPython.core.display.HTML object>"
      ]
     },
     "metadata": {},
     "output_type": "display_data"
    },
    {
     "data": {
      "text/html": [
       "Synced <strong style=\"color:#cdcd00\">fancy-disco-216</strong>: <a href=\"https://wandb.ai/miraclelinzzz/Final-ensemble/runs/3vuvswsi\" target=\"_blank\">https://wandb.ai/miraclelinzzz/Final-ensemble/runs/3vuvswsi</a><br/>Synced 5 W&B file(s), 0 media file(s), 0 artifact file(s) and 0 other file(s)"
      ],
      "text/plain": [
       "<IPython.core.display.HTML object>"
      ]
     },
     "metadata": {},
     "output_type": "display_data"
    },
    {
     "data": {
      "text/html": [
       "Find logs at: <code>./wandb/run-20220818_023429-3vuvswsi/logs</code>"
      ],
      "text/plain": [
       "<IPython.core.display.HTML object>"
      ]
     },
     "metadata": {},
     "output_type": "display_data"
    },
    {
     "name": "stdout",
     "output_type": "stream",
     "text": [
      "dr-0.4,arch-[128, 512, 256],bs-16,seed-50,index-2,epoch-15\n"
     ]
    },
    {
     "data": {
      "text/html": [
       "Tracking run with wandb version 0.13.1"
      ],
      "text/plain": [
       "<IPython.core.display.HTML object>"
      ]
     },
     "metadata": {},
     "output_type": "display_data"
    },
    {
     "data": {
      "text/html": [
       "Run data is saved locally in <code>/home/jupyter/wandb/run-20220818_023543-27mb6ni9</code>"
      ],
      "text/plain": [
       "<IPython.core.display.HTML object>"
      ]
     },
     "metadata": {},
     "output_type": "display_data"
    },
    {
     "data": {
      "text/html": [
       "Syncing run <strong><a href=\"https://wandb.ai/miraclelinzzz/Final-ensemble/runs/27mb6ni9\" target=\"_blank\">robust-night-217</a></strong> to <a href=\"https://wandb.ai/miraclelinzzz/Final-ensemble\" target=\"_blank\">Weights & Biases</a> (<a href=\"https://wandb.me/run\" target=\"_blank\">docs</a>)<br/>"
      ],
      "text/plain": [
       "<IPython.core.display.HTML object>"
      ]
     },
     "metadata": {},
     "output_type": "display_data"
    },
    {
     "data": {
      "text/html": [
       "Waiting for W&B process to finish... <strong style=\"color:green\">(success).</strong>"
      ],
      "text/plain": [
       "<IPython.core.display.HTML object>"
      ]
     },
     "metadata": {},
     "output_type": "display_data"
    },
    {
     "data": {
      "text/html": [
       "<style>\n",
       "    table.wandb td:nth-child(1) { padding: 0 10px; text-align: left ; width: auto;} td:nth-child(2) {text-align: left ; width: 100%}\n",
       "    .wandb-row { display: flex; flex-direction: row; flex-wrap: wrap; justify-content: flex-start; width: 100% }\n",
       "    .wandb-col { display: flex; flex-direction: column; flex-basis: 100%; flex: 1; padding: 10px; }\n",
       "    </style>\n",
       "<div class=\"wandb-row\"><div class=\"wandb-col\"><h3>Run history:</h3><br/><table class=\"wandb\"><tr><td>Training Acc</td><td>▁▃▃▄▄▅▅▅▇▇█████</td></tr><tr><td>Training Loss</td><td>█▇▇▆▆▅▅▅▃▂▂▂▁▁▁</td></tr><tr><td>Validation Acc</td><td>▁▁▄▆▄▄▅███▇█▇▃▇</td></tr><tr><td>Validation Loss</td><td>██▇█▆▄▃▂▃▁▂▃▄▃▃</td></tr></table><br/></div><div class=\"wandb-col\"><h3>Run summary:</h3><br/><table class=\"wandb\"><tr><td>Training Acc</td><td>0.95833</td></tr><tr><td>Training Loss</td><td>0.32173</td></tr><tr><td>Validation Acc</td><td>0.875</td></tr><tr><td>Validation Loss</td><td>0.46285</td></tr><tr><td>test_accuracy</td><td>0.72679</td></tr><tr><td>test_losss</td><td>0.50543</td></tr></table><br/></div></div>"
      ],
      "text/plain": [
       "<IPython.core.display.HTML object>"
      ]
     },
     "metadata": {},
     "output_type": "display_data"
    },
    {
     "data": {
      "text/html": [
       "Synced <strong style=\"color:#cdcd00\">robust-night-217</strong>: <a href=\"https://wandb.ai/miraclelinzzz/Final-ensemble/runs/27mb6ni9\" target=\"_blank\">https://wandb.ai/miraclelinzzz/Final-ensemble/runs/27mb6ni9</a><br/>Synced 5 W&B file(s), 0 media file(s), 0 artifact file(s) and 0 other file(s)"
      ],
      "text/plain": [
       "<IPython.core.display.HTML object>"
      ]
     },
     "metadata": {},
     "output_type": "display_data"
    },
    {
     "data": {
      "text/html": [
       "Find logs at: <code>./wandb/run-20220818_023543-27mb6ni9/logs</code>"
      ],
      "text/plain": [
       "<IPython.core.display.HTML object>"
      ]
     },
     "metadata": {},
     "output_type": "display_data"
    },
    {
     "name": "stdout",
     "output_type": "stream",
     "text": [
      "dr-0.4,arch-[128, 512, 256],bs-16,seed-50,index-3,epoch-15\n"
     ]
    },
    {
     "data": {
      "text/html": [
       "Tracking run with wandb version 0.13.1"
      ],
      "text/plain": [
       "<IPython.core.display.HTML object>"
      ]
     },
     "metadata": {},
     "output_type": "display_data"
    },
    {
     "data": {
      "text/html": [
       "Run data is saved locally in <code>/home/jupyter/wandb/run-20220818_023648-1sybhy13</code>"
      ],
      "text/plain": [
       "<IPython.core.display.HTML object>"
      ]
     },
     "metadata": {},
     "output_type": "display_data"
    },
    {
     "data": {
      "text/html": [
       "Syncing run <strong><a href=\"https://wandb.ai/miraclelinzzz/Final-ensemble/runs/1sybhy13\" target=\"_blank\">hardy-smoke-218</a></strong> to <a href=\"https://wandb.ai/miraclelinzzz/Final-ensemble\" target=\"_blank\">Weights & Biases</a> (<a href=\"https://wandb.me/run\" target=\"_blank\">docs</a>)<br/>"
      ],
      "text/plain": [
       "<IPython.core.display.HTML object>"
      ]
     },
     "metadata": {},
     "output_type": "display_data"
    },
    {
     "data": {
      "text/html": [
       "Waiting for W&B process to finish... <strong style=\"color:green\">(success).</strong>"
      ],
      "text/plain": [
       "<IPython.core.display.HTML object>"
      ]
     },
     "metadata": {},
     "output_type": "display_data"
    },
    {
     "data": {
      "text/html": [
       "<style>\n",
       "    table.wandb td:nth-child(1) { padding: 0 10px; text-align: left ; width: auto;} td:nth-child(2) {text-align: left ; width: 100%}\n",
       "    .wandb-row { display: flex; flex-direction: row; flex-wrap: wrap; justify-content: flex-start; width: 100% }\n",
       "    .wandb-col { display: flex; flex-direction: column; flex-basis: 100%; flex: 1; padding: 10px; }\n",
       "    </style>\n",
       "<div class=\"wandb-row\"><div class=\"wandb-col\"><h3>Run history:</h3><br/><table class=\"wandb\"><tr><td>Training Acc</td><td>▁▂▃▃▄▅▆▅▆▆▇▇███</td></tr><tr><td>Training Loss</td><td>██▆▅▅▅▄▅▃▄▃▁▂▂▂</td></tr><tr><td>Validation Acc</td><td>▃▁▃▂▇▅▇█▅▄▆██▆█</td></tr><tr><td>Validation Loss</td><td>█▇█▆▇▇▄▂▃█▆▁▇▇▅</td></tr></table><br/></div><div class=\"wandb-col\"><h3>Run summary:</h3><br/><table class=\"wandb\"><tr><td>Training Acc</td><td>0.78472</td></tr><tr><td>Training Loss</td><td>0.54737</td></tr><tr><td>Validation Acc</td><td>0.79167</td></tr><tr><td>Validation Loss</td><td>0.61384</td></tr><tr><td>test_accuracy</td><td>0.7125</td></tr><tr><td>test_losss</td><td>0.55959</td></tr></table><br/></div></div>"
      ],
      "text/plain": [
       "<IPython.core.display.HTML object>"
      ]
     },
     "metadata": {},
     "output_type": "display_data"
    },
    {
     "data": {
      "text/html": [
       "Synced <strong style=\"color:#cdcd00\">hardy-smoke-218</strong>: <a href=\"https://wandb.ai/miraclelinzzz/Final-ensemble/runs/1sybhy13\" target=\"_blank\">https://wandb.ai/miraclelinzzz/Final-ensemble/runs/1sybhy13</a><br/>Synced 5 W&B file(s), 0 media file(s), 0 artifact file(s) and 0 other file(s)"
      ],
      "text/plain": [
       "<IPython.core.display.HTML object>"
      ]
     },
     "metadata": {},
     "output_type": "display_data"
    },
    {
     "data": {
      "text/html": [
       "Find logs at: <code>./wandb/run-20220818_023648-1sybhy13/logs</code>"
      ],
      "text/plain": [
       "<IPython.core.display.HTML object>"
      ]
     },
     "metadata": {},
     "output_type": "display_data"
    },
    {
     "name": "stdout",
     "output_type": "stream",
     "text": [
      "dr-0.3,arch-[256, 64],bs-16,seed-50,index-1,epoch-15\n"
     ]
    },
    {
     "data": {
      "text/html": [
       "Tracking run with wandb version 0.13.1"
      ],
      "text/plain": [
       "<IPython.core.display.HTML object>"
      ]
     },
     "metadata": {},
     "output_type": "display_data"
    },
    {
     "data": {
      "text/html": [
       "Run data is saved locally in <code>/home/jupyter/wandb/run-20220818_023803-36umcz5g</code>"
      ],
      "text/plain": [
       "<IPython.core.display.HTML object>"
      ]
     },
     "metadata": {},
     "output_type": "display_data"
    },
    {
     "data": {
      "text/html": [
       "Syncing run <strong><a href=\"https://wandb.ai/miraclelinzzz/Final-ensemble/runs/36umcz5g\" target=\"_blank\">dazzling-plasma-219</a></strong> to <a href=\"https://wandb.ai/miraclelinzzz/Final-ensemble\" target=\"_blank\">Weights & Biases</a> (<a href=\"https://wandb.me/run\" target=\"_blank\">docs</a>)<br/>"
      ],
      "text/plain": [
       "<IPython.core.display.HTML object>"
      ]
     },
     "metadata": {},
     "output_type": "display_data"
    },
    {
     "data": {
      "text/html": [
       "Waiting for W&B process to finish... <strong style=\"color:green\">(success).</strong>"
      ],
      "text/plain": [
       "<IPython.core.display.HTML object>"
      ]
     },
     "metadata": {},
     "output_type": "display_data"
    },
    {
     "data": {
      "text/html": [
       "<style>\n",
       "    table.wandb td:nth-child(1) { padding: 0 10px; text-align: left ; width: auto;} td:nth-child(2) {text-align: left ; width: 100%}\n",
       "    .wandb-row { display: flex; flex-direction: row; flex-wrap: wrap; justify-content: flex-start; width: 100% }\n",
       "    .wandb-col { display: flex; flex-direction: column; flex-basis: 100%; flex: 1; padding: 10px; }\n",
       "    </style>\n",
       "<div class=\"wandb-row\"><div class=\"wandb-col\"><h3>Run history:</h3><br/><table class=\"wandb\"><tr><td>Training Acc</td><td>▁▃▅▆▇▇██████▇██</td></tr><tr><td>Training Loss</td><td>█▇▅▄▃▃▂▁▂▁▁▁▂▁▁</td></tr><tr><td>Validation Acc</td><td>▁▁▆▆█▇▅█▆▅▇██▅▇</td></tr><tr><td>Validation Loss</td><td>█▇▅▃▃▂▅▁▅█▂▁▁█▂</td></tr></table><br/></div><div class=\"wandb-col\"><h3>Run summary:</h3><br/><table class=\"wandb\"><tr><td>Training Acc</td><td>1.0</td></tr><tr><td>Training Loss</td><td>0.15064</td></tr><tr><td>Validation Acc</td><td>0.85417</td></tr><tr><td>Validation Loss</td><td>0.35556</td></tr><tr><td>test_accuracy</td><td>0.81786</td></tr><tr><td>test_losss</td><td>0.48442</td></tr></table><br/></div></div>"
      ],
      "text/plain": [
       "<IPython.core.display.HTML object>"
      ]
     },
     "metadata": {},
     "output_type": "display_data"
    },
    {
     "data": {
      "text/html": [
       "Synced <strong style=\"color:#cdcd00\">dazzling-plasma-219</strong>: <a href=\"https://wandb.ai/miraclelinzzz/Final-ensemble/runs/36umcz5g\" target=\"_blank\">https://wandb.ai/miraclelinzzz/Final-ensemble/runs/36umcz5g</a><br/>Synced 5 W&B file(s), 0 media file(s), 0 artifact file(s) and 0 other file(s)"
      ],
      "text/plain": [
       "<IPython.core.display.HTML object>"
      ]
     },
     "metadata": {},
     "output_type": "display_data"
    },
    {
     "data": {
      "text/html": [
       "Find logs at: <code>./wandb/run-20220818_023803-36umcz5g/logs</code>"
      ],
      "text/plain": [
       "<IPython.core.display.HTML object>"
      ]
     },
     "metadata": {},
     "output_type": "display_data"
    },
    {
     "name": "stdout",
     "output_type": "stream",
     "text": [
      "dr-0.3,arch-[256, 64],bs-16,seed-50,index-2,epoch-15\n"
     ]
    },
    {
     "data": {
      "text/html": [
       "Tracking run with wandb version 0.13.1"
      ],
      "text/plain": [
       "<IPython.core.display.HTML object>"
      ]
     },
     "metadata": {},
     "output_type": "display_data"
    },
    {
     "data": {
      "text/html": [
       "Run data is saved locally in <code>/home/jupyter/wandb/run-20220818_023917-3qply64x</code>"
      ],
      "text/plain": [
       "<IPython.core.display.HTML object>"
      ]
     },
     "metadata": {},
     "output_type": "display_data"
    },
    {
     "data": {
      "text/html": [
       "Syncing run <strong><a href=\"https://wandb.ai/miraclelinzzz/Final-ensemble/runs/3qply64x\" target=\"_blank\">pleasant-firefly-220</a></strong> to <a href=\"https://wandb.ai/miraclelinzzz/Final-ensemble\" target=\"_blank\">Weights & Biases</a> (<a href=\"https://wandb.me/run\" target=\"_blank\">docs</a>)<br/>"
      ],
      "text/plain": [
       "<IPython.core.display.HTML object>"
      ]
     },
     "metadata": {},
     "output_type": "display_data"
    },
    {
     "data": {
      "text/html": [
       "Waiting for W&B process to finish... <strong style=\"color:green\">(success).</strong>"
      ],
      "text/plain": [
       "<IPython.core.display.HTML object>"
      ]
     },
     "metadata": {},
     "output_type": "display_data"
    },
    {
     "data": {
      "text/html": [
       "<style>\n",
       "    table.wandb td:nth-child(1) { padding: 0 10px; text-align: left ; width: auto;} td:nth-child(2) {text-align: left ; width: 100%}\n",
       "    .wandb-row { display: flex; flex-direction: row; flex-wrap: wrap; justify-content: flex-start; width: 100% }\n",
       "    .wandb-col { display: flex; flex-direction: column; flex-basis: 100%; flex: 1; padding: 10px; }\n",
       "    </style>\n",
       "<div class=\"wandb-row\"><div class=\"wandb-col\"><h3>Run history:</h3><br/><table class=\"wandb\"><tr><td>Training Acc</td><td>▁▁▂▃▄▄▄▆▇▇██▇██</td></tr><tr><td>Training Loss</td><td>███▇▆▅▅▃▃▂▂▂▂▁▁</td></tr><tr><td>Validation Acc</td><td>▃▃▁▇▃▄▆▇▆█▇████</td></tr><tr><td>Validation Loss</td><td>███▅▆▄▅▁▇▂▂▁▁▁▂</td></tr></table><br/></div><div class=\"wandb-col\"><h3>Run summary:</h3><br/><table class=\"wandb\"><tr><td>Training Acc</td><td>1.0</td></tr><tr><td>Training Loss</td><td>0.21861</td></tr><tr><td>Validation Acc</td><td>0.89583</td></tr><tr><td>Validation Loss</td><td>0.31762</td></tr><tr><td>test_accuracy</td><td>0.81786</td></tr><tr><td>test_losss</td><td>0.42156</td></tr></table><br/></div></div>"
      ],
      "text/plain": [
       "<IPython.core.display.HTML object>"
      ]
     },
     "metadata": {},
     "output_type": "display_data"
    },
    {
     "data": {
      "text/html": [
       "Synced <strong style=\"color:#cdcd00\">pleasant-firefly-220</strong>: <a href=\"https://wandb.ai/miraclelinzzz/Final-ensemble/runs/3qply64x\" target=\"_blank\">https://wandb.ai/miraclelinzzz/Final-ensemble/runs/3qply64x</a><br/>Synced 5 W&B file(s), 0 media file(s), 0 artifact file(s) and 0 other file(s)"
      ],
      "text/plain": [
       "<IPython.core.display.HTML object>"
      ]
     },
     "metadata": {},
     "output_type": "display_data"
    },
    {
     "data": {
      "text/html": [
       "Find logs at: <code>./wandb/run-20220818_023917-3qply64x/logs</code>"
      ],
      "text/plain": [
       "<IPython.core.display.HTML object>"
      ]
     },
     "metadata": {},
     "output_type": "display_data"
    },
    {
     "name": "stdout",
     "output_type": "stream",
     "text": [
      "dr-0.3,arch-[256, 64],bs-16,seed-50,index-3,epoch-15\n"
     ]
    },
    {
     "data": {
      "text/html": [
       "Tracking run with wandb version 0.13.1"
      ],
      "text/plain": [
       "<IPython.core.display.HTML object>"
      ]
     },
     "metadata": {},
     "output_type": "display_data"
    },
    {
     "data": {
      "text/html": [
       "Run data is saved locally in <code>/home/jupyter/wandb/run-20220818_024021-3u1ifn1a</code>"
      ],
      "text/plain": [
       "<IPython.core.display.HTML object>"
      ]
     },
     "metadata": {},
     "output_type": "display_data"
    },
    {
     "data": {
      "text/html": [
       "Syncing run <strong><a href=\"https://wandb.ai/miraclelinzzz/Final-ensemble/runs/3u1ifn1a\" target=\"_blank\">drawn-waterfall-221</a></strong> to <a href=\"https://wandb.ai/miraclelinzzz/Final-ensemble\" target=\"_blank\">Weights & Biases</a> (<a href=\"https://wandb.me/run\" target=\"_blank\">docs</a>)<br/>"
      ],
      "text/plain": [
       "<IPython.core.display.HTML object>"
      ]
     },
     "metadata": {},
     "output_type": "display_data"
    },
    {
     "data": {
      "text/html": [
       "Waiting for W&B process to finish... <strong style=\"color:green\">(success).</strong>"
      ],
      "text/plain": [
       "<IPython.core.display.HTML object>"
      ]
     },
     "metadata": {},
     "output_type": "display_data"
    },
    {
     "data": {
      "text/html": [
       "<style>\n",
       "    table.wandb td:nth-child(1) { padding: 0 10px; text-align: left ; width: auto;} td:nth-child(2) {text-align: left ; width: 100%}\n",
       "    .wandb-row { display: flex; flex-direction: row; flex-wrap: wrap; justify-content: flex-start; width: 100% }\n",
       "    .wandb-col { display: flex; flex-direction: column; flex-basis: 100%; flex: 1; padding: 10px; }\n",
       "    </style>\n",
       "<div class=\"wandb-row\"><div class=\"wandb-col\"><h3>Run history:</h3><br/><table class=\"wandb\"><tr><td>Training Acc</td><td>▁▃▅▇▆▇██▇█▆███▇</td></tr><tr><td>Training Loss</td><td>█▇▆▄▄▃▂▂▃▁▂▁▁▁▂</td></tr><tr><td>Validation Acc</td><td>▁▆▄▅█▅▅▅▅▅▄█▅▄▇</td></tr><tr><td>Validation Loss</td><td>▆▆▆█▃▄▆▅█▄█▁▃▇▁</td></tr></table><br/></div><div class=\"wandb-col\"><h3>Run summary:</h3><br/><table class=\"wandb\"><tr><td>Training Acc</td><td>0.94444</td></tr><tr><td>Training Loss</td><td>0.25622</td></tr><tr><td>Validation Acc</td><td>0.79167</td></tr><tr><td>Validation Loss</td><td>0.47936</td></tr><tr><td>test_accuracy</td><td>0.85893</td></tr><tr><td>test_losss</td><td>0.41709</td></tr></table><br/></div></div>"
      ],
      "text/plain": [
       "<IPython.core.display.HTML object>"
      ]
     },
     "metadata": {},
     "output_type": "display_data"
    },
    {
     "data": {
      "text/html": [
       "Synced <strong style=\"color:#cdcd00\">drawn-waterfall-221</strong>: <a href=\"https://wandb.ai/miraclelinzzz/Final-ensemble/runs/3u1ifn1a\" target=\"_blank\">https://wandb.ai/miraclelinzzz/Final-ensemble/runs/3u1ifn1a</a><br/>Synced 5 W&B file(s), 0 media file(s), 0 artifact file(s) and 0 other file(s)"
      ],
      "text/plain": [
       "<IPython.core.display.HTML object>"
      ]
     },
     "metadata": {},
     "output_type": "display_data"
    },
    {
     "data": {
      "text/html": [
       "Find logs at: <code>./wandb/run-20220818_024021-3u1ifn1a/logs</code>"
      ],
      "text/plain": [
       "<IPython.core.display.HTML object>"
      ]
     },
     "metadata": {},
     "output_type": "display_data"
    },
    {
     "name": "stdout",
     "output_type": "stream",
     "text": [
      "dr-0.4,arch-[256, 128],bs-16,seed-50,index-1,epoch-15\n"
     ]
    },
    {
     "data": {
      "text/html": [
       "Tracking run with wandb version 0.13.1"
      ],
      "text/plain": [
       "<IPython.core.display.HTML object>"
      ]
     },
     "metadata": {},
     "output_type": "display_data"
    },
    {
     "data": {
      "text/html": [
       "Run data is saved locally in <code>/home/jupyter/wandb/run-20220818_024135-6wrrkdxe</code>"
      ],
      "text/plain": [
       "<IPython.core.display.HTML object>"
      ]
     },
     "metadata": {},
     "output_type": "display_data"
    },
    {
     "data": {
      "text/html": [
       "Syncing run <strong><a href=\"https://wandb.ai/miraclelinzzz/Final-ensemble/runs/6wrrkdxe\" target=\"_blank\">wise-wave-222</a></strong> to <a href=\"https://wandb.ai/miraclelinzzz/Final-ensemble\" target=\"_blank\">Weights & Biases</a> (<a href=\"https://wandb.me/run\" target=\"_blank\">docs</a>)<br/>"
      ],
      "text/plain": [
       "<IPython.core.display.HTML object>"
      ]
     },
     "metadata": {},
     "output_type": "display_data"
    },
    {
     "data": {
      "text/html": [
       "Waiting for W&B process to finish... <strong style=\"color:green\">(success).</strong>"
      ],
      "text/plain": [
       "<IPython.core.display.HTML object>"
      ]
     },
     "metadata": {},
     "output_type": "display_data"
    },
    {
     "data": {
      "text/html": [
       "<style>\n",
       "    table.wandb td:nth-child(1) { padding: 0 10px; text-align: left ; width: auto;} td:nth-child(2) {text-align: left ; width: 100%}\n",
       "    .wandb-row { display: flex; flex-direction: row; flex-wrap: wrap; justify-content: flex-start; width: 100% }\n",
       "    .wandb-col { display: flex; flex-direction: column; flex-basis: 100%; flex: 1; padding: 10px; }\n",
       "    </style>\n",
       "<div class=\"wandb-row\"><div class=\"wandb-col\"><h3>Run history:</h3><br/><table class=\"wandb\"><tr><td>Training Acc</td><td>▁▃▃▄▆▆▇▇███████</td></tr><tr><td>Training Loss</td><td>█▇▇▆▅▃▃▂▂▁▁▂▁▁▁</td></tr><tr><td>Validation Acc</td><td>▄▁▆▆█▅▄▆▆▇██▇██</td></tr><tr><td>Validation Loss</td><td>▇▆▆▃▂█▄▅▅▂▂▁▁▁▁</td></tr></table><br/></div><div class=\"wandb-col\"><h3>Run summary:</h3><br/><table class=\"wandb\"><tr><td>Training Acc</td><td>1.0</td></tr><tr><td>Training Loss</td><td>0.15949</td></tr><tr><td>Validation Acc</td><td>0.9375</td></tr><tr><td>Validation Loss</td><td>0.28087</td></tr><tr><td>test_accuracy</td><td>0.88393</td></tr><tr><td>test_losss</td><td>0.38876</td></tr></table><br/></div></div>"
      ],
      "text/plain": [
       "<IPython.core.display.HTML object>"
      ]
     },
     "metadata": {},
     "output_type": "display_data"
    },
    {
     "data": {
      "text/html": [
       "Synced <strong style=\"color:#cdcd00\">wise-wave-222</strong>: <a href=\"https://wandb.ai/miraclelinzzz/Final-ensemble/runs/6wrrkdxe\" target=\"_blank\">https://wandb.ai/miraclelinzzz/Final-ensemble/runs/6wrrkdxe</a><br/>Synced 5 W&B file(s), 0 media file(s), 0 artifact file(s) and 0 other file(s)"
      ],
      "text/plain": [
       "<IPython.core.display.HTML object>"
      ]
     },
     "metadata": {},
     "output_type": "display_data"
    },
    {
     "data": {
      "text/html": [
       "Find logs at: <code>./wandb/run-20220818_024135-6wrrkdxe/logs</code>"
      ],
      "text/plain": [
       "<IPython.core.display.HTML object>"
      ]
     },
     "metadata": {},
     "output_type": "display_data"
    },
    {
     "name": "stdout",
     "output_type": "stream",
     "text": [
      "dr-0.4,arch-[256, 128],bs-16,seed-50,index-2,epoch-15\n"
     ]
    },
    {
     "data": {
      "text/html": [
       "Tracking run with wandb version 0.13.1"
      ],
      "text/plain": [
       "<IPython.core.display.HTML object>"
      ]
     },
     "metadata": {},
     "output_type": "display_data"
    },
    {
     "data": {
      "text/html": [
       "Run data is saved locally in <code>/home/jupyter/wandb/run-20220818_024249-1iw14f9u</code>"
      ],
      "text/plain": [
       "<IPython.core.display.HTML object>"
      ]
     },
     "metadata": {},
     "output_type": "display_data"
    },
    {
     "data": {
      "text/html": [
       "Syncing run <strong><a href=\"https://wandb.ai/miraclelinzzz/Final-ensemble/runs/1iw14f9u\" target=\"_blank\">fragrant-moon-223</a></strong> to <a href=\"https://wandb.ai/miraclelinzzz/Final-ensemble\" target=\"_blank\">Weights & Biases</a> (<a href=\"https://wandb.me/run\" target=\"_blank\">docs</a>)<br/>"
      ],
      "text/plain": [
       "<IPython.core.display.HTML object>"
      ]
     },
     "metadata": {},
     "output_type": "display_data"
    },
    {
     "data": {
      "text/html": [
       "Waiting for W&B process to finish... <strong style=\"color:green\">(success).</strong>"
      ],
      "text/plain": [
       "<IPython.core.display.HTML object>"
      ]
     },
     "metadata": {},
     "output_type": "display_data"
    },
    {
     "data": {
      "text/html": [
       "<style>\n",
       "    table.wandb td:nth-child(1) { padding: 0 10px; text-align: left ; width: auto;} td:nth-child(2) {text-align: left ; width: 100%}\n",
       "    .wandb-row { display: flex; flex-direction: row; flex-wrap: wrap; justify-content: flex-start; width: 100% }\n",
       "    .wandb-col { display: flex; flex-direction: column; flex-basis: 100%; flex: 1; padding: 10px; }\n",
       "    </style>\n",
       "<div class=\"wandb-row\"><div class=\"wandb-col\"><h3>Run history:</h3><br/><table class=\"wandb\"><tr><td>Training Acc</td><td>▁▂▃▄▅▆▇█▇█████▇</td></tr><tr><td>Training Loss</td><td>█▇▇▆▅▄▂▂▂▂▁▁▁▁▂</td></tr><tr><td>Validation Acc</td><td>▁▃▅▅▆█▄███▇████</td></tr><tr><td>Validation Loss</td><td>█▇▅▅▆▁▃▁▁▂▂▂▂▁▁</td></tr></table><br/></div><div class=\"wandb-col\"><h3>Run summary:</h3><br/><table class=\"wandb\"><tr><td>Training Acc</td><td>0.91667</td></tr><tr><td>Training Loss</td><td>0.23075</td></tr><tr><td>Validation Acc</td><td>0.875</td></tr><tr><td>Validation Loss</td><td>0.3255</td></tr><tr><td>test_accuracy</td><td>0.81786</td></tr><tr><td>test_losss</td><td>0.4311</td></tr></table><br/></div></div>"
      ],
      "text/plain": [
       "<IPython.core.display.HTML object>"
      ]
     },
     "metadata": {},
     "output_type": "display_data"
    },
    {
     "data": {
      "text/html": [
       "Synced <strong style=\"color:#cdcd00\">fragrant-moon-223</strong>: <a href=\"https://wandb.ai/miraclelinzzz/Final-ensemble/runs/1iw14f9u\" target=\"_blank\">https://wandb.ai/miraclelinzzz/Final-ensemble/runs/1iw14f9u</a><br/>Synced 5 W&B file(s), 0 media file(s), 0 artifact file(s) and 0 other file(s)"
      ],
      "text/plain": [
       "<IPython.core.display.HTML object>"
      ]
     },
     "metadata": {},
     "output_type": "display_data"
    },
    {
     "data": {
      "text/html": [
       "Find logs at: <code>./wandb/run-20220818_024249-1iw14f9u/logs</code>"
      ],
      "text/plain": [
       "<IPython.core.display.HTML object>"
      ]
     },
     "metadata": {},
     "output_type": "display_data"
    },
    {
     "name": "stdout",
     "output_type": "stream",
     "text": [
      "dr-0.4,arch-[256, 128],bs-16,seed-50,index-3,epoch-15\n"
     ]
    },
    {
     "data": {
      "text/html": [
       "Tracking run with wandb version 0.13.1"
      ],
      "text/plain": [
       "<IPython.core.display.HTML object>"
      ]
     },
     "metadata": {},
     "output_type": "display_data"
    },
    {
     "data": {
      "text/html": [
       "Run data is saved locally in <code>/home/jupyter/wandb/run-20220818_024353-234rwml7</code>"
      ],
      "text/plain": [
       "<IPython.core.display.HTML object>"
      ]
     },
     "metadata": {},
     "output_type": "display_data"
    },
    {
     "data": {
      "text/html": [
       "Syncing run <strong><a href=\"https://wandb.ai/miraclelinzzz/Final-ensemble/runs/234rwml7\" target=\"_blank\">fanciful-forest-224</a></strong> to <a href=\"https://wandb.ai/miraclelinzzz/Final-ensemble\" target=\"_blank\">Weights & Biases</a> (<a href=\"https://wandb.me/run\" target=\"_blank\">docs</a>)<br/>"
      ],
      "text/plain": [
       "<IPython.core.display.HTML object>"
      ]
     },
     "metadata": {},
     "output_type": "display_data"
    },
    {
     "data": {
      "text/html": [
       "Waiting for W&B process to finish... <strong style=\"color:green\">(success).</strong>"
      ],
      "text/plain": [
       "<IPython.core.display.HTML object>"
      ]
     },
     "metadata": {},
     "output_type": "display_data"
    },
    {
     "data": {
      "text/html": [
       "<style>\n",
       "    table.wandb td:nth-child(1) { padding: 0 10px; text-align: left ; width: auto;} td:nth-child(2) {text-align: left ; width: 100%}\n",
       "    .wandb-row { display: flex; flex-direction: row; flex-wrap: wrap; justify-content: flex-start; width: 100% }\n",
       "    .wandb-col { display: flex; flex-direction: column; flex-basis: 100%; flex: 1; padding: 10px; }\n",
       "    </style>\n",
       "<div class=\"wandb-row\"><div class=\"wandb-col\"><h3>Run history:</h3><br/><table class=\"wandb\"><tr><td>Training Acc</td><td>▁▂▄▄▇▇█▇▇████▆█</td></tr><tr><td>Training Loss</td><td>█▇▆▅▃▃▂▃▂▁▁▁▁▂▁</td></tr><tr><td>Validation Acc</td><td>▁▇█▄▅▅▆▃█▃▇▄██▄</td></tr><tr><td>Validation Loss</td><td>▃▃▃▃▃▂▂█▁▇▂▅▂▂▅</td></tr></table><br/></div><div class=\"wandb-col\"><h3>Run summary:</h3><br/><table class=\"wandb\"><tr><td>Training Acc</td><td>1.0</td></tr><tr><td>Training Loss</td><td>0.11438</td></tr><tr><td>Validation Acc</td><td>0.64583</td></tr><tr><td>Validation Loss</td><td>0.79933</td></tr><tr><td>test_accuracy</td><td>0.79286</td></tr><tr><td>test_losss</td><td>0.45847</td></tr></table><br/></div></div>"
      ],
      "text/plain": [
       "<IPython.core.display.HTML object>"
      ]
     },
     "metadata": {},
     "output_type": "display_data"
    },
    {
     "data": {
      "text/html": [
       "Synced <strong style=\"color:#cdcd00\">fanciful-forest-224</strong>: <a href=\"https://wandb.ai/miraclelinzzz/Final-ensemble/runs/234rwml7\" target=\"_blank\">https://wandb.ai/miraclelinzzz/Final-ensemble/runs/234rwml7</a><br/>Synced 5 W&B file(s), 0 media file(s), 0 artifact file(s) and 0 other file(s)"
      ],
      "text/plain": [
       "<IPython.core.display.HTML object>"
      ]
     },
     "metadata": {},
     "output_type": "display_data"
    },
    {
     "data": {
      "text/html": [
       "Find logs at: <code>./wandb/run-20220818_024353-234rwml7/logs</code>"
      ],
      "text/plain": [
       "<IPython.core.display.HTML object>"
      ]
     },
     "metadata": {},
     "output_type": "display_data"
    },
    {
     "name": "stdout",
     "output_type": "stream",
     "text": [
      "dr-0.5,arch-[512, 256],bs-16,seed-50,index-1,epoch-15\n"
     ]
    },
    {
     "data": {
      "text/html": [
       "Tracking run with wandb version 0.13.1"
      ],
      "text/plain": [
       "<IPython.core.display.HTML object>"
      ]
     },
     "metadata": {},
     "output_type": "display_data"
    },
    {
     "data": {
      "text/html": [
       "Run data is saved locally in <code>/home/jupyter/wandb/run-20220818_024508-7ov79s0z</code>"
      ],
      "text/plain": [
       "<IPython.core.display.HTML object>"
      ]
     },
     "metadata": {},
     "output_type": "display_data"
    },
    {
     "data": {
      "text/html": [
       "Syncing run <strong><a href=\"https://wandb.ai/miraclelinzzz/Final-ensemble/runs/7ov79s0z\" target=\"_blank\">swept-lion-225</a></strong> to <a href=\"https://wandb.ai/miraclelinzzz/Final-ensemble\" target=\"_blank\">Weights & Biases</a> (<a href=\"https://wandb.me/run\" target=\"_blank\">docs</a>)<br/>"
      ],
      "text/plain": [
       "<IPython.core.display.HTML object>"
      ]
     },
     "metadata": {},
     "output_type": "display_data"
    },
    {
     "data": {
      "text/html": [
       "Waiting for W&B process to finish... <strong style=\"color:green\">(success).</strong>"
      ],
      "text/plain": [
       "<IPython.core.display.HTML object>"
      ]
     },
     "metadata": {},
     "output_type": "display_data"
    },
    {
     "data": {
      "text/html": [
       "<style>\n",
       "    table.wandb td:nth-child(1) { padding: 0 10px; text-align: left ; width: auto;} td:nth-child(2) {text-align: left ; width: 100%}\n",
       "    .wandb-row { display: flex; flex-direction: row; flex-wrap: wrap; justify-content: flex-start; width: 100% }\n",
       "    .wandb-col { display: flex; flex-direction: column; flex-basis: 100%; flex: 1; padding: 10px; }\n",
       "    </style>\n",
       "<div class=\"wandb-row\"><div class=\"wandb-col\"><h3>Run history:</h3><br/><table class=\"wandb\"><tr><td>Training Acc</td><td>▁▁▃▂▅▇▇██▆█▇███</td></tr><tr><td>Training Loss</td><td>██▆▆▅▄▃▂▂▃▁▃▁▁▁</td></tr><tr><td>Validation Acc</td><td>▃▃▃▁▅▇▇▇█▆▆████</td></tr><tr><td>Validation Loss</td><td>██▇█▅▂▂▂▂█▆▂▁▁▁</td></tr></table><br/></div><div class=\"wandb-col\"><h3>Run summary:</h3><br/><table class=\"wandb\"><tr><td>Training Acc</td><td>1.0</td></tr><tr><td>Training Loss</td><td>0.10396</td></tr><tr><td>Validation Acc</td><td>0.91667</td></tr><tr><td>Validation Loss</td><td>0.24061</td></tr><tr><td>test_accuracy</td><td>0.80536</td></tr><tr><td>test_losss</td><td>0.42971</td></tr></table><br/></div></div>"
      ],
      "text/plain": [
       "<IPython.core.display.HTML object>"
      ]
     },
     "metadata": {},
     "output_type": "display_data"
    },
    {
     "data": {
      "text/html": [
       "Synced <strong style=\"color:#cdcd00\">swept-lion-225</strong>: <a href=\"https://wandb.ai/miraclelinzzz/Final-ensemble/runs/7ov79s0z\" target=\"_blank\">https://wandb.ai/miraclelinzzz/Final-ensemble/runs/7ov79s0z</a><br/>Synced 5 W&B file(s), 0 media file(s), 0 artifact file(s) and 0 other file(s)"
      ],
      "text/plain": [
       "<IPython.core.display.HTML object>"
      ]
     },
     "metadata": {},
     "output_type": "display_data"
    },
    {
     "data": {
      "text/html": [
       "Find logs at: <code>./wandb/run-20220818_024508-7ov79s0z/logs</code>"
      ],
      "text/plain": [
       "<IPython.core.display.HTML object>"
      ]
     },
     "metadata": {},
     "output_type": "display_data"
    },
    {
     "name": "stdout",
     "output_type": "stream",
     "text": [
      "dr-0.5,arch-[512, 256],bs-16,seed-50,index-2,epoch-15\n"
     ]
    },
    {
     "data": {
      "text/html": [
       "Tracking run with wandb version 0.13.1"
      ],
      "text/plain": [
       "<IPython.core.display.HTML object>"
      ]
     },
     "metadata": {},
     "output_type": "display_data"
    },
    {
     "data": {
      "text/html": [
       "Run data is saved locally in <code>/home/jupyter/wandb/run-20220818_024622-hkjdivmy</code>"
      ],
      "text/plain": [
       "<IPython.core.display.HTML object>"
      ]
     },
     "metadata": {},
     "output_type": "display_data"
    },
    {
     "data": {
      "text/html": [
       "Syncing run <strong><a href=\"https://wandb.ai/miraclelinzzz/Final-ensemble/runs/hkjdivmy\" target=\"_blank\">fine-sky-226</a></strong> to <a href=\"https://wandb.ai/miraclelinzzz/Final-ensemble\" target=\"_blank\">Weights & Biases</a> (<a href=\"https://wandb.me/run\" target=\"_blank\">docs</a>)<br/>"
      ],
      "text/plain": [
       "<IPython.core.display.HTML object>"
      ]
     },
     "metadata": {},
     "output_type": "display_data"
    },
    {
     "data": {
      "text/html": [
       "Waiting for W&B process to finish... <strong style=\"color:green\">(success).</strong>"
      ],
      "text/plain": [
       "<IPython.core.display.HTML object>"
      ]
     },
     "metadata": {},
     "output_type": "display_data"
    },
    {
     "data": {
      "text/html": [
       "<style>\n",
       "    table.wandb td:nth-child(1) { padding: 0 10px; text-align: left ; width: auto;} td:nth-child(2) {text-align: left ; width: 100%}\n",
       "    .wandb-row { display: flex; flex-direction: row; flex-wrap: wrap; justify-content: flex-start; width: 100% }\n",
       "    .wandb-col { display: flex; flex-direction: column; flex-basis: 100%; flex: 1; padding: 10px; }\n",
       "    </style>\n",
       "<div class=\"wandb-row\"><div class=\"wandb-col\"><h3>Run history:</h3><br/><table class=\"wandb\"><tr><td>Training Acc</td><td>▁▃▃▄▅▅▆▆▇██████</td></tr><tr><td>Training Loss</td><td>█▇▇▆▆▅▄▄▃▂▂▂▂▁▁</td></tr><tr><td>Validation Acc</td><td>▃▁▄▅▇▅▅▆█▇██▆▆█</td></tr><tr><td>Validation Loss</td><td>██▇▆▄▄▃▇▂▂▂▁▄▆▁</td></tr></table><br/></div><div class=\"wandb-col\"><h3>Run summary:</h3><br/><table class=\"wandb\"><tr><td>Training Acc</td><td>1.0</td></tr><tr><td>Training Loss</td><td>0.0953</td></tr><tr><td>Validation Acc</td><td>0.91667</td></tr><tr><td>Validation Loss</td><td>0.2746</td></tr><tr><td>test_accuracy</td><td>0.84643</td></tr><tr><td>test_losss</td><td>0.41523</td></tr></table><br/></div></div>"
      ],
      "text/plain": [
       "<IPython.core.display.HTML object>"
      ]
     },
     "metadata": {},
     "output_type": "display_data"
    },
    {
     "data": {
      "text/html": [
       "Synced <strong style=\"color:#cdcd00\">fine-sky-226</strong>: <a href=\"https://wandb.ai/miraclelinzzz/Final-ensemble/runs/hkjdivmy\" target=\"_blank\">https://wandb.ai/miraclelinzzz/Final-ensemble/runs/hkjdivmy</a><br/>Synced 5 W&B file(s), 0 media file(s), 0 artifact file(s) and 0 other file(s)"
      ],
      "text/plain": [
       "<IPython.core.display.HTML object>"
      ]
     },
     "metadata": {},
     "output_type": "display_data"
    },
    {
     "data": {
      "text/html": [
       "Find logs at: <code>./wandb/run-20220818_024622-hkjdivmy/logs</code>"
      ],
      "text/plain": [
       "<IPython.core.display.HTML object>"
      ]
     },
     "metadata": {},
     "output_type": "display_data"
    },
    {
     "name": "stdout",
     "output_type": "stream",
     "text": [
      "dr-0.5,arch-[512, 256],bs-16,seed-50,index-3,epoch-15\n"
     ]
    },
    {
     "data": {
      "text/html": [
       "Tracking run with wandb version 0.13.1"
      ],
      "text/plain": [
       "<IPython.core.display.HTML object>"
      ]
     },
     "metadata": {},
     "output_type": "display_data"
    },
    {
     "data": {
      "text/html": [
       "Run data is saved locally in <code>/home/jupyter/wandb/run-20220818_024727-250fi4i8</code>"
      ],
      "text/plain": [
       "<IPython.core.display.HTML object>"
      ]
     },
     "metadata": {},
     "output_type": "display_data"
    },
    {
     "data": {
      "text/html": [
       "Syncing run <strong><a href=\"https://wandb.ai/miraclelinzzz/Final-ensemble/runs/250fi4i8\" target=\"_blank\">soft-bird-227</a></strong> to <a href=\"https://wandb.ai/miraclelinzzz/Final-ensemble\" target=\"_blank\">Weights & Biases</a> (<a href=\"https://wandb.me/run\" target=\"_blank\">docs</a>)<br/>"
      ],
      "text/plain": [
       "<IPython.core.display.HTML object>"
      ]
     },
     "metadata": {},
     "output_type": "display_data"
    },
    {
     "data": {
      "text/html": [
       "Waiting for W&B process to finish... <strong style=\"color:green\">(success).</strong>"
      ],
      "text/plain": [
       "<IPython.core.display.HTML object>"
      ]
     },
     "metadata": {},
     "output_type": "display_data"
    },
    {
     "data": {
      "text/html": [
       "<style>\n",
       "    table.wandb td:nth-child(1) { padding: 0 10px; text-align: left ; width: auto;} td:nth-child(2) {text-align: left ; width: 100%}\n",
       "    .wandb-row { display: flex; flex-direction: row; flex-wrap: wrap; justify-content: flex-start; width: 100% }\n",
       "    .wandb-col { display: flex; flex-direction: column; flex-basis: 100%; flex: 1; padding: 10px; }\n",
       "    </style>\n",
       "<div class=\"wandb-row\"><div class=\"wandb-col\"><h3>Run history:</h3><br/><table class=\"wandb\"><tr><td>Training Acc</td><td>▁▁▃▃▅▆▇████████</td></tr><tr><td>Training Loss</td><td>█▇▇▆▅▄▃▂▂▁▂▁▁▁▁</td></tr><tr><td>Validation Acc</td><td>▁▅▇▅██▆▅▇█▅▅▇▃▆</td></tr><tr><td>Validation Loss</td><td>▃▂▂▃▂▁▃▄▃▁▅▅▂█▄</td></tr></table><br/></div><div class=\"wandb-col\"><h3>Run summary:</h3><br/><table class=\"wandb\"><tr><td>Training Acc</td><td>1.0</td></tr><tr><td>Training Loss</td><td>0.09925</td></tr><tr><td>Validation Acc</td><td>0.64583</td></tr><tr><td>Validation Loss</td><td>0.88508</td></tr><tr><td>test_accuracy</td><td>0.80536</td></tr><tr><td>test_losss</td><td>0.44297</td></tr></table><br/></div></div>"
      ],
      "text/plain": [
       "<IPython.core.display.HTML object>"
      ]
     },
     "metadata": {},
     "output_type": "display_data"
    },
    {
     "data": {
      "text/html": [
       "Synced <strong style=\"color:#cdcd00\">soft-bird-227</strong>: <a href=\"https://wandb.ai/miraclelinzzz/Final-ensemble/runs/250fi4i8\" target=\"_blank\">https://wandb.ai/miraclelinzzz/Final-ensemble/runs/250fi4i8</a><br/>Synced 5 W&B file(s), 0 media file(s), 0 artifact file(s) and 0 other file(s)"
      ],
      "text/plain": [
       "<IPython.core.display.HTML object>"
      ]
     },
     "metadata": {},
     "output_type": "display_data"
    },
    {
     "data": {
      "text/html": [
       "Find logs at: <code>./wandb/run-20220818_024727-250fi4i8/logs</code>"
      ],
      "text/plain": [
       "<IPython.core.display.HTML object>"
      ]
     },
     "metadata": {},
     "output_type": "display_data"
    },
    {
     "name": "stdout",
     "output_type": "stream",
     "text": [
      "dr-0.3,arch-[256, 64, 128],bs-16,seed-50,index-1,epoch-15\n"
     ]
    },
    {
     "data": {
      "text/html": [
       "Tracking run with wandb version 0.13.1"
      ],
      "text/plain": [
       "<IPython.core.display.HTML object>"
      ]
     },
     "metadata": {},
     "output_type": "display_data"
    },
    {
     "data": {
      "text/html": [
       "Run data is saved locally in <code>/home/jupyter/wandb/run-20220818_024841-1svde2lh</code>"
      ],
      "text/plain": [
       "<IPython.core.display.HTML object>"
      ]
     },
     "metadata": {},
     "output_type": "display_data"
    },
    {
     "data": {
      "text/html": [
       "Syncing run <strong><a href=\"https://wandb.ai/miraclelinzzz/Final-ensemble/runs/1svde2lh\" target=\"_blank\">comfy-sunset-228</a></strong> to <a href=\"https://wandb.ai/miraclelinzzz/Final-ensemble\" target=\"_blank\">Weights & Biases</a> (<a href=\"https://wandb.me/run\" target=\"_blank\">docs</a>)<br/>"
      ],
      "text/plain": [
       "<IPython.core.display.HTML object>"
      ]
     },
     "metadata": {},
     "output_type": "display_data"
    },
    {
     "data": {
      "text/html": [
       "Waiting for W&B process to finish... <strong style=\"color:green\">(success).</strong>"
      ],
      "text/plain": [
       "<IPython.core.display.HTML object>"
      ]
     },
     "metadata": {},
     "output_type": "display_data"
    },
    {
     "data": {
      "text/html": [
       "<style>\n",
       "    table.wandb td:nth-child(1) { padding: 0 10px; text-align: left ; width: auto;} td:nth-child(2) {text-align: left ; width: 100%}\n",
       "    .wandb-row { display: flex; flex-direction: row; flex-wrap: wrap; justify-content: flex-start; width: 100% }\n",
       "    .wandb-col { display: flex; flex-direction: column; flex-basis: 100%; flex: 1; padding: 10px; }\n",
       "    </style>\n",
       "<div class=\"wandb-row\"><div class=\"wandb-col\"><h3>Run history:</h3><br/><table class=\"wandb\"><tr><td>Training Acc</td><td>▁▁▂▃▅▄▆▇▇▇▇▇██▇</td></tr><tr><td>Training Loss</td><td>██▆▅▅▄▄▃▂▂▁▁▁▂▂</td></tr><tr><td>Validation Acc</td><td>▁▁▃▃█▇▇▂█▇█▄█▆▅</td></tr><tr><td>Validation Loss</td><td>█▇▆▆▄▄▂▆▃▁▁▄▂▂▅</td></tr></table><br/></div><div class=\"wandb-col\"><h3>Run summary:</h3><br/><table class=\"wandb\"><tr><td>Training Acc</td><td>0.88889</td></tr><tr><td>Training Loss</td><td>0.37512</td></tr><tr><td>Validation Acc</td><td>0.70833</td></tr><tr><td>Validation Loss</td><td>0.56377</td></tr><tr><td>test_accuracy</td><td>0.83036</td></tr><tr><td>test_losss</td><td>0.46312</td></tr></table><br/></div></div>"
      ],
      "text/plain": [
       "<IPython.core.display.HTML object>"
      ]
     },
     "metadata": {},
     "output_type": "display_data"
    },
    {
     "data": {
      "text/html": [
       "Synced <strong style=\"color:#cdcd00\">comfy-sunset-228</strong>: <a href=\"https://wandb.ai/miraclelinzzz/Final-ensemble/runs/1svde2lh\" target=\"_blank\">https://wandb.ai/miraclelinzzz/Final-ensemble/runs/1svde2lh</a><br/>Synced 5 W&B file(s), 0 media file(s), 0 artifact file(s) and 0 other file(s)"
      ],
      "text/plain": [
       "<IPython.core.display.HTML object>"
      ]
     },
     "metadata": {},
     "output_type": "display_data"
    },
    {
     "data": {
      "text/html": [
       "Find logs at: <code>./wandb/run-20220818_024841-1svde2lh/logs</code>"
      ],
      "text/plain": [
       "<IPython.core.display.HTML object>"
      ]
     },
     "metadata": {},
     "output_type": "display_data"
    },
    {
     "name": "stdout",
     "output_type": "stream",
     "text": [
      "dr-0.3,arch-[256, 64, 128],bs-16,seed-50,index-2,epoch-15\n"
     ]
    },
    {
     "data": {
      "text/html": [
       "Tracking run with wandb version 0.13.1"
      ],
      "text/plain": [
       "<IPython.core.display.HTML object>"
      ]
     },
     "metadata": {},
     "output_type": "display_data"
    },
    {
     "data": {
      "text/html": [
       "Run data is saved locally in <code>/home/jupyter/wandb/run-20220818_024956-19ria5xe</code>"
      ],
      "text/plain": [
       "<IPython.core.display.HTML object>"
      ]
     },
     "metadata": {},
     "output_type": "display_data"
    },
    {
     "data": {
      "text/html": [
       "Syncing run <strong><a href=\"https://wandb.ai/miraclelinzzz/Final-ensemble/runs/19ria5xe\" target=\"_blank\">peachy-jazz-229</a></strong> to <a href=\"https://wandb.ai/miraclelinzzz/Final-ensemble\" target=\"_blank\">Weights & Biases</a> (<a href=\"https://wandb.me/run\" target=\"_blank\">docs</a>)<br/>"
      ],
      "text/plain": [
       "<IPython.core.display.HTML object>"
      ]
     },
     "metadata": {},
     "output_type": "display_data"
    },
    {
     "data": {
      "text/html": [
       "Waiting for W&B process to finish... <strong style=\"color:green\">(success).</strong>"
      ],
      "text/plain": [
       "<IPython.core.display.HTML object>"
      ]
     },
     "metadata": {},
     "output_type": "display_data"
    },
    {
     "data": {
      "text/html": [
       "<style>\n",
       "    table.wandb td:nth-child(1) { padding: 0 10px; text-align: left ; width: auto;} td:nth-child(2) {text-align: left ; width: 100%}\n",
       "    .wandb-row { display: flex; flex-direction: row; flex-wrap: wrap; justify-content: flex-start; width: 100% }\n",
       "    .wandb-col { display: flex; flex-direction: column; flex-basis: 100%; flex: 1; padding: 10px; }\n",
       "    </style>\n",
       "<div class=\"wandb-row\"><div class=\"wandb-col\"><h3>Run history:</h3><br/><table class=\"wandb\"><tr><td>Training Acc</td><td>▂▂▁▁▄▄▄▅▅▅▄▆▇█▆</td></tr><tr><td>Training Loss</td><td>██▇▇▅▅▅▅▄▃▃▂▂▁▃</td></tr><tr><td>Validation Acc</td><td>▅▁▃▃▄▄▅▂▄▅▄█▅▆█</td></tr><tr><td>Validation Loss</td><td>▇█▇▆▆▅▃▇▄▄▄▄▃▂▁</td></tr></table><br/></div><div class=\"wandb-col\"><h3>Run summary:</h3><br/><table class=\"wandb\"><tr><td>Training Acc</td><td>0.61111</td></tr><tr><td>Training Loss</td><td>0.53478</td></tr><tr><td>Validation Acc</td><td>0.8125</td></tr><tr><td>Validation Loss</td><td>0.38033</td></tr><tr><td>test_accuracy</td><td>0.68036</td></tr><tr><td>test_losss</td><td>0.50567</td></tr></table><br/></div></div>"
      ],
      "text/plain": [
       "<IPython.core.display.HTML object>"
      ]
     },
     "metadata": {},
     "output_type": "display_data"
    },
    {
     "data": {
      "text/html": [
       "Synced <strong style=\"color:#cdcd00\">peachy-jazz-229</strong>: <a href=\"https://wandb.ai/miraclelinzzz/Final-ensemble/runs/19ria5xe\" target=\"_blank\">https://wandb.ai/miraclelinzzz/Final-ensemble/runs/19ria5xe</a><br/>Synced 5 W&B file(s), 0 media file(s), 0 artifact file(s) and 0 other file(s)"
      ],
      "text/plain": [
       "<IPython.core.display.HTML object>"
      ]
     },
     "metadata": {},
     "output_type": "display_data"
    },
    {
     "data": {
      "text/html": [
       "Find logs at: <code>./wandb/run-20220818_024956-19ria5xe/logs</code>"
      ],
      "text/plain": [
       "<IPython.core.display.HTML object>"
      ]
     },
     "metadata": {},
     "output_type": "display_data"
    },
    {
     "name": "stdout",
     "output_type": "stream",
     "text": [
      "dr-0.3,arch-[256, 64, 128],bs-16,seed-50,index-3,epoch-15\n"
     ]
    },
    {
     "data": {
      "text/html": [
       "Tracking run with wandb version 0.13.1"
      ],
      "text/plain": [
       "<IPython.core.display.HTML object>"
      ]
     },
     "metadata": {},
     "output_type": "display_data"
    },
    {
     "data": {
      "text/html": [
       "Run data is saved locally in <code>/home/jupyter/wandb/run-20220818_025100-14v9ftr6</code>"
      ],
      "text/plain": [
       "<IPython.core.display.HTML object>"
      ]
     },
     "metadata": {},
     "output_type": "display_data"
    },
    {
     "data": {
      "text/html": [
       "Syncing run <strong><a href=\"https://wandb.ai/miraclelinzzz/Final-ensemble/runs/14v9ftr6\" target=\"_blank\">gentle-sunset-230</a></strong> to <a href=\"https://wandb.ai/miraclelinzzz/Final-ensemble\" target=\"_blank\">Weights & Biases</a> (<a href=\"https://wandb.me/run\" target=\"_blank\">docs</a>)<br/>"
      ],
      "text/plain": [
       "<IPython.core.display.HTML object>"
      ]
     },
     "metadata": {},
     "output_type": "display_data"
    },
    {
     "data": {
      "text/html": [
       "Waiting for W&B process to finish... <strong style=\"color:green\">(success).</strong>"
      ],
      "text/plain": [
       "<IPython.core.display.HTML object>"
      ]
     },
     "metadata": {},
     "output_type": "display_data"
    },
    {
     "data": {
      "text/html": [
       "<style>\n",
       "    table.wandb td:nth-child(1) { padding: 0 10px; text-align: left ; width: auto;} td:nth-child(2) {text-align: left ; width: 100%}\n",
       "    .wandb-row { display: flex; flex-direction: row; flex-wrap: wrap; justify-content: flex-start; width: 100% }\n",
       "    .wandb-col { display: flex; flex-direction: column; flex-basis: 100%; flex: 1; padding: 10px; }\n",
       "    </style>\n",
       "<div class=\"wandb-row\"><div class=\"wandb-col\"><h3>Run history:</h3><br/><table class=\"wandb\"><tr><td>Training Acc</td><td>▁▂▂▄▅▅▅▇▇▆▇█▇██</td></tr><tr><td>Training Loss</td><td>█▇▇▆▅▄▄▃▂▃▂▂▂▂▁</td></tr><tr><td>Validation Acc</td><td>▁▅▇▅▇▇██▂▅▅▆▅▄▅</td></tr><tr><td>Validation Loss</td><td>▆▆▃▅▂▄▁▄█▇▄▃▃█▄</td></tr></table><br/></div><div class=\"wandb-col\"><h3>Run summary:</h3><br/><table class=\"wandb\"><tr><td>Training Acc</td><td>0.95833</td></tr><tr><td>Training Loss</td><td>0.30797</td></tr><tr><td>Validation Acc</td><td>0.66667</td></tr><tr><td>Validation Loss</td><td>0.6095</td></tr><tr><td>test_accuracy</td><td>0.83393</td></tr><tr><td>test_losss</td><td>0.47478</td></tr></table><br/></div></div>"
      ],
      "text/plain": [
       "<IPython.core.display.HTML object>"
      ]
     },
     "metadata": {},
     "output_type": "display_data"
    },
    {
     "data": {
      "text/html": [
       "Synced <strong style=\"color:#cdcd00\">gentle-sunset-230</strong>: <a href=\"https://wandb.ai/miraclelinzzz/Final-ensemble/runs/14v9ftr6\" target=\"_blank\">https://wandb.ai/miraclelinzzz/Final-ensemble/runs/14v9ftr6</a><br/>Synced 5 W&B file(s), 0 media file(s), 0 artifact file(s) and 0 other file(s)"
      ],
      "text/plain": [
       "<IPython.core.display.HTML object>"
      ]
     },
     "metadata": {},
     "output_type": "display_data"
    },
    {
     "data": {
      "text/html": [
       "Find logs at: <code>./wandb/run-20220818_025100-14v9ftr6/logs</code>"
      ],
      "text/plain": [
       "<IPython.core.display.HTML object>"
      ]
     },
     "metadata": {},
     "output_type": "display_data"
    },
    {
     "name": "stdout",
     "output_type": "stream",
     "text": [
      "dr-0.4,arch-[512, 256, 64],bs-16,seed-50,index-1,epoch-15\n"
     ]
    },
    {
     "data": {
      "text/html": [
       "Tracking run with wandb version 0.13.1"
      ],
      "text/plain": [
       "<IPython.core.display.HTML object>"
      ]
     },
     "metadata": {},
     "output_type": "display_data"
    },
    {
     "data": {
      "text/html": [
       "Run data is saved locally in <code>/home/jupyter/wandb/run-20220818_025214-15fhpphe</code>"
      ],
      "text/plain": [
       "<IPython.core.display.HTML object>"
      ]
     },
     "metadata": {},
     "output_type": "display_data"
    },
    {
     "data": {
      "text/html": [
       "Syncing run <strong><a href=\"https://wandb.ai/miraclelinzzz/Final-ensemble/runs/15fhpphe\" target=\"_blank\">brisk-plasma-231</a></strong> to <a href=\"https://wandb.ai/miraclelinzzz/Final-ensemble\" target=\"_blank\">Weights & Biases</a> (<a href=\"https://wandb.me/run\" target=\"_blank\">docs</a>)<br/>"
      ],
      "text/plain": [
       "<IPython.core.display.HTML object>"
      ]
     },
     "metadata": {},
     "output_type": "display_data"
    },
    {
     "data": {
      "text/html": [
       "Waiting for W&B process to finish... <strong style=\"color:green\">(success).</strong>"
      ],
      "text/plain": [
       "<IPython.core.display.HTML object>"
      ]
     },
     "metadata": {},
     "output_type": "display_data"
    },
    {
     "data": {
      "text/html": [
       "<style>\n",
       "    table.wandb td:nth-child(1) { padding: 0 10px; text-align: left ; width: auto;} td:nth-child(2) {text-align: left ; width: 100%}\n",
       "    .wandb-row { display: flex; flex-direction: row; flex-wrap: wrap; justify-content: flex-start; width: 100% }\n",
       "    .wandb-col { display: flex; flex-direction: column; flex-basis: 100%; flex: 1; padding: 10px; }\n",
       "    </style>\n",
       "<div class=\"wandb-row\"><div class=\"wandb-col\"><h3>Run history:</h3><br/><table class=\"wandb\"><tr><td>Training Acc</td><td>▂▁▂▂▂▅▅▄▆▆▆████</td></tr><tr><td>Training Loss</td><td>▇█▆▇▆▅▅▅▃▃▃▁▁▂▂</td></tr><tr><td>Validation Acc</td><td>▁▁▁▄▅▇▇▇▃█▇▇▄▇▇</td></tr><tr><td>Validation Loss</td><td>▇▇▇█▄▅▅▂▅▂▂▁▅▂▃</td></tr></table><br/></div><div class=\"wandb-col\"><h3>Run summary:</h3><br/><table class=\"wandb\"><tr><td>Training Acc</td><td>0.88889</td></tr><tr><td>Training Loss</td><td>0.47199</td></tr><tr><td>Validation Acc</td><td>0.85417</td></tr><tr><td>Validation Loss</td><td>0.48873</td></tr><tr><td>test_accuracy</td><td>0.78036</td></tr><tr><td>test_losss</td><td>0.51295</td></tr></table><br/></div></div>"
      ],
      "text/plain": [
       "<IPython.core.display.HTML object>"
      ]
     },
     "metadata": {},
     "output_type": "display_data"
    },
    {
     "data": {
      "text/html": [
       "Synced <strong style=\"color:#cdcd00\">brisk-plasma-231</strong>: <a href=\"https://wandb.ai/miraclelinzzz/Final-ensemble/runs/15fhpphe\" target=\"_blank\">https://wandb.ai/miraclelinzzz/Final-ensemble/runs/15fhpphe</a><br/>Synced 5 W&B file(s), 0 media file(s), 0 artifact file(s) and 0 other file(s)"
      ],
      "text/plain": [
       "<IPython.core.display.HTML object>"
      ]
     },
     "metadata": {},
     "output_type": "display_data"
    },
    {
     "data": {
      "text/html": [
       "Find logs at: <code>./wandb/run-20220818_025214-15fhpphe/logs</code>"
      ],
      "text/plain": [
       "<IPython.core.display.HTML object>"
      ]
     },
     "metadata": {},
     "output_type": "display_data"
    },
    {
     "name": "stdout",
     "output_type": "stream",
     "text": [
      "dr-0.4,arch-[512, 256, 64],bs-16,seed-50,index-2,epoch-15\n"
     ]
    },
    {
     "data": {
      "text/html": [
       "Tracking run with wandb version 0.13.1"
      ],
      "text/plain": [
       "<IPython.core.display.HTML object>"
      ]
     },
     "metadata": {},
     "output_type": "display_data"
    },
    {
     "data": {
      "text/html": [
       "Run data is saved locally in <code>/home/jupyter/wandb/run-20220818_025330-2hb19tv6</code>"
      ],
      "text/plain": [
       "<IPython.core.display.HTML object>"
      ]
     },
     "metadata": {},
     "output_type": "display_data"
    },
    {
     "data": {
      "text/html": [
       "Syncing run <strong><a href=\"https://wandb.ai/miraclelinzzz/Final-ensemble/runs/2hb19tv6\" target=\"_blank\">chocolate-energy-232</a></strong> to <a href=\"https://wandb.ai/miraclelinzzz/Final-ensemble\" target=\"_blank\">Weights & Biases</a> (<a href=\"https://wandb.me/run\" target=\"_blank\">docs</a>)<br/>"
      ],
      "text/plain": [
       "<IPython.core.display.HTML object>"
      ]
     },
     "metadata": {},
     "output_type": "display_data"
    },
    {
     "data": {
      "text/html": [
       "Waiting for W&B process to finish... <strong style=\"color:green\">(success).</strong>"
      ],
      "text/plain": [
       "<IPython.core.display.HTML object>"
      ]
     },
     "metadata": {},
     "output_type": "display_data"
    },
    {
     "data": {
      "text/html": [
       "<style>\n",
       "    table.wandb td:nth-child(1) { padding: 0 10px; text-align: left ; width: auto;} td:nth-child(2) {text-align: left ; width: 100%}\n",
       "    .wandb-row { display: flex; flex-direction: row; flex-wrap: wrap; justify-content: flex-start; width: 100% }\n",
       "    .wandb-col { display: flex; flex-direction: column; flex-basis: 100%; flex: 1; padding: 10px; }\n",
       "    </style>\n",
       "<div class=\"wandb-row\"><div class=\"wandb-col\"><h3>Run history:</h3><br/><table class=\"wandb\"><tr><td>Training Acc</td><td>▃▃▃▃▁▅▄▅▃▆▇▇▆▆█</td></tr><tr><td>Training Loss</td><td>▇█▆▅█▇▅▆▄▄▃▃▄▂▁</td></tr><tr><td>Validation Acc</td><td>▄▄▄▁▁▁▁▄▃▄█▆▃▇▇</td></tr><tr><td>Validation Loss</td><td>███▇▇▆▆▅▃▂▂▁▃▁▁</td></tr></table><br/></div><div class=\"wandb-col\"><h3>Run summary:</h3><br/><table class=\"wandb\"><tr><td>Training Acc</td><td>0.6875</td></tr><tr><td>Training Loss</td><td>0.54521</td></tr><tr><td>Validation Acc</td><td>0.64583</td></tr><tr><td>Validation Loss</td><td>0.51586</td></tr><tr><td>test_accuracy</td><td>0.59286</td></tr><tr><td>test_losss</td><td>0.55943</td></tr></table><br/></div></div>"
      ],
      "text/plain": [
       "<IPython.core.display.HTML object>"
      ]
     },
     "metadata": {},
     "output_type": "display_data"
    },
    {
     "data": {
      "text/html": [
       "Synced <strong style=\"color:#cdcd00\">chocolate-energy-232</strong>: <a href=\"https://wandb.ai/miraclelinzzz/Final-ensemble/runs/2hb19tv6\" target=\"_blank\">https://wandb.ai/miraclelinzzz/Final-ensemble/runs/2hb19tv6</a><br/>Synced 5 W&B file(s), 0 media file(s), 0 artifact file(s) and 0 other file(s)"
      ],
      "text/plain": [
       "<IPython.core.display.HTML object>"
      ]
     },
     "metadata": {},
     "output_type": "display_data"
    },
    {
     "data": {
      "text/html": [
       "Find logs at: <code>./wandb/run-20220818_025330-2hb19tv6/logs</code>"
      ],
      "text/plain": [
       "<IPython.core.display.HTML object>"
      ]
     },
     "metadata": {},
     "output_type": "display_data"
    },
    {
     "name": "stdout",
     "output_type": "stream",
     "text": [
      "dr-0.4,arch-[512, 256, 64],bs-16,seed-50,index-3,epoch-15\n"
     ]
    },
    {
     "data": {
      "text/html": [
       "Tracking run with wandb version 0.13.1"
      ],
      "text/plain": [
       "<IPython.core.display.HTML object>"
      ]
     },
     "metadata": {},
     "output_type": "display_data"
    },
    {
     "data": {
      "text/html": [
       "Run data is saved locally in <code>/home/jupyter/wandb/run-20220818_025435-2sl1bosf</code>"
      ],
      "text/plain": [
       "<IPython.core.display.HTML object>"
      ]
     },
     "metadata": {},
     "output_type": "display_data"
    },
    {
     "data": {
      "text/html": [
       "Syncing run <strong><a href=\"https://wandb.ai/miraclelinzzz/Final-ensemble/runs/2sl1bosf\" target=\"_blank\">upbeat-feather-233</a></strong> to <a href=\"https://wandb.ai/miraclelinzzz/Final-ensemble\" target=\"_blank\">Weights & Biases</a> (<a href=\"https://wandb.me/run\" target=\"_blank\">docs</a>)<br/>"
      ],
      "text/plain": [
       "<IPython.core.display.HTML object>"
      ]
     },
     "metadata": {},
     "output_type": "display_data"
    },
    {
     "data": {
      "text/html": [
       "Waiting for W&B process to finish... <strong style=\"color:green\">(success).</strong>"
      ],
      "text/plain": [
       "<IPython.core.display.HTML object>"
      ]
     },
     "metadata": {},
     "output_type": "display_data"
    },
    {
     "data": {
      "text/html": [
       "<style>\n",
       "    table.wandb td:nth-child(1) { padding: 0 10px; text-align: left ; width: auto;} td:nth-child(2) {text-align: left ; width: 100%}\n",
       "    .wandb-row { display: flex; flex-direction: row; flex-wrap: wrap; justify-content: flex-start; width: 100% }\n",
       "    .wandb-col { display: flex; flex-direction: column; flex-basis: 100%; flex: 1; padding: 10px; }\n",
       "    </style>\n",
       "<div class=\"wandb-row\"><div class=\"wandb-col\"><h3>Run history:</h3><br/><table class=\"wandb\"><tr><td>Training Acc</td><td>▁▁▃▂▄▄▅▇▇▇▇▇███</td></tr><tr><td>Training Loss</td><td>█▇▆▆▅▅▄▃▂▂▂▂▁▁▁</td></tr><tr><td>Validation Acc</td><td>▁▃▃▅▅▇█▆███▆▆▆█</td></tr><tr><td>Validation Loss</td><td>▇▇▇▅▄▃█▅▃▁▁▆▄█▁</td></tr></table><br/></div><div class=\"wandb-col\"><h3>Run summary:</h3><br/><table class=\"wandb\"><tr><td>Training Acc</td><td>0.88889</td></tr><tr><td>Training Loss</td><td>0.35115</td></tr><tr><td>Validation Acc</td><td>0.8125</td></tr><tr><td>Validation Loss</td><td>0.50536</td></tr><tr><td>test_accuracy</td><td>0.84643</td></tr><tr><td>test_losss</td><td>0.46594</td></tr></table><br/></div></div>"
      ],
      "text/plain": [
       "<IPython.core.display.HTML object>"
      ]
     },
     "metadata": {},
     "output_type": "display_data"
    },
    {
     "data": {
      "text/html": [
       "Synced <strong style=\"color:#cdcd00\">upbeat-feather-233</strong>: <a href=\"https://wandb.ai/miraclelinzzz/Final-ensemble/runs/2sl1bosf\" target=\"_blank\">https://wandb.ai/miraclelinzzz/Final-ensemble/runs/2sl1bosf</a><br/>Synced 5 W&B file(s), 0 media file(s), 0 artifact file(s) and 0 other file(s)"
      ],
      "text/plain": [
       "<IPython.core.display.HTML object>"
      ]
     },
     "metadata": {},
     "output_type": "display_data"
    },
    {
     "data": {
      "text/html": [
       "Find logs at: <code>./wandb/run-20220818_025435-2sl1bosf/logs</code>"
      ],
      "text/plain": [
       "<IPython.core.display.HTML object>"
      ]
     },
     "metadata": {},
     "output_type": "display_data"
    },
    {
     "name": "stdout",
     "output_type": "stream",
     "text": [
      "dr-0.5,arch-[128],bs-16,seed-50,index-1,epoch-15\n"
     ]
    },
    {
     "data": {
      "text/html": [
       "Tracking run with wandb version 0.13.1"
      ],
      "text/plain": [
       "<IPython.core.display.HTML object>"
      ]
     },
     "metadata": {},
     "output_type": "display_data"
    },
    {
     "data": {
      "text/html": [
       "Run data is saved locally in <code>/home/jupyter/wandb/run-20220818_025549-2m51fhr2</code>"
      ],
      "text/plain": [
       "<IPython.core.display.HTML object>"
      ]
     },
     "metadata": {},
     "output_type": "display_data"
    },
    {
     "data": {
      "text/html": [
       "Syncing run <strong><a href=\"https://wandb.ai/miraclelinzzz/Final-ensemble/runs/2m51fhr2\" target=\"_blank\">scarlet-terrain-234</a></strong> to <a href=\"https://wandb.ai/miraclelinzzz/Final-ensemble\" target=\"_blank\">Weights & Biases</a> (<a href=\"https://wandb.me/run\" target=\"_blank\">docs</a>)<br/>"
      ],
      "text/plain": [
       "<IPython.core.display.HTML object>"
      ]
     },
     "metadata": {},
     "output_type": "display_data"
    },
    {
     "data": {
      "text/html": [
       "Waiting for W&B process to finish... <strong style=\"color:green\">(success).</strong>"
      ],
      "text/plain": [
       "<IPython.core.display.HTML object>"
      ]
     },
     "metadata": {},
     "output_type": "display_data"
    },
    {
     "data": {
      "text/html": [
       "<style>\n",
       "    table.wandb td:nth-child(1) { padding: 0 10px; text-align: left ; width: auto;} td:nth-child(2) {text-align: left ; width: 100%}\n",
       "    .wandb-row { display: flex; flex-direction: row; flex-wrap: wrap; justify-content: flex-start; width: 100% }\n",
       "    .wandb-col { display: flex; flex-direction: column; flex-basis: 100%; flex: 1; padding: 10px; }\n",
       "    </style>\n",
       "<div class=\"wandb-row\"><div class=\"wandb-col\"><h3>Run history:</h3><br/><table class=\"wandb\"><tr><td>Training Acc</td><td>▁▄▅▇▇███████▇██</td></tr><tr><td>Training Loss</td><td>█▆▅▃▂▁▁▁▁▁▁▁▂▁▁</td></tr><tr><td>Validation Acc</td><td>▂▁▇▇▆█▆██▆██▆██</td></tr><tr><td>Validation Loss</td><td>▆▇▃▁█▃▄▁▁▇▁▁▇▁▁</td></tr></table><br/></div><div class=\"wandb-col\"><h3>Run summary:</h3><br/><table class=\"wandb\"><tr><td>Training Acc</td><td>1.0</td></tr><tr><td>Training Loss</td><td>0.07764</td></tr><tr><td>Validation Acc</td><td>0.91667</td></tr><tr><td>Validation Loss</td><td>0.2921</td></tr><tr><td>test_accuracy</td><td>0.84286</td></tr><tr><td>test_losss</td><td>0.47063</td></tr></table><br/></div></div>"
      ],
      "text/plain": [
       "<IPython.core.display.HTML object>"
      ]
     },
     "metadata": {},
     "output_type": "display_data"
    },
    {
     "data": {
      "text/html": [
       "Synced <strong style=\"color:#cdcd00\">scarlet-terrain-234</strong>: <a href=\"https://wandb.ai/miraclelinzzz/Final-ensemble/runs/2m51fhr2\" target=\"_blank\">https://wandb.ai/miraclelinzzz/Final-ensemble/runs/2m51fhr2</a><br/>Synced 5 W&B file(s), 0 media file(s), 0 artifact file(s) and 0 other file(s)"
      ],
      "text/plain": [
       "<IPython.core.display.HTML object>"
      ]
     },
     "metadata": {},
     "output_type": "display_data"
    },
    {
     "data": {
      "text/html": [
       "Find logs at: <code>./wandb/run-20220818_025549-2m51fhr2/logs</code>"
      ],
      "text/plain": [
       "<IPython.core.display.HTML object>"
      ]
     },
     "metadata": {},
     "output_type": "display_data"
    },
    {
     "name": "stdout",
     "output_type": "stream",
     "text": [
      "dr-0.5,arch-[128],bs-16,seed-50,index-2,epoch-15\n"
     ]
    },
    {
     "data": {
      "text/html": [
       "Tracking run with wandb version 0.13.1"
      ],
      "text/plain": [
       "<IPython.core.display.HTML object>"
      ]
     },
     "metadata": {},
     "output_type": "display_data"
    },
    {
     "data": {
      "text/html": [
       "Run data is saved locally in <code>/home/jupyter/wandb/run-20220818_025703-1at7bd0v</code>"
      ],
      "text/plain": [
       "<IPython.core.display.HTML object>"
      ]
     },
     "metadata": {},
     "output_type": "display_data"
    },
    {
     "data": {
      "text/html": [
       "Syncing run <strong><a href=\"https://wandb.ai/miraclelinzzz/Final-ensemble/runs/1at7bd0v\" target=\"_blank\">clear-energy-235</a></strong> to <a href=\"https://wandb.ai/miraclelinzzz/Final-ensemble\" target=\"_blank\">Weights & Biases</a> (<a href=\"https://wandb.me/run\" target=\"_blank\">docs</a>)<br/>"
      ],
      "text/plain": [
       "<IPython.core.display.HTML object>"
      ]
     },
     "metadata": {},
     "output_type": "display_data"
    },
    {
     "data": {
      "text/html": [
       "Waiting for W&B process to finish... <strong style=\"color:green\">(success).</strong>"
      ],
      "text/plain": [
       "<IPython.core.display.HTML object>"
      ]
     },
     "metadata": {},
     "output_type": "display_data"
    },
    {
     "data": {
      "text/html": [
       "<style>\n",
       "    table.wandb td:nth-child(1) { padding: 0 10px; text-align: left ; width: auto;} td:nth-child(2) {text-align: left ; width: 100%}\n",
       "    .wandb-row { display: flex; flex-direction: row; flex-wrap: wrap; justify-content: flex-start; width: 100% }\n",
       "    .wandb-col { display: flex; flex-direction: column; flex-basis: 100%; flex: 1; padding: 10px; }\n",
       "    </style>\n",
       "<div class=\"wandb-row\"><div class=\"wandb-col\"><h3>Run history:</h3><br/><table class=\"wandb\"><tr><td>Training Acc</td><td>▁▃▄▇▇██████████</td></tr><tr><td>Training Loss</td><td>█▆▅▃▂▁▁▁▁▁▁▁▁▂▁</td></tr><tr><td>Validation Acc</td><td>▁▂▇▅▇▇▅█▇▅█▅▇▇▇</td></tr><tr><td>Validation Loss</td><td>▆▄▂▅▄▂█▂▂█▁▆▂▃▂</td></tr></table><br/></div><div class=\"wandb-col\"><h3>Run summary:</h3><br/><table class=\"wandb\"><tr><td>Training Acc</td><td>1.0</td></tr><tr><td>Training Loss</td><td>0.08151</td></tr><tr><td>Validation Acc</td><td>0.875</td></tr><tr><td>Validation Loss</td><td>0.41852</td></tr><tr><td>test_accuracy</td><td>0.87143</td></tr><tr><td>test_losss</td><td>0.42665</td></tr></table><br/></div></div>"
      ],
      "text/plain": [
       "<IPython.core.display.HTML object>"
      ]
     },
     "metadata": {},
     "output_type": "display_data"
    },
    {
     "data": {
      "text/html": [
       "Synced <strong style=\"color:#cdcd00\">clear-energy-235</strong>: <a href=\"https://wandb.ai/miraclelinzzz/Final-ensemble/runs/1at7bd0v\" target=\"_blank\">https://wandb.ai/miraclelinzzz/Final-ensemble/runs/1at7bd0v</a><br/>Synced 5 W&B file(s), 0 media file(s), 0 artifact file(s) and 0 other file(s)"
      ],
      "text/plain": [
       "<IPython.core.display.HTML object>"
      ]
     },
     "metadata": {},
     "output_type": "display_data"
    },
    {
     "data": {
      "text/html": [
       "Find logs at: <code>./wandb/run-20220818_025703-1at7bd0v/logs</code>"
      ],
      "text/plain": [
       "<IPython.core.display.HTML object>"
      ]
     },
     "metadata": {},
     "output_type": "display_data"
    },
    {
     "name": "stdout",
     "output_type": "stream",
     "text": [
      "dr-0.5,arch-[128],bs-16,seed-50,index-3,epoch-15\n"
     ]
    },
    {
     "data": {
      "text/html": [
       "Tracking run with wandb version 0.13.1"
      ],
      "text/plain": [
       "<IPython.core.display.HTML object>"
      ]
     },
     "metadata": {},
     "output_type": "display_data"
    },
    {
     "data": {
      "text/html": [
       "Run data is saved locally in <code>/home/jupyter/wandb/run-20220818_025808-wfmmawub</code>"
      ],
      "text/plain": [
       "<IPython.core.display.HTML object>"
      ]
     },
     "metadata": {},
     "output_type": "display_data"
    },
    {
     "data": {
      "text/html": [
       "Syncing run <strong><a href=\"https://wandb.ai/miraclelinzzz/Final-ensemble/runs/wfmmawub\" target=\"_blank\">graceful-bee-236</a></strong> to <a href=\"https://wandb.ai/miraclelinzzz/Final-ensemble\" target=\"_blank\">Weights & Biases</a> (<a href=\"https://wandb.me/run\" target=\"_blank\">docs</a>)<br/>"
      ],
      "text/plain": [
       "<IPython.core.display.HTML object>"
      ]
     },
     "metadata": {},
     "output_type": "display_data"
    },
    {
     "data": {
      "text/html": [
       "Waiting for W&B process to finish... <strong style=\"color:green\">(success).</strong>"
      ],
      "text/plain": [
       "<IPython.core.display.HTML object>"
      ]
     },
     "metadata": {},
     "output_type": "display_data"
    },
    {
     "data": {
      "text/html": [
       "<style>\n",
       "    table.wandb td:nth-child(1) { padding: 0 10px; text-align: left ; width: auto;} td:nth-child(2) {text-align: left ; width: 100%}\n",
       "    .wandb-row { display: flex; flex-direction: row; flex-wrap: wrap; justify-content: flex-start; width: 100% }\n",
       "    .wandb-col { display: flex; flex-direction: column; flex-basis: 100%; flex: 1; padding: 10px; }\n",
       "    </style>\n",
       "<div class=\"wandb-row\"><div class=\"wandb-col\"><h3>Run history:</h3><br/><table class=\"wandb\"><tr><td>Training Acc</td><td>▁▃▆▇██████▆███▆</td></tr><tr><td>Training Loss</td><td>█▆▄▂▂▂▂▂▁▁▂▁▁▁▂</td></tr><tr><td>Validation Acc</td><td>▃▄▄█▄▅▇▆▄▆▃▇▄▁▇</td></tr><tr><td>Validation Loss</td><td>▁▂▃▁▅▂▂▂▅▃▆▁▅█▁</td></tr></table><br/></div><div class=\"wandb-col\"><h3>Run summary:</h3><br/><table class=\"wandb\"><tr><td>Training Acc</td><td>0.88889</td></tr><tr><td>Training Loss</td><td>0.15926</td></tr><tr><td>Validation Acc</td><td>0.8125</td></tr><tr><td>Validation Loss</td><td>0.64056</td></tr><tr><td>test_accuracy</td><td>0.85893</td></tr><tr><td>test_losss</td><td>0.52387</td></tr></table><br/></div></div>"
      ],
      "text/plain": [
       "<IPython.core.display.HTML object>"
      ]
     },
     "metadata": {},
     "output_type": "display_data"
    },
    {
     "data": {
      "text/html": [
       "Synced <strong style=\"color:#cdcd00\">graceful-bee-236</strong>: <a href=\"https://wandb.ai/miraclelinzzz/Final-ensemble/runs/wfmmawub\" target=\"_blank\">https://wandb.ai/miraclelinzzz/Final-ensemble/runs/wfmmawub</a><br/>Synced 5 W&B file(s), 0 media file(s), 0 artifact file(s) and 0 other file(s)"
      ],
      "text/plain": [
       "<IPython.core.display.HTML object>"
      ]
     },
     "metadata": {},
     "output_type": "display_data"
    },
    {
     "data": {
      "text/html": [
       "Find logs at: <code>./wandb/run-20220818_025808-wfmmawub/logs</code>"
      ],
      "text/plain": [
       "<IPython.core.display.HTML object>"
      ]
     },
     "metadata": {},
     "output_type": "display_data"
    },
    {
     "name": "stdout",
     "output_type": "stream",
     "text": [
      "dr-0.3,arch-[64, 512],bs-16,seed-50,index-1,epoch-15\n"
     ]
    },
    {
     "data": {
      "text/html": [
       "Tracking run with wandb version 0.13.1"
      ],
      "text/plain": [
       "<IPython.core.display.HTML object>"
      ]
     },
     "metadata": {},
     "output_type": "display_data"
    },
    {
     "data": {
      "text/html": [
       "Run data is saved locally in <code>/home/jupyter/wandb/run-20220818_025922-2edqesb9</code>"
      ],
      "text/plain": [
       "<IPython.core.display.HTML object>"
      ]
     },
     "metadata": {},
     "output_type": "display_data"
    },
    {
     "data": {
      "text/html": [
       "Syncing run <strong><a href=\"https://wandb.ai/miraclelinzzz/Final-ensemble/runs/2edqesb9\" target=\"_blank\">resilient-microwave-237</a></strong> to <a href=\"https://wandb.ai/miraclelinzzz/Final-ensemble\" target=\"_blank\">Weights & Biases</a> (<a href=\"https://wandb.me/run\" target=\"_blank\">docs</a>)<br/>"
      ],
      "text/plain": [
       "<IPython.core.display.HTML object>"
      ]
     },
     "metadata": {},
     "output_type": "display_data"
    },
    {
     "data": {
      "text/html": [
       "Waiting for W&B process to finish... <strong style=\"color:green\">(success).</strong>"
      ],
      "text/plain": [
       "<IPython.core.display.HTML object>"
      ]
     },
     "metadata": {},
     "output_type": "display_data"
    },
    {
     "data": {
      "text/html": [
       "<style>\n",
       "    table.wandb td:nth-child(1) { padding: 0 10px; text-align: left ; width: auto;} td:nth-child(2) {text-align: left ; width: 100%}\n",
       "    .wandb-row { display: flex; flex-direction: row; flex-wrap: wrap; justify-content: flex-start; width: 100% }\n",
       "    .wandb-col { display: flex; flex-direction: column; flex-basis: 100%; flex: 1; padding: 10px; }\n",
       "    </style>\n",
       "<div class=\"wandb-row\"><div class=\"wandb-col\"><h3>Run history:</h3><br/><table class=\"wandb\"><tr><td>Training Acc</td><td>▁▂▃▄▇▇▇▇███████</td></tr><tr><td>Training Loss</td><td>█▇▆▅▄▄▃▂▂▂▂▁▂▁▁</td></tr><tr><td>Validation Acc</td><td>▄▂▁▆▇▇▂██▅▇██▇▇</td></tr><tr><td>Validation Loss</td><td>██▇▄▄▃█▂▂▅▁▂▃▁▁</td></tr></table><br/></div><div class=\"wandb-col\"><h3>Run summary:</h3><br/><table class=\"wandb\"><tr><td>Training Acc</td><td>1.0</td></tr><tr><td>Training Loss</td><td>0.17491</td></tr><tr><td>Validation Acc</td><td>0.875</td></tr><tr><td>Validation Loss</td><td>0.31544</td></tr><tr><td>test_accuracy</td><td>0.83036</td></tr><tr><td>test_losss</td><td>0.42872</td></tr></table><br/></div></div>"
      ],
      "text/plain": [
       "<IPython.core.display.HTML object>"
      ]
     },
     "metadata": {},
     "output_type": "display_data"
    },
    {
     "data": {
      "text/html": [
       "Synced <strong style=\"color:#cdcd00\">resilient-microwave-237</strong>: <a href=\"https://wandb.ai/miraclelinzzz/Final-ensemble/runs/2edqesb9\" target=\"_blank\">https://wandb.ai/miraclelinzzz/Final-ensemble/runs/2edqesb9</a><br/>Synced 5 W&B file(s), 0 media file(s), 0 artifact file(s) and 0 other file(s)"
      ],
      "text/plain": [
       "<IPython.core.display.HTML object>"
      ]
     },
     "metadata": {},
     "output_type": "display_data"
    },
    {
     "data": {
      "text/html": [
       "Find logs at: <code>./wandb/run-20220818_025922-2edqesb9/logs</code>"
      ],
      "text/plain": [
       "<IPython.core.display.HTML object>"
      ]
     },
     "metadata": {},
     "output_type": "display_data"
    },
    {
     "name": "stdout",
     "output_type": "stream",
     "text": [
      "dr-0.3,arch-[64, 512],bs-16,seed-50,index-2,epoch-15\n"
     ]
    },
    {
     "data": {
      "text/html": [
       "Tracking run with wandb version 0.13.1"
      ],
      "text/plain": [
       "<IPython.core.display.HTML object>"
      ]
     },
     "metadata": {},
     "output_type": "display_data"
    },
    {
     "data": {
      "text/html": [
       "Run data is saved locally in <code>/home/jupyter/wandb/run-20220818_030036-nqk7kzcu</code>"
      ],
      "text/plain": [
       "<IPython.core.display.HTML object>"
      ]
     },
     "metadata": {},
     "output_type": "display_data"
    },
    {
     "data": {
      "text/html": [
       "Syncing run <strong><a href=\"https://wandb.ai/miraclelinzzz/Final-ensemble/runs/nqk7kzcu\" target=\"_blank\">revived-water-238</a></strong> to <a href=\"https://wandb.ai/miraclelinzzz/Final-ensemble\" target=\"_blank\">Weights & Biases</a> (<a href=\"https://wandb.me/run\" target=\"_blank\">docs</a>)<br/>"
      ],
      "text/plain": [
       "<IPython.core.display.HTML object>"
      ]
     },
     "metadata": {},
     "output_type": "display_data"
    },
    {
     "data": {
      "text/html": [
       "Waiting for W&B process to finish... <strong style=\"color:green\">(success).</strong>"
      ],
      "text/plain": [
       "<IPython.core.display.HTML object>"
      ]
     },
     "metadata": {},
     "output_type": "display_data"
    },
    {
     "data": {
      "text/html": [
       "<style>\n",
       "    table.wandb td:nth-child(1) { padding: 0 10px; text-align: left ; width: auto;} td:nth-child(2) {text-align: left ; width: 100%}\n",
       "    .wandb-row { display: flex; flex-direction: row; flex-wrap: wrap; justify-content: flex-start; width: 100% }\n",
       "    .wandb-col { display: flex; flex-direction: column; flex-basis: 100%; flex: 1; padding: 10px; }\n",
       "    </style>\n",
       "<div class=\"wandb-row\"><div class=\"wandb-col\"><h3>Run history:</h3><br/><table class=\"wandb\"><tr><td>Training Acc</td><td>▁▃▃▃▅▅▇▇▇█▇▇███</td></tr><tr><td>Training Loss</td><td>█▇▆▆▅▄▃▃▃▂▂▂▁▁▁</td></tr><tr><td>Validation Acc</td><td>▃▁▄▄▆█▆█▇███▆██</td></tr><tr><td>Validation Loss</td><td>▇▆▆▄▃▂█▃▂▁▂▁▅▁▁</td></tr></table><br/></div><div class=\"wandb-col\"><h3>Run summary:</h3><br/><table class=\"wandb\"><tr><td>Training Acc</td><td>1.0</td></tr><tr><td>Training Loss</td><td>0.20214</td></tr><tr><td>Validation Acc</td><td>0.89583</td></tr><tr><td>Validation Loss</td><td>0.35408</td></tr><tr><td>test_accuracy</td><td>0.79643</td></tr><tr><td>test_losss</td><td>0.47245</td></tr></table><br/></div></div>"
      ],
      "text/plain": [
       "<IPython.core.display.HTML object>"
      ]
     },
     "metadata": {},
     "output_type": "display_data"
    },
    {
     "data": {
      "text/html": [
       "Synced <strong style=\"color:#cdcd00\">revived-water-238</strong>: <a href=\"https://wandb.ai/miraclelinzzz/Final-ensemble/runs/nqk7kzcu\" target=\"_blank\">https://wandb.ai/miraclelinzzz/Final-ensemble/runs/nqk7kzcu</a><br/>Synced 5 W&B file(s), 0 media file(s), 0 artifact file(s) and 0 other file(s)"
      ],
      "text/plain": [
       "<IPython.core.display.HTML object>"
      ]
     },
     "metadata": {},
     "output_type": "display_data"
    },
    {
     "data": {
      "text/html": [
       "Find logs at: <code>./wandb/run-20220818_030036-nqk7kzcu/logs</code>"
      ],
      "text/plain": [
       "<IPython.core.display.HTML object>"
      ]
     },
     "metadata": {},
     "output_type": "display_data"
    },
    {
     "name": "stdout",
     "output_type": "stream",
     "text": [
      "dr-0.3,arch-[64, 512],bs-16,seed-50,index-3,epoch-15\n"
     ]
    },
    {
     "data": {
      "text/html": [
       "Tracking run with wandb version 0.13.1"
      ],
      "text/plain": [
       "<IPython.core.display.HTML object>"
      ]
     },
     "metadata": {},
     "output_type": "display_data"
    },
    {
     "data": {
      "text/html": [
       "Run data is saved locally in <code>/home/jupyter/wandb/run-20220818_030140-3e1uufm5</code>"
      ],
      "text/plain": [
       "<IPython.core.display.HTML object>"
      ]
     },
     "metadata": {},
     "output_type": "display_data"
    },
    {
     "data": {
      "text/html": [
       "Syncing run <strong><a href=\"https://wandb.ai/miraclelinzzz/Final-ensemble/runs/3e1uufm5\" target=\"_blank\">dutiful-blaze-239</a></strong> to <a href=\"https://wandb.ai/miraclelinzzz/Final-ensemble\" target=\"_blank\">Weights & Biases</a> (<a href=\"https://wandb.me/run\" target=\"_blank\">docs</a>)<br/>"
      ],
      "text/plain": [
       "<IPython.core.display.HTML object>"
      ]
     },
     "metadata": {},
     "output_type": "display_data"
    },
    {
     "data": {
      "text/html": [
       "Waiting for W&B process to finish... <strong style=\"color:green\">(success).</strong>"
      ],
      "text/plain": [
       "<IPython.core.display.HTML object>"
      ]
     },
     "metadata": {},
     "output_type": "display_data"
    },
    {
     "data": {
      "text/html": [
       "<style>\n",
       "    table.wandb td:nth-child(1) { padding: 0 10px; text-align: left ; width: auto;} td:nth-child(2) {text-align: left ; width: 100%}\n",
       "    .wandb-row { display: flex; flex-direction: row; flex-wrap: wrap; justify-content: flex-start; width: 100% }\n",
       "    .wandb-col { display: flex; flex-direction: column; flex-basis: 100%; flex: 1; padding: 10px; }\n",
       "    </style>\n",
       "<div class=\"wandb-row\"><div class=\"wandb-col\"><h3>Run history:</h3><br/><table class=\"wandb\"><tr><td>Training Acc</td><td>▁▁▂▄▅▆▆▇▇█████▇</td></tr><tr><td>Training Loss</td><td>█▇▇▅▅▃▃▃▃▂▂▁▁▁▂</td></tr><tr><td>Validation Acc</td><td>▁▃▇▇▃▇▅▄███▅███</td></tr><tr><td>Validation Loss</td><td>▆▆▅▂█▃▂▇▂▄▁█▂▁▂</td></tr></table><br/></div><div class=\"wandb-col\"><h3>Run summary:</h3><br/><table class=\"wandb\"><tr><td>Training Acc</td><td>0.96528</td></tr><tr><td>Training Loss</td><td>0.2366</td></tr><tr><td>Validation Acc</td><td>0.83333</td></tr><tr><td>Validation Loss</td><td>0.48569</td></tr><tr><td>test_accuracy</td><td>0.78036</td></tr><tr><td>test_losss</td><td>0.46265</td></tr></table><br/></div></div>"
      ],
      "text/plain": [
       "<IPython.core.display.HTML object>"
      ]
     },
     "metadata": {},
     "output_type": "display_data"
    },
    {
     "data": {
      "text/html": [
       "Synced <strong style=\"color:#cdcd00\">dutiful-blaze-239</strong>: <a href=\"https://wandb.ai/miraclelinzzz/Final-ensemble/runs/3e1uufm5\" target=\"_blank\">https://wandb.ai/miraclelinzzz/Final-ensemble/runs/3e1uufm5</a><br/>Synced 5 W&B file(s), 0 media file(s), 0 artifact file(s) and 0 other file(s)"
      ],
      "text/plain": [
       "<IPython.core.display.HTML object>"
      ]
     },
     "metadata": {},
     "output_type": "display_data"
    },
    {
     "data": {
      "text/html": [
       "Find logs at: <code>./wandb/run-20220818_030140-3e1uufm5/logs</code>"
      ],
      "text/plain": [
       "<IPython.core.display.HTML object>"
      ]
     },
     "metadata": {},
     "output_type": "display_data"
    },
    {
     "name": "stdout",
     "output_type": "stream",
     "text": [
      "dr-0.3,arch-[256, 512, 128],bs-16,seed-50,index-1,epoch-15\n"
     ]
    },
    {
     "data": {
      "text/html": [
       "Tracking run with wandb version 0.13.1"
      ],
      "text/plain": [
       "<IPython.core.display.HTML object>"
      ]
     },
     "metadata": {},
     "output_type": "display_data"
    },
    {
     "data": {
      "text/html": [
       "Run data is saved locally in <code>/home/jupyter/wandb/run-20220818_030254-2c20hlhw</code>"
      ],
      "text/plain": [
       "<IPython.core.display.HTML object>"
      ]
     },
     "metadata": {},
     "output_type": "display_data"
    },
    {
     "data": {
      "text/html": [
       "Syncing run <strong><a href=\"https://wandb.ai/miraclelinzzz/Final-ensemble/runs/2c20hlhw\" target=\"_blank\">jolly-plasma-240</a></strong> to <a href=\"https://wandb.ai/miraclelinzzz/Final-ensemble\" target=\"_blank\">Weights & Biases</a> (<a href=\"https://wandb.me/run\" target=\"_blank\">docs</a>)<br/>"
      ],
      "text/plain": [
       "<IPython.core.display.HTML object>"
      ]
     },
     "metadata": {},
     "output_type": "display_data"
    },
    {
     "data": {
      "text/html": [
       "Waiting for W&B process to finish... <strong style=\"color:green\">(success).</strong>"
      ],
      "text/plain": [
       "<IPython.core.display.HTML object>"
      ]
     },
     "metadata": {},
     "output_type": "display_data"
    },
    {
     "data": {
      "text/html": [
       "<style>\n",
       "    table.wandb td:nth-child(1) { padding: 0 10px; text-align: left ; width: auto;} td:nth-child(2) {text-align: left ; width: 100%}\n",
       "    .wandb-row { display: flex; flex-direction: row; flex-wrap: wrap; justify-content: flex-start; width: 100% }\n",
       "    .wandb-col { display: flex; flex-direction: column; flex-basis: 100%; flex: 1; padding: 10px; }\n",
       "    </style>\n",
       "<div class=\"wandb-row\"><div class=\"wandb-col\"><h3>Run history:</h3><br/><table class=\"wandb\"><tr><td>Training Acc</td><td>▁▂▂▃▄▅▆▅▆▇█▆███</td></tr><tr><td>Training Loss</td><td>██▇▆▆▅▄▃▂▃▁▂▁▂▁</td></tr><tr><td>Validation Acc</td><td>▁▁▄▇▅█▇██▇█▆█▅█</td></tr><tr><td>Validation Loss</td><td>██▇▆▅▄▂▁▃▂▁▃▁▇▂</td></tr></table><br/></div><div class=\"wandb-col\"><h3>Run summary:</h3><br/><table class=\"wandb\"><tr><td>Training Acc</td><td>0.99306</td></tr><tr><td>Training Loss</td><td>0.18786</td></tr><tr><td>Validation Acc</td><td>0.89583</td></tr><tr><td>Validation Loss</td><td>0.34975</td></tr><tr><td>test_accuracy</td><td>0.79286</td></tr><tr><td>test_losss</td><td>0.46012</td></tr></table><br/></div></div>"
      ],
      "text/plain": [
       "<IPython.core.display.HTML object>"
      ]
     },
     "metadata": {},
     "output_type": "display_data"
    },
    {
     "data": {
      "text/html": [
       "Synced <strong style=\"color:#cdcd00\">jolly-plasma-240</strong>: <a href=\"https://wandb.ai/miraclelinzzz/Final-ensemble/runs/2c20hlhw\" target=\"_blank\">https://wandb.ai/miraclelinzzz/Final-ensemble/runs/2c20hlhw</a><br/>Synced 5 W&B file(s), 0 media file(s), 0 artifact file(s) and 0 other file(s)"
      ],
      "text/plain": [
       "<IPython.core.display.HTML object>"
      ]
     },
     "metadata": {},
     "output_type": "display_data"
    },
    {
     "data": {
      "text/html": [
       "Find logs at: <code>./wandb/run-20220818_030254-2c20hlhw/logs</code>"
      ],
      "text/plain": [
       "<IPython.core.display.HTML object>"
      ]
     },
     "metadata": {},
     "output_type": "display_data"
    },
    {
     "name": "stdout",
     "output_type": "stream",
     "text": [
      "dr-0.3,arch-[256, 512, 128],bs-16,seed-50,index-2,epoch-15\n"
     ]
    },
    {
     "data": {
      "text/html": [
       "Tracking run with wandb version 0.13.1"
      ],
      "text/plain": [
       "<IPython.core.display.HTML object>"
      ]
     },
     "metadata": {},
     "output_type": "display_data"
    },
    {
     "data": {
      "text/html": [
       "Run data is saved locally in <code>/home/jupyter/wandb/run-20220818_030408-2j4pxpdd</code>"
      ],
      "text/plain": [
       "<IPython.core.display.HTML object>"
      ]
     },
     "metadata": {},
     "output_type": "display_data"
    },
    {
     "data": {
      "text/html": [
       "Syncing run <strong><a href=\"https://wandb.ai/miraclelinzzz/Final-ensemble/runs/2j4pxpdd\" target=\"_blank\">stellar-haze-241</a></strong> to <a href=\"https://wandb.ai/miraclelinzzz/Final-ensemble\" target=\"_blank\">Weights & Biases</a> (<a href=\"https://wandb.me/run\" target=\"_blank\">docs</a>)<br/>"
      ],
      "text/plain": [
       "<IPython.core.display.HTML object>"
      ]
     },
     "metadata": {},
     "output_type": "display_data"
    },
    {
     "data": {
      "text/html": [
       "Waiting for W&B process to finish... <strong style=\"color:green\">(success).</strong>"
      ],
      "text/plain": [
       "<IPython.core.display.HTML object>"
      ]
     },
     "metadata": {},
     "output_type": "display_data"
    },
    {
     "data": {
      "text/html": [
       "<style>\n",
       "    table.wandb td:nth-child(1) { padding: 0 10px; text-align: left ; width: auto;} td:nth-child(2) {text-align: left ; width: 100%}\n",
       "    .wandb-row { display: flex; flex-direction: row; flex-wrap: wrap; justify-content: flex-start; width: 100% }\n",
       "    .wandb-col { display: flex; flex-direction: column; flex-basis: 100%; flex: 1; padding: 10px; }\n",
       "    </style>\n",
       "<div class=\"wandb-row\"><div class=\"wandb-col\"><h3>Run history:</h3><br/><table class=\"wandb\"><tr><td>Training Acc</td><td>▁▃▃▄▅▅▅▇▇▇▇▇███</td></tr><tr><td>Training Loss</td><td>█▇▆▆▆▅▄▃▃▃▂▂▁▁▁</td></tr><tr><td>Validation Acc</td><td>▁▃▄▇▇▇█▆▆▄███▆▆</td></tr><tr><td>Validation Loss</td><td>██▇▆▃▄▂▄▇▄▂▁▁▃▄</td></tr></table><br/></div><div class=\"wandb-col\"><h3>Run summary:</h3><br/><table class=\"wandb\"><tr><td>Training Acc</td><td>1.0</td></tr><tr><td>Training Loss</td><td>0.24882</td></tr><tr><td>Validation Acc</td><td>0.6875</td></tr><tr><td>Validation Loss</td><td>0.50408</td></tr><tr><td>test_accuracy</td><td>0.79286</td></tr><tr><td>test_losss</td><td>0.42783</td></tr></table><br/></div></div>"
      ],
      "text/plain": [
       "<IPython.core.display.HTML object>"
      ]
     },
     "metadata": {},
     "output_type": "display_data"
    },
    {
     "data": {
      "text/html": [
       "Synced <strong style=\"color:#cdcd00\">stellar-haze-241</strong>: <a href=\"https://wandb.ai/miraclelinzzz/Final-ensemble/runs/2j4pxpdd\" target=\"_blank\">https://wandb.ai/miraclelinzzz/Final-ensemble/runs/2j4pxpdd</a><br/>Synced 5 W&B file(s), 0 media file(s), 0 artifact file(s) and 0 other file(s)"
      ],
      "text/plain": [
       "<IPython.core.display.HTML object>"
      ]
     },
     "metadata": {},
     "output_type": "display_data"
    },
    {
     "data": {
      "text/html": [
       "Find logs at: <code>./wandb/run-20220818_030408-2j4pxpdd/logs</code>"
      ],
      "text/plain": [
       "<IPython.core.display.HTML object>"
      ]
     },
     "metadata": {},
     "output_type": "display_data"
    },
    {
     "name": "stdout",
     "output_type": "stream",
     "text": [
      "dr-0.3,arch-[256, 512, 128],bs-16,seed-50,index-3,epoch-15\n"
     ]
    },
    {
     "data": {
      "text/html": [
       "Tracking run with wandb version 0.13.1"
      ],
      "text/plain": [
       "<IPython.core.display.HTML object>"
      ]
     },
     "metadata": {},
     "output_type": "display_data"
    },
    {
     "data": {
      "text/html": [
       "Run data is saved locally in <code>/home/jupyter/wandb/run-20220818_030514-1j6lk6vh</code>"
      ],
      "text/plain": [
       "<IPython.core.display.HTML object>"
      ]
     },
     "metadata": {},
     "output_type": "display_data"
    },
    {
     "data": {
      "text/html": [
       "Syncing run <strong><a href=\"https://wandb.ai/miraclelinzzz/Final-ensemble/runs/1j6lk6vh\" target=\"_blank\">eternal-bush-242</a></strong> to <a href=\"https://wandb.ai/miraclelinzzz/Final-ensemble\" target=\"_blank\">Weights & Biases</a> (<a href=\"https://wandb.me/run\" target=\"_blank\">docs</a>)<br/>"
      ],
      "text/plain": [
       "<IPython.core.display.HTML object>"
      ]
     },
     "metadata": {},
     "output_type": "display_data"
    },
    {
     "data": {
      "text/html": [
       "Waiting for W&B process to finish... <strong style=\"color:green\">(success).</strong>"
      ],
      "text/plain": [
       "<IPython.core.display.HTML object>"
      ]
     },
     "metadata": {},
     "output_type": "display_data"
    },
    {
     "data": {
      "text/html": [
       "<style>\n",
       "    table.wandb td:nth-child(1) { padding: 0 10px; text-align: left ; width: auto;} td:nth-child(2) {text-align: left ; width: 100%}\n",
       "    .wandb-row { display: flex; flex-direction: row; flex-wrap: wrap; justify-content: flex-start; width: 100% }\n",
       "    .wandb-col { display: flex; flex-direction: column; flex-basis: 100%; flex: 1; padding: 10px; }\n",
       "    </style>\n",
       "<div class=\"wandb-row\"><div class=\"wandb-col\"><h3>Run history:</h3><br/><table class=\"wandb\"><tr><td>Training Acc</td><td>▁▁▂▃▄▆▆▅▇▇▇████</td></tr><tr><td>Training Loss</td><td>██▇▇▆▄▄▄▃▂▂▁▁▁▁</td></tr><tr><td>Validation Acc</td><td>▁▁▃▅▄▃▅▅█▇▅█▇▃▅</td></tr><tr><td>Validation Loss</td><td>▄▄▄▅▇▇▃▆▁▁▄▃▂█▄</td></tr></table><br/></div><div class=\"wandb-col\"><h3>Run summary:</h3><br/><table class=\"wandb\"><tr><td>Training Acc</td><td>0.97222</td></tr><tr><td>Training Loss</td><td>0.22877</td></tr><tr><td>Validation Acc</td><td>0.64583</td></tr><tr><td>Validation Loss</td><td>0.66638</td></tr><tr><td>test_accuracy</td><td>0.84643</td></tr><tr><td>test_losss</td><td>0.39138</td></tr></table><br/></div></div>"
      ],
      "text/plain": [
       "<IPython.core.display.HTML object>"
      ]
     },
     "metadata": {},
     "output_type": "display_data"
    },
    {
     "data": {
      "text/html": [
       "Synced <strong style=\"color:#cdcd00\">eternal-bush-242</strong>: <a href=\"https://wandb.ai/miraclelinzzz/Final-ensemble/runs/1j6lk6vh\" target=\"_blank\">https://wandb.ai/miraclelinzzz/Final-ensemble/runs/1j6lk6vh</a><br/>Synced 5 W&B file(s), 0 media file(s), 0 artifact file(s) and 0 other file(s)"
      ],
      "text/plain": [
       "<IPython.core.display.HTML object>"
      ]
     },
     "metadata": {},
     "output_type": "display_data"
    },
    {
     "data": {
      "text/html": [
       "Find logs at: <code>./wandb/run-20220818_030514-1j6lk6vh/logs</code>"
      ],
      "text/plain": [
       "<IPython.core.display.HTML object>"
      ]
     },
     "metadata": {},
     "output_type": "display_data"
    },
    {
     "name": "stdout",
     "output_type": "stream",
     "text": [
      "dr-0.4,arch-[512, 64],bs-16,seed-60,index-1,epoch-15\n"
     ]
    },
    {
     "data": {
      "text/html": [
       "Tracking run with wandb version 0.13.1"
      ],
      "text/plain": [
       "<IPython.core.display.HTML object>"
      ]
     },
     "metadata": {},
     "output_type": "display_data"
    },
    {
     "data": {
      "text/html": [
       "Run data is saved locally in <code>/home/jupyter/wandb/run-20220818_030628-xmlsvexh</code>"
      ],
      "text/plain": [
       "<IPython.core.display.HTML object>"
      ]
     },
     "metadata": {},
     "output_type": "display_data"
    },
    {
     "data": {
      "text/html": [
       "Syncing run <strong><a href=\"https://wandb.ai/miraclelinzzz/Final-ensemble/runs/xmlsvexh\" target=\"_blank\">deep-wood-243</a></strong> to <a href=\"https://wandb.ai/miraclelinzzz/Final-ensemble\" target=\"_blank\">Weights & Biases</a> (<a href=\"https://wandb.me/run\" target=\"_blank\">docs</a>)<br/>"
      ],
      "text/plain": [
       "<IPython.core.display.HTML object>"
      ]
     },
     "metadata": {},
     "output_type": "display_data"
    },
    {
     "data": {
      "text/html": [
       "Waiting for W&B process to finish... <strong style=\"color:green\">(success).</strong>"
      ],
      "text/plain": [
       "<IPython.core.display.HTML object>"
      ]
     },
     "metadata": {},
     "output_type": "display_data"
    },
    {
     "data": {
      "text/html": [
       "<style>\n",
       "    table.wandb td:nth-child(1) { padding: 0 10px; text-align: left ; width: auto;} td:nth-child(2) {text-align: left ; width: 100%}\n",
       "    .wandb-row { display: flex; flex-direction: row; flex-wrap: wrap; justify-content: flex-start; width: 100% }\n",
       "    .wandb-col { display: flex; flex-direction: column; flex-basis: 100%; flex: 1; padding: 10px; }\n",
       "    </style>\n",
       "<div class=\"wandb-row\"><div class=\"wandb-col\"><h3>Run history:</h3><br/><table class=\"wandb\"><tr><td>Training Acc</td><td>▁▂▃▅▅▆▆▇███████</td></tr><tr><td>Training Loss</td><td>█▇▆▅▄▃▂▂▂▁▁▁▁▁▁</td></tr><tr><td>Validation Acc</td><td>▂▃▅▁▇▇▅▇▇▇▅█▅██</td></tr><tr><td>Validation Loss</td><td>▇▆▅▇▄▂▃▂▅▁▅▂█▁▄</td></tr></table><br/></div><div class=\"wandb-col\"><h3>Run summary:</h3><br/><table class=\"wandb\"><tr><td>Training Acc</td><td>0.98611</td></tr><tr><td>Training Loss</td><td>0.21179</td></tr><tr><td>Validation Acc</td><td>0.85417</td></tr><tr><td>Validation Loss</td><td>0.55426</td></tr><tr><td>test_accuracy</td><td>0.84286</td></tr><tr><td>test_losss</td><td>0.43237</td></tr></table><br/></div></div>"
      ],
      "text/plain": [
       "<IPython.core.display.HTML object>"
      ]
     },
     "metadata": {},
     "output_type": "display_data"
    },
    {
     "data": {
      "text/html": [
       "Synced <strong style=\"color:#cdcd00\">deep-wood-243</strong>: <a href=\"https://wandb.ai/miraclelinzzz/Final-ensemble/runs/xmlsvexh\" target=\"_blank\">https://wandb.ai/miraclelinzzz/Final-ensemble/runs/xmlsvexh</a><br/>Synced 5 W&B file(s), 0 media file(s), 0 artifact file(s) and 0 other file(s)"
      ],
      "text/plain": [
       "<IPython.core.display.HTML object>"
      ]
     },
     "metadata": {},
     "output_type": "display_data"
    },
    {
     "data": {
      "text/html": [
       "Find logs at: <code>./wandb/run-20220818_030628-xmlsvexh/logs</code>"
      ],
      "text/plain": [
       "<IPython.core.display.HTML object>"
      ]
     },
     "metadata": {},
     "output_type": "display_data"
    },
    {
     "name": "stdout",
     "output_type": "stream",
     "text": [
      "dr-0.4,arch-[512, 64],bs-16,seed-60,index-2,epoch-15\n"
     ]
    },
    {
     "data": {
      "text/html": [
       "Tracking run with wandb version 0.13.1"
      ],
      "text/plain": [
       "<IPython.core.display.HTML object>"
      ]
     },
     "metadata": {},
     "output_type": "display_data"
    },
    {
     "data": {
      "text/html": [
       "Run data is saved locally in <code>/home/jupyter/wandb/run-20220818_030744-20lo135m</code>"
      ],
      "text/plain": [
       "<IPython.core.display.HTML object>"
      ]
     },
     "metadata": {},
     "output_type": "display_data"
    },
    {
     "data": {
      "text/html": [
       "Syncing run <strong><a href=\"https://wandb.ai/miraclelinzzz/Final-ensemble/runs/20lo135m\" target=\"_blank\">cool-dream-244</a></strong> to <a href=\"https://wandb.ai/miraclelinzzz/Final-ensemble\" target=\"_blank\">Weights & Biases</a> (<a href=\"https://wandb.me/run\" target=\"_blank\">docs</a>)<br/>"
      ],
      "text/plain": [
       "<IPython.core.display.HTML object>"
      ]
     },
     "metadata": {},
     "output_type": "display_data"
    },
    {
     "data": {
      "text/html": [
       "Waiting for W&B process to finish... <strong style=\"color:green\">(success).</strong>"
      ],
      "text/plain": [
       "<IPython.core.display.HTML object>"
      ]
     },
     "metadata": {},
     "output_type": "display_data"
    },
    {
     "data": {
      "text/html": [
       "<style>\n",
       "    table.wandb td:nth-child(1) { padding: 0 10px; text-align: left ; width: auto;} td:nth-child(2) {text-align: left ; width: 100%}\n",
       "    .wandb-row { display: flex; flex-direction: row; flex-wrap: wrap; justify-content: flex-start; width: 100% }\n",
       "    .wandb-col { display: flex; flex-direction: column; flex-basis: 100%; flex: 1; padding: 10px; }\n",
       "    </style>\n",
       "<div class=\"wandb-row\"><div class=\"wandb-col\"><h3>Run history:</h3><br/><table class=\"wandb\"><tr><td>Training Acc</td><td>▁▃▅▆▆▇▇▇████▇██</td></tr><tr><td>Training Loss</td><td>█▇▅▄▃▃▂▂▂▁▁▁▂▁▁</td></tr><tr><td>Validation Acc</td><td>▃▁▅▃▅▇▄▆▇█▇████</td></tr><tr><td>Validation Loss</td><td>▇▆▃█▄▁█▅▁▂▁▃▂▃▁</td></tr></table><br/></div><div class=\"wandb-col\"><h3>Run summary:</h3><br/><table class=\"wandb\"><tr><td>Training Acc</td><td>1.0</td></tr><tr><td>Training Loss</td><td>0.2003</td></tr><tr><td>Validation Acc</td><td>0.875</td></tr><tr><td>Validation Loss</td><td>0.39029</td></tr><tr><td>test_accuracy</td><td>0.8625</td></tr><tr><td>test_losss</td><td>0.44309</td></tr></table><br/></div></div>"
      ],
      "text/plain": [
       "<IPython.core.display.HTML object>"
      ]
     },
     "metadata": {},
     "output_type": "display_data"
    },
    {
     "data": {
      "text/html": [
       "Synced <strong style=\"color:#cdcd00\">cool-dream-244</strong>: <a href=\"https://wandb.ai/miraclelinzzz/Final-ensemble/runs/20lo135m\" target=\"_blank\">https://wandb.ai/miraclelinzzz/Final-ensemble/runs/20lo135m</a><br/>Synced 5 W&B file(s), 0 media file(s), 0 artifact file(s) and 0 other file(s)"
      ],
      "text/plain": [
       "<IPython.core.display.HTML object>"
      ]
     },
     "metadata": {},
     "output_type": "display_data"
    },
    {
     "data": {
      "text/html": [
       "Find logs at: <code>./wandb/run-20220818_030744-20lo135m/logs</code>"
      ],
      "text/plain": [
       "<IPython.core.display.HTML object>"
      ]
     },
     "metadata": {},
     "output_type": "display_data"
    },
    {
     "name": "stdout",
     "output_type": "stream",
     "text": [
      "dr-0.4,arch-[512, 64],bs-16,seed-60,index-3,epoch-15\n"
     ]
    },
    {
     "data": {
      "text/html": [
       "Tracking run with wandb version 0.13.1"
      ],
      "text/plain": [
       "<IPython.core.display.HTML object>"
      ]
     },
     "metadata": {},
     "output_type": "display_data"
    },
    {
     "data": {
      "text/html": [
       "Run data is saved locally in <code>/home/jupyter/wandb/run-20220818_030859-3c456aix</code>"
      ],
      "text/plain": [
       "<IPython.core.display.HTML object>"
      ]
     },
     "metadata": {},
     "output_type": "display_data"
    },
    {
     "data": {
      "text/html": [
       "Syncing run <strong><a href=\"https://wandb.ai/miraclelinzzz/Final-ensemble/runs/3c456aix\" target=\"_blank\">effortless-disco-245</a></strong> to <a href=\"https://wandb.ai/miraclelinzzz/Final-ensemble\" target=\"_blank\">Weights & Biases</a> (<a href=\"https://wandb.me/run\" target=\"_blank\">docs</a>)<br/>"
      ],
      "text/plain": [
       "<IPython.core.display.HTML object>"
      ]
     },
     "metadata": {},
     "output_type": "display_data"
    },
    {
     "data": {
      "text/html": [
       "Waiting for W&B process to finish... <strong style=\"color:green\">(success).</strong>"
      ],
      "text/plain": [
       "<IPython.core.display.HTML object>"
      ]
     },
     "metadata": {},
     "output_type": "display_data"
    },
    {
     "data": {
      "text/html": [
       "<style>\n",
       "    table.wandb td:nth-child(1) { padding: 0 10px; text-align: left ; width: auto;} td:nth-child(2) {text-align: left ; width: 100%}\n",
       "    .wandb-row { display: flex; flex-direction: row; flex-wrap: wrap; justify-content: flex-start; width: 100% }\n",
       "    .wandb-col { display: flex; flex-direction: column; flex-basis: 100%; flex: 1; padding: 10px; }\n",
       "    </style>\n",
       "<div class=\"wandb-row\"><div class=\"wandb-col\"><h3>Run history:</h3><br/><table class=\"wandb\"><tr><td>Training Acc</td><td>▁▃▅▇▇██▇▇███▇██</td></tr><tr><td>Training Loss</td><td>█▇▆▄▃▂▂▂▂▁▁▁▂▁▁</td></tr><tr><td>Validation Acc</td><td>▁▅▇▆▇██▇▇▇▆▆▇▆▆</td></tr><tr><td>Validation Loss</td><td>▆▅▄▅▃▁▂▃▂▂▆▆▃██</td></tr></table><br/></div><div class=\"wandb-col\"><h3>Run summary:</h3><br/><table class=\"wandb\"><tr><td>Training Acc</td><td>1.0</td></tr><tr><td>Training Loss</td><td>0.17795</td></tr><tr><td>Validation Acc</td><td>0.70833</td></tr><tr><td>Validation Loss</td><td>0.7753</td></tr><tr><td>test_accuracy</td><td>0.82143</td></tr><tr><td>test_losss</td><td>0.47737</td></tr></table><br/></div></div>"
      ],
      "text/plain": [
       "<IPython.core.display.HTML object>"
      ]
     },
     "metadata": {},
     "output_type": "display_data"
    },
    {
     "data": {
      "text/html": [
       "Synced <strong style=\"color:#cdcd00\">effortless-disco-245</strong>: <a href=\"https://wandb.ai/miraclelinzzz/Final-ensemble/runs/3c456aix\" target=\"_blank\">https://wandb.ai/miraclelinzzz/Final-ensemble/runs/3c456aix</a><br/>Synced 5 W&B file(s), 0 media file(s), 0 artifact file(s) and 0 other file(s)"
      ],
      "text/plain": [
       "<IPython.core.display.HTML object>"
      ]
     },
     "metadata": {},
     "output_type": "display_data"
    },
    {
     "data": {
      "text/html": [
       "Find logs at: <code>./wandb/run-20220818_030859-3c456aix/logs</code>"
      ],
      "text/plain": [
       "<IPython.core.display.HTML object>"
      ]
     },
     "metadata": {},
     "output_type": "display_data"
    },
    {
     "name": "stdout",
     "output_type": "stream",
     "text": [
      "dr-0.5,arch-[64, 512],bs-16,seed-60,index-1,epoch-15\n"
     ]
    },
    {
     "data": {
      "text/html": [
       "Tracking run with wandb version 0.13.1"
      ],
      "text/plain": [
       "<IPython.core.display.HTML object>"
      ]
     },
     "metadata": {},
     "output_type": "display_data"
    },
    {
     "data": {
      "text/html": [
       "Run data is saved locally in <code>/home/jupyter/wandb/run-20220818_031014-2f7m5ens</code>"
      ],
      "text/plain": [
       "<IPython.core.display.HTML object>"
      ]
     },
     "metadata": {},
     "output_type": "display_data"
    },
    {
     "data": {
      "text/html": [
       "Syncing run <strong><a href=\"https://wandb.ai/miraclelinzzz/Final-ensemble/runs/2f7m5ens\" target=\"_blank\">rose-glade-246</a></strong> to <a href=\"https://wandb.ai/miraclelinzzz/Final-ensemble\" target=\"_blank\">Weights & Biases</a> (<a href=\"https://wandb.me/run\" target=\"_blank\">docs</a>)<br/>"
      ],
      "text/plain": [
       "<IPython.core.display.HTML object>"
      ]
     },
     "metadata": {},
     "output_type": "display_data"
    },
    {
     "data": {
      "text/html": [
       "Waiting for W&B process to finish... <strong style=\"color:green\">(success).</strong>"
      ],
      "text/plain": [
       "<IPython.core.display.HTML object>"
      ]
     },
     "metadata": {},
     "output_type": "display_data"
    },
    {
     "data": {
      "text/html": [
       "<style>\n",
       "    table.wandb td:nth-child(1) { padding: 0 10px; text-align: left ; width: auto;} td:nth-child(2) {text-align: left ; width: 100%}\n",
       "    .wandb-row { display: flex; flex-direction: row; flex-wrap: wrap; justify-content: flex-start; width: 100% }\n",
       "    .wandb-col { display: flex; flex-direction: column; flex-basis: 100%; flex: 1; padding: 10px; }\n",
       "    </style>\n",
       "<div class=\"wandb-row\"><div class=\"wandb-col\"><h3>Run history:</h3><br/><table class=\"wandb\"><tr><td>Training Acc</td><td>▁▂▃▃▃▃▆▅▇▇▇██▇█</td></tr><tr><td>Training Loss</td><td>█▇▆▆▆▅▄▄▂▃▂▁▁▂▁</td></tr><tr><td>Validation Acc</td><td>▁▁▃▇▄▁▆▄▄▃█▂▇█▅</td></tr><tr><td>Validation Loss</td><td>▅▅▅▃▂█▂▄▄▃▃▅▁▁▂</td></tr></table><br/></div><div class=\"wandb-col\"><h3>Run summary:</h3><br/><table class=\"wandb\"><tr><td>Training Acc</td><td>0.95139</td></tr><tr><td>Training Loss</td><td>0.3059</td></tr><tr><td>Validation Acc</td><td>0.66667</td></tr><tr><td>Validation Loss</td><td>0.50914</td></tr><tr><td>test_accuracy</td><td>0.82143</td></tr><tr><td>test_losss</td><td>0.45612</td></tr></table><br/></div></div>"
      ],
      "text/plain": [
       "<IPython.core.display.HTML object>"
      ]
     },
     "metadata": {},
     "output_type": "display_data"
    },
    {
     "data": {
      "text/html": [
       "Synced <strong style=\"color:#cdcd00\">rose-glade-246</strong>: <a href=\"https://wandb.ai/miraclelinzzz/Final-ensemble/runs/2f7m5ens\" target=\"_blank\">https://wandb.ai/miraclelinzzz/Final-ensemble/runs/2f7m5ens</a><br/>Synced 5 W&B file(s), 0 media file(s), 0 artifact file(s) and 0 other file(s)"
      ],
      "text/plain": [
       "<IPython.core.display.HTML object>"
      ]
     },
     "metadata": {},
     "output_type": "display_data"
    },
    {
     "data": {
      "text/html": [
       "Find logs at: <code>./wandb/run-20220818_031014-2f7m5ens/logs</code>"
      ],
      "text/plain": [
       "<IPython.core.display.HTML object>"
      ]
     },
     "metadata": {},
     "output_type": "display_data"
    },
    {
     "name": "stdout",
     "output_type": "stream",
     "text": [
      "dr-0.5,arch-[64, 512],bs-16,seed-60,index-2,epoch-15\n"
     ]
    },
    {
     "data": {
      "text/html": [
       "Tracking run with wandb version 0.13.1"
      ],
      "text/plain": [
       "<IPython.core.display.HTML object>"
      ]
     },
     "metadata": {},
     "output_type": "display_data"
    },
    {
     "data": {
      "text/html": [
       "Run data is saved locally in <code>/home/jupyter/wandb/run-20220818_031129-1ld2shn2</code>"
      ],
      "text/plain": [
       "<IPython.core.display.HTML object>"
      ]
     },
     "metadata": {},
     "output_type": "display_data"
    },
    {
     "data": {
      "text/html": [
       "Syncing run <strong><a href=\"https://wandb.ai/miraclelinzzz/Final-ensemble/runs/1ld2shn2\" target=\"_blank\">glowing-sunset-247</a></strong> to <a href=\"https://wandb.ai/miraclelinzzz/Final-ensemble\" target=\"_blank\">Weights & Biases</a> (<a href=\"https://wandb.me/run\" target=\"_blank\">docs</a>)<br/>"
      ],
      "text/plain": [
       "<IPython.core.display.HTML object>"
      ]
     },
     "metadata": {},
     "output_type": "display_data"
    },
    {
     "data": {
      "text/html": [
       "Waiting for W&B process to finish... <strong style=\"color:green\">(success).</strong>"
      ],
      "text/plain": [
       "<IPython.core.display.HTML object>"
      ]
     },
     "metadata": {},
     "output_type": "display_data"
    },
    {
     "data": {
      "text/html": [
       "<style>\n",
       "    table.wandb td:nth-child(1) { padding: 0 10px; text-align: left ; width: auto;} td:nth-child(2) {text-align: left ; width: 100%}\n",
       "    .wandb-row { display: flex; flex-direction: row; flex-wrap: wrap; justify-content: flex-start; width: 100% }\n",
       "    .wandb-col { display: flex; flex-direction: column; flex-basis: 100%; flex: 1; padding: 10px; }\n",
       "    </style>\n",
       "<div class=\"wandb-row\"><div class=\"wandb-col\"><h3>Run history:</h3><br/><table class=\"wandb\"><tr><td>Training Acc</td><td>▁▃▃▄▃▃▅▅▆▆▆▇██▇</td></tr><tr><td>Training Loss</td><td>█▇▆▅▅▅▄▄▃▃▂▂▁▁▁</td></tr><tr><td>Validation Acc</td><td>▁▁▁▃▆▂▃▅▆█▃██▇▇</td></tr><tr><td>Validation Loss</td><td>██▆▅▅▄▅▇▃▃▄▁▂▂▁</td></tr></table><br/></div><div class=\"wandb-col\"><h3>Run summary:</h3><br/><table class=\"wandb\"><tr><td>Training Acc</td><td>0.85417</td></tr><tr><td>Training Loss</td><td>0.39163</td></tr><tr><td>Validation Acc</td><td>0.85417</td></tr><tr><td>Validation Loss</td><td>0.43376</td></tr><tr><td>test_accuracy</td><td>0.83036</td></tr><tr><td>test_losss</td><td>0.4534</td></tr></table><br/></div></div>"
      ],
      "text/plain": [
       "<IPython.core.display.HTML object>"
      ]
     },
     "metadata": {},
     "output_type": "display_data"
    },
    {
     "data": {
      "text/html": [
       "Synced <strong style=\"color:#cdcd00\">glowing-sunset-247</strong>: <a href=\"https://wandb.ai/miraclelinzzz/Final-ensemble/runs/1ld2shn2\" target=\"_blank\">https://wandb.ai/miraclelinzzz/Final-ensemble/runs/1ld2shn2</a><br/>Synced 5 W&B file(s), 0 media file(s), 0 artifact file(s) and 0 other file(s)"
      ],
      "text/plain": [
       "<IPython.core.display.HTML object>"
      ]
     },
     "metadata": {},
     "output_type": "display_data"
    },
    {
     "data": {
      "text/html": [
       "Find logs at: <code>./wandb/run-20220818_031129-1ld2shn2/logs</code>"
      ],
      "text/plain": [
       "<IPython.core.display.HTML object>"
      ]
     },
     "metadata": {},
     "output_type": "display_data"
    },
    {
     "name": "stdout",
     "output_type": "stream",
     "text": [
      "dr-0.5,arch-[64, 512],bs-16,seed-60,index-3,epoch-15\n"
     ]
    },
    {
     "data": {
      "text/html": [
       "Tracking run with wandb version 0.13.1"
      ],
      "text/plain": [
       "<IPython.core.display.HTML object>"
      ]
     },
     "metadata": {},
     "output_type": "display_data"
    },
    {
     "data": {
      "text/html": [
       "Run data is saved locally in <code>/home/jupyter/wandb/run-20220818_031245-18873dvn</code>"
      ],
      "text/plain": [
       "<IPython.core.display.HTML object>"
      ]
     },
     "metadata": {},
     "output_type": "display_data"
    },
    {
     "data": {
      "text/html": [
       "Syncing run <strong><a href=\"https://wandb.ai/miraclelinzzz/Final-ensemble/runs/18873dvn\" target=\"_blank\">misunderstood-vortex-248</a></strong> to <a href=\"https://wandb.ai/miraclelinzzz/Final-ensemble\" target=\"_blank\">Weights & Biases</a> (<a href=\"https://wandb.me/run\" target=\"_blank\">docs</a>)<br/>"
      ],
      "text/plain": [
       "<IPython.core.display.HTML object>"
      ]
     },
     "metadata": {},
     "output_type": "display_data"
    },
    {
     "data": {
      "text/html": [
       "Waiting for W&B process to finish... <strong style=\"color:green\">(success).</strong>"
      ],
      "text/plain": [
       "<IPython.core.display.HTML object>"
      ]
     },
     "metadata": {},
     "output_type": "display_data"
    },
    {
     "data": {
      "text/html": [
       "<style>\n",
       "    table.wandb td:nth-child(1) { padding: 0 10px; text-align: left ; width: auto;} td:nth-child(2) {text-align: left ; width: 100%}\n",
       "    .wandb-row { display: flex; flex-direction: row; flex-wrap: wrap; justify-content: flex-start; width: 100% }\n",
       "    .wandb-col { display: flex; flex-direction: column; flex-basis: 100%; flex: 1; padding: 10px; }\n",
       "    </style>\n",
       "<div class=\"wandb-row\"><div class=\"wandb-col\"><h3>Run history:</h3><br/><table class=\"wandb\"><tr><td>Training Acc</td><td>▁▄▃▅▄▅▅▇▇▅█████</td></tr><tr><td>Training Loss</td><td>█▆▆▅▅▄▄▃▃▃▂▁▁▁▁</td></tr><tr><td>Validation Acc</td><td>▃▅▁▆▄▄▃▆▇█▆█▆▇▇</td></tr><tr><td>Validation Loss</td><td>██▇▄▆▄▅▇▂▂▂▁▅▁▁</td></tr></table><br/></div><div class=\"wandb-col\"><h3>Run summary:</h3><br/><table class=\"wandb\"><tr><td>Training Acc</td><td>0.92361</td></tr><tr><td>Training Loss</td><td>0.29668</td></tr><tr><td>Validation Acc</td><td>0.85417</td></tr><tr><td>Validation Loss</td><td>0.41598</td></tr><tr><td>test_accuracy</td><td>0.79286</td></tr><tr><td>test_losss</td><td>0.45902</td></tr></table><br/></div></div>"
      ],
      "text/plain": [
       "<IPython.core.display.HTML object>"
      ]
     },
     "metadata": {},
     "output_type": "display_data"
    },
    {
     "data": {
      "text/html": [
       "Synced <strong style=\"color:#cdcd00\">misunderstood-vortex-248</strong>: <a href=\"https://wandb.ai/miraclelinzzz/Final-ensemble/runs/18873dvn\" target=\"_blank\">https://wandb.ai/miraclelinzzz/Final-ensemble/runs/18873dvn</a><br/>Synced 5 W&B file(s), 0 media file(s), 0 artifact file(s) and 0 other file(s)"
      ],
      "text/plain": [
       "<IPython.core.display.HTML object>"
      ]
     },
     "metadata": {},
     "output_type": "display_data"
    },
    {
     "data": {
      "text/html": [
       "Find logs at: <code>./wandb/run-20220818_031245-18873dvn/logs</code>"
      ],
      "text/plain": [
       "<IPython.core.display.HTML object>"
      ]
     },
     "metadata": {},
     "output_type": "display_data"
    },
    {
     "name": "stdout",
     "output_type": "stream",
     "text": [
      "dr-0.3,arch-[256, 512, 64],bs-8,seed-60,index-1,epoch-15\n"
     ]
    },
    {
     "data": {
      "text/html": [
       "Tracking run with wandb version 0.13.1"
      ],
      "text/plain": [
       "<IPython.core.display.HTML object>"
      ]
     },
     "metadata": {},
     "output_type": "display_data"
    },
    {
     "data": {
      "text/html": [
       "Run data is saved locally in <code>/home/jupyter/wandb/run-20220818_031359-2min8k8r</code>"
      ],
      "text/plain": [
       "<IPython.core.display.HTML object>"
      ]
     },
     "metadata": {},
     "output_type": "display_data"
    },
    {
     "data": {
      "text/html": [
       "Syncing run <strong><a href=\"https://wandb.ai/miraclelinzzz/Final-ensemble/runs/2min8k8r\" target=\"_blank\">eager-wind-249</a></strong> to <a href=\"https://wandb.ai/miraclelinzzz/Final-ensemble\" target=\"_blank\">Weights & Biases</a> (<a href=\"https://wandb.me/run\" target=\"_blank\">docs</a>)<br/>"
      ],
      "text/plain": [
       "<IPython.core.display.HTML object>"
      ]
     },
     "metadata": {},
     "output_type": "display_data"
    },
    {
     "data": {
      "text/html": [
       "Waiting for W&B process to finish... <strong style=\"color:green\">(success).</strong>"
      ],
      "text/plain": [
       "<IPython.core.display.HTML object>"
      ]
     },
     "metadata": {},
     "output_type": "display_data"
    },
    {
     "data": {
      "text/html": [
       "<style>\n",
       "    table.wandb td:nth-child(1) { padding: 0 10px; text-align: left ; width: auto;} td:nth-child(2) {text-align: left ; width: 100%}\n",
       "    .wandb-row { display: flex; flex-direction: row; flex-wrap: wrap; justify-content: flex-start; width: 100% }\n",
       "    .wandb-col { display: flex; flex-direction: column; flex-basis: 100%; flex: 1; padding: 10px; }\n",
       "    </style>\n",
       "<div class=\"wandb-row\"><div class=\"wandb-col\"><h3>Run history:</h3><br/><table class=\"wandb\"><tr><td>Training Acc</td><td>▁▁▃▃▃▄▄▅▅▇▇▇███</td></tr><tr><td>Training Loss</td><td>█▇▆▆▆▅▅▄▄▂▂▂▁▁▁</td></tr><tr><td>Validation Acc</td><td>▂▂▂▄▅▁█▅█▅▃█▇▇▇</td></tr><tr><td>Validation Loss</td><td>▆▆▇▅▅█▄▄▃▄▂▁▁▁▂</td></tr></table><br/></div><div class=\"wandb-col\"><h3>Run summary:</h3><br/><table class=\"wandb\"><tr><td>Training Acc</td><td>0.94118</td></tr><tr><td>Training Loss</td><td>0.26681</td></tr><tr><td>Validation Acc</td><td>0.65</td></tr><tr><td>Validation Loss</td><td>0.59677</td></tr><tr><td>test_accuracy</td><td>0.71825</td></tr><tr><td>test_losss</td><td>0.46913</td></tr></table><br/></div></div>"
      ],
      "text/plain": [
       "<IPython.core.display.HTML object>"
      ]
     },
     "metadata": {},
     "output_type": "display_data"
    },
    {
     "data": {
      "text/html": [
       "Synced <strong style=\"color:#cdcd00\">eager-wind-249</strong>: <a href=\"https://wandb.ai/miraclelinzzz/Final-ensemble/runs/2min8k8r\" target=\"_blank\">https://wandb.ai/miraclelinzzz/Final-ensemble/runs/2min8k8r</a><br/>Synced 5 W&B file(s), 0 media file(s), 0 artifact file(s) and 0 other file(s)"
      ],
      "text/plain": [
       "<IPython.core.display.HTML object>"
      ]
     },
     "metadata": {},
     "output_type": "display_data"
    },
    {
     "data": {
      "text/html": [
       "Find logs at: <code>./wandb/run-20220818_031359-2min8k8r/logs</code>"
      ],
      "text/plain": [
       "<IPython.core.display.HTML object>"
      ]
     },
     "metadata": {},
     "output_type": "display_data"
    },
    {
     "name": "stdout",
     "output_type": "stream",
     "text": [
      "dr-0.3,arch-[256, 512, 64],bs-8,seed-60,index-2,epoch-15\n"
     ]
    },
    {
     "data": {
      "text/html": [
       "Tracking run with wandb version 0.13.1"
      ],
      "text/plain": [
       "<IPython.core.display.HTML object>"
      ]
     },
     "metadata": {},
     "output_type": "display_data"
    },
    {
     "data": {
      "text/html": [
       "Run data is saved locally in <code>/home/jupyter/wandb/run-20220818_031519-3p4du4rc</code>"
      ],
      "text/plain": [
       "<IPython.core.display.HTML object>"
      ]
     },
     "metadata": {},
     "output_type": "display_data"
    },
    {
     "data": {
      "text/html": [
       "Syncing run <strong><a href=\"https://wandb.ai/miraclelinzzz/Final-ensemble/runs/3p4du4rc\" target=\"_blank\">cosmic-water-250</a></strong> to <a href=\"https://wandb.ai/miraclelinzzz/Final-ensemble\" target=\"_blank\">Weights & Biases</a> (<a href=\"https://wandb.me/run\" target=\"_blank\">docs</a>)<br/>"
      ],
      "text/plain": [
       "<IPython.core.display.HTML object>"
      ]
     },
     "metadata": {},
     "output_type": "display_data"
    },
    {
     "data": {
      "text/html": [
       "Waiting for W&B process to finish... <strong style=\"color:green\">(success).</strong>"
      ],
      "text/plain": [
       "<IPython.core.display.HTML object>"
      ]
     },
     "metadata": {},
     "output_type": "display_data"
    },
    {
     "data": {
      "text/html": [
       "<style>\n",
       "    table.wandb td:nth-child(1) { padding: 0 10px; text-align: left ; width: auto;} td:nth-child(2) {text-align: left ; width: 100%}\n",
       "    .wandb-row { display: flex; flex-direction: row; flex-wrap: wrap; justify-content: flex-start; width: 100% }\n",
       "    .wandb-col { display: flex; flex-direction: column; flex-basis: 100%; flex: 1; padding: 10px; }\n",
       "    </style>\n",
       "<div class=\"wandb-row\"><div class=\"wandb-col\"><h3>Run history:</h3><br/><table class=\"wandb\"><tr><td>Training Acc</td><td>▁▁▃▅▅▄▅▆▇▇▇████</td></tr><tr><td>Training Loss</td><td>█▇▆▅▅▅▄▃▂▃▂▁▁▁▁</td></tr><tr><td>Validation Acc</td><td>▃▄▆█▂▁▂▇▇▇█▆▇█▇</td></tr><tr><td>Validation Loss</td><td>▃▃▂▂▄█▄▂▂▃▂▂▂▁▂</td></tr></table><br/></div><div class=\"wandb-col\"><h3>Run summary:</h3><br/><table class=\"wandb\"><tr><td>Training Acc</td><td>0.96324</td></tr><tr><td>Training Loss</td><td>0.21982</td></tr><tr><td>Validation Acc</td><td>0.775</td></tr><tr><td>Validation Loss</td><td>0.52217</td></tr><tr><td>test_accuracy</td><td>0.82937</td></tr><tr><td>test_losss</td><td>0.40849</td></tr></table><br/></div></div>"
      ],
      "text/plain": [
       "<IPython.core.display.HTML object>"
      ]
     },
     "metadata": {},
     "output_type": "display_data"
    },
    {
     "data": {
      "text/html": [
       "Synced <strong style=\"color:#cdcd00\">cosmic-water-250</strong>: <a href=\"https://wandb.ai/miraclelinzzz/Final-ensemble/runs/3p4du4rc\" target=\"_blank\">https://wandb.ai/miraclelinzzz/Final-ensemble/runs/3p4du4rc</a><br/>Synced 5 W&B file(s), 0 media file(s), 0 artifact file(s) and 0 other file(s)"
      ],
      "text/plain": [
       "<IPython.core.display.HTML object>"
      ]
     },
     "metadata": {},
     "output_type": "display_data"
    },
    {
     "data": {
      "text/html": [
       "Find logs at: <code>./wandb/run-20220818_031519-3p4du4rc/logs</code>"
      ],
      "text/plain": [
       "<IPython.core.display.HTML object>"
      ]
     },
     "metadata": {},
     "output_type": "display_data"
    },
    {
     "name": "stdout",
     "output_type": "stream",
     "text": [
      "dr-0.3,arch-[256, 512, 64],bs-8,seed-60,index-3,epoch-15\n"
     ]
    },
    {
     "data": {
      "text/html": [
       "Tracking run with wandb version 0.13.1"
      ],
      "text/plain": [
       "<IPython.core.display.HTML object>"
      ]
     },
     "metadata": {},
     "output_type": "display_data"
    },
    {
     "data": {
      "text/html": [
       "Run data is saved locally in <code>/home/jupyter/wandb/run-20220818_031639-2omhd2xv</code>"
      ],
      "text/plain": [
       "<IPython.core.display.HTML object>"
      ]
     },
     "metadata": {},
     "output_type": "display_data"
    },
    {
     "data": {
      "text/html": [
       "Syncing run <strong><a href=\"https://wandb.ai/miraclelinzzz/Final-ensemble/runs/2omhd2xv\" target=\"_blank\">exalted-spaceship-251</a></strong> to <a href=\"https://wandb.ai/miraclelinzzz/Final-ensemble\" target=\"_blank\">Weights & Biases</a> (<a href=\"https://wandb.me/run\" target=\"_blank\">docs</a>)<br/>"
      ],
      "text/plain": [
       "<IPython.core.display.HTML object>"
      ]
     },
     "metadata": {},
     "output_type": "display_data"
    },
    {
     "data": {
      "text/html": [
       "Waiting for W&B process to finish... <strong style=\"color:green\">(success).</strong>"
      ],
      "text/plain": [
       "<IPython.core.display.HTML object>"
      ]
     },
     "metadata": {},
     "output_type": "display_data"
    },
    {
     "data": {
      "text/html": [
       "<style>\n",
       "    table.wandb td:nth-child(1) { padding: 0 10px; text-align: left ; width: auto;} td:nth-child(2) {text-align: left ; width: 100%}\n",
       "    .wandb-row { display: flex; flex-direction: row; flex-wrap: wrap; justify-content: flex-start; width: 100% }\n",
       "    .wandb-col { display: flex; flex-direction: column; flex-basis: 100%; flex: 1; padding: 10px; }\n",
       "    </style>\n",
       "<div class=\"wandb-row\"><div class=\"wandb-col\"><h3>Run history:</h3><br/><table class=\"wandb\"><tr><td>Training Acc</td><td>▁▂▄▄▄▅▅▇▆▇▇▇▇██</td></tr><tr><td>Training Loss</td><td>█▇▆▆▅▅▄▃▃▃▂▁▁▁▁</td></tr><tr><td>Validation Acc</td><td>▁▅▃▃▅▄██▆█▆▅▇▆█</td></tr><tr><td>Validation Loss</td><td>▆▆▅▆▃▃▂▁█▂▃█▃▄▁</td></tr></table><br/></div><div class=\"wandb-col\"><h3>Run summary:</h3><br/><table class=\"wandb\"><tr><td>Training Acc</td><td>0.97794</td></tr><tr><td>Training Loss</td><td>0.24407</td></tr><tr><td>Validation Acc</td><td>0.8</td></tr><tr><td>Validation Loss</td><td>0.45988</td></tr><tr><td>test_accuracy</td><td>0.78968</td></tr><tr><td>test_losss</td><td>0.45965</td></tr></table><br/></div></div>"
      ],
      "text/plain": [
       "<IPython.core.display.HTML object>"
      ]
     },
     "metadata": {},
     "output_type": "display_data"
    },
    {
     "data": {
      "text/html": [
       "Synced <strong style=\"color:#cdcd00\">exalted-spaceship-251</strong>: <a href=\"https://wandb.ai/miraclelinzzz/Final-ensemble/runs/2omhd2xv\" target=\"_blank\">https://wandb.ai/miraclelinzzz/Final-ensemble/runs/2omhd2xv</a><br/>Synced 5 W&B file(s), 0 media file(s), 0 artifact file(s) and 0 other file(s)"
      ],
      "text/plain": [
       "<IPython.core.display.HTML object>"
      ]
     },
     "metadata": {},
     "output_type": "display_data"
    },
    {
     "data": {
      "text/html": [
       "Find logs at: <code>./wandb/run-20220818_031639-2omhd2xv/logs</code>"
      ],
      "text/plain": [
       "<IPython.core.display.HTML object>"
      ]
     },
     "metadata": {},
     "output_type": "display_data"
    },
    {
     "name": "stdout",
     "output_type": "stream",
     "text": [
      "dr-0.3,arch-[128],bs-8,seed-60,index-1,epoch-15\n"
     ]
    },
    {
     "data": {
      "text/html": [
       "Tracking run with wandb version 0.13.1"
      ],
      "text/plain": [
       "<IPython.core.display.HTML object>"
      ]
     },
     "metadata": {},
     "output_type": "display_data"
    },
    {
     "data": {
      "text/html": [
       "Run data is saved locally in <code>/home/jupyter/wandb/run-20220818_031800-2plc0mhy</code>"
      ],
      "text/plain": [
       "<IPython.core.display.HTML object>"
      ]
     },
     "metadata": {},
     "output_type": "display_data"
    },
    {
     "data": {
      "text/html": [
       "Syncing run <strong><a href=\"https://wandb.ai/miraclelinzzz/Final-ensemble/runs/2plc0mhy\" target=\"_blank\">ethereal-pine-252</a></strong> to <a href=\"https://wandb.ai/miraclelinzzz/Final-ensemble\" target=\"_blank\">Weights & Biases</a> (<a href=\"https://wandb.me/run\" target=\"_blank\">docs</a>)<br/>"
      ],
      "text/plain": [
       "<IPython.core.display.HTML object>"
      ]
     },
     "metadata": {},
     "output_type": "display_data"
    },
    {
     "data": {
      "text/html": [
       "Waiting for W&B process to finish... <strong style=\"color:green\">(success).</strong>"
      ],
      "text/plain": [
       "<IPython.core.display.HTML object>"
      ]
     },
     "metadata": {},
     "output_type": "display_data"
    },
    {
     "data": {
      "text/html": [
       "<style>\n",
       "    table.wandb td:nth-child(1) { padding: 0 10px; text-align: left ; width: auto;} td:nth-child(2) {text-align: left ; width: 100%}\n",
       "    .wandb-row { display: flex; flex-direction: row; flex-wrap: wrap; justify-content: flex-start; width: 100% }\n",
       "    .wandb-col { display: flex; flex-direction: column; flex-basis: 100%; flex: 1; padding: 10px; }\n",
       "    </style>\n",
       "<div class=\"wandb-row\"><div class=\"wandb-col\"><h3>Run history:</h3><br/><table class=\"wandb\"><tr><td>Training Acc</td><td>▁▄▅▇█▆█████████</td></tr><tr><td>Training Loss</td><td>█▆▃▂▂▃▂▁▁▁▂▂▁▁▁</td></tr><tr><td>Validation Acc</td><td>▁▃▅▅▆▇▅▇▆▅▆▇█▇▇</td></tr><tr><td>Validation Loss</td><td>▄▃▄▄▅▁█▃▇▇▆▃▂▂▁</td></tr></table><br/></div><div class=\"wandb-col\"><h3>Run summary:</h3><br/><table class=\"wandb\"><tr><td>Training Acc</td><td>1.0</td></tr><tr><td>Training Loss</td><td>0.0811</td></tr><tr><td>Validation Acc</td><td>0.8</td></tr><tr><td>Validation Loss</td><td>0.52384</td></tr><tr><td>test_accuracy</td><td>0.87302</td></tr><tr><td>test_losss</td><td>0.40553</td></tr></table><br/></div></div>"
      ],
      "text/plain": [
       "<IPython.core.display.HTML object>"
      ]
     },
     "metadata": {},
     "output_type": "display_data"
    },
    {
     "data": {
      "text/html": [
       "Synced <strong style=\"color:#cdcd00\">ethereal-pine-252</strong>: <a href=\"https://wandb.ai/miraclelinzzz/Final-ensemble/runs/2plc0mhy\" target=\"_blank\">https://wandb.ai/miraclelinzzz/Final-ensemble/runs/2plc0mhy</a><br/>Synced 5 W&B file(s), 0 media file(s), 0 artifact file(s) and 0 other file(s)"
      ],
      "text/plain": [
       "<IPython.core.display.HTML object>"
      ]
     },
     "metadata": {},
     "output_type": "display_data"
    },
    {
     "data": {
      "text/html": [
       "Find logs at: <code>./wandb/run-20220818_031800-2plc0mhy/logs</code>"
      ],
      "text/plain": [
       "<IPython.core.display.HTML object>"
      ]
     },
     "metadata": {},
     "output_type": "display_data"
    },
    {
     "name": "stdout",
     "output_type": "stream",
     "text": [
      "dr-0.3,arch-[128],bs-8,seed-60,index-2,epoch-15\n"
     ]
    },
    {
     "data": {
      "text/html": [
       "Tracking run with wandb version 0.13.1"
      ],
      "text/plain": [
       "<IPython.core.display.HTML object>"
      ]
     },
     "metadata": {},
     "output_type": "display_data"
    },
    {
     "data": {
      "text/html": [
       "Run data is saved locally in <code>/home/jupyter/wandb/run-20220818_031920-3oqc2eoa</code>"
      ],
      "text/plain": [
       "<IPython.core.display.HTML object>"
      ]
     },
     "metadata": {},
     "output_type": "display_data"
    },
    {
     "data": {
      "text/html": [
       "Syncing run <strong><a href=\"https://wandb.ai/miraclelinzzz/Final-ensemble/runs/3oqc2eoa\" target=\"_blank\">giddy-plant-253</a></strong> to <a href=\"https://wandb.ai/miraclelinzzz/Final-ensemble\" target=\"_blank\">Weights & Biases</a> (<a href=\"https://wandb.me/run\" target=\"_blank\">docs</a>)<br/>"
      ],
      "text/plain": [
       "<IPython.core.display.HTML object>"
      ]
     },
     "metadata": {},
     "output_type": "display_data"
    },
    {
     "data": {
      "text/html": [
       "Waiting for W&B process to finish... <strong style=\"color:green\">(success).</strong>"
      ],
      "text/plain": [
       "<IPython.core.display.HTML object>"
      ]
     },
     "metadata": {},
     "output_type": "display_data"
    },
    {
     "data": {
      "text/html": [
       "<style>\n",
       "    table.wandb td:nth-child(1) { padding: 0 10px; text-align: left ; width: auto;} td:nth-child(2) {text-align: left ; width: 100%}\n",
       "    .wandb-row { display: flex; flex-direction: row; flex-wrap: wrap; justify-content: flex-start; width: 100% }\n",
       "    .wandb-col { display: flex; flex-direction: column; flex-basis: 100%; flex: 1; padding: 10px; }\n",
       "    </style>\n",
       "<div class=\"wandb-row\"><div class=\"wandb-col\"><h3>Run history:</h3><br/><table class=\"wandb\"><tr><td>Training Acc</td><td>▁▂▆▇▆████▇█▇███</td></tr><tr><td>Training Loss</td><td>█▆▄▃▃▂▁▁▁▂▁▂▁▁▁</td></tr><tr><td>Validation Acc</td><td>▁█▄▃█▆▆▅▇▇▅██▆▇</td></tr><tr><td>Validation Loss</td><td>▃▁▅█▁▃▄▅▂▂▄▃▃▅▂</td></tr></table><br/></div><div class=\"wandb-col\"><h3>Run summary:</h3><br/><table class=\"wandb\"><tr><td>Training Acc</td><td>1.0</td></tr><tr><td>Training Loss</td><td>0.0918</td></tr><tr><td>Validation Acc</td><td>0.775</td></tr><tr><td>Validation Loss</td><td>0.60272</td></tr><tr><td>test_accuracy</td><td>0.87302</td></tr><tr><td>test_losss</td><td>0.3469</td></tr></table><br/></div></div>"
      ],
      "text/plain": [
       "<IPython.core.display.HTML object>"
      ]
     },
     "metadata": {},
     "output_type": "display_data"
    },
    {
     "data": {
      "text/html": [
       "Synced <strong style=\"color:#cdcd00\">giddy-plant-253</strong>: <a href=\"https://wandb.ai/miraclelinzzz/Final-ensemble/runs/3oqc2eoa\" target=\"_blank\">https://wandb.ai/miraclelinzzz/Final-ensemble/runs/3oqc2eoa</a><br/>Synced 5 W&B file(s), 0 media file(s), 0 artifact file(s) and 0 other file(s)"
      ],
      "text/plain": [
       "<IPython.core.display.HTML object>"
      ]
     },
     "metadata": {},
     "output_type": "display_data"
    },
    {
     "data": {
      "text/html": [
       "Find logs at: <code>./wandb/run-20220818_031920-3oqc2eoa/logs</code>"
      ],
      "text/plain": [
       "<IPython.core.display.HTML object>"
      ]
     },
     "metadata": {},
     "output_type": "display_data"
    },
    {
     "name": "stdout",
     "output_type": "stream",
     "text": [
      "dr-0.3,arch-[128],bs-8,seed-60,index-3,epoch-15\n"
     ]
    },
    {
     "data": {
      "text/html": [
       "Tracking run with wandb version 0.13.1"
      ],
      "text/plain": [
       "<IPython.core.display.HTML object>"
      ]
     },
     "metadata": {},
     "output_type": "display_data"
    },
    {
     "data": {
      "text/html": [
       "Run data is saved locally in <code>/home/jupyter/wandb/run-20220818_032039-312252en</code>"
      ],
      "text/plain": [
       "<IPython.core.display.HTML object>"
      ]
     },
     "metadata": {},
     "output_type": "display_data"
    },
    {
     "data": {
      "text/html": [
       "Syncing run <strong><a href=\"https://wandb.ai/miraclelinzzz/Final-ensemble/runs/312252en\" target=\"_blank\">vocal-donkey-254</a></strong> to <a href=\"https://wandb.ai/miraclelinzzz/Final-ensemble\" target=\"_blank\">Weights & Biases</a> (<a href=\"https://wandb.me/run\" target=\"_blank\">docs</a>)<br/>"
      ],
      "text/plain": [
       "<IPython.core.display.HTML object>"
      ]
     },
     "metadata": {},
     "output_type": "display_data"
    },
    {
     "data": {
      "text/html": [
       "Waiting for W&B process to finish... <strong style=\"color:green\">(success).</strong>"
      ],
      "text/plain": [
       "<IPython.core.display.HTML object>"
      ]
     },
     "metadata": {},
     "output_type": "display_data"
    },
    {
     "data": {
      "text/html": [
       "<style>\n",
       "    table.wandb td:nth-child(1) { padding: 0 10px; text-align: left ; width: auto;} td:nth-child(2) {text-align: left ; width: 100%}\n",
       "    .wandb-row { display: flex; flex-direction: row; flex-wrap: wrap; justify-content: flex-start; width: 100% }\n",
       "    .wandb-col { display: flex; flex-direction: column; flex-basis: 100%; flex: 1; padding: 10px; }\n",
       "    </style>\n",
       "<div class=\"wandb-row\"><div class=\"wandb-col\"><h3>Run history:</h3><br/><table class=\"wandb\"><tr><td>Training Acc</td><td>▁▄▅▇▇█▇████████</td></tr><tr><td>Training Loss</td><td>█▆▅▃▂▂▂▁▁▂▁▁▁▁▁</td></tr><tr><td>Validation Acc</td><td>▂█▁▂▅█▂▅▁▇▅▇▇▅▇</td></tr><tr><td>Validation Loss</td><td>▃▂▇▄▃▁▇▄█▃▄▂▂▄▂</td></tr></table><br/></div><div class=\"wandb-col\"><h3>Run summary:</h3><br/><table class=\"wandb\"><tr><td>Training Acc</td><td>1.0</td></tr><tr><td>Training Loss</td><td>0.09359</td></tr><tr><td>Validation Acc</td><td>0.825</td></tr><tr><td>Validation Loss</td><td>0.50412</td></tr><tr><td>test_accuracy</td><td>0.84524</td></tr><tr><td>test_losss</td><td>0.46166</td></tr></table><br/></div></div>"
      ],
      "text/plain": [
       "<IPython.core.display.HTML object>"
      ]
     },
     "metadata": {},
     "output_type": "display_data"
    },
    {
     "data": {
      "text/html": [
       "Synced <strong style=\"color:#cdcd00\">vocal-donkey-254</strong>: <a href=\"https://wandb.ai/miraclelinzzz/Final-ensemble/runs/312252en\" target=\"_blank\">https://wandb.ai/miraclelinzzz/Final-ensemble/runs/312252en</a><br/>Synced 5 W&B file(s), 0 media file(s), 0 artifact file(s) and 0 other file(s)"
      ],
      "text/plain": [
       "<IPython.core.display.HTML object>"
      ]
     },
     "metadata": {},
     "output_type": "display_data"
    },
    {
     "data": {
      "text/html": [
       "Find logs at: <code>./wandb/run-20220818_032039-312252en/logs</code>"
      ],
      "text/plain": [
       "<IPython.core.display.HTML object>"
      ]
     },
     "metadata": {},
     "output_type": "display_data"
    },
    {
     "name": "stdout",
     "output_type": "stream",
     "text": [
      "dr-0.4,arch-[128, 512, 256],bs-16,seed-60,index-1,epoch-15\n"
     ]
    },
    {
     "data": {
      "text/html": [
       "Tracking run with wandb version 0.13.1"
      ],
      "text/plain": [
       "<IPython.core.display.HTML object>"
      ]
     },
     "metadata": {},
     "output_type": "display_data"
    },
    {
     "data": {
      "text/html": [
       "Run data is saved locally in <code>/home/jupyter/wandb/run-20220818_032159-dj86cdm7</code>"
      ],
      "text/plain": [
       "<IPython.core.display.HTML object>"
      ]
     },
     "metadata": {},
     "output_type": "display_data"
    },
    {
     "data": {
      "text/html": [
       "Syncing run <strong><a href=\"https://wandb.ai/miraclelinzzz/Final-ensemble/runs/dj86cdm7\" target=\"_blank\">clean-energy-255</a></strong> to <a href=\"https://wandb.ai/miraclelinzzz/Final-ensemble\" target=\"_blank\">Weights & Biases</a> (<a href=\"https://wandb.me/run\" target=\"_blank\">docs</a>)<br/>"
      ],
      "text/plain": [
       "<IPython.core.display.HTML object>"
      ]
     },
     "metadata": {},
     "output_type": "display_data"
    },
    {
     "data": {
      "text/html": [
       "Waiting for W&B process to finish... <strong style=\"color:green\">(success).</strong>"
      ],
      "text/plain": [
       "<IPython.core.display.HTML object>"
      ]
     },
     "metadata": {},
     "output_type": "display_data"
    },
    {
     "data": {
      "text/html": [
       "<style>\n",
       "    table.wandb td:nth-child(1) { padding: 0 10px; text-align: left ; width: auto;} td:nth-child(2) {text-align: left ; width: 100%}\n",
       "    .wandb-row { display: flex; flex-direction: row; flex-wrap: wrap; justify-content: flex-start; width: 100% }\n",
       "    .wandb-col { display: flex; flex-direction: column; flex-basis: 100%; flex: 1; padding: 10px; }\n",
       "    </style>\n",
       "<div class=\"wandb-row\"><div class=\"wandb-col\"><h3>Run history:</h3><br/><table class=\"wandb\"><tr><td>Training Acc</td><td>▂▄▁▁▄▄▄▆▆▇▇▇▆██</td></tr><tr><td>Training Loss</td><td>▇▇█▇▆▆▆▄▄▃▂▂▂▁▂</td></tr><tr><td>Validation Acc</td><td>▃▅▁▁▆▂▆▆███▇▆▅▅</td></tr><tr><td>Validation Loss</td><td>▇▇▇▇▆█▂▄▃▂▁▂▅▆▁</td></tr></table><br/></div><div class=\"wandb-col\"><h3>Run summary:</h3><br/><table class=\"wandb\"><tr><td>Training Acc</td><td>0.92361</td></tr><tr><td>Training Loss</td><td>0.36039</td></tr><tr><td>Validation Acc</td><td>0.625</td></tr><tr><td>Validation Loss</td><td>0.49041</td></tr><tr><td>test_accuracy</td><td>0.78036</td></tr><tr><td>test_losss</td><td>0.45576</td></tr></table><br/></div></div>"
      ],
      "text/plain": [
       "<IPython.core.display.HTML object>"
      ]
     },
     "metadata": {},
     "output_type": "display_data"
    },
    {
     "data": {
      "text/html": [
       "Synced <strong style=\"color:#cdcd00\">clean-energy-255</strong>: <a href=\"https://wandb.ai/miraclelinzzz/Final-ensemble/runs/dj86cdm7\" target=\"_blank\">https://wandb.ai/miraclelinzzz/Final-ensemble/runs/dj86cdm7</a><br/>Synced 5 W&B file(s), 0 media file(s), 0 artifact file(s) and 0 other file(s)"
      ],
      "text/plain": [
       "<IPython.core.display.HTML object>"
      ]
     },
     "metadata": {},
     "output_type": "display_data"
    },
    {
     "data": {
      "text/html": [
       "Find logs at: <code>./wandb/run-20220818_032159-dj86cdm7/logs</code>"
      ],
      "text/plain": [
       "<IPython.core.display.HTML object>"
      ]
     },
     "metadata": {},
     "output_type": "display_data"
    },
    {
     "name": "stdout",
     "output_type": "stream",
     "text": [
      "dr-0.4,arch-[128, 512, 256],bs-16,seed-60,index-2,epoch-15\n"
     ]
    },
    {
     "data": {
      "text/html": [
       "Tracking run with wandb version 0.13.1"
      ],
      "text/plain": [
       "<IPython.core.display.HTML object>"
      ]
     },
     "metadata": {},
     "output_type": "display_data"
    },
    {
     "data": {
      "text/html": [
       "Run data is saved locally in <code>/home/jupyter/wandb/run-20220818_032315-2lpa7q7n</code>"
      ],
      "text/plain": [
       "<IPython.core.display.HTML object>"
      ]
     },
     "metadata": {},
     "output_type": "display_data"
    },
    {
     "data": {
      "text/html": [
       "Syncing run <strong><a href=\"https://wandb.ai/miraclelinzzz/Final-ensemble/runs/2lpa7q7n\" target=\"_blank\">rare-salad-256</a></strong> to <a href=\"https://wandb.ai/miraclelinzzz/Final-ensemble\" target=\"_blank\">Weights & Biases</a> (<a href=\"https://wandb.me/run\" target=\"_blank\">docs</a>)<br/>"
      ],
      "text/plain": [
       "<IPython.core.display.HTML object>"
      ]
     },
     "metadata": {},
     "output_type": "display_data"
    },
    {
     "data": {
      "text/html": [
       "Waiting for W&B process to finish... <strong style=\"color:green\">(success).</strong>"
      ],
      "text/plain": [
       "<IPython.core.display.HTML object>"
      ]
     },
     "metadata": {},
     "output_type": "display_data"
    },
    {
     "data": {
      "text/html": [
       "<style>\n",
       "    table.wandb td:nth-child(1) { padding: 0 10px; text-align: left ; width: auto;} td:nth-child(2) {text-align: left ; width: 100%}\n",
       "    .wandb-row { display: flex; flex-direction: row; flex-wrap: wrap; justify-content: flex-start; width: 100% }\n",
       "    .wandb-col { display: flex; flex-direction: column; flex-basis: 100%; flex: 1; padding: 10px; }\n",
       "    </style>\n",
       "<div class=\"wandb-row\"><div class=\"wandb-col\"><h3>Run history:</h3><br/><table class=\"wandb\"><tr><td>Training Acc</td><td>▁▂▁▂▃▃▄▄▆▆▇▇██▇</td></tr><tr><td>Training Loss</td><td>█▇▇▇▆▆▅▄▃▂▂▂▁▁▁</td></tr><tr><td>Validation Acc</td><td>▁▄▁▁▇▇███▅▆█▄▅█</td></tr><tr><td>Validation Loss</td><td>██▇▆▅▅▃▂▁▅▅▁▇▂▃</td></tr></table><br/></div><div class=\"wandb-col\"><h3>Run summary:</h3><br/><table class=\"wandb\"><tr><td>Training Acc</td><td>0.90972</td></tr><tr><td>Training Loss</td><td>0.28398</td></tr><tr><td>Validation Acc</td><td>0.875</td></tr><tr><td>Validation Loss</td><td>0.47539</td></tr><tr><td>test_accuracy</td><td>0.79286</td></tr><tr><td>test_losss</td><td>0.471</td></tr></table><br/></div></div>"
      ],
      "text/plain": [
       "<IPython.core.display.HTML object>"
      ]
     },
     "metadata": {},
     "output_type": "display_data"
    },
    {
     "data": {
      "text/html": [
       "Synced <strong style=\"color:#cdcd00\">rare-salad-256</strong>: <a href=\"https://wandb.ai/miraclelinzzz/Final-ensemble/runs/2lpa7q7n\" target=\"_blank\">https://wandb.ai/miraclelinzzz/Final-ensemble/runs/2lpa7q7n</a><br/>Synced 5 W&B file(s), 0 media file(s), 0 artifact file(s) and 0 other file(s)"
      ],
      "text/plain": [
       "<IPython.core.display.HTML object>"
      ]
     },
     "metadata": {},
     "output_type": "display_data"
    },
    {
     "data": {
      "text/html": [
       "Find logs at: <code>./wandb/run-20220818_032315-2lpa7q7n/logs</code>"
      ],
      "text/plain": [
       "<IPython.core.display.HTML object>"
      ]
     },
     "metadata": {},
     "output_type": "display_data"
    },
    {
     "name": "stdout",
     "output_type": "stream",
     "text": [
      "dr-0.4,arch-[128, 512, 256],bs-16,seed-60,index-3,epoch-15\n"
     ]
    },
    {
     "data": {
      "text/html": [
       "Tracking run with wandb version 0.13.1"
      ],
      "text/plain": [
       "<IPython.core.display.HTML object>"
      ]
     },
     "metadata": {},
     "output_type": "display_data"
    },
    {
     "data": {
      "text/html": [
       "Run data is saved locally in <code>/home/jupyter/wandb/run-20220818_032430-385ltjhr</code>"
      ],
      "text/plain": [
       "<IPython.core.display.HTML object>"
      ]
     },
     "metadata": {},
     "output_type": "display_data"
    },
    {
     "data": {
      "text/html": [
       "Syncing run <strong><a href=\"https://wandb.ai/miraclelinzzz/Final-ensemble/runs/385ltjhr\" target=\"_blank\">crimson-surf-257</a></strong> to <a href=\"https://wandb.ai/miraclelinzzz/Final-ensemble\" target=\"_blank\">Weights & Biases</a> (<a href=\"https://wandb.me/run\" target=\"_blank\">docs</a>)<br/>"
      ],
      "text/plain": [
       "<IPython.core.display.HTML object>"
      ]
     },
     "metadata": {},
     "output_type": "display_data"
    },
    {
     "data": {
      "text/html": [
       "Waiting for W&B process to finish... <strong style=\"color:green\">(success).</strong>"
      ],
      "text/plain": [
       "<IPython.core.display.HTML object>"
      ]
     },
     "metadata": {},
     "output_type": "display_data"
    },
    {
     "data": {
      "text/html": [
       "<style>\n",
       "    table.wandb td:nth-child(1) { padding: 0 10px; text-align: left ; width: auto;} td:nth-child(2) {text-align: left ; width: 100%}\n",
       "    .wandb-row { display: flex; flex-direction: row; flex-wrap: wrap; justify-content: flex-start; width: 100% }\n",
       "    .wandb-col { display: flex; flex-direction: column; flex-basis: 100%; flex: 1; padding: 10px; }\n",
       "    </style>\n",
       "<div class=\"wandb-row\"><div class=\"wandb-col\"><h3>Run history:</h3><br/><table class=\"wandb\"><tr><td>Training Acc</td><td>▁▁▂▃▅▃▅▄▄▇▆▇█▇█</td></tr><tr><td>Training Loss</td><td>██▇▆▄▆▅▄▅▃▃▂▂▁▁</td></tr><tr><td>Validation Acc</td><td>▆▁▄▇▄▃▅▃▆█▅▆▄▆▃</td></tr><tr><td>Validation Loss</td><td>▇▆▆▇█▅▄▃▅▅▁▂▃▅█</td></tr></table><br/></div><div class=\"wandb-col\"><h3>Run summary:</h3><br/><table class=\"wandb\"><tr><td>Training Acc</td><td>0.8125</td></tr><tr><td>Training Loss</td><td>0.43196</td></tr><tr><td>Validation Acc</td><td>0.45833</td></tr><tr><td>Validation Loss</td><td>0.70566</td></tr><tr><td>test_accuracy</td><td>0.77143</td></tr><tr><td>test_losss</td><td>0.46642</td></tr></table><br/></div></div>"
      ],
      "text/plain": [
       "<IPython.core.display.HTML object>"
      ]
     },
     "metadata": {},
     "output_type": "display_data"
    },
    {
     "data": {
      "text/html": [
       "Synced <strong style=\"color:#cdcd00\">crimson-surf-257</strong>: <a href=\"https://wandb.ai/miraclelinzzz/Final-ensemble/runs/385ltjhr\" target=\"_blank\">https://wandb.ai/miraclelinzzz/Final-ensemble/runs/385ltjhr</a><br/>Synced 5 W&B file(s), 0 media file(s), 0 artifact file(s) and 0 other file(s)"
      ],
      "text/plain": [
       "<IPython.core.display.HTML object>"
      ]
     },
     "metadata": {},
     "output_type": "display_data"
    },
    {
     "data": {
      "text/html": [
       "Find logs at: <code>./wandb/run-20220818_032430-385ltjhr/logs</code>"
      ],
      "text/plain": [
       "<IPython.core.display.HTML object>"
      ]
     },
     "metadata": {},
     "output_type": "display_data"
    },
    {
     "name": "stdout",
     "output_type": "stream",
     "text": [
      "dr-0.3,arch-[256, 64],bs-16,seed-60,index-1,epoch-15\n"
     ]
    },
    {
     "data": {
      "text/html": [
       "Tracking run with wandb version 0.13.1"
      ],
      "text/plain": [
       "<IPython.core.display.HTML object>"
      ]
     },
     "metadata": {},
     "output_type": "display_data"
    },
    {
     "data": {
      "text/html": [
       "Run data is saved locally in <code>/home/jupyter/wandb/run-20220818_032544-24ij9g1m</code>"
      ],
      "text/plain": [
       "<IPython.core.display.HTML object>"
      ]
     },
     "metadata": {},
     "output_type": "display_data"
    },
    {
     "data": {
      "text/html": [
       "Syncing run <strong><a href=\"https://wandb.ai/miraclelinzzz/Final-ensemble/runs/24ij9g1m\" target=\"_blank\">fresh-flower-258</a></strong> to <a href=\"https://wandb.ai/miraclelinzzz/Final-ensemble\" target=\"_blank\">Weights & Biases</a> (<a href=\"https://wandb.me/run\" target=\"_blank\">docs</a>)<br/>"
      ],
      "text/plain": [
       "<IPython.core.display.HTML object>"
      ]
     },
     "metadata": {},
     "output_type": "display_data"
    },
    {
     "data": {
      "text/html": [
       "Waiting for W&B process to finish... <strong style=\"color:green\">(success).</strong>"
      ],
      "text/plain": [
       "<IPython.core.display.HTML object>"
      ]
     },
     "metadata": {},
     "output_type": "display_data"
    },
    {
     "data": {
      "text/html": [
       "<style>\n",
       "    table.wandb td:nth-child(1) { padding: 0 10px; text-align: left ; width: auto;} td:nth-child(2) {text-align: left ; width: 100%}\n",
       "    .wandb-row { display: flex; flex-direction: row; flex-wrap: wrap; justify-content: flex-start; width: 100% }\n",
       "    .wandb-col { display: flex; flex-direction: column; flex-basis: 100%; flex: 1; padding: 10px; }\n",
       "    </style>\n",
       "<div class=\"wandb-row\"><div class=\"wandb-col\"><h3>Run history:</h3><br/><table class=\"wandb\"><tr><td>Training Acc</td><td>▁▄▆▅▇██▇▇██████</td></tr><tr><td>Training Loss</td><td>█▆▅▅▃▂▂▂▃▁▁▁▁▁▁</td></tr><tr><td>Validation Acc</td><td>▃▁▁▂▇▇██▄▇█▇▆██</td></tr><tr><td>Validation Loss</td><td>▆▆▆▅▃▄▂▃█▁▂▁▅▂▁</td></tr></table><br/></div><div class=\"wandb-col\"><h3>Run summary:</h3><br/><table class=\"wandb\"><tr><td>Training Acc</td><td>1.0</td></tr><tr><td>Training Loss</td><td>0.18918</td></tr><tr><td>Validation Acc</td><td>0.85417</td></tr><tr><td>Validation Loss</td><td>0.39003</td></tr><tr><td>test_accuracy</td><td>0.87143</td></tr><tr><td>test_losss</td><td>0.39039</td></tr></table><br/></div></div>"
      ],
      "text/plain": [
       "<IPython.core.display.HTML object>"
      ]
     },
     "metadata": {},
     "output_type": "display_data"
    },
    {
     "data": {
      "text/html": [
       "Synced <strong style=\"color:#cdcd00\">fresh-flower-258</strong>: <a href=\"https://wandb.ai/miraclelinzzz/Final-ensemble/runs/24ij9g1m\" target=\"_blank\">https://wandb.ai/miraclelinzzz/Final-ensemble/runs/24ij9g1m</a><br/>Synced 5 W&B file(s), 0 media file(s), 0 artifact file(s) and 0 other file(s)"
      ],
      "text/plain": [
       "<IPython.core.display.HTML object>"
      ]
     },
     "metadata": {},
     "output_type": "display_data"
    },
    {
     "data": {
      "text/html": [
       "Find logs at: <code>./wandb/run-20220818_032544-24ij9g1m/logs</code>"
      ],
      "text/plain": [
       "<IPython.core.display.HTML object>"
      ]
     },
     "metadata": {},
     "output_type": "display_data"
    },
    {
     "name": "stdout",
     "output_type": "stream",
     "text": [
      "dr-0.3,arch-[256, 64],bs-16,seed-60,index-2,epoch-15\n"
     ]
    },
    {
     "data": {
      "text/html": [
       "Tracking run with wandb version 0.13.1"
      ],
      "text/plain": [
       "<IPython.core.display.HTML object>"
      ]
     },
     "metadata": {},
     "output_type": "display_data"
    },
    {
     "data": {
      "text/html": [
       "Run data is saved locally in <code>/home/jupyter/wandb/run-20220818_032700-2snwsv88</code>"
      ],
      "text/plain": [
       "<IPython.core.display.HTML object>"
      ]
     },
     "metadata": {},
     "output_type": "display_data"
    },
    {
     "data": {
      "text/html": [
       "Syncing run <strong><a href=\"https://wandb.ai/miraclelinzzz/Final-ensemble/runs/2snwsv88\" target=\"_blank\">lunar-firebrand-259</a></strong> to <a href=\"https://wandb.ai/miraclelinzzz/Final-ensemble\" target=\"_blank\">Weights & Biases</a> (<a href=\"https://wandb.me/run\" target=\"_blank\">docs</a>)<br/>"
      ],
      "text/plain": [
       "<IPython.core.display.HTML object>"
      ]
     },
     "metadata": {},
     "output_type": "display_data"
    },
    {
     "data": {
      "text/html": [
       "Waiting for W&B process to finish... <strong style=\"color:green\">(success).</strong>"
      ],
      "text/plain": [
       "<IPython.core.display.HTML object>"
      ]
     },
     "metadata": {},
     "output_type": "display_data"
    },
    {
     "data": {
      "text/html": [
       "<style>\n",
       "    table.wandb td:nth-child(1) { padding: 0 10px; text-align: left ; width: auto;} td:nth-child(2) {text-align: left ; width: 100%}\n",
       "    .wandb-row { display: flex; flex-direction: row; flex-wrap: wrap; justify-content: flex-start; width: 100% }\n",
       "    .wandb-col { display: flex; flex-direction: column; flex-basis: 100%; flex: 1; padding: 10px; }\n",
       "    </style>\n",
       "<div class=\"wandb-row\"><div class=\"wandb-col\"><h3>Run history:</h3><br/><table class=\"wandb\"><tr><td>Training Acc</td><td>▁▃▄▅▆▇█████████</td></tr><tr><td>Training Loss</td><td>█▇▆▄▃▂▂▂▁▁▁▁▁▁▁</td></tr><tr><td>Validation Acc</td><td>▁▁▂▅▇▄██▇███▂▅█</td></tr><tr><td>Validation Loss</td><td>▇▆▅▄▂▆▃▂▁▂▁▁█▂▁</td></tr></table><br/></div><div class=\"wandb-col\"><h3>Run summary:</h3><br/><table class=\"wandb\"><tr><td>Training Acc</td><td>1.0</td></tr><tr><td>Training Loss</td><td>0.17597</td></tr><tr><td>Validation Acc</td><td>0.85417</td></tr><tr><td>Validation Loss</td><td>0.40031</td></tr><tr><td>test_accuracy</td><td>0.83393</td></tr><tr><td>test_losss</td><td>0.43063</td></tr></table><br/></div></div>"
      ],
      "text/plain": [
       "<IPython.core.display.HTML object>"
      ]
     },
     "metadata": {},
     "output_type": "display_data"
    },
    {
     "data": {
      "text/html": [
       "Synced <strong style=\"color:#cdcd00\">lunar-firebrand-259</strong>: <a href=\"https://wandb.ai/miraclelinzzz/Final-ensemble/runs/2snwsv88\" target=\"_blank\">https://wandb.ai/miraclelinzzz/Final-ensemble/runs/2snwsv88</a><br/>Synced 5 W&B file(s), 0 media file(s), 0 artifact file(s) and 0 other file(s)"
      ],
      "text/plain": [
       "<IPython.core.display.HTML object>"
      ]
     },
     "metadata": {},
     "output_type": "display_data"
    },
    {
     "data": {
      "text/html": [
       "Find logs at: <code>./wandb/run-20220818_032700-2snwsv88/logs</code>"
      ],
      "text/plain": [
       "<IPython.core.display.HTML object>"
      ]
     },
     "metadata": {},
     "output_type": "display_data"
    },
    {
     "name": "stdout",
     "output_type": "stream",
     "text": [
      "dr-0.3,arch-[256, 64],bs-16,seed-60,index-3,epoch-15\n"
     ]
    },
    {
     "data": {
      "text/html": [
       "Tracking run with wandb version 0.13.1"
      ],
      "text/plain": [
       "<IPython.core.display.HTML object>"
      ]
     },
     "metadata": {},
     "output_type": "display_data"
    },
    {
     "data": {
      "text/html": [
       "Run data is saved locally in <code>/home/jupyter/wandb/run-20220818_032815-2i1gmdgm</code>"
      ],
      "text/plain": [
       "<IPython.core.display.HTML object>"
      ]
     },
     "metadata": {},
     "output_type": "display_data"
    },
    {
     "data": {
      "text/html": [
       "Syncing run <strong><a href=\"https://wandb.ai/miraclelinzzz/Final-ensemble/runs/2i1gmdgm\" target=\"_blank\">hardy-wildflower-260</a></strong> to <a href=\"https://wandb.ai/miraclelinzzz/Final-ensemble\" target=\"_blank\">Weights & Biases</a> (<a href=\"https://wandb.me/run\" target=\"_blank\">docs</a>)<br/>"
      ],
      "text/plain": [
       "<IPython.core.display.HTML object>"
      ]
     },
     "metadata": {},
     "output_type": "display_data"
    },
    {
     "data": {
      "text/html": [
       "Waiting for W&B process to finish... <strong style=\"color:green\">(success).</strong>"
      ],
      "text/plain": [
       "<IPython.core.display.HTML object>"
      ]
     },
     "metadata": {},
     "output_type": "display_data"
    },
    {
     "data": {
      "text/html": [
       "<style>\n",
       "    table.wandb td:nth-child(1) { padding: 0 10px; text-align: left ; width: auto;} td:nth-child(2) {text-align: left ; width: 100%}\n",
       "    .wandb-row { display: flex; flex-direction: row; flex-wrap: wrap; justify-content: flex-start; width: 100% }\n",
       "    .wandb-col { display: flex; flex-direction: column; flex-basis: 100%; flex: 1; padding: 10px; }\n",
       "    </style>\n",
       "<div class=\"wandb-row\"><div class=\"wandb-col\"><h3>Run history:</h3><br/><table class=\"wandb\"><tr><td>Training Acc</td><td>▁▃▅▅▆▇▇▇███▇███</td></tr><tr><td>Training Loss</td><td>█▇▅▅▃▂▂▃▁▂▁▂▁▁▁</td></tr><tr><td>Validation Acc</td><td>▁▃▅▅▆▇▆▇█▆█████</td></tr><tr><td>Validation Loss</td><td>██▆▆▆▄▇▂▁▇▂▂▁▃▂</td></tr></table><br/></div><div class=\"wandb-col\"><h3>Run summary:</h3><br/><table class=\"wandb\"><tr><td>Training Acc</td><td>1.0</td></tr><tr><td>Training Loss</td><td>0.19397</td></tr><tr><td>Validation Acc</td><td>0.875</td></tr><tr><td>Validation Loss</td><td>0.38454</td></tr><tr><td>test_accuracy</td><td>0.80893</td></tr><tr><td>test_losss</td><td>0.47735</td></tr></table><br/></div></div>"
      ],
      "text/plain": [
       "<IPython.core.display.HTML object>"
      ]
     },
     "metadata": {},
     "output_type": "display_data"
    },
    {
     "data": {
      "text/html": [
       "Synced <strong style=\"color:#cdcd00\">hardy-wildflower-260</strong>: <a href=\"https://wandb.ai/miraclelinzzz/Final-ensemble/runs/2i1gmdgm\" target=\"_blank\">https://wandb.ai/miraclelinzzz/Final-ensemble/runs/2i1gmdgm</a><br/>Synced 5 W&B file(s), 0 media file(s), 0 artifact file(s) and 0 other file(s)"
      ],
      "text/plain": [
       "<IPython.core.display.HTML object>"
      ]
     },
     "metadata": {},
     "output_type": "display_data"
    },
    {
     "data": {
      "text/html": [
       "Find logs at: <code>./wandb/run-20220818_032815-2i1gmdgm/logs</code>"
      ],
      "text/plain": [
       "<IPython.core.display.HTML object>"
      ]
     },
     "metadata": {},
     "output_type": "display_data"
    },
    {
     "name": "stdout",
     "output_type": "stream",
     "text": [
      "dr-0.4,arch-[256, 128],bs-16,seed-60,index-1,epoch-15\n"
     ]
    },
    {
     "data": {
      "text/html": [
       "Tracking run with wandb version 0.13.1"
      ],
      "text/plain": [
       "<IPython.core.display.HTML object>"
      ]
     },
     "metadata": {},
     "output_type": "display_data"
    },
    {
     "data": {
      "text/html": [
       "Run data is saved locally in <code>/home/jupyter/wandb/run-20220818_032929-mzzzuffr</code>"
      ],
      "text/plain": [
       "<IPython.core.display.HTML object>"
      ]
     },
     "metadata": {},
     "output_type": "display_data"
    },
    {
     "data": {
      "text/html": [
       "Syncing run <strong><a href=\"https://wandb.ai/miraclelinzzz/Final-ensemble/runs/mzzzuffr\" target=\"_blank\">glamorous-sound-261</a></strong> to <a href=\"https://wandb.ai/miraclelinzzz/Final-ensemble\" target=\"_blank\">Weights & Biases</a> (<a href=\"https://wandb.me/run\" target=\"_blank\">docs</a>)<br/>"
      ],
      "text/plain": [
       "<IPython.core.display.HTML object>"
      ]
     },
     "metadata": {},
     "output_type": "display_data"
    },
    {
     "data": {
      "text/html": [
       "Waiting for W&B process to finish... <strong style=\"color:green\">(success).</strong>"
      ],
      "text/plain": [
       "<IPython.core.display.HTML object>"
      ]
     },
     "metadata": {},
     "output_type": "display_data"
    },
    {
     "data": {
      "text/html": [
       "<style>\n",
       "    table.wandb td:nth-child(1) { padding: 0 10px; text-align: left ; width: auto;} td:nth-child(2) {text-align: left ; width: 100%}\n",
       "    .wandb-row { display: flex; flex-direction: row; flex-wrap: wrap; justify-content: flex-start; width: 100% }\n",
       "    .wandb-col { display: flex; flex-direction: column; flex-basis: 100%; flex: 1; padding: 10px; }\n",
       "    </style>\n",
       "<div class=\"wandb-row\"><div class=\"wandb-col\"><h3>Run history:</h3><br/><table class=\"wandb\"><tr><td>Training Acc</td><td>▁▃▄▄▅▅▆▇▇██████</td></tr><tr><td>Training Loss</td><td>█▆▆▅▅▄▃▃▂▂▁▁▁▁▁</td></tr><tr><td>Validation Acc</td><td>▂▁▃▃▁▆▆▂▆█▇█▅██</td></tr><tr><td>Validation Loss</td><td>▄▄▃▃█▃▃▆▂▁▂▁▄▂▁</td></tr></table><br/></div><div class=\"wandb-col\"><h3>Run summary:</h3><br/><table class=\"wandb\"><tr><td>Training Acc</td><td>0.98611</td></tr><tr><td>Training Loss</td><td>0.16229</td></tr><tr><td>Validation Acc</td><td>0.85417</td></tr><tr><td>Validation Loss</td><td>0.41085</td></tr><tr><td>test_accuracy</td><td>0.8875</td></tr><tr><td>test_losss</td><td>0.36898</td></tr></table><br/></div></div>"
      ],
      "text/plain": [
       "<IPython.core.display.HTML object>"
      ]
     },
     "metadata": {},
     "output_type": "display_data"
    },
    {
     "data": {
      "text/html": [
       "Synced <strong style=\"color:#cdcd00\">glamorous-sound-261</strong>: <a href=\"https://wandb.ai/miraclelinzzz/Final-ensemble/runs/mzzzuffr\" target=\"_blank\">https://wandb.ai/miraclelinzzz/Final-ensemble/runs/mzzzuffr</a><br/>Synced 5 W&B file(s), 0 media file(s), 0 artifact file(s) and 0 other file(s)"
      ],
      "text/plain": [
       "<IPython.core.display.HTML object>"
      ]
     },
     "metadata": {},
     "output_type": "display_data"
    },
    {
     "data": {
      "text/html": [
       "Find logs at: <code>./wandb/run-20220818_032929-mzzzuffr/logs</code>"
      ],
      "text/plain": [
       "<IPython.core.display.HTML object>"
      ]
     },
     "metadata": {},
     "output_type": "display_data"
    },
    {
     "name": "stdout",
     "output_type": "stream",
     "text": [
      "dr-0.4,arch-[256, 128],bs-16,seed-60,index-2,epoch-15\n"
     ]
    },
    {
     "data": {
      "text/html": [
       "Tracking run with wandb version 0.13.1"
      ],
      "text/plain": [
       "<IPython.core.display.HTML object>"
      ]
     },
     "metadata": {},
     "output_type": "display_data"
    },
    {
     "data": {
      "text/html": [
       "Run data is saved locally in <code>/home/jupyter/wandb/run-20220818_033046-w9qgzcqk</code>"
      ],
      "text/plain": [
       "<IPython.core.display.HTML object>"
      ]
     },
     "metadata": {},
     "output_type": "display_data"
    },
    {
     "data": {
      "text/html": [
       "Syncing run <strong><a href=\"https://wandb.ai/miraclelinzzz/Final-ensemble/runs/w9qgzcqk\" target=\"_blank\">genial-totem-262</a></strong> to <a href=\"https://wandb.ai/miraclelinzzz/Final-ensemble\" target=\"_blank\">Weights & Biases</a> (<a href=\"https://wandb.me/run\" target=\"_blank\">docs</a>)<br/>"
      ],
      "text/plain": [
       "<IPython.core.display.HTML object>"
      ]
     },
     "metadata": {},
     "output_type": "display_data"
    },
    {
     "data": {
      "text/html": [
       "Waiting for W&B process to finish... <strong style=\"color:green\">(success).</strong>"
      ],
      "text/plain": [
       "<IPython.core.display.HTML object>"
      ]
     },
     "metadata": {},
     "output_type": "display_data"
    },
    {
     "data": {
      "text/html": [
       "<style>\n",
       "    table.wandb td:nth-child(1) { padding: 0 10px; text-align: left ; width: auto;} td:nth-child(2) {text-align: left ; width: 100%}\n",
       "    .wandb-row { display: flex; flex-direction: row; flex-wrap: wrap; justify-content: flex-start; width: 100% }\n",
       "    .wandb-col { display: flex; flex-direction: column; flex-basis: 100%; flex: 1; padding: 10px; }\n",
       "    </style>\n",
       "<div class=\"wandb-row\"><div class=\"wandb-col\"><h3>Run history:</h3><br/><table class=\"wandb\"><tr><td>Training Acc</td><td>▁▂▂▃▃▄▅▅▆▇▇███▇</td></tr><tr><td>Training Loss</td><td>█▇▆▆▅▄▄▃▂▁▂▁▁▁▁</td></tr><tr><td>Validation Acc</td><td>▃▁▁▁▆▃▅▆██▅▇▇▅█</td></tr><tr><td>Validation Loss</td><td>▇▇█▇▃█▅▆▁▂▄▁▁▄▃</td></tr></table><br/></div><div class=\"wandb-col\"><h3>Run summary:</h3><br/><table class=\"wandb\"><tr><td>Training Acc</td><td>0.91667</td></tr><tr><td>Training Loss</td><td>0.20712</td></tr><tr><td>Validation Acc</td><td>0.875</td></tr><tr><td>Validation Loss</td><td>0.44178</td></tr><tr><td>test_accuracy</td><td>0.73036</td></tr><tr><td>test_losss</td><td>0.54477</td></tr></table><br/></div></div>"
      ],
      "text/plain": [
       "<IPython.core.display.HTML object>"
      ]
     },
     "metadata": {},
     "output_type": "display_data"
    },
    {
     "data": {
      "text/html": [
       "Synced <strong style=\"color:#cdcd00\">genial-totem-262</strong>: <a href=\"https://wandb.ai/miraclelinzzz/Final-ensemble/runs/w9qgzcqk\" target=\"_blank\">https://wandb.ai/miraclelinzzz/Final-ensemble/runs/w9qgzcqk</a><br/>Synced 5 W&B file(s), 0 media file(s), 0 artifact file(s) and 0 other file(s)"
      ],
      "text/plain": [
       "<IPython.core.display.HTML object>"
      ]
     },
     "metadata": {},
     "output_type": "display_data"
    },
    {
     "data": {
      "text/html": [
       "Find logs at: <code>./wandb/run-20220818_033046-w9qgzcqk/logs</code>"
      ],
      "text/plain": [
       "<IPython.core.display.HTML object>"
      ]
     },
     "metadata": {},
     "output_type": "display_data"
    },
    {
     "name": "stdout",
     "output_type": "stream",
     "text": [
      "dr-0.4,arch-[256, 128],bs-16,seed-60,index-3,epoch-15\n"
     ]
    },
    {
     "data": {
      "text/html": [
       "Tracking run with wandb version 0.13.1"
      ],
      "text/plain": [
       "<IPython.core.display.HTML object>"
      ]
     },
     "metadata": {},
     "output_type": "display_data"
    },
    {
     "data": {
      "text/html": [
       "Run data is saved locally in <code>/home/jupyter/wandb/run-20220818_033202-3h5mm7nu</code>"
      ],
      "text/plain": [
       "<IPython.core.display.HTML object>"
      ]
     },
     "metadata": {},
     "output_type": "display_data"
    },
    {
     "data": {
      "text/html": [
       "Syncing run <strong><a href=\"https://wandb.ai/miraclelinzzz/Final-ensemble/runs/3h5mm7nu\" target=\"_blank\">happy-pond-263</a></strong> to <a href=\"https://wandb.ai/miraclelinzzz/Final-ensemble\" target=\"_blank\">Weights & Biases</a> (<a href=\"https://wandb.me/run\" target=\"_blank\">docs</a>)<br/>"
      ],
      "text/plain": [
       "<IPython.core.display.HTML object>"
      ]
     },
     "metadata": {},
     "output_type": "display_data"
    },
    {
     "data": {
      "text/html": [
       "Waiting for W&B process to finish... <strong style=\"color:green\">(success).</strong>"
      ],
      "text/plain": [
       "<IPython.core.display.HTML object>"
      ]
     },
     "metadata": {},
     "output_type": "display_data"
    },
    {
     "data": {
      "text/html": [
       "<style>\n",
       "    table.wandb td:nth-child(1) { padding: 0 10px; text-align: left ; width: auto;} td:nth-child(2) {text-align: left ; width: 100%}\n",
       "    .wandb-row { display: flex; flex-direction: row; flex-wrap: wrap; justify-content: flex-start; width: 100% }\n",
       "    .wandb-col { display: flex; flex-direction: column; flex-basis: 100%; flex: 1; padding: 10px; }\n",
       "    </style>\n",
       "<div class=\"wandb-row\"><div class=\"wandb-col\"><h3>Run history:</h3><br/><table class=\"wandb\"><tr><td>Training Acc</td><td>▁▂▃▃▄▆▆▆▇█▇████</td></tr><tr><td>Training Loss</td><td>██▇▆▆▄▄▃▂▂▂▁▁▁▁</td></tr><tr><td>Validation Acc</td><td>▄▄▂▃▄▆▄▄▅▅▁█▇▅▅</td></tr><tr><td>Validation Loss</td><td>▄▄▃▄▄▂▄▃▄▂█▁▂▄▄</td></tr></table><br/></div><div class=\"wandb-col\"><h3>Run summary:</h3><br/><table class=\"wandb\"><tr><td>Training Acc</td><td>0.98611</td></tr><tr><td>Training Loss</td><td>0.20559</td></tr><tr><td>Validation Acc</td><td>0.6875</td></tr><tr><td>Validation Loss</td><td>0.69436</td></tr><tr><td>test_accuracy</td><td>0.80893</td></tr><tr><td>test_losss</td><td>0.43528</td></tr></table><br/></div></div>"
      ],
      "text/plain": [
       "<IPython.core.display.HTML object>"
      ]
     },
     "metadata": {},
     "output_type": "display_data"
    },
    {
     "data": {
      "text/html": [
       "Synced <strong style=\"color:#cdcd00\">happy-pond-263</strong>: <a href=\"https://wandb.ai/miraclelinzzz/Final-ensemble/runs/3h5mm7nu\" target=\"_blank\">https://wandb.ai/miraclelinzzz/Final-ensemble/runs/3h5mm7nu</a><br/>Synced 5 W&B file(s), 0 media file(s), 0 artifact file(s) and 0 other file(s)"
      ],
      "text/plain": [
       "<IPython.core.display.HTML object>"
      ]
     },
     "metadata": {},
     "output_type": "display_data"
    },
    {
     "data": {
      "text/html": [
       "Find logs at: <code>./wandb/run-20220818_033202-3h5mm7nu/logs</code>"
      ],
      "text/plain": [
       "<IPython.core.display.HTML object>"
      ]
     },
     "metadata": {},
     "output_type": "display_data"
    },
    {
     "name": "stdout",
     "output_type": "stream",
     "text": [
      "dr-0.5,arch-[512, 256],bs-16,seed-60,index-1,epoch-15\n"
     ]
    },
    {
     "data": {
      "text/html": [
       "Tracking run with wandb version 0.13.1"
      ],
      "text/plain": [
       "<IPython.core.display.HTML object>"
      ]
     },
     "metadata": {},
     "output_type": "display_data"
    },
    {
     "data": {
      "text/html": [
       "Run data is saved locally in <code>/home/jupyter/wandb/run-20220818_033316-1p5zgcwb</code>"
      ],
      "text/plain": [
       "<IPython.core.display.HTML object>"
      ]
     },
     "metadata": {},
     "output_type": "display_data"
    },
    {
     "data": {
      "text/html": [
       "Syncing run <strong><a href=\"https://wandb.ai/miraclelinzzz/Final-ensemble/runs/1p5zgcwb\" target=\"_blank\">lilac-planet-264</a></strong> to <a href=\"https://wandb.ai/miraclelinzzz/Final-ensemble\" target=\"_blank\">Weights & Biases</a> (<a href=\"https://wandb.me/run\" target=\"_blank\">docs</a>)<br/>"
      ],
      "text/plain": [
       "<IPython.core.display.HTML object>"
      ]
     },
     "metadata": {},
     "output_type": "display_data"
    },
    {
     "data": {
      "text/html": [
       "Waiting for W&B process to finish... <strong style=\"color:green\">(success).</strong>"
      ],
      "text/plain": [
       "<IPython.core.display.HTML object>"
      ]
     },
     "metadata": {},
     "output_type": "display_data"
    },
    {
     "data": {
      "text/html": [
       "<style>\n",
       "    table.wandb td:nth-child(1) { padding: 0 10px; text-align: left ; width: auto;} td:nth-child(2) {text-align: left ; width: 100%}\n",
       "    .wandb-row { display: flex; flex-direction: row; flex-wrap: wrap; justify-content: flex-start; width: 100% }\n",
       "    .wandb-col { display: flex; flex-direction: column; flex-basis: 100%; flex: 1; padding: 10px; }\n",
       "    </style>\n",
       "<div class=\"wandb-row\"><div class=\"wandb-col\"><h3>Run history:</h3><br/><table class=\"wandb\"><tr><td>Training Acc</td><td>▁▂▃▄▅▆▅▇▇██████</td></tr><tr><td>Training Loss</td><td>█▇▇▅▅▅▄▃▂▂▁▁▁▁▁</td></tr><tr><td>Validation Acc</td><td>▃▃▅▁▅▂█▆█▆▆▆▅▃▆</td></tr><tr><td>Validation Loss</td><td>▄▄▃▆▂█▁▄▁▇█▇▇▇▅</td></tr></table><br/></div><div class=\"wandb-col\"><h3>Run summary:</h3><br/><table class=\"wandb\"><tr><td>Training Acc</td><td>1.0</td></tr><tr><td>Training Loss</td><td>0.10708</td></tr><tr><td>Validation Acc</td><td>0.64583</td></tr><tr><td>Validation Loss</td><td>0.76956</td></tr><tr><td>test_accuracy</td><td>0.83393</td></tr><tr><td>test_losss</td><td>0.37422</td></tr></table><br/></div></div>"
      ],
      "text/plain": [
       "<IPython.core.display.HTML object>"
      ]
     },
     "metadata": {},
     "output_type": "display_data"
    },
    {
     "data": {
      "text/html": [
       "Synced <strong style=\"color:#cdcd00\">lilac-planet-264</strong>: <a href=\"https://wandb.ai/miraclelinzzz/Final-ensemble/runs/1p5zgcwb\" target=\"_blank\">https://wandb.ai/miraclelinzzz/Final-ensemble/runs/1p5zgcwb</a><br/>Synced 5 W&B file(s), 0 media file(s), 0 artifact file(s) and 0 other file(s)"
      ],
      "text/plain": [
       "<IPython.core.display.HTML object>"
      ]
     },
     "metadata": {},
     "output_type": "display_data"
    },
    {
     "data": {
      "text/html": [
       "Find logs at: <code>./wandb/run-20220818_033316-1p5zgcwb/logs</code>"
      ],
      "text/plain": [
       "<IPython.core.display.HTML object>"
      ]
     },
     "metadata": {},
     "output_type": "display_data"
    },
    {
     "name": "stdout",
     "output_type": "stream",
     "text": [
      "dr-0.5,arch-[512, 256],bs-16,seed-60,index-2,epoch-15\n"
     ]
    },
    {
     "data": {
      "text/html": [
       "Tracking run with wandb version 0.13.1"
      ],
      "text/plain": [
       "<IPython.core.display.HTML object>"
      ]
     },
     "metadata": {},
     "output_type": "display_data"
    },
    {
     "data": {
      "text/html": [
       "Run data is saved locally in <code>/home/jupyter/wandb/run-20220818_033432-3j2puw4f</code>"
      ],
      "text/plain": [
       "<IPython.core.display.HTML object>"
      ]
     },
     "metadata": {},
     "output_type": "display_data"
    },
    {
     "data": {
      "text/html": [
       "Syncing run <strong><a href=\"https://wandb.ai/miraclelinzzz/Final-ensemble/runs/3j2puw4f\" target=\"_blank\">misunderstood-galaxy-265</a></strong> to <a href=\"https://wandb.ai/miraclelinzzz/Final-ensemble\" target=\"_blank\">Weights & Biases</a> (<a href=\"https://wandb.me/run\" target=\"_blank\">docs</a>)<br/>"
      ],
      "text/plain": [
       "<IPython.core.display.HTML object>"
      ]
     },
     "metadata": {},
     "output_type": "display_data"
    },
    {
     "data": {
      "text/html": [
       "Waiting for W&B process to finish... <strong style=\"color:green\">(success).</strong>"
      ],
      "text/plain": [
       "<IPython.core.display.HTML object>"
      ]
     },
     "metadata": {},
     "output_type": "display_data"
    },
    {
     "data": {
      "text/html": [
       "<style>\n",
       "    table.wandb td:nth-child(1) { padding: 0 10px; text-align: left ; width: auto;} td:nth-child(2) {text-align: left ; width: 100%}\n",
       "    .wandb-row { display: flex; flex-direction: row; flex-wrap: wrap; justify-content: flex-start; width: 100% }\n",
       "    .wandb-col { display: flex; flex-direction: column; flex-basis: 100%; flex: 1; padding: 10px; }\n",
       "    </style>\n",
       "<div class=\"wandb-row\"><div class=\"wandb-col\"><h3>Run history:</h3><br/><table class=\"wandb\"><tr><td>Training Acc</td><td>▂▁▄▃▅▆▆█▇██████</td></tr><tr><td>Training Loss</td><td>██▇▇▅▅▄▃▃▂▂▁▁▁▁</td></tr><tr><td>Validation Acc</td><td>▃▁▃▄▅▇▆█▅▇▅▆███</td></tr><tr><td>Validation Loss</td><td>██▆▇▅▄▅▁█▅▅▄▂▂▂</td></tr></table><br/></div><div class=\"wandb-col\"><h3>Run summary:</h3><br/><table class=\"wandb\"><tr><td>Training Acc</td><td>1.0</td></tr><tr><td>Training Loss</td><td>0.09671</td></tr><tr><td>Validation Acc</td><td>0.85417</td></tr><tr><td>Validation Loss</td><td>0.37145</td></tr><tr><td>test_accuracy</td><td>0.75536</td></tr><tr><td>test_losss</td><td>0.48143</td></tr></table><br/></div></div>"
      ],
      "text/plain": [
       "<IPython.core.display.HTML object>"
      ]
     },
     "metadata": {},
     "output_type": "display_data"
    },
    {
     "data": {
      "text/html": [
       "Synced <strong style=\"color:#cdcd00\">misunderstood-galaxy-265</strong>: <a href=\"https://wandb.ai/miraclelinzzz/Final-ensemble/runs/3j2puw4f\" target=\"_blank\">https://wandb.ai/miraclelinzzz/Final-ensemble/runs/3j2puw4f</a><br/>Synced 5 W&B file(s), 0 media file(s), 0 artifact file(s) and 0 other file(s)"
      ],
      "text/plain": [
       "<IPython.core.display.HTML object>"
      ]
     },
     "metadata": {},
     "output_type": "display_data"
    },
    {
     "data": {
      "text/html": [
       "Find logs at: <code>./wandb/run-20220818_033432-3j2puw4f/logs</code>"
      ],
      "text/plain": [
       "<IPython.core.display.HTML object>"
      ]
     },
     "metadata": {},
     "output_type": "display_data"
    },
    {
     "name": "stdout",
     "output_type": "stream",
     "text": [
      "dr-0.5,arch-[512, 256],bs-16,seed-60,index-3,epoch-15\n"
     ]
    },
    {
     "data": {
      "text/html": [
       "Tracking run with wandb version 0.13.1"
      ],
      "text/plain": [
       "<IPython.core.display.HTML object>"
      ]
     },
     "metadata": {},
     "output_type": "display_data"
    },
    {
     "data": {
      "text/html": [
       "Run data is saved locally in <code>/home/jupyter/wandb/run-20220818_033547-2rsw87k1</code>"
      ],
      "text/plain": [
       "<IPython.core.display.HTML object>"
      ]
     },
     "metadata": {},
     "output_type": "display_data"
    },
    {
     "data": {
      "text/html": [
       "Syncing run <strong><a href=\"https://wandb.ai/miraclelinzzz/Final-ensemble/runs/2rsw87k1\" target=\"_blank\">deep-monkey-266</a></strong> to <a href=\"https://wandb.ai/miraclelinzzz/Final-ensemble\" target=\"_blank\">Weights & Biases</a> (<a href=\"https://wandb.me/run\" target=\"_blank\">docs</a>)<br/>"
      ],
      "text/plain": [
       "<IPython.core.display.HTML object>"
      ]
     },
     "metadata": {},
     "output_type": "display_data"
    },
    {
     "data": {
      "text/html": [
       "Waiting for W&B process to finish... <strong style=\"color:green\">(success).</strong>"
      ],
      "text/plain": [
       "<IPython.core.display.HTML object>"
      ]
     },
     "metadata": {},
     "output_type": "display_data"
    },
    {
     "data": {
      "text/html": [
       "<style>\n",
       "    table.wandb td:nth-child(1) { padding: 0 10px; text-align: left ; width: auto;} td:nth-child(2) {text-align: left ; width: 100%}\n",
       "    .wandb-row { display: flex; flex-direction: row; flex-wrap: wrap; justify-content: flex-start; width: 100% }\n",
       "    .wandb-col { display: flex; flex-direction: column; flex-basis: 100%; flex: 1; padding: 10px; }\n",
       "    </style>\n",
       "<div class=\"wandb-row\"><div class=\"wandb-col\"><h3>Run history:</h3><br/><table class=\"wandb\"><tr><td>Training Acc</td><td>▁▁▁▄▄▄▇▇█▇█████</td></tr><tr><td>Training Loss</td><td>██▇▆▆▅▄▃▂▂▂▁▁▁▁</td></tr><tr><td>Validation Acc</td><td>▁▁▄▃▄▇▇▇▇▆█▅▅▇▇</td></tr><tr><td>Validation Loss</td><td>███▅▇▄▂▄▂▅▁▆█▁▂</td></tr></table><br/></div><div class=\"wandb-col\"><h3>Run summary:</h3><br/><table class=\"wandb\"><tr><td>Training Acc</td><td>1.0</td></tr><tr><td>Training Loss</td><td>0.12659</td></tr><tr><td>Validation Acc</td><td>0.85417</td></tr><tr><td>Validation Loss</td><td>0.3976</td></tr><tr><td>test_accuracy</td><td>0.82143</td></tr><tr><td>test_losss</td><td>0.48243</td></tr></table><br/></div></div>"
      ],
      "text/plain": [
       "<IPython.core.display.HTML object>"
      ]
     },
     "metadata": {},
     "output_type": "display_data"
    },
    {
     "data": {
      "text/html": [
       "Synced <strong style=\"color:#cdcd00\">deep-monkey-266</strong>: <a href=\"https://wandb.ai/miraclelinzzz/Final-ensemble/runs/2rsw87k1\" target=\"_blank\">https://wandb.ai/miraclelinzzz/Final-ensemble/runs/2rsw87k1</a><br/>Synced 5 W&B file(s), 0 media file(s), 0 artifact file(s) and 0 other file(s)"
      ],
      "text/plain": [
       "<IPython.core.display.HTML object>"
      ]
     },
     "metadata": {},
     "output_type": "display_data"
    },
    {
     "data": {
      "text/html": [
       "Find logs at: <code>./wandb/run-20220818_033547-2rsw87k1/logs</code>"
      ],
      "text/plain": [
       "<IPython.core.display.HTML object>"
      ]
     },
     "metadata": {},
     "output_type": "display_data"
    },
    {
     "name": "stdout",
     "output_type": "stream",
     "text": [
      "dr-0.3,arch-[256, 64, 128],bs-16,seed-60,index-1,epoch-15\n"
     ]
    }
   ],
   "source": [
    "for seed in range(0,100,10):\n",
    "    set_seed(seed)    # Set seed for reproducibility\n",
    "    seed = seed\n",
    "    for i in range(len(archs)):\n",
    "        index = 1\n",
    "        train_and_val_splits = get_several_validation_set(train_texts, train_labels, total_splits=3, seed=seed)\n",
    "        for train_index, val_index in train_and_val_splits:\n",
    "            print(\"dr-{},arch-{},bs-{},seed-{},index-{},epoch-{}\".format(dropout[i],archs[i],batch_size[i],seed,index,epochs))\n",
    "            wandb.init(project=\"Final-ensemble\", entity=\"miraclelinzzz\")\n",
    "\n",
    "            train_encodings = tokenizer(list(train_texts[train_index]), truncation=True, padding=True)\n",
    "            val_encodings = tokenizer(list(train_texts[val_index]), truncation=True, padding=True)\n",
    "\n",
    "            train_dataset = ADdataset(train_encodings, train_labels[train_index])\n",
    "            val_dataset = ADdataset(val_encodings, train_labels[val_index])\n",
    "\n",
    "            train_loader = DataLoader(train_dataset, batch_size=batch_size[i], shuffle=True)\n",
    "            val_loader = DataLoader(val_dataset, batch_size=batch_size[i], shuffle=True)\n",
    "\n",
    "            test_encodings = tokenizer(test_texts, truncation=True, padding=True)\n",
    "            test_dataset = ADdataset(test_encodings, test_labels)\n",
    "            test_loader = DataLoader(test_dataset, batch_size=batch_size[i], shuffle=False)\n",
    "\n",
    "            wandb.run.name = \"dr-{},arch-{},bs-{},seed-{},index-{},epoch-{}\".format(dropout[i],archs[i],batch_size[i],seed,index,epochs)\n",
    "            bert_classifier, optimizer, scheduler = initialize_model(archs[i],dropout[i],train_loader,epochs)\n",
    "            \n",
    "            for epoch in range(epochs):\n",
    "                model, train_loss,train_acc,val_loss,val_acc = train_epoch(bert_classifier, train_loader,val_loader, optimizer,scheduler)\n",
    "                #wandb.log({\"loss\": avg_loss, \"epoch\": epoch})  \n",
    "                wandb.log({\"Training Loss\": train_loss,\"Training Acc\": train_acc,\"Validation Loss\": val_loss,\"Validation Acc\": val_acc})\n",
    "\n",
    "            test_loss, test_accuracy, predictions, labels_l = evaluate_test(model, test_loader)\n",
    "            wandb.summary['test_losss'] = test_loss\n",
    "            wandb.summary['test_accuracy'] = test_accuracy\n",
    "            if test_accuracy < 0.8:\n",
    "                torch.save(bert_classifier, \"weights_low/dr-{}_arch-{}_bs-{}_seed-{}_index-{}_epoch-{}.pt\".format(dropout[i],archs[i],batch_size[i],seed,index,epochs))\n",
    "            else:\n",
    "                torch.save(bert_classifier, \"weights/dr-{}_arch-{}_bs-{}_seed-{}_index-{}_epoch-{}.pt\".format(dropout[i],archs[i],batch_size[i],seed,index,epochs))\n",
    "            index += 1\n",
    "            wandb.finish()\n",
    "            gc.collect()"
   ]
  },
  {
   "cell_type": "code",
   "execution_count": null,
   "id": "238020fa-0b93-42a9-93b7-d2e1d0d66327",
   "metadata": {},
   "outputs": [],
   "source": []
  }
 ],
 "metadata": {
  "kernelspec": {
   "display_name": "Pytorch (Local)",
   "language": "python",
   "name": "local-pytorch"
  },
  "language_info": {
   "codemirror_mode": {
    "name": "ipython",
    "version": 3
   },
   "file_extension": ".py",
   "mimetype": "text/x-python",
   "name": "python",
   "nbconvert_exporter": "python",
   "pygments_lexer": "ipython3",
   "version": "3.7.12"
  }
 },
 "nbformat": 4,
 "nbformat_minor": 5
}
